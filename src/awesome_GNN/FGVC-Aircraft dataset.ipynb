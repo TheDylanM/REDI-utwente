{
 "cells": [
  {
   "cell_type": "code",
   "execution_count": 30,
   "id": "5536294a",
   "metadata": {},
   "outputs": [],
   "source": [
    "import torch\n",
    "from torch.utils.data import Dataset\n",
    "from torchvision import datasets\n",
    "from torchvision.transforms import ToTensor\n",
    "import matplotlib.pyplot as plt\n",
    "import scipy.io\n",
    "import numpy as np\n",
    "import os\n",
    "import shutil\n",
    "from tqdm import tqdm\n",
    "from PIL import Image"
   ]
  },
  {
   "cell_type": "code",
   "execution_count": 31,
   "id": "9e1dd170",
   "metadata": {},
   "outputs": [],
   "source": [
    "%matplotlib inline"
   ]
  },
  {
   "cell_type": "markdown",
   "id": "acd2a79e",
   "metadata": {},
   "source": [
    "### Paths\n",
    "To use this notebooks correctly adjust the paths below to your corresponding directories:\n",
    "\n",
    "from `https://www.robots.ox.ac.uk/~vgg/data/fgvc-aircraft/` download the:\n",
    "- <b>data</b> (includes all training, testing and validation images)\n",
    "- <b>annotations</b> (annotations for the data)\n",
    "\n",
    "File structure you need to create must look like: \n",
    "```\n",
    "data\n",
    "│   \n",
    "└───FGVC-Aircraft\n",
    "    │\n",
    "    └───fgvc-aircraft-2013b\n",
    "    │   \n",
    "    └───fgvc-aircraft-2013b-annotations\n",
    "    \n",
    "```"
   ]
  },
  {
   "cell_type": "code",
   "execution_count": 32,
   "id": "cef8262a",
   "metadata": {},
   "outputs": [],
   "source": [
    "global_path = '../../data/FGVC-Aircraft'\n",
    "dataset_path = global_path+'/fgvc-aircraft-2013b'\n",
    "annotations_path = global_path+'/fgvc-aircraft-2013b-annotations'"
   ]
  },
  {
   "cell_type": "code",
   "execution_count": 33,
   "id": "f70ca52b",
   "metadata": {},
   "outputs": [],
   "source": [
    "imgs_train_fnames_path = dataset_path+'/data/images_train.txt'\n",
    "imgs_test_fnames_path = dataset_path+'/data/images_test.txt'\n",
    "imgs_val_fnames_path = dataset_path+'/data/images_val.txt'\n",
    "\n",
    "imgs_path = dataset_path+'/data/images'"
   ]
  },
  {
   "cell_type": "code",
   "execution_count": 34,
   "id": "dea7c7d0",
   "metadata": {},
   "outputs": [],
   "source": [
    "training_fnames = []\n",
    "testing_fnames = []\n",
    "validation_fnames = []\n",
    "\n",
    "# Loading training image file_names\n",
    "with open(imgs_train_fnames_path, 'r') as data_file:\n",
    "    for line in data_file:\n",
    "        training_fnames.append(line.split('\\n')[0])\n",
    "\n",
    "# Loading testing image file_names        \n",
    "with open(imgs_test_fnames_path, 'r') as data_file:\n",
    "    for line in data_file:\n",
    "        testing_fnames.append(line.split('\\n')[0])\n",
    "    \n",
    "# Loading validation image file_names        \n",
    "with open(imgs_val_fnames_path, 'r') as data_file:\n",
    "    for line in data_file:\n",
    "        validation_fnames.append(line.split('\\n')[0])"
   ]
  },
  {
   "cell_type": "code",
   "execution_count": 35,
   "id": "686d0b31",
   "metadata": {
    "scrolled": true
   },
   "outputs": [
    {
     "name": "stdout",
     "output_type": "stream",
     "text": [
      "[Training imgs names] 1025794 3334\n",
      "[Testing imgs names] 1514522 3333\n",
      "[Validations img names] 0481847 3333\n"
     ]
    }
   ],
   "source": [
    "print(\"[Training imgs names]\", training_fnames[0], len(training_fnames))\n",
    "print(\"[Testing imgs names]\", testing_fnames[0], len(testing_fnames))\n",
    "print(\"[Validations img names]\", validation_fnames[0], len(validation_fnames))"
   ]
  },
  {
   "cell_type": "code",
   "execution_count": 36,
   "id": "826e8ef6",
   "metadata": {},
   "outputs": [
    {
     "data": {
      "text/plain": [
       "('1376762', 10000)"
      ]
     },
     "execution_count": 36,
     "metadata": {},
     "output_type": "execute_result"
    }
   ],
   "source": [
    "imgs_names = [name[:-4] for name in os.listdir(imgs_path)] # Cuts off the extension '.jpg'\n",
    "imgs_names[0], len(imgs_names)"
   ]
  },
  {
   "cell_type": "code",
   "execution_count": 37,
   "id": "c000eec5",
   "metadata": {},
   "outputs": [],
   "source": [
    "# labels_map = {'train': {}, 'test': {}, 'val': {}}\n",
    "labels_map = {}\n",
    "stage_paths = [(annotations_path+'/data/images_manufacturer_train.txt', 'train'),\n",
    "               (annotations_path+'/data/images_manufacturer_test.txt', 'test'),\n",
    "               (annotations_path+'/data/images_manufacturer_val.txt', 'val')]\n",
    "\n",
    "# Loading alle image file_names with their classes\n",
    "for path, stage in stage_paths:\n",
    "    with open(path, 'r') as data_file:\n",
    "        for line in data_file:\n",
    "            x = line.split('\\n')[0]\n",
    "            fname = x[:7]\n",
    "            class_ = x[8::]\n",
    "            labels_map[fname] = class_\n",
    "\n",
    "labels = np.asarray(list(labels_map.values()))\n",
    "classes, distribution = np.unique(labels, return_counts=True)"
   ]
  },
  {
   "cell_type": "code",
   "execution_count": 38,
   "id": "0796dda1",
   "metadata": {},
   "outputs": [],
   "source": [
    "# Create structure for loading into PyTorch Dataset model\n",
    "folder_name = 'pytorch_structured_dataset'\n",
    "folder_path = os.path.join(global_path, folder_name)\n",
    "def mkdir_if_not_exists(dirpath):\n",
    "    if not os.path.exists(dirpath):\n",
    "        os.mkdir(dirpath)\n",
    "\n",
    "mkdir_if_not_exists(folder_path)\n",
    "for subfolder_name in ['train', 'val']:\n",
    "    subfolder_path = os.path.join(folder_path, subfolder_name)\n",
    "    mkdir_if_not_exists(subfolder_path)\n",
    "    for class_ in classes:\n",
    "        mkdir_if_not_exists(os.path.join(subfolder_path, class_))"
   ]
  },
  {
   "cell_type": "code",
   "execution_count": 39,
   "id": "f25304c7",
   "metadata": {},
   "outputs": [
    {
     "name": "stderr",
     "output_type": "stream",
     "text": [
      "100%|█████████████████████████████████████| 3334/3334 [00:01<00:00, 1759.93it/s]\n",
      "100%|█████████████████████████████████████| 3333/3333 [00:01<00:00, 1835.96it/s]\n"
     ]
    }
   ],
   "source": [
    "# Copy all training and testing images into pytorch structure\n",
    "for file_names, stage in [[training_fnames, 'train'], [testing_fnames, 'val']]:\n",
    "    for file_name in tqdm(file_names):\n",
    "        file_path = imgs_path+'/'+str(file_name)+'.jpg'\n",
    "        class_ = labels_map.get(file_name)\n",
    "        src = imgs_path+'/'+str(file_name)+'.jpg'\n",
    "        dst = os.path.join(global_path, folder_name, stage, class_, file_name+'.jpg')\n",
    "        shutil.copyfile(src, dst)"
   ]
  },
  {
   "cell_type": "code",
   "execution_count": 40,
   "id": "d72a7d96",
   "metadata": {},
   "outputs": [],
   "source": [
    "# training_labels"
   ]
  },
  {
   "cell_type": "code",
   "execution_count": 62,
   "id": "6fd2f3b8",
   "metadata": {},
   "outputs": [
    {
     "data": {
      "text/plain": [
       "<BarContainer object of 30 artists>"
      ]
     },
     "execution_count": 62,
     "metadata": {},
     "output_type": "execute_result"
    },
    {
     "data": {
      "image/png": "[encoded data removed]",
      "text/plain": [
       "<Figure size 1080x450 with 1 Axes>"
      ]
     },
     "metadata": {
      "needs_background": "light"
     },
     "output_type": "display_data"
    }
   ],
   "source": [
    "plt.figure(figsize=(12,5), dpi=90)\n",
    "plt.xticks(rotation=30)\n",
    "\n",
    "plt.bar(classes, distribution)\n"
   ]
  },
  {
   "cell_type": "code",
   "execution_count": 42,
   "id": "aa19031d",
   "metadata": {},
   "outputs": [
    {
     "data": {
      "text/plain": [
       "(array(['ATR', 'Airbus', 'Antonov', 'Beechcraft', 'Boeing',\n",
       "        'Bombardier Aerospace', 'British Aerospace', 'Canadair', 'Cessna',\n",
       "        'Cirrus Aircraft', 'Dassault Aviation', 'Dornier',\n",
       "        'Douglas Aircraft Company', 'Embraer', 'Eurofighter', 'Fairchild',\n",
       "        'Fokker', 'Gulfstream Aerospace', 'Ilyushin',\n",
       "        'Lockheed Corporation', 'Lockheed Martin', 'McDonnell Douglas',\n",
       "        'Panavia', 'Piper', 'Robin', 'Saab', 'Supermarine', 'Tupolev',\n",
       "        'Yakovlev', 'de Havilland'], dtype='<U24'),\n",
       " array([ 200, 1300,  100,  200, 2200,  100,  400,  400,  400,  100,  200,\n",
       "         100,  400,  700,  100,  100,  300,  200,  100,  200,  100,  700,\n",
       "         100,  100,  100,  200,  100,  200,  100,  500]))"
      ]
     },
     "execution_count": 42,
     "metadata": {},
     "output_type": "execute_result"
    }
   ],
   "source": [
    "classes, distribution"
   ]
  },
  {
   "cell_type": "code",
   "execution_count": null,
   "id": "7517932f",
   "metadata": {},
   "outputs": [],
   "source": []
  }
 ],
 "metadata": {
  "kernelspec": {
   "display_name": "Python 3 (ipykernel)",
   "language": "python",
   "name": "python3"
  },
  "language_info": {
   "codemirror_mode": {
    "name": "ipython",
    "version": 3
   },
   "file_extension": ".py",
   "mimetype": "text/x-python",
   "name": "python",
   "nbconvert_exporter": "python",
   "pygments_lexer": "ipython3",
   "version": "3.9.12"
  }
 },
 "nbformat": 4,
 "nbformat_minor": 5
}
