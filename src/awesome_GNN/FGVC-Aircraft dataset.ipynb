{
 "cells": [
  {
   "cell_type": "code",
   "execution_count": 4,
   "id": "5536294a",
   "metadata": {},
   "outputs": [],
   "source": [
    "import torch\n",
    "from torch.utils.data import Dataset\n",
    "from torchvision import datasets\n",
    "from torchvision.transforms import ToTensor\n",
    "import matplotlib.pyplot as plt\n",
    "import scipy.io\n",
    "import numpy as np\n",
    "import os\n",
    "import shutil\n",
    "from tqdm import tqdm"
   ]
  },
  {
   "cell_type": "markdown",
   "id": "acd2a79e",
   "metadata": {},
   "source": [
    "### Paths"
   ]
  },
  {
   "cell_type": "code",
   "execution_count": 18,
   "id": "cef8262a",
   "metadata": {},
   "outputs": [],
   "source": [
    "global_path = '../../data/FGVC-Aircraft'\n",
    "dataset_path = global_path+'/fgvc-aircraft-2013b'\n",
    "annotations_path = global_path+'/fgvc-aircraft-2013b-annotations'"
   ]
  },
  {
   "cell_type": "code",
   "execution_count": 47,
   "id": "f70ca52b",
   "metadata": {},
   "outputs": [],
   "source": [
    "imgs_train_labels_path = dataset_path+'/data/images_train.txt'\n",
    "imgs_test_labels_path = dataset_path+'/data/images_test.txt'\n",
    "imgs_val_labels_path = dataset_path+'/data/images_val.txt'\n",
    "\n",
    "imgs_path = dataset_path+'/data/images'"
   ]
  },
  {
   "cell_type": "code",
   "execution_count": 51,
   "id": "dea7c7d0",
   "metadata": {},
   "outputs": [],
   "source": [
    "training_labels = []\n",
    "testing_labels = []\n",
    "validation_labels = []\n",
    "\n",
    "# Loading training labels\n",
    "with open(imgs_train_labels_path, 'r') as data_file:\n",
    "    for line in data_file:\n",
    "        training_labels.append(line.split('\\n')[0])\n",
    "\n",
    "# Loading testing labels        \n",
    "with open(imgs_test_labels_path, 'r') as data_file:\n",
    "    for line in data_file:\n",
    "        testing_labels.append(line.split('\\n')[0])\n",
    "    \n",
    "# Loading validation labels        \n",
    "with open(imgs_val_labels_path, 'r') as data_file:\n",
    "    for line in data_file:\n",
    "        validation_labels.append(line.split('\\n')[0])"
   ]
  },
  {
   "cell_type": "code",
   "execution_count": 52,
   "id": "686d0b31",
   "metadata": {
    "scrolled": true
   },
   "outputs": [
    {
     "name": "stdout",
     "output_type": "stream",
     "text": [
      "[Training labels] 1025794 3334\n",
      "[Testing labels] 1514522 3333\n",
      "[Validations labels] 0481847 3333\n"
     ]
    }
   ],
   "source": [
    "print(\"[Training labels]\", training_labels[0], len(training_labels))\n",
    "print(\"[Testing labels]\", testing_labels[0], len(testing_labels))\n",
    "print(\"[Validations labels]\", validation_labels[0], len(validation_labels))"
   ]
  },
  {
   "cell_type": "code",
   "execution_count": 53,
   "id": "826e8ef6",
   "metadata": {},
   "outputs": [
    {
     "data": {
      "text/plain": [
       "('1376762', 10000)"
      ]
     },
     "execution_count": 53,
     "metadata": {},
     "output_type": "execute_result"
    }
   ],
   "source": [
    "imgs_names = [name[:-4] for name in os.listdir(imgs_path)] # Cuts off the extension '.jpg'\n",
    "imgs_names[0], len(imgs_names)"
   ]
  },
  {
   "cell_type": "code",
   "execution_count": null,
   "id": "a56ed84e",
   "metadata": {},
   "outputs": [],
   "source": []
  }
 ],
 "metadata": {
  "kernelspec": {
   "display_name": "Python 3 (ipykernel)",
   "language": "python",
   "name": "python3"
  },
  "language_info": {
   "codemirror_mode": {
    "name": "ipython",
    "version": 3
   },
   "file_extension": ".py",
   "mimetype": "text/x-python",
   "name": "python",
   "nbconvert_exporter": "python",
   "pygments_lexer": "ipython3",
   "version": "3.9.12"
  }
 },
 "nbformat": 4,
 "nbformat_minor": 5
}
