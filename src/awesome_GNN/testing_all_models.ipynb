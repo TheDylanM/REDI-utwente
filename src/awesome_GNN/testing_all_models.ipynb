{
 "cells": [
  {
   "cell_type": "markdown",
   "source": [
    "# Testing setup for all models"
   ],
   "metadata": {
    "collapsed": false,
    "pycharm": {
     "name": "#%% md\n"
    }
   }
  },
  {
   "cell_type": "code",
   "execution_count": 1,
   "outputs": [],
   "source": [
    "import torch\n",
    "import os\n",
    "import numpy as np\n",
    "import pandas as pd\n",
    "import finetune\n",
    "import importlib\n",
    "from tqdm import tqdm\n",
    "import matplotlib.pyplot as plt"
   ],
   "metadata": {
    "collapsed": false,
    "pycharm": {
     "name": "#%%\n"
    }
   }
  },
  {
   "cell_type": "code",
   "execution_count": 2,
   "outputs": [
    {
     "data": {
      "text/plain": "<module 'finetune' from '/home/matteo/Documents/Studie/Master/2021-2022/REDI/Project/REDI-utwente/src/awesome_GNN/finetune.py'>"
     },
     "execution_count": 2,
     "metadata": {},
     "output_type": "execute_result"
    }
   ],
   "source": [
    "importlib.reload(finetune)"
   ],
   "metadata": {
    "collapsed": false,
    "pycharm": {
     "name": "#%%\n"
    }
   }
  },
  {
   "cell_type": "code",
   "execution_count": 3,
   "outputs": [],
   "source": [
    "path_to_data = os.path.join('..', '..', 'data')\n",
    "path_to_models = os.path.join(path_to_data, 'finetuned_models')\n",
    "\n",
    "datasets = ['FGVC-Aircraft', 'StanfordCars']\n",
    "model_names = ['resnet', 'densenet', 'vgg']\n"
   ],
   "metadata": {
    "collapsed": false,
    "pycharm": {
     "name": "#%%\n"
    }
   }
  },
  {
   "cell_type": "code",
   "execution_count": 9,
   "outputs": [
    {
     "name": "stdout",
     "output_type": "stream",
     "text": [
      "name: resnet epochs: 10 occlusion: None dataset:   FGVC-Aircraft\n",
      "ResNet(\n",
      "  (conv1): Conv2d(3, 64, kernel_size=(7, 7), stride=(2, 2), padding=(3, 3), bias=False)\n",
      "  (bn1): BatchNorm2d(64, eps=1e-05, momentum=0.1, affine=True, track_running_stats=True)\n",
      "  (relu): ReLU(inplace=True)\n",
      "  (maxpool): MaxPool2d(kernel_size=3, stride=2, padding=1, dilation=1, ceil_mode=False)\n",
      "  (layer1): Sequential(\n",
      "    (0): BasicBlock(\n",
      "      (conv1): Conv2d(64, 64, kernel_size=(3, 3), stride=(1, 1), padding=(1, 1), bias=False)\n",
      "      (bn1): BatchNorm2d(64, eps=1e-05, momentum=0.1, affine=True, track_running_stats=True)\n",
      "      (relu): ReLU(inplace=True)\n",
      "      (conv2): Conv2d(64, 64, kernel_size=(3, 3), stride=(1, 1), padding=(1, 1), bias=False)\n",
      "      (bn2): BatchNorm2d(64, eps=1e-05, momentum=0.1, affine=True, track_running_stats=True)\n",
      "    )\n",
      "    (1): BasicBlock(\n",
      "      (conv1): Conv2d(64, 64, kernel_size=(3, 3), stride=(1, 1), padding=(1, 1), bias=False)\n",
      "      (bn1): BatchNorm2d(64, eps=1e-05, momentum=0.1, affine=True, track_running_stats=True)\n",
      "      (relu): ReLU(inplace=True)\n",
      "      (conv2): Conv2d(64, 64, kernel_size=(3, 3), stride=(1, 1), padding=(1, 1), bias=False)\n",
      "      (bn2): BatchNorm2d(64, eps=1e-05, momentum=0.1, affine=True, track_running_stats=True)\n",
      "    )\n",
      "  )\n",
      "  (layer2): Sequential(\n",
      "    (0): BasicBlock(\n",
      "      (conv1): Conv2d(64, 128, kernel_size=(3, 3), stride=(2, 2), padding=(1, 1), bias=False)\n",
      "      (bn1): BatchNorm2d(128, eps=1e-05, momentum=0.1, affine=True, track_running_stats=True)\n",
      "      (relu): ReLU(inplace=True)\n",
      "      (conv2): Conv2d(128, 128, kernel_size=(3, 3), stride=(1, 1), padding=(1, 1), bias=False)\n",
      "      (bn2): BatchNorm2d(128, eps=1e-05, momentum=0.1, affine=True, track_running_stats=True)\n",
      "      (downsample): Sequential(\n",
      "        (0): Conv2d(64, 128, kernel_size=(1, 1), stride=(2, 2), bias=False)\n",
      "        (1): BatchNorm2d(128, eps=1e-05, momentum=0.1, affine=True, track_running_stats=True)\n",
      "      )\n",
      "    )\n",
      "    (1): BasicBlock(\n",
      "      (conv1): Conv2d(128, 128, kernel_size=(3, 3), stride=(1, 1), padding=(1, 1), bias=False)\n",
      "      (bn1): BatchNorm2d(128, eps=1e-05, momentum=0.1, affine=True, track_running_stats=True)\n",
      "      (relu): ReLU(inplace=True)\n",
      "      (conv2): Conv2d(128, 128, kernel_size=(3, 3), stride=(1, 1), padding=(1, 1), bias=False)\n",
      "      (bn2): BatchNorm2d(128, eps=1e-05, momentum=0.1, affine=True, track_running_stats=True)\n",
      "    )\n",
      "  )\n",
      "  (layer3): Sequential(\n",
      "    (0): BasicBlock(\n",
      "      (conv1): Conv2d(128, 256, kernel_size=(3, 3), stride=(2, 2), padding=(1, 1), bias=False)\n",
      "      (bn1): BatchNorm2d(256, eps=1e-05, momentum=0.1, affine=True, track_running_stats=True)\n",
      "      (relu): ReLU(inplace=True)\n",
      "      (conv2): Conv2d(256, 256, kernel_size=(3, 3), stride=(1, 1), padding=(1, 1), bias=False)\n",
      "      (bn2): BatchNorm2d(256, eps=1e-05, momentum=0.1, affine=True, track_running_stats=True)\n",
      "      (downsample): Sequential(\n",
      "        (0): Conv2d(128, 256, kernel_size=(1, 1), stride=(2, 2), bias=False)\n",
      "        (1): BatchNorm2d(256, eps=1e-05, momentum=0.1, affine=True, track_running_stats=True)\n",
      "      )\n",
      "    )\n",
      "    (1): BasicBlock(\n",
      "      (conv1): Conv2d(256, 256, kernel_size=(3, 3), stride=(1, 1), padding=(1, 1), bias=False)\n",
      "      (bn1): BatchNorm2d(256, eps=1e-05, momentum=0.1, affine=True, track_running_stats=True)\n",
      "      (relu): ReLU(inplace=True)\n",
      "      (conv2): Conv2d(256, 256, kernel_size=(3, 3), stride=(1, 1), padding=(1, 1), bias=False)\n",
      "      (bn2): BatchNorm2d(256, eps=1e-05, momentum=0.1, affine=True, track_running_stats=True)\n",
      "    )\n",
      "  )\n",
      "  (layer4): Sequential(\n",
      "    (0): BasicBlock(\n",
      "      (conv1): Conv2d(256, 512, kernel_size=(3, 3), stride=(2, 2), padding=(1, 1), bias=False)\n",
      "      (bn1): BatchNorm2d(512, eps=1e-05, momentum=0.1, affine=True, track_running_stats=True)\n",
      "      (relu): ReLU(inplace=True)\n",
      "      (conv2): Conv2d(512, 512, kernel_size=(3, 3), stride=(1, 1), padding=(1, 1), bias=False)\n",
      "      (bn2): BatchNorm2d(512, eps=1e-05, momentum=0.1, affine=True, track_running_stats=True)\n",
      "      (downsample): Sequential(\n",
      "        (0): Conv2d(256, 512, kernel_size=(1, 1), stride=(2, 2), bias=False)\n",
      "        (1): BatchNorm2d(512, eps=1e-05, momentum=0.1, affine=True, track_running_stats=True)\n",
      "      )\n",
      "    )\n",
      "    (1): BasicBlock(\n",
      "      (conv1): Conv2d(512, 512, kernel_size=(3, 3), stride=(1, 1), padding=(1, 1), bias=False)\n",
      "      (bn1): BatchNorm2d(512, eps=1e-05, momentum=0.1, affine=True, track_running_stats=True)\n",
      "      (relu): ReLU(inplace=True)\n",
      "      (conv2): Conv2d(512, 512, kernel_size=(3, 3), stride=(1, 1), padding=(1, 1), bias=False)\n",
      "      (bn2): BatchNorm2d(512, eps=1e-05, momentum=0.1, affine=True, track_running_stats=True)\n",
      "    )\n",
      "  )\n",
      "  (avgpool): AdaptiveAvgPool2d(output_size=(1, 1))\n",
      "  (fc): Linear(in_features=512, out_features=100, bias=True)\n",
      ")\n",
      "[Conv2d(512, 512, kernel_size=(3, 3), stride=(1, 1), padding=(1, 1), bias=False)]\n"
     ]
    },
    {
     "name": "stderr",
     "output_type": "stream",
     "text": [
      "  0%|          | 0/417 [00:01<?, ?it/s]"
     ]
    },
    {
     "name": "stdout",
     "output_type": "stream",
     "text": [
      "An exception occurred in CAM with block: <class 'IndexError'>. Message: too many indices for tensor of dimension 1\n"
     ]
    },
    {
     "name": "stderr",
     "output_type": "stream",
     "text": [
      "\n"
     ]
    },
    {
     "ename": "ZeroDivisionError",
     "evalue": "division by zero",
     "output_type": "error",
     "traceback": [
      "\u001B[0;31m---------------------------------------------------------------------------\u001B[0m",
      "\u001B[0;31mZeroDivisionError\u001B[0m                         Traceback (most recent call last)",
      "Input \u001B[0;32mIn [9]\u001B[0m, in \u001B[0;36m<cell line: 7>\u001B[0;34m()\u001B[0m\n\u001B[1;32m     13\u001B[0m \u001B[38;5;28;01mfor\u001B[39;00m e \u001B[38;5;129;01min\u001B[39;00m \u001B[38;5;28mrange\u001B[39m(\u001B[38;5;241m10\u001B[39m, \u001B[38;5;241m110\u001B[39m, \u001B[38;5;241m10\u001B[39m):\n\u001B[1;32m     14\u001B[0m     load_path \u001B[38;5;241m=\u001B[39m finetune\u001B[38;5;241m.\u001B[39mformat_model_path(model_name, dataset, e)\n\u001B[0;32m---> 16\u001B[0m     metrics \u001B[38;5;241m=\u001B[39m \u001B[43mfinetune\u001B[49m\u001B[38;5;241;43m.\u001B[39;49m\u001B[43mtest_model\u001B[49m\u001B[43m(\u001B[49m\u001B[43mload_path\u001B[49m\u001B[43m,\u001B[49m\u001B[43m \u001B[49m\u001B[43m_verbose\u001B[49m\u001B[38;5;241;43m=\u001B[39;49m\u001B[38;5;28;43;01mTrue\u001B[39;49;00m\u001B[43m)\u001B[49m\n\u001B[1;32m     17\u001B[0m     \u001B[38;5;28;01mif\u001B[39;00m metrics \u001B[38;5;129;01mis\u001B[39;00m \u001B[38;5;129;01mnot\u001B[39;00m \u001B[38;5;28;01mNone\u001B[39;00m:\n\u001B[1;32m     18\u001B[0m         metrics[\u001B[38;5;124m'\u001B[39m\u001B[38;5;124mdataset\u001B[39m\u001B[38;5;124m'\u001B[39m] \u001B[38;5;241m=\u001B[39m dataset\n",
      "File \u001B[0;32m~/Documents/Studie/Master/2021-2022/REDI/Project/REDI-utwente/src/awesome_GNN/finetune.py:557\u001B[0m, in \u001B[0;36mtest_model\u001B[0;34m(path, _verbose)\u001B[0m\n\u001B[1;32m    555\u001B[0m         total_samples \u001B[38;5;241m+\u001B[39m\u001B[38;5;241m=\u001B[39m \u001B[38;5;28mlen\u001B[39m(labels)\n\u001B[1;32m    556\u001B[0m         \u001B[38;5;28mprint\u001B[39m(total_samples)\n\u001B[0;32m--> 557\u001B[0m gradcam_kurtosis \u001B[38;5;241m=\u001B[39m \u001B[43mgradcam_kurtosis\u001B[49m\u001B[43m \u001B[49m\u001B[38;5;241;43m/\u001B[39;49m\u001B[43m \u001B[49m\u001B[43mtotal_samples\u001B[49m\n\u001B[1;32m    558\u001B[0m gradcam_stddev \u001B[38;5;241m=\u001B[39m gradcam_stddev \u001B[38;5;241m/\u001B[39m total_samples\n\u001B[1;32m    560\u001B[0m \u001B[38;5;66;03m# Save these metrics, including the predicted and labels with it\u001B[39;00m\n",
      "\u001B[0;31mZeroDivisionError\u001B[0m: division by zero"
     ]
    }
   ],
   "source": [
    "importlib.reload(finetune)\n",
    "\n",
    "datasets = ['FGVC-Aircraft', 'StanfordCars']\n",
    "model_names = ['resnet', 'densenet', 'vgg']\n",
    "\n",
    "total_results = {}\n",
    "for dataset in datasets:\n",
    "    finetune.DATASET = dataset\n",
    "    for model_name in model_names:\n",
    "        finetune.CLASSIFIER_NAME = model_name\n",
    "        for occlusion in finetune.OCCLUSION_OPTIONS:\n",
    "            finetune.OCCLUSION_NAME = occlusion\n",
    "            for e in range(10, 110, 10):\n",
    "                load_path = finetune.format_model_path(model_name, dataset, e)\n",
    "\n",
    "                metrics = finetune.test_model(load_path, _verbose=True)\n",
    "                if metrics is not None:\n",
    "                    metrics['dataset'] = dataset\n",
    "                    metrics['epochs'] = e\n",
    "\n",
    "                    # This line is just for windows\n",
    "                    load_path = load_path.replace('\\\\', '/')\n",
    "                    file_name = load_path.split('/')[-1].replace('.pth', '')\n",
    "\n",
    "                    total_results[file_name] = metrics"
   ],
   "metadata": {
    "collapsed": false,
    "pycharm": {
     "name": "#%%\n"
    }
   }
  },
  {
   "cell_type": "code",
   "execution_count": 17,
   "outputs": [
    {
     "data": {
      "text/plain": "                                      accuracy  precision    recall        f1  \\\nresnet_FGVC-Aircraft_E10              0.516652   0.538411  0.516652  0.508763   \nresnet_FGVC-Aircraft_E20              0.568257   0.584642  0.568257  0.566928   \nresnet_FGVC-Aircraft_E30              0.585959   0.601168  0.585959  0.586160   \nresnet_FGVC-Aircraft_E40              0.583858   0.597343  0.583858  0.583122   \nresnet_FGVC-Aircraft_E50              0.590159   0.606507  0.590159  0.589527   \nresnet_FGVC-Aircraft_E10_occ0         0.374137   0.439642  0.374137  0.360742   \nresnet_FGVC-Aircraft_E20_occ0         0.459946   0.511385  0.459946  0.456446   \nresnet_FGVC-Aircraft_E30_occ0         0.498950   0.537907  0.498950  0.497762   \nresnet_FGVC-Aircraft_E40_occ0         0.505851   0.533406  0.505851  0.494597   \nresnet_FGVC-Aircraft_E50_occ0         0.495050   0.515856  0.495050  0.481473   \nresnet_FGVC-Aircraft_E10_occ1         0.350135   0.407014  0.350135  0.327696   \nresnet_FGVC-Aircraft_E20_occ1         0.412541   0.448790  0.412541  0.393168   \nresnet_FGVC-Aircraft_E30_occ1         0.446145   0.490133  0.446145  0.433973   \nresnet_FGVC-Aircraft_E40_occ1         0.467147   0.505737  0.467147  0.461699   \nresnet_FGVC-Aircraft_E50_occ1         0.473747   0.505069  0.473747  0.461464   \nresnet_FGVC-Aircraft_E10_occSOFTMAX   0.367837   0.423610  0.367837  0.346780   \nresnet_FGVC-Aircraft_E20_occSOFTMAX   0.447645   0.505023  0.447645  0.435111   \nresnet_FGVC-Aircraft_E30_occSOFTMAX   0.479448   0.521154  0.479448  0.478667   \nresnet_FGVC-Aircraft_E40_occSOFTMAX   0.486049   0.530847  0.486049  0.486192   \nresnet_FGVC-Aircraft_E50_occSOFTMAX   0.489349   0.537550  0.489349  0.489889   \nresnet_FGVC-Aircraft_E10_occGAUSSIAN  0.352235   0.412773  0.352235  0.341634   \nresnet_FGVC-Aircraft_E20_occGAUSSIAN  0.457546   0.510285  0.457546  0.448066   \nresnet_FGVC-Aircraft_E30_occGAUSSIAN  0.486049   0.520994  0.486049  0.475233   \nresnet_FGVC-Aircraft_E40_occGAUSSIAN  0.494449   0.545396  0.494449  0.491668   \nresnet_FGVC-Aircraft_E50_occGAUSSIAN  0.497150   0.530471  0.497150  0.492163   \n\n                                                                        total_predicted  \\\nresnet_FGVC-Aircraft_E10              [50.0, 39.0, 48.0, 46.0, 56.0, 91.0, 76.0, 98....   \nresnet_FGVC-Aircraft_E20              [10.0, 13.0, 43.0, 10.0, 29.0, 42.0, 86.0, 47....   \nresnet_FGVC-Aircraft_E30              [63.0, 23.0, 55.0, 13.0, 44.0, 4.0, 79.0, 83.0...   \nresnet_FGVC-Aircraft_E40              [21.0, 3.0, 68.0, 40.0, 90.0, 54.0, 62.0, 62.0...   \nresnet_FGVC-Aircraft_E50              [11.0, 81.0, 21.0, 4.0, 7.0, 81.0, 72.0, 53.0,...   \nresnet_FGVC-Aircraft_E10_occ0         [2.0, 57.0, 57.0, 5.0, 48.0, 38.0, 56.0, 34.0,...   \nresnet_FGVC-Aircraft_E20_occ0         [25.0, 41.0, 54.0, 49.0, 66.0, 23.0, 94.0, 23....   \nresnet_FGVC-Aircraft_E30_occ0         [41.0, 8.0, 48.0, 85.0, 37.0, 62.0, 30.0, 55.0...   \nresnet_FGVC-Aircraft_E40_occ0         [75.0, 85.0, 87.0, 37.0, 35.0, 61.0, 44.0, 84....   \nresnet_FGVC-Aircraft_E50_occ0         [14.0, 51.0, 50.0, 43.0, 99.0, 98.0, 78.0, 16....   \nresnet_FGVC-Aircraft_E10_occ1         [13.0, 55.0, 66.0, 53.0, 97.0, 64.0, 16.0, 63....   \nresnet_FGVC-Aircraft_E20_occ1         [68.0, 39.0, 68.0, 9.0, 59.0, 14.0, 21.0, 28.0...   \nresnet_FGVC-Aircraft_E30_occ1         [50.0, 87.0, 85.0, 53.0, 87.0, 63.0, 74.0, 86....   \nresnet_FGVC-Aircraft_E40_occ1         [32.0, 73.0, 4.0, 30.0, 39.0, 96.0, 5.0, 84.0,...   \nresnet_FGVC-Aircraft_E50_occ1         [67.0, 99.0, 18.0, 26.0, 57.0, 43.0, 33.0, 42....   \nresnet_FGVC-Aircraft_E10_occSOFTMAX   [36.0, 99.0, 55.0, 92.0, 31.0, 1.0, 6.0, 83.0,...   \nresnet_FGVC-Aircraft_E20_occSOFTMAX   [24.0, 21.0, 30.0, 30.0, 48.0, 93.0, 54.0, 25....   \nresnet_FGVC-Aircraft_E30_occSOFTMAX   [95.0, 81.0, 47.0, 22.0, 62.0, 29.0, 49.0, 33....   \nresnet_FGVC-Aircraft_E40_occSOFTMAX   [28.0, 46.0, 44.0, 29.0, 12.0, 3.0, 50.0, 32.0...   \nresnet_FGVC-Aircraft_E50_occSOFTMAX   [95.0, 14.0, 25.0, 42.0, 27.0, 89.0, 86.0, 13....   \nresnet_FGVC-Aircraft_E10_occGAUSSIAN  [34.0, 68.0, 13.0, 4.0, 72.0, 22.0, 58.0, 31.0...   \nresnet_FGVC-Aircraft_E20_occGAUSSIAN  [93.0, 52.0, 69.0, 53.0, 40.0, 42.0, 16.0, 96....   \nresnet_FGVC-Aircraft_E30_occGAUSSIAN  [30.0, 0.0, 4.0, 33.0, 6.0, 77.0, 57.0, 89.0, ...   \nresnet_FGVC-Aircraft_E40_occGAUSSIAN  [52.0, 95.0, 21.0, 82.0, 41.0, 7.0, 33.0, 22.0...   \nresnet_FGVC-Aircraft_E50_occGAUSSIAN  [90.0, 19.0, 83.0, 86.0, 29.0, 87.0, 90.0, 70....   \n\n                                                                           total_labels  \nresnet_FGVC-Aircraft_E10              [89.0, 39.0, 48.0, 46.0, 56.0, 91.0, 76.0, 50....  \nresnet_FGVC-Aircraft_E20              [12.0, 13.0, 53.0, 84.0, 29.0, 42.0, 56.0, 47....  \nresnet_FGVC-Aircraft_E30              [63.0, 23.0, 97.0, 13.0, 44.0, 9.0, 74.0, 83.0...  \nresnet_FGVC-Aircraft_E40              [21.0, 3.0, 68.0, 40.0, 90.0, 54.0, 62.0, 62.0...  \nresnet_FGVC-Aircraft_E50              [11.0, 34.0, 21.0, 9.0, 6.0, 81.0, 72.0, 53.0,...  \nresnet_FGVC-Aircraft_E10_occ0         [80.0, 47.0, 43.0, 5.0, 48.0, 38.0, 99.0, 61.0...  \nresnet_FGVC-Aircraft_E20_occ0         [25.0, 17.0, 54.0, 39.0, 65.0, 23.0, 77.0, 4.0...  \nresnet_FGVC-Aircraft_E30_occ0         [2.0, 6.0, 48.0, 85.0, 37.0, 57.0, 30.0, 55.0,...  \nresnet_FGVC-Aircraft_E40_occ0         [74.0, 52.0, 56.0, 38.0, 35.0, 89.0, 88.0, 84....  \nresnet_FGVC-Aircraft_E50_occ0         [8.0, 51.0, 50.0, 53.0, 83.0, 56.0, 65.0, 22.0...  \nresnet_FGVC-Aircraft_E10_occ1         [13.0, 11.0, 64.0, 53.0, 69.0, 6.0, 27.0, 60.0...  \nresnet_FGVC-Aircraft_E20_occ1         [68.0, 81.0, 69.0, 66.0, 59.0, 14.0, 16.0, 27....  \nresnet_FGVC-Aircraft_E30_occ1         [50.0, 56.0, 21.0, 53.0, 87.0, 77.0, 74.0, 84....  \nresnet_FGVC-Aircraft_E40_occ1         [32.0, 73.0, 3.0, 11.0, 39.0, 96.0, 4.0, 84.0,...  \nresnet_FGVC-Aircraft_E50_occ1         [94.0, 22.0, 28.0, 26.0, 57.0, 53.0, 33.0, 42....  \nresnet_FGVC-Aircraft_E10_occSOFTMAX   [36.0, 70.0, 0.0, 92.0, 33.0, 0.0, 64.0, 83.0,...  \nresnet_FGVC-Aircraft_E20_occSOFTMAX   [7.0, 22.0, 32.0, 11.0, 59.0, 67.0, 54.0, 6.0,...  \nresnet_FGVC-Aircraft_E30_occSOFTMAX   [95.0, 90.0, 47.0, 12.0, 47.0, 29.0, 49.0, 33....  \nresnet_FGVC-Aircraft_E40_occSOFTMAX   [30.0, 46.0, 45.0, 30.0, 11.0, 4.0, 74.0, 32.0...  \nresnet_FGVC-Aircraft_E50_occSOFTMAX   [47.0, 12.0, 6.0, 42.0, 26.0, 89.0, 98.0, 12.0...  \nresnet_FGVC-Aircraft_E10_occGAUSSIAN  [63.0, 80.0, 12.0, 76.0, 72.0, 64.0, 58.0, 31....  \nresnet_FGVC-Aircraft_E20_occGAUSSIAN  [93.0, 98.0, 81.0, 43.0, 40.0, 42.0, 4.0, 73.0...  \nresnet_FGVC-Aircraft_E30_occGAUSSIAN  [29.0, 1.0, 3.0, 33.0, 3.0, 77.0, 57.0, 89.0, ...  \nresnet_FGVC-Aircraft_E40_occGAUSSIAN  [52.0, 95.0, 87.0, 82.0, 74.0, 8.0, 33.0, 16.0...  \nresnet_FGVC-Aircraft_E50_occGAUSSIAN  [80.0, 32.0, 83.0, 98.0, 29.0, 87.0, 90.0, 80....  ",
      "text/html": "<div>\n<style scoped>\n    .dataframe tbody tr th:only-of-type {\n        vertical-align: middle;\n    }\n\n    .dataframe tbody tr th {\n        vertical-align: top;\n    }\n\n    .dataframe thead th {\n        text-align: right;\n    }\n</style>\n<table border=\"1\" class=\"dataframe\">\n  <thead>\n    <tr style=\"text-align: right;\">\n      <th></th>\n      <th>accuracy</th>\n      <th>precision</th>\n      <th>recall</th>\n      <th>f1</th>\n      <th>total_predicted</th>\n      <th>total_labels</th>\n    </tr>\n  </thead>\n  <tbody>\n    <tr>\n      <th>resnet_FGVC-Aircraft_E10</th>\n      <td>0.516652</td>\n      <td>0.538411</td>\n      <td>0.516652</td>\n      <td>0.508763</td>\n      <td>[50.0, 39.0, 48.0, 46.0, 56.0, 91.0, 76.0, 98....</td>\n      <td>[89.0, 39.0, 48.0, 46.0, 56.0, 91.0, 76.0, 50....</td>\n    </tr>\n    <tr>\n      <th>resnet_FGVC-Aircraft_E20</th>\n      <td>0.568257</td>\n      <td>0.584642</td>\n      <td>0.568257</td>\n      <td>0.566928</td>\n      <td>[10.0, 13.0, 43.0, 10.0, 29.0, 42.0, 86.0, 47....</td>\n      <td>[12.0, 13.0, 53.0, 84.0, 29.0, 42.0, 56.0, 47....</td>\n    </tr>\n    <tr>\n      <th>resnet_FGVC-Aircraft_E30</th>\n      <td>0.585959</td>\n      <td>0.601168</td>\n      <td>0.585959</td>\n      <td>0.586160</td>\n      <td>[63.0, 23.0, 55.0, 13.0, 44.0, 4.0, 79.0, 83.0...</td>\n      <td>[63.0, 23.0, 97.0, 13.0, 44.0, 9.0, 74.0, 83.0...</td>\n    </tr>\n    <tr>\n      <th>resnet_FGVC-Aircraft_E40</th>\n      <td>0.583858</td>\n      <td>0.597343</td>\n      <td>0.583858</td>\n      <td>0.583122</td>\n      <td>[21.0, 3.0, 68.0, 40.0, 90.0, 54.0, 62.0, 62.0...</td>\n      <td>[21.0, 3.0, 68.0, 40.0, 90.0, 54.0, 62.0, 62.0...</td>\n    </tr>\n    <tr>\n      <th>resnet_FGVC-Aircraft_E50</th>\n      <td>0.590159</td>\n      <td>0.606507</td>\n      <td>0.590159</td>\n      <td>0.589527</td>\n      <td>[11.0, 81.0, 21.0, 4.0, 7.0, 81.0, 72.0, 53.0,...</td>\n      <td>[11.0, 34.0, 21.0, 9.0, 6.0, 81.0, 72.0, 53.0,...</td>\n    </tr>\n    <tr>\n      <th>resnet_FGVC-Aircraft_E10_occ0</th>\n      <td>0.374137</td>\n      <td>0.439642</td>\n      <td>0.374137</td>\n      <td>0.360742</td>\n      <td>[2.0, 57.0, 57.0, 5.0, 48.0, 38.0, 56.0, 34.0,...</td>\n      <td>[80.0, 47.0, 43.0, 5.0, 48.0, 38.0, 99.0, 61.0...</td>\n    </tr>\n    <tr>\n      <th>resnet_FGVC-Aircraft_E20_occ0</th>\n      <td>0.459946</td>\n      <td>0.511385</td>\n      <td>0.459946</td>\n      <td>0.456446</td>\n      <td>[25.0, 41.0, 54.0, 49.0, 66.0, 23.0, 94.0, 23....</td>\n      <td>[25.0, 17.0, 54.0, 39.0, 65.0, 23.0, 77.0, 4.0...</td>\n    </tr>\n    <tr>\n      <th>resnet_FGVC-Aircraft_E30_occ0</th>\n      <td>0.498950</td>\n      <td>0.537907</td>\n      <td>0.498950</td>\n      <td>0.497762</td>\n      <td>[41.0, 8.0, 48.0, 85.0, 37.0, 62.0, 30.0, 55.0...</td>\n      <td>[2.0, 6.0, 48.0, 85.0, 37.0, 57.0, 30.0, 55.0,...</td>\n    </tr>\n    <tr>\n      <th>resnet_FGVC-Aircraft_E40_occ0</th>\n      <td>0.505851</td>\n      <td>0.533406</td>\n      <td>0.505851</td>\n      <td>0.494597</td>\n      <td>[75.0, 85.0, 87.0, 37.0, 35.0, 61.0, 44.0, 84....</td>\n      <td>[74.0, 52.0, 56.0, 38.0, 35.0, 89.0, 88.0, 84....</td>\n    </tr>\n    <tr>\n      <th>resnet_FGVC-Aircraft_E50_occ0</th>\n      <td>0.495050</td>\n      <td>0.515856</td>\n      <td>0.495050</td>\n      <td>0.481473</td>\n      <td>[14.0, 51.0, 50.0, 43.0, 99.0, 98.0, 78.0, 16....</td>\n      <td>[8.0, 51.0, 50.0, 53.0, 83.0, 56.0, 65.0, 22.0...</td>\n    </tr>\n    <tr>\n      <th>resnet_FGVC-Aircraft_E10_occ1</th>\n      <td>0.350135</td>\n      <td>0.407014</td>\n      <td>0.350135</td>\n      <td>0.327696</td>\n      <td>[13.0, 55.0, 66.0, 53.0, 97.0, 64.0, 16.0, 63....</td>\n      <td>[13.0, 11.0, 64.0, 53.0, 69.0, 6.0, 27.0, 60.0...</td>\n    </tr>\n    <tr>\n      <th>resnet_FGVC-Aircraft_E20_occ1</th>\n      <td>0.412541</td>\n      <td>0.448790</td>\n      <td>0.412541</td>\n      <td>0.393168</td>\n      <td>[68.0, 39.0, 68.0, 9.0, 59.0, 14.0, 21.0, 28.0...</td>\n      <td>[68.0, 81.0, 69.0, 66.0, 59.0, 14.0, 16.0, 27....</td>\n    </tr>\n    <tr>\n      <th>resnet_FGVC-Aircraft_E30_occ1</th>\n      <td>0.446145</td>\n      <td>0.490133</td>\n      <td>0.446145</td>\n      <td>0.433973</td>\n      <td>[50.0, 87.0, 85.0, 53.0, 87.0, 63.0, 74.0, 86....</td>\n      <td>[50.0, 56.0, 21.0, 53.0, 87.0, 77.0, 74.0, 84....</td>\n    </tr>\n    <tr>\n      <th>resnet_FGVC-Aircraft_E40_occ1</th>\n      <td>0.467147</td>\n      <td>0.505737</td>\n      <td>0.467147</td>\n      <td>0.461699</td>\n      <td>[32.0, 73.0, 4.0, 30.0, 39.0, 96.0, 5.0, 84.0,...</td>\n      <td>[32.0, 73.0, 3.0, 11.0, 39.0, 96.0, 4.0, 84.0,...</td>\n    </tr>\n    <tr>\n      <th>resnet_FGVC-Aircraft_E50_occ1</th>\n      <td>0.473747</td>\n      <td>0.505069</td>\n      <td>0.473747</td>\n      <td>0.461464</td>\n      <td>[67.0, 99.0, 18.0, 26.0, 57.0, 43.0, 33.0, 42....</td>\n      <td>[94.0, 22.0, 28.0, 26.0, 57.0, 53.0, 33.0, 42....</td>\n    </tr>\n    <tr>\n      <th>resnet_FGVC-Aircraft_E10_occSOFTMAX</th>\n      <td>0.367837</td>\n      <td>0.423610</td>\n      <td>0.367837</td>\n      <td>0.346780</td>\n      <td>[36.0, 99.0, 55.0, 92.0, 31.0, 1.0, 6.0, 83.0,...</td>\n      <td>[36.0, 70.0, 0.0, 92.0, 33.0, 0.0, 64.0, 83.0,...</td>\n    </tr>\n    <tr>\n      <th>resnet_FGVC-Aircraft_E20_occSOFTMAX</th>\n      <td>0.447645</td>\n      <td>0.505023</td>\n      <td>0.447645</td>\n      <td>0.435111</td>\n      <td>[24.0, 21.0, 30.0, 30.0, 48.0, 93.0, 54.0, 25....</td>\n      <td>[7.0, 22.0, 32.0, 11.0, 59.0, 67.0, 54.0, 6.0,...</td>\n    </tr>\n    <tr>\n      <th>resnet_FGVC-Aircraft_E30_occSOFTMAX</th>\n      <td>0.479448</td>\n      <td>0.521154</td>\n      <td>0.479448</td>\n      <td>0.478667</td>\n      <td>[95.0, 81.0, 47.0, 22.0, 62.0, 29.0, 49.0, 33....</td>\n      <td>[95.0, 90.0, 47.0, 12.0, 47.0, 29.0, 49.0, 33....</td>\n    </tr>\n    <tr>\n      <th>resnet_FGVC-Aircraft_E40_occSOFTMAX</th>\n      <td>0.486049</td>\n      <td>0.530847</td>\n      <td>0.486049</td>\n      <td>0.486192</td>\n      <td>[28.0, 46.0, 44.0, 29.0, 12.0, 3.0, 50.0, 32.0...</td>\n      <td>[30.0, 46.0, 45.0, 30.0, 11.0, 4.0, 74.0, 32.0...</td>\n    </tr>\n    <tr>\n      <th>resnet_FGVC-Aircraft_E50_occSOFTMAX</th>\n      <td>0.489349</td>\n      <td>0.537550</td>\n      <td>0.489349</td>\n      <td>0.489889</td>\n      <td>[95.0, 14.0, 25.0, 42.0, 27.0, 89.0, 86.0, 13....</td>\n      <td>[47.0, 12.0, 6.0, 42.0, 26.0, 89.0, 98.0, 12.0...</td>\n    </tr>\n    <tr>\n      <th>resnet_FGVC-Aircraft_E10_occGAUSSIAN</th>\n      <td>0.352235</td>\n      <td>0.412773</td>\n      <td>0.352235</td>\n      <td>0.341634</td>\n      <td>[34.0, 68.0, 13.0, 4.0, 72.0, 22.0, 58.0, 31.0...</td>\n      <td>[63.0, 80.0, 12.0, 76.0, 72.0, 64.0, 58.0, 31....</td>\n    </tr>\n    <tr>\n      <th>resnet_FGVC-Aircraft_E20_occGAUSSIAN</th>\n      <td>0.457546</td>\n      <td>0.510285</td>\n      <td>0.457546</td>\n      <td>0.448066</td>\n      <td>[93.0, 52.0, 69.0, 53.0, 40.0, 42.0, 16.0, 96....</td>\n      <td>[93.0, 98.0, 81.0, 43.0, 40.0, 42.0, 4.0, 73.0...</td>\n    </tr>\n    <tr>\n      <th>resnet_FGVC-Aircraft_E30_occGAUSSIAN</th>\n      <td>0.486049</td>\n      <td>0.520994</td>\n      <td>0.486049</td>\n      <td>0.475233</td>\n      <td>[30.0, 0.0, 4.0, 33.0, 6.0, 77.0, 57.0, 89.0, ...</td>\n      <td>[29.0, 1.0, 3.0, 33.0, 3.0, 77.0, 57.0, 89.0, ...</td>\n    </tr>\n    <tr>\n      <th>resnet_FGVC-Aircraft_E40_occGAUSSIAN</th>\n      <td>0.494449</td>\n      <td>0.545396</td>\n      <td>0.494449</td>\n      <td>0.491668</td>\n      <td>[52.0, 95.0, 21.0, 82.0, 41.0, 7.0, 33.0, 22.0...</td>\n      <td>[52.0, 95.0, 87.0, 82.0, 74.0, 8.0, 33.0, 16.0...</td>\n    </tr>\n    <tr>\n      <th>resnet_FGVC-Aircraft_E50_occGAUSSIAN</th>\n      <td>0.497150</td>\n      <td>0.530471</td>\n      <td>0.497150</td>\n      <td>0.492163</td>\n      <td>[90.0, 19.0, 83.0, 86.0, 29.0, 87.0, 90.0, 70....</td>\n      <td>[80.0, 32.0, 83.0, 98.0, 29.0, 87.0, 90.0, 80....</td>\n    </tr>\n  </tbody>\n</table>\n</div>"
     },
     "execution_count": 17,
     "metadata": {},
     "output_type": "execute_result"
    }
   ],
   "source": [
    "#  Save the metrics\n",
    "df = pd.DataFrame.from_dict(total_results,\n",
    "                       orient='index',\n",
    "                       # columns=['accuracy', 'precision', 'recall', 'f1']\n",
    "                       )\n",
    "\n",
    "df"
   ],
   "metadata": {
    "collapsed": false,
    "pycharm": {
     "name": "#%%\n"
    }
   }
  },
  {
   "cell_type": "code",
   "execution_count": 19,
   "outputs": [],
   "source": [
    "save_path = os.path.join(path_to_data,'testing_results.csv')\n",
    "df.to_csv(save_path)"
   ],
   "metadata": {
    "collapsed": false,
    "pycharm": {
     "name": "#%%\n"
    }
   }
  },
  {
   "cell_type": "code",
   "execution_count": 20,
   "outputs": [
    {
     "data": {
      "text/plain": "                                      accuracy  precision    recall        f1  \\\nresnet_FGVC-Aircraft_E10              0.516652   0.538411  0.516652  0.508763   \nresnet_FGVC-Aircraft_E20              0.568257   0.584642  0.568257  0.566928   \nresnet_FGVC-Aircraft_E30              0.585959   0.601168  0.585959  0.586160   \nresnet_FGVC-Aircraft_E40              0.583858   0.597343  0.583858  0.583122   \nresnet_FGVC-Aircraft_E50              0.590159   0.606507  0.590159  0.589527   \nresnet_FGVC-Aircraft_E10_occ0         0.374137   0.439642  0.374137  0.360742   \nresnet_FGVC-Aircraft_E20_occ0         0.459946   0.511385  0.459946  0.456446   \nresnet_FGVC-Aircraft_E30_occ0         0.498950   0.537907  0.498950  0.497762   \nresnet_FGVC-Aircraft_E40_occ0         0.505851   0.533406  0.505851  0.494597   \nresnet_FGVC-Aircraft_E50_occ0         0.495050   0.515856  0.495050  0.481473   \nresnet_FGVC-Aircraft_E10_occ1         0.350135   0.407014  0.350135  0.327696   \nresnet_FGVC-Aircraft_E20_occ1         0.412541   0.448790  0.412541  0.393168   \nresnet_FGVC-Aircraft_E30_occ1         0.446145   0.490133  0.446145  0.433973   \nresnet_FGVC-Aircraft_E40_occ1         0.467147   0.505737  0.467147  0.461699   \nresnet_FGVC-Aircraft_E50_occ1         0.473747   0.505069  0.473747  0.461464   \nresnet_FGVC-Aircraft_E10_occSOFTMAX   0.367837   0.423610  0.367837  0.346780   \nresnet_FGVC-Aircraft_E20_occSOFTMAX   0.447645   0.505023  0.447645  0.435111   \nresnet_FGVC-Aircraft_E30_occSOFTMAX   0.479448   0.521154  0.479448  0.478667   \nresnet_FGVC-Aircraft_E40_occSOFTMAX   0.486049   0.530847  0.486049  0.486192   \nresnet_FGVC-Aircraft_E50_occSOFTMAX   0.489349   0.537550  0.489349  0.489889   \nresnet_FGVC-Aircraft_E10_occGAUSSIAN  0.352235   0.412773  0.352235  0.341634   \nresnet_FGVC-Aircraft_E20_occGAUSSIAN  0.457546   0.510285  0.457546  0.448066   \nresnet_FGVC-Aircraft_E30_occGAUSSIAN  0.486049   0.520994  0.486049  0.475233   \nresnet_FGVC-Aircraft_E40_occGAUSSIAN  0.494449   0.545396  0.494449  0.491668   \nresnet_FGVC-Aircraft_E50_occGAUSSIAN  0.497150   0.530471  0.497150  0.492163   \n\n                                                    total_predicted  \\\nresnet_FGVC-Aircraft_E10              [50. 39. 48. ...  0. 76. 78.]   \nresnet_FGVC-Aircraft_E20              [10. 13. 43. ... 40. 85. 64.]   \nresnet_FGVC-Aircraft_E30              [63. 23. 55. ... 99. 31. 90.]   \nresnet_FGVC-Aircraft_E40              [21.  3. 68. ... 92. 64. 49.]   \nresnet_FGVC-Aircraft_E50              [11. 81. 21. ... 84. 41. 87.]   \nresnet_FGVC-Aircraft_E10_occ0         [ 2. 57. 57. ... 49. 78. 54.]   \nresnet_FGVC-Aircraft_E20_occ0         [25. 41. 54. ... 10. 64. 97.]   \nresnet_FGVC-Aircraft_E30_occ0         [41.  8. 48. ... 98. 53. 90.]   \nresnet_FGVC-Aircraft_E40_occ0         [75. 85. 87. ... 70. 49. 14.]   \nresnet_FGVC-Aircraft_E50_occ0         [14. 51. 50. ... 46. 42. 29.]   \nresnet_FGVC-Aircraft_E10_occ1         [13. 55. 66. ... 14. 70. 75.]   \nresnet_FGVC-Aircraft_E20_occ1         [68. 39. 68. ... 74. 76. 34.]   \nresnet_FGVC-Aircraft_E30_occ1         [50. 87. 85. ... 50.  2. 64.]   \nresnet_FGVC-Aircraft_E40_occ1         [32. 73.  4. ... 48. 38. 28.]   \nresnet_FGVC-Aircraft_E50_occ1         [67. 99. 18. ... 13. 41. 24.]   \nresnet_FGVC-Aircraft_E10_occSOFTMAX   [36. 99. 55. ... 85. 79. 22.]   \nresnet_FGVC-Aircraft_E20_occSOFTMAX   [24. 21. 30. ... 53. 99. 91.]   \nresnet_FGVC-Aircraft_E30_occSOFTMAX   [95. 81. 47. ... 94. 46. 25.]   \nresnet_FGVC-Aircraft_E40_occSOFTMAX   [28. 46. 44. ... 42. 75. 39.]   \nresnet_FGVC-Aircraft_E50_occSOFTMAX   [95. 14. 25. ... 60. 72. 12.]   \nresnet_FGVC-Aircraft_E10_occGAUSSIAN  [34. 68. 13. ... 48. 53. 93.]   \nresnet_FGVC-Aircraft_E20_occGAUSSIAN  [93. 52. 69. ... 61. 19. 86.]   \nresnet_FGVC-Aircraft_E30_occGAUSSIAN  [30.  0.  4. ... 34. 15. 53.]   \nresnet_FGVC-Aircraft_E40_occGAUSSIAN  [52. 95. 21. ... 42.  5. 86.]   \nresnet_FGVC-Aircraft_E50_occGAUSSIAN  [90. 19. 83. ... 95.  6. 35.]   \n\n                                                       total_labels  \nresnet_FGVC-Aircraft_E10              [89. 39. 48. ... 84. 78.  8.]  \nresnet_FGVC-Aircraft_E20              [12. 13. 53. ... 90. 27. 65.]  \nresnet_FGVC-Aircraft_E30              [63. 23. 97. ... 99. 30. 90.]  \nresnet_FGVC-Aircraft_E40              [21.  3. 68. ... 92.  5. 49.]  \nresnet_FGVC-Aircraft_E50              [11. 34. 21. ... 84. 41. 87.]  \nresnet_FGVC-Aircraft_E10_occ0         [80. 47. 43. ... 50. 78. 54.]  \nresnet_FGVC-Aircraft_E20_occ0         [25. 17. 54. ... 10.  7. 51.]  \nresnet_FGVC-Aircraft_E30_occ0         [ 2.  6. 48. ... 83. 43. 80.]  \nresnet_FGVC-Aircraft_E40_occ0         [74. 52. 56. ... 70. 49. 14.]  \nresnet_FGVC-Aircraft_E50_occ0         [ 8. 51. 50. ... 45. 42. 78.]  \nresnet_FGVC-Aircraft_E10_occ1         [13. 11. 64. ... 15. 70. 75.]  \nresnet_FGVC-Aircraft_E20_occ1         [68. 81. 69. ... 75. 78. 35.]  \nresnet_FGVC-Aircraft_E30_occ1         [50. 56. 21. ... 89.  2. 23.]  \nresnet_FGVC-Aircraft_E40_occ1         [32. 73.  3. ... 48. 38. 28.]  \nresnet_FGVC-Aircraft_E50_occ1         [94. 22. 28. ... 13. 56. 25.]  \nresnet_FGVC-Aircraft_E10_occSOFTMAX   [36. 70.  0. ... 84. 87. 25.]  \nresnet_FGVC-Aircraft_E20_occSOFTMAX   [ 7. 22. 32. ... 53. 99. 90.]  \nresnet_FGVC-Aircraft_E30_occSOFTMAX   [95. 90. 47. ... 54. 46. 35.]  \nresnet_FGVC-Aircraft_E40_occSOFTMAX   [30. 46. 45. ... 35. 75. 50.]  \nresnet_FGVC-Aircraft_E50_occSOFTMAX   [47. 12.  6. ... 60. 72. 12.]  \nresnet_FGVC-Aircraft_E10_occGAUSSIAN  [63. 80. 12. ... 48. 43. 77.]  \nresnet_FGVC-Aircraft_E20_occGAUSSIAN  [93. 98. 81. ... 61. 21. 86.]  \nresnet_FGVC-Aircraft_E30_occGAUSSIAN  [29.  1.  3. ... 34. 28. 43.]  \nresnet_FGVC-Aircraft_E40_occGAUSSIAN  [52. 95. 87. ... 42.  5. 88.]  \nresnet_FGVC-Aircraft_E50_occGAUSSIAN  [80. 32. 83. ... 95.  6. 35.]  ",
      "text/html": "<div>\n<style scoped>\n    .dataframe tbody tr th:only-of-type {\n        vertical-align: middle;\n    }\n\n    .dataframe tbody tr th {\n        vertical-align: top;\n    }\n\n    .dataframe thead th {\n        text-align: right;\n    }\n</style>\n<table border=\"1\" class=\"dataframe\">\n  <thead>\n    <tr style=\"text-align: right;\">\n      <th></th>\n      <th>accuracy</th>\n      <th>precision</th>\n      <th>recall</th>\n      <th>f1</th>\n      <th>total_predicted</th>\n      <th>total_labels</th>\n    </tr>\n  </thead>\n  <tbody>\n    <tr>\n      <th>resnet_FGVC-Aircraft_E10</th>\n      <td>0.516652</td>\n      <td>0.538411</td>\n      <td>0.516652</td>\n      <td>0.508763</td>\n      <td>[50. 39. 48. ...  0. 76. 78.]</td>\n      <td>[89. 39. 48. ... 84. 78.  8.]</td>\n    </tr>\n    <tr>\n      <th>resnet_FGVC-Aircraft_E20</th>\n      <td>0.568257</td>\n      <td>0.584642</td>\n      <td>0.568257</td>\n      <td>0.566928</td>\n      <td>[10. 13. 43. ... 40. 85. 64.]</td>\n      <td>[12. 13. 53. ... 90. 27. 65.]</td>\n    </tr>\n    <tr>\n      <th>resnet_FGVC-Aircraft_E30</th>\n      <td>0.585959</td>\n      <td>0.601168</td>\n      <td>0.585959</td>\n      <td>0.586160</td>\n      <td>[63. 23. 55. ... 99. 31. 90.]</td>\n      <td>[63. 23. 97. ... 99. 30. 90.]</td>\n    </tr>\n    <tr>\n      <th>resnet_FGVC-Aircraft_E40</th>\n      <td>0.583858</td>\n      <td>0.597343</td>\n      <td>0.583858</td>\n      <td>0.583122</td>\n      <td>[21.  3. 68. ... 92. 64. 49.]</td>\n      <td>[21.  3. 68. ... 92.  5. 49.]</td>\n    </tr>\n    <tr>\n      <th>resnet_FGVC-Aircraft_E50</th>\n      <td>0.590159</td>\n      <td>0.606507</td>\n      <td>0.590159</td>\n      <td>0.589527</td>\n      <td>[11. 81. 21. ... 84. 41. 87.]</td>\n      <td>[11. 34. 21. ... 84. 41. 87.]</td>\n    </tr>\n    <tr>\n      <th>resnet_FGVC-Aircraft_E10_occ0</th>\n      <td>0.374137</td>\n      <td>0.439642</td>\n      <td>0.374137</td>\n      <td>0.360742</td>\n      <td>[ 2. 57. 57. ... 49. 78. 54.]</td>\n      <td>[80. 47. 43. ... 50. 78. 54.]</td>\n    </tr>\n    <tr>\n      <th>resnet_FGVC-Aircraft_E20_occ0</th>\n      <td>0.459946</td>\n      <td>0.511385</td>\n      <td>0.459946</td>\n      <td>0.456446</td>\n      <td>[25. 41. 54. ... 10. 64. 97.]</td>\n      <td>[25. 17. 54. ... 10.  7. 51.]</td>\n    </tr>\n    <tr>\n      <th>resnet_FGVC-Aircraft_E30_occ0</th>\n      <td>0.498950</td>\n      <td>0.537907</td>\n      <td>0.498950</td>\n      <td>0.497762</td>\n      <td>[41.  8. 48. ... 98. 53. 90.]</td>\n      <td>[ 2.  6. 48. ... 83. 43. 80.]</td>\n    </tr>\n    <tr>\n      <th>resnet_FGVC-Aircraft_E40_occ0</th>\n      <td>0.505851</td>\n      <td>0.533406</td>\n      <td>0.505851</td>\n      <td>0.494597</td>\n      <td>[75. 85. 87. ... 70. 49. 14.]</td>\n      <td>[74. 52. 56. ... 70. 49. 14.]</td>\n    </tr>\n    <tr>\n      <th>resnet_FGVC-Aircraft_E50_occ0</th>\n      <td>0.495050</td>\n      <td>0.515856</td>\n      <td>0.495050</td>\n      <td>0.481473</td>\n      <td>[14. 51. 50. ... 46. 42. 29.]</td>\n      <td>[ 8. 51. 50. ... 45. 42. 78.]</td>\n    </tr>\n    <tr>\n      <th>resnet_FGVC-Aircraft_E10_occ1</th>\n      <td>0.350135</td>\n      <td>0.407014</td>\n      <td>0.350135</td>\n      <td>0.327696</td>\n      <td>[13. 55. 66. ... 14. 70. 75.]</td>\n      <td>[13. 11. 64. ... 15. 70. 75.]</td>\n    </tr>\n    <tr>\n      <th>resnet_FGVC-Aircraft_E20_occ1</th>\n      <td>0.412541</td>\n      <td>0.448790</td>\n      <td>0.412541</td>\n      <td>0.393168</td>\n      <td>[68. 39. 68. ... 74. 76. 34.]</td>\n      <td>[68. 81. 69. ... 75. 78. 35.]</td>\n    </tr>\n    <tr>\n      <th>resnet_FGVC-Aircraft_E30_occ1</th>\n      <td>0.446145</td>\n      <td>0.490133</td>\n      <td>0.446145</td>\n      <td>0.433973</td>\n      <td>[50. 87. 85. ... 50.  2. 64.]</td>\n      <td>[50. 56. 21. ... 89.  2. 23.]</td>\n    </tr>\n    <tr>\n      <th>resnet_FGVC-Aircraft_E40_occ1</th>\n      <td>0.467147</td>\n      <td>0.505737</td>\n      <td>0.467147</td>\n      <td>0.461699</td>\n      <td>[32. 73.  4. ... 48. 38. 28.]</td>\n      <td>[32. 73.  3. ... 48. 38. 28.]</td>\n    </tr>\n    <tr>\n      <th>resnet_FGVC-Aircraft_E50_occ1</th>\n      <td>0.473747</td>\n      <td>0.505069</td>\n      <td>0.473747</td>\n      <td>0.461464</td>\n      <td>[67. 99. 18. ... 13. 41. 24.]</td>\n      <td>[94. 22. 28. ... 13. 56. 25.]</td>\n    </tr>\n    <tr>\n      <th>resnet_FGVC-Aircraft_E10_occSOFTMAX</th>\n      <td>0.367837</td>\n      <td>0.423610</td>\n      <td>0.367837</td>\n      <td>0.346780</td>\n      <td>[36. 99. 55. ... 85. 79. 22.]</td>\n      <td>[36. 70.  0. ... 84. 87. 25.]</td>\n    </tr>\n    <tr>\n      <th>resnet_FGVC-Aircraft_E20_occSOFTMAX</th>\n      <td>0.447645</td>\n      <td>0.505023</td>\n      <td>0.447645</td>\n      <td>0.435111</td>\n      <td>[24. 21. 30. ... 53. 99. 91.]</td>\n      <td>[ 7. 22. 32. ... 53. 99. 90.]</td>\n    </tr>\n    <tr>\n      <th>resnet_FGVC-Aircraft_E30_occSOFTMAX</th>\n      <td>0.479448</td>\n      <td>0.521154</td>\n      <td>0.479448</td>\n      <td>0.478667</td>\n      <td>[95. 81. 47. ... 94. 46. 25.]</td>\n      <td>[95. 90. 47. ... 54. 46. 35.]</td>\n    </tr>\n    <tr>\n      <th>resnet_FGVC-Aircraft_E40_occSOFTMAX</th>\n      <td>0.486049</td>\n      <td>0.530847</td>\n      <td>0.486049</td>\n      <td>0.486192</td>\n      <td>[28. 46. 44. ... 42. 75. 39.]</td>\n      <td>[30. 46. 45. ... 35. 75. 50.]</td>\n    </tr>\n    <tr>\n      <th>resnet_FGVC-Aircraft_E50_occSOFTMAX</th>\n      <td>0.489349</td>\n      <td>0.537550</td>\n      <td>0.489349</td>\n      <td>0.489889</td>\n      <td>[95. 14. 25. ... 60. 72. 12.]</td>\n      <td>[47. 12.  6. ... 60. 72. 12.]</td>\n    </tr>\n    <tr>\n      <th>resnet_FGVC-Aircraft_E10_occGAUSSIAN</th>\n      <td>0.352235</td>\n      <td>0.412773</td>\n      <td>0.352235</td>\n      <td>0.341634</td>\n      <td>[34. 68. 13. ... 48. 53. 93.]</td>\n      <td>[63. 80. 12. ... 48. 43. 77.]</td>\n    </tr>\n    <tr>\n      <th>resnet_FGVC-Aircraft_E20_occGAUSSIAN</th>\n      <td>0.457546</td>\n      <td>0.510285</td>\n      <td>0.457546</td>\n      <td>0.448066</td>\n      <td>[93. 52. 69. ... 61. 19. 86.]</td>\n      <td>[93. 98. 81. ... 61. 21. 86.]</td>\n    </tr>\n    <tr>\n      <th>resnet_FGVC-Aircraft_E30_occGAUSSIAN</th>\n      <td>0.486049</td>\n      <td>0.520994</td>\n      <td>0.486049</td>\n      <td>0.475233</td>\n      <td>[30.  0.  4. ... 34. 15. 53.]</td>\n      <td>[29.  1.  3. ... 34. 28. 43.]</td>\n    </tr>\n    <tr>\n      <th>resnet_FGVC-Aircraft_E40_occGAUSSIAN</th>\n      <td>0.494449</td>\n      <td>0.545396</td>\n      <td>0.494449</td>\n      <td>0.491668</td>\n      <td>[52. 95. 21. ... 42.  5. 86.]</td>\n      <td>[52. 95. 87. ... 42.  5. 88.]</td>\n    </tr>\n    <tr>\n      <th>resnet_FGVC-Aircraft_E50_occGAUSSIAN</th>\n      <td>0.497150</td>\n      <td>0.530471</td>\n      <td>0.497150</td>\n      <td>0.492163</td>\n      <td>[90. 19. 83. ... 95.  6. 35.]</td>\n      <td>[80. 32. 83. ... 95.  6. 35.]</td>\n    </tr>\n  </tbody>\n</table>\n</div>"
     },
     "execution_count": 20,
     "metadata": {},
     "output_type": "execute_result"
    }
   ],
   "source": [
    "pd.read_csv(save_path, index_col=0)"
   ],
   "metadata": {
    "collapsed": false,
    "pycharm": {
     "name": "#%%\n"
    }
   }
  },
  {
   "cell_type": "code",
   "execution_count": 18,
   "outputs": [],
   "source": [
    "# import torchvision\n",
    "# model_ft = torchvision.models.densenet121()\n",
    "# # set_parameter_requires_grad(model_ft, feature_extract)\n",
    "# # num_ftrs = model_ft.classifier.in_features\n",
    "# # model_ft.classifier = nn.Linear(num_ftrs, num_classes)\n",
    "# input_size = 224"
   ],
   "metadata": {
    "collapsed": false,
    "pycharm": {
     "name": "#%%\n"
    }
   }
  },
  {
   "cell_type": "code",
   "execution_count": 54,
   "outputs": [
    {
     "data": {
      "text/plain": "727"
     },
     "execution_count": 54,
     "metadata": {},
     "output_type": "execute_result"
    }
   ],
   "source": [],
   "metadata": {
    "collapsed": false,
    "pycharm": {
     "name": "#%%\n"
    }
   }
  },
  {
   "cell_type": "code",
   "execution_count": null,
   "outputs": [],
   "source": [],
   "metadata": {
    "collapsed": false,
    "pycharm": {
     "name": "#%%\n"
    }
   }
  }
 ],
 "metadata": {
  "kernelspec": {
   "display_name": "Python 3",
   "language": "python",
   "name": "python3"
  },
  "language_info": {
   "codemirror_mode": {
    "name": "ipython",
    "version": 2
   },
   "file_extension": ".py",
   "mimetype": "text/x-python",
   "name": "python",
   "nbconvert_exporter": "python",
   "pygments_lexer": "ipython2",
   "version": "2.7.6"
  }
 },
 "nbformat": 4,
 "nbformat_minor": 0
}