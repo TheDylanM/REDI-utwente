{
 "cells": [
  {
   "cell_type": "markdown",
   "metadata": {
    "pycharm": {
     "name": "#%% md\n"
    }
   },
   "source": [
    "# Testing setup for all models"
   ]
  },
  {
   "cell_type": "code",
   "execution_count": 8,
   "metadata": {
    "collapsed": false,
    "jupyter": {
     "outputs_hidden": false
    },
    "pycharm": {
     "name": "#%%\n"
    }
   },
   "outputs": [],
   "source": [
    "import torch\n",
    "import os\n",
    "import numpy as np\n",
    "import pandas as pd\n",
    "import finetune\n",
    "import importlib\n",
    "from tqdm import tqdm\n",
    "import matplotlib.pyplot as plt"
   ]
  },
  {
   "cell_type": "code",
   "execution_count": 2,
   "metadata": {
    "collapsed": false,
    "jupyter": {
     "outputs_hidden": false
    },
    "pycharm": {
     "name": "#%%\n"
    }
   },
   "outputs": [
    {
     "data": {
      "text/plain": [
       "<module 'finetune' from '/home/jovyan/Master/REDI/REDI-utwente/src/awesome_GNN/finetune.py'>"
      ]
     },
     "execution_count": 2,
     "metadata": {},
     "output_type": "execute_result"
    }
   ],
   "source": [
    "importlib.reload(finetune)"
   ]
  },
  {
   "cell_type": "code",
   "execution_count": 9,
   "metadata": {
    "collapsed": false,
    "jupyter": {
     "outputs_hidden": false
    },
    "pycharm": {
     "name": "#%%\n"
    }
   },
   "outputs": [],
   "source": [
    "path_to_data = os.path.join('..', '..', 'data')\n",
    "path_to_models = os.path.join(path_to_data, 'finetuned_models')\n",
    "\n"
   ]
  },
  {
   "cell_type": "code",
   "execution_count": 12,
   "metadata": {
    "collapsed": false,
    "jupyter": {
     "outputs_hidden": false
    },
    "pycharm": {
     "is_executing": true,
     "name": "#%%\n"
    }
   },
   "outputs": [
    {
     "name": "stdout",
     "output_type": "stream",
     "text": [
      "name:      vgg \n",
      "epochs:    10 \n",
      "occlusion: None\n",
      "--------------------------\n"
     ]
    },
    {
     "name": "stderr",
     "output_type": "stream",
     "text": [
      "100%|██████████| 503/503 [00:48<00:00, 10.46it/s]\n"
     ]
    },
    {
     "name": "stdout",
     "output_type": "stream",
     "text": [
      "Elapsed time: 48.146496295928955\n",
      "name:      vgg \n",
      "epochs:    20 \n",
      "occlusion: None\n",
      "--------------------------\n"
     ]
    },
    {
     "name": "stderr",
     "output_type": "stream",
     "text": [
      "100%|██████████| 503/503 [00:47<00:00, 10.51it/s]\n"
     ]
    },
    {
     "name": "stdout",
     "output_type": "stream",
     "text": [
      "Elapsed time: 47.90847706794739\n",
      "name:      vgg \n",
      "epochs:    10 \n",
      "occlusion: 0\n",
      "--------------------------\n"
     ]
    },
    {
     "name": "stderr",
     "output_type": "stream",
     "text": [
      "100%|██████████| 503/503 [00:48<00:00, 10.41it/s]\n"
     ]
    },
    {
     "name": "stdout",
     "output_type": "stream",
     "text": [
      "Elapsed time: 48.34390950202942\n",
      "name:      vgg \n",
      "epochs:    20 \n",
      "occlusion: 0\n",
      "--------------------------\n"
     ]
    },
    {
     "name": "stderr",
     "output_type": "stream",
     "text": [
      "100%|██████████| 503/503 [00:48<00:00, 10.47it/s]\n"
     ]
    },
    {
     "name": "stdout",
     "output_type": "stream",
     "text": [
      "Elapsed time: 48.09777021408081\n",
      "name:      vgg \n",
      "epochs:    10 \n",
      "occlusion: 1\n",
      "--------------------------\n"
     ]
    },
    {
     "name": "stderr",
     "output_type": "stream",
     "text": [
      "100%|██████████| 503/503 [00:47<00:00, 10.50it/s]\n"
     ]
    },
    {
     "name": "stdout",
     "output_type": "stream",
     "text": [
      "Elapsed time: 47.95130181312561\n",
      "name:      vgg \n",
      "epochs:    20 \n",
      "occlusion: 1\n",
      "--------------------------\n"
     ]
    },
    {
     "name": "stderr",
     "output_type": "stream",
     "text": [
      "100%|██████████| 503/503 [00:48<00:00, 10.38it/s]\n"
     ]
    },
    {
     "name": "stdout",
     "output_type": "stream",
     "text": [
      "Elapsed time: 48.48513102531433\n",
      "name:      vgg \n",
      "epochs:    10 \n",
      "occlusion: GAUSSIAN\n",
      "--------------------------\n"
     ]
    },
    {
     "name": "stderr",
     "output_type": "stream",
     "text": [
      "100%|██████████| 503/503 [00:48<00:00, 10.46it/s]\n"
     ]
    },
    {
     "name": "stdout",
     "output_type": "stream",
     "text": [
      "Elapsed time: 48.12774109840393\n",
      "name:      vgg \n",
      "epochs:    20 \n",
      "occlusion: GAUSSIAN\n",
      "--------------------------\n"
     ]
    },
    {
     "name": "stderr",
     "output_type": "stream",
     "text": [
      "100%|██████████| 503/503 [00:48<00:00, 10.47it/s]\n"
     ]
    },
    {
     "name": "stdout",
     "output_type": "stream",
     "text": [
      "Elapsed time: 48.067686319351196\n",
      "name:      vgg \n",
      "epochs:    10 \n",
      "occlusion: SOFTMAX\n",
      "--------------------------\n"
     ]
    },
    {
     "name": "stderr",
     "output_type": "stream",
     "text": [
      "100%|██████████| 503/503 [00:48<00:00, 10.37it/s]\n"
     ]
    },
    {
     "name": "stdout",
     "output_type": "stream",
     "text": [
      "Elapsed time: 48.5251681804657\n",
      "name:      vgg \n",
      "epochs:    20 \n",
      "occlusion: SOFTMAX\n",
      "--------------------------\n"
     ]
    },
    {
     "name": "stderr",
     "output_type": "stream",
     "text": [
      "100%|██████████| 503/503 [00:48<00:00, 10.47it/s]\n"
     ]
    },
    {
     "name": "stdout",
     "output_type": "stream",
     "text": [
      "Elapsed time: 48.08148550987244\n",
      "name:      densenet \n",
      "epochs:    10 \n",
      "occlusion: SOFTMAX\n",
      "--------------------------\n"
     ]
    },
    {
     "name": "stderr",
     "output_type": "stream",
     "text": [
      "100%|██████████| 503/503 [00:40<00:00, 12.37it/s]\n"
     ]
    },
    {
     "name": "stdout",
     "output_type": "stream",
     "text": [
      "Elapsed time: 40.70724105834961\n",
      "name:      densenet \n",
      "epochs:    20 \n",
      "occlusion: SOFTMAX\n",
      "--------------------------\n"
     ]
    },
    {
     "name": "stderr",
     "output_type": "stream",
     "text": [
      "100%|██████████| 503/503 [00:40<00:00, 12.37it/s]\n"
     ]
    },
    {
     "name": "stdout",
     "output_type": "stream",
     "text": [
      "Elapsed time: 40.6937689781189\n",
      "name:      densenet \n",
      "epochs:    10 \n",
      "occlusion: 0\n",
      "--------------------------\n"
     ]
    },
    {
     "name": "stderr",
     "output_type": "stream",
     "text": [
      "100%|██████████| 503/503 [00:40<00:00, 12.39it/s]\n"
     ]
    },
    {
     "name": "stdout",
     "output_type": "stream",
     "text": [
      "Elapsed time: 40.62106776237488\n",
      "name:      densenet \n",
      "epochs:    20 \n",
      "occlusion: 0\n",
      "--------------------------\n"
     ]
    },
    {
     "name": "stderr",
     "output_type": "stream",
     "text": [
      "100%|██████████| 503/503 [00:40<00:00, 12.36it/s]\n"
     ]
    },
    {
     "name": "stdout",
     "output_type": "stream",
     "text": [
      "Elapsed time: 40.72731971740723\n",
      "name:      densenet \n",
      "epochs:    10 \n",
      "occlusion: 1\n",
      "--------------------------\n"
     ]
    },
    {
     "name": "stderr",
     "output_type": "stream",
     "text": [
      "100%|██████████| 503/503 [00:40<00:00, 12.38it/s]\n"
     ]
    },
    {
     "name": "stdout",
     "output_type": "stream",
     "text": [
      "Elapsed time: 40.658164739608765\n",
      "name:      densenet \n",
      "epochs:    20 \n",
      "occlusion: 1\n",
      "--------------------------\n"
     ]
    },
    {
     "name": "stderr",
     "output_type": "stream",
     "text": [
      "100%|██████████| 503/503 [00:40<00:00, 12.37it/s]\n"
     ]
    },
    {
     "name": "stdout",
     "output_type": "stream",
     "text": [
      "Elapsed time: 40.70690941810608\n",
      "name:      densenet \n",
      "epochs:    10 \n",
      "occlusion: GAUSSIAN\n",
      "--------------------------\n"
     ]
    },
    {
     "name": "stderr",
     "output_type": "stream",
     "text": [
      "100%|██████████| 503/503 [00:40<00:00, 12.40it/s]\n"
     ]
    },
    {
     "name": "stdout",
     "output_type": "stream",
     "text": [
      "Elapsed time: 40.603312253952026\n",
      "name:      densenet \n",
      "epochs:    20 \n",
      "occlusion: GAUSSIAN\n",
      "--------------------------\n"
     ]
    },
    {
     "name": "stderr",
     "output_type": "stream",
     "text": [
      "100%|██████████| 503/503 [00:40<00:00, 12.38it/s]\n"
     ]
    },
    {
     "name": "stdout",
     "output_type": "stream",
     "text": [
      "Elapsed time: 40.64921045303345\n",
      "name:      densenet \n",
      "epochs:    10 \n",
      "occlusion: SOFTMAX\n",
      "--------------------------\n"
     ]
    },
    {
     "name": "stderr",
     "output_type": "stream",
     "text": [
      "100%|██████████| 503/503 [00:40<00:00, 12.39it/s]\n"
     ]
    },
    {
     "name": "stdout",
     "output_type": "stream",
     "text": [
      "Elapsed time: 40.61827301979065\n",
      "name:      densenet \n",
      "epochs:    20 \n",
      "occlusion: SOFTMAX\n",
      "--------------------------\n"
     ]
    },
    {
     "name": "stderr",
     "output_type": "stream",
     "text": [
      "100%|██████████| 503/503 [00:40<00:00, 12.35it/s]\n"
     ]
    },
    {
     "name": "stdout",
     "output_type": "stream",
     "text": [
      "Elapsed time: 40.77331566810608\n",
      "name:      resnet \n",
      "epochs:    10 \n",
      "occlusion: SOFTMAX\n",
      "--------------------------\n"
     ]
    },
    {
     "name": "stderr",
     "output_type": "stream",
     "text": [
      "100%|██████████| 503/503 [00:20<00:00, 25.03it/s]\n"
     ]
    },
    {
     "name": "stdout",
     "output_type": "stream",
     "text": [
      "Elapsed time: 20.129079580307007\n",
      "name:      resnet \n",
      "epochs:    20 \n",
      "occlusion: SOFTMAX\n",
      "--------------------------\n"
     ]
    },
    {
     "name": "stderr",
     "output_type": "stream",
     "text": [
      "100%|██████████| 503/503 [00:19<00:00, 25.26it/s]\n"
     ]
    },
    {
     "name": "stdout",
     "output_type": "stream",
     "text": [
      "Elapsed time: 19.951444387435913\n",
      "name:      resnet \n",
      "epochs:    10 \n",
      "occlusion: 0\n",
      "--------------------------\n"
     ]
    },
    {
     "name": "stderr",
     "output_type": "stream",
     "text": [
      "100%|██████████| 503/503 [00:19<00:00, 25.27it/s]\n"
     ]
    },
    {
     "name": "stdout",
     "output_type": "stream",
     "text": [
      "Elapsed time: 19.939294815063477\n",
      "name:      resnet \n",
      "epochs:    20 \n",
      "occlusion: 0\n",
      "--------------------------\n"
     ]
    },
    {
     "name": "stderr",
     "output_type": "stream",
     "text": [
      "100%|██████████| 503/503 [00:20<00:00, 25.07it/s]\n"
     ]
    },
    {
     "name": "stdout",
     "output_type": "stream",
     "text": [
      "Elapsed time: 20.099688291549683\n",
      "name:      resnet \n",
      "epochs:    10 \n",
      "occlusion: 1\n",
      "--------------------------\n"
     ]
    },
    {
     "name": "stderr",
     "output_type": "stream",
     "text": [
      "100%|██████████| 503/503 [00:19<00:00, 25.28it/s]\n"
     ]
    },
    {
     "name": "stdout",
     "output_type": "stream",
     "text": [
      "Elapsed time: 19.931861639022827\n",
      "name:      resnet \n",
      "epochs:    20 \n",
      "occlusion: 1\n",
      "--------------------------\n"
     ]
    },
    {
     "name": "stderr",
     "output_type": "stream",
     "text": [
      "100%|██████████| 503/503 [00:20<00:00, 25.12it/s]\n"
     ]
    },
    {
     "name": "stdout",
     "output_type": "stream",
     "text": [
      "Elapsed time: 20.057472705841064\n",
      "name:      resnet \n",
      "epochs:    10 \n",
      "occlusion: GAUSSIAN\n",
      "--------------------------\n"
     ]
    },
    {
     "name": "stderr",
     "output_type": "stream",
     "text": [
      "100%|██████████| 503/503 [00:19<00:00, 25.22it/s]\n"
     ]
    },
    {
     "name": "stdout",
     "output_type": "stream",
     "text": [
      "Elapsed time: 19.98232650756836\n",
      "name:      resnet \n",
      "epochs:    20 \n",
      "occlusion: GAUSSIAN\n",
      "--------------------------\n"
     ]
    },
    {
     "name": "stderr",
     "output_type": "stream",
     "text": [
      "100%|██████████| 503/503 [00:19<00:00, 25.27it/s]\n"
     ]
    },
    {
     "name": "stdout",
     "output_type": "stream",
     "text": [
      "Elapsed time: 19.941118478775024\n",
      "name:      resnet \n",
      "epochs:    10 \n",
      "occlusion: SOFTMAX\n",
      "--------------------------\n"
     ]
    },
    {
     "name": "stderr",
     "output_type": "stream",
     "text": [
      "100%|██████████| 503/503 [00:20<00:00, 25.00it/s]\n"
     ]
    },
    {
     "name": "stdout",
     "output_type": "stream",
     "text": [
      "Elapsed time: 20.15683341026306\n",
      "name:      resnet \n",
      "epochs:    20 \n",
      "occlusion: SOFTMAX\n",
      "--------------------------\n"
     ]
    },
    {
     "name": "stderr",
     "output_type": "stream",
     "text": [
      "100%|██████████| 503/503 [00:20<00:00, 24.85it/s]"
     ]
    },
    {
     "name": "stdout",
     "output_type": "stream",
     "text": [
      "Elapsed time: 20.276432037353516\n"
     ]
    },
    {
     "name": "stderr",
     "output_type": "stream",
     "text": [
      "\n"
     ]
    }
   ],
   "source": [
    "importlib.reload(finetune)\n",
    "\n",
    "datasets = finetune.DATASET_OPTIONS\n",
    "model_names = ['resnet', 'densenet', 'vgg']\n",
    "model_names = reversed(model_names)\n",
    "\n",
    "\n",
    "total_results = {}\n",
    "for dataset in datasets:\n",
    "    finetune.DATASET = dataset\n",
    "    for model_name in model_names:\n",
    "        finetune.CLASSIFIER_NAME = model_name\n",
    "        for occlusion in finetune.OCCLUSION_OPTIONS:\n",
    "            for e in [10, 20]: # 10, 20, 30, 40, 50\n",
    "                # print(f'Testing: {dataset} {model_name} {occlusion}')\n",
    "                if occlusion is not None:\n",
    "                    finetune.OCCLUSION_NAME = occlusion\n",
    "                load_path = finetune.format_model_path(model_name, dataset, e)\n",
    "\n",
    "                metrics = finetune.test_model(load_path, _verbose=True)\n",
    "                metrics['dataset'] = dataset\n",
    "\n",
    "                # This line is just for windows\n",
    "                load_path = load_path.replace('\\\\', '/')\n",
    "                file_name = load_path.split('/')[-1].replace('.pth', '')\n",
    "\n",
    "                total_results[file_name] = metrics"
   ]
  },
  {
   "cell_type": "code",
   "execution_count": 19,
   "metadata": {
    "collapsed": false,
    "jupyter": {
     "outputs_hidden": false
    },
    "pycharm": {
     "name": "#%%\n"
    }
   },
   "outputs": [
    {
     "name": "stdout",
     "output_type": "stream",
     "text": [
      "dict_keys(['vgg_StanfordCars_E10', 'vgg_StanfordCars_E20', 'vgg_StanfordCars_E10_occ0', 'vgg_StanfordCars_E20_occ0', 'vgg_StanfordCars_E10_occ1', 'vgg_StanfordCars_E20_occ1', 'vgg_StanfordCars_E10_occGAUSSIAN', 'vgg_StanfordCars_E20_occGAUSSIAN', 'vgg_StanfordCars_E10_occSOFTMAX', 'vgg_StanfordCars_E20_occSOFTMAX', 'densenet_StanfordCars_E10_occSOFTMAX', 'densenet_StanfordCars_E20_occSOFTMAX', 'densenet_StanfordCars_E10_occ0', 'densenet_StanfordCars_E20_occ0', 'densenet_StanfordCars_E10_occ1', 'densenet_StanfordCars_E20_occ1', 'densenet_StanfordCars_E10_occGAUSSIAN', 'densenet_StanfordCars_E20_occGAUSSIAN', 'resnet_StanfordCars_E10_occSOFTMAX', 'resnet_StanfordCars_E20_occSOFTMAX', 'resnet_StanfordCars_E10_occ0', 'resnet_StanfordCars_E20_occ0', 'resnet_StanfordCars_E10_occ1', 'resnet_StanfordCars_E20_occ1', 'resnet_StanfordCars_E10_occGAUSSIAN', 'resnet_StanfordCars_E20_occGAUSSIAN'])\n",
      "[dict_keys(['accuracy', 'precision', 'recall', 'f1', 'total_predicted', 'total_labels', 'dataset']), dict_keys(['accuracy', 'precision', 'recall', 'f1', 'total_predicted', 'total_labels', 'dataset']), dict_keys(['accuracy', 'precision', 'recall', 'f1', 'total_predicted', 'total_labels', 'dataset']), dict_keys(['accuracy', 'precision', 'recall', 'f1', 'total_predicted', 'total_labels', 'dataset']), dict_keys(['accuracy', 'precision', 'recall', 'f1', 'total_predicted', 'total_labels', 'dataset']), dict_keys(['accuracy', 'precision', 'recall', 'f1', 'total_predicted', 'total_labels', 'dataset']), dict_keys(['accuracy', 'precision', 'recall', 'f1', 'total_predicted', 'total_labels', 'dataset']), dict_keys(['accuracy', 'precision', 'recall', 'f1', 'total_predicted', 'total_labels', 'dataset']), dict_keys(['accuracy', 'precision', 'recall', 'f1', 'total_predicted', 'total_labels', 'dataset']), dict_keys(['accuracy', 'precision', 'recall', 'f1', 'total_predicted', 'total_labels', 'dataset']), dict_keys(['accuracy', 'precision', 'recall', 'f1', 'total_predicted', 'total_labels', 'dataset']), dict_keys(['accuracy', 'precision', 'recall', 'f1', 'total_predicted', 'total_labels', 'dataset']), dict_keys(['accuracy', 'precision', 'recall', 'f1', 'total_predicted', 'total_labels', 'dataset']), dict_keys(['accuracy', 'precision', 'recall', 'f1', 'total_predicted', 'total_labels', 'dataset']), dict_keys(['accuracy', 'precision', 'recall', 'f1', 'total_predicted', 'total_labels', 'dataset']), dict_keys(['accuracy', 'precision', 'recall', 'f1', 'total_predicted', 'total_labels', 'dataset']), dict_keys(['accuracy', 'precision', 'recall', 'f1', 'total_predicted', 'total_labels', 'dataset']), dict_keys(['accuracy', 'precision', 'recall', 'f1', 'total_predicted', 'total_labels', 'dataset']), dict_keys(['accuracy', 'precision', 'recall', 'f1', 'total_predicted', 'total_labels', 'dataset']), dict_keys(['accuracy', 'precision', 'recall', 'f1', 'total_predicted', 'total_labels', 'dataset']), dict_keys(['accuracy', 'precision', 'recall', 'f1', 'total_predicted', 'total_labels', 'dataset']), dict_keys(['accuracy', 'precision', 'recall', 'f1', 'total_predicted', 'total_labels', 'dataset']), dict_keys(['accuracy', 'precision', 'recall', 'f1', 'total_predicted', 'total_labels', 'dataset']), dict_keys(['accuracy', 'precision', 'recall', 'f1', 'total_predicted', 'total_labels', 'dataset']), dict_keys(['accuracy', 'precision', 'recall', 'f1', 'total_predicted', 'total_labels', 'dataset']), dict_keys(['accuracy', 'precision', 'recall', 'f1', 'total_predicted', 'total_labels', 'dataset'])]\n"
     ]
    },
    {
     "data": {
      "text/html": [
       "<div>\n",
       "<style scoped>\n",
       "    .dataframe tbody tr th:only-of-type {\n",
       "        vertical-align: middle;\n",
       "    }\n",
       "\n",
       "    .dataframe tbody tr th {\n",
       "        vertical-align: top;\n",
       "    }\n",
       "\n",
       "    .dataframe thead th {\n",
       "        text-align: right;\n",
       "    }\n",
       "</style>\n",
       "<table border=\"1\" class=\"dataframe\">\n",
       "  <thead>\n",
       "    <tr style=\"text-align: right;\">\n",
       "      <th></th>\n",
       "      <th>accuracy</th>\n",
       "      <th>precision</th>\n",
       "      <th>recall</th>\n",
       "      <th>f1</th>\n",
       "      <th>total_predicted</th>\n",
       "      <th>total_labels</th>\n",
       "      <th>dataset</th>\n",
       "    </tr>\n",
       "  </thead>\n",
       "  <tbody>\n",
       "    <tr>\n",
       "      <th>vgg_StanfordCars_E10</th>\n",
       "      <td>0.715920</td>\n",
       "      <td>0.762110</td>\n",
       "      <td>0.715920</td>\n",
       "      <td>0.714437</td>\n",
       "      <td>[117.0, 10.0, 137.0, 90.0, 41.0, 35.0, 9.0, 35...</td>\n",
       "      <td>[117.0, 10.0, 137.0, 90.0, 22.0, 189.0, 9.0, 3...</td>\n",
       "      <td>StanfordCars</td>\n",
       "    </tr>\n",
       "    <tr>\n",
       "      <th>vgg_StanfordCars_E20</th>\n",
       "      <td>0.741294</td>\n",
       "      <td>0.774111</td>\n",
       "      <td>0.741294</td>\n",
       "      <td>0.741226</td>\n",
       "      <td>[173.0, 96.0, 33.0, 121.0, 158.0, 48.0, 29.0, ...</td>\n",
       "      <td>[173.0, 96.0, 29.0, 72.0, 82.0, 48.0, 29.0, 10...</td>\n",
       "      <td>StanfordCars</td>\n",
       "    </tr>\n",
       "    <tr>\n",
       "      <th>vgg_StanfordCars_E10_occ0</th>\n",
       "      <td>0.301990</td>\n",
       "      <td>0.370036</td>\n",
       "      <td>0.301990</td>\n",
       "      <td>0.281846</td>\n",
       "      <td>[178.0, 21.0, 84.0, 31.0, 131.0, 88.0, 143.0, ...</td>\n",
       "      <td>[85.0, 23.0, 167.0, 172.0, 62.0, 89.0, 172.0, ...</td>\n",
       "      <td>StanfordCars</td>\n",
       "    </tr>\n",
       "    <tr>\n",
       "      <th>vgg_StanfordCars_E20_occ0</th>\n",
       "      <td>0.493781</td>\n",
       "      <td>0.549703</td>\n",
       "      <td>0.493781</td>\n",
       "      <td>0.489349</td>\n",
       "      <td>[2.0, 189.0, 73.0, 40.0, 73.0, 101.0, 7.0, 119...</td>\n",
       "      <td>[183.0, 181.0, 108.0, 40.0, 73.0, 101.0, 7.0, ...</td>\n",
       "      <td>StanfordCars</td>\n",
       "    </tr>\n",
       "    <tr>\n",
       "      <th>vgg_StanfordCars_E10_occ1</th>\n",
       "      <td>0.654478</td>\n",
       "      <td>0.702229</td>\n",
       "      <td>0.654478</td>\n",
       "      <td>0.653138</td>\n",
       "      <td>[100.0, 179.0, 182.0, 149.0, 90.0, 89.0, 7.0, ...</td>\n",
       "      <td>[100.0, 179.0, 182.0, 149.0, 90.0, 82.0, 56.0,...</td>\n",
       "      <td>StanfordCars</td>\n",
       "    </tr>\n",
       "    <tr>\n",
       "      <th>vgg_StanfordCars_E20_occ1</th>\n",
       "      <td>0.656716</td>\n",
       "      <td>0.701845</td>\n",
       "      <td>0.656716</td>\n",
       "      <td>0.655726</td>\n",
       "      <td>[67.0, 150.0, 91.0, 65.0, 42.0, 15.0, 169.0, 1...</td>\n",
       "      <td>[67.0, 8.0, 91.0, 74.0, 42.0, 18.0, 169.0, 155...</td>\n",
       "      <td>StanfordCars</td>\n",
       "    </tr>\n",
       "    <tr>\n",
       "      <th>vgg_StanfordCars_E10_occGAUSSIAN</th>\n",
       "      <td>0.637065</td>\n",
       "      <td>0.689761</td>\n",
       "      <td>0.637065</td>\n",
       "      <td>0.637645</td>\n",
       "      <td>[44.0, 87.0, 133.0, 133.0, 32.0, 84.0, 50.0, 2...</td>\n",
       "      <td>[8.0, 87.0, 49.0, 133.0, 32.0, 60.0, 63.0, 28....</td>\n",
       "      <td>StanfordCars</td>\n",
       "    </tr>\n",
       "    <tr>\n",
       "      <th>vgg_StanfordCars_E20_occGAUSSIAN</th>\n",
       "      <td>0.702239</td>\n",
       "      <td>0.735393</td>\n",
       "      <td>0.702239</td>\n",
       "      <td>0.703500</td>\n",
       "      <td>[68.0, 170.0, 159.0, 128.0, 145.0, 138.0, 102....</td>\n",
       "      <td>[67.0, 170.0, 159.0, 128.0, 145.0, 138.0, 33.0...</td>\n",
       "      <td>StanfordCars</td>\n",
       "    </tr>\n",
       "    <tr>\n",
       "      <th>vgg_StanfordCars_E10_occSOFTMAX</th>\n",
       "      <td>0.659701</td>\n",
       "      <td>0.712129</td>\n",
       "      <td>0.659701</td>\n",
       "      <td>0.659041</td>\n",
       "      <td>[158.0, 105.0, 60.0, 156.0, 104.0, 129.0, 102....</td>\n",
       "      <td>[82.0, 105.0, 60.0, 156.0, 104.0, 129.0, 102.0...</td>\n",
       "      <td>StanfordCars</td>\n",
       "    </tr>\n",
       "    <tr>\n",
       "      <th>vgg_StanfordCars_E20_occSOFTMAX</th>\n",
       "      <td>0.683831</td>\n",
       "      <td>0.729407</td>\n",
       "      <td>0.683831</td>\n",
       "      <td>0.680329</td>\n",
       "      <td>[102.0, 80.0, 19.0, 86.0, 160.0, 41.0, 72.0, 1...</td>\n",
       "      <td>[102.0, 80.0, 13.0, 86.0, 160.0, 40.0, 72.0, 1...</td>\n",
       "      <td>StanfordCars</td>\n",
       "    </tr>\n",
       "    <tr>\n",
       "      <th>densenet_StanfordCars_E10_occSOFTMAX</th>\n",
       "      <td>0.632587</td>\n",
       "      <td>0.703338</td>\n",
       "      <td>0.632587</td>\n",
       "      <td>0.629883</td>\n",
       "      <td>[89.0, 143.0, 38.0, 195.0, 35.0, 51.0, 35.0, 1...</td>\n",
       "      <td>[89.0, 103.0, 38.0, 195.0, 35.0, 51.0, 35.0, 1...</td>\n",
       "      <td>StanfordCars</td>\n",
       "    </tr>\n",
       "    <tr>\n",
       "      <th>densenet_StanfordCars_E20_occSOFTMAX</th>\n",
       "      <td>0.721642</td>\n",
       "      <td>0.766537</td>\n",
       "      <td>0.721642</td>\n",
       "      <td>0.722829</td>\n",
       "      <td>[168.0, 62.0, 92.0, 102.0, 60.0, 186.0, 69.0, ...</td>\n",
       "      <td>[168.0, 62.0, 92.0, 102.0, 60.0, 186.0, 146.0,...</td>\n",
       "      <td>StanfordCars</td>\n",
       "    </tr>\n",
       "    <tr>\n",
       "      <th>densenet_StanfordCars_E10_occ0</th>\n",
       "      <td>0.608706</td>\n",
       "      <td>0.695528</td>\n",
       "      <td>0.608706</td>\n",
       "      <td>0.611269</td>\n",
       "      <td>[47.0, 150.0, 74.0, 115.0, 2.0, 192.0, 16.0, 1...</td>\n",
       "      <td>[47.0, 150.0, 91.0, 115.0, 2.0, 192.0, 16.0, 1...</td>\n",
       "      <td>StanfordCars</td>\n",
       "    </tr>\n",
       "    <tr>\n",
       "      <th>densenet_StanfordCars_E20_occ0</th>\n",
       "      <td>0.754726</td>\n",
       "      <td>0.791633</td>\n",
       "      <td>0.754726</td>\n",
       "      <td>0.756169</td>\n",
       "      <td>[114.0, 135.0, 147.0, 38.0, 174.0, 90.0, 190.0...</td>\n",
       "      <td>[175.0, 135.0, 147.0, 38.0, 174.0, 90.0, 190.0...</td>\n",
       "      <td>StanfordCars</td>\n",
       "    </tr>\n",
       "    <tr>\n",
       "      <th>densenet_StanfordCars_E10_occ1</th>\n",
       "      <td>0.474129</td>\n",
       "      <td>0.589459</td>\n",
       "      <td>0.474129</td>\n",
       "      <td>0.466660</td>\n",
       "      <td>[153.0, 49.0, 85.0, 114.0, 134.0, 50.0, 134.0,...</td>\n",
       "      <td>[188.0, 6.0, 85.0, 55.0, 134.0, 50.0, 195.0, 2...</td>\n",
       "      <td>StanfordCars</td>\n",
       "    </tr>\n",
       "    <tr>\n",
       "      <th>densenet_StanfordCars_E20_occ1</th>\n",
       "      <td>0.677114</td>\n",
       "      <td>0.722723</td>\n",
       "      <td>0.677114</td>\n",
       "      <td>0.672514</td>\n",
       "      <td>[120.0, 122.0, 118.0, 74.0, 12.0, 92.0, 78.0, ...</td>\n",
       "      <td>[120.0, 96.0, 70.0, 74.0, 12.0, 92.0, 78.0, 14...</td>\n",
       "      <td>StanfordCars</td>\n",
       "    </tr>\n",
       "    <tr>\n",
       "      <th>densenet_StanfordCars_E10_occGAUSSIAN</th>\n",
       "      <td>0.664428</td>\n",
       "      <td>0.718600</td>\n",
       "      <td>0.664428</td>\n",
       "      <td>0.663861</td>\n",
       "      <td>[58.0, 29.0, 108.0, 57.0, 118.0, 148.0, 11.0, ...</td>\n",
       "      <td>[58.0, 29.0, 170.0, 57.0, 118.0, 148.0, 11.0, ...</td>\n",
       "      <td>StanfordCars</td>\n",
       "    </tr>\n",
       "    <tr>\n",
       "      <th>densenet_StanfordCars_E20_occGAUSSIAN</th>\n",
       "      <td>0.741045</td>\n",
       "      <td>0.789327</td>\n",
       "      <td>0.741045</td>\n",
       "      <td>0.743988</td>\n",
       "      <td>[193.0, 3.0, 132.0, 85.0, 92.0, 90.0, 176.0, 6...</td>\n",
       "      <td>[180.0, 3.0, 132.0, 85.0, 92.0, 90.0, 176.0, 6...</td>\n",
       "      <td>StanfordCars</td>\n",
       "    </tr>\n",
       "    <tr>\n",
       "      <th>resnet_StanfordCars_E10_occSOFTMAX</th>\n",
       "      <td>0.533582</td>\n",
       "      <td>0.614993</td>\n",
       "      <td>0.533582</td>\n",
       "      <td>0.527438</td>\n",
       "      <td>[121.0, 26.0, 36.0, 158.0, 76.0, 188.0, 56.0, ...</td>\n",
       "      <td>[121.0, 27.0, 36.0, 90.0, 76.0, 188.0, 58.0, 6...</td>\n",
       "      <td>StanfordCars</td>\n",
       "    </tr>\n",
       "    <tr>\n",
       "      <th>resnet_StanfordCars_E20_occSOFTMAX</th>\n",
       "      <td>0.616667</td>\n",
       "      <td>0.661326</td>\n",
       "      <td>0.616667</td>\n",
       "      <td>0.612363</td>\n",
       "      <td>[58.0, 7.0, 97.0, 132.0, 47.0, 59.0, 56.0, 120...</td>\n",
       "      <td>[164.0, 7.0, 97.0, 52.0, 47.0, 60.0, 56.0, 120...</td>\n",
       "      <td>StanfordCars</td>\n",
       "    </tr>\n",
       "    <tr>\n",
       "      <th>resnet_StanfordCars_E10_occ0</th>\n",
       "      <td>0.351244</td>\n",
       "      <td>0.430806</td>\n",
       "      <td>0.351244</td>\n",
       "      <td>0.332071</td>\n",
       "      <td>[67.0, 175.0, 63.0, 142.0, 103.0, 76.0, 167.0,...</td>\n",
       "      <td>[72.0, 174.0, 129.0, 51.0, 149.0, 47.0, 167.0,...</td>\n",
       "      <td>StanfordCars</td>\n",
       "    </tr>\n",
       "    <tr>\n",
       "      <th>resnet_StanfordCars_E20_occ0</th>\n",
       "      <td>0.569652</td>\n",
       "      <td>0.626163</td>\n",
       "      <td>0.569652</td>\n",
       "      <td>0.565574</td>\n",
       "      <td>[149.0, 17.0, 21.0, 48.0, 139.0, 116.0, 89.0, ...</td>\n",
       "      <td>[101.0, 174.0, 21.0, 48.0, 6.0, 142.0, 90.0, 1...</td>\n",
       "      <td>StanfordCars</td>\n",
       "    </tr>\n",
       "    <tr>\n",
       "      <th>resnet_StanfordCars_E10_occ1</th>\n",
       "      <td>0.016915</td>\n",
       "      <td>0.006972</td>\n",
       "      <td>0.016915</td>\n",
       "      <td>0.003920</td>\n",
       "      <td>[153.0, 119.0, 161.0, 119.0, 45.0, 163.0, 56.0...</td>\n",
       "      <td>[76.0, 137.0, 8.0, 138.0, 15.0, 90.0, 102.0, 8...</td>\n",
       "      <td>StanfordCars</td>\n",
       "    </tr>\n",
       "    <tr>\n",
       "      <th>resnet_StanfordCars_E20_occ1</th>\n",
       "      <td>0.051244</td>\n",
       "      <td>0.040967</td>\n",
       "      <td>0.051244</td>\n",
       "      <td>0.038023</td>\n",
       "      <td>[190.0, 127.0, 142.0, 73.0, 80.0, 67.0, 81.0, ...</td>\n",
       "      <td>[69.0, 77.0, 83.0, 147.0, 92.0, 95.0, 90.0, 13...</td>\n",
       "      <td>StanfordCars</td>\n",
       "    </tr>\n",
       "    <tr>\n",
       "      <th>resnet_StanfordCars_E10_occGAUSSIAN</th>\n",
       "      <td>0.371393</td>\n",
       "      <td>0.481982</td>\n",
       "      <td>0.371393</td>\n",
       "      <td>0.361173</td>\n",
       "      <td>[41.0, 111.0, 75.0, 62.0, 193.0, 28.0, 123.0, ...</td>\n",
       "      <td>[40.0, 177.0, 86.0, 65.0, 49.0, 28.0, 124.0, 1...</td>\n",
       "      <td>StanfordCars</td>\n",
       "    </tr>\n",
       "    <tr>\n",
       "      <th>resnet_StanfordCars_E20_occGAUSSIAN</th>\n",
       "      <td>0.584826</td>\n",
       "      <td>0.644007</td>\n",
       "      <td>0.584826</td>\n",
       "      <td>0.579291</td>\n",
       "      <td>[46.0, 56.0, 16.0, 79.0, 186.0, 154.0, 122.0, ...</td>\n",
       "      <td>[46.0, 56.0, 15.0, 79.0, 130.0, 154.0, 122.0, ...</td>\n",
       "      <td>StanfordCars</td>\n",
       "    </tr>\n",
       "  </tbody>\n",
       "</table>\n",
       "</div>"
      ],
      "text/plain": [
       "                                       accuracy  precision    recall  \\\n",
       "vgg_StanfordCars_E10                   0.715920   0.762110  0.715920   \n",
       "vgg_StanfordCars_E20                   0.741294   0.774111  0.741294   \n",
       "vgg_StanfordCars_E10_occ0              0.301990   0.370036  0.301990   \n",
       "vgg_StanfordCars_E20_occ0              0.493781   0.549703  0.493781   \n",
       "vgg_StanfordCars_E10_occ1              0.654478   0.702229  0.654478   \n",
       "vgg_StanfordCars_E20_occ1              0.656716   0.701845  0.656716   \n",
       "vgg_StanfordCars_E10_occGAUSSIAN       0.637065   0.689761  0.637065   \n",
       "vgg_StanfordCars_E20_occGAUSSIAN       0.702239   0.735393  0.702239   \n",
       "vgg_StanfordCars_E10_occSOFTMAX        0.659701   0.712129  0.659701   \n",
       "vgg_StanfordCars_E20_occSOFTMAX        0.683831   0.729407  0.683831   \n",
       "densenet_StanfordCars_E10_occSOFTMAX   0.632587   0.703338  0.632587   \n",
       "densenet_StanfordCars_E20_occSOFTMAX   0.721642   0.766537  0.721642   \n",
       "densenet_StanfordCars_E10_occ0         0.608706   0.695528  0.608706   \n",
       "densenet_StanfordCars_E20_occ0         0.754726   0.791633  0.754726   \n",
       "densenet_StanfordCars_E10_occ1         0.474129   0.589459  0.474129   \n",
       "densenet_StanfordCars_E20_occ1         0.677114   0.722723  0.677114   \n",
       "densenet_StanfordCars_E10_occGAUSSIAN  0.664428   0.718600  0.664428   \n",
       "densenet_StanfordCars_E20_occGAUSSIAN  0.741045   0.789327  0.741045   \n",
       "resnet_StanfordCars_E10_occSOFTMAX     0.533582   0.614993  0.533582   \n",
       "resnet_StanfordCars_E20_occSOFTMAX     0.616667   0.661326  0.616667   \n",
       "resnet_StanfordCars_E10_occ0           0.351244   0.430806  0.351244   \n",
       "resnet_StanfordCars_E20_occ0           0.569652   0.626163  0.569652   \n",
       "resnet_StanfordCars_E10_occ1           0.016915   0.006972  0.016915   \n",
       "resnet_StanfordCars_E20_occ1           0.051244   0.040967  0.051244   \n",
       "resnet_StanfordCars_E10_occGAUSSIAN    0.371393   0.481982  0.371393   \n",
       "resnet_StanfordCars_E20_occGAUSSIAN    0.584826   0.644007  0.584826   \n",
       "\n",
       "                                             f1  \\\n",
       "vgg_StanfordCars_E10                   0.714437   \n",
       "vgg_StanfordCars_E20                   0.741226   \n",
       "vgg_StanfordCars_E10_occ0              0.281846   \n",
       "vgg_StanfordCars_E20_occ0              0.489349   \n",
       "vgg_StanfordCars_E10_occ1              0.653138   \n",
       "vgg_StanfordCars_E20_occ1              0.655726   \n",
       "vgg_StanfordCars_E10_occGAUSSIAN       0.637645   \n",
       "vgg_StanfordCars_E20_occGAUSSIAN       0.703500   \n",
       "vgg_StanfordCars_E10_occSOFTMAX        0.659041   \n",
       "vgg_StanfordCars_E20_occSOFTMAX        0.680329   \n",
       "densenet_StanfordCars_E10_occSOFTMAX   0.629883   \n",
       "densenet_StanfordCars_E20_occSOFTMAX   0.722829   \n",
       "densenet_StanfordCars_E10_occ0         0.611269   \n",
       "densenet_StanfordCars_E20_occ0         0.756169   \n",
       "densenet_StanfordCars_E10_occ1         0.466660   \n",
       "densenet_StanfordCars_E20_occ1         0.672514   \n",
       "densenet_StanfordCars_E10_occGAUSSIAN  0.663861   \n",
       "densenet_StanfordCars_E20_occGAUSSIAN  0.743988   \n",
       "resnet_StanfordCars_E10_occSOFTMAX     0.527438   \n",
       "resnet_StanfordCars_E20_occSOFTMAX     0.612363   \n",
       "resnet_StanfordCars_E10_occ0           0.332071   \n",
       "resnet_StanfordCars_E20_occ0           0.565574   \n",
       "resnet_StanfordCars_E10_occ1           0.003920   \n",
       "resnet_StanfordCars_E20_occ1           0.038023   \n",
       "resnet_StanfordCars_E10_occGAUSSIAN    0.361173   \n",
       "resnet_StanfordCars_E20_occGAUSSIAN    0.579291   \n",
       "\n",
       "                                                                         total_predicted  \\\n",
       "vgg_StanfordCars_E10                   [117.0, 10.0, 137.0, 90.0, 41.0, 35.0, 9.0, 35...   \n",
       "vgg_StanfordCars_E20                   [173.0, 96.0, 33.0, 121.0, 158.0, 48.0, 29.0, ...   \n",
       "vgg_StanfordCars_E10_occ0              [178.0, 21.0, 84.0, 31.0, 131.0, 88.0, 143.0, ...   \n",
       "vgg_StanfordCars_E20_occ0              [2.0, 189.0, 73.0, 40.0, 73.0, 101.0, 7.0, 119...   \n",
       "vgg_StanfordCars_E10_occ1              [100.0, 179.0, 182.0, 149.0, 90.0, 89.0, 7.0, ...   \n",
       "vgg_StanfordCars_E20_occ1              [67.0, 150.0, 91.0, 65.0, 42.0, 15.0, 169.0, 1...   \n",
       "vgg_StanfordCars_E10_occGAUSSIAN       [44.0, 87.0, 133.0, 133.0, 32.0, 84.0, 50.0, 2...   \n",
       "vgg_StanfordCars_E20_occGAUSSIAN       [68.0, 170.0, 159.0, 128.0, 145.0, 138.0, 102....   \n",
       "vgg_StanfordCars_E10_occSOFTMAX        [158.0, 105.0, 60.0, 156.0, 104.0, 129.0, 102....   \n",
       "vgg_StanfordCars_E20_occSOFTMAX        [102.0, 80.0, 19.0, 86.0, 160.0, 41.0, 72.0, 1...   \n",
       "densenet_StanfordCars_E10_occSOFTMAX   [89.0, 143.0, 38.0, 195.0, 35.0, 51.0, 35.0, 1...   \n",
       "densenet_StanfordCars_E20_occSOFTMAX   [168.0, 62.0, 92.0, 102.0, 60.0, 186.0, 69.0, ...   \n",
       "densenet_StanfordCars_E10_occ0         [47.0, 150.0, 74.0, 115.0, 2.0, 192.0, 16.0, 1...   \n",
       "densenet_StanfordCars_E20_occ0         [114.0, 135.0, 147.0, 38.0, 174.0, 90.0, 190.0...   \n",
       "densenet_StanfordCars_E10_occ1         [153.0, 49.0, 85.0, 114.0, 134.0, 50.0, 134.0,...   \n",
       "densenet_StanfordCars_E20_occ1         [120.0, 122.0, 118.0, 74.0, 12.0, 92.0, 78.0, ...   \n",
       "densenet_StanfordCars_E10_occGAUSSIAN  [58.0, 29.0, 108.0, 57.0, 118.0, 148.0, 11.0, ...   \n",
       "densenet_StanfordCars_E20_occGAUSSIAN  [193.0, 3.0, 132.0, 85.0, 92.0, 90.0, 176.0, 6...   \n",
       "resnet_StanfordCars_E10_occSOFTMAX     [121.0, 26.0, 36.0, 158.0, 76.0, 188.0, 56.0, ...   \n",
       "resnet_StanfordCars_E20_occSOFTMAX     [58.0, 7.0, 97.0, 132.0, 47.0, 59.0, 56.0, 120...   \n",
       "resnet_StanfordCars_E10_occ0           [67.0, 175.0, 63.0, 142.0, 103.0, 76.0, 167.0,...   \n",
       "resnet_StanfordCars_E20_occ0           [149.0, 17.0, 21.0, 48.0, 139.0, 116.0, 89.0, ...   \n",
       "resnet_StanfordCars_E10_occ1           [153.0, 119.0, 161.0, 119.0, 45.0, 163.0, 56.0...   \n",
       "resnet_StanfordCars_E20_occ1           [190.0, 127.0, 142.0, 73.0, 80.0, 67.0, 81.0, ...   \n",
       "resnet_StanfordCars_E10_occGAUSSIAN    [41.0, 111.0, 75.0, 62.0, 193.0, 28.0, 123.0, ...   \n",
       "resnet_StanfordCars_E20_occGAUSSIAN    [46.0, 56.0, 16.0, 79.0, 186.0, 154.0, 122.0, ...   \n",
       "\n",
       "                                                                            total_labels  \\\n",
       "vgg_StanfordCars_E10                   [117.0, 10.0, 137.0, 90.0, 22.0, 189.0, 9.0, 3...   \n",
       "vgg_StanfordCars_E20                   [173.0, 96.0, 29.0, 72.0, 82.0, 48.0, 29.0, 10...   \n",
       "vgg_StanfordCars_E10_occ0              [85.0, 23.0, 167.0, 172.0, 62.0, 89.0, 172.0, ...   \n",
       "vgg_StanfordCars_E20_occ0              [183.0, 181.0, 108.0, 40.0, 73.0, 101.0, 7.0, ...   \n",
       "vgg_StanfordCars_E10_occ1              [100.0, 179.0, 182.0, 149.0, 90.0, 82.0, 56.0,...   \n",
       "vgg_StanfordCars_E20_occ1              [67.0, 8.0, 91.0, 74.0, 42.0, 18.0, 169.0, 155...   \n",
       "vgg_StanfordCars_E10_occGAUSSIAN       [8.0, 87.0, 49.0, 133.0, 32.0, 60.0, 63.0, 28....   \n",
       "vgg_StanfordCars_E20_occGAUSSIAN       [67.0, 170.0, 159.0, 128.0, 145.0, 138.0, 33.0...   \n",
       "vgg_StanfordCars_E10_occSOFTMAX        [82.0, 105.0, 60.0, 156.0, 104.0, 129.0, 102.0...   \n",
       "vgg_StanfordCars_E20_occSOFTMAX        [102.0, 80.0, 13.0, 86.0, 160.0, 40.0, 72.0, 1...   \n",
       "densenet_StanfordCars_E10_occSOFTMAX   [89.0, 103.0, 38.0, 195.0, 35.0, 51.0, 35.0, 1...   \n",
       "densenet_StanfordCars_E20_occSOFTMAX   [168.0, 62.0, 92.0, 102.0, 60.0, 186.0, 146.0,...   \n",
       "densenet_StanfordCars_E10_occ0         [47.0, 150.0, 91.0, 115.0, 2.0, 192.0, 16.0, 1...   \n",
       "densenet_StanfordCars_E20_occ0         [175.0, 135.0, 147.0, 38.0, 174.0, 90.0, 190.0...   \n",
       "densenet_StanfordCars_E10_occ1         [188.0, 6.0, 85.0, 55.0, 134.0, 50.0, 195.0, 2...   \n",
       "densenet_StanfordCars_E20_occ1         [120.0, 96.0, 70.0, 74.0, 12.0, 92.0, 78.0, 14...   \n",
       "densenet_StanfordCars_E10_occGAUSSIAN  [58.0, 29.0, 170.0, 57.0, 118.0, 148.0, 11.0, ...   \n",
       "densenet_StanfordCars_E20_occGAUSSIAN  [180.0, 3.0, 132.0, 85.0, 92.0, 90.0, 176.0, 6...   \n",
       "resnet_StanfordCars_E10_occSOFTMAX     [121.0, 27.0, 36.0, 90.0, 76.0, 188.0, 58.0, 6...   \n",
       "resnet_StanfordCars_E20_occSOFTMAX     [164.0, 7.0, 97.0, 52.0, 47.0, 60.0, 56.0, 120...   \n",
       "resnet_StanfordCars_E10_occ0           [72.0, 174.0, 129.0, 51.0, 149.0, 47.0, 167.0,...   \n",
       "resnet_StanfordCars_E20_occ0           [101.0, 174.0, 21.0, 48.0, 6.0, 142.0, 90.0, 1...   \n",
       "resnet_StanfordCars_E10_occ1           [76.0, 137.0, 8.0, 138.0, 15.0, 90.0, 102.0, 8...   \n",
       "resnet_StanfordCars_E20_occ1           [69.0, 77.0, 83.0, 147.0, 92.0, 95.0, 90.0, 13...   \n",
       "resnet_StanfordCars_E10_occGAUSSIAN    [40.0, 177.0, 86.0, 65.0, 49.0, 28.0, 124.0, 1...   \n",
       "resnet_StanfordCars_E20_occGAUSSIAN    [46.0, 56.0, 15.0, 79.0, 130.0, 154.0, 122.0, ...   \n",
       "\n",
       "                                            dataset  \n",
       "vgg_StanfordCars_E10                   StanfordCars  \n",
       "vgg_StanfordCars_E20                   StanfordCars  \n",
       "vgg_StanfordCars_E10_occ0              StanfordCars  \n",
       "vgg_StanfordCars_E20_occ0              StanfordCars  \n",
       "vgg_StanfordCars_E10_occ1              StanfordCars  \n",
       "vgg_StanfordCars_E20_occ1              StanfordCars  \n",
       "vgg_StanfordCars_E10_occGAUSSIAN       StanfordCars  \n",
       "vgg_StanfordCars_E20_occGAUSSIAN       StanfordCars  \n",
       "vgg_StanfordCars_E10_occSOFTMAX        StanfordCars  \n",
       "vgg_StanfordCars_E20_occSOFTMAX        StanfordCars  \n",
       "densenet_StanfordCars_E10_occSOFTMAX   StanfordCars  \n",
       "densenet_StanfordCars_E20_occSOFTMAX   StanfordCars  \n",
       "densenet_StanfordCars_E10_occ0         StanfordCars  \n",
       "densenet_StanfordCars_E20_occ0         StanfordCars  \n",
       "densenet_StanfordCars_E10_occ1         StanfordCars  \n",
       "densenet_StanfordCars_E20_occ1         StanfordCars  \n",
       "densenet_StanfordCars_E10_occGAUSSIAN  StanfordCars  \n",
       "densenet_StanfordCars_E20_occGAUSSIAN  StanfordCars  \n",
       "resnet_StanfordCars_E10_occSOFTMAX     StanfordCars  \n",
       "resnet_StanfordCars_E20_occSOFTMAX     StanfordCars  \n",
       "resnet_StanfordCars_E10_occ0           StanfordCars  \n",
       "resnet_StanfordCars_E20_occ0           StanfordCars  \n",
       "resnet_StanfordCars_E10_occ1           StanfordCars  \n",
       "resnet_StanfordCars_E20_occ1           StanfordCars  \n",
       "resnet_StanfordCars_E10_occGAUSSIAN    StanfordCars  \n",
       "resnet_StanfordCars_E20_occGAUSSIAN    StanfordCars  "
      ]
     },
     "execution_count": 19,
     "metadata": {},
     "output_type": "execute_result"
    }
   ],
   "source": [
    "#  Save the metrics\n",
    "print(total_results.keys())\n",
    "print([total_results[key].keys() for key in total_results.keys()])\n",
    "df = pd.DataFrame.from_dict(total_results,\n",
    "                       orient='index',\n",
    "                       # columns=['accuracy', 'precision', 'recall', 'f1']\n",
    "                       )\n",
    "\n",
    "df"
   ]
  },
  {
   "cell_type": "code",
   "execution_count": 14,
   "metadata": {
    "collapsed": false,
    "jupyter": {
     "outputs_hidden": false
    },
    "pycharm": {
     "name": "#%%\n"
    }
   },
   "outputs": [],
   "source": [
    "save_path = os.path.join(path_to_data,'testing_results.csv')\n",
    "df.to_csv(save_path)"
   ]
  },
  {
   "cell_type": "code",
   "execution_count": 15,
   "metadata": {
    "collapsed": false,
    "jupyter": {
     "outputs_hidden": false
    },
    "pycharm": {
     "name": "#%%\n"
    }
   },
   "outputs": [
    {
     "data": {
      "text/html": [
       "<div>\n",
       "<style scoped>\n",
       "    .dataframe tbody tr th:only-of-type {\n",
       "        vertical-align: middle;\n",
       "    }\n",
       "\n",
       "    .dataframe tbody tr th {\n",
       "        vertical-align: top;\n",
       "    }\n",
       "\n",
       "    .dataframe thead th {\n",
       "        text-align: right;\n",
       "    }\n",
       "</style>\n",
       "<table border=\"1\" class=\"dataframe\">\n",
       "  <thead>\n",
       "    <tr style=\"text-align: right;\">\n",
       "      <th></th>\n",
       "      <th>accuracy</th>\n",
       "      <th>precision</th>\n",
       "      <th>recall</th>\n",
       "      <th>f1</th>\n",
       "      <th>total_predicted</th>\n",
       "      <th>total_labels</th>\n",
       "      <th>dataset</th>\n",
       "    </tr>\n",
       "  </thead>\n",
       "  <tbody>\n",
       "    <tr>\n",
       "      <th>vgg_StanfordCars_E10</th>\n",
       "      <td>0.715920</td>\n",
       "      <td>0.762110</td>\n",
       "      <td>0.715920</td>\n",
       "      <td>0.714437</td>\n",
       "      <td>[117.  10. 137. ... 135. 123.  81.]</td>\n",
       "      <td>[117.  10. 137. ... 135. 185.  81.]</td>\n",
       "      <td>StanfordCars</td>\n",
       "    </tr>\n",
       "    <tr>\n",
       "      <th>vgg_StanfordCars_E20</th>\n",
       "      <td>0.741294</td>\n",
       "      <td>0.774111</td>\n",
       "      <td>0.741294</td>\n",
       "      <td>0.741226</td>\n",
       "      <td>[173.  96.  33. ... 105. 137.  16.]</td>\n",
       "      <td>[173.  96.  29. ... 105.  74.  16.]</td>\n",
       "      <td>StanfordCars</td>\n",
       "    </tr>\n",
       "    <tr>\n",
       "      <th>vgg_StanfordCars_E10_occ0</th>\n",
       "      <td>0.301990</td>\n",
       "      <td>0.370036</td>\n",
       "      <td>0.301990</td>\n",
       "      <td>0.281846</td>\n",
       "      <td>[178.  21.  84. ... 159. 169.  30.]</td>\n",
       "      <td>[ 85.  23. 167. ...  56. 111.  30.]</td>\n",
       "      <td>StanfordCars</td>\n",
       "    </tr>\n",
       "    <tr>\n",
       "      <th>vgg_StanfordCars_E20_occ0</th>\n",
       "      <td>0.493781</td>\n",
       "      <td>0.549703</td>\n",
       "      <td>0.493781</td>\n",
       "      <td>0.489349</td>\n",
       "      <td>[  2. 189.  73. ... 186.   2.   5.]</td>\n",
       "      <td>[183. 181. 108. ... 186. 131. 131.]</td>\n",
       "      <td>StanfordCars</td>\n",
       "    </tr>\n",
       "    <tr>\n",
       "      <th>vgg_StanfordCars_E10_occ1</th>\n",
       "      <td>0.654478</td>\n",
       "      <td>0.702229</td>\n",
       "      <td>0.654478</td>\n",
       "      <td>0.653138</td>\n",
       "      <td>[100. 179. 182. ...  57. 190.  73.]</td>\n",
       "      <td>[100. 179. 182. ... 100. 190.  73.]</td>\n",
       "      <td>StanfordCars</td>\n",
       "    </tr>\n",
       "    <tr>\n",
       "      <th>vgg_StanfordCars_E20_occ1</th>\n",
       "      <td>0.656716</td>\n",
       "      <td>0.701845</td>\n",
       "      <td>0.656716</td>\n",
       "      <td>0.655726</td>\n",
       "      <td>[ 67. 150.  91. ... 135.  39. 173.]</td>\n",
       "      <td>[ 67.   8.  91. ... 135.  39.  80.]</td>\n",
       "      <td>StanfordCars</td>\n",
       "    </tr>\n",
       "    <tr>\n",
       "      <th>vgg_StanfordCars_E10_occGAUSSIAN</th>\n",
       "      <td>0.637065</td>\n",
       "      <td>0.689761</td>\n",
       "      <td>0.637065</td>\n",
       "      <td>0.637645</td>\n",
       "      <td>[ 44.  87. 133. ... 103. 128.  56.]</td>\n",
       "      <td>[  8.  87.  49. ... 103. 128.  56.]</td>\n",
       "      <td>StanfordCars</td>\n",
       "    </tr>\n",
       "    <tr>\n",
       "      <th>vgg_StanfordCars_E20_occGAUSSIAN</th>\n",
       "      <td>0.702239</td>\n",
       "      <td>0.735393</td>\n",
       "      <td>0.702239</td>\n",
       "      <td>0.703500</td>\n",
       "      <td>[ 68. 170. 159. ... 119. 111. 168.]</td>\n",
       "      <td>[ 67. 170. 159. ... 119. 111.  91.]</td>\n",
       "      <td>StanfordCars</td>\n",
       "    </tr>\n",
       "    <tr>\n",
       "      <th>vgg_StanfordCars_E10_occSOFTMAX</th>\n",
       "      <td>0.659701</td>\n",
       "      <td>0.712129</td>\n",
       "      <td>0.659701</td>\n",
       "      <td>0.659041</td>\n",
       "      <td>[158. 105.  60. ...  19. 140.   0.]</td>\n",
       "      <td>[ 82. 105.  60. ...  19. 140. 148.]</td>\n",
       "      <td>StanfordCars</td>\n",
       "    </tr>\n",
       "    <tr>\n",
       "      <th>vgg_StanfordCars_E20_occSOFTMAX</th>\n",
       "      <td>0.683831</td>\n",
       "      <td>0.729407</td>\n",
       "      <td>0.683831</td>\n",
       "      <td>0.680329</td>\n",
       "      <td>[102.  80.  19. ...  59.  58. 185.]</td>\n",
       "      <td>[102.  80.  13. ...  85. 172. 185.]</td>\n",
       "      <td>StanfordCars</td>\n",
       "    </tr>\n",
       "    <tr>\n",
       "      <th>densenet_StanfordCars_E10_occSOFTMAX</th>\n",
       "      <td>0.632587</td>\n",
       "      <td>0.703338</td>\n",
       "      <td>0.632587</td>\n",
       "      <td>0.629883</td>\n",
       "      <td>[ 89. 143.  38. ... 112.  43. 123.]</td>\n",
       "      <td>[ 89. 103.  38. ... 112.  43. 123.]</td>\n",
       "      <td>StanfordCars</td>\n",
       "    </tr>\n",
       "    <tr>\n",
       "      <th>densenet_StanfordCars_E20_occSOFTMAX</th>\n",
       "      <td>0.721642</td>\n",
       "      <td>0.766537</td>\n",
       "      <td>0.721642</td>\n",
       "      <td>0.722829</td>\n",
       "      <td>[168.  62.  92. ...  34.  55.  37.]</td>\n",
       "      <td>[168.  62.  92. ...  34.  55.  37.]</td>\n",
       "      <td>StanfordCars</td>\n",
       "    </tr>\n",
       "    <tr>\n",
       "      <th>densenet_StanfordCars_E10_occ0</th>\n",
       "      <td>0.608706</td>\n",
       "      <td>0.695528</td>\n",
       "      <td>0.608706</td>\n",
       "      <td>0.611269</td>\n",
       "      <td>[ 47. 150.  74. ...  76. 124.  53.]</td>\n",
       "      <td>[ 47. 150.  91. ...  76. 123. 153.]</td>\n",
       "      <td>StanfordCars</td>\n",
       "    </tr>\n",
       "    <tr>\n",
       "      <th>densenet_StanfordCars_E20_occ0</th>\n",
       "      <td>0.754726</td>\n",
       "      <td>0.791633</td>\n",
       "      <td>0.754726</td>\n",
       "      <td>0.756169</td>\n",
       "      <td>[114. 135. 147. ...  97.  95. 193.]</td>\n",
       "      <td>[175. 135. 147. ...  97.  89. 193.]</td>\n",
       "      <td>StanfordCars</td>\n",
       "    </tr>\n",
       "    <tr>\n",
       "      <th>densenet_StanfordCars_E10_occ1</th>\n",
       "      <td>0.474129</td>\n",
       "      <td>0.589459</td>\n",
       "      <td>0.474129</td>\n",
       "      <td>0.466660</td>\n",
       "      <td>[153.  49.  85. ... 170. 170. 104.]</td>\n",
       "      <td>[188.   6.  85. ... 170.  53.   4.]</td>\n",
       "      <td>StanfordCars</td>\n",
       "    </tr>\n",
       "    <tr>\n",
       "      <th>densenet_StanfordCars_E20_occ1</th>\n",
       "      <td>0.677114</td>\n",
       "      <td>0.722723</td>\n",
       "      <td>0.677114</td>\n",
       "      <td>0.672514</td>\n",
       "      <td>[120. 122. 118. ...  68.  68. 100.]</td>\n",
       "      <td>[120.  96.  70. ...  68.  67. 101.]</td>\n",
       "      <td>StanfordCars</td>\n",
       "    </tr>\n",
       "    <tr>\n",
       "      <th>densenet_StanfordCars_E10_occGAUSSIAN</th>\n",
       "      <td>0.664428</td>\n",
       "      <td>0.718600</td>\n",
       "      <td>0.664428</td>\n",
       "      <td>0.663861</td>\n",
       "      <td>[ 58.  29. 108. ... 185.  60.  64.]</td>\n",
       "      <td>[ 58.  29. 170. ... 145.  60.  64.]</td>\n",
       "      <td>StanfordCars</td>\n",
       "    </tr>\n",
       "    <tr>\n",
       "      <th>densenet_StanfordCars_E20_occGAUSSIAN</th>\n",
       "      <td>0.741045</td>\n",
       "      <td>0.789327</td>\n",
       "      <td>0.741045</td>\n",
       "      <td>0.743988</td>\n",
       "      <td>[193.   3. 132. ...  13. 159.  53.]</td>\n",
       "      <td>[180.   3. 132. ... 161. 159.  72.]</td>\n",
       "      <td>StanfordCars</td>\n",
       "    </tr>\n",
       "    <tr>\n",
       "      <th>resnet_StanfordCars_E10_occSOFTMAX</th>\n",
       "      <td>0.533582</td>\n",
       "      <td>0.614993</td>\n",
       "      <td>0.533582</td>\n",
       "      <td>0.527438</td>\n",
       "      <td>[121.  26.  36. ...  28.  70.  20.]</td>\n",
       "      <td>[121.  27.  36. ...  35.  53. 183.]</td>\n",
       "      <td>StanfordCars</td>\n",
       "    </tr>\n",
       "    <tr>\n",
       "      <th>resnet_StanfordCars_E20_occSOFTMAX</th>\n",
       "      <td>0.616667</td>\n",
       "      <td>0.661326</td>\n",
       "      <td>0.616667</td>\n",
       "      <td>0.612363</td>\n",
       "      <td>[ 58.   7.  97. ... 169.  15.  82.]</td>\n",
       "      <td>[164.   7.  97. ... 177.  15.  83.]</td>\n",
       "      <td>StanfordCars</td>\n",
       "    </tr>\n",
       "    <tr>\n",
       "      <th>resnet_StanfordCars_E10_occ0</th>\n",
       "      <td>0.351244</td>\n",
       "      <td>0.430806</td>\n",
       "      <td>0.351244</td>\n",
       "      <td>0.332071</td>\n",
       "      <td>[ 67. 175.  63. ... 110.  98.  90.]</td>\n",
       "      <td>[ 72. 174. 129. ...  73. 103. 116.]</td>\n",
       "      <td>StanfordCars</td>\n",
       "    </tr>\n",
       "    <tr>\n",
       "      <th>resnet_StanfordCars_E20_occ0</th>\n",
       "      <td>0.569652</td>\n",
       "      <td>0.626163</td>\n",
       "      <td>0.569652</td>\n",
       "      <td>0.565574</td>\n",
       "      <td>[149.  17.  21. ...   9. 150.  84.]</td>\n",
       "      <td>[101. 174.  21. ...   7.  61.  84.]</td>\n",
       "      <td>StanfordCars</td>\n",
       "    </tr>\n",
       "    <tr>\n",
       "      <th>resnet_StanfordCars_E10_occ1</th>\n",
       "      <td>0.016915</td>\n",
       "      <td>0.006972</td>\n",
       "      <td>0.016915</td>\n",
       "      <td>0.003920</td>\n",
       "      <td>[153. 119. 161. ... 119. 119. 163.]</td>\n",
       "      <td>[ 76. 137.   8. ...  73.  12. 168.]</td>\n",
       "      <td>StanfordCars</td>\n",
       "    </tr>\n",
       "    <tr>\n",
       "      <th>resnet_StanfordCars_E20_occ1</th>\n",
       "      <td>0.051244</td>\n",
       "      <td>0.040967</td>\n",
       "      <td>0.051244</td>\n",
       "      <td>0.038023</td>\n",
       "      <td>[190. 127. 142. ... 160.  47.  28.]</td>\n",
       "      <td>[ 69.  77.  83. ... 164. 134. 182.]</td>\n",
       "      <td>StanfordCars</td>\n",
       "    </tr>\n",
       "    <tr>\n",
       "      <th>resnet_StanfordCars_E10_occGAUSSIAN</th>\n",
       "      <td>0.371393</td>\n",
       "      <td>0.481982</td>\n",
       "      <td>0.371393</td>\n",
       "      <td>0.361173</td>\n",
       "      <td>[ 41. 111.  75. ...  21. 188. 120.]</td>\n",
       "      <td>[ 40. 177.  86. ...  23. 188. 120.]</td>\n",
       "      <td>StanfordCars</td>\n",
       "    </tr>\n",
       "    <tr>\n",
       "      <th>resnet_StanfordCars_E20_occGAUSSIAN</th>\n",
       "      <td>0.584826</td>\n",
       "      <td>0.644007</td>\n",
       "      <td>0.584826</td>\n",
       "      <td>0.579291</td>\n",
       "      <td>[46. 56. 16. ... 96. 90.  9.]</td>\n",
       "      <td>[ 46.  56.  15. ...  96.  83. 179.]</td>\n",
       "      <td>StanfordCars</td>\n",
       "    </tr>\n",
       "  </tbody>\n",
       "</table>\n",
       "</div>"
      ],
      "text/plain": [
       "                                       accuracy  precision    recall  \\\n",
       "vgg_StanfordCars_E10                   0.715920   0.762110  0.715920   \n",
       "vgg_StanfordCars_E20                   0.741294   0.774111  0.741294   \n",
       "vgg_StanfordCars_E10_occ0              0.301990   0.370036  0.301990   \n",
       "vgg_StanfordCars_E20_occ0              0.493781   0.549703  0.493781   \n",
       "vgg_StanfordCars_E10_occ1              0.654478   0.702229  0.654478   \n",
       "vgg_StanfordCars_E20_occ1              0.656716   0.701845  0.656716   \n",
       "vgg_StanfordCars_E10_occGAUSSIAN       0.637065   0.689761  0.637065   \n",
       "vgg_StanfordCars_E20_occGAUSSIAN       0.702239   0.735393  0.702239   \n",
       "vgg_StanfordCars_E10_occSOFTMAX        0.659701   0.712129  0.659701   \n",
       "vgg_StanfordCars_E20_occSOFTMAX        0.683831   0.729407  0.683831   \n",
       "densenet_StanfordCars_E10_occSOFTMAX   0.632587   0.703338  0.632587   \n",
       "densenet_StanfordCars_E20_occSOFTMAX   0.721642   0.766537  0.721642   \n",
       "densenet_StanfordCars_E10_occ0         0.608706   0.695528  0.608706   \n",
       "densenet_StanfordCars_E20_occ0         0.754726   0.791633  0.754726   \n",
       "densenet_StanfordCars_E10_occ1         0.474129   0.589459  0.474129   \n",
       "densenet_StanfordCars_E20_occ1         0.677114   0.722723  0.677114   \n",
       "densenet_StanfordCars_E10_occGAUSSIAN  0.664428   0.718600  0.664428   \n",
       "densenet_StanfordCars_E20_occGAUSSIAN  0.741045   0.789327  0.741045   \n",
       "resnet_StanfordCars_E10_occSOFTMAX     0.533582   0.614993  0.533582   \n",
       "resnet_StanfordCars_E20_occSOFTMAX     0.616667   0.661326  0.616667   \n",
       "resnet_StanfordCars_E10_occ0           0.351244   0.430806  0.351244   \n",
       "resnet_StanfordCars_E20_occ0           0.569652   0.626163  0.569652   \n",
       "resnet_StanfordCars_E10_occ1           0.016915   0.006972  0.016915   \n",
       "resnet_StanfordCars_E20_occ1           0.051244   0.040967  0.051244   \n",
       "resnet_StanfordCars_E10_occGAUSSIAN    0.371393   0.481982  0.371393   \n",
       "resnet_StanfordCars_E20_occGAUSSIAN    0.584826   0.644007  0.584826   \n",
       "\n",
       "                                             f1  \\\n",
       "vgg_StanfordCars_E10                   0.714437   \n",
       "vgg_StanfordCars_E20                   0.741226   \n",
       "vgg_StanfordCars_E10_occ0              0.281846   \n",
       "vgg_StanfordCars_E20_occ0              0.489349   \n",
       "vgg_StanfordCars_E10_occ1              0.653138   \n",
       "vgg_StanfordCars_E20_occ1              0.655726   \n",
       "vgg_StanfordCars_E10_occGAUSSIAN       0.637645   \n",
       "vgg_StanfordCars_E20_occGAUSSIAN       0.703500   \n",
       "vgg_StanfordCars_E10_occSOFTMAX        0.659041   \n",
       "vgg_StanfordCars_E20_occSOFTMAX        0.680329   \n",
       "densenet_StanfordCars_E10_occSOFTMAX   0.629883   \n",
       "densenet_StanfordCars_E20_occSOFTMAX   0.722829   \n",
       "densenet_StanfordCars_E10_occ0         0.611269   \n",
       "densenet_StanfordCars_E20_occ0         0.756169   \n",
       "densenet_StanfordCars_E10_occ1         0.466660   \n",
       "densenet_StanfordCars_E20_occ1         0.672514   \n",
       "densenet_StanfordCars_E10_occGAUSSIAN  0.663861   \n",
       "densenet_StanfordCars_E20_occGAUSSIAN  0.743988   \n",
       "resnet_StanfordCars_E10_occSOFTMAX     0.527438   \n",
       "resnet_StanfordCars_E20_occSOFTMAX     0.612363   \n",
       "resnet_StanfordCars_E10_occ0           0.332071   \n",
       "resnet_StanfordCars_E20_occ0           0.565574   \n",
       "resnet_StanfordCars_E10_occ1           0.003920   \n",
       "resnet_StanfordCars_E20_occ1           0.038023   \n",
       "resnet_StanfordCars_E10_occGAUSSIAN    0.361173   \n",
       "resnet_StanfordCars_E20_occGAUSSIAN    0.579291   \n",
       "\n",
       "                                                           total_predicted  \\\n",
       "vgg_StanfordCars_E10                   [117.  10. 137. ... 135. 123.  81.]   \n",
       "vgg_StanfordCars_E20                   [173.  96.  33. ... 105. 137.  16.]   \n",
       "vgg_StanfordCars_E10_occ0              [178.  21.  84. ... 159. 169.  30.]   \n",
       "vgg_StanfordCars_E20_occ0              [  2. 189.  73. ... 186.   2.   5.]   \n",
       "vgg_StanfordCars_E10_occ1              [100. 179. 182. ...  57. 190.  73.]   \n",
       "vgg_StanfordCars_E20_occ1              [ 67. 150.  91. ... 135.  39. 173.]   \n",
       "vgg_StanfordCars_E10_occGAUSSIAN       [ 44.  87. 133. ... 103. 128.  56.]   \n",
       "vgg_StanfordCars_E20_occGAUSSIAN       [ 68. 170. 159. ... 119. 111. 168.]   \n",
       "vgg_StanfordCars_E10_occSOFTMAX        [158. 105.  60. ...  19. 140.   0.]   \n",
       "vgg_StanfordCars_E20_occSOFTMAX        [102.  80.  19. ...  59.  58. 185.]   \n",
       "densenet_StanfordCars_E10_occSOFTMAX   [ 89. 143.  38. ... 112.  43. 123.]   \n",
       "densenet_StanfordCars_E20_occSOFTMAX   [168.  62.  92. ...  34.  55.  37.]   \n",
       "densenet_StanfordCars_E10_occ0         [ 47. 150.  74. ...  76. 124.  53.]   \n",
       "densenet_StanfordCars_E20_occ0         [114. 135. 147. ...  97.  95. 193.]   \n",
       "densenet_StanfordCars_E10_occ1         [153.  49.  85. ... 170. 170. 104.]   \n",
       "densenet_StanfordCars_E20_occ1         [120. 122. 118. ...  68.  68. 100.]   \n",
       "densenet_StanfordCars_E10_occGAUSSIAN  [ 58.  29. 108. ... 185.  60.  64.]   \n",
       "densenet_StanfordCars_E20_occGAUSSIAN  [193.   3. 132. ...  13. 159.  53.]   \n",
       "resnet_StanfordCars_E10_occSOFTMAX     [121.  26.  36. ...  28.  70.  20.]   \n",
       "resnet_StanfordCars_E20_occSOFTMAX     [ 58.   7.  97. ... 169.  15.  82.]   \n",
       "resnet_StanfordCars_E10_occ0           [ 67. 175.  63. ... 110.  98.  90.]   \n",
       "resnet_StanfordCars_E20_occ0           [149.  17.  21. ...   9. 150.  84.]   \n",
       "resnet_StanfordCars_E10_occ1           [153. 119. 161. ... 119. 119. 163.]   \n",
       "resnet_StanfordCars_E20_occ1           [190. 127. 142. ... 160.  47.  28.]   \n",
       "resnet_StanfordCars_E10_occGAUSSIAN    [ 41. 111.  75. ...  21. 188. 120.]   \n",
       "resnet_StanfordCars_E20_occGAUSSIAN          [46. 56. 16. ... 96. 90.  9.]   \n",
       "\n",
       "                                                              total_labels  \\\n",
       "vgg_StanfordCars_E10                   [117.  10. 137. ... 135. 185.  81.]   \n",
       "vgg_StanfordCars_E20                   [173.  96.  29. ... 105.  74.  16.]   \n",
       "vgg_StanfordCars_E10_occ0              [ 85.  23. 167. ...  56. 111.  30.]   \n",
       "vgg_StanfordCars_E20_occ0              [183. 181. 108. ... 186. 131. 131.]   \n",
       "vgg_StanfordCars_E10_occ1              [100. 179. 182. ... 100. 190.  73.]   \n",
       "vgg_StanfordCars_E20_occ1              [ 67.   8.  91. ... 135.  39.  80.]   \n",
       "vgg_StanfordCars_E10_occGAUSSIAN       [  8.  87.  49. ... 103. 128.  56.]   \n",
       "vgg_StanfordCars_E20_occGAUSSIAN       [ 67. 170. 159. ... 119. 111.  91.]   \n",
       "vgg_StanfordCars_E10_occSOFTMAX        [ 82. 105.  60. ...  19. 140. 148.]   \n",
       "vgg_StanfordCars_E20_occSOFTMAX        [102.  80.  13. ...  85. 172. 185.]   \n",
       "densenet_StanfordCars_E10_occSOFTMAX   [ 89. 103.  38. ... 112.  43. 123.]   \n",
       "densenet_StanfordCars_E20_occSOFTMAX   [168.  62.  92. ...  34.  55.  37.]   \n",
       "densenet_StanfordCars_E10_occ0         [ 47. 150.  91. ...  76. 123. 153.]   \n",
       "densenet_StanfordCars_E20_occ0         [175. 135. 147. ...  97.  89. 193.]   \n",
       "densenet_StanfordCars_E10_occ1         [188.   6.  85. ... 170.  53.   4.]   \n",
       "densenet_StanfordCars_E20_occ1         [120.  96.  70. ...  68.  67. 101.]   \n",
       "densenet_StanfordCars_E10_occGAUSSIAN  [ 58.  29. 170. ... 145.  60.  64.]   \n",
       "densenet_StanfordCars_E20_occGAUSSIAN  [180.   3. 132. ... 161. 159.  72.]   \n",
       "resnet_StanfordCars_E10_occSOFTMAX     [121.  27.  36. ...  35.  53. 183.]   \n",
       "resnet_StanfordCars_E20_occSOFTMAX     [164.   7.  97. ... 177.  15.  83.]   \n",
       "resnet_StanfordCars_E10_occ0           [ 72. 174. 129. ...  73. 103. 116.]   \n",
       "resnet_StanfordCars_E20_occ0           [101. 174.  21. ...   7.  61.  84.]   \n",
       "resnet_StanfordCars_E10_occ1           [ 76. 137.   8. ...  73.  12. 168.]   \n",
       "resnet_StanfordCars_E20_occ1           [ 69.  77.  83. ... 164. 134. 182.]   \n",
       "resnet_StanfordCars_E10_occGAUSSIAN    [ 40. 177.  86. ...  23. 188. 120.]   \n",
       "resnet_StanfordCars_E20_occGAUSSIAN    [ 46.  56.  15. ...  96.  83. 179.]   \n",
       "\n",
       "                                            dataset  \n",
       "vgg_StanfordCars_E10                   StanfordCars  \n",
       "vgg_StanfordCars_E20                   StanfordCars  \n",
       "vgg_StanfordCars_E10_occ0              StanfordCars  \n",
       "vgg_StanfordCars_E20_occ0              StanfordCars  \n",
       "vgg_StanfordCars_E10_occ1              StanfordCars  \n",
       "vgg_StanfordCars_E20_occ1              StanfordCars  \n",
       "vgg_StanfordCars_E10_occGAUSSIAN       StanfordCars  \n",
       "vgg_StanfordCars_E20_occGAUSSIAN       StanfordCars  \n",
       "vgg_StanfordCars_E10_occSOFTMAX        StanfordCars  \n",
       "vgg_StanfordCars_E20_occSOFTMAX        StanfordCars  \n",
       "densenet_StanfordCars_E10_occSOFTMAX   StanfordCars  \n",
       "densenet_StanfordCars_E20_occSOFTMAX   StanfordCars  \n",
       "densenet_StanfordCars_E10_occ0         StanfordCars  \n",
       "densenet_StanfordCars_E20_occ0         StanfordCars  \n",
       "densenet_StanfordCars_E10_occ1         StanfordCars  \n",
       "densenet_StanfordCars_E20_occ1         StanfordCars  \n",
       "densenet_StanfordCars_E10_occGAUSSIAN  StanfordCars  \n",
       "densenet_StanfordCars_E20_occGAUSSIAN  StanfordCars  \n",
       "resnet_StanfordCars_E10_occSOFTMAX     StanfordCars  \n",
       "resnet_StanfordCars_E20_occSOFTMAX     StanfordCars  \n",
       "resnet_StanfordCars_E10_occ0           StanfordCars  \n",
       "resnet_StanfordCars_E20_occ0           StanfordCars  \n",
       "resnet_StanfordCars_E10_occ1           StanfordCars  \n",
       "resnet_StanfordCars_E20_occ1           StanfordCars  \n",
       "resnet_StanfordCars_E10_occGAUSSIAN    StanfordCars  \n",
       "resnet_StanfordCars_E20_occGAUSSIAN    StanfordCars  "
      ]
     },
     "execution_count": 15,
     "metadata": {},
     "output_type": "execute_result"
    }
   ],
   "source": [
    "pd.read_csv(save_path, index_col=0)"
   ]
  },
  {
   "cell_type": "code",
   "execution_count": 54,
   "metadata": {
    "collapsed": false,
    "jupyter": {
     "outputs_hidden": false
    },
    "pycharm": {
     "name": "#%%\n"
    }
   },
   "outputs": [
    {
     "data": {
      "text/plain": [
       "727"
      ]
     },
     "execution_count": 54,
     "metadata": {},
     "output_type": "execute_result"
    }
   ],
   "source": []
  },
  {
   "cell_type": "code",
   "execution_count": null,
   "metadata": {
    "collapsed": false,
    "jupyter": {
     "outputs_hidden": false
    },
    "pycharm": {
     "name": "#%%\n"
    }
   },
   "outputs": [],
   "source": []
  }
 ],
 "metadata": {
  "kernelspec": {
   "display_name": "Python",
   "language": "python",
   "name": "python3"
  },
  "language_info": {
   "codemirror_mode": {
    "name": "ipython",
    "version": 3
   },
   "file_extension": ".py",
   "mimetype": "text/x-python",
   "name": "python",
   "nbconvert_exporter": "python",
   "pygments_lexer": "ipython3",
   "version": "3.8.10"
  }
 },
 "nbformat": 4,
 "nbformat_minor": 4
}
