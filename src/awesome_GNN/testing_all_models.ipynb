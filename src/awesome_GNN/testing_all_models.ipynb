{
 "cells": [
  {
   "cell_type": "markdown",
   "metadata": {
    "pycharm": {
     "name": "#%% md\n"
    }
   },
   "source": [
    "# Testing setup for all models"
   ]
  },
  {
   "cell_type": "code",
   "execution_count": 1,
   "metadata": {
    "collapsed": false,
    "jupyter": {
     "outputs_hidden": false
    },
    "pycharm": {
     "name": "#%%\n"
    }
   },
   "outputs": [],
   "source": [
    "import torch\n",
    "import os\n",
    "import numpy as np\n",
    "import pandas as pd\n",
    "import finetune\n",
    "import importlib\n",
    "from tqdm import tqdm\n",
    "import matplotlib.pyplot as plt"
   ]
  },
  {
   "cell_type": "code",
   "execution_count": 2,
   "metadata": {
    "collapsed": false,
    "jupyter": {
     "outputs_hidden": false
    },
    "pycharm": {
     "name": "#%%\n"
    }
   },
   "outputs": [],
   "source": [
    "path_to_data = os.path.join('..', '..', 'data')\n",
    "path_to_models = os.path.join(path_to_data, 'finetuned_models')\n",
    "\n"
   ]
  },
  {
   "cell_type": "code",
   "execution_count": 3,
   "metadata": {
    "collapsed": false,
    "jupyter": {
     "outputs_hidden": false
    },
    "pycharm": {
     "is_executing": true,
     "name": "#%%\n"
    }
   },
   "outputs": [
    {
     "name": "stdout",
     "output_type": "stream",
     "text": [
      "name: resnet epochs: 10 occlusion: None dataset:   StanfordCars\n"
     ]
    },
    {
     "name": "stderr",
     "output_type": "stream",
     "text": [
      "100%|██████████| 503/503 [00:23<00:00, 21.27it/s]\n"
     ]
    },
    {
     "name": "stdout",
     "output_type": "stream",
     "text": [
      "Elapsed time: 23.68903374671936\n",
      "name: resnet epochs: 20 occlusion: None dataset:   StanfordCars\n"
     ]
    },
    {
     "name": "stderr",
     "output_type": "stream",
     "text": [
      "100%|██████████| 503/503 [00:19<00:00, 25.66it/s]\n"
     ]
    },
    {
     "name": "stdout",
     "output_type": "stream",
     "text": [
      "Elapsed time: 19.63634705543518\n",
      "name: resnet epochs: 10 occlusion: None dataset:   FGVC-Aircraft\n"
     ]
    },
    {
     "name": "stderr",
     "output_type": "stream",
     "text": [
      "100%|██████████| 417/417 [00:18<00:00, 22.06it/s]\n"
     ]
    },
    {
     "name": "stdout",
     "output_type": "stream",
     "text": [
      "Elapsed time: 18.930636882781982\n",
      "name: resnet epochs: 20 occlusion: None dataset:   FGVC-Aircraft\n"
     ]
    },
    {
     "name": "stderr",
     "output_type": "stream",
     "text": [
      "100%|██████████| 417/417 [00:18<00:00, 22.00it/s]\n"
     ]
    },
    {
     "name": "stdout",
     "output_type": "stream",
     "text": [
      "Elapsed time: 18.98610019683838\n",
      "name: resnet epochs: 10 occlusion: 0 dataset:   StanfordCars\n"
     ]
    },
    {
     "name": "stderr",
     "output_type": "stream",
     "text": [
      "100%|██████████| 503/503 [00:21<00:00, 23.29it/s]\n"
     ]
    },
    {
     "name": "stdout",
     "output_type": "stream",
     "text": [
      "Elapsed time: 21.636226654052734\n",
      "name: resnet epochs: 20 occlusion: 0 dataset:   StanfordCars\n"
     ]
    },
    {
     "name": "stderr",
     "output_type": "stream",
     "text": [
      "100%|██████████| 503/503 [00:19<00:00, 26.28it/s]\n"
     ]
    },
    {
     "name": "stdout",
     "output_type": "stream",
     "text": [
      "Elapsed time: 19.17185354232788\n",
      "name: resnet epochs: 10 occlusion: 0 dataset:   FGVC-Aircraft\n"
     ]
    },
    {
     "name": "stderr",
     "output_type": "stream",
     "text": [
      "100%|██████████| 417/417 [00:18<00:00, 22.23it/s]\n"
     ]
    },
    {
     "name": "stdout",
     "output_type": "stream",
     "text": [
      "Elapsed time: 18.788509130477905\n",
      "name: resnet epochs: 20 occlusion: 0 dataset:   FGVC-Aircraft\n"
     ]
    },
    {
     "name": "stderr",
     "output_type": "stream",
     "text": [
      "100%|██████████| 417/417 [00:19<00:00, 21.84it/s]\n"
     ]
    },
    {
     "name": "stdout",
     "output_type": "stream",
     "text": [
      "Elapsed time: 19.125146865844727\n",
      "name: resnet epochs: 10 occlusion: 1 dataset:   StanfordCars\n"
     ]
    },
    {
     "name": "stderr",
     "output_type": "stream",
     "text": [
      "100%|██████████| 503/503 [00:19<00:00, 26.10it/s]\n"
     ]
    },
    {
     "name": "stdout",
     "output_type": "stream",
     "text": [
      "Elapsed time: 19.305952310562134\n",
      "name: resnet epochs: 20 occlusion: 1 dataset:   StanfordCars\n"
     ]
    },
    {
     "name": "stderr",
     "output_type": "stream",
     "text": [
      "100%|██████████| 503/503 [00:19<00:00, 25.86it/s]\n"
     ]
    },
    {
     "name": "stdout",
     "output_type": "stream",
     "text": [
      "Elapsed time: 19.487130880355835\n",
      "name: resnet epochs: 10 occlusion: 1 dataset:   FGVC-Aircraft\n"
     ]
    },
    {
     "name": "stderr",
     "output_type": "stream",
     "text": [
      "100%|██████████| 417/417 [00:18<00:00, 22.20it/s]\n"
     ]
    },
    {
     "name": "stdout",
     "output_type": "stream",
     "text": [
      "Elapsed time: 18.809319734573364\n",
      "name: resnet epochs: 20 occlusion: 1 dataset:   FGVC-Aircraft\n"
     ]
    },
    {
     "name": "stderr",
     "output_type": "stream",
     "text": [
      "100%|██████████| 417/417 [00:18<00:00, 22.21it/s]\n"
     ]
    },
    {
     "name": "stdout",
     "output_type": "stream",
     "text": [
      "Elapsed time: 18.802924633026123\n",
      "name: resnet epochs: 10 occlusion: GAUSSIAN dataset:   StanfordCars\n"
     ]
    },
    {
     "name": "stderr",
     "output_type": "stream",
     "text": [
      "100%|██████████| 503/503 [00:19<00:00, 25.58it/s]\n"
     ]
    },
    {
     "name": "stdout",
     "output_type": "stream",
     "text": [
      "Elapsed time: 19.69597578048706\n",
      "name: resnet epochs: 20 occlusion: GAUSSIAN dataset:   StanfordCars\n"
     ]
    },
    {
     "name": "stderr",
     "output_type": "stream",
     "text": [
      "100%|██████████| 503/503 [00:19<00:00, 25.36it/s]\n"
     ]
    },
    {
     "name": "stdout",
     "output_type": "stream",
     "text": [
      "Elapsed time: 19.866770267486572\n",
      "name: resnet epochs: 10 occlusion: GAUSSIAN dataset:   FGVC-Aircraft\n"
     ]
    },
    {
     "name": "stderr",
     "output_type": "stream",
     "text": [
      "100%|██████████| 417/417 [00:18<00:00, 21.97it/s]\n"
     ]
    },
    {
     "name": "stdout",
     "output_type": "stream",
     "text": [
      "Elapsed time: 19.008899927139282\n",
      "name: resnet epochs: 20 occlusion: GAUSSIAN dataset:   FGVC-Aircraft\n"
     ]
    },
    {
     "name": "stderr",
     "output_type": "stream",
     "text": [
      "100%|██████████| 417/417 [00:18<00:00, 21.98it/s]\n"
     ]
    },
    {
     "name": "stdout",
     "output_type": "stream",
     "text": [
      "Elapsed time: 19.003145217895508\n",
      "name: resnet epochs: 10 occlusion: SOFTMAX dataset:   StanfordCars\n"
     ]
    },
    {
     "name": "stderr",
     "output_type": "stream",
     "text": [
      "100%|██████████| 503/503 [00:19<00:00, 25.42it/s]\n"
     ]
    },
    {
     "name": "stdout",
     "output_type": "stream",
     "text": [
      "Elapsed time: 19.81877303123474\n",
      "name: resnet epochs: 20 occlusion: SOFTMAX dataset:   StanfordCars\n"
     ]
    },
    {
     "name": "stderr",
     "output_type": "stream",
     "text": [
      "100%|██████████| 503/503 [00:19<00:00, 25.35it/s]\n"
     ]
    },
    {
     "name": "stdout",
     "output_type": "stream",
     "text": [
      "Elapsed time: 19.872793197631836\n",
      "name: resnet epochs: 10 occlusion: SOFTMAX dataset:   FGVC-Aircraft\n"
     ]
    },
    {
     "name": "stderr",
     "output_type": "stream",
     "text": [
      "100%|██████████| 417/417 [00:22<00:00, 18.58it/s]\n"
     ]
    },
    {
     "name": "stdout",
     "output_type": "stream",
     "text": [
      "Elapsed time: 22.472975492477417\n",
      "name: resnet epochs: 20 occlusion: SOFTMAX dataset:   FGVC-Aircraft\n"
     ]
    },
    {
     "name": "stderr",
     "output_type": "stream",
     "text": [
      "100%|██████████| 417/417 [00:18<00:00, 22.20it/s]\n"
     ]
    },
    {
     "name": "stdout",
     "output_type": "stream",
     "text": [
      "Elapsed time: 18.812949657440186\n",
      "name: densenet epochs: 10 occlusion: None dataset:   StanfordCars\n"
     ]
    },
    {
     "name": "stderr",
     "output_type": "stream",
     "text": [
      "100%|██████████| 503/503 [00:40<00:00, 12.55it/s]\n"
     ]
    },
    {
     "name": "stdout",
     "output_type": "stream",
     "text": [
      "Elapsed time: 40.11938738822937\n",
      "name: densenet epochs: 20 occlusion: None dataset:   StanfordCars\n"
     ]
    },
    {
     "name": "stderr",
     "output_type": "stream",
     "text": [
      "100%|██████████| 503/503 [00:40<00:00, 12.52it/s]\n"
     ]
    },
    {
     "name": "stdout",
     "output_type": "stream",
     "text": [
      "Elapsed time: 40.19726061820984\n",
      "name: densenet epochs: 10 occlusion: None dataset:   FGVC-Aircraft\n"
     ]
    },
    {
     "name": "stderr",
     "output_type": "stream",
     "text": [
      "100%|██████████| 417/417 [00:33<00:00, 12.33it/s]\n"
     ]
    },
    {
     "name": "stdout",
     "output_type": "stream",
     "text": [
      "Elapsed time: 33.857547760009766\n",
      "name: densenet epochs: 20 occlusion: None dataset:   FGVC-Aircraft\n"
     ]
    },
    {
     "name": "stderr",
     "output_type": "stream",
     "text": [
      "100%|██████████| 417/417 [00:33<00:00, 12.29it/s]\n"
     ]
    },
    {
     "name": "stdout",
     "output_type": "stream",
     "text": [
      "Elapsed time: 33.94847750663757\n",
      "name: densenet epochs: 10 occlusion: 0 dataset:   StanfordCars\n"
     ]
    },
    {
     "name": "stderr",
     "output_type": "stream",
     "text": [
      "100%|██████████| 503/503 [00:40<00:00, 12.54it/s]\n"
     ]
    },
    {
     "name": "stdout",
     "output_type": "stream",
     "text": [
      "Elapsed time: 40.14351844787598\n",
      "name: densenet epochs: 20 occlusion: 0 dataset:   StanfordCars\n"
     ]
    },
    {
     "name": "stderr",
     "output_type": "stream",
     "text": [
      "100%|██████████| 503/503 [00:40<00:00, 12.49it/s]\n"
     ]
    },
    {
     "name": "stdout",
     "output_type": "stream",
     "text": [
      "Elapsed time: 40.2968316078186\n",
      "name: densenet epochs: 10 occlusion: 0 dataset:   FGVC-Aircraft\n"
     ]
    },
    {
     "name": "stderr",
     "output_type": "stream",
     "text": [
      "100%|██████████| 417/417 [00:33<00:00, 12.36it/s]\n"
     ]
    },
    {
     "name": "stdout",
     "output_type": "stream",
     "text": [
      "Elapsed time: 33.76852822303772\n",
      "name: densenet epochs: 20 occlusion: 0 dataset:   FGVC-Aircraft\n"
     ]
    },
    {
     "name": "stderr",
     "output_type": "stream",
     "text": [
      "100%|██████████| 417/417 [00:33<00:00, 12.34it/s]\n"
     ]
    },
    {
     "name": "stdout",
     "output_type": "stream",
     "text": [
      "Elapsed time: 33.831507444381714\n",
      "name: densenet epochs: 10 occlusion: 1 dataset:   StanfordCars\n"
     ]
    },
    {
     "name": "stderr",
     "output_type": "stream",
     "text": [
      "100%|██████████| 503/503 [00:40<00:00, 12.53it/s]\n"
     ]
    },
    {
     "name": "stdout",
     "output_type": "stream",
     "text": [
      "Elapsed time: 40.18670582771301\n",
      "name: densenet epochs: 20 occlusion: 1 dataset:   StanfordCars\n"
     ]
    },
    {
     "name": "stderr",
     "output_type": "stream",
     "text": [
      "100%|██████████| 503/503 [00:40<00:00, 12.48it/s]\n"
     ]
    },
    {
     "name": "stdout",
     "output_type": "stream",
     "text": [
      "Elapsed time: 40.346088886260986\n",
      "name: densenet epochs: 10 occlusion: 1 dataset:   FGVC-Aircraft\n"
     ]
    },
    {
     "name": "stderr",
     "output_type": "stream",
     "text": [
      "100%|██████████| 417/417 [00:33<00:00, 12.30it/s]\n"
     ]
    },
    {
     "name": "stdout",
     "output_type": "stream",
     "text": [
      "Elapsed time: 33.91799235343933\n",
      "name: densenet epochs: 20 occlusion: 1 dataset:   FGVC-Aircraft\n"
     ]
    },
    {
     "name": "stderr",
     "output_type": "stream",
     "text": [
      "100%|██████████| 417/417 [00:33<00:00, 12.34it/s]\n"
     ]
    },
    {
     "name": "stdout",
     "output_type": "stream",
     "text": [
      "Elapsed time: 33.824074268341064\n",
      "name: densenet epochs: 10 occlusion: GAUSSIAN dataset:   StanfordCars\n"
     ]
    },
    {
     "name": "stderr",
     "output_type": "stream",
     "text": [
      "100%|██████████| 503/503 [00:40<00:00, 12.50it/s]\n"
     ]
    },
    {
     "name": "stdout",
     "output_type": "stream",
     "text": [
      "Elapsed time: 40.28432750701904\n",
      "name: densenet epochs: 20 occlusion: GAUSSIAN dataset:   StanfordCars\n"
     ]
    },
    {
     "name": "stderr",
     "output_type": "stream",
     "text": [
      "100%|██████████| 503/503 [00:40<00:00, 12.47it/s]\n"
     ]
    },
    {
     "name": "stdout",
     "output_type": "stream",
     "text": [
      "Elapsed time: 40.376246213912964\n",
      "name: densenet epochs: 10 occlusion: GAUSSIAN dataset:   FGVC-Aircraft\n"
     ]
    },
    {
     "name": "stderr",
     "output_type": "stream",
     "text": [
      "100%|██████████| 417/417 [00:33<00:00, 12.28it/s]\n"
     ]
    },
    {
     "name": "stdout",
     "output_type": "stream",
     "text": [
      "Elapsed time: 33.99272656440735\n",
      "name: densenet epochs: 20 occlusion: GAUSSIAN dataset:   FGVC-Aircraft\n"
     ]
    },
    {
     "name": "stderr",
     "output_type": "stream",
     "text": [
      "100%|██████████| 417/417 [00:33<00:00, 12.28it/s]\n"
     ]
    },
    {
     "name": "stdout",
     "output_type": "stream",
     "text": [
      "Elapsed time: 33.987170457839966\n",
      "name: densenet epochs: 10 occlusion: SOFTMAX dataset:   StanfordCars\n"
     ]
    },
    {
     "name": "stderr",
     "output_type": "stream",
     "text": [
      "100%|██████████| 503/503 [00:40<00:00, 12.48it/s]\n"
     ]
    },
    {
     "name": "stdout",
     "output_type": "stream",
     "text": [
      "Elapsed time: 40.33096170425415\n",
      "name: densenet epochs: 20 occlusion: SOFTMAX dataset:   StanfordCars\n"
     ]
    },
    {
     "name": "stderr",
     "output_type": "stream",
     "text": [
      "100%|██████████| 503/503 [00:40<00:00, 12.48it/s]\n"
     ]
    },
    {
     "name": "stdout",
     "output_type": "stream",
     "text": [
      "Elapsed time: 40.330594062805176\n",
      "name: densenet epochs: 10 occlusion: SOFTMAX dataset:   FGVC-Aircraft\n"
     ]
    },
    {
     "name": "stderr",
     "output_type": "stream",
     "text": [
      "100%|██████████| 417/417 [00:33<00:00, 12.30it/s]\n"
     ]
    },
    {
     "name": "stdout",
     "output_type": "stream",
     "text": [
      "Elapsed time: 33.9390127658844\n",
      "name: densenet epochs: 20 occlusion: SOFTMAX dataset:   FGVC-Aircraft\n"
     ]
    },
    {
     "name": "stderr",
     "output_type": "stream",
     "text": [
      "100%|██████████| 417/417 [00:33<00:00, 12.30it/s]\n"
     ]
    },
    {
     "name": "stdout",
     "output_type": "stream",
     "text": [
      "Elapsed time: 33.92811441421509\n",
      "name: vgg epochs: 10 occlusion: None dataset:   StanfordCars\n"
     ]
    },
    {
     "name": "stderr",
     "output_type": "stream",
     "text": [
      "100%|██████████| 503/503 [00:47<00:00, 10.50it/s]\n"
     ]
    },
    {
     "name": "stdout",
     "output_type": "stream",
     "text": [
      "Elapsed time: 47.950774908065796\n",
      "name: vgg epochs: 20 occlusion: None dataset:   StanfordCars\n"
     ]
    },
    {
     "name": "stderr",
     "output_type": "stream",
     "text": [
      "100%|██████████| 503/503 [00:47<00:00, 10.54it/s]\n"
     ]
    },
    {
     "name": "stdout",
     "output_type": "stream",
     "text": [
      "Elapsed time: 47.76578497886658\n",
      "name: vgg epochs: 10 occlusion: None dataset:   FGVC-Aircraft\n"
     ]
    },
    {
     "name": "stderr",
     "output_type": "stream",
     "text": [
      "100%|██████████| 417/417 [00:40<00:00, 10.37it/s]\n"
     ]
    },
    {
     "name": "stdout",
     "output_type": "stream",
     "text": [
      "Elapsed time: 40.25361347198486\n",
      "name: vgg epochs: 20 occlusion: None dataset:   FGVC-Aircraft\n"
     ]
    },
    {
     "name": "stderr",
     "output_type": "stream",
     "text": [
      "100%|██████████| 417/417 [00:40<00:00, 10.38it/s]\n"
     ]
    },
    {
     "name": "stdout",
     "output_type": "stream",
     "text": [
      "Elapsed time: 40.20899248123169\n",
      "name: vgg epochs: 10 occlusion: 0 dataset:   StanfordCars\n"
     ]
    },
    {
     "name": "stderr",
     "output_type": "stream",
     "text": [
      "100%|██████████| 503/503 [00:47<00:00, 10.50it/s]\n"
     ]
    },
    {
     "name": "stdout",
     "output_type": "stream",
     "text": [
      "Elapsed time: 47.92241621017456\n",
      "name: vgg epochs: 20 occlusion: 0 dataset:   StanfordCars\n"
     ]
    },
    {
     "name": "stderr",
     "output_type": "stream",
     "text": [
      "100%|██████████| 503/503 [00:48<00:00, 10.48it/s]\n"
     ]
    },
    {
     "name": "stdout",
     "output_type": "stream",
     "text": [
      "Elapsed time: 48.04026198387146\n",
      "name: vgg epochs: 10 occlusion: 0 dataset:   FGVC-Aircraft\n"
     ]
    },
    {
     "name": "stderr",
     "output_type": "stream",
     "text": [
      "100%|██████████| 417/417 [00:40<00:00, 10.38it/s]\n"
     ]
    },
    {
     "name": "stdout",
     "output_type": "stream",
     "text": [
      "Elapsed time: 40.19320225715637\n",
      "name: vgg epochs: 20 occlusion: 0 dataset:   FGVC-Aircraft\n"
     ]
    },
    {
     "name": "stderr",
     "output_type": "stream",
     "text": [
      "100%|██████████| 417/417 [00:40<00:00, 10.37it/s]\n"
     ]
    },
    {
     "name": "stdout",
     "output_type": "stream",
     "text": [
      "Elapsed time: 40.22387456893921\n",
      "name: vgg epochs: 10 occlusion: 1 dataset:   StanfordCars\n"
     ]
    },
    {
     "name": "stderr",
     "output_type": "stream",
     "text": [
      "100%|██████████| 503/503 [00:48<00:00, 10.47it/s]\n"
     ]
    },
    {
     "name": "stdout",
     "output_type": "stream",
     "text": [
      "Elapsed time: 48.09280848503113\n",
      "name: vgg epochs: 20 occlusion: 1 dataset:   StanfordCars\n"
     ]
    },
    {
     "name": "stderr",
     "output_type": "stream",
     "text": [
      "100%|██████████| 503/503 [00:47<00:00, 10.49it/s]\n"
     ]
    },
    {
     "name": "stdout",
     "output_type": "stream",
     "text": [
      "Elapsed time: 47.998964071273804\n",
      "name: vgg epochs: 10 occlusion: 1 dataset:   FGVC-Aircraft\n"
     ]
    },
    {
     "name": "stderr",
     "output_type": "stream",
     "text": [
      "100%|██████████| 417/417 [00:40<00:00, 10.32it/s]\n"
     ]
    },
    {
     "name": "stdout",
     "output_type": "stream",
     "text": [
      "Elapsed time: 40.4314489364624\n",
      "name: vgg epochs: 20 occlusion: 1 dataset:   FGVC-Aircraft\n"
     ]
    },
    {
     "name": "stderr",
     "output_type": "stream",
     "text": [
      "100%|██████████| 417/417 [00:40<00:00, 10.38it/s]\n"
     ]
    },
    {
     "name": "stdout",
     "output_type": "stream",
     "text": [
      "Elapsed time: 40.198928117752075\n",
      "name: vgg epochs: 10 occlusion: GAUSSIAN dataset:   StanfordCars\n"
     ]
    },
    {
     "name": "stderr",
     "output_type": "stream",
     "text": [
      "100%|██████████| 503/503 [00:47<00:00, 10.51it/s]\n"
     ]
    },
    {
     "name": "stdout",
     "output_type": "stream",
     "text": [
      "Elapsed time: 47.87264442443848\n",
      "name: vgg epochs: 20 occlusion: GAUSSIAN dataset:   StanfordCars\n"
     ]
    },
    {
     "name": "stderr",
     "output_type": "stream",
     "text": [
      "100%|██████████| 503/503 [00:47<00:00, 10.51it/s]\n"
     ]
    },
    {
     "name": "stdout",
     "output_type": "stream",
     "text": [
      "Elapsed time: 47.881690979003906\n",
      "name: vgg epochs: 10 occlusion: GAUSSIAN dataset:   FGVC-Aircraft\n"
     ]
    },
    {
     "name": "stderr",
     "output_type": "stream",
     "text": [
      "100%|██████████| 417/417 [00:40<00:00, 10.38it/s]\n"
     ]
    },
    {
     "name": "stdout",
     "output_type": "stream",
     "text": [
      "Elapsed time: 40.22067475318909\n",
      "name: vgg epochs: 20 occlusion: GAUSSIAN dataset:   FGVC-Aircraft\n"
     ]
    },
    {
     "name": "stderr",
     "output_type": "stream",
     "text": [
      "100%|██████████| 417/417 [00:40<00:00, 10.38it/s]\n"
     ]
    },
    {
     "name": "stdout",
     "output_type": "stream",
     "text": [
      "Elapsed time: 40.200350761413574\n",
      "name: vgg epochs: 10 occlusion: SOFTMAX dataset:   StanfordCars\n"
     ]
    },
    {
     "name": "stderr",
     "output_type": "stream",
     "text": [
      "100%|██████████| 503/503 [00:47<00:00, 10.51it/s]\n"
     ]
    },
    {
     "name": "stdout",
     "output_type": "stream",
     "text": [
      "Elapsed time: 47.898245334625244\n",
      "name: vgg epochs: 20 occlusion: SOFTMAX dataset:   StanfordCars\n"
     ]
    },
    {
     "name": "stderr",
     "output_type": "stream",
     "text": [
      "100%|██████████| 503/503 [00:48<00:00, 10.46it/s]\n"
     ]
    },
    {
     "name": "stdout",
     "output_type": "stream",
     "text": [
      "Elapsed time: 48.104653120040894\n",
      "name: vgg epochs: 10 occlusion: SOFTMAX dataset:   FGVC-Aircraft\n"
     ]
    },
    {
     "name": "stderr",
     "output_type": "stream",
     "text": [
      "100%|██████████| 417/417 [00:40<00:00, 10.22it/s]\n"
     ]
    },
    {
     "name": "stdout",
     "output_type": "stream",
     "text": [
      "Elapsed time: 40.830267906188965\n",
      "name: vgg epochs: 20 occlusion: SOFTMAX dataset:   FGVC-Aircraft\n"
     ]
    },
    {
     "name": "stderr",
     "output_type": "stream",
     "text": [
      "100%|██████████| 417/417 [00:40<00:00, 10.38it/s]"
     ]
    },
    {
     "name": "stdout",
     "output_type": "stream",
     "text": [
      "Elapsed time: 40.187472105026245\n"
     ]
    },
    {
     "name": "stderr",
     "output_type": "stream",
     "text": [
      "\n"
     ]
    }
   ],
   "source": [
    "importlib.reload(finetune)\n",
    "\n",
    "datasets = finetune.DATASET_OPTIONS\n",
    "model_names = ['resnet', 'densenet', 'vgg']\n",
    "# model_names = reversed(model_names)\n",
    "\n",
    "\n",
    "total_results = {}\n",
    "for model_name in model_names:\n",
    "    for occlusion in finetune.OCCLUSION_OPTIONS:\n",
    "        for dataset in datasets:\n",
    "            finetune.OCCLUSION_NAME = occlusion\n",
    "            finetune.DATASET = dataset\n",
    "            finetune.CLASSIFIER_NAME = model_name\n",
    "            for e in [10, 20]: # 10, 20, 30, 40, 50\n",
    "                load_path = finetune.format_model_path(model_name, dataset, e)\n",
    "\n",
    "                metrics = finetune.test_model(load_path, _verbose=True)\n",
    "                metrics['dataset'] = dataset\n",
    "\n",
    "                # This line is just for windows\n",
    "                load_path = load_path.replace('\\\\', '/')\n",
    "                file_name = load_path.split('/')[-1].replace('.pth', '')\n",
    "\n",
    "                total_results[file_name] = metrics"
   ]
  },
  {
   "cell_type": "code",
   "execution_count": 4,
   "metadata": {
    "collapsed": false,
    "jupyter": {
     "outputs_hidden": false
    },
    "pycharm": {
     "name": "#%%\n"
    }
   },
   "outputs": [
    {
     "name": "stdout",
     "output_type": "stream",
     "text": [
      "dict_keys(['resnet_StanfordCars_E10', 'resnet_StanfordCars_E20', 'resnet_FGVC-Aircraft_E10', 'resnet_FGVC-Aircraft_E20', 'resnet_StanfordCars_E10_occ0', 'resnet_StanfordCars_E20_occ0', 'resnet_FGVC-Aircraft_E10_occ0', 'resnet_FGVC-Aircraft_E20_occ0', 'resnet_StanfordCars_E10_occ1', 'resnet_StanfordCars_E20_occ1', 'resnet_FGVC-Aircraft_E10_occ1', 'resnet_FGVC-Aircraft_E20_occ1', 'resnet_StanfordCars_E10_occGAUSSIAN', 'resnet_StanfordCars_E20_occGAUSSIAN', 'resnet_FGVC-Aircraft_E10_occGAUSSIAN', 'resnet_FGVC-Aircraft_E20_occGAUSSIAN', 'resnet_StanfordCars_E10_occSOFTMAX', 'resnet_StanfordCars_E20_occSOFTMAX', 'resnet_FGVC-Aircraft_E10_occSOFTMAX', 'resnet_FGVC-Aircraft_E20_occSOFTMAX', 'densenet_StanfordCars_E10', 'densenet_StanfordCars_E20', 'densenet_FGVC-Aircraft_E10', 'densenet_FGVC-Aircraft_E20', 'densenet_StanfordCars_E10_occ0', 'densenet_StanfordCars_E20_occ0', 'densenet_FGVC-Aircraft_E10_occ0', 'densenet_FGVC-Aircraft_E20_occ0', 'densenet_StanfordCars_E10_occ1', 'densenet_StanfordCars_E20_occ1', 'densenet_FGVC-Aircraft_E10_occ1', 'densenet_FGVC-Aircraft_E20_occ1', 'densenet_StanfordCars_E10_occGAUSSIAN', 'densenet_StanfordCars_E20_occGAUSSIAN', 'densenet_FGVC-Aircraft_E10_occGAUSSIAN', 'densenet_FGVC-Aircraft_E20_occGAUSSIAN', 'densenet_StanfordCars_E10_occSOFTMAX', 'densenet_StanfordCars_E20_occSOFTMAX', 'densenet_FGVC-Aircraft_E10_occSOFTMAX', 'densenet_FGVC-Aircraft_E20_occSOFTMAX', 'vgg_StanfordCars_E10', 'vgg_StanfordCars_E20', 'vgg_FGVC-Aircraft_E10', 'vgg_FGVC-Aircraft_E20', 'vgg_StanfordCars_E10_occ0', 'vgg_StanfordCars_E20_occ0', 'vgg_FGVC-Aircraft_E10_occ0', 'vgg_FGVC-Aircraft_E20_occ0', 'vgg_StanfordCars_E10_occ1', 'vgg_StanfordCars_E20_occ1', 'vgg_FGVC-Aircraft_E10_occ1', 'vgg_FGVC-Aircraft_E20_occ1', 'vgg_StanfordCars_E10_occGAUSSIAN', 'vgg_StanfordCars_E20_occGAUSSIAN', 'vgg_FGVC-Aircraft_E10_occGAUSSIAN', 'vgg_FGVC-Aircraft_E20_occGAUSSIAN', 'vgg_StanfordCars_E10_occSOFTMAX', 'vgg_StanfordCars_E20_occSOFTMAX', 'vgg_FGVC-Aircraft_E10_occSOFTMAX', 'vgg_FGVC-Aircraft_E20_occSOFTMAX'])\n",
      "[dict_keys(['accuracy', 'precision', 'recall', 'f1', 'total_predicted', 'total_labels', 'dataset']), dict_keys(['accuracy', 'precision', 'recall', 'f1', 'total_predicted', 'total_labels', 'dataset']), dict_keys(['accuracy', 'precision', 'recall', 'f1', 'total_predicted', 'total_labels', 'dataset']), dict_keys(['accuracy', 'precision', 'recall', 'f1', 'total_predicted', 'total_labels', 'dataset']), dict_keys(['accuracy', 'precision', 'recall', 'f1', 'total_predicted', 'total_labels', 'dataset']), dict_keys(['accuracy', 'precision', 'recall', 'f1', 'total_predicted', 'total_labels', 'dataset']), dict_keys(['accuracy', 'precision', 'recall', 'f1', 'total_predicted', 'total_labels', 'dataset']), dict_keys(['accuracy', 'precision', 'recall', 'f1', 'total_predicted', 'total_labels', 'dataset']), dict_keys(['accuracy', 'precision', 'recall', 'f1', 'total_predicted', 'total_labels', 'dataset']), dict_keys(['accuracy', 'precision', 'recall', 'f1', 'total_predicted', 'total_labels', 'dataset']), dict_keys(['accuracy', 'precision', 'recall', 'f1', 'total_predicted', 'total_labels', 'dataset']), dict_keys(['accuracy', 'precision', 'recall', 'f1', 'total_predicted', 'total_labels', 'dataset']), dict_keys(['accuracy', 'precision', 'recall', 'f1', 'total_predicted', 'total_labels', 'dataset']), dict_keys(['accuracy', 'precision', 'recall', 'f1', 'total_predicted', 'total_labels', 'dataset']), dict_keys(['accuracy', 'precision', 'recall', 'f1', 'total_predicted', 'total_labels', 'dataset']), dict_keys(['accuracy', 'precision', 'recall', 'f1', 'total_predicted', 'total_labels', 'dataset']), dict_keys(['accuracy', 'precision', 'recall', 'f1', 'total_predicted', 'total_labels', 'dataset']), dict_keys(['accuracy', 'precision', 'recall', 'f1', 'total_predicted', 'total_labels', 'dataset']), dict_keys(['accuracy', 'precision', 'recall', 'f1', 'total_predicted', 'total_labels', 'dataset']), dict_keys(['accuracy', 'precision', 'recall', 'f1', 'total_predicted', 'total_labels', 'dataset']), dict_keys(['accuracy', 'precision', 'recall', 'f1', 'total_predicted', 'total_labels', 'dataset']), dict_keys(['accuracy', 'precision', 'recall', 'f1', 'total_predicted', 'total_labels', 'dataset']), dict_keys(['accuracy', 'precision', 'recall', 'f1', 'total_predicted', 'total_labels', 'dataset']), dict_keys(['accuracy', 'precision', 'recall', 'f1', 'total_predicted', 'total_labels', 'dataset']), dict_keys(['accuracy', 'precision', 'recall', 'f1', 'total_predicted', 'total_labels', 'dataset']), dict_keys(['accuracy', 'precision', 'recall', 'f1', 'total_predicted', 'total_labels', 'dataset']), dict_keys(['accuracy', 'precision', 'recall', 'f1', 'total_predicted', 'total_labels', 'dataset']), dict_keys(['accuracy', 'precision', 'recall', 'f1', 'total_predicted', 'total_labels', 'dataset']), dict_keys(['accuracy', 'precision', 'recall', 'f1', 'total_predicted', 'total_labels', 'dataset']), dict_keys(['accuracy', 'precision', 'recall', 'f1', 'total_predicted', 'total_labels', 'dataset']), dict_keys(['accuracy', 'precision', 'recall', 'f1', 'total_predicted', 'total_labels', 'dataset']), dict_keys(['accuracy', 'precision', 'recall', 'f1', 'total_predicted', 'total_labels', 'dataset']), dict_keys(['accuracy', 'precision', 'recall', 'f1', 'total_predicted', 'total_labels', 'dataset']), dict_keys(['accuracy', 'precision', 'recall', 'f1', 'total_predicted', 'total_labels', 'dataset']), dict_keys(['accuracy', 'precision', 'recall', 'f1', 'total_predicted', 'total_labels', 'dataset']), dict_keys(['accuracy', 'precision', 'recall', 'f1', 'total_predicted', 'total_labels', 'dataset']), dict_keys(['accuracy', 'precision', 'recall', 'f1', 'total_predicted', 'total_labels', 'dataset']), dict_keys(['accuracy', 'precision', 'recall', 'f1', 'total_predicted', 'total_labels', 'dataset']), dict_keys(['accuracy', 'precision', 'recall', 'f1', 'total_predicted', 'total_labels', 'dataset']), dict_keys(['accuracy', 'precision', 'recall', 'f1', 'total_predicted', 'total_labels', 'dataset']), dict_keys(['accuracy', 'precision', 'recall', 'f1', 'total_predicted', 'total_labels', 'dataset']), dict_keys(['accuracy', 'precision', 'recall', 'f1', 'total_predicted', 'total_labels', 'dataset']), dict_keys(['accuracy', 'precision', 'recall', 'f1', 'total_predicted', 'total_labels', 'dataset']), dict_keys(['accuracy', 'precision', 'recall', 'f1', 'total_predicted', 'total_labels', 'dataset']), dict_keys(['accuracy', 'precision', 'recall', 'f1', 'total_predicted', 'total_labels', 'dataset']), dict_keys(['accuracy', 'precision', 'recall', 'f1', 'total_predicted', 'total_labels', 'dataset']), dict_keys(['accuracy', 'precision', 'recall', 'f1', 'total_predicted', 'total_labels', 'dataset']), dict_keys(['accuracy', 'precision', 'recall', 'f1', 'total_predicted', 'total_labels', 'dataset']), dict_keys(['accuracy', 'precision', 'recall', 'f1', 'total_predicted', 'total_labels', 'dataset']), dict_keys(['accuracy', 'precision', 'recall', 'f1', 'total_predicted', 'total_labels', 'dataset']), dict_keys(['accuracy', 'precision', 'recall', 'f1', 'total_predicted', 'total_labels', 'dataset']), dict_keys(['accuracy', 'precision', 'recall', 'f1', 'total_predicted', 'total_labels', 'dataset']), dict_keys(['accuracy', 'precision', 'recall', 'f1', 'total_predicted', 'total_labels', 'dataset']), dict_keys(['accuracy', 'precision', 'recall', 'f1', 'total_predicted', 'total_labels', 'dataset']), dict_keys(['accuracy', 'precision', 'recall', 'f1', 'total_predicted', 'total_labels', 'dataset']), dict_keys(['accuracy', 'precision', 'recall', 'f1', 'total_predicted', 'total_labels', 'dataset']), dict_keys(['accuracy', 'precision', 'recall', 'f1', 'total_predicted', 'total_labels', 'dataset']), dict_keys(['accuracy', 'precision', 'recall', 'f1', 'total_predicted', 'total_labels', 'dataset']), dict_keys(['accuracy', 'precision', 'recall', 'f1', 'total_predicted', 'total_labels', 'dataset']), dict_keys(['accuracy', 'precision', 'recall', 'f1', 'total_predicted', 'total_labels', 'dataset'])]\n"
     ]
    },
    {
     "data": {
      "text/html": [
       "<div>\n",
       "<style scoped>\n",
       "    .dataframe tbody tr th:only-of-type {\n",
       "        vertical-align: middle;\n",
       "    }\n",
       "\n",
       "    .dataframe tbody tr th {\n",
       "        vertical-align: top;\n",
       "    }\n",
       "\n",
       "    .dataframe thead th {\n",
       "        text-align: right;\n",
       "    }\n",
       "</style>\n",
       "<table border=\"1\" class=\"dataframe\">\n",
       "  <thead>\n",
       "    <tr style=\"text-align: right;\">\n",
       "      <th></th>\n",
       "      <th>accuracy</th>\n",
       "      <th>precision</th>\n",
       "      <th>recall</th>\n",
       "      <th>f1</th>\n",
       "      <th>total_predicted</th>\n",
       "      <th>total_labels</th>\n",
       "      <th>dataset</th>\n",
       "    </tr>\n",
       "  </thead>\n",
       "  <tbody>\n",
       "    <tr>\n",
       "      <th>resnet_StanfordCars_E10</th>\n",
       "      <td>0.797512</td>\n",
       "      <td>0.817962</td>\n",
       "      <td>0.797512</td>\n",
       "      <td>0.796223</td>\n",
       "      <td>[35.0, 32.0, 190.0, 55.0, 184.0, 150.0, 99.0, ...</td>\n",
       "      <td>[35.0, 32.0, 190.0, 183.0, 184.0, 1.0, 99.0, 6...</td>\n",
       "      <td>StanfordCars</td>\n",
       "    </tr>\n",
       "    <tr>\n",
       "      <th>resnet_StanfordCars_E20</th>\n",
       "      <td>0.797512</td>\n",
       "      <td>0.817962</td>\n",
       "      <td>0.797512</td>\n",
       "      <td>0.796223</td>\n",
       "      <td>[97.0, 21.0, 124.0, 125.0, 90.0, 55.0, 162.0, ...</td>\n",
       "      <td>[167.0, 21.0, 124.0, 125.0, 90.0, 55.0, 162.0,...</td>\n",
       "      <td>StanfordCars</td>\n",
       "    </tr>\n",
       "    <tr>\n",
       "      <th>resnet_FGVC-Aircraft_E10</th>\n",
       "      <td>0.629763</td>\n",
       "      <td>0.654519</td>\n",
       "      <td>0.629763</td>\n",
       "      <td>0.628464</td>\n",
       "      <td>[92.0, 48.0, 82.0, 76.0, 44.0, 63.0, 84.0, 86....</td>\n",
       "      <td>[92.0, 48.0, 82.0, 46.0, 44.0, 63.0, 1.0, 98.0...</td>\n",
       "      <td>FGVC-Aircraft</td>\n",
       "    </tr>\n",
       "    <tr>\n",
       "      <th>resnet_FGVC-Aircraft_E20</th>\n",
       "      <td>0.629763</td>\n",
       "      <td>0.654519</td>\n",
       "      <td>0.629763</td>\n",
       "      <td>0.628464</td>\n",
       "      <td>[9.0, 53.0, 91.0, 31.0, 81.0, 13.0, 95.0, 10.0...</td>\n",
       "      <td>[9.0, 53.0, 91.0, 32.0, 74.0, 31.0, 95.0, 0.0,...</td>\n",
       "      <td>FGVC-Aircraft</td>\n",
       "    </tr>\n",
       "    <tr>\n",
       "      <th>resnet_StanfordCars_E10_occ0</th>\n",
       "      <td>0.351244</td>\n",
       "      <td>0.430806</td>\n",
       "      <td>0.351244</td>\n",
       "      <td>0.332071</td>\n",
       "      <td>[103.0, 174.0, 90.0, 155.0, 76.0, 79.0, 119.0,...</td>\n",
       "      <td>[8.0, 174.0, 108.0, 157.0, 113.0, 79.0, 119.0,...</td>\n",
       "      <td>StanfordCars</td>\n",
       "    </tr>\n",
       "    <tr>\n",
       "      <th>resnet_StanfordCars_E20_occ0</th>\n",
       "      <td>0.569652</td>\n",
       "      <td>0.626163</td>\n",
       "      <td>0.569652</td>\n",
       "      <td>0.565574</td>\n",
       "      <td>[145.0, 147.0, 120.0, 146.0, 149.0, 55.0, 54.0...</td>\n",
       "      <td>[145.0, 147.0, 120.0, 146.0, 100.0, 166.0, 115...</td>\n",
       "      <td>StanfordCars</td>\n",
       "    </tr>\n",
       "    <tr>\n",
       "      <th>resnet_FGVC-Aircraft_E10_occ0</th>\n",
       "      <td>0.264626</td>\n",
       "      <td>0.289833</td>\n",
       "      <td>0.264626</td>\n",
       "      <td>0.229932</td>\n",
       "      <td>[52.0, 69.0, 74.0, 66.0, 80.0, 9.0, 97.0, 10.0...</td>\n",
       "      <td>[19.0, 44.0, 94.0, 5.0, 81.0, 4.0, 35.0, 33.0,...</td>\n",
       "      <td>FGVC-Aircraft</td>\n",
       "    </tr>\n",
       "    <tr>\n",
       "      <th>resnet_FGVC-Aircraft_E20_occ0</th>\n",
       "      <td>0.450945</td>\n",
       "      <td>0.498313</td>\n",
       "      <td>0.450945</td>\n",
       "      <td>0.438790</td>\n",
       "      <td>[78.0, 63.0, 53.0, 21.0, 4.0, 75.0, 63.0, 46.0...</td>\n",
       "      <td>[76.0, 63.0, 53.0, 28.0, 26.0, 75.0, 63.0, 46....</td>\n",
       "      <td>FGVC-Aircraft</td>\n",
       "    </tr>\n",
       "    <tr>\n",
       "      <th>resnet_StanfordCars_E10_occ1</th>\n",
       "      <td>0.016915</td>\n",
       "      <td>0.006972</td>\n",
       "      <td>0.016915</td>\n",
       "      <td>0.003920</td>\n",
       "      <td>[56.0, 119.0, 91.0, 119.0, 107.0, 119.0, 150.0...</td>\n",
       "      <td>[182.0, 114.0, 43.0, 30.0, 38.0, 63.0, 159.0, ...</td>\n",
       "      <td>StanfordCars</td>\n",
       "    </tr>\n",
       "    <tr>\n",
       "      <th>resnet_StanfordCars_E20_occ1</th>\n",
       "      <td>0.051244</td>\n",
       "      <td>0.040967</td>\n",
       "      <td>0.051244</td>\n",
       "      <td>0.038023</td>\n",
       "      <td>[124.0, 44.0, 133.0, 133.0, 82.0, 56.0, 46.0, ...</td>\n",
       "      <td>[63.0, 189.0, 181.0, 97.0, 112.0, 58.0, 120.0,...</td>\n",
       "      <td>StanfordCars</td>\n",
       "    </tr>\n",
       "    <tr>\n",
       "      <th>resnet_FGVC-Aircraft_E10_occ1</th>\n",
       "      <td>0.418842</td>\n",
       "      <td>0.465311</td>\n",
       "      <td>0.418842</td>\n",
       "      <td>0.394264</td>\n",
       "      <td>[96.0, 10.0, 43.0, 13.0, 89.0, 53.0, 12.0, 60....</td>\n",
       "      <td>[96.0, 12.0, 32.0, 13.0, 59.0, 48.0, 13.0, 76....</td>\n",
       "      <td>FGVC-Aircraft</td>\n",
       "    </tr>\n",
       "    <tr>\n",
       "      <th>resnet_FGVC-Aircraft_E20_occ1</th>\n",
       "      <td>0.517552</td>\n",
       "      <td>0.564293</td>\n",
       "      <td>0.517552</td>\n",
       "      <td>0.513290</td>\n",
       "      <td>[25.0, 37.0, 88.0, 14.0, 92.0, 52.0, 95.0, 34....</td>\n",
       "      <td>[25.0, 37.0, 86.0, 14.0, 92.0, 84.0, 95.0, 61....</td>\n",
       "      <td>FGVC-Aircraft</td>\n",
       "    </tr>\n",
       "    <tr>\n",
       "      <th>resnet_StanfordCars_E10_occGAUSSIAN</th>\n",
       "      <td>0.371393</td>\n",
       "      <td>0.481982</td>\n",
       "      <td>0.371393</td>\n",
       "      <td>0.361173</td>\n",
       "      <td>[75.0, 12.0, 144.0, 170.0, 53.0, 172.0, 189.0,...</td>\n",
       "      <td>[19.0, 12.0, 145.0, 170.0, 124.0, 31.0, 6.0, 1...</td>\n",
       "      <td>StanfordCars</td>\n",
       "    </tr>\n",
       "    <tr>\n",
       "      <th>resnet_StanfordCars_E20_occGAUSSIAN</th>\n",
       "      <td>0.584826</td>\n",
       "      <td>0.644007</td>\n",
       "      <td>0.584826</td>\n",
       "      <td>0.579291</td>\n",
       "      <td>[43.0, 28.0, 74.0, 86.0, 28.0, 157.0, 62.0, 81...</td>\n",
       "      <td>[38.0, 161.0, 74.0, 86.0, 28.0, 157.0, 63.0, 1...</td>\n",
       "      <td>StanfordCars</td>\n",
       "    </tr>\n",
       "    <tr>\n",
       "      <th>resnet_FGVC-Aircraft_E10_occGAUSSIAN</th>\n",
       "      <td>0.383438</td>\n",
       "      <td>0.418025</td>\n",
       "      <td>0.383438</td>\n",
       "      <td>0.360389</td>\n",
       "      <td>[11.0, 23.0, 76.0, 69.0, 4.0, 71.0, 82.0, 26.0...</td>\n",
       "      <td>[80.0, 23.0, 76.0, 97.0, 5.0, 71.0, 82.0, 25.0...</td>\n",
       "      <td>FGVC-Aircraft</td>\n",
       "    </tr>\n",
       "    <tr>\n",
       "      <th>resnet_FGVC-Aircraft_E20_occGAUSSIAN</th>\n",
       "      <td>0.511551</td>\n",
       "      <td>0.552724</td>\n",
       "      <td>0.511551</td>\n",
       "      <td>0.507977</td>\n",
       "      <td>[83.0, 32.0, 64.0, 94.0, 26.0, 36.0, 48.0, 23....</td>\n",
       "      <td>[83.0, 32.0, 64.0, 94.0, 9.0, 42.0, 48.0, 23.0...</td>\n",
       "      <td>FGVC-Aircraft</td>\n",
       "    </tr>\n",
       "    <tr>\n",
       "      <th>resnet_StanfordCars_E10_occSOFTMAX</th>\n",
       "      <td>0.533582</td>\n",
       "      <td>0.614993</td>\n",
       "      <td>0.533582</td>\n",
       "      <td>0.527438</td>\n",
       "      <td>[73.0, 14.0, 139.0, 43.0, 53.0, 117.0, 90.0, 1...</td>\n",
       "      <td>[73.0, 14.0, 137.0, 38.0, 53.0, 188.0, 90.0, 1...</td>\n",
       "      <td>StanfordCars</td>\n",
       "    </tr>\n",
       "    <tr>\n",
       "      <th>resnet_StanfordCars_E20_occSOFTMAX</th>\n",
       "      <td>0.616667</td>\n",
       "      <td>0.661326</td>\n",
       "      <td>0.616667</td>\n",
       "      <td>0.612363</td>\n",
       "      <td>[159.0, 108.0, 37.0, 53.0, 133.0, 60.0, 64.0, ...</td>\n",
       "      <td>[159.0, 69.0, 37.0, 72.0, 163.0, 119.0, 64.0, ...</td>\n",
       "      <td>StanfordCars</td>\n",
       "    </tr>\n",
       "    <tr>\n",
       "      <th>resnet_FGVC-Aircraft_E10_occSOFTMAX</th>\n",
       "      <td>0.432643</td>\n",
       "      <td>0.488060</td>\n",
       "      <td>0.432643</td>\n",
       "      <td>0.415070</td>\n",
       "      <td>[9.0, 22.0, 39.0, 94.0, 51.0, 36.0, 74.0, 22.0...</td>\n",
       "      <td>[9.0, 4.0, 79.0, 94.0, 51.0, 47.0, 74.0, 52.0,...</td>\n",
       "      <td>FGVC-Aircraft</td>\n",
       "    </tr>\n",
       "    <tr>\n",
       "      <th>resnet_FGVC-Aircraft_E20_occSOFTMAX</th>\n",
       "      <td>0.526253</td>\n",
       "      <td>0.560953</td>\n",
       "      <td>0.526253</td>\n",
       "      <td>0.517071</td>\n",
       "      <td>[72.0, 24.0, 32.0, 77.0, 35.0, 64.0, 84.0, 39....</td>\n",
       "      <td>[73.0, 6.0, 32.0, 77.0, 35.0, 64.0, 10.0, 50.0...</td>\n",
       "      <td>FGVC-Aircraft</td>\n",
       "    </tr>\n",
       "    <tr>\n",
       "      <th>densenet_StanfordCars_E10</th>\n",
       "      <td>0.862687</td>\n",
       "      <td>0.876415</td>\n",
       "      <td>0.862687</td>\n",
       "      <td>0.861064</td>\n",
       "      <td>[14.0, 178.0, 102.0, 28.0, 95.0, 135.0, 6.0, 4...</td>\n",
       "      <td>[14.0, 179.0, 102.0, 28.0, 95.0, 135.0, 6.0, 4...</td>\n",
       "      <td>StanfordCars</td>\n",
       "    </tr>\n",
       "    <tr>\n",
       "      <th>densenet_StanfordCars_E20</th>\n",
       "      <td>0.869154</td>\n",
       "      <td>0.878460</td>\n",
       "      <td>0.869154</td>\n",
       "      <td>0.869164</td>\n",
       "      <td>[142.0, 84.0, 50.0, 92.0, 145.0, 147.0, 38.0, ...</td>\n",
       "      <td>[142.0, 84.0, 50.0, 92.0, 145.0, 147.0, 38.0, ...</td>\n",
       "      <td>StanfordCars</td>\n",
       "    </tr>\n",
       "    <tr>\n",
       "      <th>densenet_FGVC-Aircraft_E10</th>\n",
       "      <td>0.699370</td>\n",
       "      <td>0.717025</td>\n",
       "      <td>0.699370</td>\n",
       "      <td>0.693754</td>\n",
       "      <td>[73.0, 6.0, 30.0, 12.0, 56.0, 42.0, 62.0, 48.0...</td>\n",
       "      <td>[73.0, 6.0, 30.0, 11.0, 56.0, 42.0, 62.0, 48.0...</td>\n",
       "      <td>FGVC-Aircraft</td>\n",
       "    </tr>\n",
       "    <tr>\n",
       "      <th>densenet_FGVC-Aircraft_E20</th>\n",
       "      <td>0.714971</td>\n",
       "      <td>0.728882</td>\n",
       "      <td>0.714971</td>\n",
       "      <td>0.712943</td>\n",
       "      <td>[56.0, 33.0, 36.0, 28.0, 49.0, 22.0, 29.0, 18....</td>\n",
       "      <td>[6.0, 33.0, 36.0, 27.0, 49.0, 22.0, 29.0, 18.0...</td>\n",
       "      <td>FGVC-Aircraft</td>\n",
       "    </tr>\n",
       "    <tr>\n",
       "      <th>densenet_StanfordCars_E10_occ0</th>\n",
       "      <td>0.608706</td>\n",
       "      <td>0.695528</td>\n",
       "      <td>0.608706</td>\n",
       "      <td>0.611269</td>\n",
       "      <td>[123.0, 50.0, 29.0, 61.0, 48.0, 140.0, 55.0, 1...</td>\n",
       "      <td>[123.0, 50.0, 2.0, 61.0, 48.0, 162.0, 161.0, 1...</td>\n",
       "      <td>StanfordCars</td>\n",
       "    </tr>\n",
       "    <tr>\n",
       "      <th>densenet_StanfordCars_E20_occ0</th>\n",
       "      <td>0.754726</td>\n",
       "      <td>0.791633</td>\n",
       "      <td>0.754726</td>\n",
       "      <td>0.756169</td>\n",
       "      <td>[131.0, 97.0, 16.0, 72.0, 11.0, 20.0, 71.0, 4....</td>\n",
       "      <td>[131.0, 62.0, 16.0, 118.0, 12.0, 16.0, 71.0, 1...</td>\n",
       "      <td>StanfordCars</td>\n",
       "    </tr>\n",
       "    <tr>\n",
       "      <th>densenet_FGVC-Aircraft_E10_occ0</th>\n",
       "      <td>0.367837</td>\n",
       "      <td>0.393653</td>\n",
       "      <td>0.367837</td>\n",
       "      <td>0.340477</td>\n",
       "      <td>[24.0, 63.0, 76.0, 19.0, 66.0, 19.0, 76.0, 68....</td>\n",
       "      <td>[7.0, 63.0, 56.0, 33.0, 65.0, 22.0, 87.0, 68.0...</td>\n",
       "      <td>FGVC-Aircraft</td>\n",
       "    </tr>\n",
       "    <tr>\n",
       "      <th>densenet_FGVC-Aircraft_E20_occ0</th>\n",
       "      <td>0.486049</td>\n",
       "      <td>0.555013</td>\n",
       "      <td>0.486049</td>\n",
       "      <td>0.486293</td>\n",
       "      <td>[63.0, 65.0, 45.0, 43.0, 37.0, 60.0, 35.0, 58....</td>\n",
       "      <td>[67.0, 2.0, 45.0, 10.0, 37.0, 60.0, 35.0, 58.0...</td>\n",
       "      <td>FGVC-Aircraft</td>\n",
       "    </tr>\n",
       "    <tr>\n",
       "      <th>densenet_StanfordCars_E10_occ1</th>\n",
       "      <td>0.474129</td>\n",
       "      <td>0.589459</td>\n",
       "      <td>0.474129</td>\n",
       "      <td>0.466660</td>\n",
       "      <td>[186.0, 192.0, 144.0, 67.0, 195.0, 20.0, 3.0, ...</td>\n",
       "      <td>[186.0, 11.0, 144.0, 67.0, 195.0, 20.0, 3.0, 9...</td>\n",
       "      <td>StanfordCars</td>\n",
       "    </tr>\n",
       "    <tr>\n",
       "      <th>densenet_StanfordCars_E20_occ1</th>\n",
       "      <td>0.677114</td>\n",
       "      <td>0.722723</td>\n",
       "      <td>0.677114</td>\n",
       "      <td>0.672514</td>\n",
       "      <td>[99.0, 93.0, 155.0, 1.0, 40.0, 37.0, 118.0, 15...</td>\n",
       "      <td>[99.0, 93.0, 112.0, 1.0, 40.0, 37.0, 68.0, 157...</td>\n",
       "      <td>StanfordCars</td>\n",
       "    </tr>\n",
       "    <tr>\n",
       "      <th>densenet_FGVC-Aircraft_E10_occ1</th>\n",
       "      <td>0.476448</td>\n",
       "      <td>0.527821</td>\n",
       "      <td>0.476448</td>\n",
       "      <td>0.462162</td>\n",
       "      <td>[20.0, 6.0, 26.0, 30.0, 26.0, 59.0, 22.0, 46.0...</td>\n",
       "      <td>[20.0, 32.0, 52.0, 30.0, 17.0, 60.0, 84.0, 46....</td>\n",
       "      <td>FGVC-Aircraft</td>\n",
       "    </tr>\n",
       "    <tr>\n",
       "      <th>densenet_FGVC-Aircraft_E20_occ1</th>\n",
       "      <td>0.594659</td>\n",
       "      <td>0.632057</td>\n",
       "      <td>0.594659</td>\n",
       "      <td>0.586014</td>\n",
       "      <td>[1.0, 89.0, 18.0, 98.0, 41.0, 83.0, 44.0, 57.0...</td>\n",
       "      <td>[1.0, 89.0, 18.0, 98.0, 41.0, 83.0, 44.0, 57.0...</td>\n",
       "      <td>FGVC-Aircraft</td>\n",
       "    </tr>\n",
       "    <tr>\n",
       "      <th>densenet_StanfordCars_E10_occGAUSSIAN</th>\n",
       "      <td>0.664428</td>\n",
       "      <td>0.718600</td>\n",
       "      <td>0.664428</td>\n",
       "      <td>0.663861</td>\n",
       "      <td>[181.0, 45.0, 177.0, 115.0, 19.0, 194.0, 45.0,...</td>\n",
       "      <td>[181.0, 179.0, 177.0, 115.0, 4.0, 194.0, 152.0...</td>\n",
       "      <td>StanfordCars</td>\n",
       "    </tr>\n",
       "    <tr>\n",
       "      <th>densenet_StanfordCars_E20_occGAUSSIAN</th>\n",
       "      <td>0.741045</td>\n",
       "      <td>0.789327</td>\n",
       "      <td>0.741045</td>\n",
       "      <td>0.743988</td>\n",
       "      <td>[12.0, 193.0, 27.0, 122.0, 145.0, 173.0, 73.0,...</td>\n",
       "      <td>[12.0, 193.0, 28.0, 122.0, 146.0, 80.0, 73.0, ...</td>\n",
       "      <td>StanfordCars</td>\n",
       "    </tr>\n",
       "    <tr>\n",
       "      <th>densenet_FGVC-Aircraft_E10_occGAUSSIAN</th>\n",
       "      <td>0.351035</td>\n",
       "      <td>0.423080</td>\n",
       "      <td>0.351035</td>\n",
       "      <td>0.327320</td>\n",
       "      <td>[99.0, 89.0, 72.0, 51.0, 14.0, 97.0, 53.0, 35....</td>\n",
       "      <td>[46.0, 89.0, 71.0, 51.0, 26.0, 97.0, 53.0, 35....</td>\n",
       "      <td>FGVC-Aircraft</td>\n",
       "    </tr>\n",
       "    <tr>\n",
       "      <th>densenet_FGVC-Aircraft_E20_occGAUSSIAN</th>\n",
       "      <td>0.539754</td>\n",
       "      <td>0.577277</td>\n",
       "      <td>0.539754</td>\n",
       "      <td>0.525510</td>\n",
       "      <td>[7.0, 40.0, 16.0, 80.0, 87.0, 24.0, 62.0, 89.0...</td>\n",
       "      <td>[6.0, 40.0, 16.0, 81.0, 41.0, 5.0, 62.0, 94.0,...</td>\n",
       "      <td>FGVC-Aircraft</td>\n",
       "    </tr>\n",
       "    <tr>\n",
       "      <th>densenet_StanfordCars_E10_occSOFTMAX</th>\n",
       "      <td>0.632587</td>\n",
       "      <td>0.703338</td>\n",
       "      <td>0.632587</td>\n",
       "      <td>0.629883</td>\n",
       "      <td>[122.0, 120.0, 12.0, 14.0, 4.0, 167.0, 26.0, 6...</td>\n",
       "      <td>[122.0, 120.0, 113.0, 86.0, 4.0, 167.0, 48.0, ...</td>\n",
       "      <td>StanfordCars</td>\n",
       "    </tr>\n",
       "    <tr>\n",
       "      <th>densenet_StanfordCars_E20_occSOFTMAX</th>\n",
       "      <td>0.721642</td>\n",
       "      <td>0.766537</td>\n",
       "      <td>0.721642</td>\n",
       "      <td>0.722829</td>\n",
       "      <td>[187.0, 119.0, 150.0, 100.0, 181.0, 17.0, 170....</td>\n",
       "      <td>[187.0, 119.0, 150.0, 101.0, 166.0, 20.0, 170....</td>\n",
       "      <td>StanfordCars</td>\n",
       "    </tr>\n",
       "    <tr>\n",
       "      <th>densenet_FGVC-Aircraft_E10_occSOFTMAX</th>\n",
       "      <td>0.374737</td>\n",
       "      <td>0.426811</td>\n",
       "      <td>0.374737</td>\n",
       "      <td>0.348498</td>\n",
       "      <td>[56.0, 71.0, 62.0, 96.0, 24.0, 33.0, 1.0, 10.0...</td>\n",
       "      <td>[56.0, 72.0, 62.0, 96.0, 23.0, 31.0, 87.0, 85....</td>\n",
       "      <td>FGVC-Aircraft</td>\n",
       "    </tr>\n",
       "    <tr>\n",
       "      <th>densenet_FGVC-Aircraft_E20_occSOFTMAX</th>\n",
       "      <td>0.517852</td>\n",
       "      <td>0.556911</td>\n",
       "      <td>0.517852</td>\n",
       "      <td>0.500786</td>\n",
       "      <td>[66.0, 34.0, 88.0, 99.0, 1.0, 27.0, 40.0, 76.0...</td>\n",
       "      <td>[65.0, 34.0, 1.0, 99.0, 55.0, 27.0, 40.0, 56.0...</td>\n",
       "      <td>FGVC-Aircraft</td>\n",
       "    </tr>\n",
       "    <tr>\n",
       "      <th>vgg_StanfordCars_E10</th>\n",
       "      <td>0.715920</td>\n",
       "      <td>0.762110</td>\n",
       "      <td>0.715920</td>\n",
       "      <td>0.714437</td>\n",
       "      <td>[86.0, 117.0, 13.0, 180.0, 55.0, 78.0, 137.0, ...</td>\n",
       "      <td>[77.0, 144.0, 19.0, 183.0, 55.0, 78.0, 137.0, ...</td>\n",
       "      <td>StanfordCars</td>\n",
       "    </tr>\n",
       "    <tr>\n",
       "      <th>vgg_StanfordCars_E20</th>\n",
       "      <td>0.741294</td>\n",
       "      <td>0.774111</td>\n",
       "      <td>0.741294</td>\n",
       "      <td>0.741226</td>\n",
       "      <td>[0.0, 173.0, 188.0, 171.0, 177.0, 28.0, 98.0, ...</td>\n",
       "      <td>[0.0, 173.0, 188.0, 171.0, 55.0, 28.0, 98.0, 1...</td>\n",
       "      <td>StanfordCars</td>\n",
       "    </tr>\n",
       "    <tr>\n",
       "      <th>vgg_FGVC-Aircraft_E10</th>\n",
       "      <td>0.627063</td>\n",
       "      <td>0.663375</td>\n",
       "      <td>0.627063</td>\n",
       "      <td>0.622358</td>\n",
       "      <td>[38.0, 78.0, 80.0, 53.0, 22.0, 34.0, 59.0, 93....</td>\n",
       "      <td>[38.0, 93.0, 80.0, 53.0, 24.0, 34.0, 59.0, 93....</td>\n",
       "      <td>FGVC-Aircraft</td>\n",
       "    </tr>\n",
       "    <tr>\n",
       "      <th>vgg_FGVC-Aircraft_E20</th>\n",
       "      <td>0.645365</td>\n",
       "      <td>0.672274</td>\n",
       "      <td>0.645365</td>\n",
       "      <td>0.641089</td>\n",
       "      <td>[8.0, 90.0, 52.0, 48.0, 54.0, 20.0, 0.0, 97.0,...</td>\n",
       "      <td>[4.0, 90.0, 84.0, 38.0, 54.0, 55.0, 0.0, 97.0,...</td>\n",
       "      <td>FGVC-Aircraft</td>\n",
       "    </tr>\n",
       "    <tr>\n",
       "      <th>vgg_StanfordCars_E10_occ0</th>\n",
       "      <td>0.301990</td>\n",
       "      <td>0.370036</td>\n",
       "      <td>0.301990</td>\n",
       "      <td>0.281846</td>\n",
       "      <td>[112.0, 56.0, 109.0, 44.0, 81.0, 80.0, 132.0, ...</td>\n",
       "      <td>[81.0, 56.0, 105.0, 44.0, 81.0, 128.0, 63.0, 1...</td>\n",
       "      <td>StanfordCars</td>\n",
       "    </tr>\n",
       "    <tr>\n",
       "      <th>vgg_StanfordCars_E20_occ0</th>\n",
       "      <td>0.493781</td>\n",
       "      <td>0.549703</td>\n",
       "      <td>0.493781</td>\n",
       "      <td>0.489349</td>\n",
       "      <td>[6.0, 80.0, 179.0, 133.0, 122.0, 40.0, 71.0, 9...</td>\n",
       "      <td>[6.0, 80.0, 178.0, 133.0, 160.0, 40.0, 141.0, ...</td>\n",
       "      <td>StanfordCars</td>\n",
       "    </tr>\n",
       "    <tr>\n",
       "      <th>vgg_FGVC-Aircraft_E10_occ0</th>\n",
       "      <td>0.545755</td>\n",
       "      <td>0.593101</td>\n",
       "      <td>0.545755</td>\n",
       "      <td>0.530509</td>\n",
       "      <td>[95.0, 44.0, 24.0, 36.0, 34.0, 51.0, 32.0, 32....</td>\n",
       "      <td>[32.0, 44.0, 24.0, 1.0, 35.0, 51.0, 32.0, 20.0...</td>\n",
       "      <td>FGVC-Aircraft</td>\n",
       "    </tr>\n",
       "    <tr>\n",
       "      <th>vgg_FGVC-Aircraft_E20_occ0</th>\n",
       "      <td>0.585659</td>\n",
       "      <td>0.638190</td>\n",
       "      <td>0.585659</td>\n",
       "      <td>0.587687</td>\n",
       "      <td>[10.0, 73.0, 7.0, 87.0, 39.0, 56.0, 85.0, 61.0...</td>\n",
       "      <td>[12.0, 73.0, 7.0, 46.0, 39.0, 41.0, 85.0, 61.0...</td>\n",
       "      <td>FGVC-Aircraft</td>\n",
       "    </tr>\n",
       "    <tr>\n",
       "      <th>vgg_StanfordCars_E10_occ1</th>\n",
       "      <td>0.654478</td>\n",
       "      <td>0.702229</td>\n",
       "      <td>0.654478</td>\n",
       "      <td>0.653138</td>\n",
       "      <td>[125.0, 32.0, 159.0, 14.0, 86.0, 147.0, 107.0,...</td>\n",
       "      <td>[125.0, 17.0, 159.0, 14.0, 86.0, 146.0, 107.0,...</td>\n",
       "      <td>StanfordCars</td>\n",
       "    </tr>\n",
       "    <tr>\n",
       "      <th>vgg_StanfordCars_E20_occ1</th>\n",
       "      <td>0.656716</td>\n",
       "      <td>0.701845</td>\n",
       "      <td>0.656716</td>\n",
       "      <td>0.655726</td>\n",
       "      <td>[118.0, 187.0, 80.0, 40.0, 9.0, 56.0, 138.0, 1...</td>\n",
       "      <td>[108.0, 187.0, 80.0, 125.0, 9.0, 37.0, 143.0, ...</td>\n",
       "      <td>StanfordCars</td>\n",
       "    </tr>\n",
       "    <tr>\n",
       "      <th>vgg_FGVC-Aircraft_E10_occ1</th>\n",
       "      <td>0.587459</td>\n",
       "      <td>0.638985</td>\n",
       "      <td>0.587459</td>\n",
       "      <td>0.577315</td>\n",
       "      <td>[58.0, 79.0, 99.0, 20.0, 4.0, 18.0, 99.0, 36.0...</td>\n",
       "      <td>[58.0, 79.0, 99.0, 11.0, 4.0, 29.0, 1.0, 36.0,...</td>\n",
       "      <td>FGVC-Aircraft</td>\n",
       "    </tr>\n",
       "    <tr>\n",
       "      <th>vgg_FGVC-Aircraft_E20_occ1</th>\n",
       "      <td>0.620462</td>\n",
       "      <td>0.660228</td>\n",
       "      <td>0.620462</td>\n",
       "      <td>0.621440</td>\n",
       "      <td>[25.0, 73.0, 98.0, 68.0, 45.0, 83.0, 63.0, 42....</td>\n",
       "      <td>[25.0, 73.0, 98.0, 68.0, 49.0, 83.0, 63.0, 42....</td>\n",
       "      <td>FGVC-Aircraft</td>\n",
       "    </tr>\n",
       "    <tr>\n",
       "      <th>vgg_StanfordCars_E10_occGAUSSIAN</th>\n",
       "      <td>0.637065</td>\n",
       "      <td>0.689761</td>\n",
       "      <td>0.637065</td>\n",
       "      <td>0.637645</td>\n",
       "      <td>[88.0, 99.0, 149.0, 35.0, 113.0, 184.0, 85.0, ...</td>\n",
       "      <td>[108.0, 99.0, 159.0, 168.0, 84.0, 184.0, 85.0,...</td>\n",
       "      <td>StanfordCars</td>\n",
       "    </tr>\n",
       "    <tr>\n",
       "      <th>vgg_StanfordCars_E20_occGAUSSIAN</th>\n",
       "      <td>0.702239</td>\n",
       "      <td>0.735393</td>\n",
       "      <td>0.702239</td>\n",
       "      <td>0.703500</td>\n",
       "      <td>[34.0, 15.0, 30.0, 86.0, 102.0, 195.0, 106.0, ...</td>\n",
       "      <td>[34.0, 15.0, 30.0, 86.0, 102.0, 195.0, 106.0, ...</td>\n",
       "      <td>StanfordCars</td>\n",
       "    </tr>\n",
       "    <tr>\n",
       "      <th>vgg_FGVC-Aircraft_E10_occGAUSSIAN</th>\n",
       "      <td>0.575758</td>\n",
       "      <td>0.629434</td>\n",
       "      <td>0.575758</td>\n",
       "      <td>0.567029</td>\n",
       "      <td>[34.0, 86.0, 11.0, 39.0, 2.0, 10.0, 63.0, 48.0...</td>\n",
       "      <td>[34.0, 98.0, 32.0, 39.0, 2.0, 88.0, 42.0, 53.0...</td>\n",
       "      <td>FGVC-Aircraft</td>\n",
       "    </tr>\n",
       "    <tr>\n",
       "      <th>vgg_FGVC-Aircraft_E20_occGAUSSIAN</th>\n",
       "      <td>0.612661</td>\n",
       "      <td>0.649770</td>\n",
       "      <td>0.612661</td>\n",
       "      <td>0.608542</td>\n",
       "      <td>[25.0, 39.0, 98.0, 29.0, 69.0, 38.0, 16.0, 73....</td>\n",
       "      <td>[25.0, 39.0, 98.0, 29.0, 68.0, 38.0, 16.0, 73....</td>\n",
       "      <td>FGVC-Aircraft</td>\n",
       "    </tr>\n",
       "    <tr>\n",
       "      <th>vgg_StanfordCars_E10_occSOFTMAX</th>\n",
       "      <td>0.659701</td>\n",
       "      <td>0.712129</td>\n",
       "      <td>0.659701</td>\n",
       "      <td>0.659041</td>\n",
       "      <td>[37.0, 173.0, 81.0, 100.0, 127.0, 52.0, 93.0, ...</td>\n",
       "      <td>[37.0, 80.0, 81.0, 101.0, 127.0, 52.0, 93.0, 1...</td>\n",
       "      <td>StanfordCars</td>\n",
       "    </tr>\n",
       "    <tr>\n",
       "      <th>vgg_StanfordCars_E20_occSOFTMAX</th>\n",
       "      <td>0.683831</td>\n",
       "      <td>0.729407</td>\n",
       "      <td>0.683831</td>\n",
       "      <td>0.680329</td>\n",
       "      <td>[52.0, 66.0, 46.0, 21.0, 31.0, 89.0, 76.0, 190...</td>\n",
       "      <td>[52.0, 66.0, 46.0, 22.0, 31.0, 89.0, 76.0, 190...</td>\n",
       "      <td>StanfordCars</td>\n",
       "    </tr>\n",
       "    <tr>\n",
       "      <th>vgg_FGVC-Aircraft_E10_occSOFTMAX</th>\n",
       "      <td>0.566457</td>\n",
       "      <td>0.592105</td>\n",
       "      <td>0.566457</td>\n",
       "      <td>0.555110</td>\n",
       "      <td>[97.0, 7.0, 95.0, 34.0, 40.0, 76.0, 6.0, 9.0, ...</td>\n",
       "      <td>[27.0, 7.0, 95.0, 34.0, 81.0, 76.0, 3.0, 56.0,...</td>\n",
       "      <td>FGVC-Aircraft</td>\n",
       "    </tr>\n",
       "    <tr>\n",
       "      <th>vgg_FGVC-Aircraft_E20_occSOFTMAX</th>\n",
       "      <td>0.611761</td>\n",
       "      <td>0.649875</td>\n",
       "      <td>0.611761</td>\n",
       "      <td>0.610242</td>\n",
       "      <td>[98.0, 64.0, 60.0, 81.0, 58.0, 75.0, 9.0, 18.0...</td>\n",
       "      <td>[98.0, 57.0, 60.0, 81.0, 58.0, 75.0, 8.0, 18.0...</td>\n",
       "      <td>FGVC-Aircraft</td>\n",
       "    </tr>\n",
       "  </tbody>\n",
       "</table>\n",
       "</div>"
      ],
      "text/plain": [
       "                                        accuracy  precision    recall  \\\n",
       "resnet_StanfordCars_E10                 0.797512   0.817962  0.797512   \n",
       "resnet_StanfordCars_E20                 0.797512   0.817962  0.797512   \n",
       "resnet_FGVC-Aircraft_E10                0.629763   0.654519  0.629763   \n",
       "resnet_FGVC-Aircraft_E20                0.629763   0.654519  0.629763   \n",
       "resnet_StanfordCars_E10_occ0            0.351244   0.430806  0.351244   \n",
       "resnet_StanfordCars_E20_occ0            0.569652   0.626163  0.569652   \n",
       "resnet_FGVC-Aircraft_E10_occ0           0.264626   0.289833  0.264626   \n",
       "resnet_FGVC-Aircraft_E20_occ0           0.450945   0.498313  0.450945   \n",
       "resnet_StanfordCars_E10_occ1            0.016915   0.006972  0.016915   \n",
       "resnet_StanfordCars_E20_occ1            0.051244   0.040967  0.051244   \n",
       "resnet_FGVC-Aircraft_E10_occ1           0.418842   0.465311  0.418842   \n",
       "resnet_FGVC-Aircraft_E20_occ1           0.517552   0.564293  0.517552   \n",
       "resnet_StanfordCars_E10_occGAUSSIAN     0.371393   0.481982  0.371393   \n",
       "resnet_StanfordCars_E20_occGAUSSIAN     0.584826   0.644007  0.584826   \n",
       "resnet_FGVC-Aircraft_E10_occGAUSSIAN    0.383438   0.418025  0.383438   \n",
       "resnet_FGVC-Aircraft_E20_occGAUSSIAN    0.511551   0.552724  0.511551   \n",
       "resnet_StanfordCars_E10_occSOFTMAX      0.533582   0.614993  0.533582   \n",
       "resnet_StanfordCars_E20_occSOFTMAX      0.616667   0.661326  0.616667   \n",
       "resnet_FGVC-Aircraft_E10_occSOFTMAX     0.432643   0.488060  0.432643   \n",
       "resnet_FGVC-Aircraft_E20_occSOFTMAX     0.526253   0.560953  0.526253   \n",
       "densenet_StanfordCars_E10               0.862687   0.876415  0.862687   \n",
       "densenet_StanfordCars_E20               0.869154   0.878460  0.869154   \n",
       "densenet_FGVC-Aircraft_E10              0.699370   0.717025  0.699370   \n",
       "densenet_FGVC-Aircraft_E20              0.714971   0.728882  0.714971   \n",
       "densenet_StanfordCars_E10_occ0          0.608706   0.695528  0.608706   \n",
       "densenet_StanfordCars_E20_occ0          0.754726   0.791633  0.754726   \n",
       "densenet_FGVC-Aircraft_E10_occ0         0.367837   0.393653  0.367837   \n",
       "densenet_FGVC-Aircraft_E20_occ0         0.486049   0.555013  0.486049   \n",
       "densenet_StanfordCars_E10_occ1          0.474129   0.589459  0.474129   \n",
       "densenet_StanfordCars_E20_occ1          0.677114   0.722723  0.677114   \n",
       "densenet_FGVC-Aircraft_E10_occ1         0.476448   0.527821  0.476448   \n",
       "densenet_FGVC-Aircraft_E20_occ1         0.594659   0.632057  0.594659   \n",
       "densenet_StanfordCars_E10_occGAUSSIAN   0.664428   0.718600  0.664428   \n",
       "densenet_StanfordCars_E20_occGAUSSIAN   0.741045   0.789327  0.741045   \n",
       "densenet_FGVC-Aircraft_E10_occGAUSSIAN  0.351035   0.423080  0.351035   \n",
       "densenet_FGVC-Aircraft_E20_occGAUSSIAN  0.539754   0.577277  0.539754   \n",
       "densenet_StanfordCars_E10_occSOFTMAX    0.632587   0.703338  0.632587   \n",
       "densenet_StanfordCars_E20_occSOFTMAX    0.721642   0.766537  0.721642   \n",
       "densenet_FGVC-Aircraft_E10_occSOFTMAX   0.374737   0.426811  0.374737   \n",
       "densenet_FGVC-Aircraft_E20_occSOFTMAX   0.517852   0.556911  0.517852   \n",
       "vgg_StanfordCars_E10                    0.715920   0.762110  0.715920   \n",
       "vgg_StanfordCars_E20                    0.741294   0.774111  0.741294   \n",
       "vgg_FGVC-Aircraft_E10                   0.627063   0.663375  0.627063   \n",
       "vgg_FGVC-Aircraft_E20                   0.645365   0.672274  0.645365   \n",
       "vgg_StanfordCars_E10_occ0               0.301990   0.370036  0.301990   \n",
       "vgg_StanfordCars_E20_occ0               0.493781   0.549703  0.493781   \n",
       "vgg_FGVC-Aircraft_E10_occ0              0.545755   0.593101  0.545755   \n",
       "vgg_FGVC-Aircraft_E20_occ0              0.585659   0.638190  0.585659   \n",
       "vgg_StanfordCars_E10_occ1               0.654478   0.702229  0.654478   \n",
       "vgg_StanfordCars_E20_occ1               0.656716   0.701845  0.656716   \n",
       "vgg_FGVC-Aircraft_E10_occ1              0.587459   0.638985  0.587459   \n",
       "vgg_FGVC-Aircraft_E20_occ1              0.620462   0.660228  0.620462   \n",
       "vgg_StanfordCars_E10_occGAUSSIAN        0.637065   0.689761  0.637065   \n",
       "vgg_StanfordCars_E20_occGAUSSIAN        0.702239   0.735393  0.702239   \n",
       "vgg_FGVC-Aircraft_E10_occGAUSSIAN       0.575758   0.629434  0.575758   \n",
       "vgg_FGVC-Aircraft_E20_occGAUSSIAN       0.612661   0.649770  0.612661   \n",
       "vgg_StanfordCars_E10_occSOFTMAX         0.659701   0.712129  0.659701   \n",
       "vgg_StanfordCars_E20_occSOFTMAX         0.683831   0.729407  0.683831   \n",
       "vgg_FGVC-Aircraft_E10_occSOFTMAX        0.566457   0.592105  0.566457   \n",
       "vgg_FGVC-Aircraft_E20_occSOFTMAX        0.611761   0.649875  0.611761   \n",
       "\n",
       "                                              f1  \\\n",
       "resnet_StanfordCars_E10                 0.796223   \n",
       "resnet_StanfordCars_E20                 0.796223   \n",
       "resnet_FGVC-Aircraft_E10                0.628464   \n",
       "resnet_FGVC-Aircraft_E20                0.628464   \n",
       "resnet_StanfordCars_E10_occ0            0.332071   \n",
       "resnet_StanfordCars_E20_occ0            0.565574   \n",
       "resnet_FGVC-Aircraft_E10_occ0           0.229932   \n",
       "resnet_FGVC-Aircraft_E20_occ0           0.438790   \n",
       "resnet_StanfordCars_E10_occ1            0.003920   \n",
       "resnet_StanfordCars_E20_occ1            0.038023   \n",
       "resnet_FGVC-Aircraft_E10_occ1           0.394264   \n",
       "resnet_FGVC-Aircraft_E20_occ1           0.513290   \n",
       "resnet_StanfordCars_E10_occGAUSSIAN     0.361173   \n",
       "resnet_StanfordCars_E20_occGAUSSIAN     0.579291   \n",
       "resnet_FGVC-Aircraft_E10_occGAUSSIAN    0.360389   \n",
       "resnet_FGVC-Aircraft_E20_occGAUSSIAN    0.507977   \n",
       "resnet_StanfordCars_E10_occSOFTMAX      0.527438   \n",
       "resnet_StanfordCars_E20_occSOFTMAX      0.612363   \n",
       "resnet_FGVC-Aircraft_E10_occSOFTMAX     0.415070   \n",
       "resnet_FGVC-Aircraft_E20_occSOFTMAX     0.517071   \n",
       "densenet_StanfordCars_E10               0.861064   \n",
       "densenet_StanfordCars_E20               0.869164   \n",
       "densenet_FGVC-Aircraft_E10              0.693754   \n",
       "densenet_FGVC-Aircraft_E20              0.712943   \n",
       "densenet_StanfordCars_E10_occ0          0.611269   \n",
       "densenet_StanfordCars_E20_occ0          0.756169   \n",
       "densenet_FGVC-Aircraft_E10_occ0         0.340477   \n",
       "densenet_FGVC-Aircraft_E20_occ0         0.486293   \n",
       "densenet_StanfordCars_E10_occ1          0.466660   \n",
       "densenet_StanfordCars_E20_occ1          0.672514   \n",
       "densenet_FGVC-Aircraft_E10_occ1         0.462162   \n",
       "densenet_FGVC-Aircraft_E20_occ1         0.586014   \n",
       "densenet_StanfordCars_E10_occGAUSSIAN   0.663861   \n",
       "densenet_StanfordCars_E20_occGAUSSIAN   0.743988   \n",
       "densenet_FGVC-Aircraft_E10_occGAUSSIAN  0.327320   \n",
       "densenet_FGVC-Aircraft_E20_occGAUSSIAN  0.525510   \n",
       "densenet_StanfordCars_E10_occSOFTMAX    0.629883   \n",
       "densenet_StanfordCars_E20_occSOFTMAX    0.722829   \n",
       "densenet_FGVC-Aircraft_E10_occSOFTMAX   0.348498   \n",
       "densenet_FGVC-Aircraft_E20_occSOFTMAX   0.500786   \n",
       "vgg_StanfordCars_E10                    0.714437   \n",
       "vgg_StanfordCars_E20                    0.741226   \n",
       "vgg_FGVC-Aircraft_E10                   0.622358   \n",
       "vgg_FGVC-Aircraft_E20                   0.641089   \n",
       "vgg_StanfordCars_E10_occ0               0.281846   \n",
       "vgg_StanfordCars_E20_occ0               0.489349   \n",
       "vgg_FGVC-Aircraft_E10_occ0              0.530509   \n",
       "vgg_FGVC-Aircraft_E20_occ0              0.587687   \n",
       "vgg_StanfordCars_E10_occ1               0.653138   \n",
       "vgg_StanfordCars_E20_occ1               0.655726   \n",
       "vgg_FGVC-Aircraft_E10_occ1              0.577315   \n",
       "vgg_FGVC-Aircraft_E20_occ1              0.621440   \n",
       "vgg_StanfordCars_E10_occGAUSSIAN        0.637645   \n",
       "vgg_StanfordCars_E20_occGAUSSIAN        0.703500   \n",
       "vgg_FGVC-Aircraft_E10_occGAUSSIAN       0.567029   \n",
       "vgg_FGVC-Aircraft_E20_occGAUSSIAN       0.608542   \n",
       "vgg_StanfordCars_E10_occSOFTMAX         0.659041   \n",
       "vgg_StanfordCars_E20_occSOFTMAX         0.680329   \n",
       "vgg_FGVC-Aircraft_E10_occSOFTMAX        0.555110   \n",
       "vgg_FGVC-Aircraft_E20_occSOFTMAX        0.610242   \n",
       "\n",
       "                                                                          total_predicted  \\\n",
       "resnet_StanfordCars_E10                 [35.0, 32.0, 190.0, 55.0, 184.0, 150.0, 99.0, ...   \n",
       "resnet_StanfordCars_E20                 [97.0, 21.0, 124.0, 125.0, 90.0, 55.0, 162.0, ...   \n",
       "resnet_FGVC-Aircraft_E10                [92.0, 48.0, 82.0, 76.0, 44.0, 63.0, 84.0, 86....   \n",
       "resnet_FGVC-Aircraft_E20                [9.0, 53.0, 91.0, 31.0, 81.0, 13.0, 95.0, 10.0...   \n",
       "resnet_StanfordCars_E10_occ0            [103.0, 174.0, 90.0, 155.0, 76.0, 79.0, 119.0,...   \n",
       "resnet_StanfordCars_E20_occ0            [145.0, 147.0, 120.0, 146.0, 149.0, 55.0, 54.0...   \n",
       "resnet_FGVC-Aircraft_E10_occ0           [52.0, 69.0, 74.0, 66.0, 80.0, 9.0, 97.0, 10.0...   \n",
       "resnet_FGVC-Aircraft_E20_occ0           [78.0, 63.0, 53.0, 21.0, 4.0, 75.0, 63.0, 46.0...   \n",
       "resnet_StanfordCars_E10_occ1            [56.0, 119.0, 91.0, 119.0, 107.0, 119.0, 150.0...   \n",
       "resnet_StanfordCars_E20_occ1            [124.0, 44.0, 133.0, 133.0, 82.0, 56.0, 46.0, ...   \n",
       "resnet_FGVC-Aircraft_E10_occ1           [96.0, 10.0, 43.0, 13.0, 89.0, 53.0, 12.0, 60....   \n",
       "resnet_FGVC-Aircraft_E20_occ1           [25.0, 37.0, 88.0, 14.0, 92.0, 52.0, 95.0, 34....   \n",
       "resnet_StanfordCars_E10_occGAUSSIAN     [75.0, 12.0, 144.0, 170.0, 53.0, 172.0, 189.0,...   \n",
       "resnet_StanfordCars_E20_occGAUSSIAN     [43.0, 28.0, 74.0, 86.0, 28.0, 157.0, 62.0, 81...   \n",
       "resnet_FGVC-Aircraft_E10_occGAUSSIAN    [11.0, 23.0, 76.0, 69.0, 4.0, 71.0, 82.0, 26.0...   \n",
       "resnet_FGVC-Aircraft_E20_occGAUSSIAN    [83.0, 32.0, 64.0, 94.0, 26.0, 36.0, 48.0, 23....   \n",
       "resnet_StanfordCars_E10_occSOFTMAX      [73.0, 14.0, 139.0, 43.0, 53.0, 117.0, 90.0, 1...   \n",
       "resnet_StanfordCars_E20_occSOFTMAX      [159.0, 108.0, 37.0, 53.0, 133.0, 60.0, 64.0, ...   \n",
       "resnet_FGVC-Aircraft_E10_occSOFTMAX     [9.0, 22.0, 39.0, 94.0, 51.0, 36.0, 74.0, 22.0...   \n",
       "resnet_FGVC-Aircraft_E20_occSOFTMAX     [72.0, 24.0, 32.0, 77.0, 35.0, 64.0, 84.0, 39....   \n",
       "densenet_StanfordCars_E10               [14.0, 178.0, 102.0, 28.0, 95.0, 135.0, 6.0, 4...   \n",
       "densenet_StanfordCars_E20               [142.0, 84.0, 50.0, 92.0, 145.0, 147.0, 38.0, ...   \n",
       "densenet_FGVC-Aircraft_E10              [73.0, 6.0, 30.0, 12.0, 56.0, 42.0, 62.0, 48.0...   \n",
       "densenet_FGVC-Aircraft_E20              [56.0, 33.0, 36.0, 28.0, 49.0, 22.0, 29.0, 18....   \n",
       "densenet_StanfordCars_E10_occ0          [123.0, 50.0, 29.0, 61.0, 48.0, 140.0, 55.0, 1...   \n",
       "densenet_StanfordCars_E20_occ0          [131.0, 97.0, 16.0, 72.0, 11.0, 20.0, 71.0, 4....   \n",
       "densenet_FGVC-Aircraft_E10_occ0         [24.0, 63.0, 76.0, 19.0, 66.0, 19.0, 76.0, 68....   \n",
       "densenet_FGVC-Aircraft_E20_occ0         [63.0, 65.0, 45.0, 43.0, 37.0, 60.0, 35.0, 58....   \n",
       "densenet_StanfordCars_E10_occ1          [186.0, 192.0, 144.0, 67.0, 195.0, 20.0, 3.0, ...   \n",
       "densenet_StanfordCars_E20_occ1          [99.0, 93.0, 155.0, 1.0, 40.0, 37.0, 118.0, 15...   \n",
       "densenet_FGVC-Aircraft_E10_occ1         [20.0, 6.0, 26.0, 30.0, 26.0, 59.0, 22.0, 46.0...   \n",
       "densenet_FGVC-Aircraft_E20_occ1         [1.0, 89.0, 18.0, 98.0, 41.0, 83.0, 44.0, 57.0...   \n",
       "densenet_StanfordCars_E10_occGAUSSIAN   [181.0, 45.0, 177.0, 115.0, 19.0, 194.0, 45.0,...   \n",
       "densenet_StanfordCars_E20_occGAUSSIAN   [12.0, 193.0, 27.0, 122.0, 145.0, 173.0, 73.0,...   \n",
       "densenet_FGVC-Aircraft_E10_occGAUSSIAN  [99.0, 89.0, 72.0, 51.0, 14.0, 97.0, 53.0, 35....   \n",
       "densenet_FGVC-Aircraft_E20_occGAUSSIAN  [7.0, 40.0, 16.0, 80.0, 87.0, 24.0, 62.0, 89.0...   \n",
       "densenet_StanfordCars_E10_occSOFTMAX    [122.0, 120.0, 12.0, 14.0, 4.0, 167.0, 26.0, 6...   \n",
       "densenet_StanfordCars_E20_occSOFTMAX    [187.0, 119.0, 150.0, 100.0, 181.0, 17.0, 170....   \n",
       "densenet_FGVC-Aircraft_E10_occSOFTMAX   [56.0, 71.0, 62.0, 96.0, 24.0, 33.0, 1.0, 10.0...   \n",
       "densenet_FGVC-Aircraft_E20_occSOFTMAX   [66.0, 34.0, 88.0, 99.0, 1.0, 27.0, 40.0, 76.0...   \n",
       "vgg_StanfordCars_E10                    [86.0, 117.0, 13.0, 180.0, 55.0, 78.0, 137.0, ...   \n",
       "vgg_StanfordCars_E20                    [0.0, 173.0, 188.0, 171.0, 177.0, 28.0, 98.0, ...   \n",
       "vgg_FGVC-Aircraft_E10                   [38.0, 78.0, 80.0, 53.0, 22.0, 34.0, 59.0, 93....   \n",
       "vgg_FGVC-Aircraft_E20                   [8.0, 90.0, 52.0, 48.0, 54.0, 20.0, 0.0, 97.0,...   \n",
       "vgg_StanfordCars_E10_occ0               [112.0, 56.0, 109.0, 44.0, 81.0, 80.0, 132.0, ...   \n",
       "vgg_StanfordCars_E20_occ0               [6.0, 80.0, 179.0, 133.0, 122.0, 40.0, 71.0, 9...   \n",
       "vgg_FGVC-Aircraft_E10_occ0              [95.0, 44.0, 24.0, 36.0, 34.0, 51.0, 32.0, 32....   \n",
       "vgg_FGVC-Aircraft_E20_occ0              [10.0, 73.0, 7.0, 87.0, 39.0, 56.0, 85.0, 61.0...   \n",
       "vgg_StanfordCars_E10_occ1               [125.0, 32.0, 159.0, 14.0, 86.0, 147.0, 107.0,...   \n",
       "vgg_StanfordCars_E20_occ1               [118.0, 187.0, 80.0, 40.0, 9.0, 56.0, 138.0, 1...   \n",
       "vgg_FGVC-Aircraft_E10_occ1              [58.0, 79.0, 99.0, 20.0, 4.0, 18.0, 99.0, 36.0...   \n",
       "vgg_FGVC-Aircraft_E20_occ1              [25.0, 73.0, 98.0, 68.0, 45.0, 83.0, 63.0, 42....   \n",
       "vgg_StanfordCars_E10_occGAUSSIAN        [88.0, 99.0, 149.0, 35.0, 113.0, 184.0, 85.0, ...   \n",
       "vgg_StanfordCars_E20_occGAUSSIAN        [34.0, 15.0, 30.0, 86.0, 102.0, 195.0, 106.0, ...   \n",
       "vgg_FGVC-Aircraft_E10_occGAUSSIAN       [34.0, 86.0, 11.0, 39.0, 2.0, 10.0, 63.0, 48.0...   \n",
       "vgg_FGVC-Aircraft_E20_occGAUSSIAN       [25.0, 39.0, 98.0, 29.0, 69.0, 38.0, 16.0, 73....   \n",
       "vgg_StanfordCars_E10_occSOFTMAX         [37.0, 173.0, 81.0, 100.0, 127.0, 52.0, 93.0, ...   \n",
       "vgg_StanfordCars_E20_occSOFTMAX         [52.0, 66.0, 46.0, 21.0, 31.0, 89.0, 76.0, 190...   \n",
       "vgg_FGVC-Aircraft_E10_occSOFTMAX        [97.0, 7.0, 95.0, 34.0, 40.0, 76.0, 6.0, 9.0, ...   \n",
       "vgg_FGVC-Aircraft_E20_occSOFTMAX        [98.0, 64.0, 60.0, 81.0, 58.0, 75.0, 9.0, 18.0...   \n",
       "\n",
       "                                                                             total_labels  \\\n",
       "resnet_StanfordCars_E10                 [35.0, 32.0, 190.0, 183.0, 184.0, 1.0, 99.0, 6...   \n",
       "resnet_StanfordCars_E20                 [167.0, 21.0, 124.0, 125.0, 90.0, 55.0, 162.0,...   \n",
       "resnet_FGVC-Aircraft_E10                [92.0, 48.0, 82.0, 46.0, 44.0, 63.0, 1.0, 98.0...   \n",
       "resnet_FGVC-Aircraft_E20                [9.0, 53.0, 91.0, 32.0, 74.0, 31.0, 95.0, 0.0,...   \n",
       "resnet_StanfordCars_E10_occ0            [8.0, 174.0, 108.0, 157.0, 113.0, 79.0, 119.0,...   \n",
       "resnet_StanfordCars_E20_occ0            [145.0, 147.0, 120.0, 146.0, 100.0, 166.0, 115...   \n",
       "resnet_FGVC-Aircraft_E10_occ0           [19.0, 44.0, 94.0, 5.0, 81.0, 4.0, 35.0, 33.0,...   \n",
       "resnet_FGVC-Aircraft_E20_occ0           [76.0, 63.0, 53.0, 28.0, 26.0, 75.0, 63.0, 46....   \n",
       "resnet_StanfordCars_E10_occ1            [182.0, 114.0, 43.0, 30.0, 38.0, 63.0, 159.0, ...   \n",
       "resnet_StanfordCars_E20_occ1            [63.0, 189.0, 181.0, 97.0, 112.0, 58.0, 120.0,...   \n",
       "resnet_FGVC-Aircraft_E10_occ1           [96.0, 12.0, 32.0, 13.0, 59.0, 48.0, 13.0, 76....   \n",
       "resnet_FGVC-Aircraft_E20_occ1           [25.0, 37.0, 86.0, 14.0, 92.0, 84.0, 95.0, 61....   \n",
       "resnet_StanfordCars_E10_occGAUSSIAN     [19.0, 12.0, 145.0, 170.0, 124.0, 31.0, 6.0, 1...   \n",
       "resnet_StanfordCars_E20_occGAUSSIAN     [38.0, 161.0, 74.0, 86.0, 28.0, 157.0, 63.0, 1...   \n",
       "resnet_FGVC-Aircraft_E10_occGAUSSIAN    [80.0, 23.0, 76.0, 97.0, 5.0, 71.0, 82.0, 25.0...   \n",
       "resnet_FGVC-Aircraft_E20_occGAUSSIAN    [83.0, 32.0, 64.0, 94.0, 9.0, 42.0, 48.0, 23.0...   \n",
       "resnet_StanfordCars_E10_occSOFTMAX      [73.0, 14.0, 137.0, 38.0, 53.0, 188.0, 90.0, 1...   \n",
       "resnet_StanfordCars_E20_occSOFTMAX      [159.0, 69.0, 37.0, 72.0, 163.0, 119.0, 64.0, ...   \n",
       "resnet_FGVC-Aircraft_E10_occSOFTMAX     [9.0, 4.0, 79.0, 94.0, 51.0, 47.0, 74.0, 52.0,...   \n",
       "resnet_FGVC-Aircraft_E20_occSOFTMAX     [73.0, 6.0, 32.0, 77.0, 35.0, 64.0, 10.0, 50.0...   \n",
       "densenet_StanfordCars_E10               [14.0, 179.0, 102.0, 28.0, 95.0, 135.0, 6.0, 4...   \n",
       "densenet_StanfordCars_E20               [142.0, 84.0, 50.0, 92.0, 145.0, 147.0, 38.0, ...   \n",
       "densenet_FGVC-Aircraft_E10              [73.0, 6.0, 30.0, 11.0, 56.0, 42.0, 62.0, 48.0...   \n",
       "densenet_FGVC-Aircraft_E20              [6.0, 33.0, 36.0, 27.0, 49.0, 22.0, 29.0, 18.0...   \n",
       "densenet_StanfordCars_E10_occ0          [123.0, 50.0, 2.0, 61.0, 48.0, 162.0, 161.0, 1...   \n",
       "densenet_StanfordCars_E20_occ0          [131.0, 62.0, 16.0, 118.0, 12.0, 16.0, 71.0, 1...   \n",
       "densenet_FGVC-Aircraft_E10_occ0         [7.0, 63.0, 56.0, 33.0, 65.0, 22.0, 87.0, 68.0...   \n",
       "densenet_FGVC-Aircraft_E20_occ0         [67.0, 2.0, 45.0, 10.0, 37.0, 60.0, 35.0, 58.0...   \n",
       "densenet_StanfordCars_E10_occ1          [186.0, 11.0, 144.0, 67.0, 195.0, 20.0, 3.0, 9...   \n",
       "densenet_StanfordCars_E20_occ1          [99.0, 93.0, 112.0, 1.0, 40.0, 37.0, 68.0, 157...   \n",
       "densenet_FGVC-Aircraft_E10_occ1         [20.0, 32.0, 52.0, 30.0, 17.0, 60.0, 84.0, 46....   \n",
       "densenet_FGVC-Aircraft_E20_occ1         [1.0, 89.0, 18.0, 98.0, 41.0, 83.0, 44.0, 57.0...   \n",
       "densenet_StanfordCars_E10_occGAUSSIAN   [181.0, 179.0, 177.0, 115.0, 4.0, 194.0, 152.0...   \n",
       "densenet_StanfordCars_E20_occGAUSSIAN   [12.0, 193.0, 28.0, 122.0, 146.0, 80.0, 73.0, ...   \n",
       "densenet_FGVC-Aircraft_E10_occGAUSSIAN  [46.0, 89.0, 71.0, 51.0, 26.0, 97.0, 53.0, 35....   \n",
       "densenet_FGVC-Aircraft_E20_occGAUSSIAN  [6.0, 40.0, 16.0, 81.0, 41.0, 5.0, 62.0, 94.0,...   \n",
       "densenet_StanfordCars_E10_occSOFTMAX    [122.0, 120.0, 113.0, 86.0, 4.0, 167.0, 48.0, ...   \n",
       "densenet_StanfordCars_E20_occSOFTMAX    [187.0, 119.0, 150.0, 101.0, 166.0, 20.0, 170....   \n",
       "densenet_FGVC-Aircraft_E10_occSOFTMAX   [56.0, 72.0, 62.0, 96.0, 23.0, 31.0, 87.0, 85....   \n",
       "densenet_FGVC-Aircraft_E20_occSOFTMAX   [65.0, 34.0, 1.0, 99.0, 55.0, 27.0, 40.0, 56.0...   \n",
       "vgg_StanfordCars_E10                    [77.0, 144.0, 19.0, 183.0, 55.0, 78.0, 137.0, ...   \n",
       "vgg_StanfordCars_E20                    [0.0, 173.0, 188.0, 171.0, 55.0, 28.0, 98.0, 1...   \n",
       "vgg_FGVC-Aircraft_E10                   [38.0, 93.0, 80.0, 53.0, 24.0, 34.0, 59.0, 93....   \n",
       "vgg_FGVC-Aircraft_E20                   [4.0, 90.0, 84.0, 38.0, 54.0, 55.0, 0.0, 97.0,...   \n",
       "vgg_StanfordCars_E10_occ0               [81.0, 56.0, 105.0, 44.0, 81.0, 128.0, 63.0, 1...   \n",
       "vgg_StanfordCars_E20_occ0               [6.0, 80.0, 178.0, 133.0, 160.0, 40.0, 141.0, ...   \n",
       "vgg_FGVC-Aircraft_E10_occ0              [32.0, 44.0, 24.0, 1.0, 35.0, 51.0, 32.0, 20.0...   \n",
       "vgg_FGVC-Aircraft_E20_occ0              [12.0, 73.0, 7.0, 46.0, 39.0, 41.0, 85.0, 61.0...   \n",
       "vgg_StanfordCars_E10_occ1               [125.0, 17.0, 159.0, 14.0, 86.0, 146.0, 107.0,...   \n",
       "vgg_StanfordCars_E20_occ1               [108.0, 187.0, 80.0, 125.0, 9.0, 37.0, 143.0, ...   \n",
       "vgg_FGVC-Aircraft_E10_occ1              [58.0, 79.0, 99.0, 11.0, 4.0, 29.0, 1.0, 36.0,...   \n",
       "vgg_FGVC-Aircraft_E20_occ1              [25.0, 73.0, 98.0, 68.0, 49.0, 83.0, 63.0, 42....   \n",
       "vgg_StanfordCars_E10_occGAUSSIAN        [108.0, 99.0, 159.0, 168.0, 84.0, 184.0, 85.0,...   \n",
       "vgg_StanfordCars_E20_occGAUSSIAN        [34.0, 15.0, 30.0, 86.0, 102.0, 195.0, 106.0, ...   \n",
       "vgg_FGVC-Aircraft_E10_occGAUSSIAN       [34.0, 98.0, 32.0, 39.0, 2.0, 88.0, 42.0, 53.0...   \n",
       "vgg_FGVC-Aircraft_E20_occGAUSSIAN       [25.0, 39.0, 98.0, 29.0, 68.0, 38.0, 16.0, 73....   \n",
       "vgg_StanfordCars_E10_occSOFTMAX         [37.0, 80.0, 81.0, 101.0, 127.0, 52.0, 93.0, 1...   \n",
       "vgg_StanfordCars_E20_occSOFTMAX         [52.0, 66.0, 46.0, 22.0, 31.0, 89.0, 76.0, 190...   \n",
       "vgg_FGVC-Aircraft_E10_occSOFTMAX        [27.0, 7.0, 95.0, 34.0, 81.0, 76.0, 3.0, 56.0,...   \n",
       "vgg_FGVC-Aircraft_E20_occSOFTMAX        [98.0, 57.0, 60.0, 81.0, 58.0, 75.0, 8.0, 18.0...   \n",
       "\n",
       "                                              dataset  \n",
       "resnet_StanfordCars_E10                  StanfordCars  \n",
       "resnet_StanfordCars_E20                  StanfordCars  \n",
       "resnet_FGVC-Aircraft_E10                FGVC-Aircraft  \n",
       "resnet_FGVC-Aircraft_E20                FGVC-Aircraft  \n",
       "resnet_StanfordCars_E10_occ0             StanfordCars  \n",
       "resnet_StanfordCars_E20_occ0             StanfordCars  \n",
       "resnet_FGVC-Aircraft_E10_occ0           FGVC-Aircraft  \n",
       "resnet_FGVC-Aircraft_E20_occ0           FGVC-Aircraft  \n",
       "resnet_StanfordCars_E10_occ1             StanfordCars  \n",
       "resnet_StanfordCars_E20_occ1             StanfordCars  \n",
       "resnet_FGVC-Aircraft_E10_occ1           FGVC-Aircraft  \n",
       "resnet_FGVC-Aircraft_E20_occ1           FGVC-Aircraft  \n",
       "resnet_StanfordCars_E10_occGAUSSIAN      StanfordCars  \n",
       "resnet_StanfordCars_E20_occGAUSSIAN      StanfordCars  \n",
       "resnet_FGVC-Aircraft_E10_occGAUSSIAN    FGVC-Aircraft  \n",
       "resnet_FGVC-Aircraft_E20_occGAUSSIAN    FGVC-Aircraft  \n",
       "resnet_StanfordCars_E10_occSOFTMAX       StanfordCars  \n",
       "resnet_StanfordCars_E20_occSOFTMAX       StanfordCars  \n",
       "resnet_FGVC-Aircraft_E10_occSOFTMAX     FGVC-Aircraft  \n",
       "resnet_FGVC-Aircraft_E20_occSOFTMAX     FGVC-Aircraft  \n",
       "densenet_StanfordCars_E10                StanfordCars  \n",
       "densenet_StanfordCars_E20                StanfordCars  \n",
       "densenet_FGVC-Aircraft_E10              FGVC-Aircraft  \n",
       "densenet_FGVC-Aircraft_E20              FGVC-Aircraft  \n",
       "densenet_StanfordCars_E10_occ0           StanfordCars  \n",
       "densenet_StanfordCars_E20_occ0           StanfordCars  \n",
       "densenet_FGVC-Aircraft_E10_occ0         FGVC-Aircraft  \n",
       "densenet_FGVC-Aircraft_E20_occ0         FGVC-Aircraft  \n",
       "densenet_StanfordCars_E10_occ1           StanfordCars  \n",
       "densenet_StanfordCars_E20_occ1           StanfordCars  \n",
       "densenet_FGVC-Aircraft_E10_occ1         FGVC-Aircraft  \n",
       "densenet_FGVC-Aircraft_E20_occ1         FGVC-Aircraft  \n",
       "densenet_StanfordCars_E10_occGAUSSIAN    StanfordCars  \n",
       "densenet_StanfordCars_E20_occGAUSSIAN    StanfordCars  \n",
       "densenet_FGVC-Aircraft_E10_occGAUSSIAN  FGVC-Aircraft  \n",
       "densenet_FGVC-Aircraft_E20_occGAUSSIAN  FGVC-Aircraft  \n",
       "densenet_StanfordCars_E10_occSOFTMAX     StanfordCars  \n",
       "densenet_StanfordCars_E20_occSOFTMAX     StanfordCars  \n",
       "densenet_FGVC-Aircraft_E10_occSOFTMAX   FGVC-Aircraft  \n",
       "densenet_FGVC-Aircraft_E20_occSOFTMAX   FGVC-Aircraft  \n",
       "vgg_StanfordCars_E10                     StanfordCars  \n",
       "vgg_StanfordCars_E20                     StanfordCars  \n",
       "vgg_FGVC-Aircraft_E10                   FGVC-Aircraft  \n",
       "vgg_FGVC-Aircraft_E20                   FGVC-Aircraft  \n",
       "vgg_StanfordCars_E10_occ0                StanfordCars  \n",
       "vgg_StanfordCars_E20_occ0                StanfordCars  \n",
       "vgg_FGVC-Aircraft_E10_occ0              FGVC-Aircraft  \n",
       "vgg_FGVC-Aircraft_E20_occ0              FGVC-Aircraft  \n",
       "vgg_StanfordCars_E10_occ1                StanfordCars  \n",
       "vgg_StanfordCars_E20_occ1                StanfordCars  \n",
       "vgg_FGVC-Aircraft_E10_occ1              FGVC-Aircraft  \n",
       "vgg_FGVC-Aircraft_E20_occ1              FGVC-Aircraft  \n",
       "vgg_StanfordCars_E10_occGAUSSIAN         StanfordCars  \n",
       "vgg_StanfordCars_E20_occGAUSSIAN         StanfordCars  \n",
       "vgg_FGVC-Aircraft_E10_occGAUSSIAN       FGVC-Aircraft  \n",
       "vgg_FGVC-Aircraft_E20_occGAUSSIAN       FGVC-Aircraft  \n",
       "vgg_StanfordCars_E10_occSOFTMAX          StanfordCars  \n",
       "vgg_StanfordCars_E20_occSOFTMAX          StanfordCars  \n",
       "vgg_FGVC-Aircraft_E10_occSOFTMAX        FGVC-Aircraft  \n",
       "vgg_FGVC-Aircraft_E20_occSOFTMAX        FGVC-Aircraft  "
      ]
     },
     "execution_count": 4,
     "metadata": {},
     "output_type": "execute_result"
    }
   ],
   "source": [
    "#  Save the metricsDIVISIONCREDITORS\n",
    "print(total_results.keys())\n",
    "print([total_results[key].keys() for key in total_results.keys()])\n",
    "df = pd.DataFrame.from_dict(total_results,\n",
    "                       orient='index',\n",
    "                       # columns=['accuracy', 'precision', 'recall', 'f1']\n",
    "                       )\n",
    "\n",
    "df"
   ]
  },
  {
   "cell_type": "code",
   "execution_count": 5,
   "metadata": {
    "collapsed": false,
    "jupyter": {
     "outputs_hidden": false
    },
    "pycharm": {
     "name": "#%%\n"
    }
   },
   "outputs": [],
   "source": [
    "save_path = os.path.join(path_to_data,'testing_results.csv')\n",
    "df.to_csv(save_path)"
   ]
  },
  {
   "cell_type": "code",
   "execution_count": 6,
   "metadata": {
    "collapsed": false,
    "jupyter": {
     "outputs_hidden": false
    },
    "pycharm": {
     "name": "#%%\n"
    }
   },
   "outputs": [
    {
     "data": {
      "text/html": [
       "<div>\n",
       "<style scoped>\n",
       "    .dataframe tbody tr th:only-of-type {\n",
       "        vertical-align: middle;\n",
       "    }\n",
       "\n",
       "    .dataframe tbody tr th {\n",
       "        vertical-align: top;\n",
       "    }\n",
       "\n",
       "    .dataframe thead th {\n",
       "        text-align: right;\n",
       "    }\n",
       "</style>\n",
       "<table border=\"1\" class=\"dataframe\">\n",
       "  <thead>\n",
       "    <tr style=\"text-align: right;\">\n",
       "      <th></th>\n",
       "      <th>accuracy</th>\n",
       "      <th>precision</th>\n",
       "      <th>recall</th>\n",
       "      <th>f1</th>\n",
       "      <th>total_predicted</th>\n",
       "      <th>total_labels</th>\n",
       "      <th>dataset</th>\n",
       "    </tr>\n",
       "  </thead>\n",
       "  <tbody>\n",
       "    <tr>\n",
       "      <th>resnet_StanfordCars_E10</th>\n",
       "      <td>0.797512</td>\n",
       "      <td>0.817962</td>\n",
       "      <td>0.797512</td>\n",
       "      <td>0.796223</td>\n",
       "      <td>[ 35.  32. 190. ...  64. 117.  67.]</td>\n",
       "      <td>[ 35.  32. 190. ...  64. 117.  68.]</td>\n",
       "      <td>StanfordCars</td>\n",
       "    </tr>\n",
       "    <tr>\n",
       "      <th>resnet_StanfordCars_E20</th>\n",
       "      <td>0.797512</td>\n",
       "      <td>0.817962</td>\n",
       "      <td>0.797512</td>\n",
       "      <td>0.796223</td>\n",
       "      <td>[ 97.  21. 124. ...  39. 102. 115.]</td>\n",
       "      <td>[167.  21. 124. ...  39. 102. 115.]</td>\n",
       "      <td>StanfordCars</td>\n",
       "    </tr>\n",
       "    <tr>\n",
       "      <th>resnet_FGVC-Aircraft_E10</th>\n",
       "      <td>0.629763</td>\n",
       "      <td>0.654519</td>\n",
       "      <td>0.629763</td>\n",
       "      <td>0.628464</td>\n",
       "      <td>[92. 48. 82. ... 13. 24. 41.]</td>\n",
       "      <td>[92. 48. 82. ... 12. 25. 86.]</td>\n",
       "      <td>FGVC-Aircraft</td>\n",
       "    </tr>\n",
       "    <tr>\n",
       "      <th>resnet_FGVC-Aircraft_E20</th>\n",
       "      <td>0.629763</td>\n",
       "      <td>0.654519</td>\n",
       "      <td>0.629763</td>\n",
       "      <td>0.628464</td>\n",
       "      <td>[ 9. 53. 91. ... 96. 67.  9.]</td>\n",
       "      <td>[ 9. 53. 91. ... 96. 67.  9.]</td>\n",
       "      <td>FGVC-Aircraft</td>\n",
       "    </tr>\n",
       "    <tr>\n",
       "      <th>resnet_StanfordCars_E10_occ0</th>\n",
       "      <td>0.351244</td>\n",
       "      <td>0.430806</td>\n",
       "      <td>0.351244</td>\n",
       "      <td>0.332071</td>\n",
       "      <td>[103. 174.  90. ...  63. 177. 154.]</td>\n",
       "      <td>[  8. 174. 108. ... 161. 177. 185.]</td>\n",
       "      <td>StanfordCars</td>\n",
       "    </tr>\n",
       "    <tr>\n",
       "      <th>resnet_StanfordCars_E20_occ0</th>\n",
       "      <td>0.569652</td>\n",
       "      <td>0.626163</td>\n",
       "      <td>0.569652</td>\n",
       "      <td>0.565574</td>\n",
       "      <td>[145. 147. 120. ...  38. 183.  78.]</td>\n",
       "      <td>[145. 147. 120. ...  38.   2.  78.]</td>\n",
       "      <td>StanfordCars</td>\n",
       "    </tr>\n",
       "    <tr>\n",
       "      <th>resnet_FGVC-Aircraft_E10_occ0</th>\n",
       "      <td>0.264626</td>\n",
       "      <td>0.289833</td>\n",
       "      <td>0.264626</td>\n",
       "      <td>0.229932</td>\n",
       "      <td>[52. 69. 74. ... 16. 11. 69.]</td>\n",
       "      <td>[19. 44. 94. ... 16. 16. 45.]</td>\n",
       "      <td>FGVC-Aircraft</td>\n",
       "    </tr>\n",
       "    <tr>\n",
       "      <th>resnet_FGVC-Aircraft_E20_occ0</th>\n",
       "      <td>0.450945</td>\n",
       "      <td>0.498313</td>\n",
       "      <td>0.450945</td>\n",
       "      <td>0.438790</td>\n",
       "      <td>[78. 63. 53. ... 96. 83. 19.]</td>\n",
       "      <td>[76. 63. 53. ... 96. 83. 21.]</td>\n",
       "      <td>FGVC-Aircraft</td>\n",
       "    </tr>\n",
       "    <tr>\n",
       "      <th>resnet_StanfordCars_E10_occ1</th>\n",
       "      <td>0.016915</td>\n",
       "      <td>0.006972</td>\n",
       "      <td>0.016915</td>\n",
       "      <td>0.003920</td>\n",
       "      <td>[ 56. 119.  91. ... 119.  53. 119.]</td>\n",
       "      <td>[182. 114.  43. ...  18. 142. 174.]</td>\n",
       "      <td>StanfordCars</td>\n",
       "    </tr>\n",
       "    <tr>\n",
       "      <th>resnet_StanfordCars_E20_occ1</th>\n",
       "      <td>0.051244</td>\n",
       "      <td>0.040967</td>\n",
       "      <td>0.051244</td>\n",
       "      <td>0.038023</td>\n",
       "      <td>[124.  44. 133. ... 115.  87.  82.]</td>\n",
       "      <td>[ 63. 189. 181. ... 190. 111. 119.]</td>\n",
       "      <td>StanfordCars</td>\n",
       "    </tr>\n",
       "    <tr>\n",
       "      <th>resnet_FGVC-Aircraft_E10_occ1</th>\n",
       "      <td>0.418842</td>\n",
       "      <td>0.465311</td>\n",
       "      <td>0.418842</td>\n",
       "      <td>0.394264</td>\n",
       "      <td>[96. 10. 43. ... 23. 33. 48.]</td>\n",
       "      <td>[96. 12. 32. ... 23. 33. 59.]</td>\n",
       "      <td>FGVC-Aircraft</td>\n",
       "    </tr>\n",
       "    <tr>\n",
       "      <th>resnet_FGVC-Aircraft_E20_occ1</th>\n",
       "      <td>0.517552</td>\n",
       "      <td>0.564293</td>\n",
       "      <td>0.517552</td>\n",
       "      <td>0.513290</td>\n",
       "      <td>[25. 37. 88. ... 54. 28. 18.]</td>\n",
       "      <td>[25. 37. 86. ... 42. 28. 18.]</td>\n",
       "      <td>FGVC-Aircraft</td>\n",
       "    </tr>\n",
       "    <tr>\n",
       "      <th>resnet_StanfordCars_E10_occGAUSSIAN</th>\n",
       "      <td>0.371393</td>\n",
       "      <td>0.481982</td>\n",
       "      <td>0.371393</td>\n",
       "      <td>0.361173</td>\n",
       "      <td>[ 75.  12. 144. ... 153.  81.  97.]</td>\n",
       "      <td>[ 19.  12. 145. ... 121.  84.  97.]</td>\n",
       "      <td>StanfordCars</td>\n",
       "    </tr>\n",
       "    <tr>\n",
       "      <th>resnet_StanfordCars_E20_occGAUSSIAN</th>\n",
       "      <td>0.584826</td>\n",
       "      <td>0.644007</td>\n",
       "      <td>0.584826</td>\n",
       "      <td>0.579291</td>\n",
       "      <td>[ 43.  28.  74. ... 146. 170. 110.]</td>\n",
       "      <td>[ 38. 161.  74. ... 148. 170. 110.]</td>\n",
       "      <td>StanfordCars</td>\n",
       "    </tr>\n",
       "    <tr>\n",
       "      <th>resnet_FGVC-Aircraft_E10_occGAUSSIAN</th>\n",
       "      <td>0.383438</td>\n",
       "      <td>0.418025</td>\n",
       "      <td>0.383438</td>\n",
       "      <td>0.360389</td>\n",
       "      <td>[11. 23. 76. ... 74. 67. 21.]</td>\n",
       "      <td>[80. 23. 76. ... 74. 40.  0.]</td>\n",
       "      <td>FGVC-Aircraft</td>\n",
       "    </tr>\n",
       "    <tr>\n",
       "      <th>resnet_FGVC-Aircraft_E20_occGAUSSIAN</th>\n",
       "      <td>0.511551</td>\n",
       "      <td>0.552724</td>\n",
       "      <td>0.511551</td>\n",
       "      <td>0.507977</td>\n",
       "      <td>[83. 32. 64. ...  8. 57. 98.]</td>\n",
       "      <td>[83. 32. 64. ...  8. 57. 98.]</td>\n",
       "      <td>FGVC-Aircraft</td>\n",
       "    </tr>\n",
       "    <tr>\n",
       "      <th>resnet_StanfordCars_E10_occSOFTMAX</th>\n",
       "      <td>0.533582</td>\n",
       "      <td>0.614993</td>\n",
       "      <td>0.533582</td>\n",
       "      <td>0.527438</td>\n",
       "      <td>[ 73.  14. 139. ...  86. 119.  26.]</td>\n",
       "      <td>[ 73.  14. 137. ...  93. 108.  25.]</td>\n",
       "      <td>StanfordCars</td>\n",
       "    </tr>\n",
       "    <tr>\n",
       "      <th>resnet_StanfordCars_E20_occSOFTMAX</th>\n",
       "      <td>0.616667</td>\n",
       "      <td>0.661326</td>\n",
       "      <td>0.616667</td>\n",
       "      <td>0.612363</td>\n",
       "      <td>[159. 108.  37. ...   7.  82.  48.]</td>\n",
       "      <td>[159.  69.  37. ...   8.  82. 132.]</td>\n",
       "      <td>StanfordCars</td>\n",
       "    </tr>\n",
       "    <tr>\n",
       "      <th>resnet_FGVC-Aircraft_E10_occSOFTMAX</th>\n",
       "      <td>0.432643</td>\n",
       "      <td>0.488060</td>\n",
       "      <td>0.432643</td>\n",
       "      <td>0.415070</td>\n",
       "      <td>[ 9. 22. 39. ... 40. 38. 95.]</td>\n",
       "      <td>[ 9.  4. 79. ... 40. 35. 95.]</td>\n",
       "      <td>FGVC-Aircraft</td>\n",
       "    </tr>\n",
       "    <tr>\n",
       "      <th>resnet_FGVC-Aircraft_E20_occSOFTMAX</th>\n",
       "      <td>0.526253</td>\n",
       "      <td>0.560953</td>\n",
       "      <td>0.526253</td>\n",
       "      <td>0.517071</td>\n",
       "      <td>[72. 24. 32. ... 77. 92. 80.]</td>\n",
       "      <td>[73.  6. 32. ... 61. 92. 80.]</td>\n",
       "      <td>FGVC-Aircraft</td>\n",
       "    </tr>\n",
       "    <tr>\n",
       "      <th>densenet_StanfordCars_E10</th>\n",
       "      <td>0.862687</td>\n",
       "      <td>0.876415</td>\n",
       "      <td>0.862687</td>\n",
       "      <td>0.861064</td>\n",
       "      <td>[ 14. 178. 102. ... 105.  65.   0.]</td>\n",
       "      <td>[ 14. 179. 102. ... 105.  65.   0.]</td>\n",
       "      <td>StanfordCars</td>\n",
       "    </tr>\n",
       "    <tr>\n",
       "      <th>densenet_StanfordCars_E20</th>\n",
       "      <td>0.869154</td>\n",
       "      <td>0.878460</td>\n",
       "      <td>0.869154</td>\n",
       "      <td>0.869164</td>\n",
       "      <td>[142.  84.  50. ...  12.  84. 134.]</td>\n",
       "      <td>[142.  84.  50. ...  12.  84. 134.]</td>\n",
       "      <td>StanfordCars</td>\n",
       "    </tr>\n",
       "    <tr>\n",
       "      <th>densenet_FGVC-Aircraft_E10</th>\n",
       "      <td>0.699370</td>\n",
       "      <td>0.717025</td>\n",
       "      <td>0.699370</td>\n",
       "      <td>0.693754</td>\n",
       "      <td>[73.  6. 30. ... 40. 95. 88.]</td>\n",
       "      <td>[73.  6. 30. ... 40. 95. 88.]</td>\n",
       "      <td>FGVC-Aircraft</td>\n",
       "    </tr>\n",
       "    <tr>\n",
       "      <th>densenet_FGVC-Aircraft_E20</th>\n",
       "      <td>0.714971</td>\n",
       "      <td>0.728882</td>\n",
       "      <td>0.714971</td>\n",
       "      <td>0.712943</td>\n",
       "      <td>[56. 33. 36. ... 67. 85. 81.]</td>\n",
       "      <td>[ 6. 33. 36. ... 67.  5. 81.]</td>\n",
       "      <td>FGVC-Aircraft</td>\n",
       "    </tr>\n",
       "    <tr>\n",
       "      <th>densenet_StanfordCars_E10_occ0</th>\n",
       "      <td>0.608706</td>\n",
       "      <td>0.695528</td>\n",
       "      <td>0.608706</td>\n",
       "      <td>0.611269</td>\n",
       "      <td>[123.  50.  29. ...  76. 143. 110.]</td>\n",
       "      <td>[123.  50.   2. ...  76. 104. 110.]</td>\n",
       "      <td>StanfordCars</td>\n",
       "    </tr>\n",
       "    <tr>\n",
       "      <th>densenet_StanfordCars_E20_occ0</th>\n",
       "      <td>0.754726</td>\n",
       "      <td>0.791633</td>\n",
       "      <td>0.754726</td>\n",
       "      <td>0.756169</td>\n",
       "      <td>[131.  97.  16. ... 109. 187. 154.]</td>\n",
       "      <td>[131.  62.  16. ... 109. 187. 154.]</td>\n",
       "      <td>StanfordCars</td>\n",
       "    </tr>\n",
       "    <tr>\n",
       "      <th>densenet_FGVC-Aircraft_E10_occ0</th>\n",
       "      <td>0.367837</td>\n",
       "      <td>0.393653</td>\n",
       "      <td>0.367837</td>\n",
       "      <td>0.340477</td>\n",
       "      <td>[24. 63. 76. ... 36. 69. 55.]</td>\n",
       "      <td>[ 7. 63. 56. ... 60. 97. 52.]</td>\n",
       "      <td>FGVC-Aircraft</td>\n",
       "    </tr>\n",
       "    <tr>\n",
       "      <th>densenet_FGVC-Aircraft_E20_occ0</th>\n",
       "      <td>0.486049</td>\n",
       "      <td>0.555013</td>\n",
       "      <td>0.486049</td>\n",
       "      <td>0.486293</td>\n",
       "      <td>[63. 65. 45. ... 38. 86. 48.]</td>\n",
       "      <td>[67.  2. 45. ... 37. 87. 48.]</td>\n",
       "      <td>FGVC-Aircraft</td>\n",
       "    </tr>\n",
       "    <tr>\n",
       "      <th>densenet_StanfordCars_E10_occ1</th>\n",
       "      <td>0.474129</td>\n",
       "      <td>0.589459</td>\n",
       "      <td>0.474129</td>\n",
       "      <td>0.466660</td>\n",
       "      <td>[186. 192. 144. ...  88. 169. 140.]</td>\n",
       "      <td>[186.  11. 144. ...  89.  78.  48.]</td>\n",
       "      <td>StanfordCars</td>\n",
       "    </tr>\n",
       "    <tr>\n",
       "      <th>densenet_StanfordCars_E20_occ1</th>\n",
       "      <td>0.677114</td>\n",
       "      <td>0.722723</td>\n",
       "      <td>0.677114</td>\n",
       "      <td>0.672514</td>\n",
       "      <td>[ 99.  93. 155. ... 159. 117.  64.]</td>\n",
       "      <td>[ 99.  93. 112. ... 159. 117.  75.]</td>\n",
       "      <td>StanfordCars</td>\n",
       "    </tr>\n",
       "    <tr>\n",
       "      <th>densenet_FGVC-Aircraft_E10_occ1</th>\n",
       "      <td>0.476448</td>\n",
       "      <td>0.527821</td>\n",
       "      <td>0.476448</td>\n",
       "      <td>0.462162</td>\n",
       "      <td>[20.  6. 26. ... 35. 29. 82.]</td>\n",
       "      <td>[20. 32. 52. ... 35. 29. 82.]</td>\n",
       "      <td>FGVC-Aircraft</td>\n",
       "    </tr>\n",
       "    <tr>\n",
       "      <th>densenet_FGVC-Aircraft_E20_occ1</th>\n",
       "      <td>0.594659</td>\n",
       "      <td>0.632057</td>\n",
       "      <td>0.594659</td>\n",
       "      <td>0.586014</td>\n",
       "      <td>[ 1. 89. 18. ... 25. 34. 34.]</td>\n",
       "      <td>[ 1. 89. 18. ... 25. 34. 34.]</td>\n",
       "      <td>FGVC-Aircraft</td>\n",
       "    </tr>\n",
       "    <tr>\n",
       "      <th>densenet_StanfordCars_E10_occGAUSSIAN</th>\n",
       "      <td>0.664428</td>\n",
       "      <td>0.718600</td>\n",
       "      <td>0.664428</td>\n",
       "      <td>0.663861</td>\n",
       "      <td>[181.  45. 177. ...  33.  52.  83.]</td>\n",
       "      <td>[181. 179. 177. ...  29.  52.  83.]</td>\n",
       "      <td>StanfordCars</td>\n",
       "    </tr>\n",
       "    <tr>\n",
       "      <th>densenet_StanfordCars_E20_occGAUSSIAN</th>\n",
       "      <td>0.741045</td>\n",
       "      <td>0.789327</td>\n",
       "      <td>0.741045</td>\n",
       "      <td>0.743988</td>\n",
       "      <td>[ 12. 193.  27. ... 119.  46.  74.]</td>\n",
       "      <td>[ 12. 193.  28. ... 119.  46.  74.]</td>\n",
       "      <td>StanfordCars</td>\n",
       "    </tr>\n",
       "    <tr>\n",
       "      <th>densenet_FGVC-Aircraft_E10_occGAUSSIAN</th>\n",
       "      <td>0.351035</td>\n",
       "      <td>0.423080</td>\n",
       "      <td>0.351035</td>\n",
       "      <td>0.327320</td>\n",
       "      <td>[99. 89. 72. ... 65. 90. 39.]</td>\n",
       "      <td>[46. 89. 71. ... 65. 50. 51.]</td>\n",
       "      <td>FGVC-Aircraft</td>\n",
       "    </tr>\n",
       "    <tr>\n",
       "      <th>densenet_FGVC-Aircraft_E20_occGAUSSIAN</th>\n",
       "      <td>0.539754</td>\n",
       "      <td>0.577277</td>\n",
       "      <td>0.539754</td>\n",
       "      <td>0.525510</td>\n",
       "      <td>[ 7. 40. 16. ... 14. 31. 10.]</td>\n",
       "      <td>[ 6. 40. 16. ... 26. 31. 10.]</td>\n",
       "      <td>FGVC-Aircraft</td>\n",
       "    </tr>\n",
       "    <tr>\n",
       "      <th>densenet_StanfordCars_E10_occSOFTMAX</th>\n",
       "      <td>0.632587</td>\n",
       "      <td>0.703338</td>\n",
       "      <td>0.632587</td>\n",
       "      <td>0.629883</td>\n",
       "      <td>[122. 120.  12. ...  14. 137. 137.]</td>\n",
       "      <td>[122. 120. 113. ...  14. 137. 137.]</td>\n",
       "      <td>StanfordCars</td>\n",
       "    </tr>\n",
       "    <tr>\n",
       "      <th>densenet_StanfordCars_E20_occSOFTMAX</th>\n",
       "      <td>0.721642</td>\n",
       "      <td>0.766537</td>\n",
       "      <td>0.721642</td>\n",
       "      <td>0.722829</td>\n",
       "      <td>[187. 119. 150. ... 127.  89.  26.]</td>\n",
       "      <td>[187. 119. 150. ... 127.  89.  26.]</td>\n",
       "      <td>StanfordCars</td>\n",
       "    </tr>\n",
       "    <tr>\n",
       "      <th>densenet_FGVC-Aircraft_E10_occSOFTMAX</th>\n",
       "      <td>0.374737</td>\n",
       "      <td>0.426811</td>\n",
       "      <td>0.374737</td>\n",
       "      <td>0.348498</td>\n",
       "      <td>[56. 71. 62. ... 54. 40. 27.]</td>\n",
       "      <td>[56. 72. 62. ... 36. 94. 19.]</td>\n",
       "      <td>FGVC-Aircraft</td>\n",
       "    </tr>\n",
       "    <tr>\n",
       "      <th>densenet_FGVC-Aircraft_E20_occSOFTMAX</th>\n",
       "      <td>0.517852</td>\n",
       "      <td>0.556911</td>\n",
       "      <td>0.517852</td>\n",
       "      <td>0.500786</td>\n",
       "      <td>[66. 34. 88. ... 62. 15. 71.]</td>\n",
       "      <td>[65. 34.  1. ... 62. 15. 71.]</td>\n",
       "      <td>FGVC-Aircraft</td>\n",
       "    </tr>\n",
       "    <tr>\n",
       "      <th>vgg_StanfordCars_E10</th>\n",
       "      <td>0.715920</td>\n",
       "      <td>0.762110</td>\n",
       "      <td>0.715920</td>\n",
       "      <td>0.714437</td>\n",
       "      <td>[ 86. 117.  13. ... 123.  26.  71.]</td>\n",
       "      <td>[ 77. 144.  19. ... 123.  26.  71.]</td>\n",
       "      <td>StanfordCars</td>\n",
       "    </tr>\n",
       "    <tr>\n",
       "      <th>vgg_StanfordCars_E20</th>\n",
       "      <td>0.741294</td>\n",
       "      <td>0.774111</td>\n",
       "      <td>0.741294</td>\n",
       "      <td>0.741226</td>\n",
       "      <td>[  0. 173. 188. ...  67.  78.  76.]</td>\n",
       "      <td>[  0. 173. 188. ...  67.  78.  76.]</td>\n",
       "      <td>StanfordCars</td>\n",
       "    </tr>\n",
       "    <tr>\n",
       "      <th>vgg_FGVC-Aircraft_E10</th>\n",
       "      <td>0.627063</td>\n",
       "      <td>0.663375</td>\n",
       "      <td>0.627063</td>\n",
       "      <td>0.622358</td>\n",
       "      <td>[38. 78. 80. ... 90. 66. 16.]</td>\n",
       "      <td>[38. 93. 80. ... 89. 66. 16.]</td>\n",
       "      <td>FGVC-Aircraft</td>\n",
       "    </tr>\n",
       "    <tr>\n",
       "      <th>vgg_FGVC-Aircraft_E20</th>\n",
       "      <td>0.645365</td>\n",
       "      <td>0.672274</td>\n",
       "      <td>0.645365</td>\n",
       "      <td>0.641089</td>\n",
       "      <td>[ 8. 90. 52. ... 56. 71. 93.]</td>\n",
       "      <td>[ 4. 90. 84. ... 56. 71. 93.]</td>\n",
       "      <td>FGVC-Aircraft</td>\n",
       "    </tr>\n",
       "    <tr>\n",
       "      <th>vgg_StanfordCars_E10_occ0</th>\n",
       "      <td>0.301990</td>\n",
       "      <td>0.370036</td>\n",
       "      <td>0.301990</td>\n",
       "      <td>0.281846</td>\n",
       "      <td>[112.  56. 109. ...   0. 185.  84.]</td>\n",
       "      <td>[ 81.  56. 105. ...   0. 194.  84.]</td>\n",
       "      <td>StanfordCars</td>\n",
       "    </tr>\n",
       "    <tr>\n",
       "      <th>vgg_StanfordCars_E20_occ0</th>\n",
       "      <td>0.493781</td>\n",
       "      <td>0.549703</td>\n",
       "      <td>0.493781</td>\n",
       "      <td>0.489349</td>\n",
       "      <td>[  6.  80. 179. ... 166.  19.  16.]</td>\n",
       "      <td>[  6.  80. 178. ...   2.  13.  20.]</td>\n",
       "      <td>StanfordCars</td>\n",
       "    </tr>\n",
       "    <tr>\n",
       "      <th>vgg_FGVC-Aircraft_E10_occ0</th>\n",
       "      <td>0.545755</td>\n",
       "      <td>0.593101</td>\n",
       "      <td>0.545755</td>\n",
       "      <td>0.530509</td>\n",
       "      <td>[95. 44. 24. ... 58. 49.  7.]</td>\n",
       "      <td>[32. 44. 24. ... 58. 50.  3.]</td>\n",
       "      <td>FGVC-Aircraft</td>\n",
       "    </tr>\n",
       "    <tr>\n",
       "      <th>vgg_FGVC-Aircraft_E20_occ0</th>\n",
       "      <td>0.585659</td>\n",
       "      <td>0.638190</td>\n",
       "      <td>0.585659</td>\n",
       "      <td>0.587687</td>\n",
       "      <td>[10. 73.  7. ... 53. 35. 24.]</td>\n",
       "      <td>[12. 73.  7. ... 53. 90. 69.]</td>\n",
       "      <td>FGVC-Aircraft</td>\n",
       "    </tr>\n",
       "    <tr>\n",
       "      <th>vgg_StanfordCars_E10_occ1</th>\n",
       "      <td>0.654478</td>\n",
       "      <td>0.702229</td>\n",
       "      <td>0.654478</td>\n",
       "      <td>0.653138</td>\n",
       "      <td>[125.  32. 159. ... 100.  86. 145.]</td>\n",
       "      <td>[125.  17. 159. ... 100.  86. 145.]</td>\n",
       "      <td>StanfordCars</td>\n",
       "    </tr>\n",
       "    <tr>\n",
       "      <th>vgg_StanfordCars_E20_occ1</th>\n",
       "      <td>0.656716</td>\n",
       "      <td>0.701845</td>\n",
       "      <td>0.656716</td>\n",
       "      <td>0.655726</td>\n",
       "      <td>[118. 187.  80. ...  25. 107.   5.]</td>\n",
       "      <td>[108. 187.  80. ...  37.  72.   5.]</td>\n",
       "      <td>StanfordCars</td>\n",
       "    </tr>\n",
       "    <tr>\n",
       "      <th>vgg_FGVC-Aircraft_E10_occ1</th>\n",
       "      <td>0.587459</td>\n",
       "      <td>0.638985</td>\n",
       "      <td>0.587459</td>\n",
       "      <td>0.577315</td>\n",
       "      <td>[58. 79. 99. ... 69. 32.  0.]</td>\n",
       "      <td>[58. 79. 99. ... 68.  3.  0.]</td>\n",
       "      <td>FGVC-Aircraft</td>\n",
       "    </tr>\n",
       "    <tr>\n",
       "      <th>vgg_FGVC-Aircraft_E20_occ1</th>\n",
       "      <td>0.620462</td>\n",
       "      <td>0.660228</td>\n",
       "      <td>0.620462</td>\n",
       "      <td>0.621440</td>\n",
       "      <td>[25. 73. 98. ... 10. 12.  3.]</td>\n",
       "      <td>[25. 73. 98. ... 12. 11.  3.]</td>\n",
       "      <td>FGVC-Aircraft</td>\n",
       "    </tr>\n",
       "    <tr>\n",
       "      <th>vgg_StanfordCars_E10_occGAUSSIAN</th>\n",
       "      <td>0.637065</td>\n",
       "      <td>0.689761</td>\n",
       "      <td>0.637065</td>\n",
       "      <td>0.637645</td>\n",
       "      <td>[ 88.  99. 149. ...  29.  62.  18.]</td>\n",
       "      <td>[108.  99. 159. ...  29.  62.  23.]</td>\n",
       "      <td>StanfordCars</td>\n",
       "    </tr>\n",
       "    <tr>\n",
       "      <th>vgg_StanfordCars_E20_occGAUSSIAN</th>\n",
       "      <td>0.702239</td>\n",
       "      <td>0.735393</td>\n",
       "      <td>0.702239</td>\n",
       "      <td>0.703500</td>\n",
       "      <td>[ 34.  15.  30. ... 193.  96. 136.]</td>\n",
       "      <td>[ 34.  15.  30. ... 193.  96. 136.]</td>\n",
       "      <td>StanfordCars</td>\n",
       "    </tr>\n",
       "    <tr>\n",
       "      <th>vgg_FGVC-Aircraft_E10_occGAUSSIAN</th>\n",
       "      <td>0.575758</td>\n",
       "      <td>0.629434</td>\n",
       "      <td>0.575758</td>\n",
       "      <td>0.567029</td>\n",
       "      <td>[34. 86. 11. ... 62. 48. 77.]</td>\n",
       "      <td>[34. 98. 32. ... 62. 48. 61.]</td>\n",
       "      <td>FGVC-Aircraft</td>\n",
       "    </tr>\n",
       "    <tr>\n",
       "      <th>vgg_FGVC-Aircraft_E20_occGAUSSIAN</th>\n",
       "      <td>0.612661</td>\n",
       "      <td>0.649770</td>\n",
       "      <td>0.612661</td>\n",
       "      <td>0.608542</td>\n",
       "      <td>[25. 39. 98. ... 10.  7. 20.]</td>\n",
       "      <td>[25. 39. 98. ...  9.  7. 20.]</td>\n",
       "      <td>FGVC-Aircraft</td>\n",
       "    </tr>\n",
       "    <tr>\n",
       "      <th>vgg_StanfordCars_E10_occSOFTMAX</th>\n",
       "      <td>0.659701</td>\n",
       "      <td>0.712129</td>\n",
       "      <td>0.659701</td>\n",
       "      <td>0.659041</td>\n",
       "      <td>[ 37. 173.  81. ...  28. 160.   3.]</td>\n",
       "      <td>[ 37.  80.  81. ...  28. 122.   3.]</td>\n",
       "      <td>StanfordCars</td>\n",
       "    </tr>\n",
       "    <tr>\n",
       "      <th>vgg_StanfordCars_E20_occSOFTMAX</th>\n",
       "      <td>0.683831</td>\n",
       "      <td>0.729407</td>\n",
       "      <td>0.683831</td>\n",
       "      <td>0.680329</td>\n",
       "      <td>[ 52.  66.  46. ...  21. 166.  77.]</td>\n",
       "      <td>[ 52.  66.  46. ...  23.  55. 160.]</td>\n",
       "      <td>StanfordCars</td>\n",
       "    </tr>\n",
       "    <tr>\n",
       "      <th>vgg_FGVC-Aircraft_E10_occSOFTMAX</th>\n",
       "      <td>0.566457</td>\n",
       "      <td>0.592105</td>\n",
       "      <td>0.566457</td>\n",
       "      <td>0.555110</td>\n",
       "      <td>[97.  7. 95. ... 19.  6. 30.]</td>\n",
       "      <td>[27.  7. 95. ... 12.  6. 30.]</td>\n",
       "      <td>FGVC-Aircraft</td>\n",
       "    </tr>\n",
       "    <tr>\n",
       "      <th>vgg_FGVC-Aircraft_E20_occSOFTMAX</th>\n",
       "      <td>0.611761</td>\n",
       "      <td>0.649875</td>\n",
       "      <td>0.611761</td>\n",
       "      <td>0.610242</td>\n",
       "      <td>[98. 64. 60. ... 66. 85. 45.]</td>\n",
       "      <td>[98. 57. 60. ... 65. 84. 45.]</td>\n",
       "      <td>FGVC-Aircraft</td>\n",
       "    </tr>\n",
       "  </tbody>\n",
       "</table>\n",
       "</div>"
      ],
      "text/plain": [
       "                                        accuracy  precision    recall  \\\n",
       "resnet_StanfordCars_E10                 0.797512   0.817962  0.797512   \n",
       "resnet_StanfordCars_E20                 0.797512   0.817962  0.797512   \n",
       "resnet_FGVC-Aircraft_E10                0.629763   0.654519  0.629763   \n",
       "resnet_FGVC-Aircraft_E20                0.629763   0.654519  0.629763   \n",
       "resnet_StanfordCars_E10_occ0            0.351244   0.430806  0.351244   \n",
       "resnet_StanfordCars_E20_occ0            0.569652   0.626163  0.569652   \n",
       "resnet_FGVC-Aircraft_E10_occ0           0.264626   0.289833  0.264626   \n",
       "resnet_FGVC-Aircraft_E20_occ0           0.450945   0.498313  0.450945   \n",
       "resnet_StanfordCars_E10_occ1            0.016915   0.006972  0.016915   \n",
       "resnet_StanfordCars_E20_occ1            0.051244   0.040967  0.051244   \n",
       "resnet_FGVC-Aircraft_E10_occ1           0.418842   0.465311  0.418842   \n",
       "resnet_FGVC-Aircraft_E20_occ1           0.517552   0.564293  0.517552   \n",
       "resnet_StanfordCars_E10_occGAUSSIAN     0.371393   0.481982  0.371393   \n",
       "resnet_StanfordCars_E20_occGAUSSIAN     0.584826   0.644007  0.584826   \n",
       "resnet_FGVC-Aircraft_E10_occGAUSSIAN    0.383438   0.418025  0.383438   \n",
       "resnet_FGVC-Aircraft_E20_occGAUSSIAN    0.511551   0.552724  0.511551   \n",
       "resnet_StanfordCars_E10_occSOFTMAX      0.533582   0.614993  0.533582   \n",
       "resnet_StanfordCars_E20_occSOFTMAX      0.616667   0.661326  0.616667   \n",
       "resnet_FGVC-Aircraft_E10_occSOFTMAX     0.432643   0.488060  0.432643   \n",
       "resnet_FGVC-Aircraft_E20_occSOFTMAX     0.526253   0.560953  0.526253   \n",
       "densenet_StanfordCars_E10               0.862687   0.876415  0.862687   \n",
       "densenet_StanfordCars_E20               0.869154   0.878460  0.869154   \n",
       "densenet_FGVC-Aircraft_E10              0.699370   0.717025  0.699370   \n",
       "densenet_FGVC-Aircraft_E20              0.714971   0.728882  0.714971   \n",
       "densenet_StanfordCars_E10_occ0          0.608706   0.695528  0.608706   \n",
       "densenet_StanfordCars_E20_occ0          0.754726   0.791633  0.754726   \n",
       "densenet_FGVC-Aircraft_E10_occ0         0.367837   0.393653  0.367837   \n",
       "densenet_FGVC-Aircraft_E20_occ0         0.486049   0.555013  0.486049   \n",
       "densenet_StanfordCars_E10_occ1          0.474129   0.589459  0.474129   \n",
       "densenet_StanfordCars_E20_occ1          0.677114   0.722723  0.677114   \n",
       "densenet_FGVC-Aircraft_E10_occ1         0.476448   0.527821  0.476448   \n",
       "densenet_FGVC-Aircraft_E20_occ1         0.594659   0.632057  0.594659   \n",
       "densenet_StanfordCars_E10_occGAUSSIAN   0.664428   0.718600  0.664428   \n",
       "densenet_StanfordCars_E20_occGAUSSIAN   0.741045   0.789327  0.741045   \n",
       "densenet_FGVC-Aircraft_E10_occGAUSSIAN  0.351035   0.423080  0.351035   \n",
       "densenet_FGVC-Aircraft_E20_occGAUSSIAN  0.539754   0.577277  0.539754   \n",
       "densenet_StanfordCars_E10_occSOFTMAX    0.632587   0.703338  0.632587   \n",
       "densenet_StanfordCars_E20_occSOFTMAX    0.721642   0.766537  0.721642   \n",
       "densenet_FGVC-Aircraft_E10_occSOFTMAX   0.374737   0.426811  0.374737   \n",
       "densenet_FGVC-Aircraft_E20_occSOFTMAX   0.517852   0.556911  0.517852   \n",
       "vgg_StanfordCars_E10                    0.715920   0.762110  0.715920   \n",
       "vgg_StanfordCars_E20                    0.741294   0.774111  0.741294   \n",
       "vgg_FGVC-Aircraft_E10                   0.627063   0.663375  0.627063   \n",
       "vgg_FGVC-Aircraft_E20                   0.645365   0.672274  0.645365   \n",
       "vgg_StanfordCars_E10_occ0               0.301990   0.370036  0.301990   \n",
       "vgg_StanfordCars_E20_occ0               0.493781   0.549703  0.493781   \n",
       "vgg_FGVC-Aircraft_E10_occ0              0.545755   0.593101  0.545755   \n",
       "vgg_FGVC-Aircraft_E20_occ0              0.585659   0.638190  0.585659   \n",
       "vgg_StanfordCars_E10_occ1               0.654478   0.702229  0.654478   \n",
       "vgg_StanfordCars_E20_occ1               0.656716   0.701845  0.656716   \n",
       "vgg_FGVC-Aircraft_E10_occ1              0.587459   0.638985  0.587459   \n",
       "vgg_FGVC-Aircraft_E20_occ1              0.620462   0.660228  0.620462   \n",
       "vgg_StanfordCars_E10_occGAUSSIAN        0.637065   0.689761  0.637065   \n",
       "vgg_StanfordCars_E20_occGAUSSIAN        0.702239   0.735393  0.702239   \n",
       "vgg_FGVC-Aircraft_E10_occGAUSSIAN       0.575758   0.629434  0.575758   \n",
       "vgg_FGVC-Aircraft_E20_occGAUSSIAN       0.612661   0.649770  0.612661   \n",
       "vgg_StanfordCars_E10_occSOFTMAX         0.659701   0.712129  0.659701   \n",
       "vgg_StanfordCars_E20_occSOFTMAX         0.683831   0.729407  0.683831   \n",
       "vgg_FGVC-Aircraft_E10_occSOFTMAX        0.566457   0.592105  0.566457   \n",
       "vgg_FGVC-Aircraft_E20_occSOFTMAX        0.611761   0.649875  0.611761   \n",
       "\n",
       "                                              f1  \\\n",
       "resnet_StanfordCars_E10                 0.796223   \n",
       "resnet_StanfordCars_E20                 0.796223   \n",
       "resnet_FGVC-Aircraft_E10                0.628464   \n",
       "resnet_FGVC-Aircraft_E20                0.628464   \n",
       "resnet_StanfordCars_E10_occ0            0.332071   \n",
       "resnet_StanfordCars_E20_occ0            0.565574   \n",
       "resnet_FGVC-Aircraft_E10_occ0           0.229932   \n",
       "resnet_FGVC-Aircraft_E20_occ0           0.438790   \n",
       "resnet_StanfordCars_E10_occ1            0.003920   \n",
       "resnet_StanfordCars_E20_occ1            0.038023   \n",
       "resnet_FGVC-Aircraft_E10_occ1           0.394264   \n",
       "resnet_FGVC-Aircraft_E20_occ1           0.513290   \n",
       "resnet_StanfordCars_E10_occGAUSSIAN     0.361173   \n",
       "resnet_StanfordCars_E20_occGAUSSIAN     0.579291   \n",
       "resnet_FGVC-Aircraft_E10_occGAUSSIAN    0.360389   \n",
       "resnet_FGVC-Aircraft_E20_occGAUSSIAN    0.507977   \n",
       "resnet_StanfordCars_E10_occSOFTMAX      0.527438   \n",
       "resnet_StanfordCars_E20_occSOFTMAX      0.612363   \n",
       "resnet_FGVC-Aircraft_E10_occSOFTMAX     0.415070   \n",
       "resnet_FGVC-Aircraft_E20_occSOFTMAX     0.517071   \n",
       "densenet_StanfordCars_E10               0.861064   \n",
       "densenet_StanfordCars_E20               0.869164   \n",
       "densenet_FGVC-Aircraft_E10              0.693754   \n",
       "densenet_FGVC-Aircraft_E20              0.712943   \n",
       "densenet_StanfordCars_E10_occ0          0.611269   \n",
       "densenet_StanfordCars_E20_occ0          0.756169   \n",
       "densenet_FGVC-Aircraft_E10_occ0         0.340477   \n",
       "densenet_FGVC-Aircraft_E20_occ0         0.486293   \n",
       "densenet_StanfordCars_E10_occ1          0.466660   \n",
       "densenet_StanfordCars_E20_occ1          0.672514   \n",
       "densenet_FGVC-Aircraft_E10_occ1         0.462162   \n",
       "densenet_FGVC-Aircraft_E20_occ1         0.586014   \n",
       "densenet_StanfordCars_E10_occGAUSSIAN   0.663861   \n",
       "densenet_StanfordCars_E20_occGAUSSIAN   0.743988   \n",
       "densenet_FGVC-Aircraft_E10_occGAUSSIAN  0.327320   \n",
       "densenet_FGVC-Aircraft_E20_occGAUSSIAN  0.525510   \n",
       "densenet_StanfordCars_E10_occSOFTMAX    0.629883   \n",
       "densenet_StanfordCars_E20_occSOFTMAX    0.722829   \n",
       "densenet_FGVC-Aircraft_E10_occSOFTMAX   0.348498   \n",
       "densenet_FGVC-Aircraft_E20_occSOFTMAX   0.500786   \n",
       "vgg_StanfordCars_E10                    0.714437   \n",
       "vgg_StanfordCars_E20                    0.741226   \n",
       "vgg_FGVC-Aircraft_E10                   0.622358   \n",
       "vgg_FGVC-Aircraft_E20                   0.641089   \n",
       "vgg_StanfordCars_E10_occ0               0.281846   \n",
       "vgg_StanfordCars_E20_occ0               0.489349   \n",
       "vgg_FGVC-Aircraft_E10_occ0              0.530509   \n",
       "vgg_FGVC-Aircraft_E20_occ0              0.587687   \n",
       "vgg_StanfordCars_E10_occ1               0.653138   \n",
       "vgg_StanfordCars_E20_occ1               0.655726   \n",
       "vgg_FGVC-Aircraft_E10_occ1              0.577315   \n",
       "vgg_FGVC-Aircraft_E20_occ1              0.621440   \n",
       "vgg_StanfordCars_E10_occGAUSSIAN        0.637645   \n",
       "vgg_StanfordCars_E20_occGAUSSIAN        0.703500   \n",
       "vgg_FGVC-Aircraft_E10_occGAUSSIAN       0.567029   \n",
       "vgg_FGVC-Aircraft_E20_occGAUSSIAN       0.608542   \n",
       "vgg_StanfordCars_E10_occSOFTMAX         0.659041   \n",
       "vgg_StanfordCars_E20_occSOFTMAX         0.680329   \n",
       "vgg_FGVC-Aircraft_E10_occSOFTMAX        0.555110   \n",
       "vgg_FGVC-Aircraft_E20_occSOFTMAX        0.610242   \n",
       "\n",
       "                                                            total_predicted  \\\n",
       "resnet_StanfordCars_E10                 [ 35.  32. 190. ...  64. 117.  67.]   \n",
       "resnet_StanfordCars_E20                 [ 97.  21. 124. ...  39. 102. 115.]   \n",
       "resnet_FGVC-Aircraft_E10                      [92. 48. 82. ... 13. 24. 41.]   \n",
       "resnet_FGVC-Aircraft_E20                      [ 9. 53. 91. ... 96. 67.  9.]   \n",
       "resnet_StanfordCars_E10_occ0            [103. 174.  90. ...  63. 177. 154.]   \n",
       "resnet_StanfordCars_E20_occ0            [145. 147. 120. ...  38. 183.  78.]   \n",
       "resnet_FGVC-Aircraft_E10_occ0                 [52. 69. 74. ... 16. 11. 69.]   \n",
       "resnet_FGVC-Aircraft_E20_occ0                 [78. 63. 53. ... 96. 83. 19.]   \n",
       "resnet_StanfordCars_E10_occ1            [ 56. 119.  91. ... 119.  53. 119.]   \n",
       "resnet_StanfordCars_E20_occ1            [124.  44. 133. ... 115.  87.  82.]   \n",
       "resnet_FGVC-Aircraft_E10_occ1                 [96. 10. 43. ... 23. 33. 48.]   \n",
       "resnet_FGVC-Aircraft_E20_occ1                 [25. 37. 88. ... 54. 28. 18.]   \n",
       "resnet_StanfordCars_E10_occGAUSSIAN     [ 75.  12. 144. ... 153.  81.  97.]   \n",
       "resnet_StanfordCars_E20_occGAUSSIAN     [ 43.  28.  74. ... 146. 170. 110.]   \n",
       "resnet_FGVC-Aircraft_E10_occGAUSSIAN          [11. 23. 76. ... 74. 67. 21.]   \n",
       "resnet_FGVC-Aircraft_E20_occGAUSSIAN          [83. 32. 64. ...  8. 57. 98.]   \n",
       "resnet_StanfordCars_E10_occSOFTMAX      [ 73.  14. 139. ...  86. 119.  26.]   \n",
       "resnet_StanfordCars_E20_occSOFTMAX      [159. 108.  37. ...   7.  82.  48.]   \n",
       "resnet_FGVC-Aircraft_E10_occSOFTMAX           [ 9. 22. 39. ... 40. 38. 95.]   \n",
       "resnet_FGVC-Aircraft_E20_occSOFTMAX           [72. 24. 32. ... 77. 92. 80.]   \n",
       "densenet_StanfordCars_E10               [ 14. 178. 102. ... 105.  65.   0.]   \n",
       "densenet_StanfordCars_E20               [142.  84.  50. ...  12.  84. 134.]   \n",
       "densenet_FGVC-Aircraft_E10                    [73.  6. 30. ... 40. 95. 88.]   \n",
       "densenet_FGVC-Aircraft_E20                    [56. 33. 36. ... 67. 85. 81.]   \n",
       "densenet_StanfordCars_E10_occ0          [123.  50.  29. ...  76. 143. 110.]   \n",
       "densenet_StanfordCars_E20_occ0          [131.  97.  16. ... 109. 187. 154.]   \n",
       "densenet_FGVC-Aircraft_E10_occ0               [24. 63. 76. ... 36. 69. 55.]   \n",
       "densenet_FGVC-Aircraft_E20_occ0               [63. 65. 45. ... 38. 86. 48.]   \n",
       "densenet_StanfordCars_E10_occ1          [186. 192. 144. ...  88. 169. 140.]   \n",
       "densenet_StanfordCars_E20_occ1          [ 99.  93. 155. ... 159. 117.  64.]   \n",
       "densenet_FGVC-Aircraft_E10_occ1               [20.  6. 26. ... 35. 29. 82.]   \n",
       "densenet_FGVC-Aircraft_E20_occ1               [ 1. 89. 18. ... 25. 34. 34.]   \n",
       "densenet_StanfordCars_E10_occGAUSSIAN   [181.  45. 177. ...  33.  52.  83.]   \n",
       "densenet_StanfordCars_E20_occGAUSSIAN   [ 12. 193.  27. ... 119.  46.  74.]   \n",
       "densenet_FGVC-Aircraft_E10_occGAUSSIAN        [99. 89. 72. ... 65. 90. 39.]   \n",
       "densenet_FGVC-Aircraft_E20_occGAUSSIAN        [ 7. 40. 16. ... 14. 31. 10.]   \n",
       "densenet_StanfordCars_E10_occSOFTMAX    [122. 120.  12. ...  14. 137. 137.]   \n",
       "densenet_StanfordCars_E20_occSOFTMAX    [187. 119. 150. ... 127.  89.  26.]   \n",
       "densenet_FGVC-Aircraft_E10_occSOFTMAX         [56. 71. 62. ... 54. 40. 27.]   \n",
       "densenet_FGVC-Aircraft_E20_occSOFTMAX         [66. 34. 88. ... 62. 15. 71.]   \n",
       "vgg_StanfordCars_E10                    [ 86. 117.  13. ... 123.  26.  71.]   \n",
       "vgg_StanfordCars_E20                    [  0. 173. 188. ...  67.  78.  76.]   \n",
       "vgg_FGVC-Aircraft_E10                         [38. 78. 80. ... 90. 66. 16.]   \n",
       "vgg_FGVC-Aircraft_E20                         [ 8. 90. 52. ... 56. 71. 93.]   \n",
       "vgg_StanfordCars_E10_occ0               [112.  56. 109. ...   0. 185.  84.]   \n",
       "vgg_StanfordCars_E20_occ0               [  6.  80. 179. ... 166.  19.  16.]   \n",
       "vgg_FGVC-Aircraft_E10_occ0                    [95. 44. 24. ... 58. 49.  7.]   \n",
       "vgg_FGVC-Aircraft_E20_occ0                    [10. 73.  7. ... 53. 35. 24.]   \n",
       "vgg_StanfordCars_E10_occ1               [125.  32. 159. ... 100.  86. 145.]   \n",
       "vgg_StanfordCars_E20_occ1               [118. 187.  80. ...  25. 107.   5.]   \n",
       "vgg_FGVC-Aircraft_E10_occ1                    [58. 79. 99. ... 69. 32.  0.]   \n",
       "vgg_FGVC-Aircraft_E20_occ1                    [25. 73. 98. ... 10. 12.  3.]   \n",
       "vgg_StanfordCars_E10_occGAUSSIAN        [ 88.  99. 149. ...  29.  62.  18.]   \n",
       "vgg_StanfordCars_E20_occGAUSSIAN        [ 34.  15.  30. ... 193.  96. 136.]   \n",
       "vgg_FGVC-Aircraft_E10_occGAUSSIAN             [34. 86. 11. ... 62. 48. 77.]   \n",
       "vgg_FGVC-Aircraft_E20_occGAUSSIAN             [25. 39. 98. ... 10.  7. 20.]   \n",
       "vgg_StanfordCars_E10_occSOFTMAX         [ 37. 173.  81. ...  28. 160.   3.]   \n",
       "vgg_StanfordCars_E20_occSOFTMAX         [ 52.  66.  46. ...  21. 166.  77.]   \n",
       "vgg_FGVC-Aircraft_E10_occSOFTMAX              [97.  7. 95. ... 19.  6. 30.]   \n",
       "vgg_FGVC-Aircraft_E20_occSOFTMAX              [98. 64. 60. ... 66. 85. 45.]   \n",
       "\n",
       "                                                               total_labels  \\\n",
       "resnet_StanfordCars_E10                 [ 35.  32. 190. ...  64. 117.  68.]   \n",
       "resnet_StanfordCars_E20                 [167.  21. 124. ...  39. 102. 115.]   \n",
       "resnet_FGVC-Aircraft_E10                      [92. 48. 82. ... 12. 25. 86.]   \n",
       "resnet_FGVC-Aircraft_E20                      [ 9. 53. 91. ... 96. 67.  9.]   \n",
       "resnet_StanfordCars_E10_occ0            [  8. 174. 108. ... 161. 177. 185.]   \n",
       "resnet_StanfordCars_E20_occ0            [145. 147. 120. ...  38.   2.  78.]   \n",
       "resnet_FGVC-Aircraft_E10_occ0                 [19. 44. 94. ... 16. 16. 45.]   \n",
       "resnet_FGVC-Aircraft_E20_occ0                 [76. 63. 53. ... 96. 83. 21.]   \n",
       "resnet_StanfordCars_E10_occ1            [182. 114.  43. ...  18. 142. 174.]   \n",
       "resnet_StanfordCars_E20_occ1            [ 63. 189. 181. ... 190. 111. 119.]   \n",
       "resnet_FGVC-Aircraft_E10_occ1                 [96. 12. 32. ... 23. 33. 59.]   \n",
       "resnet_FGVC-Aircraft_E20_occ1                 [25. 37. 86. ... 42. 28. 18.]   \n",
       "resnet_StanfordCars_E10_occGAUSSIAN     [ 19.  12. 145. ... 121.  84.  97.]   \n",
       "resnet_StanfordCars_E20_occGAUSSIAN     [ 38. 161.  74. ... 148. 170. 110.]   \n",
       "resnet_FGVC-Aircraft_E10_occGAUSSIAN          [80. 23. 76. ... 74. 40.  0.]   \n",
       "resnet_FGVC-Aircraft_E20_occGAUSSIAN          [83. 32. 64. ...  8. 57. 98.]   \n",
       "resnet_StanfordCars_E10_occSOFTMAX      [ 73.  14. 137. ...  93. 108.  25.]   \n",
       "resnet_StanfordCars_E20_occSOFTMAX      [159.  69.  37. ...   8.  82. 132.]   \n",
       "resnet_FGVC-Aircraft_E10_occSOFTMAX           [ 9.  4. 79. ... 40. 35. 95.]   \n",
       "resnet_FGVC-Aircraft_E20_occSOFTMAX           [73.  6. 32. ... 61. 92. 80.]   \n",
       "densenet_StanfordCars_E10               [ 14. 179. 102. ... 105.  65.   0.]   \n",
       "densenet_StanfordCars_E20               [142.  84.  50. ...  12.  84. 134.]   \n",
       "densenet_FGVC-Aircraft_E10                    [73.  6. 30. ... 40. 95. 88.]   \n",
       "densenet_FGVC-Aircraft_E20                    [ 6. 33. 36. ... 67.  5. 81.]   \n",
       "densenet_StanfordCars_E10_occ0          [123.  50.   2. ...  76. 104. 110.]   \n",
       "densenet_StanfordCars_E20_occ0          [131.  62.  16. ... 109. 187. 154.]   \n",
       "densenet_FGVC-Aircraft_E10_occ0               [ 7. 63. 56. ... 60. 97. 52.]   \n",
       "densenet_FGVC-Aircraft_E20_occ0               [67.  2. 45. ... 37. 87. 48.]   \n",
       "densenet_StanfordCars_E10_occ1          [186.  11. 144. ...  89.  78.  48.]   \n",
       "densenet_StanfordCars_E20_occ1          [ 99.  93. 112. ... 159. 117.  75.]   \n",
       "densenet_FGVC-Aircraft_E10_occ1               [20. 32. 52. ... 35. 29. 82.]   \n",
       "densenet_FGVC-Aircraft_E20_occ1               [ 1. 89. 18. ... 25. 34. 34.]   \n",
       "densenet_StanfordCars_E10_occGAUSSIAN   [181. 179. 177. ...  29.  52.  83.]   \n",
       "densenet_StanfordCars_E20_occGAUSSIAN   [ 12. 193.  28. ... 119.  46.  74.]   \n",
       "densenet_FGVC-Aircraft_E10_occGAUSSIAN        [46. 89. 71. ... 65. 50. 51.]   \n",
       "densenet_FGVC-Aircraft_E20_occGAUSSIAN        [ 6. 40. 16. ... 26. 31. 10.]   \n",
       "densenet_StanfordCars_E10_occSOFTMAX    [122. 120. 113. ...  14. 137. 137.]   \n",
       "densenet_StanfordCars_E20_occSOFTMAX    [187. 119. 150. ... 127.  89.  26.]   \n",
       "densenet_FGVC-Aircraft_E10_occSOFTMAX         [56. 72. 62. ... 36. 94. 19.]   \n",
       "densenet_FGVC-Aircraft_E20_occSOFTMAX         [65. 34.  1. ... 62. 15. 71.]   \n",
       "vgg_StanfordCars_E10                    [ 77. 144.  19. ... 123.  26.  71.]   \n",
       "vgg_StanfordCars_E20                    [  0. 173. 188. ...  67.  78.  76.]   \n",
       "vgg_FGVC-Aircraft_E10                         [38. 93. 80. ... 89. 66. 16.]   \n",
       "vgg_FGVC-Aircraft_E20                         [ 4. 90. 84. ... 56. 71. 93.]   \n",
       "vgg_StanfordCars_E10_occ0               [ 81.  56. 105. ...   0. 194.  84.]   \n",
       "vgg_StanfordCars_E20_occ0               [  6.  80. 178. ...   2.  13.  20.]   \n",
       "vgg_FGVC-Aircraft_E10_occ0                    [32. 44. 24. ... 58. 50.  3.]   \n",
       "vgg_FGVC-Aircraft_E20_occ0                    [12. 73.  7. ... 53. 90. 69.]   \n",
       "vgg_StanfordCars_E10_occ1               [125.  17. 159. ... 100.  86. 145.]   \n",
       "vgg_StanfordCars_E20_occ1               [108. 187.  80. ...  37.  72.   5.]   \n",
       "vgg_FGVC-Aircraft_E10_occ1                    [58. 79. 99. ... 68.  3.  0.]   \n",
       "vgg_FGVC-Aircraft_E20_occ1                    [25. 73. 98. ... 12. 11.  3.]   \n",
       "vgg_StanfordCars_E10_occGAUSSIAN        [108.  99. 159. ...  29.  62.  23.]   \n",
       "vgg_StanfordCars_E20_occGAUSSIAN        [ 34.  15.  30. ... 193.  96. 136.]   \n",
       "vgg_FGVC-Aircraft_E10_occGAUSSIAN             [34. 98. 32. ... 62. 48. 61.]   \n",
       "vgg_FGVC-Aircraft_E20_occGAUSSIAN             [25. 39. 98. ...  9.  7. 20.]   \n",
       "vgg_StanfordCars_E10_occSOFTMAX         [ 37.  80.  81. ...  28. 122.   3.]   \n",
       "vgg_StanfordCars_E20_occSOFTMAX         [ 52.  66.  46. ...  23.  55. 160.]   \n",
       "vgg_FGVC-Aircraft_E10_occSOFTMAX              [27.  7. 95. ... 12.  6. 30.]   \n",
       "vgg_FGVC-Aircraft_E20_occSOFTMAX              [98. 57. 60. ... 65. 84. 45.]   \n",
       "\n",
       "                                              dataset  \n",
       "resnet_StanfordCars_E10                  StanfordCars  \n",
       "resnet_StanfordCars_E20                  StanfordCars  \n",
       "resnet_FGVC-Aircraft_E10                FGVC-Aircraft  \n",
       "resnet_FGVC-Aircraft_E20                FGVC-Aircraft  \n",
       "resnet_StanfordCars_E10_occ0             StanfordCars  \n",
       "resnet_StanfordCars_E20_occ0             StanfordCars  \n",
       "resnet_FGVC-Aircraft_E10_occ0           FGVC-Aircraft  \n",
       "resnet_FGVC-Aircraft_E20_occ0           FGVC-Aircraft  \n",
       "resnet_StanfordCars_E10_occ1             StanfordCars  \n",
       "resnet_StanfordCars_E20_occ1             StanfordCars  \n",
       "resnet_FGVC-Aircraft_E10_occ1           FGVC-Aircraft  \n",
       "resnet_FGVC-Aircraft_E20_occ1           FGVC-Aircraft  \n",
       "resnet_StanfordCars_E10_occGAUSSIAN      StanfordCars  \n",
       "resnet_StanfordCars_E20_occGAUSSIAN      StanfordCars  \n",
       "resnet_FGVC-Aircraft_E10_occGAUSSIAN    FGVC-Aircraft  \n",
       "resnet_FGVC-Aircraft_E20_occGAUSSIAN    FGVC-Aircraft  \n",
       "resnet_StanfordCars_E10_occSOFTMAX       StanfordCars  \n",
       "resnet_StanfordCars_E20_occSOFTMAX       StanfordCars  \n",
       "resnet_FGVC-Aircraft_E10_occSOFTMAX     FGVC-Aircraft  \n",
       "resnet_FGVC-Aircraft_E20_occSOFTMAX     FGVC-Aircraft  \n",
       "densenet_StanfordCars_E10                StanfordCars  \n",
       "densenet_StanfordCars_E20                StanfordCars  \n",
       "densenet_FGVC-Aircraft_E10              FGVC-Aircraft  \n",
       "densenet_FGVC-Aircraft_E20              FGVC-Aircraft  \n",
       "densenet_StanfordCars_E10_occ0           StanfordCars  \n",
       "densenet_StanfordCars_E20_occ0           StanfordCars  \n",
       "densenet_FGVC-Aircraft_E10_occ0         FGVC-Aircraft  \n",
       "densenet_FGVC-Aircraft_E20_occ0         FGVC-Aircraft  \n",
       "densenet_StanfordCars_E10_occ1           StanfordCars  \n",
       "densenet_StanfordCars_E20_occ1           StanfordCars  \n",
       "densenet_FGVC-Aircraft_E10_occ1         FGVC-Aircraft  \n",
       "densenet_FGVC-Aircraft_E20_occ1         FGVC-Aircraft  \n",
       "densenet_StanfordCars_E10_occGAUSSIAN    StanfordCars  \n",
       "densenet_StanfordCars_E20_occGAUSSIAN    StanfordCars  \n",
       "densenet_FGVC-Aircraft_E10_occGAUSSIAN  FGVC-Aircraft  \n",
       "densenet_FGVC-Aircraft_E20_occGAUSSIAN  FGVC-Aircraft  \n",
       "densenet_StanfordCars_E10_occSOFTMAX     StanfordCars  \n",
       "densenet_StanfordCars_E20_occSOFTMAX     StanfordCars  \n",
       "densenet_FGVC-Aircraft_E10_occSOFTMAX   FGVC-Aircraft  \n",
       "densenet_FGVC-Aircraft_E20_occSOFTMAX   FGVC-Aircraft  \n",
       "vgg_StanfordCars_E10                     StanfordCars  \n",
       "vgg_StanfordCars_E20                     StanfordCars  \n",
       "vgg_FGVC-Aircraft_E10                   FGVC-Aircraft  \n",
       "vgg_FGVC-Aircraft_E20                   FGVC-Aircraft  \n",
       "vgg_StanfordCars_E10_occ0                StanfordCars  \n",
       "vgg_StanfordCars_E20_occ0                StanfordCars  \n",
       "vgg_FGVC-Aircraft_E10_occ0              FGVC-Aircraft  \n",
       "vgg_FGVC-Aircraft_E20_occ0              FGVC-Aircraft  \n",
       "vgg_StanfordCars_E10_occ1                StanfordCars  \n",
       "vgg_StanfordCars_E20_occ1                StanfordCars  \n",
       "vgg_FGVC-Aircraft_E10_occ1              FGVC-Aircraft  \n",
       "vgg_FGVC-Aircraft_E20_occ1              FGVC-Aircraft  \n",
       "vgg_StanfordCars_E10_occGAUSSIAN         StanfordCars  \n",
       "vgg_StanfordCars_E20_occGAUSSIAN         StanfordCars  \n",
       "vgg_FGVC-Aircraft_E10_occGAUSSIAN       FGVC-Aircraft  \n",
       "vgg_FGVC-Aircraft_E20_occGAUSSIAN       FGVC-Aircraft  \n",
       "vgg_StanfordCars_E10_occSOFTMAX          StanfordCars  \n",
       "vgg_StanfordCars_E20_occSOFTMAX          StanfordCars  \n",
       "vgg_FGVC-Aircraft_E10_occSOFTMAX        FGVC-Aircraft  \n",
       "vgg_FGVC-Aircraft_E20_occSOFTMAX        FGVC-Aircraft  "
      ]
     },
     "execution_count": 6,
     "metadata": {},
     "output_type": "execute_result"
    }
   ],
   "source": [
    "pd.read_csv(save_path, index_col=0)"
   ]
  },
  {
   "cell_type": "code",
   "execution_count": 54,
   "metadata": {
    "collapsed": false,
    "jupyter": {
     "outputs_hidden": false
    },
    "pycharm": {
     "name": "#%%\n"
    }
   },
   "outputs": [
    {
     "data": {
      "text/plain": [
       "727"
      ]
     },
     "execution_count": 54,
     "metadata": {},
     "output_type": "execute_result"
    }
   ],
   "source": []
  },
  {
   "cell_type": "code",
   "execution_count": null,
   "metadata": {
    "collapsed": false,
    "jupyter": {
     "outputs_hidden": false
    },
    "pycharm": {
     "name": "#%%\n"
    }
   },
   "outputs": [],
   "source": []
  }
 ],
 "metadata": {
  "kernelspec": {
   "display_name": "Python",
   "language": "python",
   "name": "python3"
  },
  "language_info": {
   "codemirror_mode": {
    "name": "ipython",
    "version": 3
   },
   "file_extension": ".py",
   "mimetype": "text/x-python",
   "name": "python",
   "nbconvert_exporter": "python",
   "pygments_lexer": "ipython3",
   "version": "3.8.10"
  }
 },
 "nbformat": 4,
 "nbformat_minor": 4
}
