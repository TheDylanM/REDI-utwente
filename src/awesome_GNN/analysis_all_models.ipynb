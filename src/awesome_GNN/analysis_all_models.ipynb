{
 "cells": [
  {
   "cell_type": "code",
   "execution_count": null,
   "outputs": [],
   "source": [
    "%matplotlib inline"
   ],
   "metadata": {
    "collapsed": false,
    "pycharm": {
     "name": "#%%\n"
    }
   }
  },
  {
   "cell_type": "code",
   "execution_count": null,
   "outputs": [],
   "source": [
    "import torch\n",
    "import os\n",
    "import numpy as np\n",
    "import pandas as pd\n",
    "import finetune\n",
    "import importlib\n",
    "from tqdm import tqdm\n",
    "import matplotlib.pyplot as plt"
   ],
   "metadata": {
    "collapsed": false,
    "pycharm": {
     "name": "#%%\n"
    }
   }
  },
  {
   "cell_type": "code",
   "execution_count": null,
   "outputs": [],
   "source": [
    "# detect_convergence method not finished yet...\n",
    "def detect_convergence(values):\n",
    "    steps_to_avg = 3\n",
    "\n",
    "    for idx, val in enumerate(values):\n",
    "        # print(val)\n",
    "        if len(values) - idx <= steps_to_avg:\n",
    "            print(\"Finished\")\n",
    "            break\n",
    "\n",
    "        starting_pos = idx\n",
    "\n",
    "        avg_last_three_to_six = np.mean(values[starting_pos+steps_to_avg: starting_pos+(steps_to_avg*2)])\n",
    "        avg_last_three = np.mean(values[starting_pos + steps_to_avg:])\n",
    "        increase = (avg_last_three - avg_last_three_to_six)/avg_last_three_to_six\n",
    "        print(f'starting pos: {starting_pos}|increase: {increase}')"
   ],
   "metadata": {
    "collapsed": false,
    "pycharm": {
     "name": "#%%\n"
    }
   }
  },
  {
   "cell_type": "code",
   "execution_count": null,
   "outputs": [],
   "source": [
    "path_to_data = os.path.join('..', '..', 'data')\n",
    "path_to_models = os.path.join(path_to_data, 'finetuned_models')\n",
    "\n",
    "datasets = ['FGVC-Aircraft', 'StanfordCars']\n",
    "model_names = ['resnet', 'densenet', 'vgg']"
   ],
   "metadata": {
    "collapsed": false,
    "pycharm": {
     "name": "#%%\n"
    }
   }
  },
  {
   "cell_type": "code",
   "execution_count": null,
   "outputs": [],
   "source": [
    "# Create inside data directory, a directory for the results export\n",
    "# The results are split into directories based on their dataset\n",
    "path_to_results = os.path.join(path_to_data, 'finetuned_model_results')\n",
    "finetune.safe_mkdir(path_to_results)\n",
    "\n",
    "for dataset in datasets:\n",
    "    finetune.safe_mkdir(os.path.join(path_to_results, dataset))"
   ],
   "metadata": {
    "collapsed": false,
    "pycharm": {
     "name": "#%%\n"
    }
   }
  },
  {
   "cell_type": "code",
   "execution_count": null,
   "outputs": [],
   "source": [
    "importlib.reload(finetune)"
   ],
   "metadata": {
    "collapsed": false,
    "pycharm": {
     "name": "#%%\n"
    }
   }
  },
  {
   "cell_type": "code",
   "execution_count": null,
   "outputs": [],
   "source": [
    "importlib.reload(finetune)\n",
    "\n",
    "# Importing all Resnet models in StanfordCars\n",
    "models = {}\n",
    "\n",
    "for dataset in datasets:\n",
    "    path_to_model_dir = os.path.join(path_to_models, dataset, 'resnet')\n",
    "    for file_name in os.listdir(path_to_model_dir):\n",
    "        # print(f'{dataset}: {file} | {path_to_model_dir}')\n",
    "        name = file_name.split('.')[0]\n",
    "        print(name)\n",
    "        full_path = os.path.join(path_to_model_dir, file_name)\n",
    "        model_saved_state = finetune.load_checkpoint(full_path)\n",
    "        models[name] = model_saved_state"
   ],
   "metadata": {
    "collapsed": false,
    "pycharm": {
     "name": "#%%\n"
    }
   }
  },
  {
   "cell_type": "code",
   "execution_count": null,
   "outputs": [],
   "source": [
    "for file_name, model in tqdm(models.items()):\n",
    "    train_hist, train_loss, val_hist = finetune.get_information_from_checkpoint(model)\n",
    "    dataset = file_name.split('_')[1]\n",
    "    save_path = os.path.join(path_to_results, dataset)\n",
    "    content = ''.join([str(value)+'\\n' for value in val_hist])\n",
    "    finetune.write_to_file(save_path+f'/{file_name}.txt', content)"
   ],
   "metadata": {
    "collapsed": false,
    "pycharm": {
     "name": "#%%\n"
    }
   }
  },
  {
   "cell_type": "code",
   "execution_count": null,
   "outputs": [],
   "source": [
    "# For each dataset\n",
    "# For each architecture get the best model\n",
    "results = {}\n",
    "\n",
    "# Read all data from results directory\n",
    "for dataset in datasets:\n",
    "    path_to_results_dataset = os.path.join(path_to_results, dataset)\n",
    "    files = os.listdir(path_to_results_dataset)\n",
    "    for file_name in files[::-1]:\n",
    "        if file_name == 'resnet_FGVC-Aircraft_E50_occ0.txt':\n",
    "            print(file_name)\n",
    "            name = file_name.split('.')[0]\n",
    "            p = os.path.join(path_to_results, dataset, file_name)\n",
    "            content =  finetune.read_file(p)\n",
    "            values = [float(val) for val in content.split('\\n') if val != '']\n",
    "            results[name] = values\n",
    "            plt.plot(values)\n",
    "            break\n",
    "        # results[name] =\n",
    "\n"
   ],
   "metadata": {
    "collapsed": false,
    "pycharm": {
     "name": "#%%\n"
    }
   }
  },
  {
   "cell_type": "code",
   "execution_count": null,
   "outputs": [],
   "source": [],
   "metadata": {
    "collapsed": false,
    "pycharm": {
     "name": "#%%\n"
    }
   }
  },
  {
   "cell_type": "code",
   "execution_count": null,
   "outputs": [],
   "source": [],
   "metadata": {
    "collapsed": false,
    "pycharm": {
     "name": "#%%\n"
    }
   }
  },
  {
   "cell_type": "markdown",
   "source": [],
   "metadata": {
    "collapsed": false,
    "pycharm": {
     "name": "#%% md\n"
    }
   }
  },
  {
   "cell_type": "code",
   "execution_count": null,
   "outputs": [],
   "source": [],
   "metadata": {
    "collapsed": false,
    "pycharm": {
     "name": "#%%\n"
    }
   }
  },
  {
   "cell_type": "code",
   "execution_count": null,
   "outputs": [],
   "source": [
    "path_to_data = os.path.join('..', '..', 'data')\n",
    "path_to_models = os.path.join(path_to_data, 'finetuned_models')\n",
    "\n",
    "datasets = ['FGVC-Aircraft', 'StanfordCars']\n",
    "model_names = ['resnet', 'densenet', 'vgg']"
   ],
   "metadata": {
    "collapsed": false,
    "pycharm": {
     "name": "#%%\n"
    }
   }
  },
  {
   "cell_type": "code",
   "execution_count": null,
   "outputs": [],
   "source": [
    "# Create inside data directory, a directory for the results export\n",
    "# The results are split into directories based on their dataset\n",
    "path_to_results = os.path.join(path_to_data, 'finetuned_model_results')\n",
    "finetune.safe_mkdir(path_to_results)\n",
    "\n",
    "for dataset in datasets:\n",
    "    finetune.safe_mkdir(os.path.join(path_to_results, dataset))"
   ],
   "metadata": {
    "collapsed": false,
    "pycharm": {
     "name": "#%%\n"
    }
   }
  },
  {
   "cell_type": "code",
   "execution_count": null,
   "outputs": [],
   "source": [
    "importlib.reload(finetune)"
   ],
   "metadata": {
    "collapsed": false,
    "pycharm": {
     "name": "#%%\n"
    }
   }
  },
  {
   "cell_type": "code",
   "execution_count": null,
   "outputs": [],
   "source": [
    "importlib.reload(finetune)\n",
    "\n",
    "# Importing all Resnet models in StanfordCars\n",
    "models = {}\n",
    "\n",
    "for dataset in datasets:\n",
    "    path_to_model_dir = os.path.join(path_to_models, dataset, 'resnet')\n",
    "    for file_name in os.listdir(path_to_model_dir):\n",
    "        # print(f'{dataset}: {file} | {path_to_model_dir}')\n",
    "        name = file_name.split('.')[0]\n",
    "        print(name)\n",
    "        full_path = os.path.join(path_to_model_dir, file_name)\n",
    "        model_saved_state = finetune.load_checkpoint(full_path)\n",
    "        models[name] = model_saved_state"
   ],
   "metadata": {
    "collapsed": false,
    "pycharm": {
     "name": "#%%\n"
    }
   }
  },
  {
   "cell_type": "code",
   "execution_count": null,
   "outputs": [],
   "source": [
    "for file_name, model in tqdm(models.items()):\n",
    "    train_hist, train_loss, val_hist = finetune.get_information_from_checkpoint(model)\n",
    "    dataset = file_name.split('_')[1]\n",
    "    save_path = os.path.join(path_to_results, dataset)\n",
    "    content = ''.join([str(value)+'\\n' for value in val_hist])\n",
    "    finetune.write_to_file(save_path+f'/{file_name}.txt', content)"
   ],
   "metadata": {
    "collapsed": false,
    "pycharm": {
     "name": "#%%\n"
    }
   }
  },
  {
   "cell_type": "code",
   "execution_count": null,
   "outputs": [],
   "source": [
    "# For each dataset\n",
    "# For each architecture get the best model\n",
    "results = {}\n",
    "\n",
    "# Read all data from results directory\n",
    "for dataset in datasets:\n",
    "    path_to_results_dataset = os.path.join(path_to_results, dataset)\n",
    "    files = os.listdir(path_to_results_dataset)\n",
    "    for file_name in files[::-1]:\n",
    "        if file_name == 'resnet_FGVC-Aircraft_E50_occ0.txt':\n",
    "            print(file_name)\n",
    "            name = file_name.split('.')[0]\n",
    "            p = os.path.join(path_to_results, dataset, file_name)\n",
    "            content =  finetune.read_file(p)\n",
    "            values = [float(val) for val in content.split('\\n') if val != '']\n",
    "            results[name] = values\n",
    "            plt.plot(values)\n",
    "            break\n",
    "        # results[name] =\n",
    "\n"
   ],
   "metadata": {
    "collapsed": false,
    "pycharm": {
     "name": "#%%\n"
    }
   }
  },
  {
   "cell_type": "code",
   "execution_count": null,
   "outputs": [],
   "source": [],
   "metadata": {
    "collapsed": false,
    "pycharm": {
     "name": "#%%\n"
    }
   }
  },
  {
   "cell_type": "code",
   "execution_count": null,
   "outputs": [],
   "source": [],
   "metadata": {
    "collapsed": false,
    "pycharm": {
     "name": "#%%\n"
    }
   }
  },
  {
   "cell_type": "markdown",
   "source": [],
   "metadata": {
    "collapsed": false,
    "pycharm": {
     "name": "#%% md\n"
    }
   }
  },
  {
   "cell_type": "code",
   "execution_count": null,
   "outputs": [],
   "source": [],
   "metadata": {
    "collapsed": false,
    "pycharm": {
     "name": "#%%\n"
    }
   }
  },
  {
   "cell_type": "code",
   "execution_count": null,
   "outputs": [],
   "source": [],
   "metadata": {
    "collapsed": false,
    "pycharm": {
     "name": "#%%\n"
    }
   }
  }
 ],
 "metadata": {
  "kernelspec": {
   "display_name": "Python 3",
   "language": "python",
   "name": "python3"
  },
  "language_info": {
   "codemirror_mode": {
    "name": "ipython",
    "version": 2
   },
   "file_extension": ".py",
   "mimetype": "text/x-python",
   "name": "python",
   "nbconvert_exporter": "python",
   "pygments_lexer": "ipython2",
   "version": "2.7.6"
  }
 },
 "nbformat": 4,
 "nbformat_minor": 0
}