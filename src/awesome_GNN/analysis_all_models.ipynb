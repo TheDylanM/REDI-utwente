{
 "cells": [
  {
   "cell_type": "code",
   "execution_count": 2,
   "outputs": [],
   "source": [
    "import torch\n",
    "import os\n",
    "import numpy as np\n",
    "import pandas as pd\n",
    "import finetune"
   ],
   "metadata": {
    "collapsed": false,
    "pycharm": {
     "name": "#%%\n"
    }
   }
  },
  {
   "cell_type": "code",
   "execution_count": 4,
   "outputs": [],
   "source": [
    "path_to_models = os.path.join('..', '..', 'data', 'finetuned_models')\n",
    "\n",
    "datasets = ['FGVC-Aircraft', 'StanfordCars']\n",
    "model_names = ['resnet', 'densenet', 'vgg']"
   ],
   "metadata": {
    "collapsed": false,
    "pycharm": {
     "name": "#%%\n"
    }
   }
  },
  {
   "cell_type": "code",
   "execution_count": 13,
   "outputs": [
    {
     "name": "stdout",
     "output_type": "stream",
     "text": [
      "resnet_FGVC-Aircraft_E10\n",
      "resnet_StanfordCars_E10_occ0\n",
      "dict_keys(['name', 'epochs', 'model_state_dict', 'optimizer_state_dict', 'occlusion', 'val_acc_history', 'train_acc_history', 'train_loss_history'])\n"
     ]
    }
   ],
   "source": [
    "# Importing all Resnet models in StanfordCars\n",
    "models = {}\n",
    "\n",
    "for dataset in datasets:\n",
    "    path_to_model_dir = os.path.join(path_to_models, dataset, 'resnet')\n",
    "    for file_name in os.listdir(path_to_model_dir):\n",
    "        # print(f'{dataset}: {file} | {path_to_model_dir}')\n",
    "        name = file_name.split('.')[0]\n",
    "        print(name)\n",
    "        full_path = os.path.join(path_to_model_dir, file_name)\n",
    "        model_saved_state = finetune.load_checkpoint(full_path)\n",
    "        models[name] = model_saved_state\n",
    "        break\n",
    "\n",
    "\n",
    "print(models['resnet_FGVC-Aircraft_E10'])\n",
    "\n"
   ],
   "metadata": {
    "collapsed": false,
    "pycharm": {
     "name": "#%%\n"
    }
   }
  },
  {
   "cell_type": "code",
   "execution_count": null,
   "outputs": [],
   "source": [],
   "metadata": {
    "collapsed": false,
    "pycharm": {
     "name": "#%%\n"
    }
   }
  }
 ],
 "metadata": {
  "kernelspec": {
   "display_name": "Python 3",
   "language": "python",
   "name": "python3"
  },
  "language_info": {
   "codemirror_mode": {
    "name": "ipython",
    "version": 2
   },
   "file_extension": ".py",
   "mimetype": "text/x-python",
   "name": "python",
   "nbconvert_exporter": "python",
   "pygments_lexer": "ipython2",
   "version": "2.7.6"
  }
 },
 "nbformat": 4,
 "nbformat_minor": 0
}