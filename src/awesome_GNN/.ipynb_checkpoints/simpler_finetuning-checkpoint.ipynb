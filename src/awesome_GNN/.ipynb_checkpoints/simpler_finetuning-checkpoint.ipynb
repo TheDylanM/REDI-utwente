{
 "cells": [
  {
   "cell_type": "code",
   "execution_count": 1,
   "metadata": {
    "collapsed": false,
    "jupyter": {
     "outputs_hidden": false
    },
    "pycharm": {
     "name": "#%%\n"
    }
   },
   "outputs": [],
   "source": [
    "%matplotlib inline\n",
    "# not sure if necessary"
   ]
  },
  {
   "cell_type": "code",
   "execution_count": 2,
   "metadata": {
    "collapsed": false,
    "jupyter": {
     "outputs_hidden": false
    },
    "pycharm": {
     "name": "#%%\n"
    }
   },
   "outputs": [],
   "source": [
    "import finetune\n",
    "import importlib\n",
    "import torch"
   ]
  },
  {
   "cell_type": "code",
   "execution_count": 3,
   "metadata": {
    "collapsed": false,
    "jupyter": {
     "outputs_hidden": false
    },
    "pycharm": {
     "name": "#%%\n"
    }
   },
   "outputs": [],
   "source": [
    "# run this cell when you change stuff in the finetune module, and don't want to restart the notebook's kernel.\n",
    "importlib.reload(finetune)\n",
    "finetune.structure_checkpoints()  # If this prints 'Cannot safely create ...', it means that the folder probably already exists"
   ]
  },
  {
   "cell_type": "code",
   "execution_count": null,
   "metadata": {
    "collapsed": false,
    "jupyter": {
     "outputs_hidden": false
    },
    "pycharm": {
     "is_executing": true,
     "name": "#%%\n"
    }
   },
   "outputs": [
    {
     "name": "stdout",
     "output_type": "stream",
     "text": [
      "STARTING: model=resnet | dataset=StanfordCars | occlusion=None\n"
     ]
    },
    {
     "name": "stderr",
     "output_type": "stream",
     "text": [
      "Epoch 0/19 train: 100%|██████████| 1018/1018 [01:54<00:00,  8.90it/s, loss=4.3866, accuracy=0.12512]\n",
      "Epoch 0/19 val: 100%|██████████| 503/503 [00:20<00:00, 24.12it/s, loss=3.0042, accuracy=0.34204]\n",
      "Epoch 1/19 train: 100%|██████████| 1018/1018 [01:51<00:00,  9.16it/s, loss=2.6831, accuracy=0.45481]\n",
      "Epoch 1/19 val: 100%|██████████| 503/503 [00:20<00:00, 24.31it/s, loss=1.7159, accuracy=0.60149]\n",
      "Epoch 2/19 train:   5%|▌         | 55/1018 [00:06<01:44,  9.19it/s, loss=1.866, accuracy=0.67045] "
     ]
    }
   ],
   "source": [
    "# inception model doesn't work.\n",
    "# models = ['resnet', 'alexnet', 'densenet', 'squeezenet', 'vgg']\n",
    "#\n",
    "# for name in models:\n",
    "#     print('[TRAINING]:', name)\n",
    "# finetune.CLASSIFIER_NAME = name\n",
    "importlib.reload(finetune)\n",
    "\n",
    "for classifier_name in ['vgg']:\n",
    "    for occlusion_name in finetune.OCCLUSION_OPTIONS:\n",
    "        for dataset in finetune.DATASET_OPTIONS: # ['FGVC-Aircraft' , 'StanfordCars']\n",
    "            print('STARTING: model={} | dataset={} | occlusion={}'.format(classifier_name, dataset, occlusion_name))\n",
    "            finetune.CLASSIFIER_NAME = classifier_name\n",
    "            finetune.NUM_EPOCHS = 20\n",
    "            finetune.FEATURE_EXTRACT = False # default\n",
    "            finetune.DATASET = dataset  # [StanfordCars, FGVC-Aircraft]\n",
    "            finetune.OCCLUSION_NAME = occlusion_name\n",
    "            finetune.OPTIMIZER_NAME = 'adam' # default\n",
    "            # finetune.print_hypers() # shows params\n",
    "\n",
    "            # Initialize the model for this run\n",
    "            model_ft = finetune.initialize_model(_verbose=False)\n",
    "\n",
    "            model, hist, state = finetune.finetune_model(model_ft, checkpoint_save=10)\n",
    "\n",
    "            # Save the model after the last epoch\n",
    "            finetune.save_model(state)\n",
    "            del model_ft\n",
    "            del model\n",
    "            del hist\n",
    "            del state\n"
   ]
  },
  {
   "cell_type": "code",
   "execution_count": 5,
   "metadata": {},
   "outputs": [
    {
     "name": "stdout",
     "output_type": "stream",
     "text": [
      "STARTING: model=densenet | dataset=StanfordCars | occlusion=GAUSSIAN\n"
     ]
    },
    {
     "name": "stderr",
     "output_type": "stream",
     "text": [
      "Epoch 0/19 train: 100%|██████████| 1018/1018 [05:46<00:00,  2.94it/s, loss=5.2885, accuracy=0.00528]  \n",
      "Epoch 0/19 val: 100%|██████████| 503/503 [00:44<00:00, 11.31it/s, loss=5.2748, accuracy=0.0057214]\n",
      "Epoch 1/19 train: 100%|██████████| 1018/1018 [06:01<00:00,  2.82it/s, loss=5.2285, accuracy=0.0094548]\n",
      "Epoch 1/19 val: 100%|██████████| 503/503 [00:46<00:00, 10.75it/s, loss=5.17, accuracy=0.01393]   \n",
      "Epoch 2/19 train: 100%|██████████| 1018/1018 [05:51<00:00,  2.90it/s, loss=5.0528, accuracy=0.020997]\n",
      "Epoch 2/19 val: 100%|██████████| 503/503 [00:44<00:00, 11.31it/s, loss=4.7605, accuracy=0.034826]\n",
      "Epoch 3/19 train: 100%|██████████| 1018/1018 [05:56<00:00,  2.85it/s, loss=4.2832, accuracy=0.070604]\n",
      "Epoch 3/19 val: 100%|██████████| 503/503 [00:44<00:00, 11.32it/s, loss=3.7476, accuracy=0.12114]\n",
      "Epoch 4/19 train: 100%|██████████| 1018/1018 [05:48<00:00,  2.92it/s, loss=3.3813, accuracy=0.17203]\n",
      "Epoch 4/19 val: 100%|██████████| 503/503 [00:44<00:00, 11.35it/s, loss=2.8954, accuracy=0.24751]\n",
      "Epoch 5/19 train: 100%|██████████| 1018/1018 [05:45<00:00,  2.95it/s, loss=2.5401, accuracy=0.32306]\n",
      "Epoch 5/19 val: 100%|██████████| 503/503 [00:44<00:00, 11.30it/s, loss=2.4359, accuracy=0.35274]\n",
      "Epoch 6/19 train: 100%|██████████| 1018/1018 [05:51<00:00,  2.90it/s, loss=1.8527, accuracy=0.47986]\n",
      "Epoch 6/19 val: 100%|██████████| 503/503 [00:44<00:00, 11.34it/s, loss=1.7278, accuracy=0.5092] \n",
      "Epoch 7/19 train: 100%|██████████| 1018/1018 [05:57<00:00,  2.85it/s, loss=1.4297, accuracy=0.58337]\n",
      "Epoch 7/19 val: 100%|██████████| 503/503 [00:44<00:00, 11.30it/s, loss=1.603, accuracy=0.55274] \n",
      "Epoch 8/19 train: 100%|██████████| 1018/1018 [05:52<00:00,  2.89it/s, loss=1.2285, accuracy=0.64698]\n",
      "Epoch 8/19 val: 100%|██████████| 503/503 [00:44<00:00, 11.33it/s, loss=1.3832, accuracy=0.60522]\n",
      "Epoch 9/19 train: 100%|██████████| 1018/1018 [05:49<00:00,  2.91it/s, loss=0.99913, accuracy=0.70248]\n",
      "Epoch 9/19 val: 100%|██████████| 503/503 [00:44<00:00, 11.34it/s, loss=1.2365, accuracy=0.6505] \n"
     ]
    },
    {
     "name": "stdout",
     "output_type": "stream",
     "text": [
      "[CHECKPOINT] ../../data/finetuned_models/StanfordCars/densenet/densenet_StanfordCars_E10_occGAUSSIAN.pth\n"
     ]
    },
    {
     "name": "stderr",
     "output_type": "stream",
     "text": [
      "Epoch 10/19 train: 100%|██████████| 1018/1018 [05:50<00:00,  2.90it/s, loss=0.98625, accuracy=0.71329]\n",
      "Epoch 10/19 val: 100%|██████████| 503/503 [00:44<00:00, 11.38it/s, loss=1.2239, accuracy=0.65846]\n",
      "Epoch 11/19 train: 100%|██████████| 1018/1018 [05:49<00:00,  2.91it/s, loss=0.79829, accuracy=0.76228]\n",
      "Epoch 11/19 val: 100%|██████████| 503/503 [00:44<00:00, 11.29it/s, loss=1.17, accuracy=0.67139]  \n",
      "Epoch 12/19 train: 100%|██████████| 1018/1018 [05:53<00:00,  2.88it/s, loss=0.72212, accuracy=0.78033]\n",
      "Epoch 12/19 val: 100%|██████████| 503/503 [00:44<00:00, 11.31it/s, loss=1.3157, accuracy=0.64826]\n",
      "Epoch 13/19 train: 100%|██████████| 1018/1018 [05:53<00:00,  2.88it/s, loss=0.65492, accuracy=0.79777]\n",
      "Epoch 13/19 val: 100%|██████████| 503/503 [00:44<00:00, 11.33it/s, loss=1.2055, accuracy=0.66493]\n",
      "Epoch 14/19 train: 100%|██████████| 1018/1018 [05:54<00:00,  2.87it/s, loss=0.57985, accuracy=0.81938]\n",
      "Epoch 14/19 val: 100%|██████████| 503/503 [00:44<00:00, 11.38it/s, loss=1.321, accuracy=0.66169] \n",
      "Epoch 15/19 train: 100%|██████████| 1018/1018 [05:47<00:00,  2.93it/s, loss=0.55402, accuracy=0.83264]\n",
      "Epoch 15/19 val: 100%|██████████| 503/503 [00:44<00:00, 11.34it/s, loss=1.2242, accuracy=0.67512]\n",
      "Epoch 16/19 train: 100%|██████████| 1018/1018 [05:57<00:00,  2.85it/s, loss=0.51556, accuracy=0.84234]\n",
      "Epoch 16/19 val: 100%|██████████| 503/503 [00:44<00:00, 11.27it/s, loss=1.2191, accuracy=0.68159]\n",
      "Epoch 17/19 train: 100%|██████████| 1018/1018 [05:49<00:00,  2.91it/s, loss=0.45284, accuracy=0.86137]\n",
      "Epoch 17/19 val: 100%|██████████| 503/503 [00:44<00:00, 11.31it/s, loss=1.0366, accuracy=0.72587]\n",
      "Epoch 18/19 train: 100%|██████████| 1018/1018 [05:50<00:00,  2.90it/s, loss=0.39786, accuracy=0.87537]\n",
      "Epoch 18/19 val: 100%|██████████| 503/503 [00:44<00:00, 11.36it/s, loss=1.0814, accuracy=0.71318]\n",
      "Epoch 19/19 train: 100%|██████████| 1018/1018 [05:50<00:00,  2.90it/s, loss=0.3688, accuracy=0.88679] \n",
      "Epoch 19/19 val: 100%|██████████| 503/503 [00:44<00:00, 11.37it/s, loss=1.2064, accuracy=0.73035]\n"
     ]
    },
    {
     "name": "stdout",
     "output_type": "stream",
     "text": [
      "[CHECKPOINT] ../../data/finetuned_models/StanfordCars/densenet/densenet_StanfordCars_E20_occGAUSSIAN.pth\n",
      "Training complete in 132m 17s\n",
      "Best val Acc: 0.730348\n",
      "[CHECKPOINT] ../../data/finetuned_models/StanfordCars/densenet/densenet_StanfordCars_E20_occGAUSSIAN.pth\n",
      "STARTING: model=densenet | dataset=FGVC-Aircraft | occlusion=GAUSSIAN\n"
     ]
    },
    {
     "name": "stderr",
     "output_type": "stream",
     "text": [
      "Epoch 0/19 train: 100%|██████████| 417/417 [02:21<00:00,  2.94it/s, loss=4.6222, accuracy=0.0062987]\n",
      "Epoch 0/19 val: 100%|██████████| 417/417 [00:37<00:00, 11.13it/s, loss=4.6034, accuracy=0.015002]\n",
      "Epoch 1/19 train: 100%|██████████| 417/417 [02:23<00:00,  2.90it/s, loss=4.5902, accuracy=0.014097]\n",
      "Epoch 1/19 val: 100%|██████████| 417/417 [00:37<00:00, 11.17it/s, loss=4.5136, accuracy=0.012601] \n",
      "Epoch 2/19 train: 100%|██████████| 417/417 [02:26<00:00,  2.84it/s, loss=4.2554, accuracy=0.024595]\n",
      "Epoch 2/19 val: 100%|██████████| 417/417 [00:37<00:00, 11.16it/s, loss=3.8253, accuracy=0.048305]\n",
      "Epoch 3/19 train: 100%|██████████| 417/417 [02:23<00:00,  2.91it/s, loss=3.5808, accuracy=0.086683]\n",
      "Epoch 3/19 val: 100%|██████████| 417/417 [00:37<00:00, 11.16it/s, loss=3.35, accuracy=0.10681]   \n",
      "Epoch 4/19 train: 100%|██████████| 417/417 [02:27<00:00,  2.83it/s, loss=3.144, accuracy=0.13767] \n",
      "Epoch 4/19 val: 100%|██████████| 417/417 [00:37<00:00, 11.13it/s, loss=2.9603, accuracy=0.17222]\n",
      "Epoch 5/19 train: 100%|██████████| 417/417 [02:24<00:00,  2.89it/s, loss=2.7567, accuracy=0.20786]\n",
      "Epoch 5/19 val: 100%|██████████| 417/417 [00:37<00:00, 11.13it/s, loss=2.9071, accuracy=0.18992]\n",
      "Epoch 6/19 train: 100%|██████████| 417/417 [02:24<00:00,  2.89it/s, loss=2.5944, accuracy=0.25435]\n",
      "Epoch 6/19 val: 100%|██████████| 417/417 [00:37<00:00, 11.16it/s, loss=2.592, accuracy=0.25533] \n",
      "Epoch 7/19 train: 100%|██████████| 417/417 [02:25<00:00,  2.87it/s, loss=2.2057, accuracy=0.33953]\n",
      "Epoch 7/19 val: 100%|██████████| 417/417 [00:37<00:00, 11.17it/s, loss=2.2916, accuracy=0.32013]\n",
      "Epoch 8/19 train: 100%|██████████| 417/417 [02:25<00:00,  2.87it/s, loss=1.8847, accuracy=0.41662]\n",
      "Epoch 8/19 val: 100%|██████████| 417/417 [00:37<00:00, 11.13it/s, loss=2.2123, accuracy=0.34713]\n",
      "Epoch 9/19 train: 100%|██████████| 417/417 [02:26<00:00,  2.84it/s, loss=1.681, accuracy=0.4814]  \n",
      "Epoch 9/19 val: 100%|██████████| 417/417 [00:37<00:00, 11.17it/s, loss=2.2163, accuracy=0.34983]\n"
     ]
    },
    {
     "name": "stdout",
     "output_type": "stream",
     "text": [
      "[CHECKPOINT] ../../data/finetuned_models/FGVC-Aircraft/densenet/densenet_FGVC-Aircraft_E10_occGAUSSIAN.pth\n"
     ]
    },
    {
     "name": "stderr",
     "output_type": "stream",
     "text": [
      "Epoch 10/19 train: 100%|██████████| 417/417 [02:27<00:00,  2.82it/s, loss=1.6427, accuracy=0.4889] \n",
      "Epoch 10/19 val: 100%|██████████| 417/417 [00:37<00:00, 11.17it/s, loss=1.9841, accuracy=0.43084]\n",
      "Epoch 11/19 train: 100%|██████████| 417/417 [02:23<00:00,  2.90it/s, loss=1.3145, accuracy=0.57229]\n",
      "Epoch 11/19 val: 100%|██████████| 417/417 [00:37<00:00, 11.17it/s, loss=1.9035, accuracy=0.45305]\n",
      "Epoch 12/19 train: 100%|██████████| 417/417 [02:19<00:00,  2.99it/s, loss=1.1971, accuracy=0.60858]\n",
      "Epoch 12/19 val: 100%|██████████| 417/417 [00:37<00:00, 11.13it/s, loss=1.9521, accuracy=0.43504]\n",
      "Epoch 13/19 train: 100%|██████████| 417/417 [02:22<00:00,  2.93it/s, loss=1.0993, accuracy=0.63617]\n",
      "Epoch 13/19 val: 100%|██████████| 417/417 [00:37<00:00, 11.16it/s, loss=1.9054, accuracy=0.47195]\n",
      "Epoch 14/19 train: 100%|██████████| 417/417 [02:29<00:00,  2.79it/s, loss=1.0617, accuracy=0.66377]\n",
      "Epoch 14/19 val: 100%|██████████| 417/417 [00:37<00:00, 11.16it/s, loss=1.9971, accuracy=0.46805]\n",
      "Epoch 15/19 train: 100%|██████████| 417/417 [02:22<00:00,  2.92it/s, loss=0.87483, accuracy=0.71476]\n",
      "Epoch 15/19 val: 100%|██████████| 417/417 [00:37<00:00, 11.17it/s, loss=1.9211, accuracy=0.48845]\n",
      "Epoch 16/19 train: 100%|██████████| 417/417 [02:25<00:00,  2.86it/s, loss=0.79405, accuracy=0.73905]\n",
      "Epoch 16/19 val: 100%|██████████| 417/417 [00:37<00:00, 11.18it/s, loss=2.0437, accuracy=0.50465]\n",
      "Epoch 17/19 train: 100%|██████████| 417/417 [02:25<00:00,  2.87it/s, loss=0.70221, accuracy=0.77115]\n",
      "Epoch 17/19 val: 100%|██████████| 417/417 [00:37<00:00, 11.16it/s, loss=1.8307, accuracy=0.51845]\n",
      "Epoch 18/19 train: 100%|██████████| 417/417 [02:24<00:00,  2.88it/s, loss=0.64119, accuracy=0.79004]\n",
      "Epoch 18/19 val: 100%|██████████| 417/417 [00:37<00:00, 11.12it/s, loss=1.9561, accuracy=0.50795]\n",
      "Epoch 19/19 train: 100%|██████████| 417/417 [02:20<00:00,  2.96it/s, loss=0.56282, accuracy=0.81344]\n",
      "Epoch 19/19 val: 100%|██████████| 417/417 [00:37<00:00, 11.14it/s, loss=2.0761, accuracy=0.51035]\n"
     ]
    },
    {
     "name": "stdout",
     "output_type": "stream",
     "text": [
      "[CHECKPOINT] ../../data/finetuned_models/FGVC-Aircraft/densenet/densenet_FGVC-Aircraft_E20_occGAUSSIAN.pth\n",
      "Training complete in 60m 50s\n",
      "Best val Acc: 0.518452\n",
      "[CHECKPOINT] ../../data/finetuned_models/FGVC-Aircraft/densenet/densenet_FGVC-Aircraft_E20_occGAUSSIAN.pth\n",
      "STARTING: model=densenet | dataset=StanfordCars | occlusion=SOFTMAX\n"
     ]
    },
    {
     "name": "stderr",
     "output_type": "stream",
     "text": [
      "Epoch 0/19 train: 100%|██████████| 1018/1018 [05:47<00:00,  2.93it/s, loss=5.2822, accuracy=0.0050344]\n",
      "Epoch 0/19 val: 100%|██████████| 503/503 [00:44<00:00, 11.34it/s, loss=5.2696, accuracy=0.0099502]\n",
      "Epoch 1/19 train: 100%|██████████| 1018/1018 [05:49<00:00,  2.91it/s, loss=5.1888, accuracy=0.013139]\n",
      "Epoch 1/19 val: 100%|██████████| 503/503 [00:44<00:00, 11.36it/s, loss=5.1947, accuracy=0.015672]\n",
      "Epoch 2/19 train: 100%|██████████| 1018/1018 [05:52<00:00,  2.89it/s, loss=5.0261, accuracy=0.026645]\n",
      "Epoch 2/19 val: 100%|██████████| 503/503 [00:44<00:00, 11.30it/s, loss=4.9606, accuracy=0.029104]\n",
      "Epoch 3/19 train: 100%|██████████| 1018/1018 [05:50<00:00,  2.91it/s, loss=4.738, accuracy=0.049239] \n",
      "Epoch 3/19 val: 100%|██████████| 503/503 [00:44<00:00, 11.33it/s, loss=4.8216, accuracy=0.050995]\n",
      "Epoch 4/19 train: 100%|██████████| 1018/1018 [05:52<00:00,  2.89it/s, loss=4.0078, accuracy=0.10278]\n",
      "Epoch 4/19 val: 100%|██████████| 503/503 [00:44<00:00, 11.35it/s, loss=3.5484, accuracy=0.16294]\n",
      "Epoch 5/19 train: 100%|██████████| 1018/1018 [05:43<00:00,  2.96it/s, loss=3.0199, accuracy=0.24533]\n",
      "Epoch 5/19 val: 100%|██████████| 503/503 [00:44<00:00, 11.37it/s, loss=2.7491, accuracy=0.30398]\n",
      "Epoch 6/19 train: 100%|██████████| 1018/1018 [05:49<00:00,  2.91it/s, loss=2.1196, accuracy=0.42424]\n",
      "Epoch 6/19 val: 100%|██████████| 503/503 [00:44<00:00, 11.36it/s, loss=2.0979, accuracy=0.43657]\n",
      "Epoch 7/19 train: 100%|██████████| 1018/1018 [05:49<00:00,  2.91it/s, loss=1.5252, accuracy=0.56189]\n",
      "Epoch 7/19 val: 100%|██████████| 503/503 [00:44<00:00, 11.33it/s, loss=1.8481, accuracy=0.50224]\n",
      "Epoch 8/19 train: 100%|██████████| 1018/1018 [05:47<00:00,  2.93it/s, loss=1.1499, accuracy=0.66663]\n",
      "Epoch 8/19 val: 100%|██████████| 503/503 [00:44<00:00, 11.30it/s, loss=1.6805, accuracy=0.54279]\n",
      "Epoch 9/19 train: 100%|██████████| 1018/1018 [05:43<00:00,  2.96it/s, loss=1.0332, accuracy=0.70273]\n",
      "Epoch 9/19 val: 100%|██████████| 503/503 [00:44<00:00, 11.35it/s, loss=1.356, accuracy=0.62886] \n"
     ]
    },
    {
     "name": "stdout",
     "output_type": "stream",
     "text": [
      "[CHECKPOINT] ../../data/finetuned_models/StanfordCars/densenet/densenet_StanfordCars_E10_occSOFTMAX.pth\n"
     ]
    },
    {
     "name": "stderr",
     "output_type": "stream",
     "text": [
      "Epoch 10/19 train: 100%|██████████| 1018/1018 [05:53<00:00,  2.88it/s, loss=0.80424, accuracy=0.76167]\n",
      "Epoch 10/19 val: 100%|██████████| 503/503 [00:44<00:00, 11.36it/s, loss=1.3413, accuracy=0.63134]\n",
      "Epoch 11/19 train: 100%|██████████| 1018/1018 [05:49<00:00,  2.91it/s, loss=0.67354, accuracy=0.79163]\n",
      "Epoch 11/19 val: 100%|██████████| 503/503 [00:44<00:00, 11.35it/s, loss=1.2859, accuracy=0.66343]\n",
      "Epoch 12/19 train: 100%|██████████| 1018/1018 [05:50<00:00,  2.90it/s, loss=0.69718, accuracy=0.79261]\n",
      "Epoch 12/19 val: 100%|██████████| 503/503 [00:44<00:00, 11.34it/s, loss=1.2116, accuracy=0.66617]\n",
      "Epoch 13/19 train: 100%|██████████| 1018/1018 [05:46<00:00,  2.94it/s, loss=0.54467, accuracy=0.83595]\n",
      "Epoch 13/19 val: 100%|██████████| 503/503 [00:44<00:00, 11.37it/s, loss=1.2627, accuracy=0.66269]\n",
      "Epoch 14/19 train: 100%|██████████| 1018/1018 [05:45<00:00,  2.95it/s, loss=0.53976, accuracy=0.83902]\n",
      "Epoch 14/19 val: 100%|██████████| 503/503 [00:44<00:00, 11.31it/s, loss=1.3801, accuracy=0.6505] \n",
      "Epoch 15/19 train: 100%|██████████| 1018/1018 [05:48<00:00,  2.92it/s, loss=0.46124, accuracy=0.85744]\n",
      "Epoch 15/19 val: 100%|██████████| 503/503 [00:44<00:00, 11.34it/s, loss=1.2848, accuracy=0.67736]\n",
      "Epoch 16/19 train: 100%|██████████| 1018/1018 [05:52<00:00,  2.89it/s, loss=0.40587, accuracy=0.87119]\n",
      "Epoch 16/19 val: 100%|██████████| 503/503 [00:44<00:00, 11.33it/s, loss=1.1685, accuracy=0.70199]\n",
      "Epoch 17/19 train: 100%|██████████| 1018/1018 [05:49<00:00,  2.91it/s, loss=0.3737, accuracy=0.88102] \n",
      "Epoch 17/19 val: 100%|██████████| 503/503 [00:44<00:00, 11.34it/s, loss=1.1991, accuracy=0.70149]\n",
      "Epoch 18/19 train: 100%|██████████| 1018/1018 [05:51<00:00,  2.89it/s, loss=0.33458, accuracy=0.89452]\n",
      "Epoch 18/19 val: 100%|██████████| 503/503 [00:44<00:00, 11.35it/s, loss=1.1373, accuracy=0.70945]\n",
      "Epoch 19/19 train: 100%|██████████| 1018/1018 [05:52<00:00,  2.89it/s, loss=0.29903, accuracy=0.90766]\n",
      "Epoch 19/19 val: 100%|██████████| 503/503 [00:44<00:00, 11.33it/s, loss=1.4158, accuracy=0.67164]\n"
     ]
    },
    {
     "name": "stdout",
     "output_type": "stream",
     "text": [
      "[CHECKPOINT] ../../data/finetuned_models/StanfordCars/densenet/densenet_StanfordCars_E20_occSOFTMAX.pth\n",
      "Training complete in 131m 24s\n",
      "Best val Acc: 0.709453\n",
      "[CHECKPOINT] ../../data/finetuned_models/StanfordCars/densenet/densenet_StanfordCars_E20_occSOFTMAX.pth\n",
      "STARTING: model=densenet | dataset=FGVC-Aircraft | occlusion=SOFTMAX\n"
     ]
    },
    {
     "name": "stderr",
     "output_type": "stream",
     "text": [
      "Epoch 0/19 train: 100%|██████████| 417/417 [02:25<00:00,  2.86it/s, loss=4.6222, accuracy=0.010798] \n",
      "Epoch 0/19 val: 100%|██████████| 417/417 [00:37<00:00, 11.14it/s, loss=4.6026, accuracy=0.018302]\n",
      "Epoch 1/19 train: 100%|██████████| 417/417 [02:23<00:00,  2.90it/s, loss=4.596, accuracy=0.013797] \n",
      "Epoch 1/19 val: 100%|██████████| 417/417 [00:37<00:00, 11.19it/s, loss=4.5678, accuracy=0.021002]\n",
      "Epoch 2/19 train: 100%|██████████| 417/417 [02:22<00:00,  2.92it/s, loss=4.3464, accuracy=0.032394]\n",
      "Epoch 2/19 val: 100%|██████████| 417/417 [00:37<00:00, 11.22it/s, loss=3.882, accuracy=0.062706] \n",
      "Epoch 3/19 train: 100%|██████████| 417/417 [02:24<00:00,  2.89it/s, loss=3.6248, accuracy=0.078884]\n",
      "Epoch 3/19 val: 100%|██████████| 417/417 [00:37<00:00, 11.17it/s, loss=3.5338, accuracy=0.084008]\n",
      "Epoch 4/19 train: 100%|██████████| 417/417 [02:21<00:00,  2.95it/s, loss=3.2423, accuracy=0.13467]\n",
      "Epoch 4/19 val: 100%|██████████| 417/417 [00:37<00:00, 11.16it/s, loss=3.0047, accuracy=0.17222]\n",
      "Epoch 5/19 train: 100%|██████████| 417/417 [02:21<00:00,  2.94it/s, loss=2.8427, accuracy=0.19046]\n",
      "Epoch 5/19 val: 100%|██████████| 417/417 [00:37<00:00, 11.14it/s, loss=2.8945, accuracy=0.18032]\n",
      "Epoch 6/19 train: 100%|██████████| 417/417 [02:23<00:00,  2.90it/s, loss=2.5169, accuracy=0.25765]\n",
      "Epoch 6/19 val: 100%|██████████| 417/417 [00:37<00:00, 11.15it/s, loss=2.5512, accuracy=0.24602]\n",
      "Epoch 7/19 train: 100%|██████████| 417/417 [02:21<00:00,  2.96it/s, loss=2.2078, accuracy=0.33503]\n",
      "Epoch 7/19 val: 100%|██████████| 417/417 [00:37<00:00, 11.04it/s, loss=2.3632, accuracy=0.32133]\n",
      "Epoch 8/19 train: 100%|██████████| 417/417 [02:20<00:00,  2.97it/s, loss=2.153, accuracy=0.36233] \n",
      "Epoch 8/19 val: 100%|██████████| 417/417 [00:37<00:00, 11.15it/s, loss=2.3376, accuracy=0.31323]\n",
      "Epoch 9/19 train: 100%|██████████| 417/417 [02:29<00:00,  2.78it/s, loss=1.7744, accuracy=0.43821]\n",
      "Epoch 9/19 val: 100%|██████████| 417/417 [00:37<00:00, 11.20it/s, loss=2.2234, accuracy=0.36334]\n"
     ]
    },
    {
     "name": "stdout",
     "output_type": "stream",
     "text": [
      "[CHECKPOINT] ../../data/finetuned_models/FGVC-Aircraft/densenet/densenet_FGVC-Aircraft_E10_occSOFTMAX.pth\n"
     ]
    },
    {
     "name": "stderr",
     "output_type": "stream",
     "text": [
      "Epoch 10/19 train: 100%|██████████| 417/417 [02:23<00:00,  2.91it/s, loss=1.5414, accuracy=0.5066] \n",
      "Epoch 10/19 val: 100%|██████████| 417/417 [00:37<00:00, 11.20it/s, loss=2.0719, accuracy=0.41254]\n",
      "Epoch 11/19 train: 100%|██████████| 417/417 [02:24<00:00,  2.88it/s, loss=1.428, accuracy=0.55459] \n",
      "Epoch 11/19 val: 100%|██████████| 417/417 [00:37<00:00, 11.18it/s, loss=1.9461, accuracy=0.44464]\n",
      "Epoch 12/19 train: 100%|██████████| 417/417 [02:21<00:00,  2.94it/s, loss=1.3418, accuracy=0.58038]\n",
      "Epoch 12/19 val: 100%|██████████| 417/417 [00:37<00:00, 11.16it/s, loss=1.8735, accuracy=0.47525]\n",
      "Epoch 13/19 train: 100%|██████████| 417/417 [02:23<00:00,  2.90it/s, loss=1.1015, accuracy=0.63917]\n",
      "Epoch 13/19 val: 100%|██████████| 417/417 [00:37<00:00, 11.16it/s, loss=2.0241, accuracy=0.43864]\n",
      "Epoch 14/19 train: 100%|██████████| 417/417 [02:20<00:00,  2.97it/s, loss=0.98043, accuracy=0.67786]\n",
      "Epoch 14/19 val: 100%|██████████| 417/417 [00:37<00:00, 11.21it/s, loss=2.0342, accuracy=0.47765]\n",
      "Epoch 15/19 train: 100%|██████████| 417/417 [02:24<00:00,  2.89it/s, loss=0.95974, accuracy=0.69166]\n",
      "Epoch 15/19 val: 100%|██████████| 417/417 [00:37<00:00, 11.18it/s, loss=1.9445, accuracy=0.47975]\n",
      "Epoch 16/19 train: 100%|██████████| 417/417 [02:21<00:00,  2.94it/s, loss=0.78696, accuracy=0.73965]\n",
      "Epoch 16/19 val: 100%|██████████| 417/417 [00:37<00:00, 11.18it/s, loss=1.9651, accuracy=0.47945]\n",
      "Epoch 17/19 train: 100%|██████████| 417/417 [02:23<00:00,  2.90it/s, loss=0.71367, accuracy=0.75915]\n",
      "Epoch 17/19 val: 100%|██████████| 417/417 [00:37<00:00, 11.05it/s, loss=2.0325, accuracy=0.49145]\n",
      "Epoch 18/19 train: 100%|██████████| 417/417 [02:23<00:00,  2.90it/s, loss=0.62007, accuracy=0.78914]\n",
      "Epoch 18/19 val: 100%|██████████| 417/417 [00:37<00:00, 11.15it/s, loss=1.9843, accuracy=0.51215]\n",
      "Epoch 19/19 train: 100%|██████████| 417/417 [02:23<00:00,  2.91it/s, loss=0.54798, accuracy=0.81464]\n",
      "Epoch 19/19 val: 100%|██████████| 417/417 [00:37<00:00, 11.18it/s, loss=2.2194, accuracy=0.49895]\n"
     ]
    },
    {
     "name": "stdout",
     "output_type": "stream",
     "text": [
      "[CHECKPOINT] ../../data/finetuned_models/FGVC-Aircraft/densenet/densenet_FGVC-Aircraft_E20_occSOFTMAX.pth\n",
      "Training complete in 60m 24s\n",
      "Best val Acc: 0.512151\n",
      "[CHECKPOINT] ../../data/finetuned_models/FGVC-Aircraft/densenet/densenet_FGVC-Aircraft_E20_occSOFTMAX.pth\n"
     ]
    }
   ],
   "source": [
    "# inception model doesn't work.\n",
    "# models = ['resnet', 'alexnet', 'densenet', 'squeezenet', 'vgg']\n",
    "#\n",
    "# for name in models:\n",
    "#     print('[TRAINING]:', name)\n",
    "# finetune.CLASSIFIER_NAME = name\n",
    "importlib.reload(finetune)\n",
    "\n",
    "for classifier_name in ['densenet']:\n",
    "    for occlusion_name in finetune.OCCLUSION_OPTIONS[3:]:\n",
    "        for dataset in finetune.DATASET_OPTIONS: # ['FGVC-Aircraft' , 'StanfordCars']\n",
    "            print('STARTING: model={} | dataset={} | occlusion={}'.format(classifier_name, dataset, occlusion_name))\n",
    "            finetune.CLASSIFIER_NAME = classifier_name\n",
    "            finetune.NUM_EPOCHS = 20\n",
    "            finetune.FEATURE_EXTRACT = False # default\n",
    "            finetune.DATASET = dataset  # [StanfordCars, FGVC-Aircraft]\n",
    "            finetune.OCCLUSION_NAME = occlusion_name\n",
    "            finetune.OPTIMIZER_NAME = 'adam' # default\n",
    "            # finetune.print_hypers() # shows params\n",
    "\n",
    "            # Initialize the model for this run\n",
    "            model_ft = finetune.initialize_model(_verbose=False)\n",
    "\n",
    "            model, hist, state = finetune.finetune_model(model_ft, checkpoint_save=10)\n",
    "\n",
    "            # Save the model after the last epoch\n",
    "            finetune.save_model(state)\n",
    "            del model_ft\n",
    "            del model\n",
    "            del hist\n",
    "            del state\n"
   ]
  },
  {
   "cell_type": "code",
   "execution_count": null,
   "metadata": {},
   "outputs": [
    {
     "name": "stdout",
     "output_type": "stream",
     "text": [
      "STARTING: model=vgg | dataset=StanfordCars | occlusion=None\n"
     ]
    },
    {
     "name": "stderr",
     "output_type": "stream",
     "text": [
      "Epoch 0/19 train: 100%|██████████| 1018/1018 [06:09<00:00,  2.75it/s, loss=4.333, accuracy=0.081164] \n",
      "Epoch 0/19 val: 100%|██████████| 503/503 [00:53<00:00,  9.45it/s, loss=2.8837, accuracy=0.26244]\n",
      "Epoch 1/19 train: 100%|██████████| 1018/1018 [06:10<00:00,  2.75it/s, loss=2.5087, accuracy=0.33509]\n",
      "Epoch 1/19 val: 100%|██████████| 503/503 [00:53<00:00,  9.45it/s, loss=1.8546, accuracy=0.47512]\n",
      "Epoch 2/19 train: 100%|██████████| 1018/1018 [06:09<00:00,  2.76it/s, loss=1.5535, accuracy=0.55034]\n",
      "Epoch 2/19 val: 100%|██████████| 503/503 [00:52<00:00,  9.50it/s, loss=1.3097, accuracy=0.63706]\n",
      "Epoch 3/19 train: 100%|██████████| 1018/1018 [06:09<00:00,  2.75it/s, loss=1.0595, accuracy=0.68517]\n",
      "Epoch 3/19 val: 100%|██████████| 503/503 [00:53<00:00,  9.49it/s, loss=1.2097, accuracy=0.66294]\n",
      "Epoch 4/19 train: 100%|██████████| 1018/1018 [06:09<00:00,  2.75it/s, loss=0.75807, accuracy=0.77222]\n",
      "Epoch 4/19 val: 100%|██████████| 503/503 [00:52<00:00,  9.51it/s, loss=1.1691, accuracy=0.68209]\n",
      "Epoch 5/19 train: 100%|██████████| 1018/1018 [06:10<00:00,  2.75it/s, loss=0.57739, accuracy=0.82281]\n",
      "Epoch 5/19 val: 100%|██████████| 503/503 [00:53<00:00,  9.47it/s, loss=1.2158, accuracy=0.69055]\n",
      "Epoch 6/19 train: 100%|██████████| 1018/1018 [06:09<00:00,  2.75it/s, loss=0.4658, accuracy=0.86333] \n",
      "Epoch 6/19 val: 100%|██████████| 503/503 [00:52<00:00,  9.49it/s, loss=1.0884, accuracy=0.71617]\n",
      "Epoch 7/19 train: 100%|██████████| 1018/1018 [06:09<00:00,  2.75it/s, loss=0.38969, accuracy=0.88126]\n",
      "Epoch 7/19 val: 100%|██████████| 503/503 [00:53<00:00,  9.47it/s, loss=1.1411, accuracy=0.72065]\n",
      "Epoch 8/19 train: 100%|██████████| 1018/1018 [06:09<00:00,  2.75it/s, loss=0.34166, accuracy=0.89477]\n",
      "Epoch 8/19 val: 100%|██████████| 503/503 [00:52<00:00,  9.51it/s, loss=1.1398, accuracy=0.70672]\n",
      "Epoch 9/19 train: 100%|██████████| 1018/1018 [06:09<00:00,  2.75it/s, loss=0.27838, accuracy=0.9138] \n",
      "Epoch 9/19 val: 100%|██████████| 503/503 [00:53<00:00,  9.48it/s, loss=1.3126, accuracy=0.70199]\n"
     ]
    },
    {
     "name": "stdout",
     "output_type": "stream",
     "text": [
      "[CHECKPOINT] ../../data/finetuned_models/StanfordCars/vgg/vgg_StanfordCars_E10.pth\n"
     ]
    },
    {
     "name": "stderr",
     "output_type": "stream",
     "text": [
      "Epoch 10/19 train: 100%|██████████| 1018/1018 [06:09<00:00,  2.75it/s, loss=0.27149, accuracy=0.91528]\n",
      "Epoch 10/19 val: 100%|██████████| 503/503 [00:53<00:00,  9.49it/s, loss=1.203, accuracy=0.71119] \n",
      "Epoch 11/19 train: 100%|██████████| 1018/1018 [06:09<00:00,  2.75it/s, loss=0.24487, accuracy=0.92829]\n",
      "Epoch 11/19 val: 100%|██████████| 503/503 [00:52<00:00,  9.50it/s, loss=1.165, accuracy=0.72761] \n",
      "Epoch 12/19 train: 100%|██████████| 1018/1018 [06:09<00:00,  2.76it/s, loss=0.22952, accuracy=0.93111]\n",
      "Epoch 12/19 val: 100%|██████████| 503/503 [00:53<00:00,  9.36it/s, loss=1.1598, accuracy=0.73657]\n",
      "Epoch 13/19 train: 100%|██████████| 1018/1018 [06:09<00:00,  2.75it/s, loss=0.19994, accuracy=0.94082]\n",
      "Epoch 13/19 val: 100%|██████████| 503/503 [00:53<00:00,  9.46it/s, loss=1.1657, accuracy=0.73134]\n",
      "Epoch 14/19 train: 100%|██████████| 1018/1018 [06:10<00:00,  2.75it/s, loss=0.19781, accuracy=0.94008]\n",
      "Epoch 14/19 val: 100%|██████████| 503/503 [00:53<00:00,  9.48it/s, loss=1.2715, accuracy=0.73881]\n",
      "Epoch 15/19 train: 100%|██████████| 1018/1018 [06:09<00:00,  2.76it/s, loss=0.18679, accuracy=0.94241]\n",
      "Epoch 15/19 val: 100%|██████████| 503/503 [00:53<00:00,  9.48it/s, loss=1.143, accuracy=0.75796] \n",
      "Epoch 16/19 train: 100%|██████████| 1018/1018 [06:09<00:00,  2.75it/s, loss=0.16487, accuracy=0.95064]\n",
      "Epoch 16/19 val: 100%|██████████| 503/503 [00:53<00:00,  9.46it/s, loss=1.2304, accuracy=0.73756]\n",
      "Epoch 17/19 train: 100%|██████████| 1018/1018 [06:09<00:00,  2.75it/s, loss=0.15973, accuracy=0.95506]\n",
      "Epoch 17/19 val: 100%|██████████| 503/503 [00:53<00:00,  9.49it/s, loss=1.2978, accuracy=0.74328]\n",
      "Epoch 18/19 train: 100%|██████████| 1018/1018 [06:09<00:00,  2.75it/s, loss=0.14552, accuracy=0.95334]\n",
      "Epoch 18/19 val: 100%|██████████| 503/503 [00:53<00:00,  9.48it/s, loss=1.2554, accuracy=0.74453]\n",
      "Epoch 19/19 train: 100%|██████████| 1018/1018 [06:09<00:00,  2.75it/s, loss=0.15185, accuracy=0.95297]\n",
      "Epoch 19/19 val: 100%|██████████| 503/503 [00:53<00:00,  9.47it/s, loss=1.2654, accuracy=0.74055]\n"
     ]
    },
    {
     "name": "stdout",
     "output_type": "stream",
     "text": [
      "[CHECKPOINT] ../../data/finetuned_models/StanfordCars/vgg/vgg_StanfordCars_E20.pth\n",
      "Training complete in 141m 52s\n",
      "Best val Acc: 0.757960\n",
      "[CHECKPOINT] ../../data/finetuned_models/StanfordCars/vgg/vgg_StanfordCars_E20.pth\n",
      "STARTING: model=vgg | dataset=FGVC-Aircraft | occlusion=None\n"
     ]
    },
    {
     "name": "stderr",
     "output_type": "stream",
     "text": [
      "Epoch 0/19 train: 100%|██████████| 417/417 [02:31<00:00,  2.75it/s, loss=4.1871, accuracy=0.054889] \n",
      "Epoch 0/19 val: 100%|██████████| 417/417 [00:44<00:00,  9.37it/s, loss=3.5729, accuracy=0.10171] \n",
      "Epoch 1/19 train: 100%|██████████| 417/417 [02:31<00:00,  2.75it/s, loss=2.8081, accuracy=0.23125]\n",
      "Epoch 1/19 val: 100%|██████████| 417/417 [00:44<00:00,  9.35it/s, loss=2.3828, accuracy=0.31173]\n",
      "Epoch 2/19 train: 100%|██████████| 417/417 [02:31<00:00,  2.75it/s, loss=2.0614, accuracy=0.37792]\n",
      "Epoch 2/19 val: 100%|██████████| 417/417 [00:44<00:00,  9.37it/s, loss=1.8881, accuracy=0.41884]\n",
      "Epoch 3/19 train: 100%|██████████| 417/417 [02:31<00:00,  2.75it/s, loss=1.5375, accuracy=0.5162] \n",
      "Epoch 3/19 val: 100%|██████████| 417/417 [00:45<00:00,  9.13it/s, loss=1.6724, accuracy=0.49655]\n",
      "Epoch 4/19 train: 100%|██████████| 417/417 [02:31<00:00,  2.75it/s, loss=1.1915, accuracy=0.61518]\n",
      "Epoch 4/19 val: 100%|██████████| 417/417 [00:44<00:00,  9.28it/s, loss=1.5684, accuracy=0.54005]\n",
      "Epoch 5/19 train: 100%|██████████| 417/417 [02:31<00:00,  2.74it/s, loss=0.9213, accuracy=0.69796] \n",
      "Epoch 5/19 val: 100%|██████████| 417/417 [00:48<00:00,  8.69it/s, loss=1.6389, accuracy=0.55326]\n",
      "Epoch 6/19 train: 100%|██████████| 417/417 [02:31<00:00,  2.75it/s, loss=0.70558, accuracy=0.77055]\n",
      "Epoch 6/19 val: 100%|██████████| 417/417 [00:44<00:00,  9.29it/s, loss=1.4249, accuracy=0.61566]\n",
      "Epoch 7/19 train: 100%|██████████| 417/417 [02:31<00:00,  2.75it/s, loss=0.56698, accuracy=0.81464]\n",
      "Epoch 7/19 val: 100%|██████████| 417/417 [00:46<00:00,  8.88it/s, loss=1.4132, accuracy=0.61116]\n",
      "Epoch 8/19 train: 100%|██████████| 417/417 [02:31<00:00,  2.75it/s, loss=0.45601, accuracy=0.84613]\n",
      "Epoch 8/19 val: 100%|██████████| 417/417 [00:45<00:00,  9.07it/s, loss=1.6942, accuracy=0.57936]\n",
      "Epoch 9/19 train: 100%|██████████| 417/417 [02:31<00:00,  2.75it/s, loss=0.38003, accuracy=0.87433]\n",
      "Epoch 9/19 val: 100%|██████████| 417/417 [00:44<00:00,  9.28it/s, loss=1.6882, accuracy=0.60816]\n"
     ]
    },
    {
     "name": "stdout",
     "output_type": "stream",
     "text": [
      "[CHECKPOINT] ../../data/finetuned_models/FGVC-Aircraft/vgg/vgg_FGVC-Aircraft_E10.pth\n"
     ]
    },
    {
     "name": "stderr",
     "output_type": "stream",
     "text": [
      "Epoch 10/19 train: 100%|██████████| 417/417 [02:33<00:00,  2.71it/s, loss=0.32263, accuracy=0.89202]\n",
      "Epoch 10/19 val: 100%|██████████| 417/417 [00:44<00:00,  9.30it/s, loss=1.8882, accuracy=0.59376]\n",
      "Epoch 11/19 train: 100%|██████████| 417/417 [02:31<00:00,  2.75it/s, loss=0.26939, accuracy=0.91422]\n",
      "Epoch 11/19 val: 100%|██████████| 417/417 [00:44<00:00,  9.34it/s, loss=1.8825, accuracy=0.59646]\n",
      "Epoch 12/19 train: 100%|██████████| 417/417 [02:32<00:00,  2.74it/s, loss=0.25328, accuracy=0.92142]\n",
      "Epoch 12/19 val: 100%|██████████| 417/417 [00:44<00:00,  9.27it/s, loss=1.7359, accuracy=0.61776]\n",
      "Epoch 13/19 train: 100%|██████████| 417/417 [02:31<00:00,  2.75it/s, loss=0.2066, accuracy=0.92831] \n",
      "Epoch 13/19 val: 100%|██████████| 417/417 [00:46<00:00,  8.90it/s, loss=2.0328, accuracy=0.59886]\n",
      "Epoch 14/19 train: 100%|██████████| 417/417 [02:32<00:00,  2.73it/s, loss=0.19545, accuracy=0.93641]\n",
      "Epoch 14/19 val: 100%|██████████| 417/417 [00:44<00:00,  9.32it/s, loss=2.0131, accuracy=0.59286]\n",
      "Epoch 15/19 train: 100%|██████████| 417/417 [02:35<00:00,  2.68it/s, loss=0.19309, accuracy=0.94961]\n",
      "Epoch 15/19 val: 100%|██████████| 417/417 [00:45<00:00,  9.19it/s, loss=1.986, accuracy=0.60726] \n",
      "Epoch 16/19 train: 100%|██████████| 417/417 [02:31<00:00,  2.75it/s, loss=0.19341, accuracy=0.93701]\n",
      "Epoch 16/19 val: 100%|██████████| 417/417 [00:48<00:00,  8.67it/s, loss=1.7036, accuracy=0.62916]\n",
      "Epoch 17/19 train: 100%|██████████| 417/417 [02:32<00:00,  2.73it/s, loss=0.15356, accuracy=0.94871] \n",
      "Epoch 17/19 val: 100%|██████████| 417/417 [00:45<00:00,  9.09it/s, loss=1.7677, accuracy=0.61566]\n",
      "Epoch 18/19 train: 100%|██████████| 417/417 [02:32<00:00,  2.73it/s, loss=0.12864, accuracy=0.96251]\n",
      "Epoch 18/19 val: 100%|██████████| 417/417 [00:51<00:00,  8.11it/s, loss=2.3616, accuracy=0.57636]\n",
      "Epoch 19/19 train: 100%|██████████| 417/417 [02:31<00:00,  2.75it/s, loss=0.14744, accuracy=0.95141] \n",
      "Epoch 19/19 val: 100%|██████████| 417/417 [00:46<00:00,  9.02it/s, loss=1.8454, accuracy=0.61596]\n"
     ]
    },
    {
     "name": "stdout",
     "output_type": "stream",
     "text": [
      "[CHECKPOINT] ../../data/finetuned_models/FGVC-Aircraft/vgg/vgg_FGVC-Aircraft_E20.pth\n",
      "Training complete in 67m 3s\n",
      "Best val Acc: 0.629163\n",
      "[CHECKPOINT] ../../data/finetuned_models/FGVC-Aircraft/vgg/vgg_FGVC-Aircraft_E20.pth\n",
      "STARTING: model=vgg | dataset=StanfordCars | occlusion=0\n"
     ]
    },
    {
     "name": "stderr",
     "output_type": "stream",
     "text": [
      "Epoch 0/19 train: 100%|██████████| 1018/1018 [07:11<00:00,  2.36it/s, loss=5.284, accuracy=0.0077358] \n",
      "Epoch 0/19 val: 100%|██████████| 503/503 [00:53<00:00,  9.37it/s, loss=5.2803, accuracy=0.010199] \n",
      "Epoch 1/19 train: 100%|██████████| 1018/1018 [07:13<00:00,  2.35it/s, loss=5.282, accuracy=0.0066306]\n",
      "Epoch 1/19 val: 100%|██████████| 503/503 [00:53<00:00,  9.48it/s, loss=5.2766, accuracy=0.0057214]\n",
      "Epoch 2/19 train: 100%|██████████| 1018/1018 [07:08<00:00,  2.38it/s, loss=5.28, accuracy=0.0077358]  \n",
      "Epoch 2/19 val: 100%|██████████| 503/503 [00:56<00:00,  8.93it/s, loss=5.2716, accuracy=0.010199] \n",
      "Epoch 3/19 train: 100%|██████████| 1018/1018 [07:08<00:00,  2.38it/s, loss=5.2723, accuracy=0.0085953]\n",
      "Epoch 3/19 val: 100%|██████████| 503/503 [00:53<00:00,  9.47it/s, loss=5.2484, accuracy=0.012935] \n",
      "Epoch 4/19 train: 100%|██████████| 1018/1018 [07:15<00:00,  2.34it/s, loss=5.18, accuracy=0.013752]  \n",
      "Epoch 4/19 val: 100%|██████████| 503/503 [00:52<00:00,  9.50it/s, loss=4.9908, accuracy=0.016418]\n",
      "Epoch 5/19 train: 100%|██████████| 1018/1018 [07:10<00:00,  2.36it/s, loss=4.7158, accuracy=0.027873]\n",
      "Epoch 5/19 val: 100%|██████████| 503/503 [00:53<00:00,  9.47it/s, loss=4.4089, accuracy=0.039303]\n",
      "Epoch 6/19 train: 100%|██████████| 1018/1018 [07:11<00:00,  2.36it/s, loss=4.1647, accuracy=0.061149]\n",
      "Epoch 6/19 val: 100%|██████████| 503/503 [00:52<00:00,  9.50it/s, loss=4.0887, accuracy=0.079104]\n",
      "Epoch 7/19 train: 100%|██████████| 1018/1018 [07:13<00:00,  2.35it/s, loss=3.6834, accuracy=0.1153] \n",
      "Epoch 7/19 val: 100%|██████████| 503/503 [00:53<00:00,  9.48it/s, loss=3.5087, accuracy=0.1505] \n",
      "Epoch 8/19 train: 100%|██████████| 1018/1018 [07:03<00:00,  2.40it/s, loss=3.1414, accuracy=0.19634]\n",
      "Epoch 8/19 val: 100%|██████████| 503/503 [00:53<00:00,  9.47it/s, loss=3.0994, accuracy=0.21144]\n",
      "Epoch 9/19 train: 100%|██████████| 1018/1018 [07:10<00:00,  2.36it/s, loss=2.625, accuracy=0.29322] \n",
      "Epoch 9/19 val: 100%|██████████| 503/503 [00:54<00:00,  9.24it/s, loss=2.7447, accuracy=0.28557]\n"
     ]
    },
    {
     "name": "stdout",
     "output_type": "stream",
     "text": [
      "[CHECKPOINT] ../../data/finetuned_models/StanfordCars/vgg/vgg_StanfordCars_E10_occ0.pth\n"
     ]
    },
    {
     "name": "stderr",
     "output_type": "stream",
     "text": [
      "Epoch 10/19 train: 100%|██████████| 1018/1018 [07:08<00:00,  2.37it/s, loss=2.1523, accuracy=0.40263]\n",
      "Epoch 10/19 val: 100%|██████████| 503/503 [00:53<00:00,  9.49it/s, loss=2.641, accuracy=0.33557] \n",
      "Epoch 11/19 train: 100%|██████████| 1018/1018 [07:07<00:00,  2.38it/s, loss=1.7009, accuracy=0.51817]\n",
      "Epoch 11/19 val: 100%|██████████| 503/503 [00:53<00:00,  9.47it/s, loss=2.479, accuracy=0.38209] \n",
      "Epoch 12/19 train: 100%|██████████| 1018/1018 [07:07<00:00,  2.38it/s, loss=1.3582, accuracy=0.59848]\n",
      "Epoch 12/19 val: 100%|██████████| 503/503 [00:53<00:00,  9.33it/s, loss=2.1743, accuracy=0.44303]\n",
      "Epoch 13/19 train: 100%|██████████| 1018/1018 [07:11<00:00,  2.36it/s, loss=1.1097, accuracy=0.67105]\n",
      "Epoch 13/19 val: 100%|██████████| 503/503 [00:55<00:00,  9.04it/s, loss=2.386, accuracy=0.40522] \n",
      "Epoch 14/19 train: 100%|██████████| 1018/1018 [07:14<00:00,  2.35it/s, loss=0.89181, accuracy=0.73539]\n",
      "Epoch 14/19 val: 100%|██████████| 503/503 [00:54<00:00,  9.22it/s, loss=2.282, accuracy=0.4408]  \n",
      "Epoch 15/19 train: 100%|██████████| 1018/1018 [07:12<00:00,  2.35it/s, loss=0.72385, accuracy=0.785]  \n",
      "Epoch 15/19 val: 100%|██████████| 503/503 [00:52<00:00,  9.50it/s, loss=2.2822, accuracy=0.46542]\n",
      "Epoch 16/19 train: 100%|██████████| 1018/1018 [07:10<00:00,  2.36it/s, loss=0.60554, accuracy=0.81778]\n",
      "Epoch 16/19 val: 100%|██████████| 503/503 [00:53<00:00,  9.45it/s, loss=2.3285, accuracy=0.47562]\n",
      "Epoch 17/19 train: 100%|██████████| 1018/1018 [07:10<00:00,  2.37it/s, loss=0.50019, accuracy=0.85044]\n",
      "Epoch 17/19 val: 100%|██████████| 503/503 [00:53<00:00,  9.40it/s, loss=2.3145, accuracy=0.48085]\n",
      "Epoch 18/19 train: 100%|██████████| 1018/1018 [07:14<00:00,  2.34it/s, loss=0.45937, accuracy=0.86186]\n",
      "Epoch 18/19 val: 100%|██████████| 503/503 [00:57<00:00,  8.74it/s, loss=2.4388, accuracy=0.46393]\n",
      "Epoch 19/19 train: 100%|██████████| 1018/1018 [07:12<00:00,  2.35it/s, loss=0.39111, accuracy=0.88139]\n",
      "Epoch 19/19 val: 100%|██████████| 503/503 [00:53<00:00,  9.45it/s, loss=2.4907, accuracy=0.49129]\n"
     ]
    },
    {
     "name": "stdout",
     "output_type": "stream",
     "text": [
      "[CHECKPOINT] ../../data/finetuned_models/StanfordCars/vgg/vgg_StanfordCars_E20_occ0.pth\n",
      "Training complete in 162m 23s\n",
      "Best val Acc: 0.491294\n",
      "[CHECKPOINT] ../../data/finetuned_models/StanfordCars/vgg/vgg_StanfordCars_E20_occ0.pth\n",
      "STARTING: model=vgg | dataset=FGVC-Aircraft | occlusion=0\n"
     ]
    },
    {
     "name": "stderr",
     "output_type": "stream",
     "text": [
      "Epoch 0/19 train: 100%|██████████| 417/417 [03:00<00:00,  2.31it/s, loss=4.4276, accuracy=0.023995]\n",
      "Epoch 0/19 val: 100%|██████████| 417/417 [02:39<00:00,  2.62it/s, loss=3.9249, accuracy=0.055506]\n",
      "Epoch 1/19 train: 100%|██████████| 417/417 [03:48<00:00,  1.83it/s, loss=3.6055, accuracy=0.081884]\n",
      "Epoch 1/19 val: 100%|██████████| 417/417 [00:44<00:00,  9.32it/s, loss=3.2429, accuracy=0.12961]\n",
      "Epoch 2/19 train: 100%|██████████| 417/417 [02:57<00:00,  2.35it/s, loss=2.9627, accuracy=0.15777]\n",
      "Epoch 2/19 val: 100%|██████████| 417/417 [00:47<00:00,  8.79it/s, loss=2.8632, accuracy=0.19652]\n",
      "Epoch 3/19 train: 100%|██████████| 417/417 [03:00<00:00,  2.31it/s, loss=2.5137, accuracy=0.25675]\n",
      "Epoch 3/19 val: 100%|██████████| 417/417 [00:49<00:00,  8.35it/s, loss=2.5482, accuracy=0.24602]\n",
      "Epoch 4/19 train: 100%|██████████| 417/417 [03:02<00:00,  2.29it/s, loss=2.0499, accuracy=0.36083]\n",
      "Epoch 4/19 val: 100%|██████████| 417/417 [00:44<00:00,  9.32it/s, loss=2.1737, accuracy=0.34623]\n",
      "Epoch 5/19 train: 100%|██████████| 417/417 [02:56<00:00,  2.36it/s, loss=1.6664, accuracy=0.45861]\n",
      "Epoch 5/19 val: 100%|██████████| 417/417 [00:44<00:00,  9.34it/s, loss=1.9539, accuracy=0.42304]\n",
      "Epoch 6/19 train: 100%|██████████| 417/417 [02:56<00:00,  2.36it/s, loss=1.3379, accuracy=0.56149]\n",
      "Epoch 6/19 val: 100%|██████████| 417/417 [00:44<00:00,  9.32it/s, loss=1.9892, accuracy=0.44074]\n",
      "Epoch 7/19 train: 100%|██████████| 417/417 [02:59<00:00,  2.32it/s, loss=1.047, accuracy=0.64517] \n",
      "Epoch 7/19 val: 100%|██████████| 417/417 [00:46<00:00,  9.00it/s, loss=1.7899, accuracy=0.51035]\n",
      "Epoch 8/19 train: 100%|██████████| 417/417 [02:55<00:00,  2.37it/s, loss=0.85811, accuracy=0.70606]\n",
      "Epoch 8/19 val: 100%|██████████| 417/417 [00:44<00:00,  9.36it/s, loss=2.0378, accuracy=0.50765]\n",
      "Epoch 9/19 train: 100%|██████████| 417/417 [02:59<00:00,  2.33it/s, loss=0.69453, accuracy=0.76875]\n",
      "Epoch 9/19 val: 100%|██████████| 417/417 [00:46<00:00,  8.99it/s, loss=2.004, accuracy=0.52925] \n"
     ]
    },
    {
     "name": "stdout",
     "output_type": "stream",
     "text": [
      "[CHECKPOINT] ../../data/finetuned_models/FGVC-Aircraft/vgg/vgg_FGVC-Aircraft_E10_occ0.pth\n"
     ]
    },
    {
     "name": "stderr",
     "output_type": "stream",
     "text": [
      "Epoch 10/19 train: 100%|██████████| 417/417 [02:58<00:00,  2.34it/s, loss=0.60387, accuracy=0.79244]\n",
      "Epoch 10/19 val: 100%|██████████| 417/417 [00:46<00:00,  8.98it/s, loss=1.8486, accuracy=0.54095]\n",
      "Epoch 11/19 train: 100%|██████████| 417/417 [02:58<00:00,  2.34it/s, loss=0.49264, accuracy=0.83083]\n",
      "Epoch 11/19 val: 100%|██████████| 417/417 [00:44<00:00,  9.36it/s, loss=1.9441, accuracy=0.53915]\n",
      "Epoch 12/19 train: 100%|██████████| 417/417 [02:56<00:00,  2.36it/s, loss=0.46369, accuracy=0.83923]\n",
      "Epoch 12/19 val: 100%|██████████| 417/417 [00:44<00:00,  9.32it/s, loss=2.0031, accuracy=0.57246]\n",
      "Epoch 13/19 train: 100%|██████████| 417/417 [02:59<00:00,  2.32it/s, loss=0.38433, accuracy=0.87313]\n",
      "Epoch 13/19 val: 100%|██████████| 417/417 [00:44<00:00,  9.32it/s, loss=2.0931, accuracy=0.54035]\n",
      "Epoch 14/19 train: 100%|██████████| 417/417 [03:03<00:00,  2.27it/s, loss=0.3508, accuracy=0.88002] \n",
      "Epoch 14/19 val: 100%|██████████| 417/417 [00:44<00:00,  9.33it/s, loss=2.0913, accuracy=0.55116]\n",
      "Epoch 15/19 train: 100%|██████████| 417/417 [02:55<00:00,  2.38it/s, loss=0.31301, accuracy=0.89532]\n",
      "Epoch 15/19 val: 100%|██████████| 417/417 [00:44<00:00,  9.34it/s, loss=1.8753, accuracy=0.57696]\n",
      "Epoch 16/19 train: 100%|██████████| 417/417 [03:01<00:00,  2.30it/s, loss=0.27871, accuracy=0.90582]\n",
      "Epoch 16/19 val: 100%|██████████| 417/417 [00:44<00:00,  9.35it/s, loss=2.0955, accuracy=0.57636]\n",
      "Epoch 17/19 train: 100%|██████████| 417/417 [02:54<00:00,  2.39it/s, loss=0.24905, accuracy=0.91602]\n",
      "Epoch 17/19 val: 100%|██████████| 417/417 [00:44<00:00,  9.34it/s, loss=2.0319, accuracy=0.58176]\n",
      "Epoch 18/19 train: 100%|██████████| 417/417 [03:00<00:00,  2.31it/s, loss=0.2219, accuracy=0.92561] \n",
      "Epoch 18/19 val: 100%|██████████| 417/417 [00:44<00:00,  9.30it/s, loss=2.0138, accuracy=0.56226]\n",
      "Epoch 19/19 train: 100%|██████████| 417/417 [02:59<00:00,  2.32it/s, loss=0.26722, accuracy=0.91782]\n",
      "Epoch 19/19 val: 100%|██████████| 417/417 [00:44<00:00,  9.30it/s, loss=2.0938, accuracy=0.57306]\n"
     ]
    },
    {
     "name": "stdout",
     "output_type": "stream",
     "text": [
      "[CHECKPOINT] ../../data/finetuned_models/FGVC-Aircraft/vgg/vgg_FGVC-Aircraft_E20_occ0.pth\n",
      "Training complete in 78m 20s\n",
      "Best val Acc: 0.581758\n",
      "[CHECKPOINT] ../../data/finetuned_models/FGVC-Aircraft/vgg/vgg_FGVC-Aircraft_E20_occ0.pth\n",
      "STARTING: model=vgg | dataset=StanfordCars | occlusion=1\n"
     ]
    },
    {
     "name": "stderr",
     "output_type": "stream",
     "text": [
      "Epoch 0/19 train: 100%|██████████| 1018/1018 [07:02<00:00,  2.41it/s, loss=5.0922, accuracy=0.011665]\n",
      "Epoch 0/19 val: 100%|██████████| 503/503 [00:53<00:00,  9.46it/s, loss=4.6214, accuracy=0.03408] \n",
      "Epoch 1/19 train: 100%|██████████| 1018/1018 [07:06<00:00,  2.39it/s, loss=3.9703, accuracy=0.084602]\n",
      "Epoch 1/19 val: 100%|██████████| 503/503 [00:53<00:00,  9.40it/s, loss=3.3344, accuracy=0.15622]\n",
      "Epoch 2/19 train: 100%|██████████| 1018/1018 [07:10<00:00,  2.36it/s, loss=2.7955, accuracy=0.25847]\n",
      "Epoch 2/19 val: 100%|██████████| 503/503 [00:53<00:00,  9.47it/s, loss=2.3656, accuracy=0.3393] \n",
      "Epoch 3/19 train: 100%|██████████| 1018/1018 [07:13<00:00,  2.35it/s, loss=1.9143, accuracy=0.45334]\n",
      "Epoch 3/19 val: 100%|██████████| 503/503 [00:53<00:00,  9.47it/s, loss=1.9433, accuracy=0.44453]\n",
      "Epoch 4/19 train: 100%|██████████| 1018/1018 [07:16<00:00,  2.33it/s, loss=1.3136, accuracy=0.6029] \n",
      "Epoch 4/19 val: 100%|██████████| 503/503 [00:53<00:00,  9.45it/s, loss=1.5628, accuracy=0.56642]\n",
      "Epoch 5/19 train: 100%|██████████| 1018/1018 [07:06<00:00,  2.39it/s, loss=0.9617, accuracy=0.70543] \n",
      "Epoch 5/19 val: 100%|██████████| 503/503 [00:53<00:00,  9.47it/s, loss=1.6351, accuracy=0.56269]\n",
      "Epoch 6/19 train: 100%|██████████| 1018/1018 [07:10<00:00,  2.36it/s, loss=0.76054, accuracy=0.76154]\n",
      "Epoch 6/19 val: 100%|██████████| 503/503 [00:53<00:00,  9.46it/s, loss=1.4996, accuracy=0.59701]\n",
      "Epoch 7/19 train: 100%|██████████| 1018/1018 [07:14<00:00,  2.34it/s, loss=0.61712, accuracy=0.80783]\n",
      "Epoch 7/19 val: 100%|██████████| 503/503 [00:53<00:00,  9.47it/s, loss=1.5144, accuracy=0.62065]\n",
      "Epoch 8/19 train: 100%|██████████| 1018/1018 [07:09<00:00,  2.37it/s, loss=0.54574, accuracy=0.82981]\n",
      "Epoch 8/19 val: 100%|██████████| 503/503 [00:53<00:00,  9.47it/s, loss=1.3859, accuracy=0.64005]\n",
      "Epoch 9/19 train: 100%|██████████| 1018/1018 [07:16<00:00,  2.33it/s, loss=0.43435, accuracy=0.8637] \n",
      "Epoch 9/19 val: 100%|██████████| 503/503 [00:53<00:00,  9.43it/s, loss=1.4531, accuracy=0.63881]\n"
     ]
    },
    {
     "name": "stdout",
     "output_type": "stream",
     "text": [
      "[CHECKPOINT] ../../data/finetuned_models/StanfordCars/vgg/vgg_StanfordCars_E10_occ1.pth\n"
     ]
    },
    {
     "name": "stderr",
     "output_type": "stream",
     "text": [
      "Epoch 10/19 train: 100%|██████████| 1018/1018 [07:15<00:00,  2.34it/s, loss=0.38623, accuracy=0.87684]\n",
      "Epoch 10/19 val: 100%|██████████| 503/503 [00:52<00:00,  9.50it/s, loss=1.4815, accuracy=0.64925]\n",
      "Epoch 11/19 train: 100%|██████████| 1018/1018 [07:09<00:00,  2.37it/s, loss=0.3482, accuracy=0.88973] \n",
      "Epoch 11/19 val: 100%|██████████| 503/503 [00:53<00:00,  9.48it/s, loss=1.5363, accuracy=0.63881]\n",
      "Epoch 12/19 train: 100%|██████████| 1018/1018 [07:05<00:00,  2.39it/s, loss=0.32598, accuracy=0.8971] \n",
      "Epoch 12/19 val: 100%|██████████| 503/503 [00:53<00:00,  9.47it/s, loss=1.4162, accuracy=0.64428]\n",
      "Epoch 13/19 train: 100%|██████████| 1018/1018 [07:13<00:00,  2.35it/s, loss=0.26799, accuracy=0.91638]\n",
      "Epoch 13/19 val: 100%|██████████| 503/503 [00:52<00:00,  9.50it/s, loss=1.534, accuracy=0.64328] \n",
      "Epoch 14/19 train: 100%|██████████| 1018/1018 [07:13<00:00,  2.35it/s, loss=0.2524, accuracy=0.92399] \n",
      "Epoch 14/19 val: 100%|██████████| 503/503 [00:53<00:00,  9.48it/s, loss=1.7245, accuracy=0.61542]\n",
      "Epoch 15/19 train: 100%|██████████| 1018/1018 [07:11<00:00,  2.36it/s, loss=0.22518, accuracy=0.93173]\n",
      "Epoch 15/19 val: 100%|██████████| 503/503 [00:53<00:00,  9.48it/s, loss=1.6426, accuracy=0.65896]\n",
      "Epoch 16/19 train: 100%|██████████| 1018/1018 [07:14<00:00,  2.34it/s, loss=0.22351, accuracy=0.92854]\n",
      "Epoch 16/19 val: 100%|██████████| 503/503 [00:53<00:00,  9.46it/s, loss=1.7581, accuracy=0.64677]\n",
      "Epoch 17/19 train: 100%|██████████| 1018/1018 [07:13<00:00,  2.35it/s, loss=0.20001, accuracy=0.93836]\n",
      "Epoch 17/19 val: 100%|██████████| 503/503 [00:52<00:00,  9.49it/s, loss=1.6967, accuracy=0.63632]\n",
      "Epoch 18/19 train: 100%|██████████| 1018/1018 [07:15<00:00,  2.34it/s, loss=0.19528, accuracy=0.94008]\n",
      "Epoch 18/19 val: 100%|██████████| 503/503 [00:53<00:00,  9.45it/s, loss=1.6619, accuracy=0.64925]\n",
      "Epoch 19/19 train: 100%|██████████| 1018/1018 [07:14<00:00,  2.35it/s, loss=0.17386, accuracy=0.94843]\n",
      "Epoch 19/19 val: 100%|██████████| 503/503 [00:53<00:00,  9.48it/s, loss=1.6836, accuracy=0.63184]\n"
     ]
    },
    {
     "name": "stdout",
     "output_type": "stream",
     "text": [
      "[CHECKPOINT] ../../data/finetuned_models/StanfordCars/vgg/vgg_StanfordCars_E20_occ1.pth\n",
      "Training complete in 162m 22s\n",
      "Best val Acc: 0.658955\n",
      "[CHECKPOINT] ../../data/finetuned_models/StanfordCars/vgg/vgg_StanfordCars_E20_occ1.pth\n",
      "STARTING: model=vgg | dataset=FGVC-Aircraft | occlusion=1\n"
     ]
    },
    {
     "name": "stderr",
     "output_type": "stream",
     "text": [
      "Epoch 0/19 train: 100%|██████████| 417/417 [02:57<00:00,  2.35it/s, loss=4.0181, accuracy=0.069286]\n",
      "Epoch 0/19 val: 100%|██████████| 417/417 [00:44<00:00,  9.35it/s, loss=3.1499, accuracy=0.16352]\n",
      "Epoch 1/19 train: 100%|██████████| 417/417 [03:00<00:00,  2.31it/s, loss=2.9395, accuracy=0.18716]\n",
      "Epoch 1/19 val: 100%|██████████| 417/417 [00:44<00:00,  9.31it/s, loss=2.6457, accuracy=0.24752]\n",
      "Epoch 2/19 train: 100%|██████████| 417/417 [03:00<00:00,  2.31it/s, loss=2.2224, accuracy=0.34103]\n",
      "Epoch 2/19 val: 100%|██████████| 417/417 [00:44<00:00,  9.40it/s, loss=2.0863, accuracy=0.36574]\n",
      "Epoch 3/19 train: 100%|██████████| 417/417 [02:55<00:00,  2.37it/s, loss=1.7033, accuracy=0.46191]\n",
      "Epoch 3/19 val: 100%|██████████| 417/417 [00:44<00:00,  9.33it/s, loss=1.8531, accuracy=0.44794]\n",
      "Epoch 4/19 train: 100%|██████████| 417/417 [02:57<00:00,  2.36it/s, loss=1.3177, accuracy=0.57289]\n",
      "Epoch 4/19 val: 100%|██████████| 417/417 [00:44<00:00,  9.35it/s, loss=1.7866, accuracy=0.47345]\n",
      "Epoch 5/19 train: 100%|██████████| 417/417 [02:58<00:00,  2.33it/s, loss=1.0293, accuracy=0.65867]\n",
      "Epoch 5/19 val: 100%|██████████| 417/417 [00:44<00:00,  9.33it/s, loss=1.8654, accuracy=0.48635]\n",
      "Epoch 6/19 train: 100%|██████████| 417/417 [02:57<00:00,  2.35it/s, loss=0.84586, accuracy=0.71236]\n",
      "Epoch 6/19 val: 100%|██████████| 417/417 [00:44<00:00,  9.37it/s, loss=1.8503, accuracy=0.50045]\n",
      "Epoch 7/19 train: 100%|██████████| 417/417 [03:02<00:00,  2.28it/s, loss=0.66411, accuracy=0.78254]\n",
      "Epoch 7/19 val: 100%|██████████| 417/417 [00:44<00:00,  9.36it/s, loss=1.7302, accuracy=0.53825]\n",
      "Epoch 8/19 train: 100%|██████████| 417/417 [02:53<00:00,  2.40it/s, loss=0.50503, accuracy=0.83803]\n",
      "Epoch 8/19 val: 100%|██████████| 417/417 [00:44<00:00,  9.40it/s, loss=1.6076, accuracy=0.57696]\n",
      "Epoch 9/19 train: 100%|██████████| 417/417 [02:58<00:00,  2.33it/s, loss=0.49179, accuracy=0.83803]\n",
      "Epoch 9/19 val: 100%|██████████| 417/417 [00:44<00:00,  9.32it/s, loss=1.8296, accuracy=0.54485]\n"
     ]
    },
    {
     "name": "stdout",
     "output_type": "stream",
     "text": [
      "[CHECKPOINT] ../../data/finetuned_models/FGVC-Aircraft/vgg/vgg_FGVC-Aircraft_E10_occ1.pth\n"
     ]
    },
    {
     "name": "stderr",
     "output_type": "stream",
     "text": [
      "Epoch 10/19 train: 100%|██████████| 417/417 [02:57<00:00,  2.35it/s, loss=0.37577, accuracy=0.86953]\n",
      "Epoch 10/19 val: 100%|██████████| 417/417 [00:44<00:00,  9.33it/s, loss=1.8273, accuracy=0.59706]\n",
      "Epoch 11/19 train: 100%|██████████| 417/417 [02:59<00:00,  2.32it/s, loss=0.31596, accuracy=0.89052]\n",
      "Epoch 11/19 val: 100%|██████████| 417/417 [00:44<00:00,  9.30it/s, loss=1.7587, accuracy=0.59556]\n",
      "Epoch 12/19 train: 100%|██████████| 417/417 [02:58<00:00,  2.33it/s, loss=0.3474, accuracy=0.88722] \n",
      "Epoch 12/19 val: 100%|██████████| 417/417 [00:44<00:00,  9.31it/s, loss=2.067, accuracy=0.55146] \n",
      "Epoch 13/19 train: 100%|██████████| 417/417 [02:57<00:00,  2.35it/s, loss=0.28262, accuracy=0.90912]\n",
      "Epoch 13/19 val: 100%|██████████| 417/417 [00:44<00:00,  9.34it/s, loss=2.087, accuracy=0.58626] \n",
      "Epoch 14/19 train: 100%|██████████| 417/417 [03:01<00:00,  2.30it/s, loss=0.23893, accuracy=0.92172]\n",
      "Epoch 14/19 val: 100%|██████████| 417/417 [00:44<00:00,  9.31it/s, loss=1.9289, accuracy=0.60216]\n",
      "Epoch 15/19 train: 100%|██████████| 417/417 [02:57<00:00,  2.35it/s, loss=0.26814, accuracy=0.91302]\n",
      "Epoch 15/19 val: 100%|██████████| 417/417 [00:44<00:00,  9.31it/s, loss=2.026, accuracy=0.57306] \n",
      "Epoch 16/19 train: 100%|██████████| 417/417 [02:55<00:00,  2.37it/s, loss=0.17652, accuracy=0.94121]\n",
      "Epoch 16/19 val: 100%|██████████| 417/417 [00:44<00:00,  9.31it/s, loss=1.968, accuracy=0.58956] \n",
      "Epoch 17/19 train: 100%|██████████| 417/417 [02:57<00:00,  2.34it/s, loss=0.21221, accuracy=0.93191]\n",
      "Epoch 17/19 val: 100%|██████████| 417/417 [00:44<00:00,  9.33it/s, loss=1.9929, accuracy=0.60786]\n",
      "Epoch 18/19 train: 100%|██████████| 417/417 [02:59<00:00,  2.32it/s, loss=0.17353, accuracy=0.94721]\n",
      "Epoch 18/19 val: 100%|██████████| 417/417 [00:44<00:00,  9.31it/s, loss=2.3088, accuracy=0.56796]\n",
      "Epoch 19/19 train: 100%|██████████| 417/417 [02:56<00:00,  2.37it/s, loss=0.18294, accuracy=0.94631]\n",
      "Epoch 19/19 val: 100%|██████████| 417/417 [00:44<00:00,  9.32it/s, loss=2.1198, accuracy=0.59076]\n"
     ]
    },
    {
     "name": "stdout",
     "output_type": "stream",
     "text": [
      "[CHECKPOINT] ../../data/finetuned_models/FGVC-Aircraft/vgg/vgg_FGVC-Aircraft_E20_occ1.pth\n",
      "Training complete in 74m 58s\n",
      "Best val Acc: 0.607861\n",
      "[CHECKPOINT] ../../data/finetuned_models/FGVC-Aircraft/vgg/vgg_FGVC-Aircraft_E20_occ1.pth\n",
      "STARTING: model=vgg | dataset=StanfordCars | occlusion=GAUSSIAN\n"
     ]
    },
    {
     "name": "stderr",
     "output_type": "stream",
     "text": [
      "Epoch 0/19 train: 100%|██████████| 1018/1018 [07:12<00:00,  2.36it/s, loss=5.0551, accuracy=0.013998]\n",
      "Epoch 0/19 val: 100%|██████████| 503/503 [00:53<00:00,  9.48it/s, loss=4.4048, accuracy=0.048259]\n",
      "Epoch 1/19 train: 100%|██████████| 1018/1018 [07:20<00:00,  2.31it/s, loss=3.5962, accuracy=0.13667]\n",
      "Epoch 1/19 val: 100%|██████████| 503/503 [00:53<00:00,  9.47it/s, loss=2.7712, accuracy=0.26294]\n",
      "Epoch 2/19 train: 100%|██████████| 1018/1018 [07:19<00:00,  2.32it/s, loss=2.1897, accuracy=0.38716]\n",
      "Epoch 2/19 val: 100%|██████████| 503/503 [00:53<00:00,  9.48it/s, loss=1.8755, accuracy=0.46194]\n",
      "Epoch 3/19 train: 100%|██████████| 1018/1018 [07:15<00:00,  2.34it/s, loss=1.4387, accuracy=0.57183]\n",
      "Epoch 3/19 val: 100%|██████████| 503/503 [00:52<00:00,  9.49it/s, loss=1.7281, accuracy=0.51244]\n",
      "Epoch 4/19 train: 100%|██████████| 1018/1018 [07:15<00:00,  2.33it/s, loss=1.0213, accuracy=0.6918] \n",
      "Epoch 4/19 val: 100%|██████████| 503/503 [00:52<00:00,  9.52it/s, loss=1.5418, accuracy=0.5908] \n",
      "Epoch 5/19 train: 100%|██████████| 1018/1018 [07:21<00:00,  2.31it/s, loss=0.76843, accuracy=0.76154]\n",
      "Epoch 5/19 val: 100%|██████████| 503/503 [00:52<00:00,  9.49it/s, loss=1.5536, accuracy=0.59627]\n",
      "Epoch 6/19 train: 100%|██████████| 1018/1018 [07:13<00:00,  2.35it/s, loss=0.60541, accuracy=0.80931]\n",
      "Epoch 6/19 val: 100%|██████████| 503/503 [00:52<00:00,  9.51it/s, loss=1.4006, accuracy=0.63134]\n",
      "Epoch 7/19 train: 100%|██████████| 1018/1018 [07:18<00:00,  2.32it/s, loss=0.50276, accuracy=0.83988]\n",
      "Epoch 7/19 val: 100%|██████████| 503/503 [00:52<00:00,  9.50it/s, loss=1.5076, accuracy=0.60746]\n",
      "Epoch 8/19 train: 100%|██████████| 1018/1018 [07:07<00:00,  2.38it/s, loss=0.43766, accuracy=0.86051]\n",
      "Epoch 8/19 val: 100%|██████████| 503/503 [00:53<00:00,  9.47it/s, loss=1.5792, accuracy=0.60846]\n",
      "Epoch 9/19 train: 100%|██████████| 1018/1018 [07:11<00:00,  2.36it/s, loss=0.39718, accuracy=0.8734] \n",
      "Epoch 9/19 val: 100%|██████████| 503/503 [00:53<00:00,  9.48it/s, loss=1.49, accuracy=0.64403]  \n"
     ]
    },
    {
     "name": "stdout",
     "output_type": "stream",
     "text": [
      "[CHECKPOINT] ../../data/finetuned_models/StanfordCars/vgg/vgg_StanfordCars_E10_occGAUSSIAN.pth\n"
     ]
    },
    {
     "name": "stderr",
     "output_type": "stream",
     "text": [
      "Epoch 10/19 train: 100%|██████████| 1018/1018 [07:16<00:00,  2.33it/s, loss=0.33866, accuracy=0.89059]\n",
      "Epoch 10/19 val: 100%|██████████| 503/503 [00:52<00:00,  9.49it/s, loss=1.5015, accuracy=0.64627]\n",
      "Epoch 11/19 train: 100%|██████████| 1018/1018 [07:18<00:00,  2.32it/s, loss=0.29574, accuracy=0.90803]\n",
      "Epoch 11/19 val: 100%|██████████| 503/503 [00:53<00:00,  9.48it/s, loss=1.4982, accuracy=0.65547]\n",
      "Epoch 12/19 train: 100%|██████████| 1018/1018 [07:16<00:00,  2.33it/s, loss=0.26555, accuracy=0.91871]\n",
      "Epoch 12/19 val: 100%|██████████| 503/503 [00:53<00:00,  9.47it/s, loss=1.6372, accuracy=0.6495] \n",
      "Epoch 13/19 train: 100%|██████████| 1018/1018 [07:19<00:00,  2.32it/s, loss=0.24183, accuracy=0.92633]\n",
      "Epoch 13/19 val: 100%|██████████| 503/503 [00:53<00:00,  9.44it/s, loss=1.4152, accuracy=0.68358]\n",
      "Epoch 14/19 train: 100%|██████████| 1018/1018 [07:14<00:00,  2.34it/s, loss=0.2209, accuracy=0.93038] \n",
      "Epoch 14/19 val: 100%|██████████| 503/503 [00:53<00:00,  9.48it/s, loss=1.4858, accuracy=0.66542]\n",
      "Epoch 15/19 train: 100%|██████████| 1018/1018 [07:17<00:00,  2.33it/s, loss=0.20043, accuracy=0.93934]\n",
      "Epoch 15/19 val: 100%|██████████| 503/503 [00:53<00:00,  9.45it/s, loss=1.5508, accuracy=0.65224]\n",
      "Epoch 16/19 train: 100%|██████████| 1018/1018 [07:14<00:00,  2.34it/s, loss=0.18306, accuracy=0.94155]\n",
      "Epoch 16/19 val: 100%|██████████| 503/503 [00:53<00:00,  9.47it/s, loss=1.6195, accuracy=0.66443]\n",
      "Epoch 17/19 train: 100%|██████████| 1018/1018 [07:11<00:00,  2.36it/s, loss=0.1923, accuracy=0.94032] \n",
      "Epoch 17/19 val: 100%|██████████| 503/503 [00:53<00:00,  9.48it/s, loss=1.7346, accuracy=0.64975]\n",
      "Epoch 18/19 train: 100%|██████████| 1018/1018 [07:11<00:00,  2.36it/s, loss=0.15759, accuracy=0.95285]\n",
      "Epoch 18/19 val: 100%|██████████| 503/503 [00:53<00:00,  9.48it/s, loss=1.3686, accuracy=0.68731]\n",
      "Epoch 19/19 train: 100%|██████████| 1018/1018 [07:10<00:00,  2.37it/s, loss=0.16435, accuracy=0.95174]\n",
      "Epoch 19/19 val: 100%|██████████| 503/503 [00:53<00:00,  9.46it/s, loss=1.6505, accuracy=0.66393]\n"
     ]
    },
    {
     "name": "stdout",
     "output_type": "stream",
     "text": [
      "[CHECKPOINT] ../../data/finetuned_models/StanfordCars/vgg/vgg_StanfordCars_E20_occGAUSSIAN.pth\n",
      "Training complete in 163m 25s\n",
      "Best val Acc: 0.687313\n",
      "[CHECKPOINT] ../../data/finetuned_models/StanfordCars/vgg/vgg_StanfordCars_E20_occGAUSSIAN.pth\n",
      "STARTING: model=vgg | dataset=FGVC-Aircraft | occlusion=GAUSSIAN\n"
     ]
    },
    {
     "name": "stderr",
     "output_type": "stream",
     "text": [
      "Epoch 0/19 train: 100%|██████████| 417/417 [03:02<00:00,  2.28it/s, loss=4.045, accuracy=0.067187] \n",
      "Epoch 0/19 val: 100%|██████████| 417/417 [00:44<00:00,  9.34it/s, loss=3.4061, accuracy=0.12721]\n",
      "Epoch 1/19 train: 100%|██████████| 417/417 [02:54<00:00,  2.38it/s, loss=2.9557, accuracy=0.19286]\n",
      "Epoch 1/19 val: 100%|██████████| 417/417 [00:44<00:00,  9.37it/s, loss=2.5841, accuracy=0.26373]\n",
      "Epoch 2/19 train: 100%|██████████| 417/417 [03:02<00:00,  2.29it/s, loss=2.2647, accuracy=0.33143]\n",
      "Epoch 2/19 val: 100%|██████████| 417/417 [00:44<00:00,  9.33it/s, loss=2.2051, accuracy=0.34533]\n",
      "Epoch 3/19 train: 100%|██████████| 417/417 [03:00<00:00,  2.31it/s, loss=1.7222, accuracy=0.46131]\n",
      "Epoch 3/19 val: 100%|██████████| 417/417 [00:44<00:00,  9.39it/s, loss=1.953, accuracy=0.42274] \n",
      "Epoch 4/19 train: 100%|██████████| 417/417 [03:01<00:00,  2.29it/s, loss=1.317, accuracy=0.56299] \n",
      "Epoch 4/19 val: 100%|██████████| 417/417 [00:44<00:00,  9.35it/s, loss=1.899, accuracy=0.47495] \n",
      "Epoch 5/19 train: 100%|██████████| 417/417 [02:57<00:00,  2.35it/s, loss=1.048, accuracy=0.65957] \n",
      "Epoch 5/19 val: 100%|██████████| 417/417 [00:44<00:00,  9.36it/s, loss=1.7279, accuracy=0.50975]\n",
      "Epoch 6/19 train: 100%|██████████| 417/417 [02:56<00:00,  2.37it/s, loss=0.79734, accuracy=0.73485]\n",
      "Epoch 6/19 val: 100%|██████████| 417/417 [00:44<00:00,  9.34it/s, loss=1.7208, accuracy=0.53285]\n",
      "Epoch 7/19 train: 100%|██████████| 417/417 [02:58<00:00,  2.34it/s, loss=0.65267, accuracy=0.78074]\n",
      "Epoch 7/19 val: 100%|██████████| 417/417 [00:44<00:00,  9.40it/s, loss=1.7522, accuracy=0.54815]\n",
      "Epoch 8/19 train: 100%|██████████| 417/417 [02:58<00:00,  2.34it/s, loss=0.54777, accuracy=0.81644]\n",
      "Epoch 8/19 val: 100%|██████████| 417/417 [00:44<00:00,  9.34it/s, loss=2.0969, accuracy=0.51245]\n",
      "Epoch 9/19 train: 100%|██████████| 417/417 [03:02<00:00,  2.29it/s, loss=0.47644, accuracy=0.84013]\n",
      "Epoch 9/19 val: 100%|██████████| 417/417 [00:44<00:00,  9.34it/s, loss=1.7502, accuracy=0.56226]\n"
     ]
    },
    {
     "name": "stdout",
     "output_type": "stream",
     "text": [
      "[CHECKPOINT] ../../data/finetuned_models/FGVC-Aircraft/vgg/vgg_FGVC-Aircraft_E10_occGAUSSIAN.pth\n"
     ]
    },
    {
     "name": "stderr",
     "output_type": "stream",
     "text": [
      "Epoch 10/19 train: 100%|██████████| 417/417 [02:57<00:00,  2.34it/s, loss=0.39823, accuracy=0.86443]\n",
      "Epoch 10/19 val: 100%|██████████| 417/417 [00:44<00:00,  9.32it/s, loss=1.7795, accuracy=0.58056]\n",
      "Epoch 11/19 train: 100%|██████████| 417/417 [02:58<00:00,  2.34it/s, loss=0.29274, accuracy=0.90732]\n",
      "Epoch 11/19 val: 100%|██████████| 417/417 [00:44<00:00,  9.32it/s, loss=2.0485, accuracy=0.56316]\n",
      "Epoch 12/19 train: 100%|██████████| 417/417 [02:59<00:00,  2.33it/s, loss=0.32765, accuracy=0.88992]\n",
      "Epoch 12/19 val: 100%|██████████| 417/417 [00:44<00:00,  9.31it/s, loss=1.8859, accuracy=0.56916]\n",
      "Epoch 13/19 train: 100%|██████████| 417/417 [02:57<00:00,  2.35it/s, loss=0.26946, accuracy=0.91482]\n",
      "Epoch 13/19 val: 100%|██████████| 417/417 [00:44<00:00,  9.32it/s, loss=1.8798, accuracy=0.58386]\n",
      "Epoch 14/19 train: 100%|██████████| 417/417 [03:03<00:00,  2.27it/s, loss=0.27165, accuracy=0.91242]\n",
      "Epoch 14/19 val: 100%|██████████| 417/417 [00:44<00:00,  9.31it/s, loss=2.1258, accuracy=0.54035]\n",
      "Epoch 15/19 train: 100%|██████████| 417/417 [02:57<00:00,  2.34it/s, loss=0.27524, accuracy=0.91062]\n",
      "Epoch 15/19 val: 100%|██████████| 417/417 [00:44<00:00,  9.29it/s, loss=1.8465, accuracy=0.55956]\n",
      "Epoch 16/19 train: 100%|██████████| 417/417 [03:02<00:00,  2.28it/s, loss=0.21771, accuracy=0.92531]\n",
      "Epoch 16/19 val: 100%|██████████| 417/417 [00:44<00:00,  9.31it/s, loss=1.8097, accuracy=0.58506]\n",
      "Epoch 17/19 train: 100%|██████████| 417/417 [03:03<00:00,  2.28it/s, loss=0.20108, accuracy=0.93851]\n",
      "Epoch 17/19 val: 100%|██████████| 417/417 [00:44<00:00,  9.33it/s, loss=1.8487, accuracy=0.58056]\n",
      "Epoch 18/19 train: 100%|██████████| 417/417 [02:58<00:00,  2.33it/s, loss=0.18327, accuracy=0.94391]\n",
      "Epoch 18/19 val: 100%|██████████| 417/417 [00:44<00:00,  9.33it/s, loss=2.2324, accuracy=0.55656]\n",
      "Epoch 19/19 train: 100%|██████████| 417/417 [02:58<00:00,  2.34it/s, loss=0.16886, accuracy=0.95051]\n",
      "Epoch 19/19 val: 100%|██████████| 417/417 [00:44<00:00,  9.29it/s, loss=2.1486, accuracy=0.55746]\n"
     ]
    },
    {
     "name": "stdout",
     "output_type": "stream",
     "text": [
      "[CHECKPOINT] ../../data/finetuned_models/FGVC-Aircraft/vgg/vgg_FGVC-Aircraft_E20_occGAUSSIAN.pth\n",
      "Training complete in 75m 26s\n",
      "Best val Acc: 0.585059\n",
      "[CHECKPOINT] ../../data/finetuned_models/FGVC-Aircraft/vgg/vgg_FGVC-Aircraft_E20_occGAUSSIAN.pth\n",
      "STARTING: model=vgg | dataset=StanfordCars | occlusion=SOFTMAX\n"
     ]
    },
    {
     "name": "stderr",
     "output_type": "stream",
     "text": [
      "Epoch 0/19 train: 100%|██████████| 1018/1018 [07:14<00:00,  2.34it/s, loss=5.2745, accuracy=0.0066306]\n",
      "Epoch 0/19 val: 100%|██████████| 503/503 [00:52<00:00,  9.50it/s, loss=5.1763, accuracy=0.010945]\n",
      "Epoch 1/19 train: 100%|██████████| 1018/1018 [07:12<00:00,  2.35it/s, loss=5.0081, accuracy=0.015717]\n",
      "Epoch 1/19 val: 100%|██████████| 503/503 [00:53<00:00,  9.47it/s, loss=4.6941, accuracy=0.029602]\n",
      "Epoch 2/19 train: 100%|██████████| 1018/1018 [07:13<00:00,  2.35it/s, loss=4.4277, accuracy=0.035363]\n",
      "Epoch 2/19 val: 100%|██████████| 503/503 [00:52<00:00,  9.52it/s, loss=4.1637, accuracy=0.057463]\n",
      "Epoch 3/19 train: 100%|██████████| 1018/1018 [07:10<00:00,  2.37it/s, loss=3.8582, accuracy=0.086812]\n",
      "Epoch 3/19 val: 100%|██████████| 503/503 [00:53<00:00,  9.47it/s, loss=3.5775, accuracy=0.12463]\n",
      "Epoch 4/19 train: 100%|██████████| 1018/1018 [07:04<00:00,  2.40it/s, loss=3.0946, accuracy=0.19659]\n",
      "Epoch 4/19 val: 100%|██████████| 503/503 [00:52<00:00,  9.50it/s, loss=2.9673, accuracy=0.22239]\n",
      "Epoch 5/19 train:  12%|█▏        | 123/1018 [00:52<07:07,  2.09it/s, loss=2.4551, accuracy=0.32419]"
     ]
    }
   ],
   "source": [
    "# inception model doesn't work.\n",
    "# models = ['resnet', 'alexnet', 'densenet', 'squeezenet', 'vgg']\n",
    "#\n",
    "# for name in models:\n",
    "#     print('[TRAINING]:', name)\n",
    "# finetune.CLASSIFIER_NAME = name\n",
    "importlib.reload(finetune)\n",
    "\n",
    "for classifier_name in ['vgg']:\n",
    "    for occlusion_name in finetune.OCCLUSION_OPTIONS:\n",
    "        for dataset in finetune.DATASET_OPTIONS: # ['FGVC-Aircraft' , 'StanfordCars']\n",
    "            print('STARTING: model={} | dataset={} | occlusion={}'.format(classifier_name, dataset, occlusion_name))\n",
    "            finetune.CLASSIFIER_NAME = classifier_name\n",
    "            finetune.NUM_EPOCHS = 20\n",
    "            finetune.FEATURE_EXTRACT = False # default\n",
    "            finetune.DATASET = dataset  # [StanfordCars, FGVC-Aircraft]\n",
    "            finetune.OCCLUSION_NAME = occlusion_name\n",
    "            finetune.OPTIMIZER_NAME = 'adam' # default\n",
    "            # finetune.print_hypers() # shows params\n",
    "\n",
    "            # Initialize the model for this run\n",
    "            model_ft = finetune.initialize_model(_verbose=False)\n",
    "\n",
    "            model, hist, state = finetune.finetune_model(model_ft, checkpoint_save=10)\n",
    "\n",
    "            # Save the model after the last epoch\n",
    "            finetune.save_model(state)\n",
    "            del model_ft\n",
    "            del model\n",
    "            del hist\n",
    "            del state\n"
   ]
  },
  {
   "cell_type": "code",
   "execution_count": null,
   "metadata": {},
   "outputs": [],
   "source": [
    "# inception model doesn't work.\n",
    "# models = ['resnet', 'alexnet', 'densenet', 'squeezenet', 'vgg']\n",
    "#\n",
    "# for name in models:\n",
    "#     print('[TRAINING]:', name)\n",
    "# finetune.CLASSIFIER_NAME = name\n",
    "importlib.reload(finetune)\n",
    "\n",
    "for classifier_name in ['vgg']:\n",
    "    for occlusion_name in ['SOFTMAX']:\n",
    "        for dataset in finetune.DATASET_OPTIONS: # ['FGVC-Aircraft' , 'StanfordCars']\n",
    "            print('STARTING: model={} | dataset={} | occlusion={}'.format(classifier_name, dataset, occlusion_name))\n",
    "            finetune.CLASSIFIER_NAME = classifier_name\n",
    "            finetune.NUM_EPOCHS = 20\n",
    "            finetune.FEATURE_EXTRACT = False # default\n",
    "            finetune.DATASET = dataset  # [StanfordCars, FGVC-Aircraft]\n",
    "            finetune.OCCLUSION_NAME = occlusion_name\n",
    "            finetune.OPTIMIZER_NAME = 'adam' # default\n",
    "            # finetune.print_hypers() # shows params\n",
    "\n",
    "            # Initialize the model for this run\n",
    "            model_ft = finetune.initialize_model(_verbose=False)\n",
    "\n",
    "            model, hist, state = finetune.finetune_model(model_ft, checkpoint_save=10)\n",
    "\n",
    "            # Save the model after the last epoch\n",
    "            finetune.save_model(state)\n",
    "            del model_ft\n",
    "            del model\n",
    "            del hist\n",
    "            del state\n"
   ]
  },
  {
   "cell_type": "code",
   "execution_count": null,
   "metadata": {
    "collapsed": false,
    "jupyter": {
     "outputs_hidden": false
    },
    "pycharm": {
     "name": "#%%\n"
    }
   },
   "outputs": [],
   "source": [
    "model_save_path = finetune.format_model_path('resnet',\n",
    "                           'FGVC-Aircraft',\n",
    "                           30)\n",
    "\n",
    "checkpoint = finetune.load_checkpoint(model_save_path)\n",
    "\n",
    "train_acc_history, train_loss_history, val_acc_history = finetune.get_information_from_checkpoint(checkpoint, plot=True)*"
   ]
  },
  {
   "cell_type": "code",
   "execution_count": null,
   "metadata": {
    "collapsed": false,
    "jupyter": {
     "outputs_hidden": false
    },
    "pycharm": {
     "name": "#%%\n"
    }
   },
   "outputs": [],
   "source": [
    "optimizer_state_dict = checkpoint['optimizer_state_dict']\n",
    "finetune.NUM_EPOCHS = 10\n",
    "checkpoint_model = finetune.get_model_architecture('resnet')\n",
    "checkpoint_model.load_state_dict(checkpoint['model_state_dict'])\n",
    "\n",
    "test_model, hist, state = finetune.finetune_model(checkpoint_model,\n",
    "                                                  'adam',\n",
    "                                                  optimizer_state_dict=optimizer_state_dict,\n",
    "                                                  checkpoint_save=5,\n",
    "                                                  is_retrain=True)\n"
   ]
  },
  {
   "cell_type": "code",
   "execution_count": null,
   "metadata": {
    "collapsed": false,
    "jupyter": {
     "outputs_hidden": false
    },
    "pycharm": {
     "name": "#%%\n"
    }
   },
   "outputs": [],
   "source": [
    "finetune.save_model(state)"
   ]
  }
 ],
 "metadata": {
  "kernelspec": {
   "display_name": "Python",
   "language": "python",
   "name": "python3"
  },
  "language_info": {
   "codemirror_mode": {
    "name": "ipython",
    "version": 3
   },
   "file_extension": ".py",
   "mimetype": "text/x-python",
   "name": "python",
   "nbconvert_exporter": "python",
   "pygments_lexer": "ipython3",
   "version": "3.8.10"
  }
 },
 "nbformat": 4,
 "nbformat_minor": 4
}
