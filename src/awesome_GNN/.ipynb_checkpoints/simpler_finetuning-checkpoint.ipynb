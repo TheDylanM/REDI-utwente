{
 "cells": [
  {
   "cell_type": "code",
   "execution_count": 1,
   "metadata": {
    "collapsed": false,
    "jupyter": {
     "outputs_hidden": false
    },
    "pycharm": {
     "name": "#%%\n"
    }
   },
   "outputs": [],
   "source": [
    "%matplotlib inline\n",
    "# not sure if necessary"
   ]
  },
  {
   "cell_type": "code",
   "execution_count": 2,
   "metadata": {
    "collapsed": false,
    "jupyter": {
     "outputs_hidden": false
    },
    "pycharm": {
     "name": "#%%\n"
    }
   },
   "outputs": [],
   "source": [
    "import finetune\n",
    "import importlib\n",
    "import torch"
   ]
  },
  {
   "cell_type": "code",
   "execution_count": 3,
   "metadata": {
    "collapsed": false,
    "jupyter": {
     "outputs_hidden": false
    },
    "pycharm": {
     "name": "#%%\n"
    }
   },
   "outputs": [],
   "source": [
    "# run this cell when you change stuff in the finetune module, and don't want to restart the notebook's kernel.\n",
    "importlib.reload(finetune)\n",
    "finetune.structure_checkpoints()  # If this prints 'Cannot safely create ...', it means that the folder probably already exists"
   ]
  },
  {
   "cell_type": "code",
   "execution_count": null,
   "metadata": {
    "collapsed": false,
    "jupyter": {
     "outputs_hidden": false
    },
    "pycharm": {
     "is_executing": true,
     "name": "#%%\n"
    }
   },
   "outputs": [
    {
     "name": "stdout",
     "output_type": "stream",
     "text": [
      "STARTING: model=resnet | dataset=StanfordCars | occlusion=None\n"
     ]
    },
    {
     "name": "stderr",
     "output_type": "stream",
     "text": [
      "Epoch 0/19 train:   1%|▏         | 15/1018 [00:05<01:56,  8.60it/s, loss=5.4622, accuracy=0] "
     ]
    }
   ],
   "source": [
    "# inception model doesn't work.\n",
    "# models = ['resnet', 'alexnet', 'densenet', 'squeezenet', 'vgg']\n",
    "#\n",
    "# for name in models:\n",
    "#     print('[TRAINING]:', name)\n",
    "# finetune.CLASSIFIER_NAME = name\n",
    "importlib.reload(finetune)\n",
    "\n",
    "for classifier_name in ['resnet', 'densenet', 'vgg']:\n",
    "    for occlusion_name in finetune.OCCLUSION_OPTIONS:\n",
    "        for dataset in finetune.DATASET_OPTIONS: # ['FGVC-Aircraft' , 'StanfordCars']\n",
    "            print('STARTING: model={} | dataset={} | occlusion={}'.format(classifier_name, dataset, occlusion_name))\n",
    "            finetune.CLASSIFIER_NAME = classifier_name\n",
    "            finetune.NUM_EPOCHS = 20\n",
    "            finetune.FEATURE_EXTRACT = False # default\n",
    "            finetune.DATASET = dataset  # [StanfordCars, FGVC-Aircraft]\n",
    "            finetune.OCCLUSION_NAME = occlusion_name\n",
    "            finetune.OPTIMIZER_NAME = 'adam' # default\n",
    "            # finetune.print_hypers() # shows params\n",
    "\n",
    "            # Initialize the model for this run\n",
    "            model_ft = finetune.initialize_model(_verbose=False)\n",
    "\n",
    "            model, hist, state = finetune.finetune_model(model_ft, checkpoint_save=10)\n",
    "\n",
    "            # Save the model after the last epoch\n",
    "            finetune.save_model(state)\n",
    "            del model_ft\n",
    "            del model\n",
    "            del hist\n",
    "            del state\n"
   ]
  },
  {
   "cell_type": "code",
   "execution_count": null,
   "metadata": {
    "collapsed": false,
    "jupyter": {
     "outputs_hidden": false
    },
    "pycharm": {
     "name": "#%%\n"
    }
   },
   "outputs": [],
   "source": [
    "model_save_path = finetune.format_model_path('resnet',\n",
    "                           'FGVC-Aircraft',\n",
    "                           30)\n",
    "\n",
    "checkpoint = finetune.load_checkpoint(model_save_path)\n",
    "\n",
    "train_acc_history, train_loss_history, val_acc_history = finetune.get_information_from_checkpoint(checkpoint, plot=True)"
   ]
  },
  {
   "cell_type": "code",
   "execution_count": null,
   "metadata": {
    "collapsed": false,
    "jupyter": {
     "outputs_hidden": false
    },
    "pycharm": {
     "name": "#%%\n"
    }
   },
   "outputs": [],
   "source": [
    "optimizer_state_dict = checkpoint['optimizer_state_dict']\n",
    "finetune.NUM_EPOCHS = 10\n",
    "checkpoint_model = finetune.get_model_architecture('resnet')\n",
    "checkpoint_model.load_state_dict(checkpoint['model_state_dict'])\n",
    "\n",
    "test_model, hist, state = finetune.finetune_model(checkpoint_model,\n",
    "                                                  'adam',\n",
    "                                                  optimizer_state_dict=optimizer_state_dict,\n",
    "                                                  checkpoint_save=5,\n",
    "                                                  is_retrain=True)\n"
   ]
  },
  {
   "cell_type": "code",
   "execution_count": null,
   "metadata": {
    "collapsed": false,
    "jupyter": {
     "outputs_hidden": false
    },
    "pycharm": {
     "name": "#%%\n"
    }
   },
   "outputs": [],
   "source": [
    "finetune.save_model(state)"
   ]
  }
 ],
 "metadata": {
  "kernelspec": {
   "display_name": "Python",
   "language": "python",
   "name": "python3"
  },
  "language_info": {
   "codemirror_mode": {
    "name": "ipython",
    "version": 3
   },
   "file_extension": ".py",
   "mimetype": "text/x-python",
   "name": "python",
   "nbconvert_exporter": "python",
   "pygments_lexer": "ipython3",
   "version": "3.8.10"
  }
 },
 "nbformat": 4,
 "nbformat_minor": 4
}
