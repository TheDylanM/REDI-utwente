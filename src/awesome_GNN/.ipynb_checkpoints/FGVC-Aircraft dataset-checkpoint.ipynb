{
 "cells": [
  {
   "cell_type": "code",
   "execution_count": 1,
   "id": "4ec61990",
   "metadata": {},
   "outputs": [],
   "source": [
    "import torch\n",
    "from torch.utils.data import Dataset\n",
    "from torchvision import datasets\n",
    "from torchvision.transforms import ToTensor\n",
    "import matplotlib.pyplot as plt\n",
    "import scipy.io\n",
    "import numpy as np\n",
    "import os\n",
    "import shutil\n",
    "from tqdm import tqdm\n",
    "from PIL import Image"
   ]
  },
  {
   "cell_type": "code",
   "execution_count": 2,
   "id": "bc57e9b0",
   "metadata": {},
   "outputs": [],
   "source": [
    "%matplotlib inline"
   ]
  },
  {
   "cell_type": "markdown",
   "id": "0828895e",
   "metadata": {},
   "source": [
    "### Paths\n",
    "To use this notebooks correctly adjust the paths below to your corresponding directories:\n",
    "\n",
    "from `https://www.robots.ox.ac.uk/~vgg/data/fgvc-aircraft/` download the:\n",
    "- <b>data</b> (includes all training, testing and validation images)\n",
    "- <b>annotations</b> (annotations for the data)\n",
    "\n",
    "File structure you need to create must look like: \n",
    "```\n",
    "data\n",
    "│   \n",
    "└───FGVC-Aircraft\n",
    "    │\n",
    "    └───fgvc-aircraft-2013b\n",
    "    │   \n",
    "    └───fgvc-aircraft-2013b-annotations\n",
    "    \n",
    "```"
   ]
  },
  {
   "cell_type": "code",
   "execution_count": 3,
   "id": "1f559cd3",
   "metadata": {},
   "outputs": [],
   "source": [
    "global_path = '../../data/FGVC-Aircraft'\n",
    "dataset_path = global_path+'/fgvc-aircraft-2013b'\n",
    "annotations_path = global_path+'/fgvc-aircraft-2013b-annotations'"
   ]
  },
  {
   "cell_type": "code",
   "execution_count": 4,
   "id": "a0fe272f",
   "metadata": {},
   "outputs": [],
   "source": [
    "imgs_train_fnames_path = dataset_path+'/data/images_train.txt'\n",
    "imgs_test_fnames_path = dataset_path+'/data/images_test.txt'\n",
    "imgs_val_fnames_path = dataset_path+'/data/images_val.txt'\n",
    "\n",
    "imgs_path = dataset_path+'/data/images'"
   ]
  },
  {
   "cell_type": "code",
   "execution_count": 5,
   "id": "ee2bab91",
   "metadata": {},
   "outputs": [],
   "source": [
    "training_fnames = []\n",
    "testing_fnames = []\n",
    "validation_fnames = []\n",
    "\n",
    "# Loading training image file_names\n",
    "with open(imgs_train_fnames_path, 'r') as data_file:\n",
    "    for line in data_file:\n",
    "        training_fnames.append(line.split('\\n')[0])\n",
    "\n",
    "# Loading testing image file_names        \n",
    "with open(imgs_test_fnames_path, 'r') as data_file:\n",
    "    for line in data_file:\n",
    "        testing_fnames.append(line.split('\\n')[0])\n",
    "    \n",
    "# Loading validation image file_names        \n",
    "with open(imgs_val_fnames_path, 'r') as data_file:\n",
    "    for line in data_file:\n",
    "        validation_fnames.append(line.split('\\n')[0])"
   ]
  },
  {
   "cell_type": "code",
   "execution_count": 6,
   "id": "d35dbd21",
   "metadata": {
    "scrolled": true
   },
   "outputs": [
    {
     "name": "stdout",
     "output_type": "stream",
     "text": [
      "[Training imgs names] 1025794 3334\n",
      "[Testing imgs names] 1514522 3333\n",
      "[Validations img names] 0481847 3333\n"
     ]
    }
   ],
   "source": [
    "print(\"[Training imgs names]\", training_fnames[0], len(training_fnames))\n",
    "print(\"[Testing imgs names]\", testing_fnames[0], len(testing_fnames))\n",
    "print(\"[Validations img names]\", validation_fnames[0], len(validation_fnames))"
   ]
  },
  {
   "cell_type": "code",
   "execution_count": 7,
   "id": "9b30bc9e",
   "metadata": {},
   "outputs": [
    {
     "data": {
      "text/plain": [
       "('0034309', 10000)"
      ]
     },
     "execution_count": 7,
     "metadata": {},
     "output_type": "execute_result"
    }
   ],
   "source": [
    "imgs_names = [name[:-4] for name in os.listdir(imgs_path)] # Cuts off the extension '.jpg'\n",
    "imgs_names[0], len(imgs_names)"
   ]
  },
  {
   "cell_type": "code",
   "execution_count": 8,
   "id": "3d9e7aec",
   "metadata": {},
   "outputs": [],
   "source": [
    "# labels_map = {'train': {}, 'test': {}, 'val': {}}\n",
    "labels_map = {}\n",
    "stage_paths = [(annotations_path+'/data/images_manufacturer_train.txt', 'train'),\n",
    "               (annotations_path+'/data/images_manufacturer_test.txt', 'test'),\n",
    "               (annotations_path+'/data/images_manufacturer_val.txt', 'val')]\n",
    "\n",
    "# Loading alle image file_names with their classes\n",
    "for path, stage in stage_paths:\n",
    "    with open(path, 'r') as data_file:\n",
    "        for line in data_file:\n",
    "            x = line.split('\\n')[0]\n",
    "            fname = x[:7]\n",
    "            class_ = x[8::]\n",
    "            labels_map[fname] = class_\n",
    "\n",
    "labels = np.asarray(list(labels_map.values()))\n",
    "classes, distribution = np.unique(labels, return_counts=True)"
   ]
  },
  {
   "cell_type": "code",
   "execution_count": 42,
   "id": "1da94893",
   "metadata": {},
   "outputs": [],
   "source": [
    "# Create structure for loading into PyTorch Dataset model\n",
    "folder_name = 'pytorch_structured_dataset'\n",
    "folder_path = os.path.join(global_path, folder_name)\n",
    "def mkdir_if_not_exists(dirpath):\n",
    "    if not os.path.exists(dirpath):\n",
    "        os.mkdir(dirpath)\n",
    "\n",
    "mkdir_if_not_exists(folder_path)\n",
    "for subfolder_name in ['train', 'test', 'val']:\n",
    "    subfolder_path = os.path.join(folder_path, subfolder_name)\n",
    "    mkdir_if_not_exists(subfolder_path)\n",
    "    for class_ in classes:\n",
    "        mkdir_if_not_exists(os.path.join(subfolder_path, class_))"
   ]
  },
  {
   "cell_type": "code",
   "execution_count": 44,
   "id": "007a069a",
   "metadata": {},
   "outputs": [
    {
     "name": "stderr",
     "output_type": "stream",
     "text": [
      "100%|██████████| 3333/3333 [00:03<00:00, 994.04it/s] \n"
     ]
    }
   ],
   "source": [
    "# Copy all training and testing images into pytorch structure\n",
    "for file_names, stage in [[training_fnames, 'train'], [validation_fnames, 'val'], [testing_fnames, 'test']]:\n",
    "    for file_name in tqdm(file_names):\n",
    "        file_path = imgs_path+'/'+str(file_name)+'.jpg'\n",
    "        class_ = labels_map.get(file_name)\n",
    "        src = imgs_path+'/'+str(file_name)+'.jpg'\n",
    "        dst = os.path.join(global_path, folder_name, stage, class_, file_name+'.jpg')\n",
    "        shutil.copyfile(src, dst)"
   ]
  },
  {
   "cell_type": "code",
   "execution_count": 33,
   "id": "88bea9d1",
   "metadata": {},
   "outputs": [
    {
     "data": {
      "image/png": "[encoded data removed]",
      "text/plain": [
       "<Figure size 1152x576 with 1 Axes>"
      ]
     },
     "metadata": {
      "needs_background": "light"
     },
     "output_type": "display_data"
    }
   ],
   "source": [
    "plt.figure(figsize=(16, 8))\n",
    "plt.rcParams.update({'font.size': 10})\n",
    "plt.ylabel('Number of images', fontsize=12, labelpad=4)\n",
    "plt.xlabel('classes', fontsize=12, labelpad=4)\n",
    "plt.xticks(np.arange(len(classes)), classes, rotation=45, ha=\"right\")\n",
    "plt.yticks(np.arange(0, max(distribution), 250), fontsize=12)\n",
    "plt.bar(classes, distribution, width=0.4, align='center')\n",
    "\n",
    "plt.show()\n"
   ]
  },
  {
   "cell_type": "code",
   "execution_count": 13,
   "id": "22946d38",
   "metadata": {},
   "outputs": [
    {
     "name": "stdout",
     "output_type": "stream",
     "text": [
      "Sample count:\n",
      " training:   3334 \n",
      " testing:    3333 \n",
      " validation: 3333 \n",
      "\n"
     ]
    }
   ],
   "source": [
    "print(\"Sample count:\\n \\\n",
    "training:   {} \\n \\\n",
    "testing:    {} \\n \\\n",
    "validation: {} \\n\".format(len(training_fnames), len(testing_fnames), len(validation_fnames)))"
   ]
  },
  {
   "cell_type": "code",
   "execution_count": null,
   "id": "5bdc21a3",
   "metadata": {},
   "outputs": [],
   "source": []
  },
  {
   "cell_type": "code",
   "execution_count": null,
   "id": "754682da",
   "metadata": {},
   "outputs": [],
   "source": []
  },
  {
   "cell_type": "code",
   "execution_count": null,
   "id": "802f56fe",
   "metadata": {},
   "outputs": [],
   "source": []
  },
  {
   "cell_type": "code",
   "execution_count": null,
   "id": "7bf43364",
   "metadata": {},
   "outputs": [],
   "source": []
  }
 ],
 "metadata": {
  "kernelspec": {
   "display_name": "Python 3",
   "language": "python",
   "name": "python3"
  },
  "language_info": {
   "codemirror_mode": {
    "name": "ipython",
    "version": 3
   },
   "file_extension": ".py",
   "mimetype": "text/x-python",
   "name": "python",
   "nbconvert_exporter": "python",
   "pygments_lexer": "ipython3",
   "version": "3.8.5"
  }
 },
 "nbformat": 4,
 "nbformat_minor": 5
}
