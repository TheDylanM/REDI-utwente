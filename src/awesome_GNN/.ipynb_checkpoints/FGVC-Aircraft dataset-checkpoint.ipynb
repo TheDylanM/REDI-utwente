{
 "cells": [
  {
   "cell_type": "code",
   "execution_count": 4,
   "id": "7d40274b",
   "metadata": {},
   "outputs": [],
   "source": [
    "import torch\n",
    "from torch.utils.data import Dataset\n",
    "from torchvision import datasets\n",
    "from torchvision.transforms import ToTensor\n",
    "import matplotlib.pyplot as plt\n",
    "import scipy.io\n",
    "import numpy as np\n",
    "import os\n",
    "import shutil\n",
    "from tqdm import tqdm"
   ]
  },
  {
   "cell_type": "code",
   "execution_count": 7,
   "id": "f7fd5db6",
   "metadata": {},
   "outputs": [],
   "source": [
    "global_path = '../../data/FGVC-Aircraft'\n",
    "dataset_path = global_path+'/fgvc-aircraft-2013b'\n",
    "annotations_path = global_path+'/fgvc-aircraft-2013b-annotations'"
   ]
  },
  {
   "cell_type": "code",
   "execution_count": 8,
   "id": "1cbdf1b5",
   "metadata": {},
   "outputs": [
    {
     "data": {
      "text/plain": [
       "['vl_argparse.m',\n",
       " 'example_evaluation.m',\n",
       " 'vl_tpfp.m',\n",
       " 'vl_pr.m',\n",
       " 'README.html',\n",
       " 'README.md',\n",
       " 'evaluation.m',\n",
       " 'vl_roc.m',\n",
       " 'data']"
      ]
     },
     "execution_count": 8,
     "metadata": {},
     "output_type": "execute_result"
    }
   ],
   "source": [
    "os.listdir(annotations_path)"
   ]
  },
  {
   "cell_type": "code",
   "execution_count": null,
   "id": "0d5c033b",
   "metadata": {},
   "outputs": [],
   "source": []
  }
 ],
 "metadata": {
  "kernelspec": {
   "display_name": "Python 3 (ipykernel)",
   "language": "python",
   "name": "python3"
  },
  "language_info": {
   "codemirror_mode": {
    "name": "ipython",
    "version": 3
   },
   "file_extension": ".py",
   "mimetype": "text/x-python",
   "name": "python",
   "nbconvert_exporter": "python",
   "pygments_lexer": "ipython3",
   "version": "3.9.12"
  }
 },
 "nbformat": 4,
 "nbformat_minor": 5
}
