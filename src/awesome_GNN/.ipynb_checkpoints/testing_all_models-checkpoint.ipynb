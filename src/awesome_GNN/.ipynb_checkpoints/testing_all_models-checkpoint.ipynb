{
 "cells": [
  {
   "cell_type": "markdown",
   "metadata": {
    "pycharm": {
     "name": "#%% md\n"
    }
   },
   "source": [
    "# Testing setup for all models"
   ]
  },
  {
   "cell_type": "code",
   "execution_count": 2,
   "metadata": {
    "collapsed": false,
    "jupyter": {
     "outputs_hidden": false
    },
    "pycharm": {
     "name": "#%%\n"
    }
   },
   "outputs": [],
   "source": [
    "import torch\n",
    "import os\n",
    "import numpy as np\n",
    "import pandas as pd\n",
    "import finetune\n",
    "import importlib\n",
    "from tqdm import tqdm\n",
    "import matplotlib.pyplot as plt"
   ]
  },
  {
   "cell_type": "code",
   "execution_count": 4,
   "metadata": {
    "collapsed": false,
    "jupyter": {
     "outputs_hidden": false
    },
    "pycharm": {
     "name": "#%%\n"
    }
   },
   "outputs": [],
   "source": [
    "path_to_data = os.path.join('..', '..', 'data')\n",
    "path_to_models = os.path.join(path_to_data, 'finetuned_models')\n",
    "\n"
   ]
  },
  {
   "cell_type": "code",
   "execution_count": 5,
   "metadata": {
    "collapsed": false,
    "jupyter": {
     "outputs_hidden": false
    },
    "pycharm": {
     "is_executing": true,
     "name": "#%%\n"
    }
   },
   "outputs": [
    {
     "name": "stdout",
     "output_type": "stream",
     "text": [
      "name: vgg epochs: 10 occlusion: None dataset:   FGVC-Aircraft\n"
     ]
    },
    {
     "name": "stderr",
     "output_type": "stream",
     "text": [
      "100%|██████████| 417/417 [00:44<00:00,  9.32it/s]\n"
     ]
    },
    {
     "name": "stdout",
     "output_type": "stream",
     "text": [
      "Elapsed time: 44.78703594207764\n",
      "name: vgg epochs: 20 occlusion: None dataset:   FGVC-Aircraft\n"
     ]
    },
    {
     "name": "stderr",
     "output_type": "stream",
     "text": [
      "100%|██████████| 417/417 [00:40<00:00, 10.40it/s]\n"
     ]
    },
    {
     "name": "stdout",
     "output_type": "stream",
     "text": [
      "Elapsed time: 40.113308906555176\n",
      "name: vgg epochs: 10 occlusion: 0 dataset:   FGVC-Aircraft\n"
     ]
    },
    {
     "name": "stderr",
     "output_type": "stream",
     "text": [
      "100%|██████████| 417/417 [00:40<00:00, 10.41it/s]\n"
     ]
    },
    {
     "name": "stdout",
     "output_type": "stream",
     "text": [
      "Elapsed time: 40.072426080703735\n",
      "name: vgg epochs: 20 occlusion: 0 dataset:   FGVC-Aircraft\n"
     ]
    },
    {
     "name": "stderr",
     "output_type": "stream",
     "text": [
      "100%|██████████| 417/417 [00:40<00:00, 10.40it/s]\n"
     ]
    },
    {
     "name": "stdout",
     "output_type": "stream",
     "text": [
      "Elapsed time: 40.1345419883728\n",
      "name: vgg epochs: 10 occlusion: 1 dataset:   FGVC-Aircraft\n"
     ]
    },
    {
     "name": "stderr",
     "output_type": "stream",
     "text": [
      "100%|██████████| 417/417 [00:40<00:00, 10.42it/s]\n"
     ]
    },
    {
     "name": "stdout",
     "output_type": "stream",
     "text": [
      "Elapsed time: 40.05833554267883\n",
      "name: vgg epochs: 20 occlusion: 1 dataset:   FGVC-Aircraft\n"
     ]
    },
    {
     "name": "stderr",
     "output_type": "stream",
     "text": [
      "100%|██████████| 417/417 [00:39<00:00, 10.43it/s]\n"
     ]
    },
    {
     "name": "stdout",
     "output_type": "stream",
     "text": [
      "Elapsed time: 40.01061749458313\n",
      "name: vgg epochs: 10 occlusion: GAUSSIAN dataset:   FGVC-Aircraft\n"
     ]
    },
    {
     "name": "stderr",
     "output_type": "stream",
     "text": [
      "100%|██████████| 417/417 [00:40<00:00, 10.41it/s]\n"
     ]
    },
    {
     "name": "stdout",
     "output_type": "stream",
     "text": [
      "Elapsed time: 40.07712721824646\n",
      "name: vgg epochs: 20 occlusion: GAUSSIAN dataset:   FGVC-Aircraft\n"
     ]
    },
    {
     "name": "stderr",
     "output_type": "stream",
     "text": [
      "100%|██████████| 417/417 [00:39<00:00, 10.43it/s]\n"
     ]
    },
    {
     "name": "stdout",
     "output_type": "stream",
     "text": [
      "Elapsed time: 40.0182204246521\n",
      "name: vgg epochs: 10 occlusion: SOFTMAX dataset:   FGVC-Aircraft\n"
     ]
    },
    {
     "name": "stderr",
     "output_type": "stream",
     "text": [
      "100%|██████████| 417/417 [00:40<00:00, 10.42it/s]\n"
     ]
    },
    {
     "name": "stdout",
     "output_type": "stream",
     "text": [
      "Elapsed time: 40.04881739616394\n",
      "name: vgg epochs: 20 occlusion: SOFTMAX dataset:   FGVC-Aircraft\n"
     ]
    },
    {
     "name": "stderr",
     "output_type": "stream",
     "text": [
      "100%|██████████| 417/417 [00:40<00:00, 10.42it/s]\n"
     ]
    },
    {
     "name": "stdout",
     "output_type": "stream",
     "text": [
      "Elapsed time: 40.047186613082886\n",
      "name: densenet epochs: 10 occlusion: None dataset:   FGVC-Aircraft\n"
     ]
    },
    {
     "name": "stderr",
     "output_type": "stream",
     "text": [
      "100%|██████████| 417/417 [00:34<00:00, 12.26it/s]\n"
     ]
    },
    {
     "name": "stdout",
     "output_type": "stream",
     "text": [
      "Elapsed time: 34.0370512008667\n",
      "name: densenet epochs: 20 occlusion: None dataset:   FGVC-Aircraft\n"
     ]
    },
    {
     "name": "stderr",
     "output_type": "stream",
     "text": [
      "100%|██████████| 417/417 [00:33<00:00, 12.31it/s]\n"
     ]
    },
    {
     "name": "stdout",
     "output_type": "stream",
     "text": [
      "Elapsed time: 33.89554214477539\n",
      "name: densenet epochs: 10 occlusion: 0 dataset:   FGVC-Aircraft\n"
     ]
    },
    {
     "name": "stderr",
     "output_type": "stream",
     "text": [
      "100%|██████████| 417/417 [00:33<00:00, 12.34it/s]\n"
     ]
    },
    {
     "name": "stdout",
     "output_type": "stream",
     "text": [
      "Elapsed time: 33.828187704086304\n",
      "name: densenet epochs: 20 occlusion: 0 dataset:   FGVC-Aircraft\n"
     ]
    },
    {
     "name": "stderr",
     "output_type": "stream",
     "text": [
      "100%|██████████| 417/417 [00:33<00:00, 12.33it/s]\n"
     ]
    },
    {
     "name": "stdout",
     "output_type": "stream",
     "text": [
      "Elapsed time: 33.842036962509155\n",
      "name: densenet epochs: 10 occlusion: 1 dataset:   FGVC-Aircraft\n"
     ]
    },
    {
     "name": "stderr",
     "output_type": "stream",
     "text": [
      "100%|██████████| 417/417 [00:33<00:00, 12.31it/s]\n"
     ]
    },
    {
     "name": "stdout",
     "output_type": "stream",
     "text": [
      "Elapsed time: 33.90841364860535\n",
      "name: densenet epochs: 20 occlusion: 1 dataset:   FGVC-Aircraft\n"
     ]
    },
    {
     "name": "stderr",
     "output_type": "stream",
     "text": [
      "100%|██████████| 417/417 [00:33<00:00, 12.33it/s]\n"
     ]
    },
    {
     "name": "stdout",
     "output_type": "stream",
     "text": [
      "Elapsed time: 33.85730600357056\n",
      "name: densenet epochs: 10 occlusion: GAUSSIAN dataset:   FGVC-Aircraft\n"
     ]
    },
    {
     "name": "stderr",
     "output_type": "stream",
     "text": [
      "100%|██████████| 417/417 [00:33<00:00, 12.32it/s]\n"
     ]
    },
    {
     "name": "stdout",
     "output_type": "stream",
     "text": [
      "Elapsed time: 33.864110231399536\n",
      "name: densenet epochs: 20 occlusion: GAUSSIAN dataset:   FGVC-Aircraft\n"
     ]
    },
    {
     "name": "stderr",
     "output_type": "stream",
     "text": [
      "100%|██████████| 417/417 [00:33<00:00, 12.36it/s]\n"
     ]
    },
    {
     "name": "stdout",
     "output_type": "stream",
     "text": [
      "Elapsed time: 33.7704873085022\n",
      "name: densenet epochs: 10 occlusion: SOFTMAX dataset:   FGVC-Aircraft\n"
     ]
    },
    {
     "name": "stderr",
     "output_type": "stream",
     "text": [
      "100%|██████████| 417/417 [00:33<00:00, 12.32it/s]\n"
     ]
    },
    {
     "name": "stdout",
     "output_type": "stream",
     "text": [
      "Elapsed time: 33.882421016693115\n",
      "name: densenet epochs: 20 occlusion: SOFTMAX dataset:   FGVC-Aircraft\n"
     ]
    },
    {
     "name": "stderr",
     "output_type": "stream",
     "text": [
      "100%|██████████| 417/417 [00:33<00:00, 12.33it/s]\n"
     ]
    },
    {
     "name": "stdout",
     "output_type": "stream",
     "text": [
      "Elapsed time: 33.86302447319031\n",
      "name: resnet epochs: 10 occlusion: None dataset:   FGVC-Aircraft\n"
     ]
    },
    {
     "name": "stderr",
     "output_type": "stream",
     "text": [
      "100%|██████████| 417/417 [00:19<00:00, 21.89it/s]\n"
     ]
    },
    {
     "name": "stdout",
     "output_type": "stream",
     "text": [
      "Elapsed time: 19.082168102264404\n",
      "name: resnet epochs: 20 occlusion: None dataset:   FGVC-Aircraft\n"
     ]
    },
    {
     "name": "stderr",
     "output_type": "stream",
     "text": [
      "100%|██████████| 417/417 [00:19<00:00, 21.94it/s]\n"
     ]
    },
    {
     "name": "stdout",
     "output_type": "stream",
     "text": [
      "Elapsed time: 19.034958600997925\n",
      "name: resnet epochs: 10 occlusion: 0 dataset:   FGVC-Aircraft\n"
     ]
    },
    {
     "name": "stderr",
     "output_type": "stream",
     "text": [
      "100%|██████████| 417/417 [00:19<00:00, 21.93it/s]\n"
     ]
    },
    {
     "name": "stdout",
     "output_type": "stream",
     "text": [
      "Elapsed time: 19.041351556777954\n",
      "name: resnet epochs: 20 occlusion: 0 dataset:   FGVC-Aircraft\n"
     ]
    },
    {
     "name": "stderr",
     "output_type": "stream",
     "text": [
      "100%|██████████| 417/417 [00:19<00:00, 21.69it/s]\n"
     ]
    },
    {
     "name": "stdout",
     "output_type": "stream",
     "text": [
      "Elapsed time: 19.254438400268555\n",
      "name: resnet epochs: 10 occlusion: 1 dataset:   FGVC-Aircraft\n"
     ]
    },
    {
     "name": "stderr",
     "output_type": "stream",
     "text": [
      "100%|██████████| 417/417 [00:19<00:00, 21.71it/s]\n"
     ]
    },
    {
     "name": "stdout",
     "output_type": "stream",
     "text": [
      "Elapsed time: 19.239051580429077\n",
      "name: resnet epochs: 20 occlusion: 1 dataset:   FGVC-Aircraft\n"
     ]
    },
    {
     "name": "stderr",
     "output_type": "stream",
     "text": [
      "100%|██████████| 417/417 [00:19<00:00, 21.77it/s]\n"
     ]
    },
    {
     "name": "stdout",
     "output_type": "stream",
     "text": [
      "Elapsed time: 19.18480896949768\n",
      "name: resnet epochs: 10 occlusion: GAUSSIAN dataset:   FGVC-Aircraft\n"
     ]
    },
    {
     "name": "stderr",
     "output_type": "stream",
     "text": [
      "100%|██████████| 417/417 [00:19<00:00, 21.90it/s]\n"
     ]
    },
    {
     "name": "stdout",
     "output_type": "stream",
     "text": [
      "Elapsed time: 19.07284641265869\n",
      "name: resnet epochs: 20 occlusion: GAUSSIAN dataset:   FGVC-Aircraft\n"
     ]
    },
    {
     "name": "stderr",
     "output_type": "stream",
     "text": [
      "100%|██████████| 417/417 [00:19<00:00, 21.91it/s]\n"
     ]
    },
    {
     "name": "stdout",
     "output_type": "stream",
     "text": [
      "Elapsed time: 19.0647292137146\n",
      "name: resnet epochs: 10 occlusion: SOFTMAX dataset:   FGVC-Aircraft\n"
     ]
    },
    {
     "name": "stderr",
     "output_type": "stream",
     "text": [
      "100%|██████████| 417/417 [00:19<00:00, 21.87it/s]\n"
     ]
    },
    {
     "name": "stdout",
     "output_type": "stream",
     "text": [
      "Elapsed time: 19.09602117538452\n",
      "name: resnet epochs: 20 occlusion: SOFTMAX dataset:   FGVC-Aircraft\n"
     ]
    },
    {
     "name": "stderr",
     "output_type": "stream",
     "text": [
      "100%|██████████| 417/417 [00:19<00:00, 21.90it/s]"
     ]
    },
    {
     "name": "stdout",
     "output_type": "stream",
     "text": [
      "Elapsed time: 19.070406436920166\n"
     ]
    },
    {
     "name": "stderr",
     "output_type": "stream",
     "text": [
      "\n"
     ]
    }
   ],
   "source": [
    "importlib.reload(finetune)\n",
    "\n",
    "datasets = finetune.DATASET_OPTIONS\n",
    "model_names = ['resnet', 'densenet', 'vgg']\n",
    "# model_names = reversed(model_names)\n",
    "\n",
    "\n",
    "total_results = {}\n",
    "for model_name in model_names:\n",
    "    for occlusion in finetune.OCCLUSION_OPTIONS:\n",
    "        for dataset in datasets:\n",
    "            finetune.OCCLUSION_NAME = occlusion\n",
    "            finetune.DATASET = dataset\n",
    "            finetune.CLASSIFIER_NAME = model_name\n",
    "            for e in [10, 20]: # 10, 20, 30, 40, 50\n",
    "                load_path = finetune.format_model_path(model_name, dataset, e)\n",
    "\n",
    "                metrics = finetune.test_model(load_path, _verbose=True)\n",
    "                metrics['dataset'] = dataset\n",
    "\n",
    "                # This line is just for windows\n",
    "                load_path = load_path.replace('\\\\', '/')\n",
    "                file_name = load_path.split('/')[-1].replace('.pth', '')\n",
    "\n",
    "                total_results[file_name] = metrics"
   ]
  },
  {
   "cell_type": "code",
   "execution_count": 6,
   "metadata": {
    "collapsed": false,
    "jupyter": {
     "outputs_hidden": false
    },
    "pycharm": {
     "name": "#%%\n"
    }
   },
   "outputs": [
    {
     "name": "stdout",
     "output_type": "stream",
     "text": [
      "dict_keys(['vgg_FGVC-Aircraft_E10', 'vgg_FGVC-Aircraft_E20', 'vgg_FGVC-Aircraft_E10_occ0', 'vgg_FGVC-Aircraft_E20_occ0', 'vgg_FGVC-Aircraft_E10_occ1', 'vgg_FGVC-Aircraft_E20_occ1', 'vgg_FGVC-Aircraft_E10_occGAUSSIAN', 'vgg_FGVC-Aircraft_E20_occGAUSSIAN', 'vgg_FGVC-Aircraft_E10_occSOFTMAX', 'vgg_FGVC-Aircraft_E20_occSOFTMAX', 'densenet_FGVC-Aircraft_E10', 'densenet_FGVC-Aircraft_E20', 'densenet_FGVC-Aircraft_E10_occ0', 'densenet_FGVC-Aircraft_E20_occ0', 'densenet_FGVC-Aircraft_E10_occ1', 'densenet_FGVC-Aircraft_E20_occ1', 'densenet_FGVC-Aircraft_E10_occGAUSSIAN', 'densenet_FGVC-Aircraft_E20_occGAUSSIAN', 'densenet_FGVC-Aircraft_E10_occSOFTMAX', 'densenet_FGVC-Aircraft_E20_occSOFTMAX', 'resnet_FGVC-Aircraft_E10', 'resnet_FGVC-Aircraft_E20', 'resnet_FGVC-Aircraft_E10_occ0', 'resnet_FGVC-Aircraft_E20_occ0', 'resnet_FGVC-Aircraft_E10_occ1', 'resnet_FGVC-Aircraft_E20_occ1', 'resnet_FGVC-Aircraft_E10_occGAUSSIAN', 'resnet_FGVC-Aircraft_E20_occGAUSSIAN', 'resnet_FGVC-Aircraft_E10_occSOFTMAX', 'resnet_FGVC-Aircraft_E20_occSOFTMAX'])\n",
      "[dict_keys(['accuracy', 'precision', 'recall', 'f1', 'total_predicted', 'total_labels', 'dataset']), dict_keys(['accuracy', 'precision', 'recall', 'f1', 'total_predicted', 'total_labels', 'dataset']), dict_keys(['accuracy', 'precision', 'recall', 'f1', 'total_predicted', 'total_labels', 'dataset']), dict_keys(['accuracy', 'precision', 'recall', 'f1', 'total_predicted', 'total_labels', 'dataset']), dict_keys(['accuracy', 'precision', 'recall', 'f1', 'total_predicted', 'total_labels', 'dataset']), dict_keys(['accuracy', 'precision', 'recall', 'f1', 'total_predicted', 'total_labels', 'dataset']), dict_keys(['accuracy', 'precision', 'recall', 'f1', 'total_predicted', 'total_labels', 'dataset']), dict_keys(['accuracy', 'precision', 'recall', 'f1', 'total_predicted', 'total_labels', 'dataset']), dict_keys(['accuracy', 'precision', 'recall', 'f1', 'total_predicted', 'total_labels', 'dataset']), dict_keys(['accuracy', 'precision', 'recall', 'f1', 'total_predicted', 'total_labels', 'dataset']), dict_keys(['accuracy', 'precision', 'recall', 'f1', 'total_predicted', 'total_labels', 'dataset']), dict_keys(['accuracy', 'precision', 'recall', 'f1', 'total_predicted', 'total_labels', 'dataset']), dict_keys(['accuracy', 'precision', 'recall', 'f1', 'total_predicted', 'total_labels', 'dataset']), dict_keys(['accuracy', 'precision', 'recall', 'f1', 'total_predicted', 'total_labels', 'dataset']), dict_keys(['accuracy', 'precision', 'recall', 'f1', 'total_predicted', 'total_labels', 'dataset']), dict_keys(['accuracy', 'precision', 'recall', 'f1', 'total_predicted', 'total_labels', 'dataset']), dict_keys(['accuracy', 'precision', 'recall', 'f1', 'total_predicted', 'total_labels', 'dataset']), dict_keys(['accuracy', 'precision', 'recall', 'f1', 'total_predicted', 'total_labels', 'dataset']), dict_keys(['accuracy', 'precision', 'recall', 'f1', 'total_predicted', 'total_labels', 'dataset']), dict_keys(['accuracy', 'precision', 'recall', 'f1', 'total_predicted', 'total_labels', 'dataset']), dict_keys(['accuracy', 'precision', 'recall', 'f1', 'total_predicted', 'total_labels', 'dataset']), dict_keys(['accuracy', 'precision', 'recall', 'f1', 'total_predicted', 'total_labels', 'dataset']), dict_keys(['accuracy', 'precision', 'recall', 'f1', 'total_predicted', 'total_labels', 'dataset']), dict_keys(['accuracy', 'precision', 'recall', 'f1', 'total_predicted', 'total_labels', 'dataset']), dict_keys(['accuracy', 'precision', 'recall', 'f1', 'total_predicted', 'total_labels', 'dataset']), dict_keys(['accuracy', 'precision', 'recall', 'f1', 'total_predicted', 'total_labels', 'dataset']), dict_keys(['accuracy', 'precision', 'recall', 'f1', 'total_predicted', 'total_labels', 'dataset']), dict_keys(['accuracy', 'precision', 'recall', 'f1', 'total_predicted', 'total_labels', 'dataset']), dict_keys(['accuracy', 'precision', 'recall', 'f1', 'total_predicted', 'total_labels', 'dataset']), dict_keys(['accuracy', 'precision', 'recall', 'f1', 'total_predicted', 'total_labels', 'dataset'])]\n"
     ]
    },
    {
     "data": {
      "text/html": [
       "<div>\n",
       "<style scoped>\n",
       "    .dataframe tbody tr th:only-of-type {\n",
       "        vertical-align: middle;\n",
       "    }\n",
       "\n",
       "    .dataframe tbody tr th {\n",
       "        vertical-align: top;\n",
       "    }\n",
       "\n",
       "    .dataframe thead th {\n",
       "        text-align: right;\n",
       "    }\n",
       "</style>\n",
       "<table border=\"1\" class=\"dataframe\">\n",
       "  <thead>\n",
       "    <tr style=\"text-align: right;\">\n",
       "      <th></th>\n",
       "      <th>accuracy</th>\n",
       "      <th>precision</th>\n",
       "      <th>recall</th>\n",
       "      <th>f1</th>\n",
       "      <th>total_predicted</th>\n",
       "      <th>total_labels</th>\n",
       "      <th>dataset</th>\n",
       "    </tr>\n",
       "  </thead>\n",
       "  <tbody>\n",
       "    <tr>\n",
       "      <th>vgg_FGVC-Aircraft_E10</th>\n",
       "      <td>0.627063</td>\n",
       "      <td>0.663375</td>\n",
       "      <td>0.627063</td>\n",
       "      <td>0.622358</td>\n",
       "      <td>[90.0, 80.0, 2.0, 60.0, 10.0, 24.0, 74.0, 14.0...</td>\n",
       "      <td>[90.0, 81.0, 2.0, 61.0, 0.0, 23.0, 74.0, 14.0,...</td>\n",
       "      <td>FGVC-Aircraft</td>\n",
       "    </tr>\n",
       "    <tr>\n",
       "      <th>vgg_FGVC-Aircraft_E20</th>\n",
       "      <td>0.645365</td>\n",
       "      <td>0.672274</td>\n",
       "      <td>0.645365</td>\n",
       "      <td>0.641089</td>\n",
       "      <td>[59.0, 17.0, 38.0, 19.0, 58.0, 53.0, 19.0, 17....</td>\n",
       "      <td>[59.0, 16.0, 38.0, 21.0, 58.0, 53.0, 19.0, 2.0...</td>\n",
       "      <td>FGVC-Aircraft</td>\n",
       "    </tr>\n",
       "    <tr>\n",
       "      <th>vgg_FGVC-Aircraft_E10_occ0</th>\n",
       "      <td>0.545755</td>\n",
       "      <td>0.593101</td>\n",
       "      <td>0.545755</td>\n",
       "      <td>0.530509</td>\n",
       "      <td>[72.0, 70.0, 47.0, 11.0, 22.0, 43.0, 10.0, 86....</td>\n",
       "      <td>[72.0, 75.0, 47.0, 10.0, 19.0, 53.0, 55.0, 86....</td>\n",
       "      <td>FGVC-Aircraft</td>\n",
       "    </tr>\n",
       "    <tr>\n",
       "      <th>vgg_FGVC-Aircraft_E20_occ0</th>\n",
       "      <td>0.585659</td>\n",
       "      <td>0.638190</td>\n",
       "      <td>0.585659</td>\n",
       "      <td>0.587687</td>\n",
       "      <td>[36.0, 5.0, 61.0, 35.0, 86.0, 74.0, 46.0, 16.0...</td>\n",
       "      <td>[36.0, 5.0, 61.0, 45.0, 86.0, 74.0, 45.0, 16.0...</td>\n",
       "      <td>FGVC-Aircraft</td>\n",
       "    </tr>\n",
       "    <tr>\n",
       "      <th>vgg_FGVC-Aircraft_E10_occ1</th>\n",
       "      <td>0.587459</td>\n",
       "      <td>0.638985</td>\n",
       "      <td>0.587459</td>\n",
       "      <td>0.577315</td>\n",
       "      <td>[41.0, 82.0, 3.0, 90.0, 8.0, 41.0, 90.0, 72.0,...</td>\n",
       "      <td>[76.0, 82.0, 4.0, 90.0, 9.0, 56.0, 90.0, 72.0,...</td>\n",
       "      <td>FGVC-Aircraft</td>\n",
       "    </tr>\n",
       "    <tr>\n",
       "      <th>vgg_FGVC-Aircraft_E20_occ1</th>\n",
       "      <td>0.620462</td>\n",
       "      <td>0.660228</td>\n",
       "      <td>0.620462</td>\n",
       "      <td>0.621440</td>\n",
       "      <td>[76.0, 8.0, 32.0, 4.0, 92.0, 10.0, 93.0, 70.0,...</td>\n",
       "      <td>[76.0, 63.0, 32.0, 8.0, 92.0, 10.0, 93.0, 69.0...</td>\n",
       "      <td>FGVC-Aircraft</td>\n",
       "    </tr>\n",
       "    <tr>\n",
       "      <th>vgg_FGVC-Aircraft_E10_occGAUSSIAN</th>\n",
       "      <td>0.575758</td>\n",
       "      <td>0.629434</td>\n",
       "      <td>0.575758</td>\n",
       "      <td>0.567029</td>\n",
       "      <td>[33.0, 94.0, 60.0, 10.0, 11.0, 72.0, 20.0, 16....</td>\n",
       "      <td>[11.0, 94.0, 60.0, 0.0, 10.0, 72.0, 18.0, 16.0...</td>\n",
       "      <td>FGVC-Aircraft</td>\n",
       "    </tr>\n",
       "    <tr>\n",
       "      <th>vgg_FGVC-Aircraft_E20_occGAUSSIAN</th>\n",
       "      <td>0.612661</td>\n",
       "      <td>0.649770</td>\n",
       "      <td>0.612661</td>\n",
       "      <td>0.608542</td>\n",
       "      <td>[85.0, 44.0, 53.0, 77.0, 80.0, 13.0, 52.0, 85....</td>\n",
       "      <td>[85.0, 44.0, 54.0, 77.0, 80.0, 11.0, 22.0, 85....</td>\n",
       "      <td>FGVC-Aircraft</td>\n",
       "    </tr>\n",
       "    <tr>\n",
       "      <th>vgg_FGVC-Aircraft_E10_occSOFTMAX</th>\n",
       "      <td>0.566457</td>\n",
       "      <td>0.592105</td>\n",
       "      <td>0.566457</td>\n",
       "      <td>0.555110</td>\n",
       "      <td>[44.0, 86.0, 89.0, 94.0, 1.0, 74.0, 78.0, 50.0...</td>\n",
       "      <td>[46.0, 86.0, 89.0, 94.0, 45.0, 74.0, 78.0, 50....</td>\n",
       "      <td>FGVC-Aircraft</td>\n",
       "    </tr>\n",
       "    <tr>\n",
       "      <th>vgg_FGVC-Aircraft_E20_occSOFTMAX</th>\n",
       "      <td>0.611761</td>\n",
       "      <td>0.649875</td>\n",
       "      <td>0.611761</td>\n",
       "      <td>0.610242</td>\n",
       "      <td>[57.0, 16.0, 24.0, 76.0, 33.0, 82.0, 33.0, 21....</td>\n",
       "      <td>[57.0, 22.0, 23.0, 76.0, 33.0, 82.0, 38.0, 21....</td>\n",
       "      <td>FGVC-Aircraft</td>\n",
       "    </tr>\n",
       "    <tr>\n",
       "      <th>densenet_FGVC-Aircraft_E10</th>\n",
       "      <td>0.699370</td>\n",
       "      <td>0.717025</td>\n",
       "      <td>0.699370</td>\n",
       "      <td>0.693754</td>\n",
       "      <td>[8.0, 74.0, 60.0, 40.0, 34.0, 15.0, 47.0, 73.0...</td>\n",
       "      <td>[8.0, 74.0, 61.0, 40.0, 34.0, 15.0, 47.0, 73.0...</td>\n",
       "      <td>FGVC-Aircraft</td>\n",
       "    </tr>\n",
       "    <tr>\n",
       "      <th>densenet_FGVC-Aircraft_E20</th>\n",
       "      <td>0.714971</td>\n",
       "      <td>0.728882</td>\n",
       "      <td>0.714971</td>\n",
       "      <td>0.712943</td>\n",
       "      <td>[39.0, 92.0, 59.0, 43.0, 71.0, 38.0, 1.0, 79.0...</td>\n",
       "      <td>[39.0, 92.0, 59.0, 53.0, 71.0, 38.0, 17.0, 79....</td>\n",
       "      <td>FGVC-Aircraft</td>\n",
       "    </tr>\n",
       "    <tr>\n",
       "      <th>densenet_FGVC-Aircraft_E10_occ0</th>\n",
       "      <td>0.367837</td>\n",
       "      <td>0.393653</td>\n",
       "      <td>0.367837</td>\n",
       "      <td>0.340477</td>\n",
       "      <td>[16.0, 76.0, 63.0, 87.0, 88.0, 49.0, 34.0, 9.0...</td>\n",
       "      <td>[16.0, 4.0, 63.0, 87.0, 15.0, 50.0, 31.0, 56.0...</td>\n",
       "      <td>FGVC-Aircraft</td>\n",
       "    </tr>\n",
       "    <tr>\n",
       "      <th>densenet_FGVC-Aircraft_E20_occ0</th>\n",
       "      <td>0.486049</td>\n",
       "      <td>0.555013</td>\n",
       "      <td>0.486049</td>\n",
       "      <td>0.486293</td>\n",
       "      <td>[82.0, 28.0, 8.0, 27.0, 34.0, 18.0, 7.0, 37.0,...</td>\n",
       "      <td>[82.0, 31.0, 4.0, 27.0, 34.0, 18.0, 3.0, 37.0,...</td>\n",
       "      <td>FGVC-Aircraft</td>\n",
       "    </tr>\n",
       "    <tr>\n",
       "      <th>densenet_FGVC-Aircraft_E10_occ1</th>\n",
       "      <td>0.476448</td>\n",
       "      <td>0.527821</td>\n",
       "      <td>0.476448</td>\n",
       "      <td>0.462162</td>\n",
       "      <td>[72.0, 90.0, 79.0, 21.0, 47.0, 76.0, 72.0, 0.0...</td>\n",
       "      <td>[72.0, 49.0, 79.0, 14.0, 92.0, 56.0, 72.0, 11....</td>\n",
       "      <td>FGVC-Aircraft</td>\n",
       "    </tr>\n",
       "    <tr>\n",
       "      <th>densenet_FGVC-Aircraft_E20_occ1</th>\n",
       "      <td>0.594659</td>\n",
       "      <td>0.632057</td>\n",
       "      <td>0.594659</td>\n",
       "      <td>0.586014</td>\n",
       "      <td>[96.0, 47.0, 70.0, 20.0, 37.0, 6.0, 61.0, 35.0...</td>\n",
       "      <td>[42.0, 58.0, 69.0, 67.0, 37.0, 6.0, 61.0, 35.0...</td>\n",
       "      <td>FGVC-Aircraft</td>\n",
       "    </tr>\n",
       "    <tr>\n",
       "      <th>densenet_FGVC-Aircraft_E10_occGAUSSIAN</th>\n",
       "      <td>0.351035</td>\n",
       "      <td>0.423080</td>\n",
       "      <td>0.351035</td>\n",
       "      <td>0.327320</td>\n",
       "      <td>[72.0, 29.0, 53.0, 84.0, 22.0, 87.0, 62.0, 14....</td>\n",
       "      <td>[71.0, 32.0, 53.0, 10.0, 22.0, 8.0, 58.0, 84.0...</td>\n",
       "      <td>FGVC-Aircraft</td>\n",
       "    </tr>\n",
       "    <tr>\n",
       "      <th>densenet_FGVC-Aircraft_E20_occGAUSSIAN</th>\n",
       "      <td>0.539754</td>\n",
       "      <td>0.577277</td>\n",
       "      <td>0.539754</td>\n",
       "      <td>0.525510</td>\n",
       "      <td>[23.0, 41.0, 68.0, 79.0, 41.0, 38.0, 18.0, 26....</td>\n",
       "      <td>[23.0, 1.0, 68.0, 79.0, 76.0, 50.0, 18.0, 27.0...</td>\n",
       "      <td>FGVC-Aircraft</td>\n",
       "    </tr>\n",
       "    <tr>\n",
       "      <th>densenet_FGVC-Aircraft_E10_occSOFTMAX</th>\n",
       "      <td>0.374737</td>\n",
       "      <td>0.426811</td>\n",
       "      <td>0.374737</td>\n",
       "      <td>0.348498</td>\n",
       "      <td>[24.0, 22.0, 96.0, 0.0, 37.0, 1.0, 60.0, 87.0,...</td>\n",
       "      <td>[3.0, 22.0, 96.0, 52.0, 38.0, 98.0, 42.0, 76.0...</td>\n",
       "      <td>FGVC-Aircraft</td>\n",
       "    </tr>\n",
       "    <tr>\n",
       "      <th>densenet_FGVC-Aircraft_E20_occSOFTMAX</th>\n",
       "      <td>0.517852</td>\n",
       "      <td>0.556911</td>\n",
       "      <td>0.517852</td>\n",
       "      <td>0.500786</td>\n",
       "      <td>[52.0, 89.0, 56.0, 33.0, 48.0, 8.0, 69.0, 8.0,...</td>\n",
       "      <td>[17.0, 89.0, 56.0, 33.0, 48.0, 4.0, 68.0, 8.0,...</td>\n",
       "      <td>FGVC-Aircraft</td>\n",
       "    </tr>\n",
       "    <tr>\n",
       "      <th>resnet_FGVC-Aircraft_E10</th>\n",
       "      <td>0.629763</td>\n",
       "      <td>0.654519</td>\n",
       "      <td>0.629763</td>\n",
       "      <td>0.628464</td>\n",
       "      <td>[24.0, 26.0, 94.0, 36.0, 82.0, 70.0, 27.0, 37....</td>\n",
       "      <td>[6.0, 62.0, 94.0, 36.0, 82.0, 70.0, 14.0, 37.0...</td>\n",
       "      <td>FGVC-Aircraft</td>\n",
       "    </tr>\n",
       "    <tr>\n",
       "      <th>resnet_FGVC-Aircraft_E20</th>\n",
       "      <td>0.629763</td>\n",
       "      <td>0.654519</td>\n",
       "      <td>0.629763</td>\n",
       "      <td>0.628464</td>\n",
       "      <td>[4.0, 74.0, 42.0, 95.0, 79.0, 79.0, 20.0, 28.0...</td>\n",
       "      <td>[7.0, 74.0, 42.0, 95.0, 28.0, 79.0, 67.0, 27.0...</td>\n",
       "      <td>FGVC-Aircraft</td>\n",
       "    </tr>\n",
       "    <tr>\n",
       "      <th>resnet_FGVC-Aircraft_E10_occ0</th>\n",
       "      <td>0.264626</td>\n",
       "      <td>0.289833</td>\n",
       "      <td>0.264626</td>\n",
       "      <td>0.229932</td>\n",
       "      <td>[32.0, 15.0, 97.0, 66.0, 80.0, 83.0, 87.0, 12....</td>\n",
       "      <td>[32.0, 18.0, 68.0, 66.0, 50.0, 83.0, 76.0, 12....</td>\n",
       "      <td>FGVC-Aircraft</td>\n",
       "    </tr>\n",
       "    <tr>\n",
       "      <th>resnet_FGVC-Aircraft_E20_occ0</th>\n",
       "      <td>0.450945</td>\n",
       "      <td>0.498313</td>\n",
       "      <td>0.450945</td>\n",
       "      <td>0.438790</td>\n",
       "      <td>[58.0, 48.0, 34.0, 52.0, 58.0, 67.0, 92.0, 13....</td>\n",
       "      <td>[82.0, 14.0, 34.0, 2.0, 61.0, 67.0, 92.0, 13.0...</td>\n",
       "      <td>FGVC-Aircraft</td>\n",
       "    </tr>\n",
       "    <tr>\n",
       "      <th>resnet_FGVC-Aircraft_E10_occ1</th>\n",
       "      <td>0.418842</td>\n",
       "      <td>0.465311</td>\n",
       "      <td>0.418842</td>\n",
       "      <td>0.394264</td>\n",
       "      <td>[37.0, 64.0, 39.0, 65.0, 29.0, 34.0, 83.0, 29....</td>\n",
       "      <td>[37.0, 99.0, 39.0, 65.0, 31.0, 93.0, 83.0, 11....</td>\n",
       "      <td>FGVC-Aircraft</td>\n",
       "    </tr>\n",
       "    <tr>\n",
       "      <th>resnet_FGVC-Aircraft_E20_occ1</th>\n",
       "      <td>0.517552</td>\n",
       "      <td>0.564293</td>\n",
       "      <td>0.517552</td>\n",
       "      <td>0.513290</td>\n",
       "      <td>[19.0, 46.0, 67.0, 52.0, 6.0, 82.0, 50.0, 62.0...</td>\n",
       "      <td>[19.0, 97.0, 67.0, 52.0, 6.0, 82.0, 49.0, 62.0...</td>\n",
       "      <td>FGVC-Aircraft</td>\n",
       "    </tr>\n",
       "    <tr>\n",
       "      <th>resnet_FGVC-Aircraft_E10_occGAUSSIAN</th>\n",
       "      <td>0.383438</td>\n",
       "      <td>0.418025</td>\n",
       "      <td>0.383438</td>\n",
       "      <td>0.360389</td>\n",
       "      <td>[81.0, 30.0, 22.0, 80.0, 83.0, 56.0, 54.0, 70....</td>\n",
       "      <td>[80.0, 6.0, 84.0, 81.0, 72.0, 56.0, 63.0, 70.0...</td>\n",
       "      <td>FGVC-Aircraft</td>\n",
       "    </tr>\n",
       "    <tr>\n",
       "      <th>resnet_FGVC-Aircraft_E20_occGAUSSIAN</th>\n",
       "      <td>0.511551</td>\n",
       "      <td>0.552724</td>\n",
       "      <td>0.511551</td>\n",
       "      <td>0.507977</td>\n",
       "      <td>[54.0, 6.0, 63.0, 65.0, 18.0, 22.0, 61.0, 8.0,...</td>\n",
       "      <td>[10.0, 6.0, 67.0, 65.0, 27.0, 31.0, 61.0, 8.0,...</td>\n",
       "      <td>FGVC-Aircraft</td>\n",
       "    </tr>\n",
       "    <tr>\n",
       "      <th>resnet_FGVC-Aircraft_E10_occSOFTMAX</th>\n",
       "      <td>0.432643</td>\n",
       "      <td>0.488060</td>\n",
       "      <td>0.432643</td>\n",
       "      <td>0.415070</td>\n",
       "      <td>[89.0, 1.0, 9.0, 81.0, 6.0, 59.0, 3.0, 13.0, 8...</td>\n",
       "      <td>[90.0, 1.0, 9.0, 81.0, 8.0, 59.0, 3.0, 11.0, 8...</td>\n",
       "      <td>FGVC-Aircraft</td>\n",
       "    </tr>\n",
       "    <tr>\n",
       "      <th>resnet_FGVC-Aircraft_E20_occSOFTMAX</th>\n",
       "      <td>0.526253</td>\n",
       "      <td>0.560953</td>\n",
       "      <td>0.526253</td>\n",
       "      <td>0.517071</td>\n",
       "      <td>[96.0, 92.0, 49.0, 63.0, 78.0, 79.0, 61.0, 66....</td>\n",
       "      <td>[96.0, 92.0, 39.0, 60.0, 99.0, 97.0, 77.0, 65....</td>\n",
       "      <td>FGVC-Aircraft</td>\n",
       "    </tr>\n",
       "  </tbody>\n",
       "</table>\n",
       "</div>"
      ],
      "text/plain": [
       "                                        accuracy  precision    recall  \\\n",
       "vgg_FGVC-Aircraft_E10                   0.627063   0.663375  0.627063   \n",
       "vgg_FGVC-Aircraft_E20                   0.645365   0.672274  0.645365   \n",
       "vgg_FGVC-Aircraft_E10_occ0              0.545755   0.593101  0.545755   \n",
       "vgg_FGVC-Aircraft_E20_occ0              0.585659   0.638190  0.585659   \n",
       "vgg_FGVC-Aircraft_E10_occ1              0.587459   0.638985  0.587459   \n",
       "vgg_FGVC-Aircraft_E20_occ1              0.620462   0.660228  0.620462   \n",
       "vgg_FGVC-Aircraft_E10_occGAUSSIAN       0.575758   0.629434  0.575758   \n",
       "vgg_FGVC-Aircraft_E20_occGAUSSIAN       0.612661   0.649770  0.612661   \n",
       "vgg_FGVC-Aircraft_E10_occSOFTMAX        0.566457   0.592105  0.566457   \n",
       "vgg_FGVC-Aircraft_E20_occSOFTMAX        0.611761   0.649875  0.611761   \n",
       "densenet_FGVC-Aircraft_E10              0.699370   0.717025  0.699370   \n",
       "densenet_FGVC-Aircraft_E20              0.714971   0.728882  0.714971   \n",
       "densenet_FGVC-Aircraft_E10_occ0         0.367837   0.393653  0.367837   \n",
       "densenet_FGVC-Aircraft_E20_occ0         0.486049   0.555013  0.486049   \n",
       "densenet_FGVC-Aircraft_E10_occ1         0.476448   0.527821  0.476448   \n",
       "densenet_FGVC-Aircraft_E20_occ1         0.594659   0.632057  0.594659   \n",
       "densenet_FGVC-Aircraft_E10_occGAUSSIAN  0.351035   0.423080  0.351035   \n",
       "densenet_FGVC-Aircraft_E20_occGAUSSIAN  0.539754   0.577277  0.539754   \n",
       "densenet_FGVC-Aircraft_E10_occSOFTMAX   0.374737   0.426811  0.374737   \n",
       "densenet_FGVC-Aircraft_E20_occSOFTMAX   0.517852   0.556911  0.517852   \n",
       "resnet_FGVC-Aircraft_E10                0.629763   0.654519  0.629763   \n",
       "resnet_FGVC-Aircraft_E20                0.629763   0.654519  0.629763   \n",
       "resnet_FGVC-Aircraft_E10_occ0           0.264626   0.289833  0.264626   \n",
       "resnet_FGVC-Aircraft_E20_occ0           0.450945   0.498313  0.450945   \n",
       "resnet_FGVC-Aircraft_E10_occ1           0.418842   0.465311  0.418842   \n",
       "resnet_FGVC-Aircraft_E20_occ1           0.517552   0.564293  0.517552   \n",
       "resnet_FGVC-Aircraft_E10_occGAUSSIAN    0.383438   0.418025  0.383438   \n",
       "resnet_FGVC-Aircraft_E20_occGAUSSIAN    0.511551   0.552724  0.511551   \n",
       "resnet_FGVC-Aircraft_E10_occSOFTMAX     0.432643   0.488060  0.432643   \n",
       "resnet_FGVC-Aircraft_E20_occSOFTMAX     0.526253   0.560953  0.526253   \n",
       "\n",
       "                                              f1  \\\n",
       "vgg_FGVC-Aircraft_E10                   0.622358   \n",
       "vgg_FGVC-Aircraft_E20                   0.641089   \n",
       "vgg_FGVC-Aircraft_E10_occ0              0.530509   \n",
       "vgg_FGVC-Aircraft_E20_occ0              0.587687   \n",
       "vgg_FGVC-Aircraft_E10_occ1              0.577315   \n",
       "vgg_FGVC-Aircraft_E20_occ1              0.621440   \n",
       "vgg_FGVC-Aircraft_E10_occGAUSSIAN       0.567029   \n",
       "vgg_FGVC-Aircraft_E20_occGAUSSIAN       0.608542   \n",
       "vgg_FGVC-Aircraft_E10_occSOFTMAX        0.555110   \n",
       "vgg_FGVC-Aircraft_E20_occSOFTMAX        0.610242   \n",
       "densenet_FGVC-Aircraft_E10              0.693754   \n",
       "densenet_FGVC-Aircraft_E20              0.712943   \n",
       "densenet_FGVC-Aircraft_E10_occ0         0.340477   \n",
       "densenet_FGVC-Aircraft_E20_occ0         0.486293   \n",
       "densenet_FGVC-Aircraft_E10_occ1         0.462162   \n",
       "densenet_FGVC-Aircraft_E20_occ1         0.586014   \n",
       "densenet_FGVC-Aircraft_E10_occGAUSSIAN  0.327320   \n",
       "densenet_FGVC-Aircraft_E20_occGAUSSIAN  0.525510   \n",
       "densenet_FGVC-Aircraft_E10_occSOFTMAX   0.348498   \n",
       "densenet_FGVC-Aircraft_E20_occSOFTMAX   0.500786   \n",
       "resnet_FGVC-Aircraft_E10                0.628464   \n",
       "resnet_FGVC-Aircraft_E20                0.628464   \n",
       "resnet_FGVC-Aircraft_E10_occ0           0.229932   \n",
       "resnet_FGVC-Aircraft_E20_occ0           0.438790   \n",
       "resnet_FGVC-Aircraft_E10_occ1           0.394264   \n",
       "resnet_FGVC-Aircraft_E20_occ1           0.513290   \n",
       "resnet_FGVC-Aircraft_E10_occGAUSSIAN    0.360389   \n",
       "resnet_FGVC-Aircraft_E20_occGAUSSIAN    0.507977   \n",
       "resnet_FGVC-Aircraft_E10_occSOFTMAX     0.415070   \n",
       "resnet_FGVC-Aircraft_E20_occSOFTMAX     0.517071   \n",
       "\n",
       "                                                                          total_predicted  \\\n",
       "vgg_FGVC-Aircraft_E10                   [90.0, 80.0, 2.0, 60.0, 10.0, 24.0, 74.0, 14.0...   \n",
       "vgg_FGVC-Aircraft_E20                   [59.0, 17.0, 38.0, 19.0, 58.0, 53.0, 19.0, 17....   \n",
       "vgg_FGVC-Aircraft_E10_occ0              [72.0, 70.0, 47.0, 11.0, 22.0, 43.0, 10.0, 86....   \n",
       "vgg_FGVC-Aircraft_E20_occ0              [36.0, 5.0, 61.0, 35.0, 86.0, 74.0, 46.0, 16.0...   \n",
       "vgg_FGVC-Aircraft_E10_occ1              [41.0, 82.0, 3.0, 90.0, 8.0, 41.0, 90.0, 72.0,...   \n",
       "vgg_FGVC-Aircraft_E20_occ1              [76.0, 8.0, 32.0, 4.0, 92.0, 10.0, 93.0, 70.0,...   \n",
       "vgg_FGVC-Aircraft_E10_occGAUSSIAN       [33.0, 94.0, 60.0, 10.0, 11.0, 72.0, 20.0, 16....   \n",
       "vgg_FGVC-Aircraft_E20_occGAUSSIAN       [85.0, 44.0, 53.0, 77.0, 80.0, 13.0, 52.0, 85....   \n",
       "vgg_FGVC-Aircraft_E10_occSOFTMAX        [44.0, 86.0, 89.0, 94.0, 1.0, 74.0, 78.0, 50.0...   \n",
       "vgg_FGVC-Aircraft_E20_occSOFTMAX        [57.0, 16.0, 24.0, 76.0, 33.0, 82.0, 33.0, 21....   \n",
       "densenet_FGVC-Aircraft_E10              [8.0, 74.0, 60.0, 40.0, 34.0, 15.0, 47.0, 73.0...   \n",
       "densenet_FGVC-Aircraft_E20              [39.0, 92.0, 59.0, 43.0, 71.0, 38.0, 1.0, 79.0...   \n",
       "densenet_FGVC-Aircraft_E10_occ0         [16.0, 76.0, 63.0, 87.0, 88.0, 49.0, 34.0, 9.0...   \n",
       "densenet_FGVC-Aircraft_E20_occ0         [82.0, 28.0, 8.0, 27.0, 34.0, 18.0, 7.0, 37.0,...   \n",
       "densenet_FGVC-Aircraft_E10_occ1         [72.0, 90.0, 79.0, 21.0, 47.0, 76.0, 72.0, 0.0...   \n",
       "densenet_FGVC-Aircraft_E20_occ1         [96.0, 47.0, 70.0, 20.0, 37.0, 6.0, 61.0, 35.0...   \n",
       "densenet_FGVC-Aircraft_E10_occGAUSSIAN  [72.0, 29.0, 53.0, 84.0, 22.0, 87.0, 62.0, 14....   \n",
       "densenet_FGVC-Aircraft_E20_occGAUSSIAN  [23.0, 41.0, 68.0, 79.0, 41.0, 38.0, 18.0, 26....   \n",
       "densenet_FGVC-Aircraft_E10_occSOFTMAX   [24.0, 22.0, 96.0, 0.0, 37.0, 1.0, 60.0, 87.0,...   \n",
       "densenet_FGVC-Aircraft_E20_occSOFTMAX   [52.0, 89.0, 56.0, 33.0, 48.0, 8.0, 69.0, 8.0,...   \n",
       "resnet_FGVC-Aircraft_E10                [24.0, 26.0, 94.0, 36.0, 82.0, 70.0, 27.0, 37....   \n",
       "resnet_FGVC-Aircraft_E20                [4.0, 74.0, 42.0, 95.0, 79.0, 79.0, 20.0, 28.0...   \n",
       "resnet_FGVC-Aircraft_E10_occ0           [32.0, 15.0, 97.0, 66.0, 80.0, 83.0, 87.0, 12....   \n",
       "resnet_FGVC-Aircraft_E20_occ0           [58.0, 48.0, 34.0, 52.0, 58.0, 67.0, 92.0, 13....   \n",
       "resnet_FGVC-Aircraft_E10_occ1           [37.0, 64.0, 39.0, 65.0, 29.0, 34.0, 83.0, 29....   \n",
       "resnet_FGVC-Aircraft_E20_occ1           [19.0, 46.0, 67.0, 52.0, 6.0, 82.0, 50.0, 62.0...   \n",
       "resnet_FGVC-Aircraft_E10_occGAUSSIAN    [81.0, 30.0, 22.0, 80.0, 83.0, 56.0, 54.0, 70....   \n",
       "resnet_FGVC-Aircraft_E20_occGAUSSIAN    [54.0, 6.0, 63.0, 65.0, 18.0, 22.0, 61.0, 8.0,...   \n",
       "resnet_FGVC-Aircraft_E10_occSOFTMAX     [89.0, 1.0, 9.0, 81.0, 6.0, 59.0, 3.0, 13.0, 8...   \n",
       "resnet_FGVC-Aircraft_E20_occSOFTMAX     [96.0, 92.0, 49.0, 63.0, 78.0, 79.0, 61.0, 66....   \n",
       "\n",
       "                                                                             total_labels  \\\n",
       "vgg_FGVC-Aircraft_E10                   [90.0, 81.0, 2.0, 61.0, 0.0, 23.0, 74.0, 14.0,...   \n",
       "vgg_FGVC-Aircraft_E20                   [59.0, 16.0, 38.0, 21.0, 58.0, 53.0, 19.0, 2.0...   \n",
       "vgg_FGVC-Aircraft_E10_occ0              [72.0, 75.0, 47.0, 10.0, 19.0, 53.0, 55.0, 86....   \n",
       "vgg_FGVC-Aircraft_E20_occ0              [36.0, 5.0, 61.0, 45.0, 86.0, 74.0, 45.0, 16.0...   \n",
       "vgg_FGVC-Aircraft_E10_occ1              [76.0, 82.0, 4.0, 90.0, 9.0, 56.0, 90.0, 72.0,...   \n",
       "vgg_FGVC-Aircraft_E20_occ1              [76.0, 63.0, 32.0, 8.0, 92.0, 10.0, 93.0, 69.0...   \n",
       "vgg_FGVC-Aircraft_E10_occGAUSSIAN       [11.0, 94.0, 60.0, 0.0, 10.0, 72.0, 18.0, 16.0...   \n",
       "vgg_FGVC-Aircraft_E20_occGAUSSIAN       [85.0, 44.0, 54.0, 77.0, 80.0, 11.0, 22.0, 85....   \n",
       "vgg_FGVC-Aircraft_E10_occSOFTMAX        [46.0, 86.0, 89.0, 94.0, 45.0, 74.0, 78.0, 50....   \n",
       "vgg_FGVC-Aircraft_E20_occSOFTMAX        [57.0, 22.0, 23.0, 76.0, 33.0, 82.0, 38.0, 21....   \n",
       "densenet_FGVC-Aircraft_E10              [8.0, 74.0, 61.0, 40.0, 34.0, 15.0, 47.0, 73.0...   \n",
       "densenet_FGVC-Aircraft_E20              [39.0, 92.0, 59.0, 53.0, 71.0, 38.0, 17.0, 79....   \n",
       "densenet_FGVC-Aircraft_E10_occ0         [16.0, 4.0, 63.0, 87.0, 15.0, 50.0, 31.0, 56.0...   \n",
       "densenet_FGVC-Aircraft_E20_occ0         [82.0, 31.0, 4.0, 27.0, 34.0, 18.0, 3.0, 37.0,...   \n",
       "densenet_FGVC-Aircraft_E10_occ1         [72.0, 49.0, 79.0, 14.0, 92.0, 56.0, 72.0, 11....   \n",
       "densenet_FGVC-Aircraft_E20_occ1         [42.0, 58.0, 69.0, 67.0, 37.0, 6.0, 61.0, 35.0...   \n",
       "densenet_FGVC-Aircraft_E10_occGAUSSIAN  [71.0, 32.0, 53.0, 10.0, 22.0, 8.0, 58.0, 84.0...   \n",
       "densenet_FGVC-Aircraft_E20_occGAUSSIAN  [23.0, 1.0, 68.0, 79.0, 76.0, 50.0, 18.0, 27.0...   \n",
       "densenet_FGVC-Aircraft_E10_occSOFTMAX   [3.0, 22.0, 96.0, 52.0, 38.0, 98.0, 42.0, 76.0...   \n",
       "densenet_FGVC-Aircraft_E20_occSOFTMAX   [17.0, 89.0, 56.0, 33.0, 48.0, 4.0, 68.0, 8.0,...   \n",
       "resnet_FGVC-Aircraft_E10                [6.0, 62.0, 94.0, 36.0, 82.0, 70.0, 14.0, 37.0...   \n",
       "resnet_FGVC-Aircraft_E20                [7.0, 74.0, 42.0, 95.0, 28.0, 79.0, 67.0, 27.0...   \n",
       "resnet_FGVC-Aircraft_E10_occ0           [32.0, 18.0, 68.0, 66.0, 50.0, 83.0, 76.0, 12....   \n",
       "resnet_FGVC-Aircraft_E20_occ0           [82.0, 14.0, 34.0, 2.0, 61.0, 67.0, 92.0, 13.0...   \n",
       "resnet_FGVC-Aircraft_E10_occ1           [37.0, 99.0, 39.0, 65.0, 31.0, 93.0, 83.0, 11....   \n",
       "resnet_FGVC-Aircraft_E20_occ1           [19.0, 97.0, 67.0, 52.0, 6.0, 82.0, 49.0, 62.0...   \n",
       "resnet_FGVC-Aircraft_E10_occGAUSSIAN    [80.0, 6.0, 84.0, 81.0, 72.0, 56.0, 63.0, 70.0...   \n",
       "resnet_FGVC-Aircraft_E20_occGAUSSIAN    [10.0, 6.0, 67.0, 65.0, 27.0, 31.0, 61.0, 8.0,...   \n",
       "resnet_FGVC-Aircraft_E10_occSOFTMAX     [90.0, 1.0, 9.0, 81.0, 8.0, 59.0, 3.0, 11.0, 8...   \n",
       "resnet_FGVC-Aircraft_E20_occSOFTMAX     [96.0, 92.0, 39.0, 60.0, 99.0, 97.0, 77.0, 65....   \n",
       "\n",
       "                                              dataset  \n",
       "vgg_FGVC-Aircraft_E10                   FGVC-Aircraft  \n",
       "vgg_FGVC-Aircraft_E20                   FGVC-Aircraft  \n",
       "vgg_FGVC-Aircraft_E10_occ0              FGVC-Aircraft  \n",
       "vgg_FGVC-Aircraft_E20_occ0              FGVC-Aircraft  \n",
       "vgg_FGVC-Aircraft_E10_occ1              FGVC-Aircraft  \n",
       "vgg_FGVC-Aircraft_E20_occ1              FGVC-Aircraft  \n",
       "vgg_FGVC-Aircraft_E10_occGAUSSIAN       FGVC-Aircraft  \n",
       "vgg_FGVC-Aircraft_E20_occGAUSSIAN       FGVC-Aircraft  \n",
       "vgg_FGVC-Aircraft_E10_occSOFTMAX        FGVC-Aircraft  \n",
       "vgg_FGVC-Aircraft_E20_occSOFTMAX        FGVC-Aircraft  \n",
       "densenet_FGVC-Aircraft_E10              FGVC-Aircraft  \n",
       "densenet_FGVC-Aircraft_E20              FGVC-Aircraft  \n",
       "densenet_FGVC-Aircraft_E10_occ0         FGVC-Aircraft  \n",
       "densenet_FGVC-Aircraft_E20_occ0         FGVC-Aircraft  \n",
       "densenet_FGVC-Aircraft_E10_occ1         FGVC-Aircraft  \n",
       "densenet_FGVC-Aircraft_E20_occ1         FGVC-Aircraft  \n",
       "densenet_FGVC-Aircraft_E10_occGAUSSIAN  FGVC-Aircraft  \n",
       "densenet_FGVC-Aircraft_E20_occGAUSSIAN  FGVC-Aircraft  \n",
       "densenet_FGVC-Aircraft_E10_occSOFTMAX   FGVC-Aircraft  \n",
       "densenet_FGVC-Aircraft_E20_occSOFTMAX   FGVC-Aircraft  \n",
       "resnet_FGVC-Aircraft_E10                FGVC-Aircraft  \n",
       "resnet_FGVC-Aircraft_E20                FGVC-Aircraft  \n",
       "resnet_FGVC-Aircraft_E10_occ0           FGVC-Aircraft  \n",
       "resnet_FGVC-Aircraft_E20_occ0           FGVC-Aircraft  \n",
       "resnet_FGVC-Aircraft_E10_occ1           FGVC-Aircraft  \n",
       "resnet_FGVC-Aircraft_E20_occ1           FGVC-Aircraft  \n",
       "resnet_FGVC-Aircraft_E10_occGAUSSIAN    FGVC-Aircraft  \n",
       "resnet_FGVC-Aircraft_E20_occGAUSSIAN    FGVC-Aircraft  \n",
       "resnet_FGVC-Aircraft_E10_occSOFTMAX     FGVC-Aircraft  \n",
       "resnet_FGVC-Aircraft_E20_occSOFTMAX     FGVC-Aircraft  "
      ]
     },
     "execution_count": 6,
     "metadata": {},
     "output_type": "execute_result"
    }
   ],
   "source": [
    "#  Save the metricsDIVISIONCREDITORS\n",
    "print(total_results.keys())\n",
    "print([total_results[key].keys() for key in total_results.keys()])\n",
    "df = pd.DataFrame.from_dict(total_results,\n",
    "                       orient='index',\n",
    "                       # columns=['accuracy', 'precision', 'recall', 'f1']\n",
    "                       )\n",
    "\n",
    "df"
   ]
  },
  {
   "cell_type": "code",
   "execution_count": 7,
   "metadata": {
    "collapsed": false,
    "jupyter": {
     "outputs_hidden": false
    },
    "pycharm": {
     "name": "#%%\n"
    }
   },
   "outputs": [],
   "source": [
    "save_path = os.path.join(path_to_data,'testing_results.csv')\n",
    "df.to_csv(save_path)"
   ]
  },
  {
   "cell_type": "code",
   "execution_count": 8,
   "metadata": {
    "collapsed": false,
    "jupyter": {
     "outputs_hidden": false
    },
    "pycharm": {
     "name": "#%%\n"
    }
   },
   "outputs": [
    {
     "data": {
      "text/html": [
       "<div>\n",
       "<style scoped>\n",
       "    .dataframe tbody tr th:only-of-type {\n",
       "        vertical-align: middle;\n",
       "    }\n",
       "\n",
       "    .dataframe tbody tr th {\n",
       "        vertical-align: top;\n",
       "    }\n",
       "\n",
       "    .dataframe thead th {\n",
       "        text-align: right;\n",
       "    }\n",
       "</style>\n",
       "<table border=\"1\" class=\"dataframe\">\n",
       "  <thead>\n",
       "    <tr style=\"text-align: right;\">\n",
       "      <th></th>\n",
       "      <th>accuracy</th>\n",
       "      <th>precision</th>\n",
       "      <th>recall</th>\n",
       "      <th>f1</th>\n",
       "      <th>total_predicted</th>\n",
       "      <th>total_labels</th>\n",
       "      <th>dataset</th>\n",
       "    </tr>\n",
       "  </thead>\n",
       "  <tbody>\n",
       "    <tr>\n",
       "      <th>vgg_FGVC-Aircraft_E10</th>\n",
       "      <td>0.627063</td>\n",
       "      <td>0.663375</td>\n",
       "      <td>0.627063</td>\n",
       "      <td>0.622358</td>\n",
       "      <td>[90. 80.  2. ... 97. 17. 48.]</td>\n",
       "      <td>[90. 81.  2. ... 97. 20. 91.]</td>\n",
       "      <td>FGVC-Aircraft</td>\n",
       "    </tr>\n",
       "    <tr>\n",
       "      <th>vgg_FGVC-Aircraft_E20</th>\n",
       "      <td>0.645365</td>\n",
       "      <td>0.672274</td>\n",
       "      <td>0.645365</td>\n",
       "      <td>0.641089</td>\n",
       "      <td>[59. 17. 38. ... 56. 57. 48.]</td>\n",
       "      <td>[59. 16. 38. ... 41. 57. 48.]</td>\n",
       "      <td>FGVC-Aircraft</td>\n",
       "    </tr>\n",
       "    <tr>\n",
       "      <th>vgg_FGVC-Aircraft_E10_occ0</th>\n",
       "      <td>0.545755</td>\n",
       "      <td>0.593101</td>\n",
       "      <td>0.545755</td>\n",
       "      <td>0.530509</td>\n",
       "      <td>[72. 70. 47. ... 86. 41. 95.]</td>\n",
       "      <td>[72. 75. 47. ... 86. 41. 95.]</td>\n",
       "      <td>FGVC-Aircraft</td>\n",
       "    </tr>\n",
       "    <tr>\n",
       "      <th>vgg_FGVC-Aircraft_E20_occ0</th>\n",
       "      <td>0.585659</td>\n",
       "      <td>0.638190</td>\n",
       "      <td>0.585659</td>\n",
       "      <td>0.587687</td>\n",
       "      <td>[36.  5. 61. ... 43. 92. 21.]</td>\n",
       "      <td>[36.  5. 61. ... 43. 92. 30.]</td>\n",
       "      <td>FGVC-Aircraft</td>\n",
       "    </tr>\n",
       "    <tr>\n",
       "      <th>vgg_FGVC-Aircraft_E10_occ1</th>\n",
       "      <td>0.587459</td>\n",
       "      <td>0.638985</td>\n",
       "      <td>0.587459</td>\n",
       "      <td>0.577315</td>\n",
       "      <td>[41. 82.  3. ... 44. 93. 15.]</td>\n",
       "      <td>[76. 82.  4. ... 68. 93. 15.]</td>\n",
       "      <td>FGVC-Aircraft</td>\n",
       "    </tr>\n",
       "    <tr>\n",
       "      <th>vgg_FGVC-Aircraft_E20_occ1</th>\n",
       "      <td>0.620462</td>\n",
       "      <td>0.660228</td>\n",
       "      <td>0.620462</td>\n",
       "      <td>0.621440</td>\n",
       "      <td>[76.  8. 32. ... 58. 30. 23.]</td>\n",
       "      <td>[76. 63. 32. ... 58. 32. 24.]</td>\n",
       "      <td>FGVC-Aircraft</td>\n",
       "    </tr>\n",
       "    <tr>\n",
       "      <th>vgg_FGVC-Aircraft_E10_occGAUSSIAN</th>\n",
       "      <td>0.575758</td>\n",
       "      <td>0.629434</td>\n",
       "      <td>0.575758</td>\n",
       "      <td>0.567029</td>\n",
       "      <td>[33. 94. 60. ... 28. 28. 21.]</td>\n",
       "      <td>[11. 94. 60. ... 31. 28. 27.]</td>\n",
       "      <td>FGVC-Aircraft</td>\n",
       "    </tr>\n",
       "    <tr>\n",
       "      <th>vgg_FGVC-Aircraft_E20_occGAUSSIAN</th>\n",
       "      <td>0.612661</td>\n",
       "      <td>0.649770</td>\n",
       "      <td>0.612661</td>\n",
       "      <td>0.608542</td>\n",
       "      <td>[85. 44. 53. ... 90. 32. 15.]</td>\n",
       "      <td>[85. 44. 54. ... 90. 32. 15.]</td>\n",
       "      <td>FGVC-Aircraft</td>\n",
       "    </tr>\n",
       "    <tr>\n",
       "      <th>vgg_FGVC-Aircraft_E10_occSOFTMAX</th>\n",
       "      <td>0.566457</td>\n",
       "      <td>0.592105</td>\n",
       "      <td>0.566457</td>\n",
       "      <td>0.555110</td>\n",
       "      <td>[44. 86. 89. ... 68. 99. 42.]</td>\n",
       "      <td>[46. 86. 89. ... 99. 79. 42.]</td>\n",
       "      <td>FGVC-Aircraft</td>\n",
       "    </tr>\n",
       "    <tr>\n",
       "      <th>vgg_FGVC-Aircraft_E20_occSOFTMAX</th>\n",
       "      <td>0.611761</td>\n",
       "      <td>0.649875</td>\n",
       "      <td>0.611761</td>\n",
       "      <td>0.610242</td>\n",
       "      <td>[57. 16. 24. ... 43. 43. 19.]</td>\n",
       "      <td>[57. 22. 23. ... 53. 43.  5.]</td>\n",
       "      <td>FGVC-Aircraft</td>\n",
       "    </tr>\n",
       "    <tr>\n",
       "      <th>densenet_FGVC-Aircraft_E10</th>\n",
       "      <td>0.699370</td>\n",
       "      <td>0.717025</td>\n",
       "      <td>0.699370</td>\n",
       "      <td>0.693754</td>\n",
       "      <td>[ 8. 74. 60. ...  9. 58. 99.]</td>\n",
       "      <td>[ 8. 74. 61. ...  9. 58. 99.]</td>\n",
       "      <td>FGVC-Aircraft</td>\n",
       "    </tr>\n",
       "    <tr>\n",
       "      <th>densenet_FGVC-Aircraft_E20</th>\n",
       "      <td>0.714971</td>\n",
       "      <td>0.728882</td>\n",
       "      <td>0.714971</td>\n",
       "      <td>0.712943</td>\n",
       "      <td>[39. 92. 59. ... 60. 56. 55.]</td>\n",
       "      <td>[39. 92. 59. ... 61. 56. 55.]</td>\n",
       "      <td>FGVC-Aircraft</td>\n",
       "    </tr>\n",
       "    <tr>\n",
       "      <th>densenet_FGVC-Aircraft_E10_occ0</th>\n",
       "      <td>0.367837</td>\n",
       "      <td>0.393653</td>\n",
       "      <td>0.367837</td>\n",
       "      <td>0.340477</td>\n",
       "      <td>[16. 76. 63. ... 60. 82. 97.]</td>\n",
       "      <td>[16.  4. 63. ... 60. 82. 55.]</td>\n",
       "      <td>FGVC-Aircraft</td>\n",
       "    </tr>\n",
       "    <tr>\n",
       "      <th>densenet_FGVC-Aircraft_E20_occ0</th>\n",
       "      <td>0.486049</td>\n",
       "      <td>0.555013</td>\n",
       "      <td>0.486049</td>\n",
       "      <td>0.486293</td>\n",
       "      <td>[82. 28.  8. ... 91. 43. 13.]</td>\n",
       "      <td>[82. 31.  4. ... 62. 53. 83.]</td>\n",
       "      <td>FGVC-Aircraft</td>\n",
       "    </tr>\n",
       "    <tr>\n",
       "      <th>densenet_FGVC-Aircraft_E10_occ1</th>\n",
       "      <td>0.476448</td>\n",
       "      <td>0.527821</td>\n",
       "      <td>0.476448</td>\n",
       "      <td>0.462162</td>\n",
       "      <td>[72. 90. 79. ... 23. 29. 77.]</td>\n",
       "      <td>[72. 49. 79. ... 23. 29. 77.]</td>\n",
       "      <td>FGVC-Aircraft</td>\n",
       "    </tr>\n",
       "    <tr>\n",
       "      <th>densenet_FGVC-Aircraft_E20_occ1</th>\n",
       "      <td>0.594659</td>\n",
       "      <td>0.632057</td>\n",
       "      <td>0.594659</td>\n",
       "      <td>0.586014</td>\n",
       "      <td>[96. 47. 70. ... 76. 66. 77.]</td>\n",
       "      <td>[42. 58. 69. ... 56. 66. 38.]</td>\n",
       "      <td>FGVC-Aircraft</td>\n",
       "    </tr>\n",
       "    <tr>\n",
       "      <th>densenet_FGVC-Aircraft_E10_occGAUSSIAN</th>\n",
       "      <td>0.351035</td>\n",
       "      <td>0.423080</td>\n",
       "      <td>0.351035</td>\n",
       "      <td>0.327320</td>\n",
       "      <td>[72. 29. 53. ... 55. 94. 92.]</td>\n",
       "      <td>[71. 32. 53. ... 14. 94. 92.]</td>\n",
       "      <td>FGVC-Aircraft</td>\n",
       "    </tr>\n",
       "    <tr>\n",
       "      <th>densenet_FGVC-Aircraft_E20_occGAUSSIAN</th>\n",
       "      <td>0.539754</td>\n",
       "      <td>0.577277</td>\n",
       "      <td>0.539754</td>\n",
       "      <td>0.525510</td>\n",
       "      <td>[23. 41. 68. ... 22. 25. 88.]</td>\n",
       "      <td>[23.  1. 68. ... 16. 25. 87.]</td>\n",
       "      <td>FGVC-Aircraft</td>\n",
       "    </tr>\n",
       "    <tr>\n",
       "      <th>densenet_FGVC-Aircraft_E10_occSOFTMAX</th>\n",
       "      <td>0.374737</td>\n",
       "      <td>0.426811</td>\n",
       "      <td>0.374737</td>\n",
       "      <td>0.348498</td>\n",
       "      <td>[24. 22. 96. ... 29. 46. 34.]</td>\n",
       "      <td>[ 3. 22. 96. ... 29. 78. 77.]</td>\n",
       "      <td>FGVC-Aircraft</td>\n",
       "    </tr>\n",
       "    <tr>\n",
       "      <th>densenet_FGVC-Aircraft_E20_occSOFTMAX</th>\n",
       "      <td>0.517852</td>\n",
       "      <td>0.556911</td>\n",
       "      <td>0.517852</td>\n",
       "      <td>0.500786</td>\n",
       "      <td>[52. 89. 56. ... 27. 27. 57.]</td>\n",
       "      <td>[17. 89. 56. ... 19. 85. 26.]</td>\n",
       "      <td>FGVC-Aircraft</td>\n",
       "    </tr>\n",
       "    <tr>\n",
       "      <th>resnet_FGVC-Aircraft_E10</th>\n",
       "      <td>0.629763</td>\n",
       "      <td>0.654519</td>\n",
       "      <td>0.629763</td>\n",
       "      <td>0.628464</td>\n",
       "      <td>[24. 26. 94. ... 65. 71. 47.]</td>\n",
       "      <td>[ 6. 62. 94. ... 66. 71. 47.]</td>\n",
       "      <td>FGVC-Aircraft</td>\n",
       "    </tr>\n",
       "    <tr>\n",
       "      <th>resnet_FGVC-Aircraft_E20</th>\n",
       "      <td>0.629763</td>\n",
       "      <td>0.654519</td>\n",
       "      <td>0.629763</td>\n",
       "      <td>0.628464</td>\n",
       "      <td>[ 4. 74. 42. ... 19. 39.  2.]</td>\n",
       "      <td>[ 7. 74. 42. ... 18. 39.  2.]</td>\n",
       "      <td>FGVC-Aircraft</td>\n",
       "    </tr>\n",
       "    <tr>\n",
       "      <th>resnet_FGVC-Aircraft_E10_occ0</th>\n",
       "      <td>0.264626</td>\n",
       "      <td>0.289833</td>\n",
       "      <td>0.264626</td>\n",
       "      <td>0.229932</td>\n",
       "      <td>[32. 15. 97. ... 35. 64. 45.]</td>\n",
       "      <td>[32. 18. 68. ... 34. 14. 69.]</td>\n",
       "      <td>FGVC-Aircraft</td>\n",
       "    </tr>\n",
       "    <tr>\n",
       "      <th>resnet_FGVC-Aircraft_E20_occ0</th>\n",
       "      <td>0.450945</td>\n",
       "      <td>0.498313</td>\n",
       "      <td>0.450945</td>\n",
       "      <td>0.438790</td>\n",
       "      <td>[58. 48. 34. ... 77. 62.  4.]</td>\n",
       "      <td>[82. 14. 34. ... 48. 92.  4.]</td>\n",
       "      <td>FGVC-Aircraft</td>\n",
       "    </tr>\n",
       "    <tr>\n",
       "      <th>resnet_FGVC-Aircraft_E10_occ1</th>\n",
       "      <td>0.418842</td>\n",
       "      <td>0.465311</td>\n",
       "      <td>0.418842</td>\n",
       "      <td>0.394264</td>\n",
       "      <td>[37. 64. 39. ...  6. 82. 50.]</td>\n",
       "      <td>[37. 99. 39. ...  7. 82. 50.]</td>\n",
       "      <td>FGVC-Aircraft</td>\n",
       "    </tr>\n",
       "    <tr>\n",
       "      <th>resnet_FGVC-Aircraft_E20_occ1</th>\n",
       "      <td>0.517552</td>\n",
       "      <td>0.564293</td>\n",
       "      <td>0.517552</td>\n",
       "      <td>0.513290</td>\n",
       "      <td>[19. 46. 67. ... 35. 87. 77.]</td>\n",
       "      <td>[19. 97. 67. ... 34. 56. 77.]</td>\n",
       "      <td>FGVC-Aircraft</td>\n",
       "    </tr>\n",
       "    <tr>\n",
       "      <th>resnet_FGVC-Aircraft_E10_occGAUSSIAN</th>\n",
       "      <td>0.383438</td>\n",
       "      <td>0.418025</td>\n",
       "      <td>0.383438</td>\n",
       "      <td>0.360389</td>\n",
       "      <td>[81. 30. 22. ... 66. 68. 73.]</td>\n",
       "      <td>[80.  6. 84. ... 66. 79. 73.]</td>\n",
       "      <td>FGVC-Aircraft</td>\n",
       "    </tr>\n",
       "    <tr>\n",
       "      <th>resnet_FGVC-Aircraft_E20_occGAUSSIAN</th>\n",
       "      <td>0.511551</td>\n",
       "      <td>0.552724</td>\n",
       "      <td>0.511551</td>\n",
       "      <td>0.507977</td>\n",
       "      <td>[54.  6. 63. ... 72. 97. 98.]</td>\n",
       "      <td>[10.  6. 67. ... 72. 97. 98.]</td>\n",
       "      <td>FGVC-Aircraft</td>\n",
       "    </tr>\n",
       "    <tr>\n",
       "      <th>resnet_FGVC-Aircraft_E10_occSOFTMAX</th>\n",
       "      <td>0.432643</td>\n",
       "      <td>0.488060</td>\n",
       "      <td>0.432643</td>\n",
       "      <td>0.415070</td>\n",
       "      <td>[89.  1.  9. ... 99. 69. 27.]</td>\n",
       "      <td>[90.  1.  9. ... 99. 68. 84.]</td>\n",
       "      <td>FGVC-Aircraft</td>\n",
       "    </tr>\n",
       "    <tr>\n",
       "      <th>resnet_FGVC-Aircraft_E20_occSOFTMAX</th>\n",
       "      <td>0.526253</td>\n",
       "      <td>0.560953</td>\n",
       "      <td>0.526253</td>\n",
       "      <td>0.517071</td>\n",
       "      <td>[96. 92. 49. ... 12. 96. 40.]</td>\n",
       "      <td>[96. 92. 39. ... 11. 96. 40.]</td>\n",
       "      <td>FGVC-Aircraft</td>\n",
       "    </tr>\n",
       "  </tbody>\n",
       "</table>\n",
       "</div>"
      ],
      "text/plain": [
       "                                        accuracy  precision    recall  \\\n",
       "vgg_FGVC-Aircraft_E10                   0.627063   0.663375  0.627063   \n",
       "vgg_FGVC-Aircraft_E20                   0.645365   0.672274  0.645365   \n",
       "vgg_FGVC-Aircraft_E10_occ0              0.545755   0.593101  0.545755   \n",
       "vgg_FGVC-Aircraft_E20_occ0              0.585659   0.638190  0.585659   \n",
       "vgg_FGVC-Aircraft_E10_occ1              0.587459   0.638985  0.587459   \n",
       "vgg_FGVC-Aircraft_E20_occ1              0.620462   0.660228  0.620462   \n",
       "vgg_FGVC-Aircraft_E10_occGAUSSIAN       0.575758   0.629434  0.575758   \n",
       "vgg_FGVC-Aircraft_E20_occGAUSSIAN       0.612661   0.649770  0.612661   \n",
       "vgg_FGVC-Aircraft_E10_occSOFTMAX        0.566457   0.592105  0.566457   \n",
       "vgg_FGVC-Aircraft_E20_occSOFTMAX        0.611761   0.649875  0.611761   \n",
       "densenet_FGVC-Aircraft_E10              0.699370   0.717025  0.699370   \n",
       "densenet_FGVC-Aircraft_E20              0.714971   0.728882  0.714971   \n",
       "densenet_FGVC-Aircraft_E10_occ0         0.367837   0.393653  0.367837   \n",
       "densenet_FGVC-Aircraft_E20_occ0         0.486049   0.555013  0.486049   \n",
       "densenet_FGVC-Aircraft_E10_occ1         0.476448   0.527821  0.476448   \n",
       "densenet_FGVC-Aircraft_E20_occ1         0.594659   0.632057  0.594659   \n",
       "densenet_FGVC-Aircraft_E10_occGAUSSIAN  0.351035   0.423080  0.351035   \n",
       "densenet_FGVC-Aircraft_E20_occGAUSSIAN  0.539754   0.577277  0.539754   \n",
       "densenet_FGVC-Aircraft_E10_occSOFTMAX   0.374737   0.426811  0.374737   \n",
       "densenet_FGVC-Aircraft_E20_occSOFTMAX   0.517852   0.556911  0.517852   \n",
       "resnet_FGVC-Aircraft_E10                0.629763   0.654519  0.629763   \n",
       "resnet_FGVC-Aircraft_E20                0.629763   0.654519  0.629763   \n",
       "resnet_FGVC-Aircraft_E10_occ0           0.264626   0.289833  0.264626   \n",
       "resnet_FGVC-Aircraft_E20_occ0           0.450945   0.498313  0.450945   \n",
       "resnet_FGVC-Aircraft_E10_occ1           0.418842   0.465311  0.418842   \n",
       "resnet_FGVC-Aircraft_E20_occ1           0.517552   0.564293  0.517552   \n",
       "resnet_FGVC-Aircraft_E10_occGAUSSIAN    0.383438   0.418025  0.383438   \n",
       "resnet_FGVC-Aircraft_E20_occGAUSSIAN    0.511551   0.552724  0.511551   \n",
       "resnet_FGVC-Aircraft_E10_occSOFTMAX     0.432643   0.488060  0.432643   \n",
       "resnet_FGVC-Aircraft_E20_occSOFTMAX     0.526253   0.560953  0.526253   \n",
       "\n",
       "                                              f1  \\\n",
       "vgg_FGVC-Aircraft_E10                   0.622358   \n",
       "vgg_FGVC-Aircraft_E20                   0.641089   \n",
       "vgg_FGVC-Aircraft_E10_occ0              0.530509   \n",
       "vgg_FGVC-Aircraft_E20_occ0              0.587687   \n",
       "vgg_FGVC-Aircraft_E10_occ1              0.577315   \n",
       "vgg_FGVC-Aircraft_E20_occ1              0.621440   \n",
       "vgg_FGVC-Aircraft_E10_occGAUSSIAN       0.567029   \n",
       "vgg_FGVC-Aircraft_E20_occGAUSSIAN       0.608542   \n",
       "vgg_FGVC-Aircraft_E10_occSOFTMAX        0.555110   \n",
       "vgg_FGVC-Aircraft_E20_occSOFTMAX        0.610242   \n",
       "densenet_FGVC-Aircraft_E10              0.693754   \n",
       "densenet_FGVC-Aircraft_E20              0.712943   \n",
       "densenet_FGVC-Aircraft_E10_occ0         0.340477   \n",
       "densenet_FGVC-Aircraft_E20_occ0         0.486293   \n",
       "densenet_FGVC-Aircraft_E10_occ1         0.462162   \n",
       "densenet_FGVC-Aircraft_E20_occ1         0.586014   \n",
       "densenet_FGVC-Aircraft_E10_occGAUSSIAN  0.327320   \n",
       "densenet_FGVC-Aircraft_E20_occGAUSSIAN  0.525510   \n",
       "densenet_FGVC-Aircraft_E10_occSOFTMAX   0.348498   \n",
       "densenet_FGVC-Aircraft_E20_occSOFTMAX   0.500786   \n",
       "resnet_FGVC-Aircraft_E10                0.628464   \n",
       "resnet_FGVC-Aircraft_E20                0.628464   \n",
       "resnet_FGVC-Aircraft_E10_occ0           0.229932   \n",
       "resnet_FGVC-Aircraft_E20_occ0           0.438790   \n",
       "resnet_FGVC-Aircraft_E10_occ1           0.394264   \n",
       "resnet_FGVC-Aircraft_E20_occ1           0.513290   \n",
       "resnet_FGVC-Aircraft_E10_occGAUSSIAN    0.360389   \n",
       "resnet_FGVC-Aircraft_E20_occGAUSSIAN    0.507977   \n",
       "resnet_FGVC-Aircraft_E10_occSOFTMAX     0.415070   \n",
       "resnet_FGVC-Aircraft_E20_occSOFTMAX     0.517071   \n",
       "\n",
       "                                                      total_predicted  \\\n",
       "vgg_FGVC-Aircraft_E10                   [90. 80.  2. ... 97. 17. 48.]   \n",
       "vgg_FGVC-Aircraft_E20                   [59. 17. 38. ... 56. 57. 48.]   \n",
       "vgg_FGVC-Aircraft_E10_occ0              [72. 70. 47. ... 86. 41. 95.]   \n",
       "vgg_FGVC-Aircraft_E20_occ0              [36.  5. 61. ... 43. 92. 21.]   \n",
       "vgg_FGVC-Aircraft_E10_occ1              [41. 82.  3. ... 44. 93. 15.]   \n",
       "vgg_FGVC-Aircraft_E20_occ1              [76.  8. 32. ... 58. 30. 23.]   \n",
       "vgg_FGVC-Aircraft_E10_occGAUSSIAN       [33. 94. 60. ... 28. 28. 21.]   \n",
       "vgg_FGVC-Aircraft_E20_occGAUSSIAN       [85. 44. 53. ... 90. 32. 15.]   \n",
       "vgg_FGVC-Aircraft_E10_occSOFTMAX        [44. 86. 89. ... 68. 99. 42.]   \n",
       "vgg_FGVC-Aircraft_E20_occSOFTMAX        [57. 16. 24. ... 43. 43. 19.]   \n",
       "densenet_FGVC-Aircraft_E10              [ 8. 74. 60. ...  9. 58. 99.]   \n",
       "densenet_FGVC-Aircraft_E20              [39. 92. 59. ... 60. 56. 55.]   \n",
       "densenet_FGVC-Aircraft_E10_occ0         [16. 76. 63. ... 60. 82. 97.]   \n",
       "densenet_FGVC-Aircraft_E20_occ0         [82. 28.  8. ... 91. 43. 13.]   \n",
       "densenet_FGVC-Aircraft_E10_occ1         [72. 90. 79. ... 23. 29. 77.]   \n",
       "densenet_FGVC-Aircraft_E20_occ1         [96. 47. 70. ... 76. 66. 77.]   \n",
       "densenet_FGVC-Aircraft_E10_occGAUSSIAN  [72. 29. 53. ... 55. 94. 92.]   \n",
       "densenet_FGVC-Aircraft_E20_occGAUSSIAN  [23. 41. 68. ... 22. 25. 88.]   \n",
       "densenet_FGVC-Aircraft_E10_occSOFTMAX   [24. 22. 96. ... 29. 46. 34.]   \n",
       "densenet_FGVC-Aircraft_E20_occSOFTMAX   [52. 89. 56. ... 27. 27. 57.]   \n",
       "resnet_FGVC-Aircraft_E10                [24. 26. 94. ... 65. 71. 47.]   \n",
       "resnet_FGVC-Aircraft_E20                [ 4. 74. 42. ... 19. 39.  2.]   \n",
       "resnet_FGVC-Aircraft_E10_occ0           [32. 15. 97. ... 35. 64. 45.]   \n",
       "resnet_FGVC-Aircraft_E20_occ0           [58. 48. 34. ... 77. 62.  4.]   \n",
       "resnet_FGVC-Aircraft_E10_occ1           [37. 64. 39. ...  6. 82. 50.]   \n",
       "resnet_FGVC-Aircraft_E20_occ1           [19. 46. 67. ... 35. 87. 77.]   \n",
       "resnet_FGVC-Aircraft_E10_occGAUSSIAN    [81. 30. 22. ... 66. 68. 73.]   \n",
       "resnet_FGVC-Aircraft_E20_occGAUSSIAN    [54.  6. 63. ... 72. 97. 98.]   \n",
       "resnet_FGVC-Aircraft_E10_occSOFTMAX     [89.  1.  9. ... 99. 69. 27.]   \n",
       "resnet_FGVC-Aircraft_E20_occSOFTMAX     [96. 92. 49. ... 12. 96. 40.]   \n",
       "\n",
       "                                                         total_labels  \\\n",
       "vgg_FGVC-Aircraft_E10                   [90. 81.  2. ... 97. 20. 91.]   \n",
       "vgg_FGVC-Aircraft_E20                   [59. 16. 38. ... 41. 57. 48.]   \n",
       "vgg_FGVC-Aircraft_E10_occ0              [72. 75. 47. ... 86. 41. 95.]   \n",
       "vgg_FGVC-Aircraft_E20_occ0              [36.  5. 61. ... 43. 92. 30.]   \n",
       "vgg_FGVC-Aircraft_E10_occ1              [76. 82.  4. ... 68. 93. 15.]   \n",
       "vgg_FGVC-Aircraft_E20_occ1              [76. 63. 32. ... 58. 32. 24.]   \n",
       "vgg_FGVC-Aircraft_E10_occGAUSSIAN       [11. 94. 60. ... 31. 28. 27.]   \n",
       "vgg_FGVC-Aircraft_E20_occGAUSSIAN       [85. 44. 54. ... 90. 32. 15.]   \n",
       "vgg_FGVC-Aircraft_E10_occSOFTMAX        [46. 86. 89. ... 99. 79. 42.]   \n",
       "vgg_FGVC-Aircraft_E20_occSOFTMAX        [57. 22. 23. ... 53. 43.  5.]   \n",
       "densenet_FGVC-Aircraft_E10              [ 8. 74. 61. ...  9. 58. 99.]   \n",
       "densenet_FGVC-Aircraft_E20              [39. 92. 59. ... 61. 56. 55.]   \n",
       "densenet_FGVC-Aircraft_E10_occ0         [16.  4. 63. ... 60. 82. 55.]   \n",
       "densenet_FGVC-Aircraft_E20_occ0         [82. 31.  4. ... 62. 53. 83.]   \n",
       "densenet_FGVC-Aircraft_E10_occ1         [72. 49. 79. ... 23. 29. 77.]   \n",
       "densenet_FGVC-Aircraft_E20_occ1         [42. 58. 69. ... 56. 66. 38.]   \n",
       "densenet_FGVC-Aircraft_E10_occGAUSSIAN  [71. 32. 53. ... 14. 94. 92.]   \n",
       "densenet_FGVC-Aircraft_E20_occGAUSSIAN  [23.  1. 68. ... 16. 25. 87.]   \n",
       "densenet_FGVC-Aircraft_E10_occSOFTMAX   [ 3. 22. 96. ... 29. 78. 77.]   \n",
       "densenet_FGVC-Aircraft_E20_occSOFTMAX   [17. 89. 56. ... 19. 85. 26.]   \n",
       "resnet_FGVC-Aircraft_E10                [ 6. 62. 94. ... 66. 71. 47.]   \n",
       "resnet_FGVC-Aircraft_E20                [ 7. 74. 42. ... 18. 39.  2.]   \n",
       "resnet_FGVC-Aircraft_E10_occ0           [32. 18. 68. ... 34. 14. 69.]   \n",
       "resnet_FGVC-Aircraft_E20_occ0           [82. 14. 34. ... 48. 92.  4.]   \n",
       "resnet_FGVC-Aircraft_E10_occ1           [37. 99. 39. ...  7. 82. 50.]   \n",
       "resnet_FGVC-Aircraft_E20_occ1           [19. 97. 67. ... 34. 56. 77.]   \n",
       "resnet_FGVC-Aircraft_E10_occGAUSSIAN    [80.  6. 84. ... 66. 79. 73.]   \n",
       "resnet_FGVC-Aircraft_E20_occGAUSSIAN    [10.  6. 67. ... 72. 97. 98.]   \n",
       "resnet_FGVC-Aircraft_E10_occSOFTMAX     [90.  1.  9. ... 99. 68. 84.]   \n",
       "resnet_FGVC-Aircraft_E20_occSOFTMAX     [96. 92. 39. ... 11. 96. 40.]   \n",
       "\n",
       "                                              dataset  \n",
       "vgg_FGVC-Aircraft_E10                   FGVC-Aircraft  \n",
       "vgg_FGVC-Aircraft_E20                   FGVC-Aircraft  \n",
       "vgg_FGVC-Aircraft_E10_occ0              FGVC-Aircraft  \n",
       "vgg_FGVC-Aircraft_E20_occ0              FGVC-Aircraft  \n",
       "vgg_FGVC-Aircraft_E10_occ1              FGVC-Aircraft  \n",
       "vgg_FGVC-Aircraft_E20_occ1              FGVC-Aircraft  \n",
       "vgg_FGVC-Aircraft_E10_occGAUSSIAN       FGVC-Aircraft  \n",
       "vgg_FGVC-Aircraft_E20_occGAUSSIAN       FGVC-Aircraft  \n",
       "vgg_FGVC-Aircraft_E10_occSOFTMAX        FGVC-Aircraft  \n",
       "vgg_FGVC-Aircraft_E20_occSOFTMAX        FGVC-Aircraft  \n",
       "densenet_FGVC-Aircraft_E10              FGVC-Aircraft  \n",
       "densenet_FGVC-Aircraft_E20              FGVC-Aircraft  \n",
       "densenet_FGVC-Aircraft_E10_occ0         FGVC-Aircraft  \n",
       "densenet_FGVC-Aircraft_E20_occ0         FGVC-Aircraft  \n",
       "densenet_FGVC-Aircraft_E10_occ1         FGVC-Aircraft  \n",
       "densenet_FGVC-Aircraft_E20_occ1         FGVC-Aircraft  \n",
       "densenet_FGVC-Aircraft_E10_occGAUSSIAN  FGVC-Aircraft  \n",
       "densenet_FGVC-Aircraft_E20_occGAUSSIAN  FGVC-Aircraft  \n",
       "densenet_FGVC-Aircraft_E10_occSOFTMAX   FGVC-Aircraft  \n",
       "densenet_FGVC-Aircraft_E20_occSOFTMAX   FGVC-Aircraft  \n",
       "resnet_FGVC-Aircraft_E10                FGVC-Aircraft  \n",
       "resnet_FGVC-Aircraft_E20                FGVC-Aircraft  \n",
       "resnet_FGVC-Aircraft_E10_occ0           FGVC-Aircraft  \n",
       "resnet_FGVC-Aircraft_E20_occ0           FGVC-Aircraft  \n",
       "resnet_FGVC-Aircraft_E10_occ1           FGVC-Aircraft  \n",
       "resnet_FGVC-Aircraft_E20_occ1           FGVC-Aircraft  \n",
       "resnet_FGVC-Aircraft_E10_occGAUSSIAN    FGVC-Aircraft  \n",
       "resnet_FGVC-Aircraft_E20_occGAUSSIAN    FGVC-Aircraft  \n",
       "resnet_FGVC-Aircraft_E10_occSOFTMAX     FGVC-Aircraft  \n",
       "resnet_FGVC-Aircraft_E20_occSOFTMAX     FGVC-Aircraft  "
      ]
     },
     "execution_count": 8,
     "metadata": {},
     "output_type": "execute_result"
    }
   ],
   "source": [
    "pd.read_csv(save_path, index_col=0)"
   ]
  },
  {
   "cell_type": "code",
   "execution_count": 54,
   "metadata": {
    "collapsed": false,
    "jupyter": {
     "outputs_hidden": false
    },
    "pycharm": {
     "name": "#%%\n"
    }
   },
   "outputs": [
    {
     "data": {
      "text/plain": [
       "727"
      ]
     },
     "execution_count": 54,
     "metadata": {},
     "output_type": "execute_result"
    }
   ],
   "source": []
  },
  {
   "cell_type": "code",
   "execution_count": null,
   "metadata": {
    "collapsed": false,
    "jupyter": {
     "outputs_hidden": false
    },
    "pycharm": {
     "name": "#%%\n"
    }
   },
   "outputs": [],
   "source": []
  }
 ],
 "metadata": {
  "kernelspec": {
   "display_name": "Python",
   "language": "python",
   "name": "python3"
  },
  "language_info": {
   "codemirror_mode": {
    "name": "ipython",
    "version": 3
   },
   "file_extension": ".py",
   "mimetype": "text/x-python",
   "name": "python",
   "nbconvert_exporter": "python",
   "pygments_lexer": "ipython3",
   "version": "3.8.10"
  }
 },
 "nbformat": 4,
 "nbformat_minor": 4
}
