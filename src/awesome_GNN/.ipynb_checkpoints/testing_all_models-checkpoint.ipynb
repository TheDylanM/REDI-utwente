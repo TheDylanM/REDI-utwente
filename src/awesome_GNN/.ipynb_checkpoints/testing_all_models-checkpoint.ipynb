{
 "cells": [
  {
   "cell_type": "markdown",
   "metadata": {
    "pycharm": {
     "name": "#%% md\n"
    }
   },
   "source": [
    "# Testing setup for all models"
   ]
  },
  {
   "cell_type": "code",
   "execution_count": 1,
   "metadata": {
    "collapsed": false,
    "jupyter": {
     "outputs_hidden": false
    },
    "pycharm": {
     "name": "#%%\n"
    }
   },
   "outputs": [],
   "source": [
    "import torch\n",
    "import os\n",
    "import numpy as np\n",
    "import pandas as pd\n",
    "import finetune\n",
    "import importlib\n",
    "from tqdm import tqdm\n",
    "import matplotlib.pyplot as plt"
   ]
  },
  {
   "cell_type": "code",
   "execution_count": 2,
   "metadata": {
    "collapsed": false,
    "jupyter": {
     "outputs_hidden": false
    },
    "pycharm": {
     "name": "#%%\n"
    }
   },
   "outputs": [
    {
     "data": {
      "text/plain": [
       "<module 'finetune' from '/home/jovyan/Master/REDI/REDI-utwente/src/awesome_GNN/finetune.py'>"
      ]
     },
     "execution_count": 2,
     "metadata": {},
     "output_type": "execute_result"
    }
   ],
   "source": [
    "importlib.reload(finetune)"
   ]
  },
  {
   "cell_type": "code",
   "execution_count": 3,
   "metadata": {
    "collapsed": false,
    "jupyter": {
     "outputs_hidden": false
    },
    "pycharm": {
     "name": "#%%\n"
    }
   },
   "outputs": [],
   "source": [
    "path_to_data = os.path.join('..', '..', 'data')\n",
    "path_to_models = os.path.join(path_to_data, 'finetuned_models')\n",
    "\n"
   ]
  },
  {
   "cell_type": "code",
   "execution_count": 5,
   "metadata": {
    "collapsed": false,
    "jupyter": {
     "outputs_hidden": false
    },
    "pycharm": {
     "is_executing": true,
     "name": "#%%\n"
    }
   },
   "outputs": [
    {
     "name": "stdout",
     "output_type": "stream",
     "text": [
      "name:      vgg \n",
      "epochs:    10 \n",
      "occlusion: None\n",
      "dataset:   FGVC-Aircraft\n",
      "--------------------------\n"
     ]
    },
    {
     "name": "stderr",
     "output_type": "stream",
     "text": [
      "100%|██████████| 417/417 [00:44<00:00,  9.36it/s]\n"
     ]
    },
    {
     "name": "stdout",
     "output_type": "stream",
     "text": [
      "Elapsed time: 44.5606324672699\n",
      "name:      vgg \n",
      "epochs:    20 \n",
      "occlusion: None\n",
      "dataset:   FGVC-Aircraft\n",
      "--------------------------\n"
     ]
    },
    {
     "name": "stderr",
     "output_type": "stream",
     "text": [
      "100%|██████████| 417/417 [00:41<00:00, 10.16it/s]\n"
     ]
    },
    {
     "name": "stdout",
     "output_type": "stream",
     "text": [
      "Elapsed time: 41.087321281433105\n",
      "name:      vgg \n",
      "epochs:    10 \n",
      "occlusion: 0\n",
      "dataset:   FGVC-Aircraft\n",
      "--------------------------\n"
     ]
    },
    {
     "name": "stderr",
     "output_type": "stream",
     "text": [
      "100%|██████████| 417/417 [00:41<00:00, 10.15it/s]\n"
     ]
    },
    {
     "name": "stdout",
     "output_type": "stream",
     "text": [
      "Elapsed time: 41.09566330909729\n",
      "name:      vgg \n",
      "epochs:    20 \n",
      "occlusion: 0\n",
      "dataset:   FGVC-Aircraft\n",
      "--------------------------\n"
     ]
    },
    {
     "name": "stderr",
     "output_type": "stream",
     "text": [
      "100%|██████████| 417/417 [00:41<00:00, 10.15it/s]\n"
     ]
    },
    {
     "name": "stdout",
     "output_type": "stream",
     "text": [
      "Elapsed time: 41.0959746837616\n",
      "name:      vgg \n",
      "epochs:    10 \n",
      "occlusion: 1\n",
      "dataset:   FGVC-Aircraft\n",
      "--------------------------\n"
     ]
    },
    {
     "name": "stderr",
     "output_type": "stream",
     "text": [
      "100%|██████████| 417/417 [00:41<00:00, 10.15it/s]\n"
     ]
    },
    {
     "name": "stdout",
     "output_type": "stream",
     "text": [
      "Elapsed time: 41.1173951625824\n",
      "name:      vgg \n",
      "epochs:    20 \n",
      "occlusion: 1\n",
      "dataset:   FGVC-Aircraft\n",
      "--------------------------\n"
     ]
    },
    {
     "name": "stderr",
     "output_type": "stream",
     "text": [
      "100%|██████████| 417/417 [00:41<00:00, 10.14it/s]\n"
     ]
    },
    {
     "name": "stdout",
     "output_type": "stream",
     "text": [
      "Elapsed time: 41.166115283966064\n",
      "name:      vgg \n",
      "epochs:    10 \n",
      "occlusion: GAUSSIAN\n",
      "dataset:   FGVC-Aircraft\n",
      "--------------------------\n"
     ]
    },
    {
     "name": "stderr",
     "output_type": "stream",
     "text": [
      "100%|██████████| 417/417 [00:41<00:00, 10.13it/s]\n"
     ]
    },
    {
     "name": "stdout",
     "output_type": "stream",
     "text": [
      "Elapsed time: 41.18751239776611\n",
      "name:      vgg \n",
      "epochs:    20 \n",
      "occlusion: GAUSSIAN\n",
      "dataset:   FGVC-Aircraft\n",
      "--------------------------\n"
     ]
    },
    {
     "name": "stderr",
     "output_type": "stream",
     "text": [
      "100%|██████████| 417/417 [00:41<00:00, 10.12it/s]\n"
     ]
    },
    {
     "name": "stdout",
     "output_type": "stream",
     "text": [
      "Elapsed time: 41.22176456451416\n",
      "name:      vgg \n",
      "epochs:    10 \n",
      "occlusion: SOFTMAX\n",
      "dataset:   FGVC-Aircraft\n",
      "--------------------------\n"
     ]
    },
    {
     "name": "stderr",
     "output_type": "stream",
     "text": [
      "100%|██████████| 417/417 [00:41<00:00, 10.12it/s]\n"
     ]
    },
    {
     "name": "stdout",
     "output_type": "stream",
     "text": [
      "Elapsed time: 41.220067739486694\n",
      "name:      vgg \n",
      "epochs:    20 \n",
      "occlusion: SOFTMAX\n",
      "dataset:   FGVC-Aircraft\n",
      "--------------------------\n"
     ]
    },
    {
     "name": "stderr",
     "output_type": "stream",
     "text": [
      "100%|██████████| 417/417 [00:41<00:00, 10.14it/s]\n"
     ]
    },
    {
     "name": "stdout",
     "output_type": "stream",
     "text": [
      "Elapsed time: 41.147825956344604\n",
      "name:      densenet \n",
      "epochs:    10 \n",
      "occlusion: None\n",
      "dataset:   FGVC-Aircraft\n",
      "--------------------------\n"
     ]
    },
    {
     "name": "stderr",
     "output_type": "stream",
     "text": [
      "100%|██████████| 417/417 [00:34<00:00, 12.01it/s]\n"
     ]
    },
    {
     "name": "stdout",
     "output_type": "stream",
     "text": [
      "Elapsed time: 34.74309682846069\n",
      "name:      densenet \n",
      "epochs:    20 \n",
      "occlusion: None\n",
      "dataset:   FGVC-Aircraft\n",
      "--------------------------\n"
     ]
    },
    {
     "name": "stderr",
     "output_type": "stream",
     "text": [
      "100%|██████████| 417/417 [00:34<00:00, 12.13it/s]\n"
     ]
    },
    {
     "name": "stdout",
     "output_type": "stream",
     "text": [
      "Elapsed time: 34.40787172317505\n",
      "name:      densenet \n",
      "epochs:    10 \n",
      "occlusion: 0\n",
      "dataset:   FGVC-Aircraft\n",
      "--------------------------\n"
     ]
    },
    {
     "name": "stderr",
     "output_type": "stream",
     "text": [
      "100%|██████████| 417/417 [00:34<00:00, 12.13it/s]\n"
     ]
    },
    {
     "name": "stdout",
     "output_type": "stream",
     "text": [
      "Elapsed time: 34.40094304084778\n",
      "name:      densenet \n",
      "epochs:    20 \n",
      "occlusion: 0\n",
      "dataset:   FGVC-Aircraft\n",
      "--------------------------\n"
     ]
    },
    {
     "name": "stderr",
     "output_type": "stream",
     "text": [
      "100%|██████████| 417/417 [00:34<00:00, 12.16it/s]\n"
     ]
    },
    {
     "name": "stdout",
     "output_type": "stream",
     "text": [
      "Elapsed time: 34.3268518447876\n",
      "name:      densenet \n",
      "epochs:    10 \n",
      "occlusion: 1\n",
      "dataset:   FGVC-Aircraft\n",
      "--------------------------\n"
     ]
    },
    {
     "name": "stderr",
     "output_type": "stream",
     "text": [
      "100%|██████████| 417/417 [00:34<00:00, 12.18it/s]\n"
     ]
    },
    {
     "name": "stdout",
     "output_type": "stream",
     "text": [
      "Elapsed time: 34.25680756568909\n",
      "name:      densenet \n",
      "epochs:    20 \n",
      "occlusion: 1\n",
      "dataset:   FGVC-Aircraft\n",
      "--------------------------\n"
     ]
    },
    {
     "name": "stderr",
     "output_type": "stream",
     "text": [
      "100%|██████████| 417/417 [00:34<00:00, 12.15it/s]\n"
     ]
    },
    {
     "name": "stdout",
     "output_type": "stream",
     "text": [
      "Elapsed time: 34.34412360191345\n",
      "name:      densenet \n",
      "epochs:    10 \n",
      "occlusion: GAUSSIAN\n",
      "dataset:   FGVC-Aircraft\n",
      "--------------------------\n"
     ]
    },
    {
     "name": "stderr",
     "output_type": "stream",
     "text": [
      "100%|██████████| 417/417 [00:34<00:00, 12.18it/s]\n"
     ]
    },
    {
     "name": "stdout",
     "output_type": "stream",
     "text": [
      "Elapsed time: 34.267143964767456\n",
      "name:      densenet \n",
      "epochs:    20 \n",
      "occlusion: GAUSSIAN\n",
      "dataset:   FGVC-Aircraft\n",
      "--------------------------\n"
     ]
    },
    {
     "name": "stderr",
     "output_type": "stream",
     "text": [
      "100%|██████████| 417/417 [00:34<00:00, 12.15it/s]\n"
     ]
    },
    {
     "name": "stdout",
     "output_type": "stream",
     "text": [
      "Elapsed time: 34.34529423713684\n",
      "name:      densenet \n",
      "epochs:    10 \n",
      "occlusion: SOFTMAX\n",
      "dataset:   FGVC-Aircraft\n",
      "--------------------------\n"
     ]
    },
    {
     "name": "stderr",
     "output_type": "stream",
     "text": [
      "100%|██████████| 417/417 [00:34<00:00, 12.18it/s]\n"
     ]
    },
    {
     "name": "stdout",
     "output_type": "stream",
     "text": [
      "Elapsed time: 34.255460262298584\n",
      "name:      densenet \n",
      "epochs:    20 \n",
      "occlusion: SOFTMAX\n",
      "dataset:   FGVC-Aircraft\n",
      "--------------------------\n"
     ]
    },
    {
     "name": "stderr",
     "output_type": "stream",
     "text": [
      "100%|██████████| 417/417 [00:34<00:00, 12.21it/s]\n"
     ]
    },
    {
     "name": "stdout",
     "output_type": "stream",
     "text": [
      "Elapsed time: 34.17853593826294\n",
      "name:      resnet \n",
      "epochs:    10 \n",
      "occlusion: None\n",
      "dataset:   FGVC-Aircraft\n",
      "--------------------------\n"
     ]
    },
    {
     "name": "stderr",
     "output_type": "stream",
     "text": [
      "100%|██████████| 417/417 [00:19<00:00, 21.90it/s]\n"
     ]
    },
    {
     "name": "stdout",
     "output_type": "stream",
     "text": [
      "Elapsed time: 19.079259634017944\n",
      "name:      resnet \n",
      "epochs:    20 \n",
      "occlusion: None\n",
      "dataset:   FGVC-Aircraft\n",
      "--------------------------\n"
     ]
    },
    {
     "name": "stderr",
     "output_type": "stream",
     "text": [
      "100%|██████████| 417/417 [00:18<00:00, 21.97it/s]\n"
     ]
    },
    {
     "name": "stdout",
     "output_type": "stream",
     "text": [
      "Elapsed time: 19.00825333595276\n",
      "name:      resnet \n",
      "epochs:    10 \n",
      "occlusion: 0\n",
      "dataset:   FGVC-Aircraft\n",
      "--------------------------\n"
     ]
    },
    {
     "name": "stderr",
     "output_type": "stream",
     "text": [
      "100%|██████████| 417/417 [00:18<00:00, 21.99it/s]\n"
     ]
    },
    {
     "name": "stdout",
     "output_type": "stream",
     "text": [
      "Elapsed time: 18.99341130256653\n",
      "name:      resnet \n",
      "epochs:    20 \n",
      "occlusion: 0\n",
      "dataset:   FGVC-Aircraft\n",
      "--------------------------\n"
     ]
    },
    {
     "name": "stderr",
     "output_type": "stream",
     "text": [
      "100%|██████████| 417/417 [00:18<00:00, 21.97it/s]\n"
     ]
    },
    {
     "name": "stdout",
     "output_type": "stream",
     "text": [
      "Elapsed time: 19.007035732269287\n",
      "name:      resnet \n",
      "epochs:    10 \n",
      "occlusion: 1\n",
      "dataset:   FGVC-Aircraft\n",
      "--------------------------\n"
     ]
    },
    {
     "name": "stderr",
     "output_type": "stream",
     "text": [
      "100%|██████████| 417/417 [00:18<00:00, 22.02it/s]\n"
     ]
    },
    {
     "name": "stdout",
     "output_type": "stream",
     "text": [
      "Elapsed time: 18.966091871261597\n",
      "name:      resnet \n",
      "epochs:    20 \n",
      "occlusion: 1\n",
      "dataset:   FGVC-Aircraft\n",
      "--------------------------\n"
     ]
    },
    {
     "name": "stderr",
     "output_type": "stream",
     "text": [
      "100%|██████████| 417/417 [00:19<00:00, 21.92it/s]\n"
     ]
    },
    {
     "name": "stdout",
     "output_type": "stream",
     "text": [
      "Elapsed time: 19.05746555328369\n",
      "name:      resnet \n",
      "epochs:    10 \n",
      "occlusion: GAUSSIAN\n",
      "dataset:   FGVC-Aircraft\n",
      "--------------------------\n"
     ]
    },
    {
     "name": "stderr",
     "output_type": "stream",
     "text": [
      "100%|██████████| 417/417 [00:19<00:00, 21.91it/s]\n"
     ]
    },
    {
     "name": "stdout",
     "output_type": "stream",
     "text": [
      "Elapsed time: 19.061920642852783\n",
      "name:      resnet \n",
      "epochs:    20 \n",
      "occlusion: GAUSSIAN\n",
      "dataset:   FGVC-Aircraft\n",
      "--------------------------\n"
     ]
    },
    {
     "name": "stderr",
     "output_type": "stream",
     "text": [
      "100%|██████████| 417/417 [00:19<00:00, 21.95it/s]\n"
     ]
    },
    {
     "name": "stdout",
     "output_type": "stream",
     "text": [
      "Elapsed time: 19.032395839691162\n",
      "name:      resnet \n",
      "epochs:    10 \n",
      "occlusion: SOFTMAX\n",
      "dataset:   FGVC-Aircraft\n",
      "--------------------------\n"
     ]
    },
    {
     "name": "stderr",
     "output_type": "stream",
     "text": [
      "100%|██████████| 417/417 [00:18<00:00, 22.05it/s]\n"
     ]
    },
    {
     "name": "stdout",
     "output_type": "stream",
     "text": [
      "Elapsed time: 18.94279408454895\n",
      "name:      resnet \n",
      "epochs:    20 \n",
      "occlusion: SOFTMAX\n",
      "dataset:   FGVC-Aircraft\n",
      "--------------------------\n"
     ]
    },
    {
     "name": "stderr",
     "output_type": "stream",
     "text": [
      "100%|██████████| 417/417 [00:18<00:00, 21.96it/s]"
     ]
    },
    {
     "name": "stdout",
     "output_type": "stream",
     "text": [
      "Elapsed time: 19.015508890151978\n"
     ]
    },
    {
     "name": "stderr",
     "output_type": "stream",
     "text": [
      "\n"
     ]
    }
   ],
   "source": [
    "importlib.reload(finetune)\n",
    "\n",
    "datasets = finetune.DATASET_OPTIONS\n",
    "datasets = reversed(datasets)\n",
    "model_names = ['resnet', 'densenet', 'vgg']\n",
    "model_names = reversed(model_names)\n",
    "\n",
    "\n",
    "total_results = {}\n",
    "for dataset in datasets:\n",
    "    finetune.DATASET = dataset\n",
    "    for model_name in model_names:\n",
    "        finetune.CLASSIFIER_NAME = model_name\n",
    "        for occlusion in finetune.OCCLUSION_OPTIONS:\n",
    "            for e in [10, 20]: # 10, 20, 30, 40, 50\n",
    "                finetune.OCCLUSION_NAME = occlusion\n",
    "                load_path = finetune.format_model_path(model_name, dataset, e)\n",
    "\n",
    "                metrics = finetune.test_model(load_path, _verbose=True)\n",
    "                metrics['dataset'] = dataset\n",
    "\n",
    "                # This line is just for windows\n",
    "                load_path = load_path.replace('\\\\', '/')\n",
    "                file_name = load_path.split('/')[-1].replace('.pth', '')\n",
    "\n",
    "                total_results[file_name] = metrics"
   ]
  },
  {
   "cell_type": "code",
   "execution_count": 6,
   "metadata": {
    "collapsed": false,
    "jupyter": {
     "outputs_hidden": false
    },
    "pycharm": {
     "name": "#%%\n"
    }
   },
   "outputs": [
    {
     "name": "stdout",
     "output_type": "stream",
     "text": [
      "dict_keys(['vgg_FGVC-Aircraft_E10', 'vgg_FGVC-Aircraft_E20', 'vgg_FGVC-Aircraft_E10_occ0', 'vgg_FGVC-Aircraft_E20_occ0', 'vgg_FGVC-Aircraft_E10_occ1', 'vgg_FGVC-Aircraft_E20_occ1', 'vgg_FGVC-Aircraft_E10_occGAUSSIAN', 'vgg_FGVC-Aircraft_E20_occGAUSSIAN', 'vgg_FGVC-Aircraft_E10_occSOFTMAX', 'vgg_FGVC-Aircraft_E20_occSOFTMAX', 'densenet_FGVC-Aircraft_E10', 'densenet_FGVC-Aircraft_E20', 'densenet_FGVC-Aircraft_E10_occ0', 'densenet_FGVC-Aircraft_E20_occ0', 'densenet_FGVC-Aircraft_E10_occ1', 'densenet_FGVC-Aircraft_E20_occ1', 'densenet_FGVC-Aircraft_E10_occGAUSSIAN', 'densenet_FGVC-Aircraft_E20_occGAUSSIAN', 'densenet_FGVC-Aircraft_E10_occSOFTMAX', 'densenet_FGVC-Aircraft_E20_occSOFTMAX', 'resnet_FGVC-Aircraft_E10', 'resnet_FGVC-Aircraft_E20', 'resnet_FGVC-Aircraft_E10_occ0', 'resnet_FGVC-Aircraft_E20_occ0', 'resnet_FGVC-Aircraft_E10_occ1', 'resnet_FGVC-Aircraft_E20_occ1', 'resnet_FGVC-Aircraft_E10_occGAUSSIAN', 'resnet_FGVC-Aircraft_E20_occGAUSSIAN', 'resnet_FGVC-Aircraft_E10_occSOFTMAX', 'resnet_FGVC-Aircraft_E20_occSOFTMAX'])\n",
      "[dict_keys(['accuracy', 'precision', 'recall', 'f1', 'total_predicted', 'total_labels', 'dataset']), dict_keys(['accuracy', 'precision', 'recall', 'f1', 'total_predicted', 'total_labels', 'dataset']), dict_keys(['accuracy', 'precision', 'recall', 'f1', 'total_predicted', 'total_labels', 'dataset']), dict_keys(['accuracy', 'precision', 'recall', 'f1', 'total_predicted', 'total_labels', 'dataset']), dict_keys(['accuracy', 'precision', 'recall', 'f1', 'total_predicted', 'total_labels', 'dataset']), dict_keys(['accuracy', 'precision', 'recall', 'f1', 'total_predicted', 'total_labels', 'dataset']), dict_keys(['accuracy', 'precision', 'recall', 'f1', 'total_predicted', 'total_labels', 'dataset']), dict_keys(['accuracy', 'precision', 'recall', 'f1', 'total_predicted', 'total_labels', 'dataset']), dict_keys(['accuracy', 'precision', 'recall', 'f1', 'total_predicted', 'total_labels', 'dataset']), dict_keys(['accuracy', 'precision', 'recall', 'f1', 'total_predicted', 'total_labels', 'dataset']), dict_keys(['accuracy', 'precision', 'recall', 'f1', 'total_predicted', 'total_labels', 'dataset']), dict_keys(['accuracy', 'precision', 'recall', 'f1', 'total_predicted', 'total_labels', 'dataset']), dict_keys(['accuracy', 'precision', 'recall', 'f1', 'total_predicted', 'total_labels', 'dataset']), dict_keys(['accuracy', 'precision', 'recall', 'f1', 'total_predicted', 'total_labels', 'dataset']), dict_keys(['accuracy', 'precision', 'recall', 'f1', 'total_predicted', 'total_labels', 'dataset']), dict_keys(['accuracy', 'precision', 'recall', 'f1', 'total_predicted', 'total_labels', 'dataset']), dict_keys(['accuracy', 'precision', 'recall', 'f1', 'total_predicted', 'total_labels', 'dataset']), dict_keys(['accuracy', 'precision', 'recall', 'f1', 'total_predicted', 'total_labels', 'dataset']), dict_keys(['accuracy', 'precision', 'recall', 'f1', 'total_predicted', 'total_labels', 'dataset']), dict_keys(['accuracy', 'precision', 'recall', 'f1', 'total_predicted', 'total_labels', 'dataset']), dict_keys(['accuracy', 'precision', 'recall', 'f1', 'total_predicted', 'total_labels', 'dataset']), dict_keys(['accuracy', 'precision', 'recall', 'f1', 'total_predicted', 'total_labels', 'dataset']), dict_keys(['accuracy', 'precision', 'recall', 'f1', 'total_predicted', 'total_labels', 'dataset']), dict_keys(['accuracy', 'precision', 'recall', 'f1', 'total_predicted', 'total_labels', 'dataset']), dict_keys(['accuracy', 'precision', 'recall', 'f1', 'total_predicted', 'total_labels', 'dataset']), dict_keys(['accuracy', 'precision', 'recall', 'f1', 'total_predicted', 'total_labels', 'dataset']), dict_keys(['accuracy', 'precision', 'recall', 'f1', 'total_predicted', 'total_labels', 'dataset']), dict_keys(['accuracy', 'precision', 'recall', 'f1', 'total_predicted', 'total_labels', 'dataset']), dict_keys(['accuracy', 'precision', 'recall', 'f1', 'total_predicted', 'total_labels', 'dataset']), dict_keys(['accuracy', 'precision', 'recall', 'f1', 'total_predicted', 'total_labels', 'dataset'])]\n"
     ]
    },
    {
     "data": {
      "text/html": [
       "<div>\n",
       "<style scoped>\n",
       "    .dataframe tbody tr th:only-of-type {\n",
       "        vertical-align: middle;\n",
       "    }\n",
       "\n",
       "    .dataframe tbody tr th {\n",
       "        vertical-align: top;\n",
       "    }\n",
       "\n",
       "    .dataframe thead th {\n",
       "        text-align: right;\n",
       "    }\n",
       "</style>\n",
       "<table border=\"1\" class=\"dataframe\">\n",
       "  <thead>\n",
       "    <tr style=\"text-align: right;\">\n",
       "      <th></th>\n",
       "      <th>accuracy</th>\n",
       "      <th>precision</th>\n",
       "      <th>recall</th>\n",
       "      <th>f1</th>\n",
       "      <th>total_predicted</th>\n",
       "      <th>total_labels</th>\n",
       "      <th>dataset</th>\n",
       "    </tr>\n",
       "  </thead>\n",
       "  <tbody>\n",
       "    <tr>\n",
       "      <th>vgg_FGVC-Aircraft_E10</th>\n",
       "      <td>0.627063</td>\n",
       "      <td>0.663375</td>\n",
       "      <td>0.627063</td>\n",
       "      <td>0.622358</td>\n",
       "      <td>[81.0, 17.0, 17.0, 30.0, 57.0, 51.0, 30.0, 15....</td>\n",
       "      <td>[81.0, 17.0, 17.0, 30.0, 57.0, 44.0, 30.0, 15....</td>\n",
       "      <td>FGVC-Aircraft</td>\n",
       "    </tr>\n",
       "    <tr>\n",
       "      <th>vgg_FGVC-Aircraft_E20</th>\n",
       "      <td>0.645365</td>\n",
       "      <td>0.672274</td>\n",
       "      <td>0.645365</td>\n",
       "      <td>0.641089</td>\n",
       "      <td>[43.0, 20.0, 66.0, 83.0, 15.0, 8.0, 44.0, 93.0...</td>\n",
       "      <td>[55.0, 20.0, 65.0, 83.0, 15.0, 9.0, 44.0, 93.0...</td>\n",
       "      <td>FGVC-Aircraft</td>\n",
       "    </tr>\n",
       "    <tr>\n",
       "      <th>vgg_FGVC-Aircraft_E10_occ0</th>\n",
       "      <td>0.545755</td>\n",
       "      <td>0.593101</td>\n",
       "      <td>0.545755</td>\n",
       "      <td>0.530509</td>\n",
       "      <td>[69.0, 91.0, 2.0, 98.0, 74.0, 67.0, 19.0, 49.0...</td>\n",
       "      <td>[69.0, 47.0, 2.0, 98.0, 75.0, 67.0, 19.0, 50.0...</td>\n",
       "      <td>FGVC-Aircraft</td>\n",
       "    </tr>\n",
       "    <tr>\n",
       "      <th>vgg_FGVC-Aircraft_E20_occ0</th>\n",
       "      <td>0.585659</td>\n",
       "      <td>0.638190</td>\n",
       "      <td>0.585659</td>\n",
       "      <td>0.587687</td>\n",
       "      <td>[1.0, 38.0, 77.0, 82.0, 70.0, 46.0, 39.0, 89.0...</td>\n",
       "      <td>[1.0, 39.0, 42.0, 82.0, 70.0, 45.0, 39.0, 89.0...</td>\n",
       "      <td>FGVC-Aircraft</td>\n",
       "    </tr>\n",
       "    <tr>\n",
       "      <th>vgg_FGVC-Aircraft_E10_occ1</th>\n",
       "      <td>0.587459</td>\n",
       "      <td>0.638985</td>\n",
       "      <td>0.587459</td>\n",
       "      <td>0.577315</td>\n",
       "      <td>[67.0, 6.0, 43.0, 34.0, 66.0, 18.0, 32.0, 5.0,...</td>\n",
       "      <td>[89.0, 19.0, 58.0, 63.0, 65.0, 12.0, 38.0, 2.0...</td>\n",
       "      <td>FGVC-Aircraft</td>\n",
       "    </tr>\n",
       "    <tr>\n",
       "      <th>vgg_FGVC-Aircraft_E20_occ1</th>\n",
       "      <td>0.620462</td>\n",
       "      <td>0.660228</td>\n",
       "      <td>0.620462</td>\n",
       "      <td>0.621440</td>\n",
       "      <td>[45.0, 74.0, 85.0, 64.0, 38.0, 89.0, 90.0, 68....</td>\n",
       "      <td>[45.0, 74.0, 75.0, 64.0, 37.0, 89.0, 90.0, 69....</td>\n",
       "      <td>FGVC-Aircraft</td>\n",
       "    </tr>\n",
       "    <tr>\n",
       "      <th>vgg_FGVC-Aircraft_E10_occGAUSSIAN</th>\n",
       "      <td>0.575758</td>\n",
       "      <td>0.629434</td>\n",
       "      <td>0.575758</td>\n",
       "      <td>0.567029</td>\n",
       "      <td>[77.0, 64.0, 73.0, 9.0, 32.0, 38.0, 31.0, 28.0...</td>\n",
       "      <td>[34.0, 64.0, 73.0, 8.0, 33.0, 38.0, 31.0, 28.0...</td>\n",
       "      <td>FGVC-Aircraft</td>\n",
       "    </tr>\n",
       "    <tr>\n",
       "      <th>vgg_FGVC-Aircraft_E20_occGAUSSIAN</th>\n",
       "      <td>0.612661</td>\n",
       "      <td>0.649770</td>\n",
       "      <td>0.612661</td>\n",
       "      <td>0.608542</td>\n",
       "      <td>[77.0, 27.0, 12.0, 27.0, 17.0, 3.0, 95.0, 95.0...</td>\n",
       "      <td>[60.0, 11.0, 13.0, 27.0, 17.0, 3.0, 95.0, 95.0...</td>\n",
       "      <td>FGVC-Aircraft</td>\n",
       "    </tr>\n",
       "    <tr>\n",
       "      <th>vgg_FGVC-Aircraft_E10_occSOFTMAX</th>\n",
       "      <td>0.566457</td>\n",
       "      <td>0.592105</td>\n",
       "      <td>0.566457</td>\n",
       "      <td>0.555110</td>\n",
       "      <td>[20.0, 54.0, 55.0, 27.0, 84.0, 25.0, 73.0, 8.0...</td>\n",
       "      <td>[31.0, 43.0, 54.0, 21.0, 84.0, 25.0, 28.0, 2.0...</td>\n",
       "      <td>FGVC-Aircraft</td>\n",
       "    </tr>\n",
       "    <tr>\n",
       "      <th>vgg_FGVC-Aircraft_E20_occSOFTMAX</th>\n",
       "      <td>0.611761</td>\n",
       "      <td>0.649875</td>\n",
       "      <td>0.611761</td>\n",
       "      <td>0.610242</td>\n",
       "      <td>[23.0, 21.0, 12.0, 56.0, 88.0, 3.0, 25.0, 71.0...</td>\n",
       "      <td>[23.0, 28.0, 27.0, 56.0, 86.0, 3.0, 24.0, 71.0...</td>\n",
       "      <td>FGVC-Aircraft</td>\n",
       "    </tr>\n",
       "    <tr>\n",
       "      <th>densenet_FGVC-Aircraft_E10</th>\n",
       "      <td>0.699370</td>\n",
       "      <td>0.717025</td>\n",
       "      <td>0.699370</td>\n",
       "      <td>0.693754</td>\n",
       "      <td>[2.0, 78.0, 39.0, 65.0, 58.0, 69.0, 55.0, 12.0...</td>\n",
       "      <td>[2.0, 27.0, 39.0, 65.0, 58.0, 45.0, 55.0, 10.0...</td>\n",
       "      <td>FGVC-Aircraft</td>\n",
       "    </tr>\n",
       "    <tr>\n",
       "      <th>densenet_FGVC-Aircraft_E20</th>\n",
       "      <td>0.714971</td>\n",
       "      <td>0.728882</td>\n",
       "      <td>0.714971</td>\n",
       "      <td>0.712943</td>\n",
       "      <td>[98.0, 19.0, 22.0, 95.0, 10.0, 16.0, 82.0, 15....</td>\n",
       "      <td>[98.0, 20.0, 22.0, 95.0, 55.0, 16.0, 82.0, 15....</td>\n",
       "      <td>FGVC-Aircraft</td>\n",
       "    </tr>\n",
       "    <tr>\n",
       "      <th>densenet_FGVC-Aircraft_E10_occ0</th>\n",
       "      <td>0.367837</td>\n",
       "      <td>0.393653</td>\n",
       "      <td>0.367837</td>\n",
       "      <td>0.340477</td>\n",
       "      <td>[45.0, 91.0, 70.0, 84.0, 16.0, 37.0, 84.0, 90....</td>\n",
       "      <td>[46.0, 47.0, 70.0, 0.0, 86.0, 37.0, 0.0, 90.0,...</td>\n",
       "      <td>FGVC-Aircraft</td>\n",
       "    </tr>\n",
       "    <tr>\n",
       "      <th>densenet_FGVC-Aircraft_E20_occ0</th>\n",
       "      <td>0.486049</td>\n",
       "      <td>0.555013</td>\n",
       "      <td>0.486049</td>\n",
       "      <td>0.486293</td>\n",
       "      <td>[19.0, 95.0, 79.0, 7.0, 64.0, 83.0, 16.0, 72.0...</td>\n",
       "      <td>[33.0, 43.0, 97.0, 2.0, 64.0, 83.0, 9.0, 72.0,...</td>\n",
       "      <td>FGVC-Aircraft</td>\n",
       "    </tr>\n",
       "    <tr>\n",
       "      <th>densenet_FGVC-Aircraft_E10_occ1</th>\n",
       "      <td>0.476448</td>\n",
       "      <td>0.527821</td>\n",
       "      <td>0.476448</td>\n",
       "      <td>0.462162</td>\n",
       "      <td>[90.0, 22.0, 42.0, 56.0, 64.0, 11.0, 35.0, 11....</td>\n",
       "      <td>[89.0, 10.0, 36.0, 56.0, 64.0, 12.0, 35.0, 32....</td>\n",
       "      <td>FGVC-Aircraft</td>\n",
       "    </tr>\n",
       "    <tr>\n",
       "      <th>densenet_FGVC-Aircraft_E20_occ1</th>\n",
       "      <td>0.594659</td>\n",
       "      <td>0.632057</td>\n",
       "      <td>0.594659</td>\n",
       "      <td>0.586014</td>\n",
       "      <td>[21.0, 46.0, 71.0, 98.0, 5.0, 13.0, 31.0, 92.0...</td>\n",
       "      <td>[55.0, 51.0, 71.0, 99.0, 5.0, 11.0, 32.0, 92.0...</td>\n",
       "      <td>FGVC-Aircraft</td>\n",
       "    </tr>\n",
       "    <tr>\n",
       "      <th>densenet_FGVC-Aircraft_E10_occGAUSSIAN</th>\n",
       "      <td>0.351035</td>\n",
       "      <td>0.423080</td>\n",
       "      <td>0.351035</td>\n",
       "      <td>0.327320</td>\n",
       "      <td>[47.0, 87.0, 94.0, 55.0, 48.0, 72.0, 81.0, 23....</td>\n",
       "      <td>[47.0, 56.0, 94.0, 55.0, 59.0, 71.0, 81.0, 23....</td>\n",
       "      <td>FGVC-Aircraft</td>\n",
       "    </tr>\n",
       "    <tr>\n",
       "      <th>densenet_FGVC-Aircraft_E20_occGAUSSIAN</th>\n",
       "      <td>0.539754</td>\n",
       "      <td>0.577277</td>\n",
       "      <td>0.539754</td>\n",
       "      <td>0.525510</td>\n",
       "      <td>[99.0, 58.0, 74.0, 5.0, 99.0, 14.0, 78.0, 52.0...</td>\n",
       "      <td>[99.0, 58.0, 74.0, 5.0, 99.0, 84.0, 30.0, 17.0...</td>\n",
       "      <td>FGVC-Aircraft</td>\n",
       "    </tr>\n",
       "    <tr>\n",
       "      <th>densenet_FGVC-Aircraft_E10_occSOFTMAX</th>\n",
       "      <td>0.374737</td>\n",
       "      <td>0.426811</td>\n",
       "      <td>0.374737</td>\n",
       "      <td>0.348498</td>\n",
       "      <td>[13.0, 36.0, 22.0, 89.0, 63.0, 36.0, 63.0, 35....</td>\n",
       "      <td>[30.0, 60.0, 23.0, 89.0, 63.0, 77.0, 60.0, 35....</td>\n",
       "      <td>FGVC-Aircraft</td>\n",
       "    </tr>\n",
       "    <tr>\n",
       "      <th>densenet_FGVC-Aircraft_E20_occSOFTMAX</th>\n",
       "      <td>0.517852</td>\n",
       "      <td>0.556911</td>\n",
       "      <td>0.517852</td>\n",
       "      <td>0.500786</td>\n",
       "      <td>[11.0, 65.0, 6.0, 51.0, 83.0, 60.0, 2.0, 30.0,...</td>\n",
       "      <td>[0.0, 65.0, 6.0, 51.0, 83.0, 60.0, 5.0, 18.0, ...</td>\n",
       "      <td>FGVC-Aircraft</td>\n",
       "    </tr>\n",
       "    <tr>\n",
       "      <th>resnet_FGVC-Aircraft_E10</th>\n",
       "      <td>0.629763</td>\n",
       "      <td>0.654519</td>\n",
       "      <td>0.629763</td>\n",
       "      <td>0.628464</td>\n",
       "      <td>[39.0, 1.0, 47.0, 71.0, 94.0, 77.0, 80.0, 37.0...</td>\n",
       "      <td>[39.0, 44.0, 47.0, 71.0, 94.0, 35.0, 80.0, 38....</td>\n",
       "      <td>FGVC-Aircraft</td>\n",
       "    </tr>\n",
       "    <tr>\n",
       "      <th>resnet_FGVC-Aircraft_E20</th>\n",
       "      <td>0.629763</td>\n",
       "      <td>0.654519</td>\n",
       "      <td>0.629763</td>\n",
       "      <td>0.628464</td>\n",
       "      <td>[15.0, 62.0, 83.0, 60.0, 92.0, 77.0, 13.0, 17....</td>\n",
       "      <td>[15.0, 62.0, 83.0, 60.0, 92.0, 77.0, 13.0, 17....</td>\n",
       "      <td>FGVC-Aircraft</td>\n",
       "    </tr>\n",
       "    <tr>\n",
       "      <th>resnet_FGVC-Aircraft_E10_occ0</th>\n",
       "      <td>0.264626</td>\n",
       "      <td>0.289833</td>\n",
       "      <td>0.264626</td>\n",
       "      <td>0.229932</td>\n",
       "      <td>[71.0, 52.0, 32.0, 81.0, 34.0, 50.0, 69.0, 81....</td>\n",
       "      <td>[71.0, 10.0, 30.0, 40.0, 34.0, 89.0, 99.0, 81....</td>\n",
       "      <td>FGVC-Aircraft</td>\n",
       "    </tr>\n",
       "    <tr>\n",
       "      <th>resnet_FGVC-Aircraft_E20_occ0</th>\n",
       "      <td>0.450945</td>\n",
       "      <td>0.498313</td>\n",
       "      <td>0.450945</td>\n",
       "      <td>0.438790</td>\n",
       "      <td>[52.0, 63.0, 75.0, 90.0, 6.0, 33.0, 76.0, 50.0...</td>\n",
       "      <td>[52.0, 63.0, 75.0, 90.0, 5.0, 33.0, 87.0, 40.0...</td>\n",
       "      <td>FGVC-Aircraft</td>\n",
       "    </tr>\n",
       "    <tr>\n",
       "      <th>resnet_FGVC-Aircraft_E10_occ1</th>\n",
       "      <td>0.418842</td>\n",
       "      <td>0.465311</td>\n",
       "      <td>0.418842</td>\n",
       "      <td>0.394264</td>\n",
       "      <td>[78.0, 87.0, 80.0, 64.0, 49.0, 43.0, 20.0, 15....</td>\n",
       "      <td>[78.0, 86.0, 81.0, 75.0, 49.0, 10.0, 19.0, 15....</td>\n",
       "      <td>FGVC-Aircraft</td>\n",
       "    </tr>\n",
       "    <tr>\n",
       "      <th>resnet_FGVC-Aircraft_E20_occ1</th>\n",
       "      <td>0.517552</td>\n",
       "      <td>0.564293</td>\n",
       "      <td>0.517552</td>\n",
       "      <td>0.513290</td>\n",
       "      <td>[26.0, 18.0, 86.0, 19.0, 72.0, 22.0, 46.0, 60....</td>\n",
       "      <td>[3.0, 85.0, 86.0, 52.0, 72.0, 21.0, 46.0, 63.0...</td>\n",
       "      <td>FGVC-Aircraft</td>\n",
       "    </tr>\n",
       "    <tr>\n",
       "      <th>resnet_FGVC-Aircraft_E10_occGAUSSIAN</th>\n",
       "      <td>0.383438</td>\n",
       "      <td>0.418025</td>\n",
       "      <td>0.383438</td>\n",
       "      <td>0.360389</td>\n",
       "      <td>[46.0, 41.0, 89.0, 69.0, 22.0, 10.0, 55.0, 74....</td>\n",
       "      <td>[69.0, 88.0, 90.0, 79.0, 31.0, 77.0, 52.0, 74....</td>\n",
       "      <td>FGVC-Aircraft</td>\n",
       "    </tr>\n",
       "    <tr>\n",
       "      <th>resnet_FGVC-Aircraft_E20_occGAUSSIAN</th>\n",
       "      <td>0.511551</td>\n",
       "      <td>0.552724</td>\n",
       "      <td>0.511551</td>\n",
       "      <td>0.507977</td>\n",
       "      <td>[83.0, 9.0, 76.0, 40.0, 27.0, 53.0, 88.0, 41.0...</td>\n",
       "      <td>[83.0, 9.0, 76.0, 40.0, 27.0, 43.0, 32.0, 41.0...</td>\n",
       "      <td>FGVC-Aircraft</td>\n",
       "    </tr>\n",
       "    <tr>\n",
       "      <th>resnet_FGVC-Aircraft_E10_occSOFTMAX</th>\n",
       "      <td>0.432643</td>\n",
       "      <td>0.488060</td>\n",
       "      <td>0.432643</td>\n",
       "      <td>0.415070</td>\n",
       "      <td>[97.0, 17.0, 55.0, 32.0, 34.0, 46.0, 62.0, 39....</td>\n",
       "      <td>[98.0, 28.0, 32.0, 33.0, 34.0, 46.0, 62.0, 39....</td>\n",
       "      <td>FGVC-Aircraft</td>\n",
       "    </tr>\n",
       "    <tr>\n",
       "      <th>resnet_FGVC-Aircraft_E20_occSOFTMAX</th>\n",
       "      <td>0.526253</td>\n",
       "      <td>0.560953</td>\n",
       "      <td>0.526253</td>\n",
       "      <td>0.517071</td>\n",
       "      <td>[83.0, 64.0, 8.0, 8.0, 88.0, 40.0, 37.0, 18.0,...</td>\n",
       "      <td>[83.0, 65.0, 8.0, 8.0, 86.0, 40.0, 37.0, 18.0,...</td>\n",
       "      <td>FGVC-Aircraft</td>\n",
       "    </tr>\n",
       "  </tbody>\n",
       "</table>\n",
       "</div>"
      ],
      "text/plain": [
       "                                        accuracy  precision    recall  \\\n",
       "vgg_FGVC-Aircraft_E10                   0.627063   0.663375  0.627063   \n",
       "vgg_FGVC-Aircraft_E20                   0.645365   0.672274  0.645365   \n",
       "vgg_FGVC-Aircraft_E10_occ0              0.545755   0.593101  0.545755   \n",
       "vgg_FGVC-Aircraft_E20_occ0              0.585659   0.638190  0.585659   \n",
       "vgg_FGVC-Aircraft_E10_occ1              0.587459   0.638985  0.587459   \n",
       "vgg_FGVC-Aircraft_E20_occ1              0.620462   0.660228  0.620462   \n",
       "vgg_FGVC-Aircraft_E10_occGAUSSIAN       0.575758   0.629434  0.575758   \n",
       "vgg_FGVC-Aircraft_E20_occGAUSSIAN       0.612661   0.649770  0.612661   \n",
       "vgg_FGVC-Aircraft_E10_occSOFTMAX        0.566457   0.592105  0.566457   \n",
       "vgg_FGVC-Aircraft_E20_occSOFTMAX        0.611761   0.649875  0.611761   \n",
       "densenet_FGVC-Aircraft_E10              0.699370   0.717025  0.699370   \n",
       "densenet_FGVC-Aircraft_E20              0.714971   0.728882  0.714971   \n",
       "densenet_FGVC-Aircraft_E10_occ0         0.367837   0.393653  0.367837   \n",
       "densenet_FGVC-Aircraft_E20_occ0         0.486049   0.555013  0.486049   \n",
       "densenet_FGVC-Aircraft_E10_occ1         0.476448   0.527821  0.476448   \n",
       "densenet_FGVC-Aircraft_E20_occ1         0.594659   0.632057  0.594659   \n",
       "densenet_FGVC-Aircraft_E10_occGAUSSIAN  0.351035   0.423080  0.351035   \n",
       "densenet_FGVC-Aircraft_E20_occGAUSSIAN  0.539754   0.577277  0.539754   \n",
       "densenet_FGVC-Aircraft_E10_occSOFTMAX   0.374737   0.426811  0.374737   \n",
       "densenet_FGVC-Aircraft_E20_occSOFTMAX   0.517852   0.556911  0.517852   \n",
       "resnet_FGVC-Aircraft_E10                0.629763   0.654519  0.629763   \n",
       "resnet_FGVC-Aircraft_E20                0.629763   0.654519  0.629763   \n",
       "resnet_FGVC-Aircraft_E10_occ0           0.264626   0.289833  0.264626   \n",
       "resnet_FGVC-Aircraft_E20_occ0           0.450945   0.498313  0.450945   \n",
       "resnet_FGVC-Aircraft_E10_occ1           0.418842   0.465311  0.418842   \n",
       "resnet_FGVC-Aircraft_E20_occ1           0.517552   0.564293  0.517552   \n",
       "resnet_FGVC-Aircraft_E10_occGAUSSIAN    0.383438   0.418025  0.383438   \n",
       "resnet_FGVC-Aircraft_E20_occGAUSSIAN    0.511551   0.552724  0.511551   \n",
       "resnet_FGVC-Aircraft_E10_occSOFTMAX     0.432643   0.488060  0.432643   \n",
       "resnet_FGVC-Aircraft_E20_occSOFTMAX     0.526253   0.560953  0.526253   \n",
       "\n",
       "                                              f1  \\\n",
       "vgg_FGVC-Aircraft_E10                   0.622358   \n",
       "vgg_FGVC-Aircraft_E20                   0.641089   \n",
       "vgg_FGVC-Aircraft_E10_occ0              0.530509   \n",
       "vgg_FGVC-Aircraft_E20_occ0              0.587687   \n",
       "vgg_FGVC-Aircraft_E10_occ1              0.577315   \n",
       "vgg_FGVC-Aircraft_E20_occ1              0.621440   \n",
       "vgg_FGVC-Aircraft_E10_occGAUSSIAN       0.567029   \n",
       "vgg_FGVC-Aircraft_E20_occGAUSSIAN       0.608542   \n",
       "vgg_FGVC-Aircraft_E10_occSOFTMAX        0.555110   \n",
       "vgg_FGVC-Aircraft_E20_occSOFTMAX        0.610242   \n",
       "densenet_FGVC-Aircraft_E10              0.693754   \n",
       "densenet_FGVC-Aircraft_E20              0.712943   \n",
       "densenet_FGVC-Aircraft_E10_occ0         0.340477   \n",
       "densenet_FGVC-Aircraft_E20_occ0         0.486293   \n",
       "densenet_FGVC-Aircraft_E10_occ1         0.462162   \n",
       "densenet_FGVC-Aircraft_E20_occ1         0.586014   \n",
       "densenet_FGVC-Aircraft_E10_occGAUSSIAN  0.327320   \n",
       "densenet_FGVC-Aircraft_E20_occGAUSSIAN  0.525510   \n",
       "densenet_FGVC-Aircraft_E10_occSOFTMAX   0.348498   \n",
       "densenet_FGVC-Aircraft_E20_occSOFTMAX   0.500786   \n",
       "resnet_FGVC-Aircraft_E10                0.628464   \n",
       "resnet_FGVC-Aircraft_E20                0.628464   \n",
       "resnet_FGVC-Aircraft_E10_occ0           0.229932   \n",
       "resnet_FGVC-Aircraft_E20_occ0           0.438790   \n",
       "resnet_FGVC-Aircraft_E10_occ1           0.394264   \n",
       "resnet_FGVC-Aircraft_E20_occ1           0.513290   \n",
       "resnet_FGVC-Aircraft_E10_occGAUSSIAN    0.360389   \n",
       "resnet_FGVC-Aircraft_E20_occGAUSSIAN    0.507977   \n",
       "resnet_FGVC-Aircraft_E10_occSOFTMAX     0.415070   \n",
       "resnet_FGVC-Aircraft_E20_occSOFTMAX     0.517071   \n",
       "\n",
       "                                                                          total_predicted  \\\n",
       "vgg_FGVC-Aircraft_E10                   [81.0, 17.0, 17.0, 30.0, 57.0, 51.0, 30.0, 15....   \n",
       "vgg_FGVC-Aircraft_E20                   [43.0, 20.0, 66.0, 83.0, 15.0, 8.0, 44.0, 93.0...   \n",
       "vgg_FGVC-Aircraft_E10_occ0              [69.0, 91.0, 2.0, 98.0, 74.0, 67.0, 19.0, 49.0...   \n",
       "vgg_FGVC-Aircraft_E20_occ0              [1.0, 38.0, 77.0, 82.0, 70.0, 46.0, 39.0, 89.0...   \n",
       "vgg_FGVC-Aircraft_E10_occ1              [67.0, 6.0, 43.0, 34.0, 66.0, 18.0, 32.0, 5.0,...   \n",
       "vgg_FGVC-Aircraft_E20_occ1              [45.0, 74.0, 85.0, 64.0, 38.0, 89.0, 90.0, 68....   \n",
       "vgg_FGVC-Aircraft_E10_occGAUSSIAN       [77.0, 64.0, 73.0, 9.0, 32.0, 38.0, 31.0, 28.0...   \n",
       "vgg_FGVC-Aircraft_E20_occGAUSSIAN       [77.0, 27.0, 12.0, 27.0, 17.0, 3.0, 95.0, 95.0...   \n",
       "vgg_FGVC-Aircraft_E10_occSOFTMAX        [20.0, 54.0, 55.0, 27.0, 84.0, 25.0, 73.0, 8.0...   \n",
       "vgg_FGVC-Aircraft_E20_occSOFTMAX        [23.0, 21.0, 12.0, 56.0, 88.0, 3.0, 25.0, 71.0...   \n",
       "densenet_FGVC-Aircraft_E10              [2.0, 78.0, 39.0, 65.0, 58.0, 69.0, 55.0, 12.0...   \n",
       "densenet_FGVC-Aircraft_E20              [98.0, 19.0, 22.0, 95.0, 10.0, 16.0, 82.0, 15....   \n",
       "densenet_FGVC-Aircraft_E10_occ0         [45.0, 91.0, 70.0, 84.0, 16.0, 37.0, 84.0, 90....   \n",
       "densenet_FGVC-Aircraft_E20_occ0         [19.0, 95.0, 79.0, 7.0, 64.0, 83.0, 16.0, 72.0...   \n",
       "densenet_FGVC-Aircraft_E10_occ1         [90.0, 22.0, 42.0, 56.0, 64.0, 11.0, 35.0, 11....   \n",
       "densenet_FGVC-Aircraft_E20_occ1         [21.0, 46.0, 71.0, 98.0, 5.0, 13.0, 31.0, 92.0...   \n",
       "densenet_FGVC-Aircraft_E10_occGAUSSIAN  [47.0, 87.0, 94.0, 55.0, 48.0, 72.0, 81.0, 23....   \n",
       "densenet_FGVC-Aircraft_E20_occGAUSSIAN  [99.0, 58.0, 74.0, 5.0, 99.0, 14.0, 78.0, 52.0...   \n",
       "densenet_FGVC-Aircraft_E10_occSOFTMAX   [13.0, 36.0, 22.0, 89.0, 63.0, 36.0, 63.0, 35....   \n",
       "densenet_FGVC-Aircraft_E20_occSOFTMAX   [11.0, 65.0, 6.0, 51.0, 83.0, 60.0, 2.0, 30.0,...   \n",
       "resnet_FGVC-Aircraft_E10                [39.0, 1.0, 47.0, 71.0, 94.0, 77.0, 80.0, 37.0...   \n",
       "resnet_FGVC-Aircraft_E20                [15.0, 62.0, 83.0, 60.0, 92.0, 77.0, 13.0, 17....   \n",
       "resnet_FGVC-Aircraft_E10_occ0           [71.0, 52.0, 32.0, 81.0, 34.0, 50.0, 69.0, 81....   \n",
       "resnet_FGVC-Aircraft_E20_occ0           [52.0, 63.0, 75.0, 90.0, 6.0, 33.0, 76.0, 50.0...   \n",
       "resnet_FGVC-Aircraft_E10_occ1           [78.0, 87.0, 80.0, 64.0, 49.0, 43.0, 20.0, 15....   \n",
       "resnet_FGVC-Aircraft_E20_occ1           [26.0, 18.0, 86.0, 19.0, 72.0, 22.0, 46.0, 60....   \n",
       "resnet_FGVC-Aircraft_E10_occGAUSSIAN    [46.0, 41.0, 89.0, 69.0, 22.0, 10.0, 55.0, 74....   \n",
       "resnet_FGVC-Aircraft_E20_occGAUSSIAN    [83.0, 9.0, 76.0, 40.0, 27.0, 53.0, 88.0, 41.0...   \n",
       "resnet_FGVC-Aircraft_E10_occSOFTMAX     [97.0, 17.0, 55.0, 32.0, 34.0, 46.0, 62.0, 39....   \n",
       "resnet_FGVC-Aircraft_E20_occSOFTMAX     [83.0, 64.0, 8.0, 8.0, 88.0, 40.0, 37.0, 18.0,...   \n",
       "\n",
       "                                                                             total_labels  \\\n",
       "vgg_FGVC-Aircraft_E10                   [81.0, 17.0, 17.0, 30.0, 57.0, 44.0, 30.0, 15....   \n",
       "vgg_FGVC-Aircraft_E20                   [55.0, 20.0, 65.0, 83.0, 15.0, 9.0, 44.0, 93.0...   \n",
       "vgg_FGVC-Aircraft_E10_occ0              [69.0, 47.0, 2.0, 98.0, 75.0, 67.0, 19.0, 50.0...   \n",
       "vgg_FGVC-Aircraft_E20_occ0              [1.0, 39.0, 42.0, 82.0, 70.0, 45.0, 39.0, 89.0...   \n",
       "vgg_FGVC-Aircraft_E10_occ1              [89.0, 19.0, 58.0, 63.0, 65.0, 12.0, 38.0, 2.0...   \n",
       "vgg_FGVC-Aircraft_E20_occ1              [45.0, 74.0, 75.0, 64.0, 37.0, 89.0, 90.0, 69....   \n",
       "vgg_FGVC-Aircraft_E10_occGAUSSIAN       [34.0, 64.0, 73.0, 8.0, 33.0, 38.0, 31.0, 28.0...   \n",
       "vgg_FGVC-Aircraft_E20_occGAUSSIAN       [60.0, 11.0, 13.0, 27.0, 17.0, 3.0, 95.0, 95.0...   \n",
       "vgg_FGVC-Aircraft_E10_occSOFTMAX        [31.0, 43.0, 54.0, 21.0, 84.0, 25.0, 28.0, 2.0...   \n",
       "vgg_FGVC-Aircraft_E20_occSOFTMAX        [23.0, 28.0, 27.0, 56.0, 86.0, 3.0, 24.0, 71.0...   \n",
       "densenet_FGVC-Aircraft_E10              [2.0, 27.0, 39.0, 65.0, 58.0, 45.0, 55.0, 10.0...   \n",
       "densenet_FGVC-Aircraft_E20              [98.0, 20.0, 22.0, 95.0, 55.0, 16.0, 82.0, 15....   \n",
       "densenet_FGVC-Aircraft_E10_occ0         [46.0, 47.0, 70.0, 0.0, 86.0, 37.0, 0.0, 90.0,...   \n",
       "densenet_FGVC-Aircraft_E20_occ0         [33.0, 43.0, 97.0, 2.0, 64.0, 83.0, 9.0, 72.0,...   \n",
       "densenet_FGVC-Aircraft_E10_occ1         [89.0, 10.0, 36.0, 56.0, 64.0, 12.0, 35.0, 32....   \n",
       "densenet_FGVC-Aircraft_E20_occ1         [55.0, 51.0, 71.0, 99.0, 5.0, 11.0, 32.0, 92.0...   \n",
       "densenet_FGVC-Aircraft_E10_occGAUSSIAN  [47.0, 56.0, 94.0, 55.0, 59.0, 71.0, 81.0, 23....   \n",
       "densenet_FGVC-Aircraft_E20_occGAUSSIAN  [99.0, 58.0, 74.0, 5.0, 99.0, 84.0, 30.0, 17.0...   \n",
       "densenet_FGVC-Aircraft_E10_occSOFTMAX   [30.0, 60.0, 23.0, 89.0, 63.0, 77.0, 60.0, 35....   \n",
       "densenet_FGVC-Aircraft_E20_occSOFTMAX   [0.0, 65.0, 6.0, 51.0, 83.0, 60.0, 5.0, 18.0, ...   \n",
       "resnet_FGVC-Aircraft_E10                [39.0, 44.0, 47.0, 71.0, 94.0, 35.0, 80.0, 38....   \n",
       "resnet_FGVC-Aircraft_E20                [15.0, 62.0, 83.0, 60.0, 92.0, 77.0, 13.0, 17....   \n",
       "resnet_FGVC-Aircraft_E10_occ0           [71.0, 10.0, 30.0, 40.0, 34.0, 89.0, 99.0, 81....   \n",
       "resnet_FGVC-Aircraft_E20_occ0           [52.0, 63.0, 75.0, 90.0, 5.0, 33.0, 87.0, 40.0...   \n",
       "resnet_FGVC-Aircraft_E10_occ1           [78.0, 86.0, 81.0, 75.0, 49.0, 10.0, 19.0, 15....   \n",
       "resnet_FGVC-Aircraft_E20_occ1           [3.0, 85.0, 86.0, 52.0, 72.0, 21.0, 46.0, 63.0...   \n",
       "resnet_FGVC-Aircraft_E10_occGAUSSIAN    [69.0, 88.0, 90.0, 79.0, 31.0, 77.0, 52.0, 74....   \n",
       "resnet_FGVC-Aircraft_E20_occGAUSSIAN    [83.0, 9.0, 76.0, 40.0, 27.0, 43.0, 32.0, 41.0...   \n",
       "resnet_FGVC-Aircraft_E10_occSOFTMAX     [98.0, 28.0, 32.0, 33.0, 34.0, 46.0, 62.0, 39....   \n",
       "resnet_FGVC-Aircraft_E20_occSOFTMAX     [83.0, 65.0, 8.0, 8.0, 86.0, 40.0, 37.0, 18.0,...   \n",
       "\n",
       "                                              dataset  \n",
       "vgg_FGVC-Aircraft_E10                   FGVC-Aircraft  \n",
       "vgg_FGVC-Aircraft_E20                   FGVC-Aircraft  \n",
       "vgg_FGVC-Aircraft_E10_occ0              FGVC-Aircraft  \n",
       "vgg_FGVC-Aircraft_E20_occ0              FGVC-Aircraft  \n",
       "vgg_FGVC-Aircraft_E10_occ1              FGVC-Aircraft  \n",
       "vgg_FGVC-Aircraft_E20_occ1              FGVC-Aircraft  \n",
       "vgg_FGVC-Aircraft_E10_occGAUSSIAN       FGVC-Aircraft  \n",
       "vgg_FGVC-Aircraft_E20_occGAUSSIAN       FGVC-Aircraft  \n",
       "vgg_FGVC-Aircraft_E10_occSOFTMAX        FGVC-Aircraft  \n",
       "vgg_FGVC-Aircraft_E20_occSOFTMAX        FGVC-Aircraft  \n",
       "densenet_FGVC-Aircraft_E10              FGVC-Aircraft  \n",
       "densenet_FGVC-Aircraft_E20              FGVC-Aircraft  \n",
       "densenet_FGVC-Aircraft_E10_occ0         FGVC-Aircraft  \n",
       "densenet_FGVC-Aircraft_E20_occ0         FGVC-Aircraft  \n",
       "densenet_FGVC-Aircraft_E10_occ1         FGVC-Aircraft  \n",
       "densenet_FGVC-Aircraft_E20_occ1         FGVC-Aircraft  \n",
       "densenet_FGVC-Aircraft_E10_occGAUSSIAN  FGVC-Aircraft  \n",
       "densenet_FGVC-Aircraft_E20_occGAUSSIAN  FGVC-Aircraft  \n",
       "densenet_FGVC-Aircraft_E10_occSOFTMAX   FGVC-Aircraft  \n",
       "densenet_FGVC-Aircraft_E20_occSOFTMAX   FGVC-Aircraft  \n",
       "resnet_FGVC-Aircraft_E10                FGVC-Aircraft  \n",
       "resnet_FGVC-Aircraft_E20                FGVC-Aircraft  \n",
       "resnet_FGVC-Aircraft_E10_occ0           FGVC-Aircraft  \n",
       "resnet_FGVC-Aircraft_E20_occ0           FGVC-Aircraft  \n",
       "resnet_FGVC-Aircraft_E10_occ1           FGVC-Aircraft  \n",
       "resnet_FGVC-Aircraft_E20_occ1           FGVC-Aircraft  \n",
       "resnet_FGVC-Aircraft_E10_occGAUSSIAN    FGVC-Aircraft  \n",
       "resnet_FGVC-Aircraft_E20_occGAUSSIAN    FGVC-Aircraft  \n",
       "resnet_FGVC-Aircraft_E10_occSOFTMAX     FGVC-Aircraft  \n",
       "resnet_FGVC-Aircraft_E20_occSOFTMAX     FGVC-Aircraft  "
      ]
     },
     "execution_count": 6,
     "metadata": {},
     "output_type": "execute_result"
    }
   ],
   "source": [
    "#  Save the metricsDIVISIONCREDITORS\n",
    "print(total_results.keys())\n",
    "print([total_results[key].keys() for key in total_results.keys()])\n",
    "df = pd.DataFrame.from_dict(total_results,\n",
    "                       orient='index',\n",
    "                       # columns=['accuracy', 'precision', 'recall', 'f1']\n",
    "                       )\n",
    "\n",
    "df"
   ]
  },
  {
   "cell_type": "code",
   "execution_count": 25,
   "metadata": {
    "collapsed": false,
    "jupyter": {
     "outputs_hidden": false
    },
    "pycharm": {
     "name": "#%%\n"
    }
   },
   "outputs": [],
   "source": [
    "save_path = os.path.join(path_to_data,'testing_results.csv')\n",
    "df.to_csv(save_path)"
   ]
  },
  {
   "cell_type": "code",
   "execution_count": 26,
   "metadata": {
    "collapsed": false,
    "jupyter": {
     "outputs_hidden": false
    },
    "pycharm": {
     "name": "#%%\n"
    }
   },
   "outputs": [
    {
     "data": {
      "text/html": [
       "<div>\n",
       "<style scoped>\n",
       "    .dataframe tbody tr th:only-of-type {\n",
       "        vertical-align: middle;\n",
       "    }\n",
       "\n",
       "    .dataframe tbody tr th {\n",
       "        vertical-align: top;\n",
       "    }\n",
       "\n",
       "    .dataframe thead th {\n",
       "        text-align: right;\n",
       "    }\n",
       "</style>\n",
       "<table border=\"1\" class=\"dataframe\">\n",
       "  <thead>\n",
       "    <tr style=\"text-align: right;\">\n",
       "      <th></th>\n",
       "      <th>accuracy</th>\n",
       "      <th>precision</th>\n",
       "      <th>recall</th>\n",
       "      <th>f1</th>\n",
       "      <th>total_predicted</th>\n",
       "      <th>total_labels</th>\n",
       "      <th>dataset</th>\n",
       "    </tr>\n",
       "  </thead>\n",
       "  <tbody>\n",
       "    <tr>\n",
       "      <th>vgg_StanfordCars_E10</th>\n",
       "      <td>0.715920</td>\n",
       "      <td>0.762110</td>\n",
       "      <td>0.715920</td>\n",
       "      <td>0.714437</td>\n",
       "      <td>[ 20. 168.   8. ...   0. 185. 117.]</td>\n",
       "      <td>[ 20. 191.   8. ...   0. 185. 117.]</td>\n",
       "      <td>StanfordCars</td>\n",
       "    </tr>\n",
       "    <tr>\n",
       "      <th>vgg_StanfordCars_E20</th>\n",
       "      <td>0.741294</td>\n",
       "      <td>0.774111</td>\n",
       "      <td>0.741294</td>\n",
       "      <td>0.741226</td>\n",
       "      <td>[159.  91. 129. ... 192.  33.   9.]</td>\n",
       "      <td>[159.  91. 129. ... 192.  29. 184.]</td>\n",
       "      <td>StanfordCars</td>\n",
       "    </tr>\n",
       "    <tr>\n",
       "      <th>vgg_StanfordCars_E10_occ0</th>\n",
       "      <td>0.301990</td>\n",
       "      <td>0.370036</td>\n",
       "      <td>0.301990</td>\n",
       "      <td>0.281846</td>\n",
       "      <td>[ 87. 184. 123. ...  90.  91. 186.]</td>\n",
       "      <td>[ 87. 184. 123. ...  52. 115. 183.]</td>\n",
       "      <td>StanfordCars</td>\n",
       "    </tr>\n",
       "    <tr>\n",
       "      <th>vgg_StanfordCars_E20_occ0</th>\n",
       "      <td>0.493781</td>\n",
       "      <td>0.549703</td>\n",
       "      <td>0.493781</td>\n",
       "      <td>0.489349</td>\n",
       "      <td>[ 32.  49.   5. ... 119.   6. 167.]</td>\n",
       "      <td>[ 32.  49. 130. ... 170.   3.  77.]</td>\n",
       "      <td>StanfordCars</td>\n",
       "    </tr>\n",
       "    <tr>\n",
       "      <th>vgg_StanfordCars_E10_occ1</th>\n",
       "      <td>0.654478</td>\n",
       "      <td>0.702229</td>\n",
       "      <td>0.654478</td>\n",
       "      <td>0.653138</td>\n",
       "      <td>[ 16.  48. 109. ... 183. 107. 102.]</td>\n",
       "      <td>[ 16.  48. 109. ... 182. 141. 102.]</td>\n",
       "      <td>StanfordCars</td>\n",
       "    </tr>\n",
       "    <tr>\n",
       "      <th>vgg_StanfordCars_E20_occ1</th>\n",
       "      <td>0.656716</td>\n",
       "      <td>0.701845</td>\n",
       "      <td>0.656716</td>\n",
       "      <td>0.655726</td>\n",
       "      <td>[160.  53.  22. ... 122. 124. 157.]</td>\n",
       "      <td>[160.  53.  22. ... 122. 148.  74.]</td>\n",
       "      <td>StanfordCars</td>\n",
       "    </tr>\n",
       "    <tr>\n",
       "      <th>vgg_StanfordCars_E10_occGAUSSIAN</th>\n",
       "      <td>0.637065</td>\n",
       "      <td>0.689761</td>\n",
       "      <td>0.637065</td>\n",
       "      <td>0.637645</td>\n",
       "      <td>[145.  17.   1. ... 154. 162. 115.]</td>\n",
       "      <td>[145.  17.   1. ... 154. 161.  78.]</td>\n",
       "      <td>StanfordCars</td>\n",
       "    </tr>\n",
       "    <tr>\n",
       "      <th>vgg_StanfordCars_E20_occGAUSSIAN</th>\n",
       "      <td>0.702239</td>\n",
       "      <td>0.735393</td>\n",
       "      <td>0.702239</td>\n",
       "      <td>0.703500</td>\n",
       "      <td>[ 59. 133.  68. ... 162. 113. 190.]</td>\n",
       "      <td>[ 59. 133.  67. ... 162. 113. 190.]</td>\n",
       "      <td>StanfordCars</td>\n",
       "    </tr>\n",
       "    <tr>\n",
       "      <th>vgg_StanfordCars_E10_occSOFTMAX</th>\n",
       "      <td>0.659701</td>\n",
       "      <td>0.712129</td>\n",
       "      <td>0.659701</td>\n",
       "      <td>0.659041</td>\n",
       "      <td>[ 94.  91.   7. ...  35.  13. 161.]</td>\n",
       "      <td>[ 94.  91.  56. ...  35.  19. 162.]</td>\n",
       "      <td>StanfordCars</td>\n",
       "    </tr>\n",
       "    <tr>\n",
       "      <th>vgg_StanfordCars_E20_occSOFTMAX</th>\n",
       "      <td>0.683831</td>\n",
       "      <td>0.729407</td>\n",
       "      <td>0.683831</td>\n",
       "      <td>0.680329</td>\n",
       "      <td>[ 41.  90. 116. ... 133.   5.  50.]</td>\n",
       "      <td>[ 75.  90. 116. ... 133.   5.  50.]</td>\n",
       "      <td>StanfordCars</td>\n",
       "    </tr>\n",
       "    <tr>\n",
       "      <th>densenet_StanfordCars_E10</th>\n",
       "      <td>0.862687</td>\n",
       "      <td>0.876415</td>\n",
       "      <td>0.862687</td>\n",
       "      <td>0.861064</td>\n",
       "      <td>[ 81.  52.  71. ... 181. 174. 181.]</td>\n",
       "      <td>[ 81.  52.  71. ... 181. 174. 181.]</td>\n",
       "      <td>StanfordCars</td>\n",
       "    </tr>\n",
       "    <tr>\n",
       "      <th>densenet_StanfordCars_E20</th>\n",
       "      <td>0.869154</td>\n",
       "      <td>0.878460</td>\n",
       "      <td>0.869154</td>\n",
       "      <td>0.869164</td>\n",
       "      <td>[177.  33.  42. ...  49.  93. 113.]</td>\n",
       "      <td>[177.  29.  42. ...  49.  93.  84.]</td>\n",
       "      <td>StanfordCars</td>\n",
       "    </tr>\n",
       "    <tr>\n",
       "      <th>densenet_StanfordCars_E10_occ0</th>\n",
       "      <td>0.608706</td>\n",
       "      <td>0.695528</td>\n",
       "      <td>0.608706</td>\n",
       "      <td>0.611269</td>\n",
       "      <td>[166.  96. 102. ...  67.  47. 134.]</td>\n",
       "      <td>[166. 165. 101. ...  68.  47. 134.]</td>\n",
       "      <td>StanfordCars</td>\n",
       "    </tr>\n",
       "    <tr>\n",
       "      <th>densenet_StanfordCars_E20_occ0</th>\n",
       "      <td>0.754726</td>\n",
       "      <td>0.791633</td>\n",
       "      <td>0.754726</td>\n",
       "      <td>0.756169</td>\n",
       "      <td>[185. 124. 185. ... 176. 168.  33.]</td>\n",
       "      <td>[185. 124. 188. ... 176. 168.  33.]</td>\n",
       "      <td>StanfordCars</td>\n",
       "    </tr>\n",
       "    <tr>\n",
       "      <th>densenet_StanfordCars_E10_occ1</th>\n",
       "      <td>0.474129</td>\n",
       "      <td>0.589459</td>\n",
       "      <td>0.474129</td>\n",
       "      <td>0.466660</td>\n",
       "      <td>[ 75. 114. 131. ...  16.  90. 149.]</td>\n",
       "      <td>[ 96.  55. 131. ...  20.  94.  45.]</td>\n",
       "      <td>StanfordCars</td>\n",
       "    </tr>\n",
       "    <tr>\n",
       "      <th>densenet_StanfordCars_E20_occ1</th>\n",
       "      <td>0.677114</td>\n",
       "      <td>0.722723</td>\n",
       "      <td>0.677114</td>\n",
       "      <td>0.672514</td>\n",
       "      <td>[ 47.  34.  26. ...  78.  72. 145.]</td>\n",
       "      <td>[ 47.  34.  38. ...  78.  72. 145.]</td>\n",
       "      <td>StanfordCars</td>\n",
       "    </tr>\n",
       "    <tr>\n",
       "      <th>densenet_StanfordCars_E10_occGAUSSIAN</th>\n",
       "      <td>0.664428</td>\n",
       "      <td>0.718600</td>\n",
       "      <td>0.664428</td>\n",
       "      <td>0.663861</td>\n",
       "      <td>[102.   1. 152. ...  27. 147. 116.]</td>\n",
       "      <td>[143.   1. 152. ...  27. 146. 170.]</td>\n",
       "      <td>StanfordCars</td>\n",
       "    </tr>\n",
       "    <tr>\n",
       "      <th>densenet_StanfordCars_E20_occGAUSSIAN</th>\n",
       "      <td>0.741045</td>\n",
       "      <td>0.789327</td>\n",
       "      <td>0.741045</td>\n",
       "      <td>0.743988</td>\n",
       "      <td>[137. 130. 158. ... 187.  78.  37.]</td>\n",
       "      <td>[137. 130. 158. ... 187.  58.  37.]</td>\n",
       "      <td>StanfordCars</td>\n",
       "    </tr>\n",
       "    <tr>\n",
       "      <th>densenet_StanfordCars_E10_occSOFTMAX</th>\n",
       "      <td>0.632587</td>\n",
       "      <td>0.703338</td>\n",
       "      <td>0.632587</td>\n",
       "      <td>0.629883</td>\n",
       "      <td>[ 58. 187. 160. ... 131. 174.  19.]</td>\n",
       "      <td>[ 58. 186.  42. ... 131. 174.  19.]</td>\n",
       "      <td>StanfordCars</td>\n",
       "    </tr>\n",
       "    <tr>\n",
       "      <th>densenet_StanfordCars_E20_occSOFTMAX</th>\n",
       "      <td>0.721642</td>\n",
       "      <td>0.766537</td>\n",
       "      <td>0.721642</td>\n",
       "      <td>0.722829</td>\n",
       "      <td>[ 58. 167. 131. ... 119.  21.  14.]</td>\n",
       "      <td>[ 58. 167. 131. ...  60.  21.  14.]</td>\n",
       "      <td>StanfordCars</td>\n",
       "    </tr>\n",
       "    <tr>\n",
       "      <th>resnet_StanfordCars_E10</th>\n",
       "      <td>0.797512</td>\n",
       "      <td>0.817962</td>\n",
       "      <td>0.797512</td>\n",
       "      <td>0.796223</td>\n",
       "      <td>[127.  95. 119. ... 107.  38.  70.]</td>\n",
       "      <td>[127.  95.  60. ... 107.  38.  70.]</td>\n",
       "      <td>StanfordCars</td>\n",
       "    </tr>\n",
       "    <tr>\n",
       "      <th>resnet_StanfordCars_E20</th>\n",
       "      <td>0.797512</td>\n",
       "      <td>0.817962</td>\n",
       "      <td>0.797512</td>\n",
       "      <td>0.796223</td>\n",
       "      <td>[172. 126.  74. ...   2. 121.  84.]</td>\n",
       "      <td>[172. 126.  74. ... 166. 121.  84.]</td>\n",
       "      <td>StanfordCars</td>\n",
       "    </tr>\n",
       "    <tr>\n",
       "      <th>resnet_StanfordCars_E10_occ0</th>\n",
       "      <td>0.351244</td>\n",
       "      <td>0.430806</td>\n",
       "      <td>0.351244</td>\n",
       "      <td>0.332071</td>\n",
       "      <td>[ 29. 130.  53. ...  40. 174. 138.]</td>\n",
       "      <td>[172. 125.  53. ...  39.  20. 138.]</td>\n",
       "      <td>StanfordCars</td>\n",
       "    </tr>\n",
       "    <tr>\n",
       "      <th>resnet_StanfordCars_E20_occ0</th>\n",
       "      <td>0.569652</td>\n",
       "      <td>0.626163</td>\n",
       "      <td>0.569652</td>\n",
       "      <td>0.565574</td>\n",
       "      <td>[ 13.  10.  90. ... 110. 139.  78.]</td>\n",
       "      <td>[ 91.  10.  89. ... 110. 139.  78.]</td>\n",
       "      <td>StanfordCars</td>\n",
       "    </tr>\n",
       "    <tr>\n",
       "      <th>resnet_StanfordCars_E10_occ1</th>\n",
       "      <td>0.016915</td>\n",
       "      <td>0.006972</td>\n",
       "      <td>0.016915</td>\n",
       "      <td>0.003920</td>\n",
       "      <td>[119. 163. 119. ... 163.  94. 156.]</td>\n",
       "      <td>[ 69. 165.  75. ... 130. 134.  14.]</td>\n",
       "      <td>StanfordCars</td>\n",
       "    </tr>\n",
       "    <tr>\n",
       "      <th>resnet_StanfordCars_E20_occ1</th>\n",
       "      <td>0.051244</td>\n",
       "      <td>0.040967</td>\n",
       "      <td>0.051244</td>\n",
       "      <td>0.038023</td>\n",
       "      <td>[192. 119. 169. ...  26.  18.  38.]</td>\n",
       "      <td>[ 64. 119. 164. ... 103.  79. 121.]</td>\n",
       "      <td>StanfordCars</td>\n",
       "    </tr>\n",
       "    <tr>\n",
       "      <th>resnet_StanfordCars_E10_occGAUSSIAN</th>\n",
       "      <td>0.371393</td>\n",
       "      <td>0.481982</td>\n",
       "      <td>0.371393</td>\n",
       "      <td>0.361173</td>\n",
       "      <td>[ 63. 125.  54. ...  80. 178. 120.]</td>\n",
       "      <td>[127. 125. 115. ...  51. 179. 120.]</td>\n",
       "      <td>StanfordCars</td>\n",
       "    </tr>\n",
       "    <tr>\n",
       "      <th>resnet_StanfordCars_E20_occGAUSSIAN</th>\n",
       "      <td>0.584826</td>\n",
       "      <td>0.644007</td>\n",
       "      <td>0.584826</td>\n",
       "      <td>0.579291</td>\n",
       "      <td>[ 45.  21. 165. ...  56.  71. 101.]</td>\n",
       "      <td>[ 45.  23. 165. ...  58. 166. 101.]</td>\n",
       "      <td>StanfordCars</td>\n",
       "    </tr>\n",
       "    <tr>\n",
       "      <th>resnet_StanfordCars_E10_occSOFTMAX</th>\n",
       "      <td>0.533582</td>\n",
       "      <td>0.614993</td>\n",
       "      <td>0.533582</td>\n",
       "      <td>0.527438</td>\n",
       "      <td>[154.   5. 183. ... 110. 158.  88.]</td>\n",
       "      <td>[154.   5.  55. ... 110.  99.  88.]</td>\n",
       "      <td>StanfordCars</td>\n",
       "    </tr>\n",
       "    <tr>\n",
       "      <th>resnet_StanfordCars_E20_occSOFTMAX</th>\n",
       "      <td>0.616667</td>\n",
       "      <td>0.661326</td>\n",
       "      <td>0.616667</td>\n",
       "      <td>0.612363</td>\n",
       "      <td>[144.  78.  55. ...  90.  63.  63.]</td>\n",
       "      <td>[144.  78.  55. ...  90.   4.  63.]</td>\n",
       "      <td>StanfordCars</td>\n",
       "    </tr>\n",
       "  </tbody>\n",
       "</table>\n",
       "</div>"
      ],
      "text/plain": [
       "                                       accuracy  precision    recall  \\\n",
       "vgg_StanfordCars_E10                   0.715920   0.762110  0.715920   \n",
       "vgg_StanfordCars_E20                   0.741294   0.774111  0.741294   \n",
       "vgg_StanfordCars_E10_occ0              0.301990   0.370036  0.301990   \n",
       "vgg_StanfordCars_E20_occ0              0.493781   0.549703  0.493781   \n",
       "vgg_StanfordCars_E10_occ1              0.654478   0.702229  0.654478   \n",
       "vgg_StanfordCars_E20_occ1              0.656716   0.701845  0.656716   \n",
       "vgg_StanfordCars_E10_occGAUSSIAN       0.637065   0.689761  0.637065   \n",
       "vgg_StanfordCars_E20_occGAUSSIAN       0.702239   0.735393  0.702239   \n",
       "vgg_StanfordCars_E10_occSOFTMAX        0.659701   0.712129  0.659701   \n",
       "vgg_StanfordCars_E20_occSOFTMAX        0.683831   0.729407  0.683831   \n",
       "densenet_StanfordCars_E10              0.862687   0.876415  0.862687   \n",
       "densenet_StanfordCars_E20              0.869154   0.878460  0.869154   \n",
       "densenet_StanfordCars_E10_occ0         0.608706   0.695528  0.608706   \n",
       "densenet_StanfordCars_E20_occ0         0.754726   0.791633  0.754726   \n",
       "densenet_StanfordCars_E10_occ1         0.474129   0.589459  0.474129   \n",
       "densenet_StanfordCars_E20_occ1         0.677114   0.722723  0.677114   \n",
       "densenet_StanfordCars_E10_occGAUSSIAN  0.664428   0.718600  0.664428   \n",
       "densenet_StanfordCars_E20_occGAUSSIAN  0.741045   0.789327  0.741045   \n",
       "densenet_StanfordCars_E10_occSOFTMAX   0.632587   0.703338  0.632587   \n",
       "densenet_StanfordCars_E20_occSOFTMAX   0.721642   0.766537  0.721642   \n",
       "resnet_StanfordCars_E10                0.797512   0.817962  0.797512   \n",
       "resnet_StanfordCars_E20                0.797512   0.817962  0.797512   \n",
       "resnet_StanfordCars_E10_occ0           0.351244   0.430806  0.351244   \n",
       "resnet_StanfordCars_E20_occ0           0.569652   0.626163  0.569652   \n",
       "resnet_StanfordCars_E10_occ1           0.016915   0.006972  0.016915   \n",
       "resnet_StanfordCars_E20_occ1           0.051244   0.040967  0.051244   \n",
       "resnet_StanfordCars_E10_occGAUSSIAN    0.371393   0.481982  0.371393   \n",
       "resnet_StanfordCars_E20_occGAUSSIAN    0.584826   0.644007  0.584826   \n",
       "resnet_StanfordCars_E10_occSOFTMAX     0.533582   0.614993  0.533582   \n",
       "resnet_StanfordCars_E20_occSOFTMAX     0.616667   0.661326  0.616667   \n",
       "\n",
       "                                             f1  \\\n",
       "vgg_StanfordCars_E10                   0.714437   \n",
       "vgg_StanfordCars_E20                   0.741226   \n",
       "vgg_StanfordCars_E10_occ0              0.281846   \n",
       "vgg_StanfordCars_E20_occ0              0.489349   \n",
       "vgg_StanfordCars_E10_occ1              0.653138   \n",
       "vgg_StanfordCars_E20_occ1              0.655726   \n",
       "vgg_StanfordCars_E10_occGAUSSIAN       0.637645   \n",
       "vgg_StanfordCars_E20_occGAUSSIAN       0.703500   \n",
       "vgg_StanfordCars_E10_occSOFTMAX        0.659041   \n",
       "vgg_StanfordCars_E20_occSOFTMAX        0.680329   \n",
       "densenet_StanfordCars_E10              0.861064   \n",
       "densenet_StanfordCars_E20              0.869164   \n",
       "densenet_StanfordCars_E10_occ0         0.611269   \n",
       "densenet_StanfordCars_E20_occ0         0.756169   \n",
       "densenet_StanfordCars_E10_occ1         0.466660   \n",
       "densenet_StanfordCars_E20_occ1         0.672514   \n",
       "densenet_StanfordCars_E10_occGAUSSIAN  0.663861   \n",
       "densenet_StanfordCars_E20_occGAUSSIAN  0.743988   \n",
       "densenet_StanfordCars_E10_occSOFTMAX   0.629883   \n",
       "densenet_StanfordCars_E20_occSOFTMAX   0.722829   \n",
       "resnet_StanfordCars_E10                0.796223   \n",
       "resnet_StanfordCars_E20                0.796223   \n",
       "resnet_StanfordCars_E10_occ0           0.332071   \n",
       "resnet_StanfordCars_E20_occ0           0.565574   \n",
       "resnet_StanfordCars_E10_occ1           0.003920   \n",
       "resnet_StanfordCars_E20_occ1           0.038023   \n",
       "resnet_StanfordCars_E10_occGAUSSIAN    0.361173   \n",
       "resnet_StanfordCars_E20_occGAUSSIAN    0.579291   \n",
       "resnet_StanfordCars_E10_occSOFTMAX     0.527438   \n",
       "resnet_StanfordCars_E20_occSOFTMAX     0.612363   \n",
       "\n",
       "                                                           total_predicted  \\\n",
       "vgg_StanfordCars_E10                   [ 20. 168.   8. ...   0. 185. 117.]   \n",
       "vgg_StanfordCars_E20                   [159.  91. 129. ... 192.  33.   9.]   \n",
       "vgg_StanfordCars_E10_occ0              [ 87. 184. 123. ...  90.  91. 186.]   \n",
       "vgg_StanfordCars_E20_occ0              [ 32.  49.   5. ... 119.   6. 167.]   \n",
       "vgg_StanfordCars_E10_occ1              [ 16.  48. 109. ... 183. 107. 102.]   \n",
       "vgg_StanfordCars_E20_occ1              [160.  53.  22. ... 122. 124. 157.]   \n",
       "vgg_StanfordCars_E10_occGAUSSIAN       [145.  17.   1. ... 154. 162. 115.]   \n",
       "vgg_StanfordCars_E20_occGAUSSIAN       [ 59. 133.  68. ... 162. 113. 190.]   \n",
       "vgg_StanfordCars_E10_occSOFTMAX        [ 94.  91.   7. ...  35.  13. 161.]   \n",
       "vgg_StanfordCars_E20_occSOFTMAX        [ 41.  90. 116. ... 133.   5.  50.]   \n",
       "densenet_StanfordCars_E10              [ 81.  52.  71. ... 181. 174. 181.]   \n",
       "densenet_StanfordCars_E20              [177.  33.  42. ...  49.  93. 113.]   \n",
       "densenet_StanfordCars_E10_occ0         [166.  96. 102. ...  67.  47. 134.]   \n",
       "densenet_StanfordCars_E20_occ0         [185. 124. 185. ... 176. 168.  33.]   \n",
       "densenet_StanfordCars_E10_occ1         [ 75. 114. 131. ...  16.  90. 149.]   \n",
       "densenet_StanfordCars_E20_occ1         [ 47.  34.  26. ...  78.  72. 145.]   \n",
       "densenet_StanfordCars_E10_occGAUSSIAN  [102.   1. 152. ...  27. 147. 116.]   \n",
       "densenet_StanfordCars_E20_occGAUSSIAN  [137. 130. 158. ... 187.  78.  37.]   \n",
       "densenet_StanfordCars_E10_occSOFTMAX   [ 58. 187. 160. ... 131. 174.  19.]   \n",
       "densenet_StanfordCars_E20_occSOFTMAX   [ 58. 167. 131. ... 119.  21.  14.]   \n",
       "resnet_StanfordCars_E10                [127.  95. 119. ... 107.  38.  70.]   \n",
       "resnet_StanfordCars_E20                [172. 126.  74. ...   2. 121.  84.]   \n",
       "resnet_StanfordCars_E10_occ0           [ 29. 130.  53. ...  40. 174. 138.]   \n",
       "resnet_StanfordCars_E20_occ0           [ 13.  10.  90. ... 110. 139.  78.]   \n",
       "resnet_StanfordCars_E10_occ1           [119. 163. 119. ... 163.  94. 156.]   \n",
       "resnet_StanfordCars_E20_occ1           [192. 119. 169. ...  26.  18.  38.]   \n",
       "resnet_StanfordCars_E10_occGAUSSIAN    [ 63. 125.  54. ...  80. 178. 120.]   \n",
       "resnet_StanfordCars_E20_occGAUSSIAN    [ 45.  21. 165. ...  56.  71. 101.]   \n",
       "resnet_StanfordCars_E10_occSOFTMAX     [154.   5. 183. ... 110. 158.  88.]   \n",
       "resnet_StanfordCars_E20_occSOFTMAX     [144.  78.  55. ...  90.  63.  63.]   \n",
       "\n",
       "                                                              total_labels  \\\n",
       "vgg_StanfordCars_E10                   [ 20. 191.   8. ...   0. 185. 117.]   \n",
       "vgg_StanfordCars_E20                   [159.  91. 129. ... 192.  29. 184.]   \n",
       "vgg_StanfordCars_E10_occ0              [ 87. 184. 123. ...  52. 115. 183.]   \n",
       "vgg_StanfordCars_E20_occ0              [ 32.  49. 130. ... 170.   3.  77.]   \n",
       "vgg_StanfordCars_E10_occ1              [ 16.  48. 109. ... 182. 141. 102.]   \n",
       "vgg_StanfordCars_E20_occ1              [160.  53.  22. ... 122. 148.  74.]   \n",
       "vgg_StanfordCars_E10_occGAUSSIAN       [145.  17.   1. ... 154. 161.  78.]   \n",
       "vgg_StanfordCars_E20_occGAUSSIAN       [ 59. 133.  67. ... 162. 113. 190.]   \n",
       "vgg_StanfordCars_E10_occSOFTMAX        [ 94.  91.  56. ...  35.  19. 162.]   \n",
       "vgg_StanfordCars_E20_occSOFTMAX        [ 75.  90. 116. ... 133.   5.  50.]   \n",
       "densenet_StanfordCars_E10              [ 81.  52.  71. ... 181. 174. 181.]   \n",
       "densenet_StanfordCars_E20              [177.  29.  42. ...  49.  93.  84.]   \n",
       "densenet_StanfordCars_E10_occ0         [166. 165. 101. ...  68.  47. 134.]   \n",
       "densenet_StanfordCars_E20_occ0         [185. 124. 188. ... 176. 168.  33.]   \n",
       "densenet_StanfordCars_E10_occ1         [ 96.  55. 131. ...  20.  94.  45.]   \n",
       "densenet_StanfordCars_E20_occ1         [ 47.  34.  38. ...  78.  72. 145.]   \n",
       "densenet_StanfordCars_E10_occGAUSSIAN  [143.   1. 152. ...  27. 146. 170.]   \n",
       "densenet_StanfordCars_E20_occGAUSSIAN  [137. 130. 158. ... 187.  58.  37.]   \n",
       "densenet_StanfordCars_E10_occSOFTMAX   [ 58. 186.  42. ... 131. 174.  19.]   \n",
       "densenet_StanfordCars_E20_occSOFTMAX   [ 58. 167. 131. ...  60.  21.  14.]   \n",
       "resnet_StanfordCars_E10                [127.  95.  60. ... 107.  38.  70.]   \n",
       "resnet_StanfordCars_E20                [172. 126.  74. ... 166. 121.  84.]   \n",
       "resnet_StanfordCars_E10_occ0           [172. 125.  53. ...  39.  20. 138.]   \n",
       "resnet_StanfordCars_E20_occ0           [ 91.  10.  89. ... 110. 139.  78.]   \n",
       "resnet_StanfordCars_E10_occ1           [ 69. 165.  75. ... 130. 134.  14.]   \n",
       "resnet_StanfordCars_E20_occ1           [ 64. 119. 164. ... 103.  79. 121.]   \n",
       "resnet_StanfordCars_E10_occGAUSSIAN    [127. 125. 115. ...  51. 179. 120.]   \n",
       "resnet_StanfordCars_E20_occGAUSSIAN    [ 45.  23. 165. ...  58. 166. 101.]   \n",
       "resnet_StanfordCars_E10_occSOFTMAX     [154.   5.  55. ... 110.  99.  88.]   \n",
       "resnet_StanfordCars_E20_occSOFTMAX     [144.  78.  55. ...  90.   4.  63.]   \n",
       "\n",
       "                                            dataset  \n",
       "vgg_StanfordCars_E10                   StanfordCars  \n",
       "vgg_StanfordCars_E20                   StanfordCars  \n",
       "vgg_StanfordCars_E10_occ0              StanfordCars  \n",
       "vgg_StanfordCars_E20_occ0              StanfordCars  \n",
       "vgg_StanfordCars_E10_occ1              StanfordCars  \n",
       "vgg_StanfordCars_E20_occ1              StanfordCars  \n",
       "vgg_StanfordCars_E10_occGAUSSIAN       StanfordCars  \n",
       "vgg_StanfordCars_E20_occGAUSSIAN       StanfordCars  \n",
       "vgg_StanfordCars_E10_occSOFTMAX        StanfordCars  \n",
       "vgg_StanfordCars_E20_occSOFTMAX        StanfordCars  \n",
       "densenet_StanfordCars_E10              StanfordCars  \n",
       "densenet_StanfordCars_E20              StanfordCars  \n",
       "densenet_StanfordCars_E10_occ0         StanfordCars  \n",
       "densenet_StanfordCars_E20_occ0         StanfordCars  \n",
       "densenet_StanfordCars_E10_occ1         StanfordCars  \n",
       "densenet_StanfordCars_E20_occ1         StanfordCars  \n",
       "densenet_StanfordCars_E10_occGAUSSIAN  StanfordCars  \n",
       "densenet_StanfordCars_E20_occGAUSSIAN  StanfordCars  \n",
       "densenet_StanfordCars_E10_occSOFTMAX   StanfordCars  \n",
       "densenet_StanfordCars_E20_occSOFTMAX   StanfordCars  \n",
       "resnet_StanfordCars_E10                StanfordCars  \n",
       "resnet_StanfordCars_E20                StanfordCars  \n",
       "resnet_StanfordCars_E10_occ0           StanfordCars  \n",
       "resnet_StanfordCars_E20_occ0           StanfordCars  \n",
       "resnet_StanfordCars_E10_occ1           StanfordCars  \n",
       "resnet_StanfordCars_E20_occ1           StanfordCars  \n",
       "resnet_StanfordCars_E10_occGAUSSIAN    StanfordCars  \n",
       "resnet_StanfordCars_E20_occGAUSSIAN    StanfordCars  \n",
       "resnet_StanfordCars_E10_occSOFTMAX     StanfordCars  \n",
       "resnet_StanfordCars_E20_occSOFTMAX     StanfordCars  "
      ]
     },
     "execution_count": 26,
     "metadata": {},
     "output_type": "execute_result"
    }
   ],
   "source": [
    "pd.read_csv(save_path, index_col=0)"
   ]
  },
  {
   "cell_type": "code",
   "execution_count": 54,
   "metadata": {
    "collapsed": false,
    "jupyter": {
     "outputs_hidden": false
    },
    "pycharm": {
     "name": "#%%\n"
    }
   },
   "outputs": [
    {
     "data": {
      "text/plain": [
       "727"
      ]
     },
     "execution_count": 54,
     "metadata": {},
     "output_type": "execute_result"
    }
   ],
   "source": []
  },
  {
   "cell_type": "code",
   "execution_count": null,
   "metadata": {
    "collapsed": false,
    "jupyter": {
     "outputs_hidden": false
    },
    "pycharm": {
     "name": "#%%\n"
    }
   },
   "outputs": [],
   "source": []
  }
 ],
 "metadata": {
  "kernelspec": {
   "display_name": "Python",
   "language": "python",
   "name": "python3"
  },
  "language_info": {
   "codemirror_mode": {
    "name": "ipython",
    "version": 3
   },
   "file_extension": ".py",
   "mimetype": "text/x-python",
   "name": "python",
   "nbconvert_exporter": "python",
   "pygments_lexer": "ipython3",
   "version": "3.8.10"
  }
 },
 "nbformat": 4,
 "nbformat_minor": 4
}
