{
 "cells": [
  {
   "cell_type": "code",
   "execution_count": 1,
   "outputs": [],
   "source": [
    "import finetune\n",
    "from torchvision import datasets, transforms\n",
    "import os\n",
    "import torch"
   ],
   "metadata": {
    "collapsed": false,
    "pycharm": {
     "name": "#%%\n"
    }
   }
  },
  {
   "cell_type": "code",
   "execution_count": 3,
   "outputs": [
    {
     "name": "stdout",
     "output_type": "stream",
     "text": [
      "StanfordCars\n",
      "means: tensor([0.4593, 0.4466, 0.4453])\n",
      "stddevs: tensor([0.2919, 0.2910, 0.2988])\n",
      "FGVC-Aircraft\n",
      "means: tensor([0.4842, 0.5142, 0.5364])\n",
      "stddevs: tensor([0.2251, 0.2185, 0.2495])\n"
     ]
    }
   ],
   "source": [
    "def get_dataset():\n",
    "    dataset = {}\n",
    "    input_size = finetune.get_classifier_input_size()\n",
    "    tforms = transforms.Compose([\n",
    "        transforms.Resize(input_size),\n",
    "        transforms.CenterCrop(input_size),\n",
    "        transforms.ToTensor(),\n",
    "    ])\n",
    "    # tforms = finetune.get_data_transforms()['train']\n",
    "    for x in ['train', 'val', 'test']:\n",
    "        dataset[x] = datasets.ImageFolder(os.path.join(finetune.dataset_path(), x), transform=tforms)\n",
    "    return dataset\n",
    "\n",
    "def get_dataloaders():\n",
    "    ds = get_dataset()\n",
    "    dataloaders = {}\n",
    "    for x in ['train', 'val', 'test']:\n",
    "        dataloaders[x] = torch.utils.data.DataLoader(ds[x], batch_size=finetune.BATCH_SIZE, shuffle=True, num_workers=4)\n",
    "    return dataloaders\n",
    "\n",
    "def get_means_stddevs():\n",
    "    dataloaders = get_dataloaders()\n",
    "    loader = dataloaders['train']\n",
    "    sum_totals = torch.zeros(3)\n",
    "    variation_totals = torch.zeros(3)\n",
    "    n_samples = 0\n",
    "    for (inputs, labels) in loader:\n",
    "        sum_totals += torch.sum(torch.mean(inputs, (-1,-2)), -2) # mean accross width, height, sum across batch\n",
    "        n_samples += len(inputs)\n",
    "    channel_means = sum_totals/n_samples\n",
    "    print(f'means: {channel_means.detach()}')\n",
    "    for (inputs, labels) in loader:\n",
    "        variations = inputs - channel_means[None, :, None, None]\n",
    "        variations_squared = variations * variations\n",
    "        variation_totals += torch.sum(torch.mean(variations_squared, (-1,-2)), -2)\n",
    "    channel_stddevs = torch.sqrt(variation_totals / n_samples)\n",
    "    print(f'stddevs: {channel_stddevs}')\n",
    "    return channel_means, channel_stddevs\n",
    "\n",
    "for dataset in finetune.DATASET_OPTIONS:\n",
    "    finetune.DATASET = dataset\n",
    "    print(dataset)\n",
    "    get_means_stddevs()"
   ],
   "metadata": {
    "collapsed": false,
    "pycharm": {
     "name": "#%%\n"
    }
   }
  },
  {
   "cell_type": "code",
   "execution_count": null,
   "outputs": [],
   "source": [],
   "metadata": {
    "collapsed": false,
    "pycharm": {
     "name": "#%%\n"
    }
   }
  }
 ],
 "metadata": {
  "kernelspec": {
   "display_name": "Python 3",
   "language": "python",
   "name": "python3"
  },
  "language_info": {
   "codemirror_mode": {
    "name": "ipython",
    "version": 2
   },
   "file_extension": ".py",
   "mimetype": "text/x-python",
   "name": "python",
   "nbconvert_exporter": "python",
   "pygments_lexer": "ipython2",
   "version": "2.7.6"
  }
 },
 "nbformat": 4,
 "nbformat_minor": 0
}