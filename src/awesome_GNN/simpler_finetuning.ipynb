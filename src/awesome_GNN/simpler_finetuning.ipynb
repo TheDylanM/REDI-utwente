{
 "cells": [
  {
   "cell_type": "code",
   "execution_count": 1,
   "outputs": [],
   "source": [
    "%matplotlib inline\n",
    "# not sure if necessary"
   ],
   "metadata": {
    "collapsed": false,
    "pycharm": {
     "name": "#%%\n"
    }
   }
  },
  {
   "cell_type": "code",
   "execution_count": 2,
   "outputs": [],
   "source": [
    "import finetune\n",
    "import importlib\n",
    "import torch"
   ],
   "metadata": {
    "collapsed": false,
    "pycharm": {
     "name": "#%%\n"
    }
   }
  },
  {
   "cell_type": "code",
   "execution_count": 3,
   "outputs": [],
   "source": [
    "# run this cell when you change stuff in the finetune module, and don't want to restart the notebook's kernel.\n",
    "importlib.reload(finetune)\n",
    "finetune.structure_checkpoints()  # If this prints 'Cannot safely create ...', it means that the folder probably already exists"
   ],
   "metadata": {
    "collapsed": false,
    "pycharm": {
     "name": "#%%\n"
    }
   }
  },
  {
   "cell_type": "code",
   "execution_count": 9,
   "outputs": [
    {
     "name": "stdout",
     "output_type": "stream",
     "text": [
      "STARTING: model=resnet | dataset=StanfordCars | occlusion=GAUSSIAN\n"
     ]
    },
    {
     "name": "stderr",
     "output_type": "stream",
     "text": [
      "Epoch 0/49 train: 100%|██████████| 1018/1018 [00:52<00:00, 19.35it/s, loss=5.283, accuracy=0.0065079] \n",
      "Epoch 0/49 val: 100%|██████████| 503/503 [00:10<00:00, 49.24it/s, loss=5.2655, accuracy=0.010945] \n",
      "Epoch 1/49 train: 100%|██████████| 1018/1018 [00:52<00:00, 19.26it/s, loss=5.1713, accuracy=0.014244]\n",
      "Epoch 1/49 val: 100%|██████████| 503/503 [00:10<00:00, 50.27it/s, loss=4.9531, accuracy=0.026617]\n",
      "Epoch 2/49 train: 100%|██████████| 1018/1018 [00:53<00:00, 19.03it/s, loss=4.6963, accuracy=0.041012]\n",
      "Epoch 2/49 val: 100%|██████████| 503/503 [00:09<00:00, 51.53it/s, loss=4.1197, accuracy=0.085075]\n",
      "Epoch 3/49 train: 100%|██████████| 1018/1018 [00:53<00:00, 19.20it/s, loss=4.0865, accuracy=0.099951]\n",
      "Epoch 3/49 val: 100%|██████████| 503/503 [00:09<00:00, 51.01it/s, loss=3.4172, accuracy=0.16194]\n",
      "Epoch 4/49 train: 100%|██████████| 1018/1018 [00:53<00:00, 19.14it/s, loss=3.323, accuracy=0.20874] \n",
      "Epoch 4/49 val: 100%|██████████| 503/503 [00:09<00:00, 51.56it/s, loss=2.6066, accuracy=0.30547]\n",
      "Epoch 5/49 train: 100%|██████████| 1018/1018 [00:54<00:00, 18.83it/s, loss=2.8057, accuracy=0.30182]\n",
      "Epoch 5/49 val: 100%|██████████| 503/503 [00:09<00:00, 50.49it/s, loss=2.232, accuracy=0.40423] \n",
      "Epoch 6/49 train: 100%|██████████| 1018/1018 [00:53<00:00, 19.05it/s, loss=2.3373, accuracy=0.40079]\n",
      "Epoch 6/49 val: 100%|██████████| 503/503 [00:09<00:00, 50.78it/s, loss=1.8402, accuracy=0.49279]\n",
      "Epoch 7/49 train: 100%|██████████| 1018/1018 [00:53<00:00, 19.03it/s, loss=2.0089, accuracy=0.47004]\n",
      "Epoch 7/49 val: 100%|██████████| 503/503 [00:09<00:00, 51.67it/s, loss=1.66, accuracy=0.53408]  \n",
      "Epoch 8/49 train: 100%|██████████| 1018/1018 [00:52<00:00, 19.35it/s, loss=1.8709, accuracy=0.51498]\n",
      "Epoch 8/49 val: 100%|██████████| 503/503 [00:09<00:00, 51.08it/s, loss=1.397, accuracy=0.601]   \n",
      "Epoch 9/49 train: 100%|██████████| 1018/1018 [00:53<00:00, 18.90it/s, loss=1.6924, accuracy=0.56017]\n",
      "Epoch 9/49 val: 100%|██████████| 503/503 [00:09<00:00, 50.68it/s, loss=1.3776, accuracy=0.60647]\n",
      "  0%|          | 0/1018 [00:00<?, ?it/s]"
     ]
    },
    {
     "name": "stdout",
     "output_type": "stream",
     "text": [
      "[CHECKPOINT] ../../data\\finetuned_models\\StanfordCars\\resnet\\resnet_StanfordCars_E10_occGAUSSIAN.pth\n"
     ]
    },
    {
     "name": "stderr",
     "output_type": "stream",
     "text": [
      "Epoch 10/49 train: 100%|██████████| 1018/1018 [00:52<00:00, 19.55it/s, loss=1.6216, accuracy=0.57171]\n",
      "Epoch 10/49 val: 100%|██████████| 503/503 [00:09<00:00, 51.63it/s, loss=1.3565, accuracy=0.61567]\n",
      "Epoch 11/49 train: 100%|██████████| 1018/1018 [00:51<00:00, 19.62it/s, loss=1.5565, accuracy=0.59]   \n",
      "Epoch 11/49 val: 100%|██████████| 503/503 [00:09<00:00, 50.52it/s, loss=1.3487, accuracy=0.61468]\n",
      "Epoch 12/49 train: 100%|██████████| 1018/1018 [00:52<00:00, 19.47it/s, loss=1.4606, accuracy=0.61248]\n",
      "Epoch 12/49 val: 100%|██████████| 503/503 [00:09<00:00, 50.77it/s, loss=1.2535, accuracy=0.64851]\n",
      "Epoch 13/49 train: 100%|██████████| 1018/1018 [00:51<00:00, 19.80it/s, loss=1.3426, accuracy=0.64072]\n",
      "Epoch 13/49 val: 100%|██████████| 503/503 [00:09<00:00, 51.86it/s, loss=1.1538, accuracy=0.67015]\n",
      "Epoch 14/49 train: 100%|██████████| 1018/1018 [00:52<00:00, 19.53it/s, loss=1.2843, accuracy=0.65472]\n",
      "Epoch 14/49 val: 100%|██████████| 503/503 [00:09<00:00, 52.46it/s, loss=1.2906, accuracy=0.64826]\n",
      "Epoch 15/49 train: 100%|██████████| 1018/1018 [00:51<00:00, 19.69it/s, loss=1.2188, accuracy=0.67301]\n",
      "Epoch 15/49 val: 100%|██████████| 503/503 [00:09<00:00, 51.93it/s, loss=1.2146, accuracy=0.66468]\n",
      "Epoch 16/49 train: 100%|██████████| 1018/1018 [00:51<00:00, 19.60it/s, loss=1.1514, accuracy=0.68873]\n",
      "Epoch 16/49 val: 100%|██████████| 503/503 [00:09<00:00, 53.18it/s, loss=1.1264, accuracy=0.69254]\n",
      "Epoch 17/49 train: 100%|██████████| 1018/1018 [00:51<00:00, 19.95it/s, loss=1.09, accuracy=0.70506]  \n",
      "Epoch 17/49 val: 100%|██████████| 503/503 [00:09<00:00, 51.10it/s, loss=1.047, accuracy=0.71219] \n",
      "Epoch 18/49 train: 100%|██████████| 1018/1018 [00:51<00:00, 19.70it/s, loss=1.069, accuracy=0.71537] \n",
      "Epoch 18/49 val: 100%|██████████| 503/503 [00:09<00:00, 51.78it/s, loss=1.0274, accuracy=0.71194] \n",
      "Epoch 19/49 train: 100%|██████████| 1018/1018 [00:51<00:00, 19.73it/s, loss=1.0369, accuracy=0.72004]\n",
      "Epoch 19/49 val: 100%|██████████| 503/503 [00:09<00:00, 51.91it/s, loss=1.086, accuracy=0.70299] \n",
      "  0%|          | 0/1018 [00:00<?, ?it/s]"
     ]
    },
    {
     "name": "stdout",
     "output_type": "stream",
     "text": [
      "[CHECKPOINT] ../../data\\finetuned_models\\StanfordCars\\resnet\\resnet_StanfordCars_E20_occGAUSSIAN.pth\n"
     ]
    },
    {
     "name": "stderr",
     "output_type": "stream",
     "text": [
      "Epoch 20/49 train: 100%|██████████| 1018/1018 [00:51<00:00, 19.93it/s, loss=1.0669, accuracy=0.71967]\n",
      "Epoch 20/49 val: 100%|██████████| 503/503 [00:09<00:00, 51.78it/s, loss=1.1454, accuracy=0.69279]\n",
      "Epoch 21/49 train: 100%|██████████| 1018/1018 [00:51<00:00, 19.89it/s, loss=1.1035, accuracy=0.70972]\n",
      "Epoch 21/49 val: 100%|██████████| 503/503 [00:09<00:00, 51.60it/s, loss=1.2246, accuracy=0.68557]\n",
      "Epoch 22/49 train: 100%|██████████| 1018/1018 [00:52<00:00, 19.57it/s, loss=1.0041, accuracy=0.72974]\n",
      "Epoch 22/49 val: 100%|██████████| 503/503 [00:09<00:00, 51.02it/s, loss=1.1516, accuracy=0.68582]\n",
      "Epoch 23/49 train: 100%|██████████| 1018/1018 [00:50<00:00, 19.98it/s, loss=0.97264, accuracy=0.74079]\n",
      "Epoch 23/49 val: 100%|██████████| 503/503 [00:09<00:00, 51.46it/s, loss=1.0398, accuracy=0.69975]\n",
      "Epoch 24/49 train: 100%|██████████| 1018/1018 [00:51<00:00, 19.87it/s, loss=0.94471, accuracy=0.75258]\n",
      "Epoch 24/49 val: 100%|██████████| 503/503 [00:09<00:00, 51.23it/s, loss=1.0374, accuracy=0.72139] \n",
      "Epoch 25/49 train: 100%|██████████| 1018/1018 [00:51<00:00, 19.81it/s, loss=0.91524, accuracy=0.75503]\n",
      "Epoch 25/49 val: 100%|██████████| 503/503 [00:09<00:00, 52.45it/s, loss=1.0971, accuracy=0.70174]\n",
      "Epoch 26/49 train: 100%|██████████| 1018/1018 [00:51<00:00, 19.87it/s, loss=0.89288, accuracy=0.76056]\n",
      "Epoch 26/49 val: 100%|██████████| 503/503 [00:09<00:00, 50.37it/s, loss=0.98654, accuracy=0.72388]\n",
      "Epoch 27/49 train: 100%|██████████| 1018/1018 [00:52<00:00, 19.42it/s, loss=0.88298, accuracy=0.76547]\n",
      "Epoch 27/49 val: 100%|██████████| 503/503 [00:10<00:00, 50.29it/s, loss=0.97456, accuracy=0.73657]\n",
      "Epoch 28/49 train: 100%|██████████| 1018/1018 [00:51<00:00, 19.64it/s, loss=0.86144, accuracy=0.77222]\n",
      "Epoch 28/49 val: 100%|██████████| 503/503 [00:09<00:00, 51.26it/s, loss=1.0234, accuracy=0.72413] \n",
      "Epoch 29/49 train: 100%|██████████| 1018/1018 [00:51<00:00, 19.83it/s, loss=0.86795, accuracy=0.77235]\n",
      "Epoch 29/49 val: 100%|██████████| 503/503 [00:09<00:00, 51.35it/s, loss=1.0793, accuracy=0.71642]\n",
      "  0%|          | 0/1018 [00:00<?, ?it/s]"
     ]
    },
    {
     "name": "stdout",
     "output_type": "stream",
     "text": [
      "[CHECKPOINT] ../../data\\finetuned_models\\StanfordCars\\resnet\\resnet_StanfordCars_E30_occGAUSSIAN.pth\n"
     ]
    },
    {
     "name": "stderr",
     "output_type": "stream",
     "text": [
      "Epoch 30/49 train: 100%|██████████| 1018/1018 [00:51<00:00, 19.89it/s, loss=0.8802, accuracy=0.76805] \n",
      "Epoch 30/49 val: 100%|██████████| 503/503 [00:09<00:00, 52.01it/s, loss=1.0253, accuracy=0.72438] \n",
      "Epoch 31/49 train: 100%|██████████| 1018/1018 [00:51<00:00, 19.76it/s, loss=0.87817, accuracy=0.77308]\n",
      "Epoch 31/49 val: 100%|██████████| 503/503 [00:09<00:00, 51.31it/s, loss=1.0196, accuracy=0.74154] \n",
      "Epoch 32/49 train: 100%|██████████| 1018/1018 [00:52<00:00, 19.57it/s, loss=0.86168, accuracy=0.7694] \n",
      "Epoch 32/49 val: 100%|██████████| 503/503 [00:09<00:00, 53.25it/s, loss=1.0706, accuracy=0.71244]\n",
      "Epoch 33/49 train: 100%|██████████| 1018/1018 [00:51<00:00, 19.76it/s, loss=0.85349, accuracy=0.77701]\n",
      "Epoch 33/49 val: 100%|██████████| 503/503 [00:09<00:00, 51.41it/s, loss=1.1513, accuracy=0.69652]\n",
      "Epoch 34/49 train: 100%|██████████| 1018/1018 [00:51<00:00, 19.89it/s, loss=0.78761, accuracy=0.78389]\n",
      "Epoch 34/49 val: 100%|██████████| 503/503 [00:09<00:00, 51.76it/s, loss=1.0071, accuracy=0.72786]\n",
      "Epoch 35/49 train: 100%|██████████| 1018/1018 [00:51<00:00, 19.77it/s, loss=0.81467, accuracy=0.7904] \n",
      "Epoch 35/49 val: 100%|██████████| 503/503 [00:09<00:00, 51.47it/s, loss=1.0086, accuracy=0.73607] \n",
      "Epoch 36/49 train: 100%|██████████| 1018/1018 [00:52<00:00, 19.40it/s, loss=0.7596, accuracy=0.79592] \n",
      "Epoch 36/49 val: 100%|██████████| 503/503 [00:09<00:00, 51.76it/s, loss=1.066, accuracy=0.70846]  \n",
      "Epoch 37/49 train: 100%|██████████| 1018/1018 [00:51<00:00, 19.76it/s, loss=0.77525, accuracy=0.79445]\n",
      "Epoch 37/49 val: 100%|██████████| 503/503 [00:09<00:00, 51.51it/s, loss=0.91762, accuracy=0.75871]\n",
      "Epoch 38/49 train: 100%|██████████| 1018/1018 [00:54<00:00, 18.69it/s, loss=0.76223, accuracy=0.79948]\n",
      "Epoch 38/49 val: 100%|██████████| 503/503 [00:10<00:00, 47.35it/s, loss=1.0335, accuracy=0.74204] \n",
      "Epoch 39/49 train: 100%|██████████| 1018/1018 [00:53<00:00, 18.92it/s, loss=0.85284, accuracy=0.78291]\n",
      "Epoch 39/49 val: 100%|██████████| 503/503 [00:09<00:00, 51.27it/s, loss=1.1594, accuracy=0.69104]\n"
     ]
    },
    {
     "name": "stdout",
     "output_type": "stream",
     "text": [
      "[CHECKPOINT] ../../data\\finetuned_models\\StanfordCars\\resnet\\resnet_StanfordCars_E40_occGAUSSIAN.pth\n"
     ]
    },
    {
     "name": "stderr",
     "output_type": "stream",
     "text": [
      "Epoch 40/49 train: 100%|██████████| 1018/1018 [00:52<00:00, 19.36it/s, loss=0.75827, accuracy=0.80255]\n",
      "Epoch 40/49 val: 100%|██████████| 503/503 [00:09<00:00, 51.74it/s, loss=1.0705, accuracy=0.72413]\n",
      "Epoch 41/49 train: 100%|██████████| 1018/1018 [00:53<00:00, 19.14it/s, loss=0.78751, accuracy=0.79457]\n",
      "Epoch 41/49 val: 100%|██████████| 503/503 [00:09<00:00, 51.45it/s, loss=1.0759, accuracy=0.71443] \n",
      "Epoch 42/49 train: 100%|██████████| 1018/1018 [00:53<00:00, 18.92it/s, loss=0.71632, accuracy=0.81139]\n",
      "Epoch 42/49 val: 100%|██████████| 503/503 [00:09<00:00, 51.11it/s, loss=1.0263, accuracy=0.73333] \n",
      "Epoch 43/49 train: 100%|██████████| 1018/1018 [00:53<00:00, 19.19it/s, loss=0.7126, accuracy=0.8125]  \n",
      "Epoch 43/49 val: 100%|██████████| 503/503 [00:09<00:00, 51.66it/s, loss=1.2166, accuracy=0.71393]\n",
      "Epoch 44/49 train: 100%|██████████| 1018/1018 [00:53<00:00, 19.02it/s, loss=0.68907, accuracy=0.81434]\n",
      "Epoch 44/49 val: 100%|██████████| 503/503 [00:09<00:00, 51.46it/s, loss=1.0743, accuracy=0.74851] \n",
      "Epoch 45/49 train: 100%|██████████| 1018/1018 [00:52<00:00, 19.22it/s, loss=0.70303, accuracy=0.81078]\n",
      "Epoch 45/49 val: 100%|██████████| 503/503 [00:10<00:00, 50.11it/s, loss=1.0507, accuracy=0.72612]\n",
      "Epoch 46/49 train: 100%|██████████| 1018/1018 [00:53<00:00, 19.07it/s, loss=0.69214, accuracy=0.81582]\n",
      "Epoch 46/49 val: 100%|██████████| 503/503 [00:09<00:00, 51.40it/s, loss=0.99238, accuracy=0.73507]\n",
      "Epoch 47/49 train: 100%|██████████| 1018/1018 [00:53<00:00, 18.92it/s, loss=0.73231, accuracy=0.80648]\n",
      "Epoch 47/49 val: 100%|██████████| 503/503 [00:10<00:00, 49.86it/s, loss=1.1068, accuracy=0.72886]\n",
      "Epoch 48/49 train: 100%|██████████| 1018/1018 [00:52<00:00, 19.28it/s, loss=0.74638, accuracy=0.81017]\n",
      "Epoch 48/49 val: 100%|██████████| 503/503 [00:09<00:00, 51.55it/s, loss=1.0112, accuracy=0.72463] \n",
      "Epoch 49/49 train: 100%|██████████| 1018/1018 [00:52<00:00, 19.29it/s, loss=0.67795, accuracy=0.81704]\n",
      "Epoch 49/49 val: 100%|██████████| 503/503 [00:09<00:00, 51.66it/s, loss=1.0136, accuracy=0.72289] \n"
     ]
    },
    {
     "name": "stdout",
     "output_type": "stream",
     "text": [
      "[CHECKPOINT] ../../data\\finetuned_models\\StanfordCars\\resnet\\resnet_StanfordCars_E50_occGAUSSIAN.pth\n",
      "Training complete in 51m 50s\n",
      "Best val Acc: 0.758706\n",
      "[CHECKPOINT] ../../data\\finetuned_models\\StanfordCars\\resnet\\resnet_StanfordCars_E50_occGAUSSIAN.pth\n",
      "STARTING: model=resnet | dataset=StanfordCars | occlusion=SOFTMAX\n"
     ]
    },
    {
     "name": "stderr",
     "output_type": "stream",
     "text": [
      "Epoch 0/49 train: 100%|██████████| 1018/1018 [00:51<00:00, 19.88it/s, loss=5.2705, accuracy=0.0072446]\n",
      "Epoch 0/49 val: 100%|██████████| 503/503 [00:09<00:00, 52.56it/s, loss=5.1951, accuracy=0.010697]\n",
      "Epoch 1/49 train: 100%|██████████| 1018/1018 [00:50<00:00, 19.99it/s, loss=5.1303, accuracy=0.01584] \n",
      "Epoch 1/49 val: 100%|██████████| 503/503 [00:09<00:00, 52.42it/s, loss=4.9117, accuracy=0.030348]\n",
      "Epoch 2/49 train: 100%|██████████| 1018/1018 [00:51<00:00, 19.65it/s, loss=4.6422, accuracy=0.044941]\n",
      "Epoch 2/49 val: 100%|██████████| 503/503 [00:09<00:00, 52.25it/s, loss=4.0493, accuracy=0.099502]\n",
      "Epoch 3/49 train: 100%|██████████| 1018/1018 [00:51<00:00, 19.86it/s, loss=3.8686, accuracy=0.12893]\n",
      "Epoch 3/49 val: 100%|██████████| 503/503 [00:09<00:00, 50.98it/s, loss=3.2432, accuracy=0.2194] \n",
      "Epoch 4/49 train: 100%|██████████| 1018/1018 [00:51<00:00, 19.96it/s, loss=3.0862, accuracy=0.25135]\n",
      "Epoch 4/49 val: 100%|██████████| 503/503 [00:09<00:00, 51.95it/s, loss=2.4019, accuracy=0.36393]\n",
      "Epoch 5/49 train: 100%|██████████| 1018/1018 [00:50<00:00, 20.21it/s, loss=2.4787, accuracy=0.37426]\n",
      "Epoch 5/49 val: 100%|██████████| 503/503 [00:09<00:00, 51.38it/s, loss=2.051, accuracy=0.44303] \n",
      "Epoch 6/49 train: 100%|██████████| 1018/1018 [00:51<00:00, 19.95it/s, loss=2.1238, accuracy=0.44904]\n",
      "Epoch 6/49 val: 100%|██████████| 503/503 [00:09<00:00, 51.71it/s, loss=1.66, accuracy=0.53458]  \n",
      "Epoch 7/49 train: 100%|██████████| 1018/1018 [00:52<00:00, 19.29it/s, loss=1.8197, accuracy=0.5264] \n",
      "Epoch 7/49 val: 100%|██████████| 503/503 [00:09<00:00, 51.97it/s, loss=1.8114, accuracy=0.51045]\n",
      "Epoch 8/49 train: 100%|██████████| 1018/1018 [00:51<00:00, 19.76it/s, loss=1.7062, accuracy=0.55157]\n",
      "Epoch 8/49 val: 100%|██████████| 503/503 [00:09<00:00, 51.66it/s, loss=1.3243, accuracy=0.62587]\n",
      "Epoch 9/49 train: 100%|██████████| 1018/1018 [00:51<00:00, 19.64it/s, loss=1.5744, accuracy=0.58779]\n",
      "Epoch 9/49 val: 100%|██████████| 503/503 [00:09<00:00, 51.25it/s, loss=1.4471, accuracy=0.59726]\n",
      "  0%|          | 0/1018 [00:00<?, ?it/s]"
     ]
    },
    {
     "name": "stdout",
     "output_type": "stream",
     "text": [
      "[CHECKPOINT] ../../data\\finetuned_models\\StanfordCars\\resnet\\resnet_StanfordCars_E10_occSOFTMAX.pth\n"
     ]
    },
    {
     "name": "stderr",
     "output_type": "stream",
     "text": [
      "Epoch 10/49 train: 100%|██████████| 1018/1018 [00:50<00:00, 20.08it/s, loss=1.4578, accuracy=0.61419]\n",
      "Epoch 10/49 val: 100%|██████████| 503/503 [00:09<00:00, 52.32it/s, loss=1.1492, accuracy=0.66468]\n",
      "Epoch 11/49 train: 100%|██████████| 1018/1018 [00:50<00:00, 20.11it/s, loss=1.3316, accuracy=0.64526]\n",
      "Epoch 11/49 val: 100%|██████████| 503/503 [00:09<00:00, 52.12it/s, loss=1.104, accuracy=0.68955] \n",
      "Epoch 12/49 train: 100%|██████████| 1018/1018 [00:51<00:00, 19.91it/s, loss=1.2588, accuracy=0.66147]\n",
      "Epoch 12/49 val: 100%|██████████| 503/503 [00:09<00:00, 51.71it/s, loss=1.1613, accuracy=0.67338]\n",
      "Epoch 13/49 train: 100%|██████████| 1018/1018 [00:50<00:00, 20.19it/s, loss=1.2067, accuracy=0.67399]\n",
      "Epoch 13/49 val: 100%|██████████| 503/503 [00:09<00:00, 52.01it/s, loss=1.139, accuracy=0.67189] \n",
      "Epoch 14/49 train: 100%|██████████| 1018/1018 [00:50<00:00, 20.10it/s, loss=1.211, accuracy=0.68247] \n",
      "Epoch 14/49 val: 100%|██████████| 503/503 [00:09<00:00, 52.14it/s, loss=1.0187, accuracy=0.70224] \n",
      "Epoch 15/49 train: 100%|██████████| 1018/1018 [00:50<00:00, 20.06it/s, loss=1.1711, accuracy=0.69082]\n",
      "Epoch 15/49 val: 100%|██████████| 503/503 [00:09<00:00, 51.14it/s, loss=1.0454, accuracy=0.70597]\n",
      "Epoch 16/49 train: 100%|██████████| 1018/1018 [00:53<00:00, 19.08it/s, loss=1.0823, accuracy=0.71255]\n",
      "Epoch 16/49 val: 100%|██████████| 503/503 [00:09<00:00, 52.31it/s, loss=1.048, accuracy=0.69005]  \n",
      "Epoch 17/49 train: 100%|██████████| 1018/1018 [00:53<00:00, 19.01it/s, loss=1.0296, accuracy=0.72421]\n",
      "Epoch 17/49 val: 100%|██████████| 503/503 [00:09<00:00, 50.86it/s, loss=1.1249, accuracy=0.6898] \n",
      "Epoch 18/49 train: 100%|██████████| 1018/1018 [00:53<00:00, 18.95it/s, loss=1.0438, accuracy=0.72065]\n",
      "Epoch 18/49 val: 100%|██████████| 503/503 [00:09<00:00, 51.18it/s, loss=1.0666, accuracy=0.69602]\n",
      "Epoch 19/49 train: 100%|██████████| 1018/1018 [00:53<00:00, 19.14it/s, loss=0.98008, accuracy=0.73649]\n",
      "Epoch 19/49 val: 100%|██████████| 503/503 [00:09<00:00, 50.73it/s, loss=1.0415, accuracy=0.70846]\n"
     ]
    },
    {
     "name": "stdout",
     "output_type": "stream",
     "text": [
      "[CHECKPOINT] ../../data\\finetuned_models\\StanfordCars\\resnet\\resnet_StanfordCars_E20_occSOFTMAX.pth\n"
     ]
    },
    {
     "name": "stderr",
     "output_type": "stream",
     "text": [
      "Epoch 20/49 train: 100%|██████████| 1018/1018 [00:52<00:00, 19.26it/s, loss=0.99838, accuracy=0.73748]\n",
      "Epoch 20/49 val: 100%|██████████| 503/503 [00:09<00:00, 51.02it/s, loss=0.93756, accuracy=0.74279]\n",
      "Epoch 21/49 train: 100%|██████████| 1018/1018 [00:52<00:00, 19.42it/s, loss=0.96627, accuracy=0.74632]\n",
      "Epoch 21/49 val: 100%|██████████| 503/503 [00:10<00:00, 49.04it/s, loss=1.1786, accuracy=0.69154]\n",
      "Epoch 22/49 train: 100%|██████████| 1018/1018 [00:53<00:00, 19.14it/s, loss=0.90959, accuracy=0.7543] \n",
      "Epoch 22/49 val: 100%|██████████| 503/503 [00:09<00:00, 50.77it/s, loss=1.0214, accuracy=0.72711]\n",
      "Epoch 23/49 train: 100%|██████████| 1018/1018 [00:52<00:00, 19.24it/s, loss=0.92753, accuracy=0.76117]\n",
      "Epoch 23/49 val: 100%|██████████| 503/503 [00:09<00:00, 51.10it/s, loss=0.94156, accuracy=0.73333]\n",
      "Epoch 24/49 train: 100%|██████████| 1018/1018 [00:52<00:00, 19.38it/s, loss=0.89554, accuracy=0.76081]\n",
      "Epoch 24/49 val: 100%|██████████| 503/503 [00:09<00:00, 51.31it/s, loss=0.99122, accuracy=0.7204] \n",
      "Epoch 25/49 train: 100%|██████████| 1018/1018 [00:54<00:00, 18.77it/s, loss=0.86366, accuracy=0.76989]\n",
      "Epoch 25/49 val: 100%|██████████| 503/503 [00:09<00:00, 51.08it/s, loss=1.0245, accuracy=0.72861] \n",
      "Epoch 26/49 train: 100%|██████████| 1018/1018 [00:52<00:00, 19.31it/s, loss=0.84367, accuracy=0.77456]\n",
      "Epoch 26/49 val: 100%|██████████| 503/503 [00:09<00:00, 50.51it/s, loss=1.1037, accuracy=0.70249]\n",
      "Epoch 27/49 train: 100%|██████████| 1018/1018 [00:52<00:00, 19.46it/s, loss=0.86094, accuracy=0.77247]\n",
      "Epoch 27/49 val: 100%|██████████| 503/503 [00:09<00:00, 51.14it/s, loss=1.1513, accuracy=0.70373]\n",
      "Epoch 28/49 train: 100%|██████████| 1018/1018 [00:52<00:00, 19.22it/s, loss=0.82576, accuracy=0.78315]\n",
      "Epoch 28/49 val: 100%|██████████| 503/503 [00:09<00:00, 50.40it/s, loss=1.0073, accuracy=0.7194]  \n",
      "Epoch 29/49 train: 100%|██████████| 1018/1018 [00:53<00:00, 19.11it/s, loss=0.78918, accuracy=0.78696]\n",
      "Epoch 29/49 val: 100%|██████████| 503/503 [00:09<00:00, 52.31it/s, loss=0.96814, accuracy=0.74701]\n"
     ]
    },
    {
     "name": "stdout",
     "output_type": "stream",
     "text": [
      "[CHECKPOINT] ../../data\\finetuned_models\\StanfordCars\\resnet\\resnet_StanfordCars_E30_occSOFTMAX.pth\n"
     ]
    },
    {
     "name": "stderr",
     "output_type": "stream",
     "text": [
      "Epoch 30/49 train: 100%|██████████| 1018/1018 [00:50<00:00, 20.02it/s, loss=0.78178, accuracy=0.79052]\n",
      "Epoch 30/49 val: 100%|██████████| 503/503 [00:09<00:00, 52.49it/s, loss=1.2276, accuracy=0.7]    \n",
      "Epoch 31/49 train: 100%|██████████| 1018/1018 [00:51<00:00, 19.62it/s, loss=0.79568, accuracy=0.78426]\n",
      "Epoch 31/49 val: 100%|██████████| 503/503 [00:09<00:00, 52.37it/s, loss=1.1832, accuracy=0.70025]\n",
      "Epoch 32/49 train: 100%|██████████| 1018/1018 [00:50<00:00, 19.99it/s, loss=0.7618, accuracy=0.79482] \n",
      "Epoch 32/49 val: 100%|██████████| 503/503 [00:10<00:00, 49.88it/s, loss=0.92475, accuracy=0.74378]\n",
      "Epoch 33/49 train: 100%|██████████| 1018/1018 [00:51<00:00, 19.88it/s, loss=0.71675, accuracy=0.80427]\n",
      "Epoch 33/49 val: 100%|██████████| 503/503 [00:09<00:00, 51.45it/s, loss=1.0673, accuracy=0.71841]\n",
      "Epoch 34/49 train: 100%|██████████| 1018/1018 [00:51<00:00, 19.74it/s, loss=0.71352, accuracy=0.81299]\n",
      "Epoch 34/49 val: 100%|██████████| 503/503 [00:09<00:00, 52.64it/s, loss=1.1415, accuracy=0.69975]\n",
      "Epoch 35/49 train: 100%|██████████| 1018/1018 [00:52<00:00, 19.24it/s, loss=0.75433, accuracy=0.80771]\n",
      "Epoch 35/49 val: 100%|██████████| 503/503 [00:10<00:00, 49.78it/s, loss=0.97495, accuracy=0.74328]\n",
      "Epoch 36/49 train: 100%|██████████| 1018/1018 [00:54<00:00, 18.78it/s, loss=0.71654, accuracy=0.80943]\n",
      "Epoch 36/49 val: 100%|██████████| 503/503 [00:10<00:00, 50.24it/s, loss=1.055, accuracy=0.71791] \n",
      "Epoch 37/49 train: 100%|██████████| 1018/1018 [00:53<00:00, 18.94it/s, loss=0.7202, accuracy=0.8039]  \n",
      "Epoch 37/49 val: 100%|██████████| 503/503 [00:10<00:00, 50.26it/s, loss=1.0417, accuracy=0.73209]\n",
      "Epoch 38/49 train: 100%|██████████| 1018/1018 [00:53<00:00, 19.00it/s, loss=0.68829, accuracy=0.81483]\n",
      "Epoch 38/49 val: 100%|██████████| 503/503 [00:10<00:00, 50.07it/s, loss=0.93766, accuracy=0.74254]\n",
      "Epoch 39/49 train: 100%|██████████| 1018/1018 [00:53<00:00, 19.09it/s, loss=0.70262, accuracy=0.81348]\n",
      "Epoch 39/49 val: 100%|██████████| 503/503 [00:09<00:00, 50.99it/s, loss=0.99603, accuracy=0.73333]\n"
     ]
    },
    {
     "name": "stdout",
     "output_type": "stream",
     "text": [
      "[CHECKPOINT] ../../data\\finetuned_models\\StanfordCars\\resnet\\resnet_StanfordCars_E40_occSOFTMAX.pth\n"
     ]
    },
    {
     "name": "stderr",
     "output_type": "stream",
     "text": [
      "Epoch 40/49 train: 100%|██████████| 1018/1018 [00:53<00:00, 19.05it/s, loss=0.67538, accuracy=0.81717]\n",
      "Epoch 40/49 val: 100%|██████████| 503/503 [00:10<00:00, 49.35it/s, loss=0.98611, accuracy=0.7209] \n",
      "Epoch 41/49 train: 100%|██████████| 1018/1018 [00:56<00:00, 18.15it/s, loss=0.70068, accuracy=0.81176]\n",
      "Epoch 41/49 val: 100%|██████████| 503/503 [00:10<00:00, 49.91it/s, loss=1.0679, accuracy=0.73333]\n",
      "Epoch 42/49 train: 100%|██████████| 1018/1018 [00:53<00:00, 19.12it/s, loss=0.62217, accuracy=0.83239]\n",
      "Epoch 42/49 val: 100%|██████████| 503/503 [00:09<00:00, 50.87it/s, loss=1.0283, accuracy=0.72886] \n",
      "Epoch 43/49 train: 100%|██████████| 1018/1018 [00:55<00:00, 18.39it/s, loss=0.65165, accuracy=0.82294]\n",
      "Epoch 43/49 val: 100%|██████████| 503/503 [00:10<00:00, 49.40it/s, loss=0.96659, accuracy=0.73582]\n",
      "Epoch 44/49 train: 100%|██████████| 1018/1018 [00:54<00:00, 18.71it/s, loss=0.65993, accuracy=0.82871]\n",
      "Epoch 44/49 val: 100%|██████████| 503/503 [00:10<00:00, 47.49it/s, loss=0.88205, accuracy=0.75025]\n",
      "Epoch 45/49 train: 100%|██████████| 1018/1018 [00:54<00:00, 18.56it/s, loss=0.62731, accuracy=0.83337]\n",
      "Epoch 45/49 val: 100%|██████████| 503/503 [00:10<00:00, 49.83it/s, loss=0.92773, accuracy=0.7505] \n",
      "Epoch 46/49 train: 100%|██████████| 1018/1018 [00:55<00:00, 18.21it/s, loss=0.6989, accuracy=0.81766] \n",
      "Epoch 46/49 val: 100%|██████████| 503/503 [00:10<00:00, 49.81it/s, loss=0.99507, accuracy=0.72488]\n",
      "Epoch 47/49 train: 100%|██████████| 1018/1018 [00:53<00:00, 18.91it/s, loss=0.65048, accuracy=0.82785]\n",
      "Epoch 47/49 val: 100%|██████████| 503/503 [00:10<00:00, 47.55it/s, loss=1.0398, accuracy=0.7291] \n",
      "Epoch 48/49 train: 100%|██████████| 1018/1018 [00:57<00:00, 17.71it/s, loss=0.6206, accuracy=0.83497] \n",
      "Epoch 48/49 val: 100%|██████████| 503/503 [00:10<00:00, 48.77it/s, loss=0.94094, accuracy=0.73905]\n",
      "Epoch 49/49 train: 100%|██████████| 1018/1018 [00:52<00:00, 19.25it/s, loss=0.62402, accuracy=0.83644]\n",
      "Epoch 49/49 val: 100%|██████████| 503/503 [00:09<00:00, 50.60it/s, loss=0.96098, accuracy=0.74751]\n"
     ]
    },
    {
     "name": "stdout",
     "output_type": "stream",
     "text": [
      "[CHECKPOINT] ../../data\\finetuned_models\\StanfordCars\\resnet\\resnet_StanfordCars_E50_occSOFTMAX.pth\n",
      "Training complete in 52m 8s\n",
      "Best val Acc: 0.750498\n",
      "[CHECKPOINT] ../../data\\finetuned_models\\StanfordCars\\resnet\\resnet_StanfordCars_E50_occSOFTMAX.pth\n"
     ]
    }
   ],
   "source": [
    "# inception model doesn't work.\n",
    "# models = ['resnet', 'alexnet', 'densenet', 'squeezenet', 'vgg']\n",
    "#\n",
    "# for name in models:\n",
    "#     print('[TRAINING]:', name)\n",
    "# finetune.CLASSIFIER_NAME = name\n",
    "importlib.reload(finetune)\n",
    "\n",
    "for classifier_name in ['resnet']: # 'resnet',\n",
    "    for occlusion_name in [None, '1']: # '0', '1', 'GAUSSIAN', 'SOFTMAX'\n",
    "        for dataset in ['StanfordCars']: # ['FGVC-Aircraft' , 'StanfordCars']\n",
    "            print('STARTING: model={} | dataset={} | occlusion={}'.format(classifier_name, dataset, occlusion_name))\n",
    "            finetune.CLASSIFIER_NAME = classifier_name\n",
    "            finetune.NUM_EPOCHS = 50  # early stopping\n",
    "            finetune.FEATURE_EXTRACT = False\n",
    "            finetune.DATASET = dataset  # [StanfordCars, FGVC-Aircraft]\n",
    "            finetune.OCCLUSION_NAME = occlusion_name\n",
    "            finetune.OPTIMIZER_NAME = 'adam'\n",
    "            # finetune.print_hypers() # shows params\n",
    "            # occlusion = '0'\n",
    "\n",
    "            # Initialize the model for this run\n",
    "            model_ft = finetune.initialize_model(_verbose=False)\n",
    "\n",
    "            model, hist, state = finetune.finetune_model(model_ft, checkpoint_save=10)\n",
    "\n",
    "            # Save the model after the last epoch\n",
    "            finetune.save_model(state)\n",
    "            del model_ft\n",
    "            del model\n",
    "            del hist\n",
    "            del state\n"
   ],
   "metadata": {
    "collapsed": false,
    "pycharm": {
     "name": "#%%\n"
    }
   }
  },
  {
   "cell_type": "code",
   "execution_count": null,
   "outputs": [],
   "source": [
    "# # Loading certain model\n",
    "# model_props = {\n",
    "#     'name': 'resnet',\n",
    "#     'dataset': 'StanfordCars',\n",
    "#     'epochs': 2\n",
    "# }\n",
    "# model_load_path = finetune.format_model_path(model_props['name'],\n",
    "#                                              model_props['dataset'],\n",
    "#                                              3)\n",
    "# ,\n",
    "# state = torch.load(model_load_path)\n",
    "# new_model = finetune.get_model_architecture(model_props['name'])\n",
    "# new_model.load_state_dict(state['model_state_dict'])\n",
    "# optimizer_state_dict = state['optimizer_state_dict']"
   ],
   "metadata": {
    "collapsed": false,
    "pycharm": {
     "name": "#%%\n"
    }
   }
  },
  {
   "cell_type": "code",
   "execution_count": null,
   "outputs": [],
   "source": [
    "# importlib.reload(finetune)"
   ],
   "metadata": {
    "collapsed": false,
    "pycharm": {
     "name": "#%%\n"
    }
   }
  },
  {
   "cell_type": "code",
   "execution_count": null,
   "outputs": [],
   "source": [
    "finetune.save_model(state)"
   ],
   "metadata": {
    "collapsed": false,
    "pycharm": {
     "name": "#%%\n"
    }
   }
  },
  {
   "cell_type": "code",
   "execution_count": null,
   "outputs": [],
   "source": [],
   "metadata": {
    "collapsed": false,
    "pycharm": {
     "name": "#%%\n"
    }
   }
  },
  {
   "cell_type": "code",
   "execution_count": null,
   "outputs": [],
   "source": [
    "finetune.format_model_path('resnet',\n",
    "                           'FGVC-Aircraft',\n",
    "                           30)\n",
    "\n",
    "checkpoint = finetune.load_checkpoint(model_save_path)\n",
    "\n",
    "train_acc_history, train_loss_history, val_acc_history = finetune.get_information_from_checkpoint(checkpoint, plot=True)"
   ],
   "metadata": {
    "collapsed": false,
    "pycharm": {
     "name": "#%%\n"
    }
   }
  },
  {
   "cell_type": "code",
   "execution_count": null,
   "outputs": [],
   "source": [
    "optimizer_state_dict = checkpoint['optimizer_state_dict']\n",
    "finetune.NUM_EPOCHS = 10\n",
    "checkpoint_model = finetune.get_model_architecture('resnet')\n",
    "checkpoint_model.load_state_dict(checkpoint['model_state_dict'])\n",
    "\n",
    "test_model, hist, state = finetune.finetune_model(checkpoint_model,\n",
    "                                                  'adam',\n",
    "                                                  optimizer_state_dict=optimizer_state_dict,\n",
    "                                                  checkpoint_save=5,\n",
    "                                                  is_retrain=True)\n"
   ],
   "metadata": {
    "collapsed": false,
    "pycharm": {
     "name": "#%%\n"
    }
   }
  },
  {
   "cell_type": "code",
   "execution_count": null,
   "outputs": [],
   "source": [
    "hist"
   ],
   "metadata": {
    "collapsed": false,
    "pycharm": {
     "name": "#%%\n"
    }
   }
  },
  {
   "cell_type": "code",
   "execution_count": null,
   "outputs": [],
   "source": [
    "finetune.save_model(state)"
   ],
   "metadata": {
    "collapsed": false,
    "pycharm": {
     "name": "#%%\n"
    }
   }
  },
  {
   "cell_type": "code",
   "execution_count": null,
   "outputs": [],
   "source": [],
   "metadata": {
    "collapsed": false,
    "pycharm": {
     "name": "#%%\n"
    }
   }
  }
 ],
 "metadata": {
  "kernelspec": {
   "display_name": "Python 3",
   "language": "python",
   "name": "python3"
  },
  "language_info": {
   "codemirror_mode": {
    "name": "ipython",
    "version": 2
   },
   "file_extension": ".py",
   "mimetype": "text/x-python",
   "name": "python",
   "nbconvert_exporter": "python",
   "pygments_lexer": "ipython2",
   "version": "2.7.6"
  }
 },
 "nbformat": 4,
 "nbformat_minor": 0
}