{
 "cells": [
  {
   "cell_type": "code",
   "execution_count": 18,
   "outputs": [],
   "source": [
    "%matplotlib inline\n",
    "# not sure if necessary"
   ],
   "metadata": {
    "collapsed": false,
    "pycharm": {
     "name": "#%%\n"
    }
   }
  },
  {
   "cell_type": "code",
   "execution_count": 19,
   "outputs": [],
   "source": [
    "import finetune\n",
    "import importlib\n",
    "import torch"
   ],
   "metadata": {
    "collapsed": false,
    "pycharm": {
     "name": "#%%\n"
    }
   }
  },
  {
   "cell_type": "code",
   "execution_count": 20,
   "outputs": [
    {
     "name": "stdout",
     "output_type": "stream",
     "text": [
      "cannot safely create ../../data\\finetuned_models\n",
      "cannot safely create ../../data\\finetuned_models\\StanfordCars\n",
      "cannot safely create ../../data\\finetuned_models\\StanfordCars\\resnet\n",
      "cannot safely create ../../data\\finetuned_models\\StanfordCars\\alexnet\n",
      "cannot safely create ../../data\\finetuned_models\\StanfordCars\\vgg\n",
      "cannot safely create ../../data\\finetuned_models\\StanfordCars\\squeezenet\n",
      "cannot safely create ../../data\\finetuned_models\\StanfordCars\\densenet\n",
      "cannot safely create ../../data\\finetuned_models\\StanfordCars\\inception\n",
      "cannot safely create ../../data\\finetuned_models\\FGVC-Aircraft\n",
      "cannot safely create ../../data\\finetuned_models\\FGVC-Aircraft\\resnet\n",
      "cannot safely create ../../data\\finetuned_models\\FGVC-Aircraft\\alexnet\n",
      "cannot safely create ../../data\\finetuned_models\\FGVC-Aircraft\\vgg\n",
      "cannot safely create ../../data\\finetuned_models\\FGVC-Aircraft\\squeezenet\n",
      "cannot safely create ../../data\\finetuned_models\\FGVC-Aircraft\\densenet\n",
      "cannot safely create ../../data\\finetuned_models\\FGVC-Aircraft\\inception\n"
     ]
    }
   ],
   "source": [
    "# run this cell when you change stuff in the finetune module, and don't want to restart the notebook's kernel.\n",
    "importlib.reload(finetune)\n",
    "finetune.structure_checkpoints()"
   ],
   "metadata": {
    "collapsed": false,
    "pycharm": {
     "name": "#%%\n"
    }
   }
  },
  {
   "cell_type": "code",
   "execution_count": 21,
   "outputs": [
    {
     "name": "stdout",
     "output_type": "stream",
     "text": [
      "classifier input size: None\n",
      "batch size: 8\n",
      "num epochs: 15\n",
      "feature extract: False\n"
     ]
    }
   ],
   "source": [
    "finetune.CLASSIFIER_NAME = 'resnet'\n",
    "finetune.NUM_EPOCHS = 15\n",
    "finetune.FEATURE_EXTRACT = False\n",
    "finetune.DATASET = 'StanfordCars'\n",
    "finetune.print_hypers() # shows params\n",
    "\n",
    "# Initialize the model for this run\n",
    "model_ft = finetune.initialize_model(_verbose=False)"
   ],
   "metadata": {
    "collapsed": false,
    "pycharm": {
     "name": "#%%\n"
    }
   }
  },
  {
   "cell_type": "code",
   "execution_count": null,
   "outputs": [
    {
     "name": "stderr",
     "output_type": "stream",
     "text": [
      "  0%|          | 0/1018 [00:00<?, ?it/s]"
     ]
    },
    {
     "name": "stdout",
     "output_type": "stream",
     "text": [
      "Epoch 0/14\n",
      "----------\n"
     ]
    },
    {
     "name": "stderr",
     "output_type": "stream",
     "text": [
      "100%|██████████| 1018/1018 [00:43<00:00, 23.46it/s]\n",
      "  0%|          | 0/503 [00:00<?, ?it/s]"
     ]
    },
    {
     "name": "stdout",
     "output_type": "stream",
     "text": [
      "train Loss: 4.9115 Acc: 0.0426\n"
     ]
    },
    {
     "name": "stderr",
     "output_type": "stream",
     "text": [
      "100%|██████████| 503/503 [00:09<00:00, 50.48it/s]\n",
      "  0%|          | 0/1018 [00:00<?, ?it/s]"
     ]
    },
    {
     "name": "stdout",
     "output_type": "stream",
     "text": [
      "val Loss: 3.8761 Acc: 0.1560\n",
      "\n",
      "Epoch 1/14\n",
      "----------\n"
     ]
    }
   ],
   "source": [
    "model, hist, state = finetune.finetune_model(model_ft)"
   ],
   "metadata": {
    "collapsed": false,
    "pycharm": {
     "name": "#%%\n",
     "is_executing": true
    }
   }
  },
  {
   "cell_type": "code",
   "execution_count": null,
   "outputs": [],
   "source": [
    "model_save_path = finetune.format_model_path(finetune.CLASSIFIER_NAME,\n",
    "                                             finetune.DATASET,\n",
    "                                             state['epochs'])\n",
    "\n",
    "finetune.save_model(state, model_save_path)"
   ],
   "metadata": {
    "collapsed": false,
    "pycharm": {
     "name": "#%%\n",
     "is_executing": true
    }
   }
  },
  {
   "cell_type": "code",
   "execution_count": null,
   "outputs": [],
   "source": [
    "# Loading certain model\n",
    "model_props = {\n",
    "    'name': 'resnet',\n",
    "    'dataset': 'StanfordCars',\n",
    "    'epochs': 15\n",
    "}\n",
    "model_load_path = finetune.format_model_path(model_props['name'],\n",
    "                                             model_props['dataset'],\n",
    "                                             model_props['epochs'])\n",
    ",\n",
    "state = torch.load(model_load_path)\n",
    "new_model = finetune.get_model_architecture(model_props['name'])\n",
    "new_model.load_state_dict(state['model_state_dict'])\n",
    "optimizer_state_dict = state['optimizer_state_dict']"
   ],
   "metadata": {
    "collapsed": false,
    "pycharm": {
     "name": "#%%\n",
     "is_executing": true
    }
   }
  },
  {
   "cell_type": "code",
   "execution_count": null,
   "outputs": [],
   "source": [
    "finetune.NUM_EPOCHS = 15\n",
    "finetune.FEATURE_EXTRACT = False\n",
    "finetune.DATASET = 'StanfordCars'\n",
    "\n",
    "new_model, hist2, state2 = finetune.finetune_model(new_model,optimizer_state_dict, is_retrain=model_props['epochs'])"
   ],
   "metadata": {
    "collapsed": false,
    "pycharm": {
     "name": "#%%\n",
     "is_executing": true
    }
   }
  },
  {
   "cell_type": "code",
   "execution_count": null,
   "outputs": [],
   "source": [
    "model_save_path = finetune.format_model_path(finetune.CLASSIFIER_NAME,\n",
    "                                             finetune.DATASET,\n",
    "                                             state2['epochs'])\n",
    "\n",
    "finetune.save_model(state2, model_save_path)"
   ],
   "metadata": {
    "collapsed": false,
    "pycharm": {
     "name": "#%%\n",
     "is_executing": true
    }
   }
  },
  {
   "cell_type": "markdown",
   "source": [],
   "metadata": {
    "collapsed": false,
    "pycharm": {
     "name": "#%% md\n"
    }
   }
  },
  {
   "cell_type": "code",
   "execution_count": null,
   "outputs": [],
   "source": [
    "finetune.NUM_CLASSES = 196\n",
    "finetune.CLASSIFIER_NAME = 'resnet'\n",
    "finetune.NUM_EPOCHS = 15\n",
    "finetune.FEATURE_EXTRACT = True\n",
    "finetune.print_hypers() # shows params\n",
    "# Initialize the model for this run\n",
    "model_ft = finetune.initialize_model()\n",
    "\n",
    "\n",
    "# Print the model we just instantiated\n",
    "print(model_ft)\n",
    "finetune.finetune_model(model_ft)"
   ],
   "metadata": {
    "collapsed": false,
    "pycharm": {
     "name": "#%%\n"
    }
   }
  },
  {
   "cell_type": "code",
   "execution_count": null,
   "outputs": [],
   "source": [
    "finetune.NUM_CLASSES = 196\n",
    "finetune.CLASSIFIER_NAME = 'resnet'\n",
    "finetune.NUM_EPOCHS = 30\n",
    "finetune.FEATURE_EXTRACT = True\n",
    "finetune.print_hypers() # shows params\n",
    "# Initialize the model for this run\n",
    "model_ft = finetune.initialize_model()\n",
    "\n",
    "\n",
    "# Print the model we just instantiated\n",
    "print(model_ft)\n",
    "finetune.finetune_model(model_ft)"
   ],
   "metadata": {
    "collapsed": false,
    "pycharm": {
     "name": "#%%\n"
    }
   }
  },
  {
   "cell_type": "code",
   "execution_count": null,
   "outputs": [],
   "source": [],
   "metadata": {
    "collapsed": false,
    "pycharm": {
     "name": "#%%\n"
    }
   }
  },
  {
   "cell_type": "code",
   "execution_count": null,
   "outputs": [],
   "source": [],
   "metadata": {
    "collapsed": false,
    "pycharm": {
     "name": "#%%\n"
    }
   }
  }
 ],
 "metadata": {
  "kernelspec": {
   "display_name": "Python 3",
   "language": "python",
   "name": "python3"
  },
  "language_info": {
   "codemirror_mode": {
    "name": "ipython",
    "version": 2
   },
   "file_extension": ".py",
   "mimetype": "text/x-python",
   "name": "python",
   "nbconvert_exporter": "python",
   "pygments_lexer": "ipython2",
   "version": "2.7.6"
  }
 },
 "nbformat": 4,
 "nbformat_minor": 0
}