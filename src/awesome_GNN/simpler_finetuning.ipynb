{
 "cells": [
  {
   "cell_type": "code",
   "execution_count": null,
   "outputs": [],
   "source": [
    "%matplotlib inline\n",
    "# not sure if necessary"
   ],
   "metadata": {
    "collapsed": false,
    "pycharm": {
     "name": "#%%\n",
     "is_executing": true
    }
   }
  },
  {
   "cell_type": "code",
   "execution_count": 2,
   "outputs": [],
   "source": [
    "import finetune\n",
    "import importlib\n",
    "import torch"
   ],
   "metadata": {
    "collapsed": false,
    "pycharm": {
     "name": "#%%\n"
    }
   }
  },
  {
   "cell_type": "code",
   "execution_count": 1,
   "outputs": [
    {
     "ename": "NameError",
     "evalue": "name 'importlib' is not defined",
     "output_type": "error",
     "traceback": [
      "\u001B[0;31m---------------------------------------------------------------------------\u001B[0m",
      "\u001B[0;31mNameError\u001B[0m                                 Traceback (most recent call last)",
      "Input \u001B[0;32mIn [1]\u001B[0m, in \u001B[0;36m<cell line: 2>\u001B[0;34m()\u001B[0m\n\u001B[1;32m      1\u001B[0m \u001B[38;5;66;03m# run this cell when you change stuff in the finetune module, and don't want to restart the notebook's kernel.\u001B[39;00m\n\u001B[0;32m----> 2\u001B[0m \u001B[43mimportlib\u001B[49m\u001B[38;5;241m.\u001B[39mreload(finetune)\n\u001B[1;32m      3\u001B[0m finetune\u001B[38;5;241m.\u001B[39mstructure_checkpoints()\n",
      "\u001B[0;31mNameError\u001B[0m: name 'importlib' is not defined"
     ]
    }
   ],
   "source": [
    "# run this cell when you change stuff in the finetune module, and don't want to restart the notebook's kernel.\n",
    "importlib.reload(finetune)\n",
    "finetune.structure_checkpoints()  # If this prints 'Cannot safely create ...', it means that the folder probably already exists"
   ],
   "metadata": {
    "collapsed": false,
    "pycharm": {
     "name": "#%%\n"
    }
   }
  },
  {
   "cell_type": "code",
   "execution_count": 6,
   "outputs": [
    {
     "name": "stdout",
     "output_type": "stream",
     "text": [
      "STARTING: model=resnet | dataset=StanfordCars | occlusion=0\n"
     ]
    },
    {
     "name": "stderr",
     "output_type": "stream",
     "text": [
      "Epoch 0/9999 train: 100%|██████████| 1018/1018 [03:28<00:00,  4.88it/s, loss=5.2766, accuracy=0.0073674]\n",
      "Epoch 0/9999 val: 100%|██████████| 503/503 [00:42<00:00, 11.97it/s, loss=5.2523, accuracy=0.008209] \n",
      "Epoch 1/9999 train: 100%|██████████| 1018/1018 [04:19<00:00,  3.92it/s, loss=4.7089, accuracy=0.042362]\n",
      "Epoch 1/9999 val: 100%|██████████| 503/503 [00:41<00:00, 12.17it/s, loss=3.7982, accuracy=0.11294]\n",
      "Epoch 2/9999 train: 100%|██████████| 1018/1018 [04:28<00:00,  3.80it/s, loss=3.2309, accuracy=0.20911]\n",
      "Epoch 2/9999 val: 100%|██████████| 503/503 [00:28<00:00, 17.92it/s, loss=2.7908, accuracy=0.27711]\n",
      "Epoch 3/9999 train: 100%|██████████| 1018/1018 [04:43<00:00,  3.59it/s, loss=2.1811, accuracy=0.41147]\n",
      "Epoch 3/9999 val: 100%|██████████| 503/503 [00:28<00:00, 17.77it/s, loss=2.0282, accuracy=0.45274]\n",
      "Epoch 4/9999 train: 100%|██████████| 1018/1018 [05:00<00:00,  3.39it/s, loss=1.4954, accuracy=0.57269]\n",
      "Epoch 4/9999 val: 100%|██████████| 503/503 [00:28<00:00, 17.70it/s, loss=1.8556, accuracy=0.49776]\n",
      "Epoch 5/9999 train: 100%|██████████| 1018/1018 [05:11<00:00,  3.27it/s, loss=1.2385, accuracy=0.65201]\n",
      "Epoch 5/9999 val: 100%|██████████| 503/503 [00:28<00:00, 17.71it/s, loss=1.5224, accuracy=0.57363]\n",
      "Epoch 6/9999 train: 100%|██████████| 1018/1018 [05:18<00:00,  3.20it/s, loss=0.93527, accuracy=0.72225]\n",
      "Epoch 6/9999 val: 100%|██████████| 503/503 [00:49<00:00, 10.06it/s, loss=1.5147, accuracy=0.5796] \n",
      "Epoch 7/9999 train: 100%|██████████| 1018/1018 [05:35<00:00,  3.03it/s, loss=0.75871, accuracy=0.77038]\n",
      "Epoch 7/9999 val: 100%|██████████| 503/503 [00:28<00:00, 17.67it/s, loss=1.3582, accuracy=0.63756]\n",
      "Epoch 8/9999 train: 100%|██████████| 1018/1018 [05:32<00:00,  3.06it/s, loss=0.64712, accuracy=0.80771]\n",
      "Epoch 8/9999 val: 100%|██████████| 503/503 [00:49<00:00, 10.10it/s, loss=1.2652, accuracy=0.65398]\n",
      "Epoch 9/9999 train: 100%|██████████| 1018/1018 [05:35<00:00,  3.04it/s, loss=0.55175, accuracy=0.83264]\n",
      "Epoch 9/9999 val: 100%|██████████| 503/503 [00:28<00:00, 17.66it/s, loss=1.3437, accuracy=0.63383]\n"
     ]
    },
    {
     "name": "stdout",
     "output_type": "stream",
     "text": [
      "[CHECKPOINT] ../../data/finetuned_models/StanfordCars/resnet/resnet_StanfordCars_E10_occ0.pth\n"
     ]
    },
    {
     "name": "stderr",
     "output_type": "stream",
     "text": [
      "Epoch 10/9999 train: 100%|██████████| 1018/1018 [05:21<00:00,  3.16it/s, loss=0.5371, accuracy=0.84627] \n",
      "Epoch 10/9999 val: 100%|██████████| 503/503 [00:28<00:00, 17.65it/s, loss=1.2922, accuracy=0.66393]\n",
      "Epoch 11/9999 train: 100%|██████████| 1018/1018 [05:42<00:00,  2.97it/s, loss=0.43448, accuracy=0.86333]\n",
      "Epoch 11/9999 val: 100%|██████████| 503/503 [00:50<00:00,  9.93it/s, loss=1.2545, accuracy=0.67662]\n",
      "Epoch 12/9999 train: 100%|██████████| 1018/1018 [05:26<00:00,  3.12it/s, loss=0.38066, accuracy=0.87991]\n",
      "Epoch 12/9999 val: 100%|██████████| 503/503 [00:27<00:00, 17.98it/s, loss=1.3613, accuracy=0.64055]\n",
      "Epoch 13/9999 train: 100%|██████████| 1018/1018 [05:26<00:00,  3.12it/s, loss=0.32596, accuracy=0.90189]\n",
      "Epoch 13/9999 val: 100%|██████████| 503/503 [00:49<00:00, 10.10it/s, loss=1.5229, accuracy=0.63159]\n",
      "Epoch 14/9999 train: 100%|██████████| 1018/1018 [05:39<00:00,  3.00it/s, loss=0.33318, accuracy=0.90177]\n",
      "Epoch 14/9999 val: 100%|██████████| 503/503 [00:49<00:00, 10.14it/s, loss=1.2376, accuracy=0.67811]\n",
      "Epoch 15/9999 train: 100%|██████████| 1018/1018 [05:39<00:00,  3.00it/s, loss=0.30949, accuracy=0.90484]\n",
      "Epoch 15/9999 val: 100%|██████████| 503/503 [00:29<00:00, 17.22it/s, loss=1.5105, accuracy=0.64378]\n",
      "Epoch 16/9999 train: 100%|██████████| 1018/1018 [05:38<00:00,  3.01it/s, loss=0.30231, accuracy=0.91233]\n",
      "Epoch 16/9999 val: 100%|██████████| 503/503 [00:49<00:00, 10.09it/s, loss=1.5354, accuracy=0.64851]\n",
      "Epoch 17/9999 train: 100%|██████████| 1018/1018 [05:43<00:00,  2.96it/s, loss=0.26313, accuracy=0.92191]\n",
      "Epoch 17/9999 val: 100%|██████████| 503/503 [00:49<00:00, 10.14it/s, loss=1.46, accuracy=0.67114]  \n",
      "Epoch 18/9999 train: 100%|██████████| 1018/1018 [05:38<00:00,  3.01it/s, loss=0.25366, accuracy=0.92878]\n",
      "Epoch 18/9999 val: 100%|██████████| 503/503 [00:49<00:00, 10.14it/s, loss=1.3836, accuracy=0.67811]\n",
      "Epoch 19/9999 train: 100%|██████████| 1018/1018 [05:37<00:00,  3.01it/s, loss=0.30009, accuracy=0.91478]\n",
      "Epoch 19/9999 val: 100%|██████████| 503/503 [00:45<00:00, 10.96it/s, loss=1.3083, accuracy=0.67786]\n"
     ]
    },
    {
     "name": "stdout",
     "output_type": "stream",
     "text": [
      "[CHECKPOINT] ../../data/finetuned_models/StanfordCars/resnet/resnet_StanfordCars_E20_occ0.pth\n"
     ]
    },
    {
     "name": "stderr",
     "output_type": "stream",
     "text": [
      "Epoch 20/9999 train: 100%|██████████| 1018/1018 [05:44<00:00,  2.96it/s, loss=0.21522, accuracy=0.93541]\n",
      "Epoch 20/9999 val: 100%|██████████| 503/503 [00:49<00:00, 10.24it/s, loss=1.4613, accuracy=0.65348]\n",
      "Epoch 21/9999 train: 100%|██████████| 1018/1018 [05:33<00:00,  3.05it/s, loss=0.25559, accuracy=0.92903]\n",
      "Epoch 21/9999 val: 100%|██████████| 503/503 [00:49<00:00, 10.20it/s, loss=1.5827, accuracy=0.63706]\n",
      "Epoch 22/9999 train: 100%|██████████| 1018/1018 [05:46<00:00,  2.94it/s, loss=0.1998, accuracy=0.93861] \n",
      "Epoch 22/9999 val: 100%|██████████| 503/503 [00:27<00:00, 18.46it/s, loss=1.3471, accuracy=0.68035]\n",
      "Epoch 23/9999 train: 100%|██████████| 1018/1018 [05:49<00:00,  2.92it/s, loss=0.20625, accuracy=0.94352]\n",
      "Epoch 23/9999 val: 100%|██████████| 503/503 [00:39<00:00, 12.76it/s, loss=1.2353, accuracy=0.69527]\n",
      "Epoch 24/9999 train: 100%|██████████| 1018/1018 [05:36<00:00,  3.03it/s, loss=0.20876, accuracy=0.94462]\n",
      "Epoch 24/9999 val: 100%|██████████| 503/503 [00:48<00:00, 10.28it/s, loss=1.7045, accuracy=0.63905]\n",
      "Epoch 25/9999 train: 100%|██████████| 1018/1018 [05:43<00:00,  2.97it/s, loss=0.22681, accuracy=0.93811]\n",
      "Epoch 25/9999 val: 100%|██████████| 503/503 [00:49<00:00, 10.26it/s, loss=1.6028, accuracy=0.65174]\n",
      "Epoch 26/9999 train: 100%|██████████| 1018/1018 [05:49<00:00,  2.91it/s, loss=0.16171, accuracy=0.95273]\n",
      "Epoch 26/9999 val: 100%|██████████| 503/503 [00:27<00:00, 18.01it/s, loss=1.5261, accuracy=0.6893] \n",
      "Epoch 27/9999 train: 100%|██████████| 1018/1018 [05:41<00:00,  2.98it/s, loss=0.18158, accuracy=0.94867]\n",
      "Epoch 27/9999 val: 100%|██████████| 503/503 [00:47<00:00, 10.66it/s, loss=1.5363, accuracy=0.67637]\n",
      "Epoch 28/9999 train: 100%|██████████| 1018/1018 [05:30<00:00,  3.08it/s, loss=0.19586, accuracy=0.94781]\n",
      "Epoch 28/9999 val: 100%|██████████| 503/503 [00:49<00:00, 10.08it/s, loss=1.2785, accuracy=0.69055]\n",
      "Epoch 29/9999 train: 100%|██████████| 1018/1018 [05:49<00:00,  2.91it/s, loss=0.19412, accuracy=0.94548]\n",
      "Epoch 29/9999 val: 100%|██████████| 503/503 [00:49<00:00, 10.24it/s, loss=1.3843, accuracy=0.64005]\n"
     ]
    },
    {
     "name": "stdout",
     "output_type": "stream",
     "text": [
      "[CHECKPOINT] ../../data/finetuned_models/StanfordCars/resnet/resnet_StanfordCars_E30_occ0.pth\n"
     ]
    },
    {
     "name": "stderr",
     "output_type": "stream",
     "text": [
      "Epoch 30/9999 train: 100%|██████████| 1018/1018 [05:47<00:00,  2.93it/s, loss=0.15501, accuracy=0.95494]\n",
      "Epoch 30/9999 val: 100%|██████████| 503/503 [00:49<00:00, 10.24it/s, loss=1.3669, accuracy=0.67189]\n",
      "Epoch 31/9999 train: 100%|██████████| 1018/1018 [05:44<00:00,  2.96it/s, loss=0.16824, accuracy=0.95641]\n",
      "Epoch 31/9999 val: 100%|██████████| 503/503 [00:48<00:00, 10.28it/s, loss=1.3723, accuracy=0.67239]\n",
      "Epoch 32/9999 train: 100%|██████████| 1018/1018 [05:39<00:00,  2.99it/s, loss=0.14872, accuracy=0.9558] \n",
      "Epoch 32/9999 val: 100%|██████████| 503/503 [00:48<00:00, 10.32it/s, loss=1.847, accuracy=0.61219] \n",
      "Epoch 33/9999 train: 100%|██████████| 1018/1018 [05:41<00:00,  2.98it/s, loss=0.18158, accuracy=0.95309]\n",
      "Epoch 33/9999 val: 100%|██████████| 503/503 [00:49<00:00, 10.24it/s, loss=1.5216, accuracy=0.65398]\n",
      "Epoch 34/9999 train: 100%|██████████| 1018/1018 [05:38<00:00,  3.01it/s, loss=0.14184, accuracy=0.95776]\n",
      "Epoch 34/9999 val: 100%|██████████| 503/503 [00:49<00:00, 10.17it/s, loss=1.4716, accuracy=0.67687]\n",
      "Epoch 35/9999 train: 100%|██████████| 1018/1018 [05:40<00:00,  2.99it/s, loss=0.12973, accuracy=0.96279]\n",
      "Epoch 35/9999 val: 100%|██████████| 503/503 [00:49<00:00, 10.19it/s, loss=1.6148, accuracy=0.64279]\n",
      "Epoch 36/9999 train: 100%|██████████| 1018/1018 [05:36<00:00,  3.02it/s, loss=0.12378, accuracy=0.96427]\n",
      "Epoch 36/9999 val: 100%|██████████| 503/503 [00:49<00:00, 10.13it/s, loss=1.5775, accuracy=0.6602] \n",
      "Epoch 37/9999 train: 100%|██████████| 1018/1018 [05:38<00:00,  3.01it/s, loss=0.14432, accuracy=0.95936]\n",
      "Epoch 37/9999 val: 100%|██████████| 503/503 [00:49<00:00, 10.07it/s, loss=1.6478, accuracy=0.65075]\n",
      "Epoch 38/9999 train: 100%|██████████| 1018/1018 [05:36<00:00,  3.03it/s, loss=0.11529, accuracy=0.96685]\n",
      "Epoch 38/9999 val: 100%|██████████| 503/503 [00:49<00:00, 10.08it/s, loss=1.6278, accuracy=0.65697]\n",
      "Epoch 39/9999 train: 100%|██████████| 1018/1018 [05:32<00:00,  3.06it/s, loss=0.11639, accuracy=0.96525]\n",
      "Epoch 39/9999 val: 100%|██████████| 503/503 [00:50<00:00, 10.03it/s, loss=1.8471, accuracy=0.62413]\n"
     ]
    },
    {
     "name": "stdout",
     "output_type": "stream",
     "text": [
      "[CHECKPOINT] ../../data/finetuned_models/StanfordCars/resnet/resnet_StanfordCars_E40_occ0.pth\n"
     ]
    },
    {
     "name": "stderr",
     "output_type": "stream",
     "text": [
      "Epoch 40/9999 train: 100%|██████████| 1018/1018 [05:35<00:00,  3.03it/s, loss=0.11399, accuracy=0.96832]\n",
      "Epoch 40/9999 val: 100%|██████████| 503/503 [00:50<00:00,  9.95it/s, loss=1.8781, accuracy=0.64154]\n",
      "Epoch 41/9999 train: 100%|██████████| 1018/1018 [05:43<00:00,  2.97it/s, loss=0.11816, accuracy=0.96537]\n",
      "Epoch 41/9999 val: 100%|██████████| 503/503 [00:50<00:00, 10.03it/s, loss=1.6809, accuracy=0.66517]\n",
      "Epoch 42/9999 train: 100%|██████████| 1018/1018 [05:43<00:00,  2.97it/s, loss=0.087474, accuracy=0.97335]\n",
      "Epoch 42/9999 val: 100%|██████████| 503/503 [00:50<00:00, 10.03it/s, loss=1.7043, accuracy=0.64726]\n",
      "Epoch 43/9999 train: 100%|██████████| 1018/1018 [05:41<00:00,  2.98it/s, loss=0.13179, accuracy=0.9639] \n",
      "Epoch 43/9999 val: 100%|██████████| 503/503 [00:28<00:00, 17.84it/s, loss=1.6684, accuracy=0.65697]\n",
      "Epoch 44/9999 train: 100%|██████████| 1018/1018 [05:44<00:00,  2.96it/s, loss=0.17023, accuracy=0.95997]\n",
      "Epoch 44/9999 val: 100%|██████████| 503/503 [00:45<00:00, 11.08it/s, loss=1.5132, accuracy=0.66692]\n",
      "Epoch 45/9999 train: 100%|██████████| 1018/1018 [06:00<00:00,  2.82it/s, loss=0.17936, accuracy=0.95494]\n",
      "Epoch 45/9999 val: 100%|██████████| 503/503 [00:31<00:00, 16.22it/s, loss=1.4389, accuracy=0.67413]\n",
      "Epoch 46/9999 train: 100%|██████████| 1018/1018 [05:42<00:00,  2.97it/s, loss=0.10213, accuracy=0.97028]\n",
      "Epoch 46/9999 val: 100%|██████████| 503/503 [00:51<00:00,  9.70it/s, loss=1.5552, accuracy=0.64428]\n",
      "Epoch 47/9999 train: 100%|██████████| 1018/1018 [05:31<00:00,  3.07it/s, loss=0.1469, accuracy=0.96451] \n",
      "Epoch 47/9999 val: 100%|██████████| 503/503 [00:28<00:00, 17.74it/s, loss=1.5209, accuracy=0.67512]\n",
      "Epoch 48/9999 train: 100%|██████████| 1018/1018 [05:25<00:00,  3.13it/s, loss=0.10046, accuracy=0.96967]\n",
      "Epoch 48/9999 val: 100%|██████████| 503/503 [00:39<00:00, 12.74it/s, loss=1.5155, accuracy=0.66965]\n",
      "Epoch 49/9999 train: 100%|██████████| 1018/1018 [05:28<00:00,  3.10it/s, loss=0.10249, accuracy=0.97213]\n",
      "Epoch 49/9999 val: 100%|██████████| 503/503 [00:31<00:00, 15.82it/s, loss=1.4917, accuracy=0.65299]\n"
     ]
    },
    {
     "name": "stdout",
     "output_type": "stream",
     "text": [
      "[CHECKPOINT] ../../data/finetuned_models/StanfordCars/resnet/resnet_StanfordCars_E50_occ0.pth\n"
     ]
    },
    {
     "name": "stderr",
     "output_type": "stream",
     "text": [
      "Epoch 50/9999 train: 100%|██████████| 1018/1018 [06:26<00:00,  2.64it/s, loss=0.11412, accuracy=0.96869]\n",
      "Epoch 50/9999 val: 100%|██████████| 503/503 [00:31<00:00, 16.06it/s, loss=1.5875, accuracy=0.65]   \n",
      "Epoch 51/9999 train: 100%|██████████| 1018/1018 [05:57<00:00,  2.85it/s, loss=0.077424, accuracy=0.97765]\n",
      "Epoch 51/9999 val: 100%|██████████| 503/503 [00:28<00:00, 17.73it/s, loss=1.4014, accuracy=0.66393]\n",
      "Epoch 52/9999 train: 100%|██████████| 1018/1018 [05:53<00:00,  2.88it/s, loss=0.098721, accuracy=0.97102]\n",
      "Epoch 52/9999 val: 100%|██████████| 503/503 [00:29<00:00, 17.23it/s, loss=1.7594, accuracy=0.64055]\n",
      "Epoch 53/9999 train: 100%|██████████| 1018/1018 [05:45<00:00,  2.94it/s, loss=0.076992, accuracy=0.97888]\n",
      "Epoch 53/9999 val: 100%|██████████| 503/503 [00:28<00:00, 17.54it/s, loss=1.507, accuracy=0.6796]  \n"
     ]
    },
    {
     "name": "stdout",
     "output_type": "stream",
     "text": [
      "Training complete in 336m 53s\n",
      "Best val Acc: 0.695274\n",
      "[CHECKPOINT] ../../data/finetuned_models/StanfordCars/resnet/resnet_StanfordCars_E10000_occ0.pth\n",
      "STARTING: model=resnet | dataset=FGVC-Aircraft | occlusion=0\n"
     ]
    },
    {
     "name": "stderr",
     "output_type": "stream",
     "text": [
      "Epoch 0/9999 train: 100%|██████████| 417/417 [02:27<00:00,  2.82it/s, loss=4.6134, accuracy=0.0089982]\n",
      "Epoch 0/9999 val: 100%|██████████| 417/417 [00:24<00:00, 16.73it/s, loss=4.5807, accuracy=0.012601] \n",
      "Epoch 1/9999 train: 100%|██████████| 417/417 [02:35<00:00,  2.69it/s, loss=4.3439, accuracy=0.028194]\n",
      "Epoch 1/9999 val: 100%|██████████| 417/417 [00:24<00:00, 17.28it/s, loss=3.7546, accuracy=0.091509]\n",
      "Epoch 2/9999 train: 100%|██████████| 417/417 [02:40<00:00,  2.59it/s, loss=3.533, accuracy=0.11728]  \n",
      "Epoch 2/9999 val: 100%|██████████| 417/417 [00:24<00:00, 17.17it/s, loss=3.0479, accuracy=0.18242]\n",
      "Epoch 3/9999 train: 100%|██████████| 417/417 [02:31<00:00,  2.76it/s, loss=2.6705, accuracy=0.26245]\n",
      "Epoch 3/9999 val: 100%|██████████| 417/417 [00:23<00:00, 17.54it/s, loss=2.5415, accuracy=0.27513]\n",
      "Epoch 4/9999 train: 100%|██████████| 417/417 [02:25<00:00,  2.87it/s, loss=2.1877, accuracy=0.37493]\n",
      "Epoch 4/9999 val: 100%|██████████| 417/417 [00:24<00:00, 16.68it/s, loss=2.2621, accuracy=0.34143]\n",
      "Epoch 5/9999 train: 100%|██████████| 417/417 [02:43<00:00,  2.55it/s, loss=1.7888, accuracy=0.45291]\n",
      "Epoch 5/9999 val: 100%|██████████| 417/417 [00:45<00:00,  9.19it/s, loss=1.9196, accuracy=0.42844]\n",
      "Epoch 6/9999 train: 100%|██████████| 417/417 [02:42<00:00,  2.56it/s, loss=1.429, accuracy=0.56659] \n",
      "Epoch 6/9999 val: 100%|██████████| 417/417 [00:45<00:00,  9.26it/s, loss=2.0654, accuracy=0.42904]\n",
      "Epoch 7/9999 train: 100%|██████████| 417/417 [02:46<00:00,  2.50it/s, loss=1.1719, accuracy=0.63197]\n",
      "Epoch 7/9999 val: 100%|██████████| 417/417 [00:25<00:00, 16.47it/s, loss=1.9104, accuracy=0.47645]\n",
      "Epoch 8/9999 train: 100%|██████████| 417/417 [02:30<00:00,  2.76it/s, loss=1.1441, accuracy=0.65537]\n",
      "Epoch 8/9999 val: 100%|██████████| 417/417 [00:25<00:00, 16.13it/s, loss=1.8806, accuracy=0.48185]\n",
      "Epoch 9/9999 train: 100%|██████████| 417/417 [02:27<00:00,  2.82it/s, loss=0.89814, accuracy=0.71686]\n",
      "Epoch 9/9999 val: 100%|██████████| 417/417 [00:23<00:00, 17.43it/s, loss=1.8872, accuracy=0.49805]\n"
     ]
    },
    {
     "name": "stdout",
     "output_type": "stream",
     "text": [
      "[CHECKPOINT] ../../data/finetuned_models/FGVC-Aircraft/resnet/resnet_FGVC-Aircraft_E10_occ0.pth\n"
     ]
    },
    {
     "name": "stderr",
     "output_type": "stream",
     "text": [
      "Epoch 10/9999 train: 100%|██████████| 417/417 [01:59<00:00,  3.50it/s, loss=0.7374, accuracy=0.76515] \n",
      "Epoch 10/9999 val: 100%|██████████| 417/417 [00:23<00:00, 17.96it/s, loss=1.8695, accuracy=0.51485]\n",
      "Epoch 11/9999 train: 100%|██████████| 417/417 [02:20<00:00,  2.96it/s, loss=0.70883, accuracy=0.79064]\n",
      "Epoch 11/9999 val: 100%|██████████| 417/417 [00:23<00:00, 18.03it/s, loss=1.8155, accuracy=0.53375]\n",
      "Epoch 12/9999 train: 100%|██████████| 417/417 [02:13<00:00,  3.13it/s, loss=0.64591, accuracy=0.79724]\n",
      "Epoch 12/9999 val: 100%|██████████| 417/417 [00:23<00:00, 17.68it/s, loss=1.9106, accuracy=0.49595]\n",
      "Epoch 13/9999 train: 100%|██████████| 417/417 [02:10<00:00,  3.19it/s, loss=0.53515, accuracy=0.83353]\n",
      "Epoch 13/9999 val: 100%|██████████| 417/417 [00:23<00:00, 17.53it/s, loss=1.9824, accuracy=0.53045]\n",
      "Epoch 14/9999 train: 100%|██████████| 417/417 [02:20<00:00,  2.97it/s, loss=0.45977, accuracy=0.85513]\n",
      "Epoch 14/9999 val: 100%|██████████| 417/417 [00:23<00:00, 17.55it/s, loss=2.1632, accuracy=0.52055]\n",
      "Epoch 15/9999 train: 100%|██████████| 417/417 [02:12<00:00,  3.14it/s, loss=0.48591, accuracy=0.85933]\n",
      "Epoch 15/9999 val: 100%|██████████| 417/417 [00:23<00:00, 17.60it/s, loss=1.9984, accuracy=0.52895]\n",
      "Epoch 16/9999 train: 100%|██████████| 417/417 [02:21<00:00,  2.95it/s, loss=0.38844, accuracy=0.88422]\n",
      "Epoch 16/9999 val: 100%|██████████| 417/417 [00:23<00:00, 17.77it/s, loss=2.2371, accuracy=0.49415]\n",
      "Epoch 17/9999 train: 100%|██████████| 417/417 [02:13<00:00,  3.13it/s, loss=0.3296, accuracy=0.89772] \n",
      "Epoch 17/9999 val: 100%|██████████| 417/417 [00:23<00:00, 17.51it/s, loss=2.2569, accuracy=0.48365]\n",
      "Epoch 18/9999 train: 100%|██████████| 417/417 [02:22<00:00,  2.93it/s, loss=0.34641, accuracy=0.89052]\n",
      "Epoch 18/9999 val: 100%|██████████| 417/417 [00:23<00:00, 17.59it/s, loss=2.2865, accuracy=0.52175]\n",
      "Epoch 19/9999 train: 100%|██████████| 417/417 [02:20<00:00,  2.97it/s, loss=0.28191, accuracy=0.91452]\n",
      "Epoch 19/9999 val: 100%|██████████| 417/417 [00:23<00:00, 17.61it/s, loss=2.1377, accuracy=0.52835]\n"
     ]
    },
    {
     "name": "stdout",
     "output_type": "stream",
     "text": [
      "[CHECKPOINT] ../../data/finetuned_models/FGVC-Aircraft/resnet/resnet_FGVC-Aircraft_E20_occ0.pth\n"
     ]
    },
    {
     "name": "stderr",
     "output_type": "stream",
     "text": [
      "Epoch 20/9999 train: 100%|██████████| 417/417 [02:10<00:00,  3.19it/s, loss=0.27072, accuracy=0.91512]\n",
      "Epoch 20/9999 val: 100%|██████████| 417/417 [00:23<00:00, 17.97it/s, loss=2.2876, accuracy=0.51605]\n",
      "Epoch 21/9999 train: 100%|██████████| 417/417 [02:19<00:00,  2.99it/s, loss=0.25602, accuracy=0.91512]\n",
      "Epoch 21/9999 val: 100%|██████████| 417/417 [00:23<00:00, 17.75it/s, loss=2.2338, accuracy=0.53795]\n",
      "Epoch 22/9999 train: 100%|██████████| 417/417 [02:14<00:00,  3.09it/s, loss=0.23438, accuracy=0.93131]\n",
      "Epoch 22/9999 val: 100%|██████████| 417/417 [00:23<00:00, 17.58it/s, loss=2.3111, accuracy=0.51905]\n",
      "Epoch 23/9999 train: 100%|██████████| 417/417 [02:17<00:00,  3.04it/s, loss=0.19954, accuracy=0.94301]\n",
      "Epoch 23/9999 val: 100%|██████████| 417/417 [00:23<00:00, 17.48it/s, loss=2.2523, accuracy=0.54035]\n",
      "Epoch 24/9999 train: 100%|██████████| 417/417 [02:25<00:00,  2.87it/s, loss=0.21788, accuracy=0.93101]\n",
      "Epoch 24/9999 val: 100%|██████████| 417/417 [00:23<00:00, 17.58it/s, loss=2.3072, accuracy=0.48635]\n",
      "Epoch 25/9999 train: 100%|██████████| 417/417 [02:23<00:00,  2.90it/s, loss=0.25044, accuracy=0.93011]\n",
      "Epoch 25/9999 val: 100%|██████████| 417/417 [00:23<00:00, 17.57it/s, loss=2.5867, accuracy=0.48635]\n",
      "Epoch 26/9999 train: 100%|██████████| 417/417 [02:24<00:00,  2.89it/s, loss=0.2689, accuracy=0.92531] \n",
      "Epoch 26/9999 val: 100%|██████████| 417/417 [00:23<00:00, 17.58it/s, loss=2.1914, accuracy=0.52025]\n",
      "Epoch 27/9999 train: 100%|██████████| 417/417 [02:18<00:00,  3.01it/s, loss=0.17275, accuracy=0.94871]\n",
      "Epoch 27/9999 val: 100%|██████████| 417/417 [00:23<00:00, 17.53it/s, loss=2.3737, accuracy=0.48935]\n",
      "Epoch 28/9999 train: 100%|██████████| 417/417 [02:24<00:00,  2.89it/s, loss=0.19367, accuracy=0.94361]\n",
      "Epoch 28/9999 val: 100%|██████████| 417/417 [00:23<00:00, 17.59it/s, loss=2.474, accuracy=0.51365] \n",
      "Epoch 29/9999 train: 100%|██████████| 417/417 [02:21<00:00,  2.94it/s, loss=0.18888, accuracy=0.94391]\n",
      "Epoch 29/9999 val: 100%|██████████| 417/417 [00:23<00:00, 17.67it/s, loss=2.637, accuracy=0.49115] \n"
     ]
    },
    {
     "name": "stdout",
     "output_type": "stream",
     "text": [
      "[CHECKPOINT] ../../data/finetuned_models/FGVC-Aircraft/resnet/resnet_FGVC-Aircraft_E30_occ0.pth\n"
     ]
    },
    {
     "name": "stderr",
     "output_type": "stream",
     "text": [
      "Epoch 30/9999 train: 100%|██████████| 417/417 [02:20<00:00,  2.97it/s, loss=0.32428, accuracy=0.92262]\n",
      "Epoch 30/9999 val: 100%|██████████| 417/417 [00:23<00:00, 17.94it/s, loss=2.315, accuracy=0.48605] \n",
      "Epoch 31/9999 train: 100%|██████████| 417/417 [02:23<00:00,  2.90it/s, loss=0.20708, accuracy=0.94841]\n",
      "Epoch 31/9999 val: 100%|██████████| 417/417 [00:23<00:00, 17.78it/s, loss=2.2334, accuracy=0.50465]\n",
      "Epoch 32/9999 train: 100%|██████████| 417/417 [02:16<00:00,  3.05it/s, loss=0.21628, accuracy=0.93911]\n",
      "Epoch 32/9999 val: 100%|██████████| 417/417 [00:23<00:00, 17.58it/s, loss=2.3206, accuracy=0.51755]\n",
      "Epoch 33/9999 train: 100%|██████████| 417/417 [02:23<00:00,  2.91it/s, loss=0.18039, accuracy=0.94151]\n",
      "Epoch 33/9999 val: 100%|██████████| 417/417 [00:23<00:00, 17.51it/s, loss=2.5201, accuracy=0.52325]\n",
      "Epoch 34/9999 train: 100%|██████████| 417/417 [02:23<00:00,  2.90it/s, loss=0.18006, accuracy=0.94751]\n",
      "Epoch 34/9999 val: 100%|██████████| 417/417 [00:23<00:00, 17.50it/s, loss=2.3446, accuracy=0.49835]\n",
      "Epoch 35/9999 train: 100%|██████████| 417/417 [02:20<00:00,  2.96it/s, loss=0.23852, accuracy=0.93611]\n",
      "Epoch 35/9999 val: 100%|██████████| 417/417 [00:23<00:00, 17.47it/s, loss=2.3816, accuracy=0.50675]\n",
      "Epoch 36/9999 train: 100%|██████████| 417/417 [02:29<00:00,  2.80it/s, loss=0.15867, accuracy=0.94871]\n",
      "Epoch 36/9999 val: 100%|██████████| 417/417 [00:23<00:00, 17.55it/s, loss=2.6991, accuracy=0.47705]\n",
      "Epoch 37/9999 train: 100%|██████████| 417/417 [02:29<00:00,  2.80it/s, loss=0.15179, accuracy=0.95381]\n",
      "Epoch 37/9999 val: 100%|██████████| 417/417 [00:23<00:00, 17.65it/s, loss=2.3455, accuracy=0.51095]\n",
      "Epoch 38/9999 train: 100%|██████████| 417/417 [02:24<00:00,  2.89it/s, loss=0.1948, accuracy=0.95051] \n",
      "Epoch 38/9999 val: 100%|██████████| 417/417 [00:23<00:00, 17.56it/s, loss=2.5112, accuracy=0.52085]\n",
      "Epoch 39/9999 train: 100%|██████████| 417/417 [02:23<00:00,  2.91it/s, loss=0.16101, accuracy=0.95471]\n",
      "Epoch 39/9999 val: 100%|██████████| 417/417 [00:23<00:00, 17.53it/s, loss=2.755, accuracy=0.48395] \n"
     ]
    },
    {
     "name": "stdout",
     "output_type": "stream",
     "text": [
      "[CHECKPOINT] ../../data/finetuned_models/FGVC-Aircraft/resnet/resnet_FGVC-Aircraft_E40_occ0.pth\n"
     ]
    },
    {
     "name": "stderr",
     "output_type": "stream",
     "text": [
      "Epoch 40/9999 train: 100%|██████████| 417/417 [02:21<00:00,  2.95it/s, loss=0.14347, accuracy=0.95951]\n",
      "Epoch 40/9999 val: 100%|██████████| 417/417 [00:23<00:00, 17.94it/s, loss=2.4234, accuracy=0.48035]\n",
      "Epoch 41/9999 train: 100%|██████████| 417/417 [02:23<00:00,  2.90it/s, loss=0.14781, accuracy=0.95501]\n",
      "Epoch 41/9999 val: 100%|██████████| 417/417 [00:23<00:00, 17.87it/s, loss=2.5784, accuracy=0.52505]\n",
      "Epoch 42/9999 train: 100%|██████████| 417/417 [02:16<00:00,  3.06it/s, loss=0.12185, accuracy=0.96521]\n",
      "Epoch 42/9999 val: 100%|██████████| 417/417 [00:23<00:00, 17.74it/s, loss=2.5074, accuracy=0.51785]\n",
      "Epoch 43/9999 train: 100%|██████████| 417/417 [02:25<00:00,  2.87it/s, loss=0.1364, accuracy=0.96131] \n",
      "Epoch 43/9999 val: 100%|██████████| 417/417 [00:23<00:00, 17.56it/s, loss=2.8315, accuracy=0.51005]\n",
      "Epoch 44/9999 train: 100%|██████████| 417/417 [02:22<00:00,  2.93it/s, loss=0.15561, accuracy=0.95501]\n",
      "Epoch 44/9999 val: 100%|██████████| 417/417 [00:23<00:00, 17.48it/s, loss=2.5491, accuracy=0.52475]\n",
      "Epoch 45/9999 train: 100%|██████████| 417/417 [02:25<00:00,  2.87it/s, loss=0.1156, accuracy=0.96911]  \n",
      "Epoch 45/9999 val: 100%|██████████| 417/417 [00:23<00:00, 17.39it/s, loss=2.9363, accuracy=0.50765]\n",
      "Epoch 46/9999 train: 100%|██████████| 417/417 [02:20<00:00,  2.96it/s, loss=0.13255, accuracy=0.96701]\n",
      "Epoch 46/9999 val: 100%|██████████| 417/417 [00:23<00:00, 17.43it/s, loss=2.4649, accuracy=0.53765]\n",
      "Epoch 47/9999 train: 100%|██████████| 417/417 [02:19<00:00,  3.00it/s, loss=0.13139, accuracy=0.96251]\n",
      "Epoch 47/9999 val: 100%|██████████| 417/417 [00:23<00:00, 17.56it/s, loss=2.4676, accuracy=0.51245]\n",
      "Epoch 48/9999 train: 100%|██████████| 417/417 [02:28<00:00,  2.81it/s, loss=0.11311, accuracy=0.96911] \n",
      "Epoch 48/9999 val: 100%|██████████| 417/417 [00:23<00:00, 17.48it/s, loss=2.3056, accuracy=0.52265]\n",
      "Epoch 49/9999 train: 100%|██████████| 417/417 [02:16<00:00,  3.06it/s, loss=0.12037, accuracy=0.96791]\n",
      "Epoch 49/9999 val: 100%|██████████| 417/417 [00:23<00:00, 17.48it/s, loss=2.712, accuracy=0.52175] \n"
     ]
    },
    {
     "name": "stdout",
     "output_type": "stream",
     "text": [
      "[CHECKPOINT] ../../data/finetuned_models/FGVC-Aircraft/resnet/resnet_FGVC-Aircraft_E50_occ0.pth\n"
     ]
    },
    {
     "name": "stderr",
     "output_type": "stream",
     "text": [
      "Epoch 50/9999 train: 100%|██████████| 417/417 [02:24<00:00,  2.89it/s, loss=0.11063, accuracy=0.97121] \n",
      "Epoch 50/9999 val: 100%|██████████| 417/417 [00:23<00:00, 17.91it/s, loss=2.7902, accuracy=0.51155]\n",
      "Epoch 51/9999 train: 100%|██████████| 417/417 [02:25<00:00,  2.87it/s, loss=0.11266, accuracy=0.96941] \n",
      "Epoch 51/9999 val: 100%|██████████| 417/417 [00:23<00:00, 17.86it/s, loss=2.3636, accuracy=0.53885]\n",
      "Epoch 52/9999 train: 100%|██████████| 417/417 [02:22<00:00,  2.93it/s, loss=0.12204, accuracy=0.96491]\n",
      "Epoch 52/9999 val: 100%|██████████| 417/417 [00:23<00:00, 17.60it/s, loss=2.6794, accuracy=0.50915]\n",
      "Epoch 53/9999 train: 100%|██████████| 417/417 [02:17<00:00,  3.03it/s, loss=0.087016, accuracy=0.9775] \n",
      "Epoch 53/9999 val: 100%|██████████| 417/417 [00:23<00:00, 17.45it/s, loss=2.4485, accuracy=0.52535]\n"
     ]
    },
    {
     "name": "stdout",
     "output_type": "stream",
     "text": [
      "Training complete in 151m 3s\n",
      "Best val Acc: 0.540354\n",
      "[CHECKPOINT] ../../data/finetuned_models/FGVC-Aircraft/resnet/resnet_FGVC-Aircraft_E10000_occ0.pth\n",
      "STARTING: model=resnet | dataset=StanfordCars | occlusion=GAUSSIAN\n"
     ]
    },
    {
     "name": "stderr",
     "output_type": "stream",
     "text": [
      "Epoch 0/9999 train: 100%|██████████| 1018/1018 [05:22<00:00,  3.16it/s, loss=5.2815, accuracy=0.0061395]\n",
      "Epoch 0/9999 val: 100%|██████████| 503/503 [00:27<00:00, 18.26it/s, loss=5.2212, accuracy=0.012935] \n",
      "Epoch 1/9999 train: 100%|██████████| 1018/1018 [05:09<00:00,  3.29it/s, loss=4.9596, accuracy=0.029838]\n",
      "Epoch 1/9999 val: 100%|██████████| 503/503 [00:36<00:00, 13.70it/s, loss=4.356, accuracy=0.074129] \n",
      "Epoch 2/9999 train: 100%|██████████| 1018/1018 [05:18<00:00,  3.20it/s, loss=3.5754, accuracy=0.17154]\n",
      "Epoch 2/9999 val: 100%|██████████| 503/503 [00:28<00:00, 17.88it/s, loss=2.811, accuracy=0.28358] \n",
      "Epoch 3/9999 train: 100%|██████████| 1018/1018 [05:07<00:00,  3.31it/s, loss=2.2533, accuracy=0.40422]\n",
      "Epoch 3/9999 val: 100%|██████████| 503/503 [00:50<00:00,  9.90it/s, loss=2.0045, accuracy=0.45771]\n",
      "Epoch 4/9999 train: 100%|██████████| 1018/1018 [05:11<00:00,  3.27it/s, loss=1.52, accuracy=0.57417]  \n",
      "Epoch 4/9999 val: 100%|██████████| 503/503 [00:39<00:00, 12.76it/s, loss=1.7579, accuracy=0.51866]\n",
      "Epoch 5/9999 train: 100%|██████████| 1018/1018 [05:35<00:00,  3.03it/s, loss=1.1314, accuracy=0.66834]\n",
      "Epoch 5/9999 val: 100%|██████████| 503/503 [00:28<00:00, 17.82it/s, loss=1.4441, accuracy=0.599]  \n",
      "Epoch 6/9999 train: 100%|██████████| 1018/1018 [05:36<00:00,  3.02it/s, loss=0.84891, accuracy=0.7527] \n",
      "Epoch 6/9999 val: 100%|██████████| 503/503 [00:28<00:00, 17.78it/s, loss=1.4444, accuracy=0.60896]\n",
      "Epoch 7/9999 train: 100%|██████████| 1018/1018 [05:20<00:00,  3.18it/s, loss=0.71693, accuracy=0.78966]\n",
      "Epoch 7/9999 val: 100%|██████████| 503/503 [00:35<00:00, 14.00it/s, loss=1.3511, accuracy=0.63184]\n",
      "Epoch 8/9999 train: 100%|██████████| 1018/1018 [05:39<00:00,  3.00it/s, loss=0.5987, accuracy=0.81999] \n",
      "Epoch 8/9999 val: 100%|██████████| 503/503 [00:28<00:00, 17.91it/s, loss=1.3466, accuracy=0.63433]\n",
      "Epoch 9/9999 train: 100%|██████████| 1018/1018 [05:33<00:00,  3.05it/s, loss=0.54949, accuracy=0.84222]\n",
      "Epoch 9/9999 val: 100%|██████████| 503/503 [00:28<00:00, 17.96it/s, loss=1.349, accuracy=0.63781] \n"
     ]
    },
    {
     "name": "stdout",
     "output_type": "stream",
     "text": [
      "[CHECKPOINT] ../../data/finetuned_models/StanfordCars/resnet/resnet_StanfordCars_E10_occGAUSSIAN.pth\n"
     ]
    },
    {
     "name": "stderr",
     "output_type": "stream",
     "text": [
      "Epoch 10/9999 train: 100%|██████████| 1018/1018 [05:01<00:00,  3.38it/s, loss=0.50373, accuracy=0.85007]\n",
      "Epoch 10/9999 val: 100%|██████████| 503/503 [00:37<00:00, 13.41it/s, loss=1.349, accuracy=0.64552] \n",
      "Epoch 11/9999 train: 100%|██████████| 1018/1018 [05:15<00:00,  3.23it/s, loss=0.41086, accuracy=0.8734] \n",
      "Epoch 11/9999 val: 100%|██████████| 503/503 [00:33<00:00, 15.12it/s, loss=1.4018, accuracy=0.64502]\n",
      "Epoch 12/9999 train: 100%|██████████| 1018/1018 [05:03<00:00,  3.35it/s, loss=0.35596, accuracy=0.88973]\n",
      "Epoch 12/9999 val: 100%|██████████| 503/503 [00:37<00:00, 13.26it/s, loss=1.4566, accuracy=0.65075]\n",
      "Epoch 13/9999 train: 100%|██████████| 1018/1018 [05:20<00:00,  3.18it/s, loss=0.31078, accuracy=0.90422]\n",
      "Epoch 13/9999 val: 100%|██████████| 503/503 [00:27<00:00, 18.01it/s, loss=1.4513, accuracy=0.64627]\n",
      "Epoch 14/9999 train: 100%|██████████| 1018/1018 [05:14<00:00,  3.24it/s, loss=0.29933, accuracy=0.90938]\n",
      "Epoch 14/9999 val: 100%|██████████| 503/503 [00:29<00:00, 17.21it/s, loss=1.2522, accuracy=0.6699] \n",
      "Epoch 15/9999 train: 100%|██████████| 1018/1018 [05:15<00:00,  3.22it/s, loss=0.27783, accuracy=0.91712]\n",
      "Epoch 15/9999 val: 100%|██████████| 503/503 [00:34<00:00, 14.69it/s, loss=1.3296, accuracy=0.6801] \n",
      "Epoch 16/9999 train: 100%|██████████| 1018/1018 [05:09<00:00,  3.29it/s, loss=0.26414, accuracy=0.92301]\n",
      "Epoch 16/9999 val: 100%|██████████| 503/503 [00:34<00:00, 14.76it/s, loss=1.4507, accuracy=0.66418]\n",
      "Epoch 17/9999 train: 100%|██████████| 1018/1018 [05:19<00:00,  3.18it/s, loss=0.24458, accuracy=0.92473]\n",
      "Epoch 17/9999 val: 100%|██████████| 503/503 [00:28<00:00, 17.96it/s, loss=1.2715, accuracy=0.68856]\n",
      "Epoch 18/9999 train: 100%|██████████| 1018/1018 [05:21<00:00,  3.17it/s, loss=0.21551, accuracy=0.93517]\n",
      "Epoch 18/9999 val: 100%|██████████| 503/503 [00:34<00:00, 14.41it/s, loss=1.5332, accuracy=0.65821]\n",
      "Epoch 19/9999 train: 100%|██████████| 1018/1018 [05:22<00:00,  3.16it/s, loss=0.21477, accuracy=0.93566]\n",
      "Epoch 19/9999 val: 100%|██████████| 503/503 [00:33<00:00, 14.90it/s, loss=1.3414, accuracy=0.69378]\n"
     ]
    },
    {
     "name": "stdout",
     "output_type": "stream",
     "text": [
      "[CHECKPOINT] ../../data/finetuned_models/StanfordCars/resnet/resnet_StanfordCars_E20_occGAUSSIAN.pth\n"
     ]
    },
    {
     "name": "stderr",
     "output_type": "stream",
     "text": [
      "Epoch 20/9999 train: 100%|██████████| 1018/1018 [05:14<00:00,  3.24it/s, loss=0.18854, accuracy=0.94524]\n",
      "Epoch 20/9999 val: 100%|██████████| 503/503 [00:28<00:00, 17.69it/s, loss=1.3782, accuracy=0.67537]\n",
      "Epoch 21/9999 train: 100%|██████████| 1018/1018 [05:07<00:00,  3.31it/s, loss=0.19138, accuracy=0.94524]\n",
      "Epoch 21/9999 val: 100%|██████████| 503/503 [00:37<00:00, 13.53it/s, loss=1.3961, accuracy=0.66443]\n",
      "Epoch 22/9999 train: 100%|██████████| 1018/1018 [05:11<00:00,  3.27it/s, loss=0.18852, accuracy=0.94499]\n",
      "Epoch 22/9999 val: 100%|██████████| 503/503 [00:38<00:00, 13.08it/s, loss=1.2993, accuracy=0.69179]\n",
      "Epoch 23/9999 train: 100%|██████████| 1018/1018 [05:11<00:00,  3.27it/s, loss=0.24216, accuracy=0.93652]\n",
      "Epoch 23/9999 val: 100%|██████████| 503/503 [00:31<00:00, 16.05it/s, loss=1.2867, accuracy=0.68507]\n",
      "Epoch 24/9999 train: 100%|██████████| 1018/1018 [05:07<00:00,  3.31it/s, loss=0.20546, accuracy=0.9461] \n",
      "Epoch 24/9999 val: 100%|██████████| 503/503 [00:32<00:00, 15.66it/s, loss=1.3851, accuracy=0.67189]\n",
      "Epoch 25/9999 train: 100%|██████████| 1018/1018 [05:03<00:00,  3.35it/s, loss=0.19457, accuracy=0.94352]\n",
      "Epoch 25/9999 val: 100%|██████████| 503/503 [00:41<00:00, 12.23it/s, loss=1.2923, accuracy=0.69751]\n",
      "Epoch 26/9999 train: 100%|██████████| 1018/1018 [05:11<00:00,  3.27it/s, loss=0.1566, accuracy=0.95273] \n",
      "Epoch 26/9999 val: 100%|██████████| 503/503 [00:38<00:00, 12.98it/s, loss=1.3701, accuracy=0.69104]\n",
      "Epoch 27/9999 train: 100%|██████████| 1018/1018 [05:11<00:00,  3.27it/s, loss=0.16559, accuracy=0.95297]\n",
      "Epoch 27/9999 val: 100%|██████████| 503/503 [00:41<00:00, 12.02it/s, loss=1.3341, accuracy=0.67413]\n",
      "Epoch 28/9999 train: 100%|██████████| 1018/1018 [05:22<00:00,  3.15it/s, loss=0.16319, accuracy=0.95346]\n",
      "Epoch 28/9999 val: 100%|██████████| 503/503 [00:28<00:00, 17.86it/s, loss=1.5133, accuracy=0.66692]\n",
      "Epoch 29/9999 train: 100%|██████████| 1018/1018 [05:12<00:00,  3.26it/s, loss=0.13233, accuracy=0.95985]\n",
      "Epoch 29/9999 val: 100%|██████████| 503/503 [00:32<00:00, 15.35it/s, loss=1.2708, accuracy=0.69478]\n"
     ]
    },
    {
     "name": "stdout",
     "output_type": "stream",
     "text": [
      "[CHECKPOINT] ../../data/finetuned_models/StanfordCars/resnet/resnet_StanfordCars_E30_occGAUSSIAN.pth\n"
     ]
    },
    {
     "name": "stderr",
     "output_type": "stream",
     "text": [
      "Epoch 30/9999 train: 100%|██████████| 1018/1018 [05:07<00:00,  3.31it/s, loss=0.14052, accuracy=0.95874]\n",
      "Epoch 30/9999 val: 100%|██████████| 503/503 [00:39<00:00, 12.81it/s, loss=1.5575, accuracy=0.67139]\n",
      "Epoch 31/9999 train: 100%|██████████| 1018/1018 [05:12<00:00,  3.26it/s, loss=0.13119, accuracy=0.96218]\n",
      "Epoch 31/9999 val: 100%|██████████| 503/503 [00:32<00:00, 15.45it/s, loss=1.5009, accuracy=0.67264]\n",
      "Epoch 32/9999 train: 100%|██████████| 1018/1018 [05:05<00:00,  3.33it/s, loss=0.13436, accuracy=0.96427]\n",
      "Epoch 32/9999 val: 100%|██████████| 503/503 [00:41<00:00, 12.23it/s, loss=1.4441, accuracy=0.69104]\n",
      "Epoch 33/9999 train: 100%|██████████| 1018/1018 [05:06<00:00,  3.32it/s, loss=0.12743, accuracy=0.96181]\n",
      "Epoch 33/9999 val: 100%|██████████| 503/503 [00:36<00:00, 13.93it/s, loss=1.5156, accuracy=0.66219]\n",
      "Epoch 34/9999 train: 100%|██████████| 1018/1018 [05:07<00:00,  3.31it/s, loss=0.1175, accuracy=0.96427] \n",
      "Epoch 34/9999 val: 100%|██████████| 503/503 [00:41<00:00, 12.17it/s, loss=1.5447, accuracy=0.68209]\n",
      "Epoch 35/9999 train: 100%|██████████| 1018/1018 [05:19<00:00,  3.18it/s, loss=0.1254, accuracy=0.96451] \n",
      "Epoch 35/9999 val: 100%|██████████| 503/503 [00:32<00:00, 15.56it/s, loss=1.4481, accuracy=0.69677]\n",
      "Epoch 36/9999 train: 100%|██████████| 1018/1018 [05:09<00:00,  3.29it/s, loss=0.11641, accuracy=0.96537]\n",
      "Epoch 36/9999 val: 100%|██████████| 503/503 [00:39<00:00, 12.75it/s, loss=1.5548, accuracy=0.65771]\n",
      "Epoch 37/9999 train: 100%|██████████| 1018/1018 [05:12<00:00,  3.26it/s, loss=0.10872, accuracy=0.96783]\n",
      "Epoch 37/9999 val: 100%|██████████| 503/503 [00:31<00:00, 16.20it/s, loss=1.6425, accuracy=0.65498]\n",
      "Epoch 38/9999 train: 100%|██████████| 1018/1018 [05:20<00:00,  3.18it/s, loss=0.15839, accuracy=0.95887]\n",
      "Epoch 38/9999 val: 100%|██████████| 503/503 [00:29<00:00, 16.98it/s, loss=1.4847, accuracy=0.67985]\n",
      "Epoch 39/9999 train: 100%|██████████| 1018/1018 [05:11<00:00,  3.27it/s, loss=0.10849, accuracy=0.96857]\n",
      "Epoch 39/9999 val: 100%|██████████| 503/503 [00:49<00:00, 10.09it/s, loss=1.5627, accuracy=0.6607] \n"
     ]
    },
    {
     "name": "stdout",
     "output_type": "stream",
     "text": [
      "[CHECKPOINT] ../../data/finetuned_models/StanfordCars/resnet/resnet_StanfordCars_E40_occGAUSSIAN.pth\n"
     ]
    },
    {
     "name": "stderr",
     "output_type": "stream",
     "text": [
      "Epoch 40/9999 train: 100%|██████████| 1018/1018 [04:55<00:00,  3.44it/s, loss=0.10308, accuracy=0.97016]\n",
      "Epoch 40/9999 val: 100%|██████████| 503/503 [00:36<00:00, 13.71it/s, loss=1.4793, accuracy=0.69055]\n",
      "Epoch 41/9999 train: 100%|██████████| 1018/1018 [05:01<00:00,  3.38it/s, loss=0.12141, accuracy=0.96893]\n",
      "Epoch 41/9999 val: 100%|██████████| 503/503 [00:49<00:00, 10.21it/s, loss=1.6039, accuracy=0.65746]\n",
      "Epoch 42/9999 train: 100%|██████████| 1018/1018 [04:53<00:00,  3.47it/s, loss=0.10675, accuracy=0.97078]\n",
      "Epoch 42/9999 val: 100%|██████████| 503/503 [00:49<00:00, 10.09it/s, loss=1.4498, accuracy=0.71418]\n",
      "Epoch 43/9999 train: 100%|██████████| 1018/1018 [04:48<00:00,  3.53it/s, loss=0.086093, accuracy=0.97458]\n",
      "Epoch 43/9999 val: 100%|██████████| 503/503 [00:44<00:00, 11.41it/s, loss=1.3345, accuracy=0.71269]\n",
      "Epoch 44/9999 train: 100%|██████████| 1018/1018 [05:17<00:00,  3.20it/s, loss=0.097832, accuracy=0.9725] \n",
      "Epoch 44/9999 val: 100%|██████████| 503/503 [00:28<00:00, 17.83it/s, loss=1.6272, accuracy=0.64453]\n",
      "Epoch 45/9999 train: 100%|██████████| 1018/1018 [04:52<00:00,  3.49it/s, loss=0.091406, accuracy=0.97606]\n",
      "Epoch 45/9999 val: 100%|██████████| 503/503 [00:41<00:00, 12.10it/s, loss=1.3687, accuracy=0.70373]\n",
      "Epoch 46/9999 train: 100%|██████████| 1018/1018 [05:03<00:00,  3.36it/s, loss=0.093449, accuracy=0.97311]\n",
      "Epoch 46/9999 val: 100%|██████████| 503/503 [00:44<00:00, 11.32it/s, loss=1.4454, accuracy=0.67065]\n",
      "Epoch 47/9999 train: 100%|██████████| 1018/1018 [05:14<00:00,  3.24it/s, loss=0.084479, accuracy=0.97692]\n",
      "Epoch 47/9999 val: 100%|██████████| 503/503 [00:36<00:00, 13.78it/s, loss=1.6335, accuracy=0.68756]\n",
      "Epoch 48/9999 train: 100%|██████████| 1018/1018 [05:44<00:00,  2.96it/s, loss=0.077472, accuracy=0.97618]\n",
      "Epoch 48/9999 val: 100%|██████████| 503/503 [00:28<00:00, 17.81it/s, loss=1.535, accuracy=0.66667] \n",
      "Epoch 49/9999 train: 100%|██████████| 1018/1018 [05:32<00:00,  3.06it/s, loss=0.080234, accuracy=0.98109]\n",
      "Epoch 49/9999 val: 100%|██████████| 503/503 [00:28<00:00, 17.73it/s, loss=1.4738, accuracy=0.69801]\n"
     ]
    },
    {
     "name": "stdout",
     "output_type": "stream",
     "text": [
      "[CHECKPOINT] ../../data/finetuned_models/StanfordCars/resnet/resnet_StanfordCars_E50_occGAUSSIAN.pth\n"
     ]
    },
    {
     "name": "stderr",
     "output_type": "stream",
     "text": [
      "Epoch 50/9999 train: 100%|██████████| 1018/1018 [05:04<00:00,  3.34it/s, loss=0.084857, accuracy=0.97581]\n",
      "Epoch 50/9999 val: 100%|██████████| 503/503 [00:48<00:00, 10.31it/s, loss=1.5118, accuracy=0.68284]\n",
      "Epoch 51/9999 train: 100%|██████████| 1018/1018 [04:56<00:00,  3.44it/s, loss=0.11603, accuracy=0.9725] \n",
      "Epoch 51/9999 val: 100%|██████████| 503/503 [00:49<00:00, 10.19it/s, loss=1.4281, accuracy=0.67114]\n",
      "Epoch 52/9999 train: 100%|██████████| 1018/1018 [04:56<00:00,  3.43it/s, loss=0.089104, accuracy=0.97532]\n",
      "Epoch 52/9999 val: 100%|██████████| 503/503 [00:42<00:00, 11.97it/s, loss=1.4371, accuracy=0.68607]\n",
      "Epoch 53/9999 train: 100%|██████████| 1018/1018 [05:09<00:00,  3.29it/s, loss=0.095427, accuracy=0.97495]\n",
      "Epoch 53/9999 val: 100%|██████████| 503/503 [00:35<00:00, 14.21it/s, loss=1.4357, accuracy=0.65672]\n",
      "Epoch 54/9999 train: 100%|██████████| 1018/1018 [05:21<00:00,  3.16it/s, loss=0.072843, accuracy=0.97974]\n",
      "Epoch 54/9999 val: 100%|██████████| 503/503 [00:28<00:00, 17.79it/s, loss=1.7495, accuracy=0.67313]\n",
      "Epoch 55/9999 train: 100%|██████████| 1018/1018 [05:01<00:00,  3.38it/s, loss=0.081149, accuracy=0.97618]\n",
      "Epoch 55/9999 val: 100%|██████████| 503/503 [00:40<00:00, 12.48it/s, loss=1.776, accuracy=0.65224] \n",
      "Epoch 56/9999 train: 100%|██████████| 1018/1018 [05:07<00:00,  3.31it/s, loss=0.071501, accuracy=0.97999]\n",
      "Epoch 56/9999 val: 100%|██████████| 503/503 [00:43<00:00, 11.51it/s, loss=1.5756, accuracy=0.68632]\n",
      "Epoch 57/9999 train: 100%|██████████| 1018/1018 [05:18<00:00,  3.20it/s, loss=0.065845, accuracy=0.98318]\n",
      "Epoch 57/9999 val: 100%|██████████| 503/503 [00:28<00:00, 17.91it/s, loss=1.6305, accuracy=0.68557]\n",
      "Epoch 58/9999 train: 100%|██████████| 1018/1018 [04:59<00:00,  3.40it/s, loss=0.07917, accuracy=0.97753] \n",
      "Epoch 58/9999 val: 100%|██████████| 503/503 [00:49<00:00, 10.07it/s, loss=1.4274, accuracy=0.68234]\n",
      "Epoch 59/9999 train: 100%|██████████| 1018/1018 [04:56<00:00,  3.43it/s, loss=0.07159, accuracy=0.98121] \n",
      "Epoch 59/9999 val: 100%|██████████| 503/503 [00:44<00:00, 11.40it/s, loss=1.564, accuracy=0.68806] \n"
     ]
    },
    {
     "name": "stdout",
     "output_type": "stream",
     "text": [
      "[CHECKPOINT] ../../data/finetuned_models/StanfordCars/resnet/resnet_StanfordCars_E60_occGAUSSIAN.pth\n"
     ]
    },
    {
     "name": "stderr",
     "output_type": "stream",
     "text": [
      "Epoch 60/9999 train: 100%|██████████| 1018/1018 [04:57<00:00,  3.42it/s, loss=0.11364, accuracy=0.97446]\n",
      "Epoch 60/9999 val: 100%|██████████| 503/503 [00:48<00:00, 10.27it/s, loss=1.3906, accuracy=0.66791]\n",
      "Epoch 61/9999 train: 100%|██████████| 1018/1018 [04:44<00:00,  3.58it/s, loss=0.066998, accuracy=0.98084]\n",
      "Epoch 61/9999 val: 100%|██████████| 503/503 [00:49<00:00, 10.21it/s, loss=1.4008, accuracy=0.68234]\n",
      "Epoch 62/9999 train: 100%|██████████| 1018/1018 [04:52<00:00,  3.48it/s, loss=0.077344, accuracy=0.9779] \n",
      "Epoch 62/9999 val: 100%|██████████| 503/503 [00:28<00:00, 17.85it/s, loss=1.5069, accuracy=0.6592] \n",
      "Epoch 63/9999 train: 100%|██████████| 1018/1018 [05:11<00:00,  3.27it/s, loss=0.11149, accuracy=0.97188]\n",
      "Epoch 63/9999 val: 100%|██████████| 503/503 [00:32<00:00, 15.62it/s, loss=1.4534, accuracy=0.67761]\n",
      "Epoch 64/9999 train: 100%|██████████| 1018/1018 [04:55<00:00,  3.45it/s, loss=0.11117, accuracy=0.97507]\n",
      "Epoch 64/9999 val: 100%|██████████| 503/503 [00:50<00:00, 10.05it/s, loss=1.5123, accuracy=0.68209]\n",
      "Epoch 65/9999 train: 100%|██████████| 1018/1018 [04:59<00:00,  3.40it/s, loss=0.065671, accuracy=0.98355]\n",
      "Epoch 65/9999 val: 100%|██████████| 503/503 [00:36<00:00, 13.80it/s, loss=1.6404, accuracy=0.67463]\n",
      "Epoch 66/9999 train: 100%|██████████| 1018/1018 [05:14<00:00,  3.24it/s, loss=0.085638, accuracy=0.97851]\n",
      "Epoch 66/9999 val: 100%|██████████| 503/503 [00:30<00:00, 16.24it/s, loss=1.468, accuracy=0.67786] \n",
      "Epoch 67/9999 train: 100%|██████████| 1018/1018 [05:02<00:00,  3.37it/s, loss=0.066622, accuracy=0.98207]\n",
      "Epoch 67/9999 val: 100%|██████████| 503/503 [00:50<00:00, 10.04it/s, loss=1.4249, accuracy=0.68433]\n",
      "Epoch 68/9999 train: 100%|██████████| 1018/1018 [05:03<00:00,  3.36it/s, loss=0.06701, accuracy=0.98146] \n",
      "Epoch 68/9999 val: 100%|██████████| 503/503 [00:28<00:00, 17.78it/s, loss=1.6139, accuracy=0.67065]\n",
      "Epoch 69/9999 train: 100%|██████████| 1018/1018 [05:20<00:00,  3.18it/s, loss=0.064758, accuracy=0.98355]\n",
      "Epoch 69/9999 val: 100%|██████████| 503/503 [00:35<00:00, 14.07it/s, loss=1.6499, accuracy=0.66891]\n"
     ]
    },
    {
     "name": "stdout",
     "output_type": "stream",
     "text": [
      "[CHECKPOINT] ../../data/finetuned_models/StanfordCars/resnet/resnet_StanfordCars_E70_occGAUSSIAN.pth\n"
     ]
    },
    {
     "name": "stderr",
     "output_type": "stream",
     "text": [
      "Epoch 70/9999 train: 100%|██████████| 1018/1018 [05:18<00:00,  3.20it/s, loss=0.077034, accuracy=0.98256]\n",
      "Epoch 70/9999 val: 100%|██████████| 503/503 [00:27<00:00, 18.30it/s, loss=1.456, accuracy=0.67537] \n",
      "Epoch 71/9999 train: 100%|██████████| 1018/1018 [04:54<00:00,  3.45it/s, loss=0.071455, accuracy=0.98109]\n",
      "Epoch 71/9999 val: 100%|██████████| 503/503 [00:37<00:00, 13.49it/s, loss=1.3447, accuracy=0.6898] \n",
      "Epoch 72/9999 train: 100%|██████████| 1018/1018 [05:19<00:00,  3.19it/s, loss=0.072397, accuracy=0.98084]\n",
      "Epoch 72/9999 val: 100%|██████████| 503/503 [00:27<00:00, 17.97it/s, loss=1.4304, accuracy=0.67935]\n"
     ]
    },
    {
     "name": "stdout",
     "output_type": "stream",
     "text": [
      "Training complete in 422m 42s\n",
      "Best val Acc: 0.714179\n",
      "[CHECKPOINT] ../../data/finetuned_models/StanfordCars/resnet/resnet_StanfordCars_E10000_occGAUSSIAN.pth\n",
      "STARTING: model=resnet | dataset=FGVC-Aircraft | occlusion=GAUSSIAN\n"
     ]
    },
    {
     "name": "stderr",
     "output_type": "stream",
     "text": [
      "Epoch 0/9999 train: 100%|██████████| 417/417 [02:17<00:00,  3.03it/s, loss=4.6099, accuracy=0.014097] \n",
      "Epoch 0/9999 val: 100%|██████████| 417/417 [00:23<00:00, 17.77it/s, loss=4.5086, accuracy=0.023702]\n",
      "Epoch 1/9999 train: 100%|██████████| 417/417 [02:32<00:00,  2.74it/s, loss=4.0945, accuracy=0.055789]\n",
      "Epoch 1/9999 val: 100%|██████████| 417/417 [00:23<00:00, 17.88it/s, loss=3.6736, accuracy=0.10411]\n",
      "Epoch 2/9999 train: 100%|██████████| 417/417 [02:34<00:00,  2.69it/s, loss=3.1964, accuracy=0.16857]\n",
      "Epoch 2/9999 val: 100%|██████████| 417/417 [00:23<00:00, 17.56it/s, loss=2.8196, accuracy=0.22682]\n",
      "Epoch 3/9999 train: 100%|██████████| 417/417 [02:23<00:00,  2.91it/s, loss=2.5267, accuracy=0.28884]\n",
      "Epoch 3/9999 val: 100%|██████████| 417/417 [00:23<00:00, 17.46it/s, loss=2.439, accuracy=0.30633] \n",
      "Epoch 4/9999 train: 100%|██████████| 417/417 [02:34<00:00,  2.70it/s, loss=1.955, accuracy=0.42501] \n",
      "Epoch 4/9999 val: 100%|██████████| 417/417 [00:23<00:00, 17.41it/s, loss=2.0648, accuracy=0.40444]\n",
      "Epoch 5/9999 train: 100%|██████████| 417/417 [02:26<00:00,  2.85it/s, loss=1.5868, accuracy=0.53059]\n",
      "Epoch 5/9999 val: 100%|██████████| 417/417 [00:23<00:00, 17.63it/s, loss=2.0985, accuracy=0.40354]\n",
      "Epoch 6/9999 train: 100%|██████████| 417/417 [02:31<00:00,  2.75it/s, loss=1.3129, accuracy=0.59598]\n",
      "Epoch 6/9999 val: 100%|██████████| 417/417 [00:24<00:00, 17.12it/s, loss=1.8828, accuracy=0.47405]\n",
      "Epoch 7/9999 train: 100%|██████████| 417/417 [02:31<00:00,  2.75it/s, loss=1.1885, accuracy=0.63617]\n",
      "Epoch 7/9999 val: 100%|██████████| 417/417 [00:41<00:00,  9.96it/s, loss=1.8408, accuracy=0.47345]\n",
      "Epoch 8/9999 train: 100%|██████████| 417/417 [02:08<00:00,  3.25it/s, loss=0.91759, accuracy=0.71656]\n",
      "Epoch 8/9999 val: 100%|██████████| 417/417 [00:31<00:00, 13.32it/s, loss=1.8743, accuracy=0.48875]\n",
      "Epoch 9/9999 train: 100%|██████████| 417/417 [02:39<00:00,  2.61it/s, loss=0.76327, accuracy=0.76005]\n",
      "Epoch 9/9999 val: 100%|██████████| 417/417 [00:41<00:00,  9.98it/s, loss=2.1483, accuracy=0.46775]\n"
     ]
    },
    {
     "name": "stdout",
     "output_type": "stream",
     "text": [
      "[CHECKPOINT] ../../data/finetuned_models/FGVC-Aircraft/resnet/resnet_FGVC-Aircraft_E10_occGAUSSIAN.pth\n"
     ]
    },
    {
     "name": "stderr",
     "output_type": "stream",
     "text": [
      "Epoch 10/9999 train: 100%|██████████| 417/417 [02:00<00:00,  3.45it/s, loss=0.64497, accuracy=0.79394]\n",
      "Epoch 10/9999 val: 100%|██████████| 417/417 [00:35<00:00, 11.77it/s, loss=2.022, accuracy=0.49445] \n",
      "Epoch 11/9999 train: 100%|██████████| 417/417 [02:35<00:00,  2.69it/s, loss=0.54618, accuracy=0.83353]\n",
      "Epoch 11/9999 val: 100%|██████████| 417/417 [00:23<00:00, 17.80it/s, loss=2.1008, accuracy=0.46865]\n",
      "Epoch 12/9999 train: 100%|██████████| 417/417 [02:30<00:00,  2.78it/s, loss=0.50331, accuracy=0.85453]\n",
      "Epoch 12/9999 val: 100%|██████████| 417/417 [00:23<00:00, 17.47it/s, loss=1.9084, accuracy=0.52595]\n",
      "Epoch 13/9999 train: 100%|██████████| 417/417 [02:31<00:00,  2.75it/s, loss=0.44384, accuracy=0.87522]\n",
      "Epoch 13/9999 val: 100%|██████████| 417/417 [00:23<00:00, 17.52it/s, loss=2.1142, accuracy=0.50735]\n",
      "Epoch 14/9999 train: 100%|██████████| 417/417 [02:37<00:00,  2.64it/s, loss=0.40554, accuracy=0.87522]\n",
      "Epoch 14/9999 val: 100%|██████████| 417/417 [00:23<00:00, 17.58it/s, loss=2.2173, accuracy=0.50375]\n",
      "Epoch 15/9999 train: 100%|██████████| 417/417 [02:27<00:00,  2.83it/s, loss=0.35241, accuracy=0.89022]\n",
      "Epoch 15/9999 val: 100%|██████████| 417/417 [00:23<00:00, 17.63it/s, loss=2.1644, accuracy=0.50435]\n",
      "Epoch 16/9999 train: 100%|██████████| 417/417 [02:27<00:00,  2.82it/s, loss=0.32866, accuracy=0.90282]\n",
      "Epoch 16/9999 val: 100%|██████████| 417/417 [00:23<00:00, 17.53it/s, loss=2.1968, accuracy=0.50495]\n",
      "Epoch 17/9999 train: 100%|██████████| 417/417 [02:30<00:00,  2.77it/s, loss=0.32487, accuracy=0.90732]\n",
      "Epoch 17/9999 val: 100%|██████████| 417/417 [00:23<00:00, 17.46it/s, loss=2.0422, accuracy=0.53255]\n",
      "Epoch 18/9999 train: 100%|██████████| 417/417 [02:29<00:00,  2.79it/s, loss=0.29754, accuracy=0.90792]\n",
      "Epoch 18/9999 val: 100%|██████████| 417/417 [00:23<00:00, 17.73it/s, loss=2.2621, accuracy=0.48455]\n",
      "Epoch 19/9999 train: 100%|██████████| 417/417 [02:27<00:00,  2.82it/s, loss=0.2809, accuracy=0.91512] \n",
      "Epoch 19/9999 val: 100%|██████████| 417/417 [00:23<00:00, 17.55it/s, loss=2.2741, accuracy=0.51365]\n"
     ]
    },
    {
     "name": "stdout",
     "output_type": "stream",
     "text": [
      "[CHECKPOINT] ../../data/finetuned_models/FGVC-Aircraft/resnet/resnet_FGVC-Aircraft_E20_occGAUSSIAN.pth\n"
     ]
    },
    {
     "name": "stderr",
     "output_type": "stream",
     "text": [
      "Epoch 20/9999 train: 100%|██████████| 417/417 [02:32<00:00,  2.74it/s, loss=0.26407, accuracy=0.92711]\n",
      "Epoch 20/9999 val: 100%|██████████| 417/417 [00:23<00:00, 17.90it/s, loss=2.3255, accuracy=0.51395]\n",
      "Epoch 21/9999 train: 100%|██████████| 417/417 [02:21<00:00,  2.95it/s, loss=0.25516, accuracy=0.92112]\n",
      "Epoch 21/9999 val: 100%|██████████| 417/417 [00:23<00:00, 17.71it/s, loss=2.1057, accuracy=0.52955]\n",
      "Epoch 22/9999 train: 100%|██████████| 417/417 [02:23<00:00,  2.91it/s, loss=0.21681, accuracy=0.94061]\n",
      "Epoch 22/9999 val: 100%|██████████| 417/417 [00:23<00:00, 17.73it/s, loss=2.6442, accuracy=0.51815]\n",
      "Epoch 23/9999 train: 100%|██████████| 417/417 [02:23<00:00,  2.90it/s, loss=0.22467, accuracy=0.93671]\n",
      "Epoch 23/9999 val: 100%|██████████| 417/417 [00:23<00:00, 17.50it/s, loss=2.6046, accuracy=0.47885]\n",
      "Epoch 24/9999 train: 100%|██████████| 417/417 [02:23<00:00,  2.91it/s, loss=0.21631, accuracy=0.93791]\n",
      "Epoch 24/9999 val: 100%|██████████| 417/417 [00:23<00:00, 17.45it/s, loss=2.8897, accuracy=0.46475]\n",
      "Epoch 25/9999 train: 100%|██████████| 417/417 [02:23<00:00,  2.90it/s, loss=0.28225, accuracy=0.92861]\n",
      "Epoch 25/9999 val: 100%|██████████| 417/417 [00:24<00:00, 17.35it/s, loss=2.2475, accuracy=0.52175]\n",
      "Epoch 26/9999 train: 100%|██████████| 417/417 [02:36<00:00,  2.66it/s, loss=0.22803, accuracy=0.93281]\n",
      "Epoch 26/9999 val: 100%|██████████| 417/417 [00:23<00:00, 17.39it/s, loss=2.5416, accuracy=0.51575]\n",
      "Epoch 27/9999 train: 100%|██████████| 417/417 [02:30<00:00,  2.77it/s, loss=0.21613, accuracy=0.93971]\n",
      "Epoch 27/9999 val: 100%|██████████| 417/417 [00:23<00:00, 17.50it/s, loss=2.3239, accuracy=0.51755]\n",
      "Epoch 28/9999 train: 100%|██████████| 417/417 [02:26<00:00,  2.85it/s, loss=0.15297, accuracy=0.95411]\n",
      "Epoch 28/9999 val: 100%|██████████| 417/417 [00:23<00:00, 17.52it/s, loss=2.1695, accuracy=0.52955]\n",
      "Epoch 29/9999 train: 100%|██████████| 417/417 [02:27<00:00,  2.83it/s, loss=0.169, accuracy=0.94961]  \n",
      "Epoch 29/9999 val: 100%|██████████| 417/417 [00:23<00:00, 17.46it/s, loss=2.693, accuracy=0.49445] \n"
     ]
    },
    {
     "name": "stdout",
     "output_type": "stream",
     "text": [
      "[CHECKPOINT] ../../data/finetuned_models/FGVC-Aircraft/resnet/resnet_FGVC-Aircraft_E30_occGAUSSIAN.pth\n"
     ]
    },
    {
     "name": "stderr",
     "output_type": "stream",
     "text": [
      "Epoch 30/9999 train: 100%|██████████| 417/417 [02:31<00:00,  2.74it/s, loss=0.22418, accuracy=0.93941]\n",
      "Epoch 30/9999 val: 100%|██████████| 417/417 [00:23<00:00, 17.89it/s, loss=2.4993, accuracy=0.51395]\n",
      "Epoch 31/9999 train: 100%|██████████| 417/417 [02:25<00:00,  2.87it/s, loss=0.16843, accuracy=0.95351]\n",
      "Epoch 31/9999 val: 100%|██████████| 417/417 [00:23<00:00, 17.53it/s, loss=2.4668, accuracy=0.51125]\n",
      "Epoch 32/9999 train: 100%|██████████| 417/417 [02:31<00:00,  2.76it/s, loss=0.16759, accuracy=0.95261]\n",
      "Epoch 32/9999 val: 100%|██████████| 417/417 [00:23<00:00, 17.66it/s, loss=2.3051, accuracy=0.51755]\n",
      "Epoch 33/9999 train: 100%|██████████| 417/417 [02:29<00:00,  2.79it/s, loss=0.1745, accuracy=0.94721] \n",
      "Epoch 33/9999 val: 100%|██████████| 417/417 [00:23<00:00, 17.43it/s, loss=2.3287, accuracy=0.51905]\n",
      "Epoch 34/9999 train: 100%|██████████| 417/417 [02:25<00:00,  2.87it/s, loss=0.15238, accuracy=0.95711]\n",
      "Epoch 34/9999 val: 100%|██████████| 417/417 [00:24<00:00, 17.37it/s, loss=2.5388, accuracy=0.52055]\n",
      "Epoch 35/9999 train: 100%|██████████| 417/417 [02:17<00:00,  3.02it/s, loss=0.14408, accuracy=0.95711] \n",
      "Epoch 35/9999 val: 100%|██████████| 417/417 [00:41<00:00, 10.05it/s, loss=2.1749, accuracy=0.49505]\n",
      "Epoch 36/9999 train: 100%|██████████| 417/417 [02:05<00:00,  3.32it/s, loss=0.14856, accuracy=0.96371]\n",
      "Epoch 36/9999 val: 100%|██████████| 417/417 [00:30<00:00, 13.67it/s, loss=2.9197, accuracy=0.50585]\n",
      "Epoch 37/9999 train: 100%|██████████| 417/417 [02:33<00:00,  2.71it/s, loss=0.15147, accuracy=0.95831]\n",
      "Epoch 37/9999 val: 100%|██████████| 417/417 [00:23<00:00, 17.47it/s, loss=2.1912, accuracy=0.52925]\n",
      "Epoch 38/9999 train: 100%|██████████| 417/417 [02:32<00:00,  2.74it/s, loss=0.11454, accuracy=0.96461] \n",
      "Epoch 38/9999 val: 100%|██████████| 417/417 [00:23<00:00, 17.42it/s, loss=2.7722, accuracy=0.49715]\n",
      "Epoch 39/9999 train: 100%|██████████| 417/417 [02:23<00:00,  2.91it/s, loss=0.14101, accuracy=0.95351]\n",
      "Epoch 39/9999 val: 100%|██████████| 417/417 [00:23<00:00, 17.46it/s, loss=2.4947, accuracy=0.50165]\n"
     ]
    },
    {
     "name": "stdout",
     "output_type": "stream",
     "text": [
      "[CHECKPOINT] ../../data/finetuned_models/FGVC-Aircraft/resnet/resnet_FGVC-Aircraft_E40_occGAUSSIAN.pth\n"
     ]
    },
    {
     "name": "stderr",
     "output_type": "stream",
     "text": [
      "Epoch 40/9999 train: 100%|██████████| 417/417 [02:37<00:00,  2.65it/s, loss=0.12052, accuracy=0.96281]\n",
      "Epoch 40/9999 val: 100%|██████████| 417/417 [00:23<00:00, 17.92it/s, loss=2.8723, accuracy=0.49835]\n",
      "Epoch 41/9999 train: 100%|██████████| 417/417 [02:31<00:00,  2.75it/s, loss=0.13312, accuracy=0.96401]\n",
      "Epoch 41/9999 val: 100%|██████████| 417/417 [00:23<00:00, 17.76it/s, loss=2.559, accuracy=0.51815] \n",
      "Epoch 42/9999 train: 100%|██████████| 417/417 [02:32<00:00,  2.73it/s, loss=0.1322, accuracy=0.96311] \n",
      "Epoch 42/9999 val: 100%|██████████| 417/417 [00:23<00:00, 17.54it/s, loss=2.4561, accuracy=0.51155]\n",
      "Epoch 43/9999 train: 100%|██████████| 417/417 [02:35<00:00,  2.68it/s, loss=0.10275, accuracy=0.97001] \n",
      "Epoch 43/9999 val: 100%|██████████| 417/417 [00:24<00:00, 17.30it/s, loss=2.7066, accuracy=0.51395]\n",
      "Epoch 44/9999 train: 100%|██████████| 417/417 [02:32<00:00,  2.74it/s, loss=0.11572, accuracy=0.96611] \n",
      "Epoch 44/9999 val: 100%|██████████| 417/417 [00:24<00:00, 17.31it/s, loss=2.4557, accuracy=0.48935]\n",
      "Epoch 45/9999 train: 100%|██████████| 417/417 [02:38<00:00,  2.62it/s, loss=0.10783, accuracy=0.97151]\n",
      "Epoch 45/9999 val: 100%|██████████| 417/417 [00:23<00:00, 17.55it/s, loss=2.9402, accuracy=0.49865]\n",
      "Epoch 46/9999 train: 100%|██████████| 417/417 [02:33<00:00,  2.72it/s, loss=0.094906, accuracy=0.97301]\n",
      "Epoch 46/9999 val: 100%|██████████| 417/417 [00:24<00:00, 17.32it/s, loss=2.8617, accuracy=0.52715]\n",
      "Epoch 47/9999 train: 100%|██████████| 417/417 [02:34<00:00,  2.70it/s, loss=0.10799, accuracy=0.97121]\n",
      "Epoch 47/9999 val: 100%|██████████| 417/417 [00:41<00:00, 10.06it/s, loss=2.7105, accuracy=0.54035]\n",
      "Epoch 48/9999 train: 100%|██████████| 417/417 [02:32<00:00,  2.74it/s, loss=0.081822, accuracy=0.9784] \n",
      "Epoch 48/9999 val: 100%|██████████| 417/417 [00:23<00:00, 17.60it/s, loss=2.7163, accuracy=0.51725]\n",
      "Epoch 49/9999 train: 100%|██████████| 417/417 [02:22<00:00,  2.92it/s, loss=0.11265, accuracy=0.96731] \n",
      "Epoch 49/9999 val: 100%|██████████| 417/417 [00:24<00:00, 17.21it/s, loss=2.4904, accuracy=0.52475]\n"
     ]
    },
    {
     "name": "stdout",
     "output_type": "stream",
     "text": [
      "[CHECKPOINT] ../../data/finetuned_models/FGVC-Aircraft/resnet/resnet_FGVC-Aircraft_E50_occGAUSSIAN.pth\n"
     ]
    },
    {
     "name": "stderr",
     "output_type": "stream",
     "text": [
      "Epoch 50/9999 train: 100%|██████████| 417/417 [02:35<00:00,  2.67it/s, loss=0.1137, accuracy=0.96581]  \n",
      "Epoch 50/9999 val: 100%|██████████| 417/417 [00:23<00:00, 17.81it/s, loss=2.3459, accuracy=0.47855]\n",
      "Epoch 51/9999 train: 100%|██████████| 417/417 [02:24<00:00,  2.89it/s, loss=0.091631, accuracy=0.9787] \n",
      "Epoch 51/9999 val: 100%|██████████| 417/417 [00:23<00:00, 17.70it/s, loss=2.7952, accuracy=0.50285]\n",
      "Epoch 52/9999 train: 100%|██████████| 417/417 [02:33<00:00,  2.72it/s, loss=0.099262, accuracy=0.97391]\n",
      "Epoch 52/9999 val: 100%|██████████| 417/417 [00:23<00:00, 17.46it/s, loss=2.7278, accuracy=0.51845]\n",
      "Epoch 53/9999 train: 100%|██████████| 417/417 [02:20<00:00,  2.96it/s, loss=0.088868, accuracy=0.97181]\n",
      "Epoch 53/9999 val: 100%|██████████| 417/417 [00:23<00:00, 17.38it/s, loss=2.8068, accuracy=0.49295]\n",
      "Epoch 54/9999 train: 100%|██████████| 417/417 [02:22<00:00,  2.93it/s, loss=0.15874, accuracy=0.96461]\n",
      "Epoch 54/9999 val: 100%|██████████| 417/417 [00:23<00:00, 17.54it/s, loss=2.8066, accuracy=0.48695]\n",
      "Epoch 55/9999 train: 100%|██████████| 417/417 [02:26<00:00,  2.84it/s, loss=0.086033, accuracy=0.9763] \n",
      "Epoch 55/9999 val: 100%|██████████| 417/417 [00:24<00:00, 17.32it/s, loss=2.4893, accuracy=0.51575]\n",
      "Epoch 56/9999 train: 100%|██████████| 417/417 [02:24<00:00,  2.89it/s, loss=0.15247, accuracy=0.96581]\n",
      "Epoch 56/9999 val: 100%|██████████| 417/417 [00:23<00:00, 17.42it/s, loss=2.4051, accuracy=0.51545]\n",
      "Epoch 57/9999 train: 100%|██████████| 417/417 [02:21<00:00,  2.94it/s, loss=0.078059, accuracy=0.9775] \n",
      "Epoch 57/9999 val: 100%|██████████| 417/417 [00:24<00:00, 17.31it/s, loss=2.5306, accuracy=0.50465]\n",
      "Epoch 58/9999 train: 100%|██████████| 417/417 [02:36<00:00,  2.67it/s, loss=0.078608, accuracy=0.9772] \n",
      "Epoch 58/9999 val: 100%|██████████| 417/417 [00:23<00:00, 17.53it/s, loss=2.3484, accuracy=0.52295]\n",
      "Epoch 59/9999 train: 100%|██████████| 417/417 [02:31<00:00,  2.76it/s, loss=0.078511, accuracy=0.982]  \n",
      "Epoch 59/9999 val: 100%|██████████| 417/417 [00:23<00:00, 17.50it/s, loss=2.7905, accuracy=0.49835]\n"
     ]
    },
    {
     "name": "stdout",
     "output_type": "stream",
     "text": [
      "[CHECKPOINT] ../../data/finetuned_models/FGVC-Aircraft/resnet/resnet_FGVC-Aircraft_E60_occGAUSSIAN.pth\n"
     ]
    },
    {
     "name": "stderr",
     "output_type": "stream",
     "text": [
      "Epoch 60/9999 train: 100%|██████████| 417/417 [02:24<00:00,  2.89it/s, loss=0.097248, accuracy=0.97241]\n",
      "Epoch 60/9999 val: 100%|██████████| 417/417 [00:23<00:00, 17.91it/s, loss=2.49, accuracy=0.51035]  \n",
      "Epoch 61/9999 train: 100%|██████████| 417/417 [02:24<00:00,  2.88it/s, loss=0.08706, accuracy=0.9757]  \n",
      "Epoch 61/9999 val: 100%|██████████| 417/417 [00:23<00:00, 17.68it/s, loss=2.8944, accuracy=0.49625]\n",
      "Epoch 62/9999 train: 100%|██████████| 417/417 [02:29<00:00,  2.78it/s, loss=0.093826, accuracy=0.97121]\n",
      "Epoch 62/9999 val: 100%|██████████| 417/417 [00:23<00:00, 17.66it/s, loss=3.0049, accuracy=0.52055]\n",
      "Epoch 63/9999 train: 100%|██████████| 417/417 [02:29<00:00,  2.79it/s, loss=0.099989, accuracy=0.976] \n",
      "Epoch 63/9999 val: 100%|██████████| 417/417 [00:24<00:00, 17.27it/s, loss=2.8057, accuracy=0.52745]\n",
      "Epoch 64/9999 train: 100%|██████████| 417/417 [02:32<00:00,  2.73it/s, loss=0.070281, accuracy=0.9811] \n",
      "Epoch 64/9999 val: 100%|██████████| 417/417 [00:24<00:00, 17.37it/s, loss=2.5751, accuracy=0.48905]\n",
      "Epoch 65/9999 train: 100%|██████████| 417/417 [02:26<00:00,  2.85it/s, loss=0.090227, accuracy=0.9763] \n",
      "Epoch 65/9999 val: 100%|██████████| 417/417 [00:23<00:00, 17.52it/s, loss=2.663, accuracy=0.50075] \n",
      "Epoch 66/9999 train: 100%|██████████| 417/417 [02:34<00:00,  2.70it/s, loss=0.087048, accuracy=0.97421]\n",
      "Epoch 66/9999 val: 100%|██████████| 417/417 [00:24<00:00, 17.13it/s, loss=2.6861, accuracy=0.51845]\n",
      "Epoch 67/9999 train: 100%|██████████| 417/417 [02:25<00:00,  2.86it/s, loss=0.046905, accuracy=0.9853] \n",
      "Epoch 67/9999 val: 100%|██████████| 417/417 [00:24<00:00, 17.34it/s, loss=2.7008, accuracy=0.52535]\n",
      "Epoch 68/9999 train: 100%|██████████| 417/417 [02:40<00:00,  2.61it/s, loss=0.11787, accuracy=0.96791]\n",
      "Epoch 68/9999 val: 100%|██████████| 417/417 [00:23<00:00, 17.45it/s, loss=2.8972, accuracy=0.51425]\n",
      "Epoch 69/9999 train: 100%|██████████| 417/417 [02:30<00:00,  2.77it/s, loss=0.060426, accuracy=0.9832] \n",
      "Epoch 69/9999 val: 100%|██████████| 417/417 [00:41<00:00, 10.01it/s, loss=2.7194, accuracy=0.50285]\n"
     ]
    },
    {
     "name": "stdout",
     "output_type": "stream",
     "text": [
      "[CHECKPOINT] ../../data/finetuned_models/FGVC-Aircraft/resnet/resnet_FGVC-Aircraft_E70_occGAUSSIAN.pth\n"
     ]
    },
    {
     "name": "stderr",
     "output_type": "stream",
     "text": [
      "Epoch 70/9999 train: 100%|██████████| 417/417 [02:14<00:00,  3.10it/s, loss=0.10561, accuracy=0.97301]\n",
      "Epoch 70/9999 val: 100%|██████████| 417/417 [00:27<00:00, 15.15it/s, loss=2.8178, accuracy=0.50195]\n",
      "Epoch 71/9999 train: 100%|██████████| 417/417 [02:36<00:00,  2.66it/s, loss=0.081141, accuracy=0.9787] \n",
      "Epoch 71/9999 val: 100%|██████████| 417/417 [00:23<00:00, 17.79it/s, loss=3.1766, accuracy=0.48875]\n",
      "Epoch 72/9999 train: 100%|██████████| 417/417 [02:26<00:00,  2.85it/s, loss=0.087995, accuracy=0.9775] \n",
      "Epoch 72/9999 val: 100%|██████████| 417/417 [00:23<00:00, 17.41it/s, loss=2.3425, accuracy=0.50435]\n",
      "Epoch 73/9999 train: 100%|██████████| 417/417 [02:25<00:00,  2.87it/s, loss=0.048892, accuracy=0.9871] \n",
      "Epoch 73/9999 val: 100%|██████████| 417/417 [00:23<00:00, 17.48it/s, loss=2.5997, accuracy=0.48365]\n",
      "Epoch 74/9999 train: 100%|██████████| 417/417 [02:33<00:00,  2.72it/s, loss=0.086542, accuracy=0.9751] \n",
      "Epoch 74/9999 val: 100%|██████████| 417/417 [00:23<00:00, 17.40it/s, loss=2.3829, accuracy=0.50675]\n",
      "Epoch 75/9999 train: 100%|██████████| 417/417 [02:33<00:00,  2.72it/s, loss=0.06812, accuracy=0.9838]  \n",
      "Epoch 75/9999 val: 100%|██████████| 417/417 [00:24<00:00, 17.36it/s, loss=2.5224, accuracy=0.49985]\n",
      "Epoch 76/9999 train: 100%|██████████| 417/417 [02:36<00:00,  2.67it/s, loss=0.054391, accuracy=0.9856] \n",
      "Epoch 76/9999 val: 100%|██████████| 417/417 [00:22<00:00, 18.19it/s, loss=3.0067, accuracy=0.52625]\n",
      "Epoch 77/9999 train: 100%|██████████| 417/417 [02:30<00:00,  2.78it/s, loss=0.078256, accuracy=0.9778] \n",
      "Epoch 77/9999 val: 100%|██████████| 417/417 [00:23<00:00, 17.48it/s, loss=3.0355, accuracy=0.46415]\n"
     ]
    },
    {
     "name": "stdout",
     "output_type": "stream",
     "text": [
      "Training complete in 226m 4s\n",
      "Best val Acc: 0.540354\n",
      "[CHECKPOINT] ../../data/finetuned_models/FGVC-Aircraft/resnet/resnet_FGVC-Aircraft_E10000_occGAUSSIAN.pth\n",
      "STARTING: model=resnet | dataset=StanfordCars | occlusion=SOFTMAX\n"
     ]
    },
    {
     "name": "stderr",
     "output_type": "stream",
     "text": [
      "Epoch 0/9999 train: 100%|██████████| 1018/1018 [04:40<00:00,  3.63it/s, loss=5.2861, accuracy=0.0062623]\n",
      "Epoch 0/9999 val: 100%|██████████| 503/503 [00:27<00:00, 18.59it/s, loss=5.2696, accuracy=0.0054726]\n",
      "Epoch 1/9999 train: 100%|██████████| 1018/1018 [04:17<00:00,  3.95it/s, loss=5.1944, accuracy=0.012402]\n",
      "Epoch 1/9999 val: 100%|██████████| 503/503 [00:26<00:00, 18.87it/s, loss=5.1234, accuracy=0.020896]\n",
      "Epoch 2/9999 train: 100%|██████████| 1018/1018 [03:49<00:00,  4.43it/s, loss=4.4155, accuracy=0.062254]\n",
      "Epoch 2/9999 val: 100%|██████████| 503/503 [00:41<00:00, 12.11it/s, loss=3.8823, accuracy=0.11368]\n",
      "Epoch 3/9999 train: 100%|██████████| 1018/1018 [04:09<00:00,  4.07it/s, loss=3.0597, accuracy=0.23121]\n",
      "Epoch 3/9999 val: 100%|██████████| 503/503 [00:26<00:00, 18.89it/s, loss=2.5147, accuracy=0.33706]\n",
      "Epoch 4/9999 train: 100%|██████████| 1018/1018 [03:48<00:00,  4.45it/s, loss=2.1123, accuracy=0.4294] \n",
      "Epoch 4/9999 val: 100%|██████████| 503/503 [00:47<00:00, 10.65it/s, loss=1.9706, accuracy=0.47264]\n",
      "Epoch 5/9999 train: 100%|██████████| 1018/1018 [04:06<00:00,  4.13it/s, loss=1.4916, accuracy=0.57552]\n",
      "Epoch 5/9999 val: 100%|██████████| 503/503 [00:38<00:00, 13.12it/s, loss=1.8547, accuracy=0.49328]\n",
      "Epoch 6/9999 train: 100%|██████████| 1018/1018 [04:19<00:00,  3.93it/s, loss=1.138, accuracy=0.66687] \n",
      "Epoch 6/9999 val: 100%|██████████| 503/503 [00:28<00:00, 17.58it/s, loss=1.5352, accuracy=0.57512]\n",
      "Epoch 7/9999 train: 100%|██████████| 1018/1018 [04:39<00:00,  3.64it/s, loss=0.89846, accuracy=0.73342]\n",
      "Epoch 7/9999 val: 100%|██████████| 503/503 [00:37<00:00, 13.45it/s, loss=1.582, accuracy=0.5791]  \n",
      "Epoch 8/9999 train: 100%|██████████| 1018/1018 [04:22<00:00,  3.87it/s, loss=0.75738, accuracy=0.77849]\n",
      "Epoch 8/9999 val: 100%|██████████| 503/503 [00:28<00:00, 17.87it/s, loss=1.5974, accuracy=0.57512]\n",
      "Epoch 9/9999 train: 100%|██████████| 1018/1018 [04:35<00:00,  3.69it/s, loss=0.61208, accuracy=0.81139]\n",
      "Epoch 9/9999 val: 100%|██████████| 503/503 [00:27<00:00, 18.01it/s, loss=1.4604, accuracy=0.64129]\n"
     ]
    },
    {
     "name": "stdout",
     "output_type": "stream",
     "text": [
      "[CHECKPOINT] ../../data/finetuned_models/StanfordCars/resnet/resnet_StanfordCars_E10_occSOFTMAX.pth\n"
     ]
    },
    {
     "name": "stderr",
     "output_type": "stream",
     "text": [
      "Epoch 10/9999 train: 100%|██████████| 1018/1018 [04:41<00:00,  3.62it/s, loss=0.52511, accuracy=0.84578]\n",
      "Epoch 10/9999 val: 100%|██████████| 503/503 [00:27<00:00, 18.24it/s, loss=1.5989, accuracy=0.61244]\n",
      "Epoch 11/9999 train: 100%|██████████| 1018/1018 [04:25<00:00,  3.84it/s, loss=0.47677, accuracy=0.85609]\n",
      "Epoch 11/9999 val: 100%|██████████| 503/503 [00:51<00:00,  9.74it/s, loss=1.5146, accuracy=0.60249]\n",
      "Epoch 12/9999 train: 100%|██████████| 1018/1018 [04:10<00:00,  4.07it/s, loss=0.43772, accuracy=0.87033]\n",
      "Epoch 12/9999 val: 100%|██████████| 503/503 [00:50<00:00, 10.02it/s, loss=1.3774, accuracy=0.64701]\n",
      "Epoch 13/9999 train: 100%|██████████| 1018/1018 [04:05<00:00,  4.14it/s, loss=0.36171, accuracy=0.89268]\n",
      "Epoch 13/9999 val: 100%|██████████| 503/503 [00:43<00:00, 11.47it/s, loss=1.6481, accuracy=0.59627]\n",
      "Epoch 14/9999 train: 100%|██████████| 1018/1018 [04:14<00:00,  4.00it/s, loss=0.33864, accuracy=0.90275]\n",
      "Epoch 14/9999 val: 100%|██████████| 503/503 [00:38<00:00, 13.10it/s, loss=1.5773, accuracy=0.64229]\n",
      "Epoch 15/9999 train: 100%|██████████| 1018/1018 [03:58<00:00,  4.28it/s, loss=0.31068, accuracy=0.90926]\n",
      "Epoch 15/9999 val: 100%|██████████| 503/503 [00:39<00:00, 12.63it/s, loss=1.5642, accuracy=0.61741]\n",
      "Epoch 16/9999 train: 100%|██████████| 1018/1018 [04:36<00:00,  3.68it/s, loss=0.32105, accuracy=0.91233]\n",
      "Epoch 16/9999 val: 100%|██████████| 503/503 [00:30<00:00, 16.52it/s, loss=1.5519, accuracy=0.63134]\n",
      "Epoch 17/9999 train: 100%|██████████| 1018/1018 [05:03<00:00,  3.36it/s, loss=0.2614, accuracy=0.92387] \n",
      "Epoch 17/9999 val: 100%|██████████| 503/503 [00:31<00:00, 15.77it/s, loss=1.4452, accuracy=0.64925]\n",
      "Epoch 18/9999 train: 100%|██████████| 1018/1018 [05:44<00:00,  2.96it/s, loss=0.37601, accuracy=0.90005]\n",
      "Epoch 18/9999 val: 100%|██████████| 503/503 [00:48<00:00, 10.42it/s, loss=1.5013, accuracy=0.64577]\n",
      "Epoch 19/9999 train: 100%|██████████| 1018/1018 [04:38<00:00,  3.66it/s, loss=0.26138, accuracy=0.92105]\n",
      "Epoch 19/9999 val: 100%|██████████| 503/503 [00:35<00:00, 14.24it/s, loss=1.6539, accuracy=0.61393]\n"
     ]
    },
    {
     "name": "stdout",
     "output_type": "stream",
     "text": [
      "[CHECKPOINT] ../../data/finetuned_models/StanfordCars/resnet/resnet_StanfordCars_E20_occSOFTMAX.pth\n"
     ]
    },
    {
     "name": "stderr",
     "output_type": "stream",
     "text": [
      "Epoch 20/9999 train: 100%|██████████| 1018/1018 [04:55<00:00,  3.45it/s, loss=0.21462, accuracy=0.93345]\n",
      "Epoch 20/9999 val: 100%|██████████| 503/503 [00:31<00:00, 15.86it/s, loss=1.6792, accuracy=0.62985]\n",
      "Epoch 21/9999 train: 100%|██████████| 1018/1018 [04:57<00:00,  3.42it/s, loss=0.19918, accuracy=0.93971]\n",
      "Epoch 21/9999 val: 100%|██████████| 503/503 [00:27<00:00, 18.03it/s, loss=1.583, accuracy=0.64104] \n",
      "Epoch 22/9999 train: 100%|██████████| 1018/1018 [05:01<00:00,  3.38it/s, loss=0.18252, accuracy=0.94462]\n",
      "Epoch 22/9999 val: 100%|██████████| 503/503 [00:28<00:00, 17.73it/s, loss=1.5979, accuracy=0.64801]\n",
      "Epoch 23/9999 train: 100%|██████████| 1018/1018 [04:41<00:00,  3.62it/s, loss=0.17781, accuracy=0.95027]\n",
      "Epoch 23/9999 val: 100%|██████████| 503/503 [00:27<00:00, 17.97it/s, loss=1.6426, accuracy=0.65473]\n",
      "Epoch 24/9999 train: 100%|██████████| 1018/1018 [04:44<00:00,  3.57it/s, loss=0.17553, accuracy=0.94867]\n",
      "Epoch 24/9999 val: 100%|██████████| 503/503 [00:50<00:00,  9.91it/s, loss=1.3642, accuracy=0.66542]\n",
      "Epoch 25/9999 train: 100%|██████████| 1018/1018 [04:09<00:00,  4.08it/s, loss=0.14181, accuracy=0.95813]\n",
      "Epoch 25/9999 val: 100%|██████████| 503/503 [00:50<00:00,  9.99it/s, loss=1.9293, accuracy=0.61791]\n",
      "Epoch 26/9999 train: 100%|██████████| 1018/1018 [04:39<00:00,  3.64it/s, loss=0.1825, accuracy=0.94855] \n",
      "Epoch 26/9999 val: 100%|██████████| 503/503 [00:34<00:00, 14.48it/s, loss=1.5193, accuracy=0.64975]\n",
      "Epoch 27/9999 train: 100%|██████████| 1018/1018 [05:12<00:00,  3.26it/s, loss=0.1928, accuracy=0.94646] \n",
      "Epoch 27/9999 val: 100%|██████████| 503/503 [00:29<00:00, 17.03it/s, loss=1.4431, accuracy=0.67537]\n",
      "Epoch 28/9999 train: 100%|██████████| 1018/1018 [05:25<00:00,  3.12it/s, loss=0.18574, accuracy=0.95027]\n",
      "Epoch 28/9999 val: 100%|██████████| 503/503 [00:40<00:00, 12.33it/s, loss=1.5357, accuracy=0.65473]\n",
      "Epoch 29/9999 train: 100%|██████████| 1018/1018 [05:50<00:00,  2.91it/s, loss=0.1401, accuracy=0.96157] \n",
      "Epoch 29/9999 val: 100%|██████████| 503/503 [00:29<00:00, 17.08it/s, loss=1.7167, accuracy=0.649]  \n"
     ]
    },
    {
     "name": "stdout",
     "output_type": "stream",
     "text": [
      "[CHECKPOINT] ../../data/finetuned_models/StanfordCars/resnet/resnet_StanfordCars_E30_occSOFTMAX.pth\n"
     ]
    },
    {
     "name": "stderr",
     "output_type": "stream",
     "text": [
      "Epoch 30/9999 train: 100%|██████████| 1018/1018 [05:39<00:00,  3.00it/s, loss=0.13267, accuracy=0.95972]\n",
      "Epoch 30/9999 val: 100%|██████████| 503/503 [00:52<00:00,  9.53it/s, loss=1.5066, accuracy=0.67463]\n",
      "Epoch 31/9999 train: 100%|██████████| 1018/1018 [05:20<00:00,  3.17it/s, loss=0.17253, accuracy=0.95383]\n",
      "Epoch 31/9999 val: 100%|██████████| 503/503 [00:33<00:00, 15.07it/s, loss=1.8245, accuracy=0.63134]\n",
      "Epoch 32/9999 train: 100%|██████████| 1018/1018 [05:03<00:00,  3.35it/s, loss=0.12036, accuracy=0.96378]\n",
      "Epoch 32/9999 val: 100%|██████████| 503/503 [00:36<00:00, 13.73it/s, loss=1.6848, accuracy=0.67562]\n",
      "Epoch 33/9999 train: 100%|██████████| 1018/1018 [05:30<00:00,  3.08it/s, loss=0.13562, accuracy=0.95948]\n",
      "Epoch 33/9999 val: 100%|██████████| 503/503 [00:28<00:00, 17.45it/s, loss=1.9578, accuracy=0.61169]\n",
      "Epoch 34/9999 train: 100%|██████████| 1018/1018 [05:26<00:00,  3.12it/s, loss=0.13217, accuracy=0.96341]\n",
      "Epoch 34/9999 val: 100%|██████████| 503/503 [00:27<00:00, 18.07it/s, loss=1.7151, accuracy=0.65075]\n",
      "Epoch 35/9999 train: 100%|██████████| 1018/1018 [05:46<00:00,  2.94it/s, loss=0.12839, accuracy=0.96636]\n",
      "Epoch 35/9999 val: 100%|██████████| 503/503 [00:27<00:00, 18.25it/s, loss=1.7214, accuracy=0.64428]\n",
      "Epoch 36/9999 train: 100%|██████████| 1018/1018 [05:17<00:00,  3.21it/s, loss=0.15293, accuracy=0.96083]\n",
      "Epoch 36/9999 val: 100%|██████████| 503/503 [00:27<00:00, 18.17it/s, loss=1.5832, accuracy=0.63209]\n",
      "Epoch 37/9999 train: 100%|██████████| 1018/1018 [05:23<00:00,  3.14it/s, loss=0.15239, accuracy=0.95862]\n",
      "Epoch 37/9999 val: 100%|██████████| 503/503 [00:50<00:00, 10.02it/s, loss=1.6104, accuracy=0.66617]\n",
      "Epoch 38/9999 train: 100%|██████████| 1018/1018 [05:59<00:00,  2.83it/s, loss=0.11407, accuracy=0.96697]\n",
      "Epoch 38/9999 val: 100%|██████████| 503/503 [00:51<00:00,  9.83it/s, loss=1.5531, accuracy=0.64552]\n",
      "Epoch 39/9999 train: 100%|██████████| 1018/1018 [04:35<00:00,  3.70it/s, loss=0.12109, accuracy=0.96943]\n",
      "Epoch 39/9999 val: 100%|██████████| 503/503 [00:51<00:00,  9.84it/s, loss=1.4395, accuracy=0.67413]\n"
     ]
    },
    {
     "name": "stdout",
     "output_type": "stream",
     "text": [
      "[CHECKPOINT] ../../data/finetuned_models/StanfordCars/resnet/resnet_StanfordCars_E40_occSOFTMAX.pth\n"
     ]
    },
    {
     "name": "stderr",
     "output_type": "stream",
     "text": [
      "Epoch 40/9999 train: 100%|██████████| 1018/1018 [04:10<00:00,  4.06it/s, loss=0.10653, accuracy=0.97053]\n",
      "Epoch 40/9999 val: 100%|██████████| 503/503 [00:50<00:00, 10.03it/s, loss=1.9893, accuracy=0.63383]\n",
      "Epoch 41/9999 train: 100%|██████████| 1018/1018 [04:10<00:00,  4.06it/s, loss=0.10338, accuracy=0.9693] \n",
      "Epoch 41/9999 val: 100%|██████████| 503/503 [00:34<00:00, 14.67it/s, loss=1.8354, accuracy=0.63358]\n",
      "Epoch 42/9999 train: 100%|██████████| 1018/1018 [04:08<00:00,  4.10it/s, loss=0.089044, accuracy=0.97532]\n",
      "Epoch 42/9999 val: 100%|██████████| 503/503 [00:28<00:00, 17.53it/s, loss=1.4861, accuracy=0.67338]\n",
      "Epoch 43/9999 train: 100%|██████████| 1018/1018 [04:22<00:00,  3.88it/s, loss=0.1012, accuracy=0.97065] \n",
      "Epoch 43/9999 val: 100%|██████████| 503/503 [00:30<00:00, 16.51it/s, loss=1.8326, accuracy=0.65274]\n",
      "Epoch 44/9999 train: 100%|██████████| 1018/1018 [04:36<00:00,  3.68it/s, loss=0.096684, accuracy=0.97274]\n",
      "Epoch 44/9999 val: 100%|██████████| 503/503 [00:27<00:00, 18.34it/s, loss=1.7166, accuracy=0.65348]\n",
      "Epoch 45/9999 train: 100%|██████████| 1018/1018 [04:37<00:00,  3.67it/s, loss=0.095914, accuracy=0.97225]\n",
      "Epoch 45/9999 val: 100%|██████████| 503/503 [00:30<00:00, 16.25it/s, loss=1.6112, accuracy=0.6403] \n",
      "Epoch 46/9999 train: 100%|██████████| 1018/1018 [04:36<00:00,  3.68it/s, loss=0.1049, accuracy=0.97434] \n",
      "Epoch 46/9999 val: 100%|██████████| 503/503 [00:31<00:00, 15.77it/s, loss=1.5507, accuracy=0.64229]\n",
      "Epoch 47/9999 train: 100%|██████████| 1018/1018 [04:47<00:00,  3.54it/s, loss=0.085561, accuracy=0.97765]\n",
      "Epoch 47/9999 val: 100%|██████████| 503/503 [00:27<00:00, 18.35it/s, loss=1.671, accuracy=0.65945] \n",
      "Epoch 48/9999 train: 100%|██████████| 1018/1018 [05:05<00:00,  3.34it/s, loss=0.09133, accuracy=0.97409] \n",
      "Epoch 48/9999 val: 100%|██████████| 503/503 [00:27<00:00, 18.32it/s, loss=1.5228, accuracy=0.66567]\n",
      "Epoch 49/9999 train: 100%|██████████| 1018/1018 [04:49<00:00,  3.51it/s, loss=0.14093, accuracy=0.96881]\n",
      "Epoch 49/9999 val: 100%|██████████| 503/503 [00:27<00:00, 18.31it/s, loss=1.8874, accuracy=0.65796]\n"
     ]
    },
    {
     "name": "stdout",
     "output_type": "stream",
     "text": [
      "[CHECKPOINT] ../../data/finetuned_models/StanfordCars/resnet/resnet_StanfordCars_E50_occSOFTMAX.pth\n"
     ]
    },
    {
     "name": "stderr",
     "output_type": "stream",
     "text": [
      "Epoch 50/9999 train: 100%|██████████| 1018/1018 [04:45<00:00,  3.57it/s, loss=0.087793, accuracy=0.97642]\n",
      "Epoch 50/9999 val: 100%|██████████| 503/503 [00:26<00:00, 18.93it/s, loss=1.7342, accuracy=0.64652]\n",
      "Epoch 51/9999 train: 100%|██████████| 1018/1018 [04:42<00:00,  3.60it/s, loss=0.099378, accuracy=0.97299]\n",
      "Epoch 51/9999 val: 100%|██████████| 503/503 [00:26<00:00, 18.84it/s, loss=1.737, accuracy=0.63308] \n",
      "Epoch 52/9999 train: 100%|██████████| 1018/1018 [04:44<00:00,  3.58it/s, loss=0.13476, accuracy=0.9682] \n",
      "Epoch 52/9999 val: 100%|██████████| 503/503 [00:27<00:00, 18.63it/s, loss=1.6415, accuracy=0.62985]\n",
      "Epoch 53/9999 train: 100%|██████████| 1018/1018 [04:48<00:00,  3.52it/s, loss=0.10228, accuracy=0.97274]\n",
      "Epoch 53/9999 val: 100%|██████████| 503/503 [00:35<00:00, 14.26it/s, loss=1.8274, accuracy=0.6597] \n",
      "Epoch 54/9999 train: 100%|██████████| 1018/1018 [04:41<00:00,  3.62it/s, loss=0.092082, accuracy=0.97164]\n",
      "Epoch 54/9999 val: 100%|██████████| 503/503 [00:36<00:00, 13.81it/s, loss=1.5502, accuracy=0.67189]\n",
      "Epoch 55/9999 train: 100%|██████████| 1018/1018 [04:51<00:00,  3.49it/s, loss=0.072601, accuracy=0.98146]\n",
      "Epoch 55/9999 val: 100%|██████████| 503/503 [00:31<00:00, 15.99it/s, loss=1.5703, accuracy=0.66592]\n",
      "Epoch 56/9999 train: 100%|██████████| 1018/1018 [04:57<00:00,  3.42it/s, loss=0.087659, accuracy=0.97642]\n",
      "Epoch 56/9999 val: 100%|██████████| 503/503 [00:31<00:00, 16.11it/s, loss=1.6436, accuracy=0.651]  \n",
      "Epoch 57/9999 train: 100%|██████████| 1018/1018 [05:01<00:00,  3.37it/s, loss=0.066181, accuracy=0.98035]\n",
      "Epoch 57/9999 val: 100%|██████████| 503/503 [00:27<00:00, 18.55it/s, loss=1.6866, accuracy=0.64726]\n",
      "Epoch 58/9999 train: 100%|██████████| 1018/1018 [05:04<00:00,  3.34it/s, loss=0.084554, accuracy=0.97704]\n",
      "Epoch 58/9999 val: 100%|██████████| 503/503 [00:27<00:00, 18.08it/s, loss=1.7468, accuracy=0.64428]\n",
      "Epoch 59/9999 train: 100%|██████████| 1018/1018 [05:07<00:00,  3.31it/s, loss=0.094514, accuracy=0.97667]\n",
      "Epoch 59/9999 val: 100%|██████████| 503/503 [00:29<00:00, 16.95it/s, loss=1.6473, accuracy=0.64328]\n"
     ]
    },
    {
     "name": "stdout",
     "output_type": "stream",
     "text": [
      "[CHECKPOINT] ../../data/finetuned_models/StanfordCars/resnet/resnet_StanfordCars_E60_occSOFTMAX.pth\n"
     ]
    },
    {
     "name": "stderr",
     "output_type": "stream",
     "text": [
      "Epoch 60/9999 train: 100%|██████████| 1018/1018 [05:03<00:00,  3.36it/s, loss=0.084934, accuracy=0.97949]\n",
      "Epoch 60/9999 val: 100%|██████████| 503/503 [00:26<00:00, 19.08it/s, loss=1.629, accuracy=0.62761] \n",
      "Epoch 61/9999 train: 100%|██████████| 1018/1018 [04:52<00:00,  3.48it/s, loss=0.070343, accuracy=0.98011]\n",
      "Epoch 61/9999 val: 100%|██████████| 503/503 [00:26<00:00, 19.08it/s, loss=1.6119, accuracy=0.65075]\n",
      "Epoch 62/9999 train: 100%|██████████| 1018/1018 [04:58<00:00,  3.42it/s, loss=0.087806, accuracy=0.97851]\n",
      "Epoch 62/9999 val: 100%|██████████| 503/503 [00:26<00:00, 19.12it/s, loss=1.8414, accuracy=0.62139]\n"
     ]
    },
    {
     "name": "stdout",
     "output_type": "stream",
     "text": [
      "Training complete in 337m 18s\n",
      "Best val Acc: 0.675622\n",
      "[CHECKPOINT] ../../data/finetuned_models/StanfordCars/resnet/resnet_StanfordCars_E10000_occSOFTMAX.pth\n",
      "STARTING: model=resnet | dataset=FGVC-Aircraft | occlusion=SOFTMAX\n"
     ]
    },
    {
     "name": "stderr",
     "output_type": "stream",
     "text": [
      "Epoch 0/9999 train: 100%|██████████| 417/417 [02:12<00:00,  3.15it/s, loss=4.5957, accuracy=0.014997] \n",
      "Epoch 0/9999 val: 100%|██████████| 417/417 [00:22<00:00, 18.87it/s, loss=4.4069, accuracy=0.026703]\n",
      "Epoch 1/9999 train: 100%|██████████| 417/417 [02:08<00:00,  3.23it/s, loss=3.8304, accuracy=0.09958] \n",
      "Epoch 1/9999 val: 100%|██████████| 417/417 [00:22<00:00, 18.66it/s, loss=3.016, accuracy=0.21122] \n",
      "Epoch 2/9999 train: 100%|██████████| 417/417 [02:06<00:00,  3.29it/s, loss=2.6706, accuracy=0.27475]\n",
      "Epoch 2/9999 val: 100%|██████████| 417/417 [00:22<00:00, 18.66it/s, loss=2.4418, accuracy=0.32493]\n",
      "Epoch 3/9999 train: 100%|██████████| 417/417 [02:22<00:00,  2.92it/s, loss=2.1223, accuracy=0.39232]\n",
      "Epoch 3/9999 val: 100%|██████████| 417/417 [00:22<00:00, 18.68it/s, loss=2.2073, accuracy=0.37714]\n",
      "Epoch 4/9999 train: 100%|██████████| 417/417 [02:07<00:00,  3.28it/s, loss=1.5282, accuracy=0.54589]\n",
      "Epoch 4/9999 val: 100%|██████████| 417/417 [00:22<00:00, 18.44it/s, loss=2.0402, accuracy=0.43054]\n",
      "Epoch 5/9999 train: 100%|██████████| 417/417 [02:12<00:00,  3.15it/s, loss=1.1887, accuracy=0.62867]\n",
      "Epoch 5/9999 val: 100%|██████████| 417/417 [00:22<00:00, 18.63it/s, loss=1.8147, accuracy=0.47915]\n",
      "Epoch 6/9999 train: 100%|██████████| 417/417 [02:14<00:00,  3.10it/s, loss=0.86788, accuracy=0.73035]\n",
      "Epoch 6/9999 val: 100%|██████████| 417/417 [00:22<00:00, 18.85it/s, loss=2.1446, accuracy=0.45575]\n",
      "Epoch 7/9999 train: 100%|██████████| 417/417 [02:16<00:00,  3.05it/s, loss=0.70586, accuracy=0.76875]\n",
      "Epoch 7/9999 val: 100%|██████████| 417/417 [00:22<00:00, 18.64it/s, loss=1.8683, accuracy=0.50975]\n",
      "Epoch 8/9999 train: 100%|██████████| 417/417 [02:20<00:00,  2.97it/s, loss=0.66273, accuracy=0.80924]\n",
      "Epoch 8/9999 val: 100%|██████████| 417/417 [00:22<00:00, 18.66it/s, loss=1.7893, accuracy=0.51635]\n",
      "Epoch 9/9999 train: 100%|██████████| 417/417 [02:12<00:00,  3.14it/s, loss=0.45754, accuracy=0.85033]\n",
      "Epoch 9/9999 val: 100%|██████████| 417/417 [00:22<00:00, 18.68it/s, loss=1.8952, accuracy=0.53075]\n"
     ]
    },
    {
     "name": "stdout",
     "output_type": "stream",
     "text": [
      "[CHECKPOINT] ../../data/finetuned_models/FGVC-Aircraft/resnet/resnet_FGVC-Aircraft_E10_occSOFTMAX.pth\n"
     ]
    },
    {
     "name": "stderr",
     "output_type": "stream",
     "text": [
      "Epoch 10/9999 train: 100%|██████████| 417/417 [02:10<00:00,  3.20it/s, loss=0.40222, accuracy=0.86743]\n",
      "Epoch 10/9999 val: 100%|██████████| 417/417 [00:22<00:00, 18.78it/s, loss=2.0033, accuracy=0.52235]\n",
      "Epoch 11/9999 train: 100%|██████████| 417/417 [02:11<00:00,  3.16it/s, loss=0.33944, accuracy=0.90132]\n",
      "Epoch 11/9999 val: 100%|██████████| 417/417 [00:22<00:00, 18.81it/s, loss=1.9514, accuracy=0.50375]\n",
      "Epoch 12/9999 train: 100%|██████████| 417/417 [02:08<00:00,  3.24it/s, loss=0.29718, accuracy=0.90462]\n",
      "Epoch 12/9999 val: 100%|██████████| 417/417 [00:22<00:00, 18.73it/s, loss=2.1069, accuracy=0.52025]\n",
      "Epoch 13/9999 train: 100%|██████████| 417/417 [02:19<00:00,  2.98it/s, loss=0.25021, accuracy=0.92082]\n",
      "Epoch 13/9999 val: 100%|██████████| 417/417 [00:22<00:00, 18.69it/s, loss=2.0095, accuracy=0.53405]\n",
      "Epoch 14/9999 train: 100%|██████████| 417/417 [02:11<00:00,  3.17it/s, loss=0.22289, accuracy=0.93401]\n",
      "Epoch 14/9999 val: 100%|██████████| 417/417 [00:22<00:00, 18.69it/s, loss=1.9683, accuracy=0.54935]\n",
      "Epoch 15/9999 train: 100%|██████████| 417/417 [02:21<00:00,  2.94it/s, loss=0.21541, accuracy=0.94601]\n",
      "Epoch 15/9999 val: 100%|██████████| 417/417 [00:22<00:00, 18.76it/s, loss=1.9392, accuracy=0.55056]\n",
      "Epoch 16/9999 train: 100%|██████████| 417/417 [02:12<00:00,  3.14it/s, loss=0.18485, accuracy=0.94811]\n",
      "Epoch 16/9999 val: 100%|██████████| 417/417 [00:22<00:00, 18.58it/s, loss=1.9166, accuracy=0.56256]\n",
      "Epoch 17/9999 train: 100%|██████████| 417/417 [02:15<00:00,  3.08it/s, loss=0.2039, accuracy=0.94781] \n",
      "Epoch 17/9999 val: 100%|██████████| 417/417 [00:22<00:00, 18.70it/s, loss=1.9837, accuracy=0.54815]\n",
      "Epoch 18/9999 train: 100%|██████████| 417/417 [02:19<00:00,  2.98it/s, loss=0.19589, accuracy=0.94751]\n",
      "Epoch 18/9999 val: 100%|██████████| 417/417 [00:22<00:00, 18.81it/s, loss=2.242, accuracy=0.54035] \n",
      "Epoch 19/9999 train: 100%|██████████| 417/417 [02:09<00:00,  3.23it/s, loss=0.26167, accuracy=0.93251]\n",
      "Epoch 19/9999 val: 100%|██████████| 417/417 [00:22<00:00, 18.49it/s, loss=1.9862, accuracy=0.53135]\n"
     ]
    },
    {
     "name": "stdout",
     "output_type": "stream",
     "text": [
      "[CHECKPOINT] ../../data/finetuned_models/FGVC-Aircraft/resnet/resnet_FGVC-Aircraft_E20_occSOFTMAX.pth\n"
     ]
    },
    {
     "name": "stderr",
     "output_type": "stream",
     "text": [
      "Epoch 20/9999 train: 100%|██████████| 417/417 [02:20<00:00,  2.96it/s, loss=0.19272, accuracy=0.94151]\n",
      "Epoch 20/9999 val: 100%|██████████| 417/417 [00:22<00:00, 18.79it/s, loss=2.136, accuracy=0.52535] \n",
      "Epoch 21/9999 train: 100%|██████████| 417/417 [02:15<00:00,  3.07it/s, loss=0.23241, accuracy=0.94541]\n",
      "Epoch 21/9999 val: 100%|██████████| 417/417 [00:22<00:00, 18.67it/s, loss=1.999, accuracy=0.54545] \n",
      "Epoch 22/9999 train: 100%|██████████| 417/417 [02:21<00:00,  2.95it/s, loss=0.16249, accuracy=0.95531]\n",
      "Epoch 22/9999 val: 100%|██████████| 417/417 [00:22<00:00, 18.79it/s, loss=2.1517, accuracy=0.53735]\n",
      "Epoch 23/9999 train: 100%|██████████| 417/417 [02:09<00:00,  3.22it/s, loss=0.18212, accuracy=0.95231]\n",
      "Epoch 23/9999 val: 100%|██████████| 417/417 [00:22<00:00, 18.76it/s, loss=2.2571, accuracy=0.54005]\n",
      "Epoch 24/9999 train: 100%|██████████| 417/417 [02:20<00:00,  2.97it/s, loss=0.14444, accuracy=0.95861]\n",
      "Epoch 24/9999 val: 100%|██████████| 417/417 [00:22<00:00, 18.65it/s, loss=2.1616, accuracy=0.54845]\n",
      "Epoch 25/9999 train: 100%|██████████| 417/417 [02:07<00:00,  3.28it/s, loss=0.15084, accuracy=0.95771]\n",
      "Epoch 25/9999 val: 100%|██████████| 417/417 [00:22<00:00, 18.62it/s, loss=2.2229, accuracy=0.54725]\n",
      "Epoch 26/9999 train: 100%|██████████| 417/417 [02:19<00:00,  2.98it/s, loss=0.13832, accuracy=0.95951]\n",
      "Epoch 26/9999 val: 100%|██████████| 417/417 [00:22<00:00, 18.45it/s, loss=2.3061, accuracy=0.56346]\n",
      "Epoch 27/9999 train: 100%|██████████| 417/417 [02:16<00:00,  3.05it/s, loss=0.11399, accuracy=0.96971]\n",
      "Epoch 27/9999 val: 100%|██████████| 417/417 [00:22<00:00, 18.78it/s, loss=2.1726, accuracy=0.55146]\n",
      "Epoch 28/9999 train: 100%|██████████| 417/417 [02:18<00:00,  3.01it/s, loss=0.11794, accuracy=0.96641]\n",
      "Epoch 28/9999 val: 100%|██████████| 417/417 [00:22<00:00, 18.81it/s, loss=2.4983, accuracy=0.51455]\n",
      "Epoch 29/9999 train: 100%|██████████| 417/417 [02:16<00:00,  3.06it/s, loss=0.13468, accuracy=0.95891]\n",
      "Epoch 29/9999 val: 100%|██████████| 417/417 [00:22<00:00, 18.42it/s, loss=2.2117, accuracy=0.53705]\n"
     ]
    },
    {
     "name": "stdout",
     "output_type": "stream",
     "text": [
      "[CHECKPOINT] ../../data/finetuned_models/FGVC-Aircraft/resnet/resnet_FGVC-Aircraft_E30_occSOFTMAX.pth\n"
     ]
    },
    {
     "name": "stderr",
     "output_type": "stream",
     "text": [
      "Epoch 30/9999 train: 100%|██████████| 417/417 [02:17<00:00,  3.03it/s, loss=0.13969, accuracy=0.97001]\n",
      "Epoch 30/9999 val: 100%|██████████| 417/417 [00:22<00:00, 18.80it/s, loss=2.1381, accuracy=0.52985]\n",
      "Epoch 31/9999 train: 100%|██████████| 417/417 [02:11<00:00,  3.17it/s, loss=0.11669, accuracy=0.96491]\n",
      "Epoch 31/9999 val: 100%|██████████| 417/417 [00:22<00:00, 18.63it/s, loss=3.0114, accuracy=0.48155]\n",
      "Epoch 32/9999 train: 100%|██████████| 417/417 [02:12<00:00,  3.14it/s, loss=0.098831, accuracy=0.97091]\n",
      "Epoch 32/9999 val: 100%|██████████| 417/417 [00:22<00:00, 18.62it/s, loss=2.2676, accuracy=0.52835]\n",
      "Epoch 33/9999 train: 100%|██████████| 417/417 [02:19<00:00,  3.00it/s, loss=0.15807, accuracy=0.96911]\n",
      "Epoch 33/9999 val: 100%|██████████| 417/417 [00:22<00:00, 18.79it/s, loss=2.2151, accuracy=0.52205]\n",
      "Epoch 34/9999 train: 100%|██████████| 417/417 [02:21<00:00,  2.95it/s, loss=0.14471, accuracy=0.96461]\n",
      "Epoch 34/9999 val: 100%|██████████| 417/417 [00:22<00:00, 18.74it/s, loss=2.5473, accuracy=0.50885]\n",
      "Epoch 35/9999 train: 100%|██████████| 417/417 [02:11<00:00,  3.18it/s, loss=0.13245, accuracy=0.96371]\n",
      "Epoch 35/9999 val: 100%|██████████| 417/417 [00:22<00:00, 18.67it/s, loss=2.0845, accuracy=0.53375]\n",
      "Epoch 36/9999 train: 100%|██████████| 417/417 [02:19<00:00,  3.00it/s, loss=0.12003, accuracy=0.97271] \n",
      "Epoch 36/9999 val: 100%|██████████| 417/417 [00:22<00:00, 18.36it/s, loss=3.1013, accuracy=0.50135]\n",
      "Epoch 37/9999 train: 100%|██████████| 417/417 [02:18<00:00,  3.01it/s, loss=0.095356, accuracy=0.9793] \n",
      "Epoch 37/9999 val: 100%|██████████| 417/417 [00:22<00:00, 18.64it/s, loss=2.5145, accuracy=0.52925]\n",
      "Epoch 38/9999 train: 100%|██████████| 417/417 [02:11<00:00,  3.17it/s, loss=0.098664, accuracy=0.9772] \n",
      "Epoch 38/9999 val: 100%|██████████| 417/417 [00:22<00:00, 18.56it/s, loss=2.346, accuracy=0.52205] \n",
      "Epoch 39/9999 train: 100%|██████████| 417/417 [02:12<00:00,  3.14it/s, loss=0.092905, accuracy=0.9763] \n",
      "Epoch 39/9999 val: 100%|██████████| 417/417 [00:22<00:00, 18.62it/s, loss=2.275, accuracy=0.52325] \n"
     ]
    },
    {
     "name": "stdout",
     "output_type": "stream",
     "text": [
      "[CHECKPOINT] ../../data/finetuned_models/FGVC-Aircraft/resnet/resnet_FGVC-Aircraft_E40_occSOFTMAX.pth\n"
     ]
    },
    {
     "name": "stderr",
     "output_type": "stream",
     "text": [
      "Epoch 40/9999 train: 100%|██████████| 417/417 [02:30<00:00,  2.78it/s, loss=0.13693, accuracy=0.96401] \n",
      "Epoch 40/9999 val: 100%|██████████| 417/417 [00:22<00:00, 18.52it/s, loss=2.376, accuracy=0.51245] \n",
      "Epoch 41/9999 train: 100%|██████████| 417/417 [02:19<00:00,  3.00it/s, loss=0.11834, accuracy=0.97211]\n",
      "Epoch 41/9999 val: 100%|██████████| 417/417 [00:22<00:00, 18.73it/s, loss=2.8449, accuracy=0.51935]\n",
      "Epoch 42/9999 train: 100%|██████████| 417/417 [02:12<00:00,  3.14it/s, loss=0.085151, accuracy=0.9784] \n",
      "Epoch 42/9999 val: 100%|██████████| 417/417 [00:22<00:00, 18.80it/s, loss=2.5136, accuracy=0.51485]\n",
      "Epoch 43/9999 train: 100%|██████████| 417/417 [02:13<00:00,  3.12it/s, loss=0.10794, accuracy=0.97241]\n",
      "Epoch 43/9999 val: 100%|██████████| 417/417 [00:22<00:00, 18.70it/s, loss=2.7792, accuracy=0.54095]\n",
      "Epoch 44/9999 train: 100%|██████████| 417/417 [02:15<00:00,  3.08it/s, loss=0.19118, accuracy=0.95951]\n",
      "Epoch 44/9999 val: 100%|██████████| 417/417 [00:22<00:00, 18.78it/s, loss=2.7719, accuracy=0.52175]\n",
      "Epoch 45/9999 train: 100%|██████████| 417/417 [02:08<00:00,  3.25it/s, loss=0.1506, accuracy=0.96731] \n",
      "Epoch 45/9999 val: 100%|██████████| 417/417 [00:22<00:00, 18.68it/s, loss=2.6682, accuracy=0.52175]\n",
      "Epoch 46/9999 train: 100%|██████████| 417/417 [02:05<00:00,  3.32it/s, loss=0.098724, accuracy=0.9766] \n",
      "Epoch 46/9999 val: 100%|██████████| 417/417 [00:22<00:00, 18.64it/s, loss=2.6333, accuracy=0.51485]\n",
      "Epoch 47/9999 train: 100%|██████████| 417/417 [02:15<00:00,  3.08it/s, loss=0.087616, accuracy=0.9754] \n",
      "Epoch 47/9999 val: 100%|██████████| 417/417 [00:22<00:00, 18.70it/s, loss=2.4143, accuracy=0.49385]\n",
      "Epoch 48/9999 train: 100%|██████████| 417/417 [02:11<00:00,  3.18it/s, loss=0.087442, accuracy=0.9787] \n",
      "Epoch 48/9999 val: 100%|██████████| 417/417 [00:22<00:00, 18.63it/s, loss=2.7268, accuracy=0.51965]\n",
      "Epoch 49/9999 train: 100%|██████████| 417/417 [02:06<00:00,  3.31it/s, loss=0.086536, accuracy=0.9775] \n",
      "Epoch 49/9999 val: 100%|██████████| 417/417 [00:22<00:00, 18.54it/s, loss=2.5075, accuracy=0.52955]\n"
     ]
    },
    {
     "name": "stdout",
     "output_type": "stream",
     "text": [
      "[CHECKPOINT] ../../data/finetuned_models/FGVC-Aircraft/resnet/resnet_FGVC-Aircraft_E50_occSOFTMAX.pth\n"
     ]
    },
    {
     "name": "stderr",
     "output_type": "stream",
     "text": [
      "Epoch 50/9999 train: 100%|██████████| 417/417 [02:00<00:00,  3.46it/s, loss=0.091793, accuracy=0.97391]\n",
      "Epoch 50/9999 val: 100%|██████████| 417/417 [00:28<00:00, 14.39it/s, loss=2.2511, accuracy=0.54155]\n",
      "Epoch 51/9999 train: 100%|██████████| 417/417 [02:16<00:00,  3.05it/s, loss=0.1483, accuracy=0.96881] \n",
      "Epoch 51/9999 val: 100%|██████████| 417/417 [00:22<00:00, 18.69it/s, loss=2.3907, accuracy=0.53885]\n",
      "Epoch 52/9999 train: 100%|██████████| 417/417 [02:11<00:00,  3.17it/s, loss=0.074241, accuracy=0.9808] \n",
      "Epoch 52/9999 val: 100%|██████████| 417/417 [00:22<00:00, 18.62it/s, loss=2.5699, accuracy=0.52685]\n",
      "Epoch 53/9999 train: 100%|██████████| 417/417 [02:14<00:00,  3.11it/s, loss=0.076494, accuracy=0.9835] \n",
      "Epoch 53/9999 val: 100%|██████████| 417/417 [00:22<00:00, 18.73it/s, loss=2.6428, accuracy=0.46535]\n",
      "Epoch 54/9999 train: 100%|██████████| 417/417 [02:11<00:00,  3.17it/s, loss=0.072131, accuracy=0.9844] \n",
      "Epoch 54/9999 val: 100%|██████████| 417/417 [00:22<00:00, 18.67it/s, loss=3.1437, accuracy=0.47555]\n",
      "Epoch 55/9999 train: 100%|██████████| 417/417 [02:06<00:00,  3.29it/s, loss=0.081172, accuracy=0.9775] \n",
      "Epoch 55/9999 val: 100%|██████████| 417/417 [00:23<00:00, 17.61it/s, loss=2.9313, accuracy=0.50375]\n",
      "Epoch 56/9999 train: 100%|██████████| 417/417 [02:09<00:00,  3.22it/s, loss=0.068192, accuracy=0.9823] \n",
      "Epoch 56/9999 val: 100%|██████████| 417/417 [00:22<00:00, 18.23it/s, loss=2.2414, accuracy=0.53285]\n"
     ]
    },
    {
     "name": "stdout",
     "output_type": "stream",
     "text": [
      "Training complete in 148m 51s\n",
      "Best val Acc: 0.563456\n",
      "[CHECKPOINT] ../../data/finetuned_models/FGVC-Aircraft/resnet/resnet_FGVC-Aircraft_E10000_occSOFTMAX.pth\n"
     ]
    }
   ],
   "source": [
    "# inception model doesn't work.\n",
    "# models = ['resnet', 'alexnet', 'densenet', 'squeezenet', 'vgg']\n",
    "#\n",
    "# for name in models:\n",
    "#     print('[TRAINING]:', name)\n",
    "# finetune.CLASSIFIER_NAME = name\n",
    "importlib.reload(finetune)\n",
    "\n",
    "for classifier_name in ['resnet']:\n",
    "    for occlusion_name in ['0', 'GAUSSIAN', 'SOFTMAX']:\n",
    "        for dataset in finetune.DATASET_OPTIONS:\n",
    "            print('STARTING: model={} | dataset={} | occlusion={}'.format(classifier_name, dataset, occlusion_name))\n",
    "            finetune.CLASSIFIER_NAME = classifier_name\n",
    "            finetune.NUM_EPOCHS = None\n",
    "            finetune.FEATURE_EXTRACT = False # default\n",
    "            finetune.DATASET = dataset\n",
    "            finetune.OCCLUSION_NAME = occlusion_name\n",
    "            finetune.OPTIMIZER_NAME = 'adam' # default\n",
    "            # finetune.print_hypers() # shows params\n",
    "\n",
    "            # Initialize the model for this run\n",
    "            model_ft = finetune.initialize_model(_verbose=False)\n",
    "\n",
    "            model, hist, state = finetune.finetune_model(model_ft, checkpoint_save=10)\n",
    "\n",
    "            # Save the model after the last epoch\n",
    "            finetune.save_model(state)\n",
    "            del model_ft\n",
    "            del model\n",
    "            del hist\n",
    "            del state\n"
   ],
   "metadata": {
    "collapsed": false,
    "pycharm": {
     "name": "#%%\n"
    }
   }
  },
  {
   "cell_type": "code",
   "execution_count": 3,
   "outputs": [
    {
     "name": "stdout",
     "output_type": "stream",
     "text": [
      "STARTING: model=resnet | dataset=StanfordCars | occlusion=None\n"
     ]
    },
    {
     "name": "stderr",
     "output_type": "stream",
     "text": [
      "Epoch 0/9999 train: 100%|██████████| 1018/1018 [02:34<00:00,  6.61it/s, loss=4.7289, accuracy=0.089759]\n",
      "Epoch 0/9999 val: 100%|██████████| 503/503 [00:25<00:00, 19.57it/s, loss=3.7217, accuracy=0.26766]\n",
      "Epoch 1/9999 train: 100%|██████████| 1018/1018 [02:35<00:00,  6.54it/s, loss=3.4288, accuracy=0.36456]\n",
      "Epoch 1/9999 val: 100%|██████████| 503/503 [00:25<00:00, 19.91it/s, loss=2.5479, accuracy=0.51169]\n",
      "Epoch 2/9999 train: 100%|██████████| 1018/1018 [02:33<00:00,  6.63it/s, loss=2.4753, accuracy=0.58534]\n",
      "Epoch 2/9999 val: 100%|██████████| 503/503 [00:26<00:00, 19.01it/s, loss=1.7826, accuracy=0.63831]\n",
      "Epoch 3/9999 train: 100%|██████████| 1018/1018 [02:44<00:00,  6.17it/s, loss=1.7465, accuracy=0.73416]\n",
      "Epoch 3/9999 val: 100%|██████████| 503/503 [00:26<00:00, 18.66it/s, loss=1.3591, accuracy=0.7097] \n",
      "Epoch 4/9999 train: 100%|██████████| 1018/1018 [02:43<00:00,  6.22it/s, loss=1.2172, accuracy=0.82748]\n",
      "Epoch 4/9999 val: 100%|██████████| 503/503 [00:27<00:00, 18.35it/s, loss=1.05, accuracy=0.7597]   \n",
      "Epoch 5/9999 train: 100%|██████████| 1018/1018 [02:58<00:00,  5.69it/s, loss=0.83283, accuracy=0.8917] \n",
      "Epoch 5/9999 val: 100%|██████████| 503/503 [00:29<00:00, 16.93it/s, loss=0.92578, accuracy=0.78333]\n",
      "Epoch 6/9999 train: 100%|██████████| 1018/1018 [03:15<00:00,  5.20it/s, loss=0.59931, accuracy=0.92412]\n",
      "Epoch 6/9999 val: 100%|██████████| 503/503 [00:28<00:00, 17.80it/s, loss=0.83431, accuracy=0.79353]\n",
      "Epoch 7/9999 train: 100%|██████████| 1018/1018 [02:50<00:00,  5.98it/s, loss=0.43317, accuracy=0.94745]\n",
      "Epoch 7/9999 val: 100%|██████████| 503/503 [00:28<00:00, 17.95it/s, loss=0.76132, accuracy=0.80124]\n",
      "Epoch 8/9999 train: 100%|██████████| 1018/1018 [02:52<00:00,  5.89it/s, loss=0.3146, accuracy=0.96353] \n",
      "Epoch 8/9999 val: 100%|██████████| 503/503 [00:45<00:00, 11.00it/s, loss=0.72774, accuracy=0.81194]\n",
      "Epoch 9/9999 train: 100%|██████████| 1018/1018 [03:36<00:00,  4.70it/s, loss=0.23219, accuracy=0.97421]\n",
      "Epoch 9/9999 val: 100%|██████████| 503/503 [00:28<00:00, 17.45it/s, loss=0.73429, accuracy=0.80721]\n"
     ]
    },
    {
     "name": "stdout",
     "output_type": "stream",
     "text": [
      "[CHECKPOINT] ../../data/finetuned_models/StanfordCars/resnet/resnet_StanfordCars_E10.pth\n"
     ]
    },
    {
     "name": "stderr",
     "output_type": "stream",
     "text": [
      "Epoch 10/9999 train: 100%|██████████| 1018/1018 [02:48<00:00,  6.03it/s, loss=0.17903, accuracy=0.98134]\n",
      "Epoch 10/9999 val: 100%|██████████| 503/503 [00:40<00:00, 12.43it/s, loss=0.70268, accuracy=0.81592]\n",
      "Epoch 11/9999 train: 100%|██████████| 1018/1018 [03:07<00:00,  5.43it/s, loss=0.14468, accuracy=0.98391]\n",
      "Epoch 11/9999 val: 100%|██████████| 503/503 [00:29<00:00, 16.82it/s, loss=0.70953, accuracy=0.81269]\n",
      "Epoch 12/9999 train: 100%|██████████| 1018/1018 [03:09<00:00,  5.37it/s, loss=0.12434, accuracy=0.98404]\n",
      "Epoch 12/9999 val: 100%|██████████| 503/503 [00:36<00:00, 13.67it/s, loss=0.72722, accuracy=0.80995]\n",
      "Epoch 13/9999 train: 100%|██████████| 1018/1018 [03:06<00:00,  5.46it/s, loss=0.10483, accuracy=0.98649]\n",
      "Epoch 13/9999 val: 100%|██████████| 503/503 [00:29<00:00, 16.92it/s, loss=0.74369, accuracy=0.80423]\n",
      "Epoch 14/9999 train: 100%|██████████| 1018/1018 [03:07<00:00,  5.43it/s, loss=0.09218, accuracy=0.98833] \n",
      "Epoch 14/9999 val: 100%|██████████| 503/503 [00:27<00:00, 18.06it/s, loss=0.74018, accuracy=0.80473]\n",
      "Epoch 15/9999 train: 100%|██████████| 1018/1018 [03:10<00:00,  5.33it/s, loss=0.079347, accuracy=0.98919]\n",
      "Epoch 15/9999 val: 100%|██████████| 503/503 [00:43<00:00, 11.45it/s, loss=0.73841, accuracy=0.80373]\n",
      "Epoch 16/9999 train: 100%|██████████| 1018/1018 [03:26<00:00,  4.92it/s, loss=0.070487, accuracy=0.99214]\n",
      "Epoch 16/9999 val: 100%|██████████| 503/503 [00:27<00:00, 18.07it/s, loss=0.78306, accuracy=0.79801]\n",
      "Epoch 17/9999 train: 100%|██████████| 1018/1018 [03:14<00:00,  5.23it/s, loss=0.063723, accuracy=0.99312]\n",
      "Epoch 17/9999 val: 100%|██████████| 503/503 [00:28<00:00, 17.90it/s, loss=0.78606, accuracy=0.8]    \n",
      "Epoch 18/9999 train: 100%|██████████| 1018/1018 [03:26<00:00,  4.93it/s, loss=0.061664, accuracy=0.99312]\n",
      "Epoch 18/9999 val: 100%|██████████| 503/503 [00:51<00:00,  9.81it/s, loss=0.79072, accuracy=0.79751]\n",
      "Epoch 19/9999 train: 100%|██████████| 1018/1018 [03:22<00:00,  5.02it/s, loss=0.059625, accuracy=0.9903] \n",
      "Epoch 19/9999 val: 100%|██████████| 503/503 [00:28<00:00, 17.57it/s, loss=0.81922, accuracy=0.79801]\n"
     ]
    },
    {
     "name": "stdout",
     "output_type": "stream",
     "text": [
      "[CHECKPOINT] ../../data/finetuned_models/StanfordCars/resnet/resnet_StanfordCars_E20.pth\n"
     ]
    },
    {
     "name": "stderr",
     "output_type": "stream",
     "text": [
      "Epoch 20/9999 train: 100%|██████████| 1018/1018 [02:46<00:00,  6.13it/s, loss=0.052087, accuracy=0.9919] \n",
      "Epoch 20/9999 val: 100%|██████████| 503/503 [00:27<00:00, 18.19it/s, loss=0.75516, accuracy=0.80622]\n",
      "Epoch 21/9999 train: 100%|██████████| 1018/1018 [03:05<00:00,  5.49it/s, loss=0.05259, accuracy=0.99226] \n",
      "Epoch 21/9999 val: 100%|██████████| 503/503 [00:27<00:00, 18.57it/s, loss=0.79481, accuracy=0.80124]\n",
      "Epoch 22/9999 train: 100%|██████████| 1018/1018 [03:10<00:00,  5.33it/s, loss=0.047558, accuracy=0.99361]\n",
      "Epoch 22/9999 val: 100%|██████████| 503/503 [00:27<00:00, 18.14it/s, loss=0.80098, accuracy=0.80995]\n",
      "Epoch 23/9999 train: 100%|██████████| 1018/1018 [03:12<00:00,  5.30it/s, loss=0.044485, accuracy=0.99312]\n",
      "Epoch 23/9999 val: 100%|██████████| 503/503 [00:28<00:00, 17.93it/s, loss=0.79874, accuracy=0.79577]\n",
      "Epoch 24/9999 train: 100%|██████████| 1018/1018 [03:17<00:00,  5.15it/s, loss=0.040804, accuracy=0.99447]\n",
      "Epoch 24/9999 val: 100%|██████████| 503/503 [00:28<00:00, 17.84it/s, loss=0.87303, accuracy=0.7898] \n",
      "Epoch 25/9999 train: 100%|██████████| 1018/1018 [03:33<00:00,  4.76it/s, loss=0.040099, accuracy=0.99374]\n",
      "Epoch 25/9999 val: 100%|██████████| 503/503 [00:28<00:00, 17.61it/s, loss=0.85469, accuracy=0.79328]\n",
      "Epoch 26/9999 train: 100%|██████████| 1018/1018 [04:08<00:00,  4.10it/s, loss=0.039024, accuracy=0.99288]\n",
      "Epoch 26/9999 val: 100%|██████████| 503/503 [00:29<00:00, 17.24it/s, loss=0.86055, accuracy=0.79975]\n",
      "Epoch 27/9999 train: 100%|██████████| 1018/1018 [03:32<00:00,  4.79it/s, loss=0.038831, accuracy=0.99312]\n",
      "Epoch 27/9999 val: 100%|██████████| 503/503 [00:49<00:00, 10.20it/s, loss=0.84312, accuracy=0.79602]\n",
      "Epoch 28/9999 train: 100%|██████████| 1018/1018 [03:23<00:00,  5.01it/s, loss=0.036715, accuracy=0.99349]\n",
      "Epoch 28/9999 val: 100%|██████████| 503/503 [00:28<00:00, 17.91it/s, loss=0.864, accuracy=0.79776]  \n",
      "Epoch 29/9999 train: 100%|██████████| 1018/1018 [03:52<00:00,  4.38it/s, loss=0.034658, accuracy=0.99337]\n",
      "Epoch 29/9999 val: 100%|██████████| 503/503 [00:28<00:00, 17.48it/s, loss=0.84089, accuracy=0.8005] \n"
     ]
    },
    {
     "name": "stdout",
     "output_type": "stream",
     "text": [
      "[CHECKPOINT] ../../data/finetuned_models/StanfordCars/resnet/resnet_StanfordCars_E30.pth\n"
     ]
    },
    {
     "name": "stderr",
     "output_type": "stream",
     "text": [
      "Epoch 30/9999 train: 100%|██████████| 1018/1018 [03:14<00:00,  5.22it/s, loss=0.033942, accuracy=0.99411]\n",
      "Epoch 30/9999 val: 100%|██████████| 503/503 [00:44<00:00, 11.28it/s, loss=0.81634, accuracy=0.80771]\n",
      "Epoch 31/9999 train: 100%|██████████| 1018/1018 [03:19<00:00,  5.10it/s, loss=0.036745, accuracy=0.99239]\n",
      "Epoch 31/9999 val: 100%|██████████| 503/503 [00:26<00:00, 18.69it/s, loss=0.89816, accuracy=0.78682]\n",
      "Epoch 32/9999 train: 100%|██████████| 1018/1018 [02:47<00:00,  6.08it/s, loss=0.028398, accuracy=0.99472]\n",
      "Epoch 32/9999 val: 100%|██████████| 503/503 [00:48<00:00, 10.37it/s, loss=0.81003, accuracy=0.80746]\n",
      "Epoch 33/9999 train: 100%|██████████| 1018/1018 [03:07<00:00,  5.42it/s, loss=0.027992, accuracy=0.99447]\n",
      "Epoch 33/9999 val: 100%|██████████| 503/503 [00:27<00:00, 18.24it/s, loss=0.82832, accuracy=0.79975]\n",
      "Epoch 34/9999 train: 100%|██████████| 1018/1018 [03:10<00:00,  5.35it/s, loss=0.040438, accuracy=0.9919] \n",
      "Epoch 34/9999 val: 100%|██████████| 503/503 [00:27<00:00, 18.26it/s, loss=0.86227, accuracy=0.79677]\n",
      "Epoch 35/9999 train: 100%|██████████| 1018/1018 [03:08<00:00,  5.39it/s, loss=0.02504, accuracy=0.99497] \n",
      "Epoch 35/9999 val: 100%|██████████| 503/503 [00:31<00:00, 16.04it/s, loss=0.85364, accuracy=0.80398]\n",
      "Epoch 36/9999 train: 100%|██████████| 1018/1018 [03:12<00:00,  5.28it/s, loss=0.026391, accuracy=0.99447]\n",
      "Epoch 36/9999 val: 100%|██████████| 503/503 [00:53<00:00,  9.45it/s, loss=0.91871, accuracy=0.78607]\n",
      "Epoch 37/9999 train: 100%|██████████| 1018/1018 [03:30<00:00,  4.84it/s, loss=0.027781, accuracy=0.9957] \n",
      "Epoch 37/9999 val: 100%|██████████| 503/503 [00:28<00:00, 17.95it/s, loss=0.89131, accuracy=0.79154]\n",
      "Epoch 38/9999 train: 100%|██████████| 1018/1018 [03:47<00:00,  4.48it/s, loss=0.037385, accuracy=0.99165]\n",
      "Epoch 38/9999 val: 100%|██████████| 503/503 [00:28<00:00, 17.82it/s, loss=0.87492, accuracy=0.79254]\n",
      "Epoch 39/9999 train: 100%|██████████| 1018/1018 [03:24<00:00,  4.98it/s, loss=0.033675, accuracy=0.99325]\n",
      "Epoch 39/9999 val: 100%|██████████| 503/503 [00:49<00:00, 10.16it/s, loss=0.92893, accuracy=0.78856]\n"
     ]
    },
    {
     "name": "stdout",
     "output_type": "stream",
     "text": [
      "[CHECKPOINT] ../../data/finetuned_models/StanfordCars/resnet/resnet_StanfordCars_E40.pth\n"
     ]
    },
    {
     "name": "stderr",
     "output_type": "stream",
     "text": [
      "Epoch 40/9999 train: 100%|██████████| 1018/1018 [03:07<00:00,  5.44it/s, loss=0.023861, accuracy=0.9946] \n",
      "Epoch 40/9999 val: 100%|██████████| 503/503 [00:27<00:00, 18.62it/s, loss=0.89448, accuracy=0.79478]\n"
     ]
    },
    {
     "name": "stdout",
     "output_type": "stream",
     "text": [
      "Training complete in 152m 55s\n",
      "Best val Acc: 0.815920\n",
      "[CHECKPOINT] ../../data/finetuned_models/StanfordCars/resnet/resnet_StanfordCars_E10000.pth\n",
      "STARTING: model=resnet | dataset=FGVC-Aircraft | occlusion=None\n"
     ]
    },
    {
     "name": "stderr",
     "output_type": "stream",
     "text": [
      "Epoch 0/9999 train: 100%|██████████| 417/417 [01:08<00:00,  6.06it/s, loss=4.1999, accuracy=0.10108] \n",
      "Epoch 0/9999 val: 100%|██████████| 417/417 [00:30<00:00, 13.76it/s, loss=3.3897, accuracy=0.21572]\n",
      "Epoch 1/9999 train: 100%|██████████| 417/417 [01:31<00:00,  4.54it/s, loss=3.1694, accuracy=0.31974]\n",
      "Epoch 1/9999 val: 100%|██████████| 417/417 [00:23<00:00, 17.94it/s, loss=2.6396, accuracy=0.36874]\n",
      "Epoch 2/9999 train: 100%|██████████| 417/417 [01:34<00:00,  4.42it/s, loss=2.4785, accuracy=0.4907] \n",
      "Epoch 2/9999 val: 100%|██████████| 417/417 [00:23<00:00, 17.77it/s, loss=2.18, accuracy=0.44224]  \n",
      "Epoch 3/9999 train: 100%|██████████| 417/417 [01:14<00:00,  5.60it/s, loss=1.9345, accuracy=0.62627]\n",
      "Epoch 3/9999 val: 100%|██████████| 417/417 [00:41<00:00, 10.04it/s, loss=1.8784, accuracy=0.49625]\n",
      "Epoch 4/9999 train: 100%|██████████| 417/417 [01:09<00:00,  5.97it/s, loss=1.5034, accuracy=0.72825]\n",
      "Epoch 4/9999 val: 100%|██████████| 417/417 [00:27<00:00, 14.95it/s, loss=1.6391, accuracy=0.55386]\n",
      "Epoch 5/9999 train: 100%|██████████| 417/417 [01:32<00:00,  4.53it/s, loss=1.1589, accuracy=0.80804]\n",
      "Epoch 5/9999 val: 100%|██████████| 417/417 [00:23<00:00, 17.87it/s, loss=1.526, accuracy=0.57996] \n",
      "Epoch 6/9999 train: 100%|██████████| 417/417 [01:31<00:00,  4.55it/s, loss=0.87415, accuracy=0.87493]\n",
      "Epoch 6/9999 val: 100%|██████████| 417/417 [00:23<00:00, 17.92it/s, loss=1.435, accuracy=0.60036] \n",
      "Epoch 7/9999 train: 100%|██████████| 417/417 [01:08<00:00,  6.07it/s, loss=0.63672, accuracy=0.91932]\n",
      "Epoch 7/9999 val: 100%|██████████| 417/417 [00:28<00:00, 14.85it/s, loss=1.4046, accuracy=0.60486]\n",
      "Epoch 8/9999 train: 100%|██████████| 417/417 [01:28<00:00,  4.71it/s, loss=0.46817, accuracy=0.95171]\n",
      "Epoch 8/9999 val: 100%|██████████| 417/417 [00:23<00:00, 17.83it/s, loss=1.3746, accuracy=0.61236]\n",
      "Epoch 9/9999 train: 100%|██████████| 417/417 [01:28<00:00,  4.69it/s, loss=0.36733, accuracy=0.96911]\n",
      "Epoch 9/9999 val: 100%|██████████| 417/417 [00:23<00:00, 17.86it/s, loss=1.3434, accuracy=0.61836]\n"
     ]
    },
    {
     "name": "stdout",
     "output_type": "stream",
     "text": [
      "[CHECKPOINT] ../../data/finetuned_models/FGVC-Aircraft/resnet/resnet_FGVC-Aircraft_E10.pth\n"
     ]
    },
    {
     "name": "stderr",
     "output_type": "stream",
     "text": [
      "Epoch 10/9999 train: 100%|██████████| 417/417 [01:07<00:00,  6.22it/s, loss=0.26221, accuracy=0.9835] \n",
      "Epoch 10/9999 val: 100%|██████████| 417/417 [00:32<00:00, 12.90it/s, loss=1.3321, accuracy=0.62886]\n",
      "Epoch 11/9999 train: 100%|██████████| 417/417 [01:21<00:00,  5.09it/s, loss=0.19174, accuracy=0.9883] \n",
      "Epoch 11/9999 val: 100%|██████████| 417/417 [00:22<00:00, 18.23it/s, loss=1.3539, accuracy=0.62226]\n",
      "Epoch 12/9999 train: 100%|██████████| 417/417 [01:08<00:00,  6.10it/s, loss=0.16163, accuracy=0.9892] \n",
      "Epoch 12/9999 val: 100%|██████████| 417/417 [00:40<00:00, 10.38it/s, loss=1.3549, accuracy=0.62436]\n",
      "Epoch 13/9999 train: 100%|██████████| 417/417 [01:20<00:00,  5.19it/s, loss=0.11544, accuracy=0.9928] \n",
      "Epoch 13/9999 val: 100%|██████████| 417/417 [00:23<00:00, 17.98it/s, loss=1.3659, accuracy=0.63696]\n",
      "Epoch 14/9999 train: 100%|██████████| 417/417 [01:25<00:00,  4.86it/s, loss=0.098731, accuracy=0.9928] \n",
      "Epoch 14/9999 val: 100%|██████████| 417/417 [00:23<00:00, 17.99it/s, loss=1.4205, accuracy=0.61926]\n",
      "Epoch 15/9999 train: 100%|██████████| 417/417 [01:08<00:00,  6.07it/s, loss=0.085746, accuracy=0.994]  \n",
      "Epoch 15/9999 val: 100%|██████████| 417/417 [00:33<00:00, 12.44it/s, loss=1.5395, accuracy=0.60606]\n",
      "Epoch 16/9999 train: 100%|██████████| 417/417 [01:30<00:00,  4.59it/s, loss=0.077608, accuracy=0.9931] \n",
      "Epoch 16/9999 val: 100%|██████████| 417/417 [00:24<00:00, 16.87it/s, loss=1.4402, accuracy=0.62166]\n",
      "Epoch 17/9999 train: 100%|██████████| 417/417 [01:27<00:00,  4.75it/s, loss=0.067928, accuracy=0.9949] \n",
      "Epoch 17/9999 val: 100%|██████████| 417/417 [00:24<00:00, 17.00it/s, loss=1.4674, accuracy=0.61626]\n",
      "Epoch 18/9999 train: 100%|██████████| 417/417 [01:32<00:00,  4.50it/s, loss=0.06427, accuracy=0.9952]  \n",
      "Epoch 18/9999 val: 100%|██████████| 417/417 [00:44<00:00,  9.33it/s, loss=1.4824, accuracy=0.62076]\n",
      "Epoch 19/9999 train: 100%|██████████| 417/417 [01:27<00:00,  4.76it/s, loss=0.062021, accuracy=0.9934] \n",
      "Epoch 19/9999 val: 100%|██████████| 417/417 [00:24<00:00, 17.02it/s, loss=1.4883, accuracy=0.61896]\n"
     ]
    },
    {
     "name": "stdout",
     "output_type": "stream",
     "text": [
      "[CHECKPOINT] ../../data/finetuned_models/FGVC-Aircraft/resnet/resnet_FGVC-Aircraft_E20.pth\n"
     ]
    },
    {
     "name": "stderr",
     "output_type": "stream",
     "text": [
      "Epoch 20/9999 train: 100%|██████████| 417/417 [01:41<00:00,  4.12it/s, loss=0.046082, accuracy=0.9967] \n",
      "Epoch 20/9999 val: 100%|██████████| 417/417 [00:23<00:00, 17.66it/s, loss=1.4919, accuracy=0.62046]\n",
      "Epoch 21/9999 train: 100%|██████████| 417/417 [01:16<00:00,  5.42it/s, loss=0.06059, accuracy=0.9919]  \n",
      "Epoch 21/9999 val: 100%|██████████| 417/417 [00:41<00:00, 10.17it/s, loss=1.5391, accuracy=0.61116]\n",
      "Epoch 22/9999 train: 100%|██████████| 417/417 [01:09<00:00,  6.04it/s, loss=0.047459, accuracy=0.9937] \n",
      "Epoch 22/9999 val: 100%|██████████| 417/417 [00:30<00:00, 13.64it/s, loss=1.4944, accuracy=0.62346]\n",
      "Epoch 23/9999 train: 100%|██████████| 417/417 [01:27<00:00,  4.75it/s, loss=0.03607, accuracy=0.9973]  \n",
      "Epoch 23/9999 val: 100%|██████████| 417/417 [00:24<00:00, 16.87it/s, loss=1.5671, accuracy=0.61836]\n",
      "Epoch 24/9999 train: 100%|██████████| 417/417 [01:31<00:00,  4.58it/s, loss=0.056166, accuracy=0.9919] \n",
      "Epoch 24/9999 val: 100%|██████████| 417/417 [00:23<00:00, 17.93it/s, loss=1.6798, accuracy=0.58716]\n",
      "Epoch 25/9999 train: 100%|██████████| 417/417 [01:35<00:00,  4.39it/s, loss=0.031332, accuracy=0.9967] \n",
      "Epoch 25/9999 val: 100%|██████████| 417/417 [00:22<00:00, 18.65it/s, loss=1.5864, accuracy=0.61446]\n",
      "Epoch 26/9999 train: 100%|██████████| 417/417 [01:07<00:00,  6.19it/s, loss=0.038616, accuracy=0.9952] \n",
      "Epoch 26/9999 val: 100%|██████████| 417/417 [00:25<00:00, 16.33it/s, loss=1.6528, accuracy=0.60306]\n",
      "Epoch 27/9999 train: 100%|██████████| 417/417 [01:28<00:00,  4.71it/s, loss=0.029635, accuracy=0.9964] \n",
      "Epoch 27/9999 val: 100%|██████████| 417/417 [00:22<00:00, 18.55it/s, loss=1.7441, accuracy=0.58986]\n",
      "Epoch 28/9999 train: 100%|██████████| 417/417 [01:22<00:00,  5.04it/s, loss=0.035809, accuracy=0.9958] \n",
      "Epoch 28/9999 val: 100%|██████████| 417/417 [00:22<00:00, 18.58it/s, loss=1.5569, accuracy=0.62856]\n",
      "Epoch 29/9999 train: 100%|██████████| 417/417 [01:08<00:00,  6.11it/s, loss=0.020018, accuracy=0.9985] \n",
      "Epoch 29/9999 val: 100%|██████████| 417/417 [00:39<00:00, 10.54it/s, loss=1.6254, accuracy=0.61776]\n"
     ]
    },
    {
     "name": "stdout",
     "output_type": "stream",
     "text": [
      "[CHECKPOINT] ../../data/finetuned_models/FGVC-Aircraft/resnet/resnet_FGVC-Aircraft_E30.pth\n"
     ]
    },
    {
     "name": "stderr",
     "output_type": "stream",
     "text": [
      "Epoch 30/9999 train: 100%|██████████| 417/417 [01:07<00:00,  6.18it/s, loss=0.049474, accuracy=0.9919] \n",
      "Epoch 30/9999 val: 100%|██████████| 417/417 [00:28<00:00, 14.57it/s, loss=1.7088, accuracy=0.58926]\n",
      "Epoch 31/9999 train: 100%|██████████| 417/417 [01:25<00:00,  4.88it/s, loss=0.037019, accuracy=0.9952] \n",
      "Epoch 31/9999 val: 100%|██████████| 417/417 [00:22<00:00, 18.69it/s, loss=1.6667, accuracy=0.60636]\n",
      "Epoch 32/9999 train: 100%|██████████| 417/417 [01:26<00:00,  4.81it/s, loss=0.031142, accuracy=0.9958] \n",
      "Epoch 32/9999 val: 100%|██████████| 417/417 [00:22<00:00, 18.47it/s, loss=1.704, accuracy=0.60666] \n",
      "Epoch 33/9999 train: 100%|██████████| 417/417 [01:22<00:00,  5.04it/s, loss=0.031157, accuracy=0.9955] \n",
      "Epoch 33/9999 val: 100%|██████████| 417/417 [00:40<00:00, 10.25it/s, loss=1.6036, accuracy=0.62616]\n",
      "Epoch 34/9999 train: 100%|██████████| 417/417 [01:09<00:00,  5.97it/s, loss=0.033221, accuracy=0.9949] \n",
      "Epoch 34/9999 val: 100%|██████████| 417/417 [00:30<00:00, 13.81it/s, loss=1.6831, accuracy=0.61266]\n",
      "Epoch 35/9999 train: 100%|██████████| 417/417 [01:36<00:00,  4.34it/s, loss=0.034093, accuracy=0.9937] \n",
      "Epoch 35/9999 val: 100%|██████████| 417/417 [00:23<00:00, 17.79it/s, loss=1.7891, accuracy=0.60066]\n",
      "Epoch 36/9999 train: 100%|██████████| 417/417 [01:36<00:00,  4.30it/s, loss=0.023762, accuracy=0.9964] \n",
      "Epoch 36/9999 val: 100%|██████████| 417/417 [00:23<00:00, 17.73it/s, loss=1.7375, accuracy=0.60666]\n",
      "Epoch 37/9999 train: 100%|██████████| 417/417 [01:34<00:00,  4.42it/s, loss=0.01771, accuracy=0.9982]  \n",
      "Epoch 37/9999 val: 100%|██████████| 417/417 [00:22<00:00, 18.38it/s, loss=1.6472, accuracy=0.62076]\n",
      "Epoch 38/9999 train: 100%|██████████| 417/417 [01:08<00:00,  6.07it/s, loss=0.020575, accuracy=0.997]  \n",
      "Epoch 38/9999 val: 100%|██████████| 417/417 [00:33<00:00, 12.60it/s, loss=1.694, accuracy=0.61296] \n",
      "Epoch 39/9999 train: 100%|██████████| 417/417 [01:27<00:00,  4.74it/s, loss=0.042492, accuracy=0.9928] \n",
      "Epoch 39/9999 val: 100%|██████████| 417/417 [00:23<00:00, 18.01it/s, loss=1.867, accuracy=0.59616] \n"
     ]
    },
    {
     "name": "stdout",
     "output_type": "stream",
     "text": [
      "[CHECKPOINT] ../../data/finetuned_models/FGVC-Aircraft/resnet/resnet_FGVC-Aircraft_E40.pth\n"
     ]
    },
    {
     "name": "stderr",
     "output_type": "stream",
     "text": [
      "Epoch 40/9999 train: 100%|██████████| 417/417 [01:37<00:00,  4.29it/s, loss=0.042182, accuracy=0.9931] \n",
      "Epoch 40/9999 val: 100%|██████████| 417/417 [00:22<00:00, 18.16it/s, loss=1.7545, accuracy=0.60666]\n",
      "Epoch 41/9999 train: 100%|██████████| 417/417 [01:20<00:00,  5.19it/s, loss=0.023011, accuracy=0.997]  \n",
      "Epoch 41/9999 val: 100%|██████████| 417/417 [00:41<00:00, 10.13it/s, loss=1.7517, accuracy=0.60186]\n",
      "Epoch 42/9999 train: 100%|██████████| 417/417 [01:09<00:00,  6.03it/s, loss=0.02378, accuracy=0.9949]  \n",
      "Epoch 42/9999 val: 100%|██████████| 417/417 [00:34<00:00, 12.16it/s, loss=1.8454, accuracy=0.59316]\n",
      "Epoch 43/9999 train: 100%|██████████| 417/417 [01:28<00:00,  4.71it/s, loss=0.041902, accuracy=0.991]  \n",
      "Epoch 43/9999 val: 100%|██████████| 417/417 [00:23<00:00, 17.72it/s, loss=1.9135, accuracy=0.58206]\n"
     ]
    },
    {
     "name": "stdout",
     "output_type": "stream",
     "text": [
      "Training complete in 81m 13s\n",
      "Best val Acc: 0.636964\n",
      "[CHECKPOINT] ../../data/finetuned_models/FGVC-Aircraft/resnet/resnet_FGVC-Aircraft_E10000.pth\n"
     ]
    }
   ],
   "source": [
    "\n",
    "importlib.reload(finetune)\n",
    "\n",
    "for classifier_name in ['resnet']:\n",
    "    for occlusion_name in [None]:\n",
    "        for dataset in finetune.DATASET_OPTIONS:\n",
    "            print('STARTING: model={} | dataset={} | occlusion={}'.format(classifier_name, dataset, occlusion_name))\n",
    "            finetune.CLASSIFIER_NAME = classifier_name\n",
    "            finetune.NUM_EPOCHS = None\n",
    "            finetune.FEATURE_EXTRACT = False # default\n",
    "            finetune.DATASET = dataset\n",
    "            finetune.OCCLUSION_NAME = occlusion_name\n",
    "            finetune.OPTIMIZER_NAME = 'adam' # default\n",
    "            # finetune.print_hypers() # shows params\n",
    "\n",
    "            # Initialize the model for this run\n",
    "            model_ft = finetune.initialize_model(_verbose=False)\n",
    "\n",
    "            model, hist, state = finetune.finetune_model(model_ft, checkpoint_save=10)\n",
    "\n",
    "            # Save the model after the last epoch\n",
    "            finetune.save_model(state)\n",
    "            del model_ft\n",
    "            del model\n",
    "            del hist\n",
    "            del state"
   ],
   "metadata": {
    "collapsed": false,
    "pycharm": {
     "name": "#%%\n"
    }
   }
  },
  {
   "cell_type": "code",
   "execution_count": null,
   "outputs": [],
   "source": [
    "model_save_path = finetune.format_model_path('resnet',\n",
    "                           'FGVC-Aircraft',\n",
    "                           30)\n",
    "\n",
    "checkpoint = finetune.load_checkpoint(model_save_path)\n",
    "\n",
    "train_acc_history, train_loss_history, val_acc_history = finetune.get_information_from_checkpoint(checkpoint, plot=True)"
   ],
   "metadata": {
    "collapsed": false,
    "pycharm": {
     "name": "#%%\n"
    }
   }
  },
  {
   "cell_type": "code",
   "execution_count": null,
   "outputs": [],
   "source": [
    "optimizer_state_dict = checkpoint['optimizer_state_dict']\n",
    "finetune.NUM_EPOCHS = 10\n",
    "checkpoint_model = finetune.get_model_architecture('resnet')\n",
    "checkpoint_model.load_state_dict(checkpoint['model_state_dict'])\n",
    "\n",
    "test_model, hist, state = finetune.finetune_model(checkpoint_model,\n",
    "                                                  'adam',\n",
    "                                                  optimizer_state_dict=optimizer_state_dict,\n",
    "                                                  checkpoint_save=5,\n",
    "                                                  is_retrain=True)\n"
   ],
   "metadata": {
    "collapsed": false,
    "pycharm": {
     "name": "#%%\n"
    }
   }
  },
  {
   "cell_type": "code",
   "execution_count": null,
   "outputs": [],
   "source": [
    "finetune.save_model(state)"
   ],
   "metadata": {
    "collapsed": false,
    "pycharm": {
     "name": "#%%\n"
    }
   }
  }
 ],
 "metadata": {
  "kernelspec": {
   "display_name": "Python 3",
   "language": "python",
   "name": "python3"
  },
  "language_info": {
   "codemirror_mode": {
    "name": "ipython",
    "version": 2
   },
   "file_extension": ".py",
   "mimetype": "text/x-python",
   "name": "python",
   "nbconvert_exporter": "python",
   "pygments_lexer": "ipython2",
   "version": "2.7.6"
  }
 },
 "nbformat": 4,
 "nbformat_minor": 0
}