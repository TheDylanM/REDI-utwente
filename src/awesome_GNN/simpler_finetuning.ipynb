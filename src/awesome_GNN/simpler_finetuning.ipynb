{
 "cells": [
  {
   "cell_type": "code",
   "execution_count": 1,
   "metadata": {
    "collapsed": false,
    "jupyter": {
     "outputs_hidden": false
    },
    "pycharm": {
     "name": "#%%\n"
    }
   },
   "outputs": [],
   "source": [
    "%matplotlib inline\n",
    "# not sure if necessary"
   ]
  },
  {
   "cell_type": "code",
   "execution_count": 2,
   "metadata": {
    "collapsed": false,
    "jupyter": {
     "outputs_hidden": false
    },
    "pycharm": {
     "name": "#%%\n"
    }
   },
   "outputs": [],
   "source": [
    "import finetune\n",
    "import importlib\n",
    "import torch"
   ]
  },
  {
   "cell_type": "code",
   "execution_count": 3,
   "metadata": {
    "collapsed": false,
    "jupyter": {
     "outputs_hidden": false
    },
    "pycharm": {
     "name": "#%%\n"
    }
   },
   "outputs": [],
   "source": [
    "# run this cell when you change stuff in the finetune module, and don't want to restart the notebook's kernel.\n",
    "importlib.reload(finetune)\n",
    "finetune.structure_checkpoints()  # If this prints 'Cannot safely create ...', it means that the folder probably already exists"
   ]
  },
  {
   "cell_type": "code",
   "execution_count": null,
   "outputs": [
    {
     "name": "stdout",
     "output_type": "stream",
     "text": [
      "STARTING: model=densenet | dataset=StanfordCars | occlusion=0\n"
     ]
    },
    {
     "name": "stderr",
     "output_type": "stream",
     "text": [
      "Downloading: \"https://download.pytorch.org/models/densenet121-a639ec97.pth\" to /home/matteo/.cache/torch/hub/checkpoints/densenet121-a639ec97.pth\n"
     ]
    },
    {
     "data": {
      "text/plain": "  0%|          | 0.00/30.8M [00:00<?, ?B/s]",
      "application/vnd.jupyter.widget-view+json": {
       "version_major": 2,
       "version_minor": 0,
       "model_id": "27490d6a64ef4c8ba0bac6e119d1bf15"
      }
     },
     "metadata": {},
     "output_type": "display_data"
    },
    {
     "name": "stderr",
     "output_type": "stream",
     "text": [
      "Epoch 0/19 train: 100%|██████████| 1018/1018 [08:27<00:00,  2.01it/s, loss=5.2832, accuracy=0.0056483]\n",
      "Epoch 0/19 val: 100%|██████████| 503/503 [00:56<00:00,  8.89it/s, loss=5.2922, accuracy=0.0049751]\n",
      "Epoch 1/19 train: 100%|██████████| 1018/1018 [08:06<00:00,  2.09it/s, loss=4.7134, accuracy=0.040029]\n",
      "Epoch 1/19 val: 100%|██████████| 503/503 [00:57<00:00,  8.79it/s, loss=3.9473, accuracy=0.095522]\n",
      "Epoch 2/19 train: 100%|██████████| 1018/1018 [07:51<00:00,  2.16it/s, loss=3.0879, accuracy=0.23686]\n",
      "Epoch 2/19 val: 100%|██████████| 503/503 [00:57<00:00,  8.77it/s, loss=2.2633, accuracy=0.39154]\n",
      "Epoch 3/19 train: 100%|██████████| 1018/1018 [07:53<00:00,  2.15it/s, loss=1.8589, accuracy=0.48907]\n",
      "Epoch 3/19 val: 100%|██████████| 503/503 [00:57<00:00,  8.70it/s, loss=1.6668, accuracy=0.53408]\n",
      "Epoch 4/19 train: 100%|██████████| 1018/1018 [07:57<00:00,  2.13it/s, loss=1.3512, accuracy=0.62132]\n",
      "Epoch 4/19 val: 100%|██████████| 503/503 [00:58<00:00,  8.60it/s, loss=1.3803, accuracy=0.61766]\n",
      "Epoch 5/19 train: 100%|██████████| 1018/1018 [07:53<00:00,  2.15it/s, loss=0.96672, accuracy=0.71513]\n",
      "Epoch 5/19 val: 100%|██████████| 503/503 [00:58<00:00,  8.60it/s, loss=1.1857, accuracy=0.65995]\n",
      "Epoch 6/19 train: 100%|██████████| 1018/1018 [07:56<00:00,  2.14it/s, loss=0.80752, accuracy=0.76179]\n",
      "Epoch 6/19 val: 100%|██████████| 503/503 [00:59<00:00,  8.48it/s, loss=1.1035, accuracy=0.6893] \n",
      "Epoch 7/19 train: 100%|██████████| 1018/1018 [08:01<00:00,  2.11it/s, loss=0.64276, accuracy=0.80464]\n",
      "Epoch 7/19 val: 100%|██████████| 503/503 [01:02<00:00,  8.08it/s, loss=1.0825, accuracy=0.7194] \n",
      "Epoch 8/19 train: 100%|██████████| 1018/1018 [08:52<00:00,  1.91it/s, loss=0.55656, accuracy=0.83325]\n",
      "Epoch 8/19 val: 100%|██████████| 503/503 [01:04<00:00,  7.78it/s, loss=1.1753, accuracy=0.68209]\n",
      "Epoch 9/19 train: 100%|██████████| 1018/1018 [08:52<00:00,  1.91it/s, loss=0.49112, accuracy=0.84958]\n",
      "Epoch 9/19 val: 100%|██████████| 503/503 [01:04<00:00,  7.84it/s, loss=1.0494, accuracy=0.7204] \n"
     ]
    },
    {
     "name": "stdout",
     "output_type": "stream",
     "text": [
      "[CHECKPOINT] ../../data/finetuned_models/StanfordCars/densenet/densenet_StanfordCars_E10_occ0.pth\n"
     ]
    },
    {
     "name": "stderr",
     "output_type": "stream",
     "text": [
      "Epoch 10/19 train: 100%|██████████| 1018/1018 [08:25<00:00,  2.02it/s, loss=0.47949, accuracy=0.85916]\n",
      "Epoch 10/19 val: 100%|██████████| 503/503 [00:59<00:00,  8.40it/s, loss=1.1309, accuracy=0.70846]\n",
      "Epoch 11/19 train: 100%|██████████| 1018/1018 [08:15<00:00,  2.05it/s, loss=0.41141, accuracy=0.8734] \n",
      "Epoch 11/19 val: 100%|██████████| 503/503 [00:57<00:00,  8.80it/s, loss=0.99644, accuracy=0.74005]\n",
      "Epoch 12/19 train: 100%|██████████| 1018/1018 [08:07<00:00,  2.09it/s, loss=0.36234, accuracy=0.88581]\n",
      "Epoch 12/19 val: 100%|██████████| 503/503 [01:01<00:00,  8.20it/s, loss=0.91662, accuracy=0.75274]\n",
      "Epoch 13/19 train: 100%|██████████| 1018/1018 [08:29<00:00,  2.00it/s, loss=0.32967, accuracy=0.89637]\n",
      "Epoch 13/19 val: 100%|██████████| 503/503 [01:00<00:00,  8.25it/s, loss=1.0975, accuracy=0.70323]\n",
      "Epoch 14/19 train: 100%|██████████| 1018/1018 [08:32<00:00,  1.99it/s, loss=0.32064, accuracy=0.90742]\n",
      "Epoch 14/19 val: 100%|██████████| 503/503 [01:02<00:00,  8.05it/s, loss=0.98161, accuracy=0.7597] \n",
      "Epoch 15/19 train: 100%|██████████| 1018/1018 [08:45<00:00,  1.94it/s, loss=0.29199, accuracy=0.9095] \n",
      "Epoch 15/19 val: 100%|██████████| 503/503 [01:02<00:00,  8.08it/s, loss=0.98907, accuracy=0.74527]\n",
      "Epoch 16/19 train: 100%|██████████| 1018/1018 [08:22<00:00,  2.03it/s, loss=0.27697, accuracy=0.91503]\n",
      "Epoch 16/19 val: 100%|██████████| 503/503 [00:59<00:00,  8.48it/s, loss=0.97968, accuracy=0.75025]\n",
      "Epoch 17/19 train: 100%|██████████| 1018/1018 [08:06<00:00,  2.09it/s, loss=0.26055, accuracy=0.91884]\n",
      "Epoch 17/19 val: 100%|██████████| 503/503 [01:01<00:00,  8.23it/s, loss=1.0523, accuracy=0.76095]\n",
      "Epoch 18/19 train: 100%|██████████| 1018/1018 [08:07<00:00,  2.09it/s, loss=0.25749, accuracy=0.92424]\n",
      "Epoch 18/19 val: 100%|██████████| 503/503 [01:02<00:00,  8.02it/s, loss=1.0774, accuracy=0.74552] \n",
      "Epoch 19/19 train: 100%|██████████| 1018/1018 [08:03<00:00,  2.11it/s, loss=0.2721, accuracy=0.92326] \n",
      "Epoch 19/19 val: 100%|██████████| 503/503 [00:57<00:00,  8.73it/s, loss=0.85157, accuracy=0.7791] \n"
     ]
    },
    {
     "name": "stdout",
     "output_type": "stream",
     "text": [
      "[CHECKPOINT] ../../data/finetuned_models/StanfordCars/densenet/densenet_StanfordCars_E20_occ0.pth\n",
      "Training complete in 185m 13s\n",
      "Best val Acc: 0.779104\n",
      "[CHECKPOINT] ../../data/finetuned_models/StanfordCars/densenet/densenet_StanfordCars_E20_occ0.pth\n",
      "STARTING: model=densenet | dataset=FGVC-Aircraft | occlusion=0\n"
     ]
    },
    {
     "name": "stderr",
     "output_type": "stream",
     "text": [
      "Epoch 0/19 train: 100%|██████████| 417/417 [03:11<00:00,  2.18it/s, loss=4.5092, accuracy=0.018296]\n",
      "Epoch 0/19 val: 100%|██████████| 417/417 [00:50<00:00,  8.27it/s, loss=3.9313, accuracy=0.064206]\n",
      "Epoch 1/19 train: 100%|██████████| 417/417 [03:21<00:00,  2.07it/s, loss=3.5166, accuracy=0.11308] \n",
      "Epoch 1/19 val: 100%|██████████| 417/417 [00:50<00:00,  8.30it/s, loss=2.9326, accuracy=0.19412]\n",
      "Epoch 2/19 train: 100%|██████████| 417/417 [03:23<00:00,  2.05it/s, loss=2.66, accuracy=0.25135]  \n",
      "Epoch 2/19 val: 100%|██████████| 417/417 [00:51<00:00,  8.04it/s, loss=2.6582, accuracy=0.26553]\n",
      "Epoch 3/19 train:  23%|██▎       | 95/417 [00:47<02:37,  2.04it/s, loss=2.2057, accuracy=0.34737]"
     ]
    }
   ],
   "source": [
    "# inception model doesn't work.\n",
    "# models = ['resnet', 'alexnet', 'densenet', 'squeezenet', 'vgg']\n",
    "#\n",
    "# for name in models:\n",
    "#     print('[TRAINING]:', name)\n",
    "# finetune.CLASSIFIER_NAME = name\n",
    "importlib.reload(finetune)\n",
    "\n",
    "for classifier_name in ['densenet']:\n",
    "    for occlusion_name in finetune.OCCLUSION_OPTIONS[1:]:\n",
    "        for dataset in finetune.DATASET_OPTIONS: # ['FGVC-Aircraft' , 'StanfordCars']\n",
    "            print('STARTING: model={} | dataset={} | occlusion={}'.format(classifier_name, dataset, occlusion_name))\n",
    "            finetune.CLASSIFIER_NAME = classifier_name\n",
    "            finetune.NUM_EPOCHS = 20\n",
    "            finetune.FEATURE_EXTRACT = False # default\n",
    "            finetune.DATASET = dataset  # [StanfordCars, FGVC-Aircraft]\n",
    "            finetune.OCCLUSION_NAME = occlusion_name\n",
    "            finetune.OPTIMIZER_NAME = 'adam' # default\n",
    "            # finetune.print_hypers() # shows params\n",
    "\n",
    "            # Initialize the model for this run\n",
    "            model_ft = finetune.initialize_model(_verbose=False)\n",
    "\n",
    "            model, hist, state = finetune.finetune_model(model_ft, checkpoint_save=10)\n",
    "\n",
    "            # Save the model after the last epoch\n",
    "            finetune.save_model(state)\n",
    "            del model_ft\n",
    "            del model\n",
    "            del hist\n",
    "            del state\n"
   ],
   "metadata": {
    "collapsed": false,
    "pycharm": {
     "name": "#%%\n",
     "is_executing": true
    }
   }
  },
  {
   "cell_type": "code",
   "execution_count": null,
   "outputs": [],
   "source": [
    "# inception model doesn't work.\n",
    "# models = ['resnet', 'alexnet', 'densenet', 'squeezenet', 'vgg']\n",
    "#\n",
    "# for name in models:\n",
    "#     print('[TRAINING]:', name)\n",
    "# finetune.CLASSIFIER_NAME = name\n",
    "importlib.reload(finetune)\n",
    "\n",
    "for classifier_name in ['densenet']:\n",
    "    for occlusion_name in finetune.OCCLUSION_OPTIONS[3:]:\n",
    "        for dataset in finetune.DATASET_OPTIONS: # ['FGVC-Aircraft' , 'StanfordCars']\n",
    "            print('STARTING: model={} | dataset={} | occlusion={}'.format(classifier_name, dataset, occlusion_name))\n",
    "            finetune.CLASSIFIER_NAME = classifier_name\n",
    "            finetune.NUM_EPOCHS = 20\n",
    "            finetune.FEATURE_EXTRACT = False # default\n",
    "            finetune.DATASET = dataset  # [StanfordCars, FGVC-Aircraft]\n",
    "            finetune.OCCLUSION_NAME = occlusion_name\n",
    "            finetune.OPTIMIZER_NAME = 'adam' # default\n",
    "            # finetune.print_hypers() # shows params\n",
    "\n",
    "            # Initialize the model for this run\n",
    "            model_ft = finetune.initialize_model(_verbose=False)\n",
    "\n",
    "            model, hist, state = finetune.finetune_model(model_ft, checkpoint_save=10)\n",
    "\n",
    "            # Save the model after the last epoch\n",
    "            finetune.save_model(state)\n",
    "            del model_ft\n",
    "            del model\n",
    "            del hist\n",
    "            del state\n"
   ],
   "metadata": {
    "collapsed": false,
    "pycharm": {
     "name": "#%%\n"
    }
   }
  },
  {
   "cell_type": "code",
   "execution_count": null,
   "outputs": [],
   "source": [
    "# inception model doesn't work.\n",
    "# models = ['resnet', 'alexnet', 'densenet', 'squeezenet', 'vgg']\n",
    "#\n",
    "# for name in models:\n",
    "#     print('[TRAINING]:', name)\n",
    "# finetune.CLASSIFIER_NAME = name\n",
    "importlib.reload(finetune)\n",
    "\n",
    "for classifier_name in ['vgg']:\n",
    "    for occlusion_name in finetune.OCCLUSION_OPTIONS:\n",
    "        for dataset in finetune.DATASET_OPTIONS: # ['FGVC-Aircraft' , 'StanfordCars']\n",
    "            print('STARTING: model={} | dataset={} | occlusion={}'.format(classifier_name, dataset, occlusion_name))\n",
    "            finetune.CLASSIFIER_NAME = classifier_name\n",
    "            finetune.NUM_EPOCHS = 20\n",
    "            finetune.FEATURE_EXTRACT = False # default\n",
    "            finetune.DATASET = dataset  # [StanfordCars, FGVC-Aircraft]\n",
    "            finetune.OCCLUSION_NAME = occlusion_name\n",
    "            finetune.OPTIMIZER_NAME = 'adam' # default\n",
    "            # finetune.print_hypers() # shows params\n",
    "\n",
    "            # Initialize the model for this run\n",
    "            model_ft = finetune.initialize_model(_verbose=False)\n",
    "\n",
    "            model, hist, state = finetune.finetune_model(model_ft, checkpoint_save=10)\n",
    "\n",
    "            # Save the model after the last epoch\n",
    "            finetune.save_model(state)\n",
    "            del model_ft\n",
    "            del model\n",
    "            del hist\n",
    "            del state\n"
   ],
   "metadata": {
    "collapsed": false,
    "pycharm": {
     "name": "#%%\n"
    }
   }
  },
  {
   "cell_type": "code",
   "execution_count": null,
   "outputs": [],
   "source": [
    "# inception model doesn't work.\n",
    "# models = ['resnet', 'alexnet', 'densenet', 'squeezenet', 'vgg']\n",
    "#\n",
    "# for name in models:\n",
    "#     print('[TRAINING]:', name)\n",
    "# finetune.CLASSIFIER_NAME = name\n",
    "importlib.reload(finetune)\n",
    "\n",
    "for classifier_name in ['vgg']:\n",
    "    for occlusion_name in ['SOFTMAX']:\n",
    "        for dataset in finetune.DATASET_OPTIONS: # ['FGVC-Aircraft' , 'StanfordCars']\n",
    "            print('STARTING: model={} | dataset={} | occlusion={}'.format(classifier_name, dataset, occlusion_name))\n",
    "            finetune.CLASSIFIER_NAME = classifier_name\n",
    "            finetune.NUM_EPOCHS = 20\n",
    "            finetune.FEATURE_EXTRACT = False # default\n",
    "            finetune.DATASET = dataset  # [StanfordCars, FGVC-Aircraft]\n",
    "            finetune.OCCLUSION_NAME = occlusion_name\n",
    "            finetune.OPTIMIZER_NAME = 'adam' # default\n",
    "            # finetune.print_hypers() # shows params\n",
    "\n",
    "            # Initialize the model for this run\n",
    "            model_ft = finetune.initialize_model(_verbose=False)\n",
    "\n",
    "            model, hist, state = finetune.finetune_model(model_ft, checkpoint_save=10)\n",
    "\n",
    "            # Save the model after the last epoch\n",
    "            finetune.save_model(state)\n",
    "            del model_ft\n",
    "            del model\n",
    "            del hist\n",
    "            del state\n"
   ],
   "metadata": {
    "collapsed": false,
    "pycharm": {
     "name": "#%%\n"
    }
   }
  },
  {
   "cell_type": "code",
   "execution_count": null,
   "outputs": [],
   "source": [
    "model_save_path = finetune.format_model_path('resnet',\n",
    "                           'FGVC-Aircraft',\n",
    "                           30)\n",
    "\n",
    "checkpoint = finetune.load_checkpoint(model_save_path)\n",
    "\n",
    "train_acc_history, train_loss_history, val_acc_history = finetune.get_information_from_checkpoint(checkpoint, plot=True)*"
   ],
   "metadata": {
    "collapsed": false,
    "pycharm": {
     "name": "#%%\n"
    }
   }
  },
  {
   "cell_type": "code",
   "execution_count": 4,
   "metadata": {},
   "outputs": [
    {
     "name": "stdout",
     "output_type": "stream",
     "text": [
      "STARTING: model=vgg | dataset=StanfordCars | occlusion=SOFTMAX\n"
     ]
    },
    {
     "name": "stderr",
     "output_type": "stream",
     "text": [
      "Epoch 0/19 train: 100%|██████████| 1018/1018 [07:10<00:00,  2.36it/s, loss=4.6878, accuracy=0.032417]\n",
      "Epoch 0/19 val: 100%|██████████| 503/503 [00:53<00:00,  9.49it/s, loss=3.8094, accuracy=0.093532]\n",
      "Epoch 1/19 train: 100%|██████████| 1018/1018 [07:07<00:00,  2.38it/s, loss=3.268, accuracy=0.17903] \n",
      "Epoch 1/19 val: 100%|██████████| 503/503 [00:53<00:00,  9.45it/s, loss=2.661, accuracy=0.28209] \n",
      "Epoch 2/19 train: 100%|██████████| 1018/1018 [07:02<00:00,  2.41it/s, loss=2.152, accuracy=0.39035] \n",
      "Epoch 2/19 val: 100%|██████████| 503/503 [00:53<00:00,  9.47it/s, loss=1.9544, accuracy=0.44428]\n",
      "Epoch 3/19 train: 100%|██████████| 1018/1018 [07:07<00:00,  2.38it/s, loss=1.4272, accuracy=0.58129]\n",
      "Epoch 3/19 val: 100%|██████████| 503/503 [00:53<00:00,  9.46it/s, loss=1.8194, accuracy=0.49403]\n",
      "Epoch 4/19 train: 100%|██████████| 1018/1018 [07:12<00:00,  2.36it/s, loss=1.0155, accuracy=0.6875] \n",
      "Epoch 4/19 val: 100%|██████████| 503/503 [00:53<00:00,  9.47it/s, loss=1.5108, accuracy=0.57562]\n",
      "Epoch 5/19 train: 100%|██████████| 1018/1018 [07:19<00:00,  2.31it/s, loss=0.75128, accuracy=0.7678] \n",
      "Epoch 5/19 val: 100%|██████████| 503/503 [00:53<00:00,  9.44it/s, loss=1.3556, accuracy=0.62761]\n",
      "Epoch 6/19 train: 100%|██████████| 1018/1018 [07:13<00:00,  2.35it/s, loss=0.58251, accuracy=0.81889]\n",
      "Epoch 6/19 val: 100%|██████████| 503/503 [00:53<00:00,  9.47it/s, loss=1.3309, accuracy=0.64104]\n",
      "Epoch 7/19 train: 100%|██████████| 1018/1018 [07:10<00:00,  2.37it/s, loss=0.48143, accuracy=0.84909]\n",
      "Epoch 7/19 val: 100%|██████████| 503/503 [00:53<00:00,  9.46it/s, loss=1.5237, accuracy=0.6097] \n",
      "Epoch 8/19 train: 100%|██████████| 1018/1018 [07:07<00:00,  2.38it/s, loss=0.41992, accuracy=0.86788]\n",
      "Epoch 8/19 val: 100%|██████████| 503/503 [00:53<00:00,  9.47it/s, loss=1.3635, accuracy=0.65647]\n",
      "Epoch 9/19 train: 100%|██████████| 1018/1018 [07:09<00:00,  2.37it/s, loss=0.35334, accuracy=0.88789]\n",
      "Epoch 9/19 val: 100%|██████████| 503/503 [00:53<00:00,  9.43it/s, loss=1.3968, accuracy=0.65224]\n"
     ]
    },
    {
     "name": "stdout",
     "output_type": "stream",
     "text": [
      "[CHECKPOINT] ../../data/finetuned_models/StanfordCars/vgg/vgg_StanfordCars_E10_occSOFTMAX.pth\n"
     ]
    },
    {
     "name": "stderr",
     "output_type": "stream",
     "text": [
      "Epoch 10/19 train: 100%|██████████| 1018/1018 [07:13<00:00,  2.35it/s, loss=0.31627, accuracy=0.8987] \n",
      "Epoch 10/19 val: 100%|██████████| 503/503 [00:52<00:00,  9.49it/s, loss=1.7013, accuracy=0.6296] \n",
      "Epoch 11/19 train: 100%|██████████| 1018/1018 [07:04<00:00,  2.40it/s, loss=0.2848, accuracy=0.91036] \n",
      "Epoch 11/19 val: 100%|██████████| 503/503 [00:53<00:00,  9.48it/s, loss=1.5658, accuracy=0.64701]\n",
      "Epoch 12/19 train: 100%|██████████| 1018/1018 [07:10<00:00,  2.36it/s, loss=0.26776, accuracy=0.92129]\n",
      "Epoch 12/19 val: 100%|██████████| 503/503 [00:53<00:00,  9.48it/s, loss=1.4797, accuracy=0.6505] \n",
      "Epoch 13/19 train: 100%|██████████| 1018/1018 [07:08<00:00,  2.38it/s, loss=0.22932, accuracy=0.9289] \n",
      "Epoch 13/19 val: 100%|██████████| 503/503 [00:53<00:00,  9.48it/s, loss=1.506, accuracy=0.66418] \n",
      "Epoch 14/19 train: 100%|██████████| 1018/1018 [07:12<00:00,  2.35it/s, loss=0.23273, accuracy=0.92547]\n",
      "Epoch 14/19 val: 100%|██████████| 503/503 [00:53<00:00,  9.49it/s, loss=1.6716, accuracy=0.63806]\n",
      "Epoch 15/19 train: 100%|██████████| 1018/1018 [07:13<00:00,  2.35it/s, loss=0.20223, accuracy=0.93873]\n",
      "Epoch 15/19 val: 100%|██████████| 503/503 [00:53<00:00,  9.48it/s, loss=1.5068, accuracy=0.65547]\n",
      "Epoch 16/19 train: 100%|██████████| 1018/1018 [07:11<00:00,  2.36it/s, loss=0.18754, accuracy=0.94745]\n",
      "Epoch 16/19 val: 100%|██████████| 503/503 [00:53<00:00,  9.47it/s, loss=1.8464, accuracy=0.63507]\n",
      "Epoch 17/19 train: 100%|██████████| 1018/1018 [07:05<00:00,  2.39it/s, loss=0.18529, accuracy=0.9456] \n",
      "Epoch 17/19 val: 100%|██████████| 503/503 [00:53<00:00,  9.48it/s, loss=1.739, accuracy=0.65498] \n",
      "Epoch 18/19 train: 100%|██████████| 1018/1018 [07:13<00:00,  2.35it/s, loss=0.17538, accuracy=0.94671]\n",
      "Epoch 18/19 val: 100%|██████████| 503/503 [00:53<00:00,  9.48it/s, loss=1.7147, accuracy=0.64478]\n",
      "Epoch 19/19 train: 100%|██████████| 1018/1018 [07:10<00:00,  2.36it/s, loss=0.16146, accuracy=0.9499] \n",
      "Epoch 19/19 val: 100%|██████████| 503/503 [00:53<00:00,  9.48it/s, loss=1.6629, accuracy=0.64428]\n"
     ]
    },
    {
     "name": "stdout",
     "output_type": "stream",
     "text": [
      "[CHECKPOINT] ../../data/finetuned_models/StanfordCars/vgg/vgg_StanfordCars_E20_occSOFTMAX.pth\n",
      "Training complete in 161m 51s\n",
      "Best val Acc: 0.664179\n",
      "[CHECKPOINT] ../../data/finetuned_models/StanfordCars/vgg/vgg_StanfordCars_E20_occSOFTMAX.pth\n",
      "STARTING: model=vgg | dataset=FGVC-Aircraft | occlusion=SOFTMAX\n"
     ]
    },
    {
     "name": "stderr",
     "output_type": "stream",
     "text": [
      "Epoch 0/19 train: 100%|██████████| 417/417 [02:56<00:00,  2.36it/s, loss=4.3978, accuracy=0.033293]\n",
      "Epoch 0/19 val: 100%|██████████| 417/417 [00:44<00:00,  9.33it/s, loss=3.7818, accuracy=0.09901] \n",
      "Epoch 1/19 train: 100%|██████████| 417/417 [02:56<00:00,  2.37it/s, loss=3.1969, accuracy=0.15417] \n",
      "Epoch 1/19 val: 100%|██████████| 417/417 [00:44<00:00,  9.35it/s, loss=2.758, accuracy=0.24212] \n",
      "Epoch 2/19 train: 100%|██████████| 417/417 [02:59<00:00,  2.32it/s, loss=2.3999, accuracy=0.29514]\n",
      "Epoch 2/19 val: 100%|██████████| 417/417 [00:44<00:00,  9.32it/s, loss=2.1856, accuracy=0.36934]\n",
      "Epoch 3/19 train: 100%|██████████| 417/417 [02:59<00:00,  2.32it/s, loss=1.7701, accuracy=0.45141]\n",
      "Epoch 3/19 val: 100%|██████████| 417/417 [00:44<00:00,  9.36it/s, loss=2.0545, accuracy=0.40714]\n",
      "Epoch 4/19 train: 100%|██████████| 417/417 [02:52<00:00,  2.42it/s, loss=1.4348, accuracy=0.54379]\n",
      "Epoch 4/19 val: 100%|██████████| 417/417 [00:44<00:00,  9.34it/s, loss=1.938, accuracy=0.46625] \n",
      "Epoch 5/19 train: 100%|██████████| 417/417 [02:57<00:00,  2.35it/s, loss=1.0386, accuracy=0.65087]\n",
      "Epoch 5/19 val: 100%|██████████| 417/417 [00:44<00:00,  9.32it/s, loss=1.8728, accuracy=0.49835]\n",
      "Epoch 6/19 train: 100%|██████████| 417/417 [02:52<00:00,  2.42it/s, loss=0.8963, accuracy=0.70726] \n",
      "Epoch 6/19 val: 100%|██████████| 417/417 [00:44<00:00,  9.34it/s, loss=1.6883, accuracy=0.53435]\n",
      "Epoch 7/19 train: 100%|██████████| 417/417 [02:56<00:00,  2.36it/s, loss=0.66866, accuracy=0.77115]\n",
      "Epoch 7/19 val: 100%|██████████| 417/417 [00:44<00:00,  9.35it/s, loss=1.7297, accuracy=0.54515]\n",
      "Epoch 8/19 train: 100%|██████████| 417/417 [02:59<00:00,  2.33it/s, loss=0.54782, accuracy=0.81224]\n",
      "Epoch 8/19 val: 100%|██████████| 417/417 [00:44<00:00,  9.33it/s, loss=1.8547, accuracy=0.55626]\n",
      "Epoch 9/19 train: 100%|██████████| 417/417 [02:55<00:00,  2.38it/s, loss=0.45595, accuracy=0.84673]\n",
      "Epoch 9/19 val: 100%|██████████| 417/417 [00:44<00:00,  9.35it/s, loss=2.0219, accuracy=0.54275]\n"
     ]
    },
    {
     "name": "stdout",
     "output_type": "stream",
     "text": [
      "[CHECKPOINT] ../../data/finetuned_models/FGVC-Aircraft/vgg/vgg_FGVC-Aircraft_E10_occSOFTMAX.pth\n"
     ]
    },
    {
     "name": "stderr",
     "output_type": "stream",
     "text": [
      "Epoch 10/19 train: 100%|██████████| 417/417 [02:55<00:00,  2.37it/s, loss=0.38661, accuracy=0.87582]\n",
      "Epoch 10/19 val: 100%|██████████| 417/417 [00:44<00:00,  9.36it/s, loss=1.7854, accuracy=0.58596]\n",
      "Epoch 11/19 train: 100%|██████████| 417/417 [02:53<00:00,  2.40it/s, loss=0.35017, accuracy=0.87792]\n",
      "Epoch 11/19 val: 100%|██████████| 417/417 [00:44<00:00,  9.32it/s, loss=1.8931, accuracy=0.56676]\n",
      "Epoch 12/19 train: 100%|██████████| 417/417 [02:57<00:00,  2.34it/s, loss=0.29889, accuracy=0.90162]\n",
      "Epoch 12/19 val: 100%|██████████| 417/417 [00:44<00:00,  9.33it/s, loss=1.9541, accuracy=0.54875]\n",
      "Epoch 13/19 train: 100%|██████████| 417/417 [02:56<00:00,  2.37it/s, loss=0.22862, accuracy=0.92621]\n",
      "Epoch 13/19 val: 100%|██████████| 417/417 [00:44<00:00,  9.32it/s, loss=2.2247, accuracy=0.55176]\n",
      "Epoch 14/19 train: 100%|██████████| 417/417 [02:56<00:00,  2.37it/s, loss=0.29561, accuracy=0.90762]\n",
      "Epoch 14/19 val: 100%|██████████| 417/417 [00:44<00:00,  9.34it/s, loss=2.1117, accuracy=0.56466]\n",
      "Epoch 15/19 train: 100%|██████████| 417/417 [02:54<00:00,  2.40it/s, loss=0.24812, accuracy=0.92142]\n",
      "Epoch 15/19 val: 100%|██████████| 417/417 [00:44<00:00,  9.34it/s, loss=1.9384, accuracy=0.59406]\n",
      "Epoch 16/19 train: 100%|██████████| 417/417 [02:57<00:00,  2.35it/s, loss=0.20359, accuracy=0.93461]\n",
      "Epoch 16/19 val: 100%|██████████| 417/417 [00:44<00:00,  9.36it/s, loss=2.0453, accuracy=0.57816]\n",
      "Epoch 17/19 train: 100%|██████████| 417/417 [02:59<00:00,  2.32it/s, loss=0.25667, accuracy=0.92292]\n",
      "Epoch 17/19 val: 100%|██████████| 417/417 [00:44<00:00,  9.36it/s, loss=1.9597, accuracy=0.59646]\n",
      "Epoch 18/19 train: 100%|██████████| 417/417 [02:55<00:00,  2.37it/s, loss=0.18855, accuracy=0.94571]\n",
      "Epoch 18/19 val: 100%|██████████| 417/417 [00:44<00:00,  9.32it/s, loss=2.4277, accuracy=0.55956]\n",
      "Epoch 19/19 train: 100%|██████████| 417/417 [02:55<00:00,  2.38it/s, loss=0.17771, accuracy=0.94571]\n",
      "Epoch 19/19 val: 100%|██████████| 417/417 [00:44<00:00,  9.31it/s, loss=2.0031, accuracy=0.57726]\n"
     ]
    },
    {
     "name": "stdout",
     "output_type": "stream",
     "text": [
      "[CHECKPOINT] ../../data/finetuned_models/FGVC-Aircraft/vgg/vgg_FGVC-Aircraft_E20_occSOFTMAX.pth\n",
      "Training complete in 74m 28s\n",
      "Best val Acc: 0.596460\n",
      "[CHECKPOINT] ../../data/finetuned_models/FGVC-Aircraft/vgg/vgg_FGVC-Aircraft_E20_occSOFTMAX.pth\n"
     ]
    }
   ],
   "source": [
    "# inception model doesn't work.\n",
    "# models = ['resnet', 'alexnet', 'densenet', 'squeezenet', 'vgg']\n",
    "#\n",
    "# for name in models:\n",
    "#     print('[TRAINING]:', name)\n",
    "# finetune.CLASSIFIER_NAME = name\n",
    "importlib.reload(finetune)\n",
    "\n",
    "for classifier_name in ['vgg']:\n",
    "    for occlusion_name in ['SOFTMAX']:\n",
    "        for dataset in finetune.DATASET_OPTIONS: # ['FGVC-Aircraft' , 'StanfordCars']\n",
    "            print('STARTING: model={} | dataset={} | occlusion={}'.format(classifier_name, dataset, occlusion_name))\n",
    "            finetune.CLASSIFIER_NAME = classifier_name\n",
    "            finetune.NUM_EPOCHS = 20\n",
    "            finetune.FEATURE_EXTRACT = False # default\n",
    "            finetune.DATASET = dataset  # [StanfordCars, FGVC-Aircraft]\n",
    "            finetune.OCCLUSION_NAME = occlusion_name\n",
    "            finetune.OPTIMIZER_NAME = 'adam' # default\n",
    "            # finetune.print_hypers() # shows params\n",
    "\n",
    "            # Initialize the model for this run\n",
    "            model_ft = finetune.initialize_model(_verbose=False)\n",
    "\n",
    "            model, hist, state = finetune.finetune_model(model_ft, checkpoint_save=10)\n",
    "\n",
    "            # Save the model after the last epoch\n",
    "            finetune.save_model(state)\n",
    "            del model_ft\n",
    "            del model\n",
    "            del hist\n",
    "            del state\n"
   ]
  },
  {
   "cell_type": "code",
   "execution_count": null,
   "metadata": {
    "collapsed": false,
    "jupyter": {
     "outputs_hidden": false
    },
    "pycharm": {
     "name": "#%%\n"
    }
   },
   "outputs": [],
   "source": [
    "model_save_path = finetune.format_model_path('resnet',\n",
    "                           'FGVC-Aircraft',\n",
    "                           30)\n",
    "\n",
    "checkpoint = finetune.load_checkpoint(model_save_path)\n",
    "\n",
    "train_acc_history, train_loss_history, val_acc_history = finetune.get_information_from_checkpoint(checkpoint, plot=True)*"
   ]
  },
  {
   "cell_type": "code",
   "execution_count": null,
   "metadata": {
    "collapsed": false,
    "jupyter": {
     "outputs_hidden": false
    },
    "pycharm": {
     "name": "#%%\n"
    }
   },
   "outputs": [],
   "source": [
    "optimizer_state_dict = checkpoint['optimizer_state_dict']\n",
    "finetune.NUM_EPOCHS = 10\n",
    "checkpoint_model = finetune.get_model_architecture('resnet')\n",
    "checkpoint_model.load_state_dict(checkpoint['model_state_dict'])\n",
    "\n",
    "test_model, hist, state = finetune.finetune_model(checkpoint_model,\n",
    "                                                  'adam',\n",
    "                                                  optimizer_state_dict=optimizer_state_dict,\n",
    "                                                  checkpoint_save=5,\n",
    "                                                  is_retrain=True)\n"
   ]
  },
  {
   "cell_type": "code",
   "execution_count": null,
   "metadata": {
    "collapsed": false,
    "jupyter": {
     "outputs_hidden": false
    },
    "pycharm": {
     "name": "#%%\n"
    }
   },
   "outputs": [],
   "source": [
    "finetune.save_model(state)"
   ]
  }
 ],
 "metadata": {
  "kernelspec": {
   "display_name": "Python",
   "language": "python",
   "name": "python3"
  },
  "language_info": {
   "codemirror_mode": {
    "name": "ipython",
    "version": 3
   },
   "file_extension": ".py",
   "mimetype": "text/x-python",
   "name": "python",
   "nbconvert_exporter": "python",
   "pygments_lexer": "ipython3",
   "version": "3.8.10"
  }
 },
 "nbformat": 4,
 "nbformat_minor": 4
}