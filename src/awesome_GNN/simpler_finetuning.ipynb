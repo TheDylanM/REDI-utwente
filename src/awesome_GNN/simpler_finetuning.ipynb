{
 "cells": [
  {
   "cell_type": "code",
   "execution_count": 1,
   "outputs": [],
   "source": [
    "% matplotlib inline\n",
    "# not sure if necessary"
   ],
   "metadata": {
    "collapsed": false,
    "pycharm": {
     "name": "#%%\n"
    }
   }
  },
  {
   "cell_type": "code",
   "execution_count": 2,
   "outputs": [],
   "source": [
    "import finetune\n",
    "import importlib\n",
    "import torch"
   ],
   "metadata": {
    "collapsed": false,
    "pycharm": {
     "name": "#%%\n"
    }
   }
  },
  {
   "cell_type": "code",
   "execution_count": 3,
   "outputs": [],
   "source": [
    "# run this cell when you change stuff in the finetune module, and don't want to restart the notebook's kernel.\n",
    "importlib.reload(finetune)\n",
    "finetune.structure_checkpoints()  # If this prints 'Cannot safely create ...', it means that the folder probably already exists"
   ],
   "metadata": {
    "collapsed": false,
    "pycharm": {
     "name": "#%%\n"
    }
   }
  },
  {
   "cell_type": "code",
   "execution_count": 9,
   "outputs": [
    {
     "name": "stdout",
     "output_type": "stream",
     "text": [
      "STARTING: model=resnet | dataset=FGVC-Aircraft | occlusion=0\n"
     ]
    },
    {
     "name": "stderr",
     "output_type": "stream",
     "text": [
      "Epoch 0/49 train: 100%|██████████| 417/417 [00:22<00:00, 18.18it/s, loss=4.6053, accuracy=0.010798] \n",
      "Epoch 0/49 val: 100%|██████████| 417/417 [00:11<00:00, 34.94it/s, loss=4.5166, accuracy=0.033303]\n",
      "Epoch 1/49 train: 100%|██████████| 417/417 [00:23<00:00, 17.70it/s, loss=4.3592, accuracy=0.037493]\n",
      "Epoch 1/49 val: 100%|██████████| 417/417 [00:11<00:00, 35.57it/s, loss=3.9082, accuracy=0.087609]\n",
      "Epoch 2/49 train: 100%|██████████| 417/417 [00:22<00:00, 18.26it/s, loss=3.7455, accuracy=0.10498] \n",
      "Epoch 2/49 val: 100%|██████████| 417/417 [00:11<00:00, 35.51it/s, loss=3.1894, accuracy=0.17222]\n",
      "Epoch 3/49 train: 100%|██████████| 417/417 [00:22<00:00, 18.34it/s, loss=3.292, accuracy=0.16857] \n",
      "Epoch 3/49 val: 100%|██████████| 417/417 [00:11<00:00, 35.42it/s, loss=2.9932, accuracy=0.19352]\n",
      "Epoch 4/49 train: 100%|██████████| 417/417 [00:23<00:00, 17.47it/s, loss=2.9224, accuracy=0.23845]\n",
      "Epoch 4/49 val: 100%|██████████| 417/417 [00:11<00:00, 35.00it/s, loss=2.4972, accuracy=0.28893]\n",
      "Epoch 5/49 train: 100%|██████████| 417/417 [00:24<00:00, 17.03it/s, loss=2.6165, accuracy=0.28674]\n",
      "Epoch 5/49 val: 100%|██████████| 417/417 [00:11<00:00, 35.70it/s, loss=2.3572, accuracy=0.31863]\n",
      "Epoch 6/49 train: 100%|██████████| 417/417 [00:24<00:00, 17.37it/s, loss=2.3763, accuracy=0.33503]\n",
      "Epoch 6/49 val: 100%|██████████| 417/417 [00:11<00:00, 35.77it/s, loss=2.3461, accuracy=0.31593]\n",
      "Epoch 7/49 train: 100%|██████████| 417/417 [00:23<00:00, 17.82it/s, loss=2.1631, accuracy=0.38062]\n",
      "Epoch 7/49 val: 100%|██████████| 417/417 [00:11<00:00, 35.79it/s, loss=2.0716, accuracy=0.39034]\n",
      "Epoch 8/49 train: 100%|██████████| 417/417 [00:23<00:00, 17.70it/s, loss=2.007, accuracy=0.42382] \n",
      "Epoch 8/49 val: 100%|██████████| 417/417 [00:11<00:00, 35.46it/s, loss=2.0042, accuracy=0.41854]\n",
      "Epoch 9/49 train: 100%|██████████| 417/417 [00:23<00:00, 17.92it/s, loss=1.8774, accuracy=0.45201]\n",
      "Epoch 9/49 val: 100%|██████████| 417/417 [00:11<00:00, 35.77it/s, loss=1.9923, accuracy=0.42004]\n",
      "  0%|          | 0/417 [00:00<?, ?it/s]"
     ]
    },
    {
     "name": "stdout",
     "output_type": "stream",
     "text": [
      "[CHECKPOINT] ../../data\\finetuned_models\\FGVC-Aircraft\\resnet\\resnet_FGVC-Aircraft_E10_occ0.pth\n"
     ]
    },
    {
     "name": "stderr",
     "output_type": "stream",
     "text": [
      "Epoch 10/49 train: 100%|██████████| 417/417 [00:23<00:00, 18.10it/s, loss=1.7583, accuracy=0.4841] \n",
      "Epoch 10/49 val: 100%|██████████| 417/417 [00:11<00:00, 35.58it/s, loss=1.8351, accuracy=0.46895]\n",
      "Epoch 11/49 train: 100%|██████████| 417/417 [00:23<00:00, 18.04it/s, loss=1.6259, accuracy=0.5195] \n",
      "Epoch 11/49 val: 100%|██████████| 417/417 [00:11<00:00, 35.62it/s, loss=1.9576, accuracy=0.43924]\n",
      "Epoch 12/49 train: 100%|██████████| 417/417 [00:23<00:00, 17.64it/s, loss=1.5663, accuracy=0.53659]\n",
      "Epoch 12/49 val: 100%|██████████| 417/417 [00:11<00:00, 35.77it/s, loss=1.7706, accuracy=0.48455]\n",
      "Epoch 13/49 train: 100%|██████████| 417/417 [00:23<00:00, 18.07it/s, loss=1.5171, accuracy=0.56539]\n",
      "Epoch 13/49 val: 100%|██████████| 417/417 [00:11<00:00, 36.14it/s, loss=1.8651, accuracy=0.47705]\n",
      "Epoch 14/49 train: 100%|██████████| 417/417 [00:22<00:00, 18.16it/s, loss=1.4045, accuracy=0.58398]\n",
      "Epoch 14/49 val: 100%|██████████| 417/417 [00:11<00:00, 35.98it/s, loss=1.7994, accuracy=0.47075]\n",
      "Epoch 15/49 train: 100%|██████████| 417/417 [00:23<00:00, 18.10it/s, loss=1.3712, accuracy=0.60468]\n",
      "Epoch 15/49 val: 100%|██████████| 417/417 [00:11<00:00, 35.95it/s, loss=1.8956, accuracy=0.47855]\n",
      "Epoch 16/49 train: 100%|██████████| 417/417 [00:23<00:00, 17.59it/s, loss=1.2794, accuracy=0.62777]\n",
      "Epoch 16/49 val: 100%|██████████| 417/417 [00:11<00:00, 36.11it/s, loss=1.7156, accuracy=0.50225]\n",
      "Epoch 17/49 train: 100%|██████████| 417/417 [00:23<00:00, 18.06it/s, loss=1.2417, accuracy=0.64187]\n",
      "Epoch 17/49 val: 100%|██████████| 417/417 [00:11<00:00, 36.06it/s, loss=1.7131, accuracy=0.49715]\n",
      "Epoch 18/49 train: 100%|██████████| 417/417 [00:22<00:00, 18.56it/s, loss=1.1587, accuracy=0.65837]\n",
      "Epoch 18/49 val: 100%|██████████| 417/417 [00:11<00:00, 35.76it/s, loss=1.7722, accuracy=0.50645]\n",
      "Epoch 19/49 train: 100%|██████████| 417/417 [00:22<00:00, 18.25it/s, loss=1.1174, accuracy=0.66977]\n",
      "Epoch 19/49 val: 100%|██████████| 417/417 [00:11<00:00, 35.92it/s, loss=1.9586, accuracy=0.45095]\n",
      "  0%|          | 0/417 [00:00<?, ?it/s]"
     ]
    },
    {
     "name": "stdout",
     "output_type": "stream",
     "text": [
      "[CHECKPOINT] ../../data\\finetuned_models\\FGVC-Aircraft\\resnet\\resnet_FGVC-Aircraft_E20_occ0.pth\n"
     ]
    },
    {
     "name": "stderr",
     "output_type": "stream",
     "text": [
      "Epoch 20/49 train: 100%|██████████| 417/417 [00:22<00:00, 18.17it/s, loss=1.1302, accuracy=0.67337]\n",
      "Epoch 20/49 val: 100%|██████████| 417/417 [00:11<00:00, 36.19it/s, loss=1.6943, accuracy=0.52955]\n",
      "Epoch 21/49 train: 100%|██████████| 417/417 [00:22<00:00, 18.20it/s, loss=1.0897, accuracy=0.67516]\n",
      "Epoch 21/49 val: 100%|██████████| 417/417 [00:11<00:00, 36.09it/s, loss=1.8165, accuracy=0.48365]\n",
      "Epoch 22/49 train: 100%|██████████| 417/417 [00:23<00:00, 17.74it/s, loss=1.0844, accuracy=0.67217]\n",
      "Epoch 22/49 val: 100%|██████████| 417/417 [00:11<00:00, 36.33it/s, loss=1.8172, accuracy=0.49955]\n",
      "Epoch 23/49 train: 100%|██████████| 417/417 [00:22<00:00, 18.28it/s, loss=1.0209, accuracy=0.70216] \n",
      "Epoch 23/49 val: 100%|██████████| 417/417 [00:11<00:00, 36.12it/s, loss=1.8149, accuracy=0.50555]\n",
      "Epoch 24/49 train: 100%|██████████| 417/417 [00:22<00:00, 18.52it/s, loss=0.96008, accuracy=0.71356]\n",
      "Epoch 24/49 val: 100%|██████████| 417/417 [00:11<00:00, 36.31it/s, loss=1.907, accuracy=0.49565] \n",
      "Epoch 25/49 train: 100%|██████████| 417/417 [00:22<00:00, 18.37it/s, loss=0.95676, accuracy=0.72316]\n",
      "Epoch 25/49 val: 100%|██████████| 417/417 [00:11<00:00, 36.19it/s, loss=1.9088, accuracy=0.50465]\n",
      "Epoch 26/49 train: 100%|██████████| 417/417 [00:22<00:00, 18.24it/s, loss=0.95077, accuracy=0.71866]\n",
      "Epoch 26/49 val: 100%|██████████| 417/417 [00:11<00:00, 36.11it/s, loss=2.0143, accuracy=0.47135]\n",
      "Epoch 27/49 train: 100%|██████████| 417/417 [00:23<00:00, 17.76it/s, loss=0.93563, accuracy=0.72795]\n",
      "Epoch 27/49 val: 100%|██████████| 417/417 [00:11<00:00, 35.77it/s, loss=1.9443, accuracy=0.51155]\n",
      "Epoch 28/49 train: 100%|██████████| 417/417 [00:23<00:00, 18.10it/s, loss=0.95589, accuracy=0.73455]\n",
      "Epoch 28/49 val: 100%|██████████| 417/417 [00:11<00:00, 35.80it/s, loss=1.8194, accuracy=0.54155]\n",
      "Epoch 29/49 train: 100%|██████████| 417/417 [00:22<00:00, 18.36it/s, loss=0.87091, accuracy=0.74715]\n",
      "Epoch 29/49 val: 100%|██████████| 417/417 [00:11<00:00, 36.16it/s, loss=2.0134, accuracy=0.48575]\n",
      "  0%|          | 0/417 [00:00<?, ?it/s]"
     ]
    },
    {
     "name": "stdout",
     "output_type": "stream",
     "text": [
      "[CHECKPOINT] ../../data\\finetuned_models\\FGVC-Aircraft\\resnet\\resnet_FGVC-Aircraft_E30_occ0.pth\n"
     ]
    },
    {
     "name": "stderr",
     "output_type": "stream",
     "text": [
      "Epoch 30/49 train: 100%|██████████| 417/417 [00:23<00:00, 18.00it/s, loss=0.8531, accuracy=0.74865] \n",
      "Epoch 30/49 val: 100%|██████████| 417/417 [00:11<00:00, 36.55it/s, loss=1.7393, accuracy=0.54575]\n",
      "Epoch 31/49 train: 100%|██████████| 417/417 [00:23<00:00, 17.89it/s, loss=0.8416, accuracy=0.75615] \n",
      "Epoch 31/49 val: 100%|██████████| 417/417 [00:11<00:00, 36.41it/s, loss=1.895, accuracy=0.50915] \n",
      "Epoch 32/49 train: 100%|██████████| 417/417 [00:22<00:00, 18.69it/s, loss=0.87829, accuracy=0.74475]\n",
      "Epoch 32/49 val: 100%|██████████| 417/417 [00:11<00:00, 36.04it/s, loss=1.7399, accuracy=0.52985]\n",
      "Epoch 33/49 train: 100%|██████████| 417/417 [00:22<00:00, 18.40it/s, loss=0.79554, accuracy=0.77355]\n",
      "Epoch 33/49 val: 100%|██████████| 417/417 [00:11<00:00, 35.99it/s, loss=1.8464, accuracy=0.52895]\n",
      "Epoch 34/49 train: 100%|██████████| 417/417 [00:23<00:00, 17.99it/s, loss=0.776, accuracy=0.77804]  \n",
      "Epoch 34/49 val: 100%|██████████| 417/417 [00:11<00:00, 36.06it/s, loss=2.038, accuracy=0.51215] \n",
      "Epoch 35/49 train: 100%|██████████| 417/417 [00:22<00:00, 18.49it/s, loss=0.78825, accuracy=0.77594]\n",
      "Epoch 35/49 val: 100%|██████████| 417/417 [00:11<00:00, 36.14it/s, loss=2.0317, accuracy=0.49595]\n",
      "Epoch 36/49 train: 100%|██████████| 417/417 [00:22<00:00, 18.15it/s, loss=0.79413, accuracy=0.78134]\n",
      "Epoch 36/49 val: 100%|██████████| 417/417 [00:11<00:00, 36.02it/s, loss=2.325, accuracy=0.45725] \n",
      "Epoch 37/49 train: 100%|██████████| 417/417 [00:23<00:00, 18.12it/s, loss=0.81456, accuracy=0.76275]\n",
      "Epoch 37/49 val: 100%|██████████| 417/417 [00:11<00:00, 36.10it/s, loss=1.8247, accuracy=0.52895]\n",
      "Epoch 38/49 train: 100%|██████████| 417/417 [00:22<00:00, 18.49it/s, loss=0.82431, accuracy=0.77534]\n",
      "Epoch 38/49 val: 100%|██████████| 417/417 [00:11<00:00, 35.81it/s, loss=1.9134, accuracy=0.49505]\n",
      "Epoch 39/49 train: 100%|██████████| 417/417 [00:22<00:00, 18.14it/s, loss=0.78685, accuracy=0.76965]\n",
      "Epoch 39/49 val: 100%|██████████| 417/417 [00:11<00:00, 36.29it/s, loss=1.9448, accuracy=0.51995]\n",
      "  0%|          | 0/417 [00:00<?, ?it/s]"
     ]
    },
    {
     "name": "stdout",
     "output_type": "stream",
     "text": [
      "[CHECKPOINT] ../../data\\finetuned_models\\FGVC-Aircraft\\resnet\\resnet_FGVC-Aircraft_E40_occ0.pth\n"
     ]
    },
    {
     "name": "stderr",
     "output_type": "stream",
     "text": [
      "Epoch 40/49 train: 100%|██████████| 417/417 [00:22<00:00, 18.58it/s, loss=0.76357, accuracy=0.78554]\n",
      "Epoch 40/49 val: 100%|██████████| 417/417 [00:11<00:00, 36.03it/s, loss=1.8297, accuracy=0.53855]\n",
      "Epoch 41/49 train: 100%|██████████| 417/417 [00:23<00:00, 17.97it/s, loss=0.75026, accuracy=0.78224]\n",
      "Epoch 41/49 val: 100%|██████████| 417/417 [00:11<00:00, 36.09it/s, loss=1.9627, accuracy=0.49865]\n",
      "Epoch 42/49 train: 100%|██████████| 417/417 [00:22<00:00, 18.49it/s, loss=0.68818, accuracy=0.81014]\n",
      "Epoch 42/49 val: 100%|██████████| 417/417 [00:11<00:00, 36.29it/s, loss=2.1512, accuracy=0.48965]\n",
      "Epoch 43/49 train: 100%|██████████| 417/417 [00:22<00:00, 18.63it/s, loss=0.758, accuracy=0.79094]  \n",
      "Epoch 43/49 val: 100%|██████████| 417/417 [00:11<00:00, 36.11it/s, loss=2.2216, accuracy=0.49835]\n",
      "Epoch 44/49 train: 100%|██████████| 417/417 [00:22<00:00, 18.22it/s, loss=0.8003, accuracy=0.77654] \n",
      "Epoch 44/49 val: 100%|██████████| 417/417 [00:11<00:00, 35.98it/s, loss=1.8959, accuracy=0.51845]\n",
      "Epoch 45/49 train: 100%|██████████| 417/417 [00:22<00:00, 18.59it/s, loss=0.72482, accuracy=0.79904]\n",
      "Epoch 45/49 val: 100%|██████████| 417/417 [00:11<00:00, 36.52it/s, loss=2.2184, accuracy=0.50705]\n",
      "Epoch 46/49 train: 100%|██████████| 417/417 [00:22<00:00, 18.20it/s, loss=0.72523, accuracy=0.79124]\n",
      "Epoch 46/49 val: 100%|██████████| 417/417 [00:11<00:00, 36.21it/s, loss=1.9738, accuracy=0.53525]\n",
      "Epoch 47/49 train: 100%|██████████| 417/417 [00:22<00:00, 18.29it/s, loss=0.69861, accuracy=0.80384]\n",
      "Epoch 47/49 val: 100%|██████████| 417/417 [00:11<00:00, 35.95it/s, loss=2.3528, accuracy=0.48905]\n",
      "Epoch 48/49 train: 100%|██████████| 417/417 [00:22<00:00, 18.38it/s, loss=0.78451, accuracy=0.79094]\n",
      "Epoch 48/49 val: 100%|██████████| 417/417 [00:11<00:00, 36.01it/s, loss=2.0944, accuracy=0.50225]\n",
      "Epoch 49/49 train: 100%|██████████| 417/417 [00:22<00:00, 18.44it/s, loss=0.71904, accuracy=0.79214]\n",
      "Epoch 49/49 val: 100%|██████████| 417/417 [00:11<00:00, 36.37it/s, loss=1.9059, accuracy=0.53195]\n"
     ]
    },
    {
     "name": "stdout",
     "output_type": "stream",
     "text": [
      "[CHECKPOINT] ../../data\\finetuned_models\\FGVC-Aircraft\\resnet\\resnet_FGVC-Aircraft_E50_occ0.pth\n",
      "Training complete in 28m 52s\n",
      "Best val Acc: 0.545755\n",
      "[CHECKPOINT] ../../data\\finetuned_models\\FGVC-Aircraft\\resnet\\resnet_FGVC-Aircraft_E50_occ0.pth\n",
      "STARTING: model=resnet | dataset=StanfordCars | occlusion=0\n"
     ]
    },
    {
     "name": "stderr",
     "output_type": "stream",
     "text": [
      "Epoch 0/49 train: 100%|██████████| 1018/1018 [00:51<00:00, 19.75it/s, loss=5.2842, accuracy=0.0072446]\n",
      "Epoch 0/49 val: 100%|██████████| 503/503 [00:09<00:00, 50.49it/s, loss=5.2771, accuracy=0.0084577]\n",
      "Epoch 1/49 train: 100%|██████████| 1018/1018 [00:51<00:00, 19.89it/s, loss=5.2737, accuracy=0.0081041]\n",
      "Epoch 1/49 val: 100%|██████████| 503/503 [00:09<00:00, 52.35it/s, loss=5.2198, accuracy=0.013682] \n",
      "Epoch 2/49 train: 100%|██████████| 1018/1018 [00:51<00:00, 19.67it/s, loss=5.1774, accuracy=0.015349]\n",
      "Epoch 2/49 val: 100%|██████████| 503/503 [00:09<00:00, 52.56it/s, loss=5.0737, accuracy=0.018657]\n",
      "Epoch 3/49 train: 100%|██████████| 1018/1018 [00:51<00:00, 19.85it/s, loss=4.9086, accuracy=0.030697]\n",
      "Epoch 3/49 val: 100%|██████████| 503/503 [00:09<00:00, 51.82it/s, loss=4.4237, accuracy=0.059453]\n",
      "Epoch 4/49 train: 100%|██████████| 1018/1018 [00:51<00:00, 19.68it/s, loss=4.3297, accuracy=0.069622]\n",
      "Epoch 4/49 val: 100%|██████████| 503/503 [00:09<00:00, 51.22it/s, loss=3.7969, accuracy=0.1199] \n",
      "Epoch 5/49 train: 100%|██████████| 1018/1018 [00:51<00:00, 19.77it/s, loss=3.6731, accuracy=0.14894]\n",
      "Epoch 5/49 val: 100%|██████████| 503/503 [00:09<00:00, 51.53it/s, loss=2.9979, accuracy=0.23483]\n",
      "Epoch 6/49 train: 100%|██████████| 1018/1018 [00:51<00:00, 19.82it/s, loss=2.9998, accuracy=0.25945]\n",
      "Epoch 6/49 val: 100%|██████████| 503/503 [00:09<00:00, 52.15it/s, loss=2.397, accuracy=0.36517] \n",
      "Epoch 7/49 train: 100%|██████████| 1018/1018 [00:51<00:00, 19.86it/s, loss=2.6824, accuracy=0.32404]\n",
      "Epoch 7/49 val: 100%|██████████| 503/503 [00:09<00:00, 52.10it/s, loss=2.0916, accuracy=0.41915]\n",
      "Epoch 8/49 train: 100%|██████████| 1018/1018 [00:51<00:00, 19.59it/s, loss=2.2391, accuracy=0.4192] \n",
      "Epoch 8/49 val: 100%|██████████| 503/503 [00:09<00:00, 52.50it/s, loss=1.7784, accuracy=0.5097] \n",
      "Epoch 9/49 train: 100%|██████████| 1018/1018 [00:51<00:00, 19.83it/s, loss=1.9669, accuracy=0.48944]\n",
      "Epoch 9/49 val: 100%|██████████| 503/503 [00:09<00:00, 52.09it/s, loss=1.7902, accuracy=0.51716]\n",
      "  0%|          | 0/1018 [00:00<?, ?it/s]"
     ]
    },
    {
     "name": "stdout",
     "output_type": "stream",
     "text": [
      "[CHECKPOINT] ../../data\\finetuned_models\\StanfordCars\\resnet\\resnet_StanfordCars_E10_occ0.pth\n"
     ]
    },
    {
     "name": "stderr",
     "output_type": "stream",
     "text": [
      "Epoch 10/49 train: 100%|██████████| 1018/1018 [00:51<00:00, 19.63it/s, loss=1.794, accuracy=0.5307]  \n",
      "Epoch 10/49 val: 100%|██████████| 503/503 [00:09<00:00, 52.71it/s, loss=1.6377, accuracy=0.54826]\n",
      "Epoch 11/49 train: 100%|██████████| 1018/1018 [00:51<00:00, 19.75it/s, loss=1.6378, accuracy=0.56373]\n",
      "Epoch 11/49 val: 100%|██████████| 503/503 [00:09<00:00, 52.45it/s, loss=1.3484, accuracy=0.61517]\n",
      "Epoch 12/49 train: 100%|██████████| 1018/1018 [00:51<00:00, 19.87it/s, loss=1.4962, accuracy=0.60228]\n",
      "Epoch 12/49 val: 100%|██████████| 503/503 [00:09<00:00, 51.61it/s, loss=1.3116, accuracy=0.63433]\n",
      "Epoch 13/49 train: 100%|██████████| 1018/1018 [00:51<00:00, 19.86it/s, loss=1.5446, accuracy=0.59578]\n",
      "Epoch 13/49 val: 100%|██████████| 503/503 [00:09<00:00, 52.82it/s, loss=1.3237, accuracy=0.61045]\n",
      "Epoch 14/49 train: 100%|██████████| 1018/1018 [00:51<00:00, 19.89it/s, loss=1.4865, accuracy=0.60818]\n",
      "Epoch 14/49 val: 100%|██████████| 503/503 [00:09<00:00, 53.24it/s, loss=1.2145, accuracy=0.65697]\n",
      "Epoch 15/49 train: 100%|██████████| 1018/1018 [00:52<00:00, 19.56it/s, loss=1.3322, accuracy=0.64551]\n",
      "Epoch 15/49 val: 100%|██████████| 503/503 [00:09<00:00, 52.39it/s, loss=1.1463, accuracy=0.67338]\n",
      "Epoch 16/49 train: 100%|██████████| 1018/1018 [00:51<00:00, 19.78it/s, loss=1.2696, accuracy=0.65877]\n",
      "Epoch 16/49 val: 100%|██████████| 503/503 [00:09<00:00, 52.55it/s, loss=1.3503, accuracy=0.6209] \n",
      "Epoch 17/49 train: 100%|██████████| 1018/1018 [00:50<00:00, 20.05it/s, loss=1.2394, accuracy=0.6789] \n",
      "Epoch 17/49 val: 100%|██████████| 503/503 [00:09<00:00, 52.78it/s, loss=1.2598, accuracy=0.65274]\n",
      "Epoch 18/49 train: 100%|██████████| 1018/1018 [00:52<00:00, 19.52it/s, loss=1.1595, accuracy=0.69204]\n",
      "Epoch 18/49 val: 100%|██████████| 503/503 [00:09<00:00, 52.97it/s, loss=1.3467, accuracy=0.6301] \n",
      "Epoch 19/49 train: 100%|██████████| 1018/1018 [00:51<00:00, 19.61it/s, loss=1.1242, accuracy=0.70236]\n",
      "Epoch 19/49 val: 100%|██████████| 503/503 [00:09<00:00, 53.16it/s, loss=1.0302, accuracy=0.70846]\n",
      "  0%|          | 0/1018 [00:00<?, ?it/s]"
     ]
    },
    {
     "name": "stdout",
     "output_type": "stream",
     "text": [
      "[CHECKPOINT] ../../data\\finetuned_models\\StanfordCars\\resnet\\resnet_StanfordCars_E20_occ0.pth\n"
     ]
    },
    {
     "name": "stderr",
     "output_type": "stream",
     "text": [
      "Epoch 20/49 train: 100%|██████████| 1018/1018 [00:51<00:00, 19.92it/s, loss=1.0787, accuracy=0.71304]\n",
      "Epoch 20/49 val: 100%|██████████| 503/503 [00:09<00:00, 52.86it/s, loss=1.1356, accuracy=0.69677]\n",
      "Epoch 21/49 train: 100%|██████████| 1018/1018 [00:51<00:00, 19.76it/s, loss=1.0644, accuracy=0.71599]\n",
      "Epoch 21/49 val: 100%|██████████| 503/503 [00:09<00:00, 52.41it/s, loss=1.0572, accuracy=0.70124]\n",
      "Epoch 22/49 train: 100%|██████████| 1018/1018 [00:51<00:00, 19.93it/s, loss=1.0626, accuracy=0.72114]\n",
      "Epoch 22/49 val: 100%|██████████| 503/503 [00:09<00:00, 51.61it/s, loss=1.0666, accuracy=0.70622]\n",
      "Epoch 23/49 train: 100%|██████████| 1018/1018 [00:51<00:00, 19.65it/s, loss=1.0112, accuracy=0.73244]\n",
      "Epoch 23/49 val: 100%|██████████| 503/503 [00:09<00:00, 52.18it/s, loss=1.1273, accuracy=0.68682]\n",
      "Epoch 24/49 train: 100%|██████████| 1018/1018 [00:51<00:00, 19.91it/s, loss=1.007, accuracy=0.73269] \n",
      "Epoch 24/49 val: 100%|██████████| 503/503 [00:09<00:00, 51.89it/s, loss=1.0597, accuracy=0.7102]  \n",
      "Epoch 25/49 train: 100%|██████████| 1018/1018 [00:51<00:00, 19.84it/s, loss=0.96371, accuracy=0.74214]\n",
      "Epoch 25/49 val: 100%|██████████| 503/503 [00:09<00:00, 51.38it/s, loss=1.0796, accuracy=0.70348] \n",
      "Epoch 26/49 train: 100%|██████████| 1018/1018 [00:51<00:00, 19.88it/s, loss=0.93256, accuracy=0.7484] \n",
      "Epoch 26/49 val: 100%|██████████| 503/503 [00:09<00:00, 51.70it/s, loss=1.0231, accuracy=0.71244]\n",
      "Epoch 27/49 train: 100%|██████████| 1018/1018 [00:52<00:00, 19.31it/s, loss=0.8874, accuracy=0.76351] \n",
      "Epoch 27/49 val: 100%|██████████| 503/503 [00:09<00:00, 52.43it/s, loss=1.0983, accuracy=0.70149] \n",
      "Epoch 28/49 train: 100%|██████████| 1018/1018 [00:52<00:00, 19.35it/s, loss=0.86351, accuracy=0.76486]\n",
      "Epoch 28/49 val: 100%|██████████| 503/503 [00:09<00:00, 52.56it/s, loss=1.0696, accuracy=0.70821]\n",
      "Epoch 29/49 train: 100%|██████████| 1018/1018 [00:53<00:00, 18.90it/s, loss=0.84293, accuracy=0.7764] \n",
      "Epoch 29/49 val: 100%|██████████| 503/503 [00:09<00:00, 51.79it/s, loss=1.0873, accuracy=0.70398]\n"
     ]
    },
    {
     "name": "stdout",
     "output_type": "stream",
     "text": [
      "[CHECKPOINT] ../../data\\finetuned_models\\StanfordCars\\resnet\\resnet_StanfordCars_E30_occ0.pth\n"
     ]
    },
    {
     "name": "stderr",
     "output_type": "stream",
     "text": [
      "Epoch 30/49 train: 100%|██████████| 1018/1018 [00:55<00:00, 18.41it/s, loss=0.88599, accuracy=0.76719]\n",
      "Epoch 30/49 val: 100%|██████████| 503/503 [00:09<00:00, 51.89it/s, loss=1.0702, accuracy=0.72164]\n",
      "Epoch 31/49 train: 100%|██████████| 1018/1018 [00:54<00:00, 18.84it/s, loss=0.85838, accuracy=0.77051]\n",
      "Epoch 31/49 val: 100%|██████████| 503/503 [00:09<00:00, 51.01it/s, loss=1.0413, accuracy=0.7306]  \n",
      "Epoch 32/49 train: 100%|██████████| 1018/1018 [00:54<00:00, 18.52it/s, loss=0.83458, accuracy=0.77996]\n",
      "Epoch 32/49 val: 100%|██████████| 503/503 [00:10<00:00, 49.04it/s, loss=1.0203, accuracy=0.72338] \n",
      "Epoch 33/49 train: 100%|██████████| 1018/1018 [00:52<00:00, 19.21it/s, loss=0.81348, accuracy=0.78352]\n",
      "Epoch 33/49 val: 100%|██████████| 503/503 [00:09<00:00, 51.57it/s, loss=1.0775, accuracy=0.7005]  \n",
      "Epoch 34/49 train: 100%|██████████| 1018/1018 [00:52<00:00, 19.21it/s, loss=0.84988, accuracy=0.77775]\n",
      "Epoch 34/49 val: 100%|██████████| 503/503 [00:09<00:00, 51.26it/s, loss=1.1064, accuracy=0.71269]\n",
      "Epoch 35/49 train: 100%|██████████| 1018/1018 [00:52<00:00, 19.33it/s, loss=0.76655, accuracy=0.79445]\n",
      "Epoch 35/49 val: 100%|██████████| 503/503 [00:09<00:00, 51.56it/s, loss=1.0586, accuracy=0.73209] \n",
      "Epoch 36/49 train: 100%|██████████| 1018/1018 [00:52<00:00, 19.45it/s, loss=0.7594, accuracy=0.7985]  \n",
      "Epoch 36/49 val: 100%|██████████| 503/503 [00:09<00:00, 51.16it/s, loss=1.0291, accuracy=0.72463] \n",
      "Epoch 37/49 train: 100%|██████████| 1018/1018 [00:52<00:00, 19.57it/s, loss=0.74257, accuracy=0.80206]\n",
      "Epoch 37/49 val: 100%|██████████| 503/503 [00:09<00:00, 50.73it/s, loss=1.0184, accuracy=0.72388] \n",
      "Epoch 38/49 train: 100%|██████████| 1018/1018 [00:53<00:00, 19.06it/s, loss=0.74253, accuracy=0.80219]\n",
      "Epoch 38/49 val: 100%|██████████| 503/503 [00:09<00:00, 51.39it/s, loss=1.1018, accuracy=0.7102] \n",
      "Epoch 39/49 train: 100%|██████████| 1018/1018 [00:52<00:00, 19.56it/s, loss=0.72273, accuracy=0.81189]\n",
      "Epoch 39/49 val: 100%|██████████| 503/503 [00:09<00:00, 52.03it/s, loss=0.99447, accuracy=0.74154]\n",
      "  0%|          | 0/1018 [00:00<?, ?it/s]"
     ]
    },
    {
     "name": "stdout",
     "output_type": "stream",
     "text": [
      "[CHECKPOINT] ../../data\\finetuned_models\\StanfordCars\\resnet\\resnet_StanfordCars_E40_occ0.pth\n"
     ]
    },
    {
     "name": "stderr",
     "output_type": "stream",
     "text": [
      "Epoch 40/49 train: 100%|██████████| 1018/1018 [00:51<00:00, 19.89it/s, loss=0.74998, accuracy=0.80575]\n",
      "Epoch 40/49 val: 100%|██████████| 503/503 [00:09<00:00, 52.14it/s, loss=1.0397, accuracy=0.74055] \n",
      "Epoch 41/49 train: 100%|██████████| 1018/1018 [00:51<00:00, 19.77it/s, loss=0.69622, accuracy=0.81361]\n",
      "Epoch 41/49 val: 100%|██████████| 503/503 [00:09<00:00, 52.49it/s, loss=0.94877, accuracy=0.73781]\n",
      "Epoch 42/49 train: 100%|██████████| 1018/1018 [00:52<00:00, 19.44it/s, loss=0.74378, accuracy=0.81041]\n",
      "Epoch 42/49 val: 100%|██████████| 503/503 [00:09<00:00, 52.20it/s, loss=1.0385, accuracy=0.74129]\n",
      "Epoch 43/49 train: 100%|██████████| 1018/1018 [00:52<00:00, 19.33it/s, loss=0.72001, accuracy=0.81262]\n",
      "Epoch 43/49 val: 100%|██████████| 503/503 [00:09<00:00, 51.04it/s, loss=0.93004, accuracy=0.73881]\n",
      "Epoch 44/49 train: 100%|██████████| 1018/1018 [00:52<00:00, 19.34it/s, loss=0.74481, accuracy=0.80685]\n",
      "Epoch 44/49 val: 100%|██████████| 503/503 [00:09<00:00, 51.44it/s, loss=1.04, accuracy=0.72587]   \n",
      "Epoch 45/49 train: 100%|██████████| 1018/1018 [00:53<00:00, 19.15it/s, loss=0.70699, accuracy=0.81717]\n",
      "Epoch 45/49 val: 100%|██████████| 503/503 [00:09<00:00, 51.21it/s, loss=1.1133, accuracy=0.71816] \n",
      "Epoch 46/49 train: 100%|██████████| 1018/1018 [00:51<00:00, 19.81it/s, loss=0.68493, accuracy=0.8222] \n",
      "Epoch 46/49 val: 100%|██████████| 503/503 [00:09<00:00, 51.34it/s, loss=1.0414, accuracy=0.72114]\n",
      "Epoch 47/49 train: 100%|██████████| 1018/1018 [00:51<00:00, 19.65it/s, loss=0.64142, accuracy=0.82564]\n",
      "Epoch 47/49 val: 100%|██████████| 503/503 [00:09<00:00, 51.55it/s, loss=0.93956, accuracy=0.74677]\n",
      "Epoch 48/49 train: 100%|██████████| 1018/1018 [00:52<00:00, 19.45it/s, loss=0.65673, accuracy=0.82834]\n",
      "Epoch 48/49 val: 100%|██████████| 503/503 [00:09<00:00, 51.18it/s, loss=1.1697, accuracy=0.73159]\n",
      "Epoch 49/49 train: 100%|██████████| 1018/1018 [00:51<00:00, 19.85it/s, loss=0.65906, accuracy=0.82306]\n",
      "Epoch 49/49 val: 100%|██████████| 503/503 [00:09<00:00, 50.99it/s, loss=1.0351, accuracy=0.73358] \n"
     ]
    },
    {
     "name": "stdout",
     "output_type": "stream",
     "text": [
      "[CHECKPOINT] ../../data\\finetuned_models\\StanfordCars\\resnet\\resnet_StanfordCars_E50_occ0.pth\n",
      "Training complete in 51m 28s\n",
      "Best val Acc: 0.746766\n",
      "[CHECKPOINT] ../../data\\finetuned_models\\StanfordCars\\resnet\\resnet_StanfordCars_E50_occ0.pth\n",
      "STARTING: model=resnet | dataset=FGVC-Aircraft | occlusion=1\n"
     ]
    },
    {
     "name": "stderr",
     "output_type": "stream",
     "text": [
      "Epoch 0/49 train: 100%|██████████| 417/417 [00:22<00:00, 18.51it/s, loss=4.6192, accuracy=0.012597] \n",
      "Epoch 0/49 val: 100%|██████████| 417/417 [00:11<00:00, 36.00it/s, loss=4.5999, accuracy=0.012601]\n",
      "Epoch 1/49 train: 100%|██████████| 417/417 [00:23<00:00, 17.86it/s, loss=4.5815, accuracy=0.014997]\n",
      "Epoch 1/49 val: 100%|██████████| 417/417 [00:11<00:00, 35.81it/s, loss=4.5753, accuracy=0.015902]\n",
      "Epoch 2/49 train: 100%|██████████| 417/417 [00:22<00:00, 18.52it/s, loss=4.4044, accuracy=0.034193]\n",
      "Epoch 2/49 val: 100%|██████████| 417/417 [00:11<00:00, 35.58it/s, loss=4.3375, accuracy=0.048005]\n",
      "Epoch 3/49 train: 100%|██████████| 417/417 [00:22<00:00, 18.24it/s, loss=3.9324, accuracy=0.085483]\n",
      "Epoch 3/49 val: 100%|██████████| 417/417 [00:11<00:00, 36.08it/s, loss=3.559, accuracy=0.12121] \n",
      "Epoch 4/49 train: 100%|██████████| 417/417 [00:23<00:00, 18.07it/s, loss=3.5554, accuracy=0.13077]\n",
      "Epoch 4/49 val: 100%|██████████| 417/417 [00:11<00:00, 34.92it/s, loss=3.0999, accuracy=0.18692]\n",
      "Epoch 5/49 train: 100%|██████████| 417/417 [00:23<00:00, 18.10it/s, loss=3.1807, accuracy=0.19196]\n",
      "Epoch 5/49 val: 100%|██████████| 417/417 [00:11<00:00, 35.61it/s, loss=3.3373, accuracy=0.17942]\n",
      "Epoch 6/49 train: 100%|██████████| 417/417 [00:23<00:00, 18.02it/s, loss=2.8334, accuracy=0.25195]\n",
      "Epoch 6/49 val: 100%|██████████| 417/417 [00:11<00:00, 35.20it/s, loss=2.9471, accuracy=0.20882]\n",
      "Epoch 7/49 train: 100%|██████████| 417/417 [00:22<00:00, 18.36it/s, loss=2.5755, accuracy=0.30264]\n",
      "Epoch 7/49 val: 100%|██████████| 417/417 [00:11<00:00, 35.55it/s, loss=2.4856, accuracy=0.31083]\n",
      "Epoch 8/49 train: 100%|██████████| 417/417 [00:23<00:00, 17.99it/s, loss=2.334, accuracy=0.35093] \n",
      "Epoch 8/49 val: 100%|██████████| 417/417 [00:11<00:00, 35.97it/s, loss=2.1804, accuracy=0.35224]\n",
      "Epoch 9/49 train: 100%|██████████| 417/417 [00:22<00:00, 18.29it/s, loss=2.1695, accuracy=0.38182]\n",
      "Epoch 9/49 val: 100%|██████████| 417/417 [00:11<00:00, 35.29it/s, loss=2.1565, accuracy=0.36904]\n"
     ]
    },
    {
     "name": "stdout",
     "output_type": "stream",
     "text": [
      "[CHECKPOINT] ../../data\\finetuned_models\\FGVC-Aircraft\\resnet\\resnet_FGVC-Aircraft_E10_occ1.pth\n"
     ]
    },
    {
     "name": "stderr",
     "output_type": "stream",
     "text": [
      "Epoch 10/49 train: 100%|██████████| 417/417 [00:22<00:00, 18.46it/s, loss=2.0549, accuracy=0.41542]\n",
      "Epoch 10/49 val: 100%|██████████| 417/417 [00:11<00:00, 35.41it/s, loss=2.0673, accuracy=0.40504]\n",
      "Epoch 11/49 train: 100%|██████████| 417/417 [00:22<00:00, 18.71it/s, loss=1.8808, accuracy=0.45861]\n",
      "Epoch 11/49 val: 100%|██████████| 417/417 [00:11<00:00, 35.24it/s, loss=2.1213, accuracy=0.39754]\n",
      "Epoch 12/49 train: 100%|██████████| 417/417 [00:22<00:00, 18.44it/s, loss=1.7389, accuracy=0.494]  \n",
      "Epoch 12/49 val: 100%|██████████| 417/417 [00:11<00:00, 35.11it/s, loss=1.95, accuracy=0.44374]  \n",
      "Epoch 13/49 train: 100%|██████████| 417/417 [00:22<00:00, 18.21it/s, loss=1.6294, accuracy=0.53329]\n",
      "Epoch 13/49 val: 100%|██████████| 417/417 [00:11<00:00, 35.11it/s, loss=1.9077, accuracy=0.46505]\n",
      "Epoch 14/49 train: 100%|██████████| 417/417 [00:22<00:00, 18.77it/s, loss=1.582, accuracy=0.54259] \n",
      "Epoch 14/49 val: 100%|██████████| 417/417 [00:11<00:00, 35.51it/s, loss=1.8568, accuracy=0.45665]\n",
      "Epoch 15/49 train: 100%|██████████| 417/417 [00:22<00:00, 18.17it/s, loss=1.4876, accuracy=0.55999]\n",
      "Epoch 15/49 val: 100%|██████████| 417/417 [00:11<00:00, 35.59it/s, loss=1.8687, accuracy=0.47195]\n",
      "Epoch 16/49 train: 100%|██████████| 417/417 [00:22<00:00, 18.39it/s, loss=1.4518, accuracy=0.58368]\n",
      "Epoch 16/49 val: 100%|██████████| 417/417 [00:11<00:00, 35.55it/s, loss=2.1111, accuracy=0.40384]\n",
      "Epoch 17/49 train: 100%|██████████| 417/417 [00:22<00:00, 18.82it/s, loss=1.395, accuracy=0.59658] \n",
      "Epoch 17/49 val: 100%|██████████| 417/417 [00:11<00:00, 35.41it/s, loss=1.8962, accuracy=0.46955]\n",
      "Epoch 18/49 train: 100%|██████████| 417/417 [00:23<00:00, 17.71it/s, loss=1.3361, accuracy=0.60408]\n",
      "Epoch 18/49 val: 100%|██████████| 417/417 [00:11<00:00, 35.22it/s, loss=2.0755, accuracy=0.45305]\n",
      "Epoch 19/49 train: 100%|██████████| 417/417 [00:22<00:00, 18.36it/s, loss=1.2272, accuracy=0.64157]\n",
      "Epoch 19/49 val: 100%|██████████| 417/417 [00:11<00:00, 35.46it/s, loss=2.0032, accuracy=0.45515]\n",
      "  0%|          | 0/417 [00:00<?, ?it/s]"
     ]
    },
    {
     "name": "stdout",
     "output_type": "stream",
     "text": [
      "[CHECKPOINT] ../../data\\finetuned_models\\FGVC-Aircraft\\resnet\\resnet_FGVC-Aircraft_E20_occ1.pth\n"
     ]
    },
    {
     "name": "stderr",
     "output_type": "stream",
     "text": [
      "Epoch 20/49 train: 100%|██████████| 417/417 [00:22<00:00, 18.88it/s, loss=1.2172, accuracy=0.64487]\n",
      "Epoch 20/49 val: 100%|██████████| 417/417 [00:11<00:00, 36.10it/s, loss=1.9016, accuracy=0.48245]\n",
      "Epoch 21/49 train: 100%|██████████| 417/417 [00:22<00:00, 18.24it/s, loss=1.282, accuracy=0.62987] \n",
      "Epoch 21/49 val: 100%|██████████| 417/417 [00:11<00:00, 35.98it/s, loss=1.828, accuracy=0.47015] \n",
      "Epoch 22/49 train: 100%|██████████| 417/417 [00:22<00:00, 18.71it/s, loss=1.1629, accuracy=0.65387]\n",
      "Epoch 22/49 val: 100%|██████████| 417/417 [00:11<00:00, 35.85it/s, loss=1.9015, accuracy=0.46685]\n",
      "Epoch 23/49 train: 100%|██████████| 417/417 [00:22<00:00, 18.15it/s, loss=1.1652, accuracy=0.66257]\n",
      "Epoch 23/49 val: 100%|██████████| 417/417 [00:11<00:00, 35.60it/s, loss=1.8938, accuracy=0.48785]\n",
      "Epoch 24/49 train: 100%|██████████| 417/417 [00:22<00:00, 18.31it/s, loss=1.1028, accuracy=0.66887]\n",
      "Epoch 24/49 val: 100%|██████████| 417/417 [00:11<00:00, 35.39it/s, loss=1.9415, accuracy=0.47495]\n",
      "Epoch 25/49 train: 100%|██████████| 417/417 [00:22<00:00, 18.27it/s, loss=1.0664, accuracy=0.68746]\n",
      "Epoch 25/49 val: 100%|██████████| 417/417 [00:11<00:00, 35.16it/s, loss=1.8338, accuracy=0.49295]\n",
      "Epoch 26/49 train: 100%|██████████| 417/417 [00:22<00:00, 18.66it/s, loss=1.1204, accuracy=0.68386]\n",
      "Epoch 26/49 val: 100%|██████████| 417/417 [00:11<00:00, 35.17it/s, loss=1.9035, accuracy=0.49955]\n",
      "Epoch 27/49 train: 100%|██████████| 417/417 [00:22<00:00, 18.36it/s, loss=1.0095, accuracy=0.70456] \n",
      "Epoch 27/49 val: 100%|██████████| 417/417 [00:11<00:00, 35.61it/s, loss=1.8497, accuracy=0.50795]\n",
      "Epoch 28/49 train: 100%|██████████| 417/417 [00:22<00:00, 18.59it/s, loss=0.98269, accuracy=0.70756]\n",
      "Epoch 28/49 val: 100%|██████████| 417/417 [00:11<00:00, 35.14it/s, loss=1.8981, accuracy=0.50225]\n",
      "Epoch 29/49 train: 100%|██████████| 417/417 [00:22<00:00, 18.62it/s, loss=0.92434, accuracy=0.73005]\n",
      "Epoch 29/49 val: 100%|██████████| 417/417 [00:11<00:00, 34.98it/s, loss=1.8861, accuracy=0.48725]\n",
      "  0%|          | 0/417 [00:00<?, ?it/s]"
     ]
    },
    {
     "name": "stdout",
     "output_type": "stream",
     "text": [
      "[CHECKPOINT] ../../data\\finetuned_models\\FGVC-Aircraft\\resnet\\resnet_FGVC-Aircraft_E30_occ1.pth\n"
     ]
    },
    {
     "name": "stderr",
     "output_type": "stream",
     "text": [
      "Epoch 30/49 train: 100%|██████████| 417/417 [00:22<00:00, 18.55it/s, loss=0.92481, accuracy=0.73665]\n",
      "Epoch 30/49 val: 100%|██████████| 417/417 [00:11<00:00, 34.79it/s, loss=1.9447, accuracy=0.49715]\n",
      "Epoch 31/49 train: 100%|██████████| 417/417 [00:23<00:00, 17.87it/s, loss=0.87405, accuracy=0.73545]\n",
      "Epoch 31/49 val: 100%|██████████| 417/417 [00:11<00:00, 35.86it/s, loss=2.17, accuracy=0.47195]  \n",
      "Epoch 32/49 train: 100%|██████████| 417/417 [00:22<00:00, 18.13it/s, loss=0.84915, accuracy=0.75675]\n",
      "Epoch 32/49 val: 100%|██████████| 417/417 [00:11<00:00, 36.32it/s, loss=2.0835, accuracy=0.50855]\n",
      "Epoch 33/49 train: 100%|██████████| 417/417 [00:23<00:00, 18.12it/s, loss=0.83114, accuracy=0.74985]\n",
      "Epoch 33/49 val: 100%|██████████| 417/417 [00:11<00:00, 35.51it/s, loss=1.9912, accuracy=0.51335]\n",
      "Epoch 34/49 train: 100%|██████████| 417/417 [00:22<00:00, 18.44it/s, loss=0.81121, accuracy=0.75375]\n",
      "Epoch 34/49 val: 100%|██████████| 417/417 [00:11<00:00, 35.64it/s, loss=2.1317, accuracy=0.48665]\n",
      "Epoch 35/49 train: 100%|██████████| 417/417 [00:22<00:00, 18.22it/s, loss=0.85254, accuracy=0.75285]\n",
      "Epoch 35/49 val: 100%|██████████| 417/417 [00:11<00:00, 35.78it/s, loss=1.8828, accuracy=0.51155]\n",
      "Epoch 36/49 train: 100%|██████████| 417/417 [00:23<00:00, 17.76it/s, loss=0.76282, accuracy=0.77504]\n",
      "Epoch 36/49 val: 100%|██████████| 417/417 [00:11<00:00, 36.34it/s, loss=2.1767, accuracy=0.47825]\n",
      "Epoch 37/49 train: 100%|██████████| 417/417 [00:22<00:00, 18.26it/s, loss=0.76581, accuracy=0.77684]\n",
      "Epoch 37/49 val: 100%|██████████| 417/417 [00:11<00:00, 35.43it/s, loss=2.1304, accuracy=0.49895]\n",
      "Epoch 38/49 train: 100%|██████████| 417/417 [00:23<00:00, 18.08it/s, loss=0.7864, accuracy=0.78074] \n",
      "Epoch 38/49 val: 100%|██████████| 417/417 [00:11<00:00, 35.68it/s, loss=1.8834, accuracy=0.50735]\n",
      "Epoch 39/49 train: 100%|██████████| 417/417 [00:23<00:00, 18.05it/s, loss=0.7607, accuracy=0.78764] \n",
      "Epoch 39/49 val: 100%|██████████| 417/417 [00:11<00:00, 35.77it/s, loss=2.1342, accuracy=0.49775]\n"
     ]
    },
    {
     "name": "stdout",
     "output_type": "stream",
     "text": [
      "[CHECKPOINT] ../../data\\finetuned_models\\FGVC-Aircraft\\resnet\\resnet_FGVC-Aircraft_E40_occ1.pth\n"
     ]
    },
    {
     "name": "stderr",
     "output_type": "stream",
     "text": [
      "Epoch 40/49 train: 100%|██████████| 417/417 [00:22<00:00, 18.14it/s, loss=0.78504, accuracy=0.78164]\n",
      "Epoch 40/49 val: 100%|██████████| 417/417 [00:11<00:00, 35.24it/s, loss=2.0356, accuracy=0.50255]\n",
      "Epoch 41/49 train: 100%|██████████| 417/417 [00:22<00:00, 18.35it/s, loss=0.91608, accuracy=0.74865]\n",
      "Epoch 41/49 val: 100%|██████████| 417/417 [00:11<00:00, 35.37it/s, loss=2.0838, accuracy=0.49205]\n",
      "Epoch 42/49 train: 100%|██████████| 417/417 [00:22<00:00, 18.23it/s, loss=0.8149, accuracy=0.77055] \n",
      "Epoch 42/49 val: 100%|██████████| 417/417 [00:11<00:00, 35.57it/s, loss=2.0268, accuracy=0.49325]\n",
      "Epoch 43/49 train: 100%|██████████| 417/417 [00:23<00:00, 17.92it/s, loss=0.82197, accuracy=0.75645]\n",
      "Epoch 43/49 val: 100%|██████████| 417/417 [00:11<00:00, 35.40it/s, loss=1.9684, accuracy=0.52175]\n",
      "Epoch 44/49 train: 100%|██████████| 417/417 [00:22<00:00, 18.47it/s, loss=0.72837, accuracy=0.79424]\n",
      "Epoch 44/49 val: 100%|██████████| 417/417 [00:11<00:00, 35.65it/s, loss=2.195, accuracy=0.49535] \n",
      "Epoch 45/49 train: 100%|██████████| 417/417 [00:22<00:00, 18.49it/s, loss=0.69162, accuracy=0.79094]\n",
      "Epoch 45/49 val: 100%|██████████| 417/417 [00:11<00:00, 35.28it/s, loss=2.1867, accuracy=0.49445]\n",
      "Epoch 46/49 train: 100%|██████████| 417/417 [00:22<00:00, 18.49it/s, loss=0.7218, accuracy=0.79364] \n",
      "Epoch 46/49 val: 100%|██████████| 417/417 [00:11<00:00, 35.57it/s, loss=2.0893, accuracy=0.49505]\n",
      "Epoch 47/49 train: 100%|██████████| 417/417 [00:23<00:00, 17.89it/s, loss=0.69332, accuracy=0.80594]\n",
      "Epoch 47/49 val: 100%|██████████| 417/417 [00:11<00:00, 35.87it/s, loss=2.1156, accuracy=0.49385]\n",
      "Epoch 48/49 train: 100%|██████████| 417/417 [00:23<00:00, 17.60it/s, loss=0.70657, accuracy=0.79424]\n",
      "Epoch 48/49 val: 100%|██████████| 417/417 [00:11<00:00, 35.72it/s, loss=2.1239, accuracy=0.51065]\n",
      "Epoch 49/49 train: 100%|██████████| 417/417 [00:22<00:00, 18.15it/s, loss=0.66098, accuracy=0.80234]\n",
      "Epoch 49/49 val: 100%|██████████| 417/417 [00:11<00:00, 35.08it/s, loss=2.0286, accuracy=0.51875]\n"
     ]
    },
    {
     "name": "stdout",
     "output_type": "stream",
     "text": [
      "[CHECKPOINT] ../../data\\finetuned_models\\FGVC-Aircraft\\resnet\\resnet_FGVC-Aircraft_E50_occ1.pth\n",
      "Training complete in 28m 49s\n",
      "Best val Acc: 0.521752\n",
      "[CHECKPOINT] ../../data\\finetuned_models\\FGVC-Aircraft\\resnet\\resnet_FGVC-Aircraft_E50_occ1.pth\n",
      "STARTING: model=resnet | dataset=StanfordCars | occlusion=1\n"
     ]
    },
    {
     "name": "stderr",
     "output_type": "stream",
     "text": [
      "Epoch 0/49 train: 100%|██████████| 1018/1018 [00:51<00:00, 19.73it/s, loss=5.2841, accuracy=0.0058939]\n",
      "Epoch 0/49 val: 100%|██████████| 503/503 [00:09<00:00, 51.91it/s, loss=5.2732, accuracy=0.0069652]\n",
      "Epoch 1/49 train: 100%|██████████| 1018/1018 [00:51<00:00, 19.61it/s, loss=5.2779, accuracy=0.0072446]\n",
      "Epoch 1/49 val: 100%|██████████| 503/503 [00:09<00:00, 51.82it/s, loss=5.2396, accuracy=0.009204] \n",
      "Epoch 2/49 train: 100%|██████████| 1018/1018 [00:51<00:00, 19.79it/s, loss=5.1941, accuracy=0.013016]\n",
      "Epoch 2/49 val: 100%|██████████| 503/503 [00:09<00:00, 51.48it/s, loss=5.106, accuracy=0.022886] \n",
      "Epoch 3/49 train: 100%|██████████| 1018/1018 [00:51<00:00, 19.63it/s, loss=4.7967, accuracy=0.036837]\n",
      "Epoch 3/49 val: 100%|██████████| 503/503 [00:09<00:00, 50.95it/s, loss=4.2112, accuracy=0.077861]\n",
      "Epoch 4/49 train: 100%|██████████| 1018/1018 [00:50<00:00, 20.10it/s, loss=3.9864, accuracy=0.1067] \n",
      "Epoch 4/49 val: 100%|██████████| 503/503 [00:09<00:00, 52.14it/s, loss=3.2324, accuracy=0.20075]\n",
      "Epoch 5/49 train: 100%|██████████| 1018/1018 [00:52<00:00, 19.40it/s, loss=3.2225, accuracy=0.22507]\n",
      "Epoch 5/49 val: 100%|██████████| 503/503 [00:09<00:00, 51.29it/s, loss=2.5121, accuracy=0.3495] \n",
      "Epoch 6/49 train: 100%|██████████| 1018/1018 [00:51<00:00, 19.95it/s, loss=2.6551, accuracy=0.33669]\n",
      "Epoch 6/49 val: 100%|██████████| 503/503 [00:09<00:00, 51.82it/s, loss=1.9407, accuracy=0.46244]\n",
      "Epoch 7/49 train: 100%|██████████| 1018/1018 [00:52<00:00, 19.53it/s, loss=2.24, accuracy=0.42326]  \n",
      "Epoch 7/49 val: 100%|██████████| 503/503 [00:09<00:00, 52.35it/s, loss=1.6767, accuracy=0.54328]\n",
      "Epoch 8/49 train: 100%|██████████| 1018/1018 [00:51<00:00, 19.59it/s, loss=1.9407, accuracy=0.49497]\n",
      "Epoch 8/49 val: 100%|██████████| 503/503 [00:09<00:00, 52.24it/s, loss=1.4711, accuracy=0.59428]\n",
      "Epoch 9/49 train: 100%|██████████| 1018/1018 [00:52<00:00, 19.55it/s, loss=1.7203, accuracy=0.54654]\n",
      "Epoch 9/49 val: 100%|██████████| 503/503 [00:09<00:00, 52.85it/s, loss=1.4263, accuracy=0.59751]\n"
     ]
    },
    {
     "name": "stdout",
     "output_type": "stream",
     "text": [
      "[CHECKPOINT] ../../data\\finetuned_models\\StanfordCars\\resnet\\resnet_StanfordCars_E10_occ1.pth\n"
     ]
    },
    {
     "name": "stderr",
     "output_type": "stream",
     "text": [
      "Epoch 10/49 train: 100%|██████████| 1018/1018 [00:52<00:00, 19.50it/s, loss=1.5835, accuracy=0.57981]\n",
      "Epoch 10/49 val: 100%|██████████| 503/503 [00:10<00:00, 47.04it/s, loss=1.4574, accuracy=0.60398]\n",
      "Epoch 11/49 train: 100%|██████████| 1018/1018 [00:52<00:00, 19.47it/s, loss=1.52, accuracy=0.59713]  \n",
      "Epoch 11/49 val: 100%|██████████| 503/503 [00:09<00:00, 51.66it/s, loss=1.4953, accuracy=0.58831]\n",
      "Epoch 12/49 train:  81%|████████  | 821/1018 [00:43<00:10, 19.03it/s, loss=1.434, accuracy=0.62104] \n"
     ]
    },
    {
     "ename": "KeyboardInterrupt",
     "evalue": "",
     "output_type": "error",
     "traceback": [
      "\u001B[1;31m---------------------------------------------------------------------------\u001B[0m",
      "\u001B[1;31mKeyboardInterrupt\u001B[0m                         Traceback (most recent call last)",
      "\u001B[1;32m<ipython-input-9-223192fedc25>\u001B[0m in \u001B[0;36m<module>\u001B[1;34m\u001B[0m\n\u001B[0;32m     24\u001B[0m \u001B[1;33m\u001B[0m\u001B[0m\n\u001B[0;32m     25\u001B[0m \u001B[1;33m\u001B[0m\u001B[0m\n\u001B[1;32m---> 26\u001B[1;33m             \u001B[0mmodel\u001B[0m\u001B[1;33m,\u001B[0m \u001B[0mhist\u001B[0m\u001B[1;33m,\u001B[0m \u001B[0mstate\u001B[0m \u001B[1;33m=\u001B[0m \u001B[0mfinetune\u001B[0m\u001B[1;33m.\u001B[0m\u001B[0mfinetune_model\u001B[0m\u001B[1;33m(\u001B[0m\u001B[0mmodel_ft\u001B[0m\u001B[1;33m,\u001B[0m \u001B[0mcheckpoint_save\u001B[0m\u001B[1;33m=\u001B[0m\u001B[1;36m10\u001B[0m\u001B[1;33m)\u001B[0m\u001B[1;33m\u001B[0m\u001B[1;33m\u001B[0m\u001B[0m\n\u001B[0m\u001B[0;32m     27\u001B[0m \u001B[1;33m\u001B[0m\u001B[0m\n\u001B[0;32m     28\u001B[0m             \u001B[1;31m# Save the model after the last epoch\u001B[0m\u001B[1;33m\u001B[0m\u001B[1;33m\u001B[0m\u001B[1;33m\u001B[0m\u001B[0m\n",
      "\u001B[1;32m~\\PycharmProjects\\REDI-utwente\\src\\awesome_GNN\\finetune.py\u001B[0m in \u001B[0;36mfinetune_model\u001B[1;34m(model, checkpoint_save, optimizer_state_dict, _verbose, is_retrain)\u001B[0m\n\u001B[0;32m    449\u001B[0m \u001B[1;33m\u001B[0m\u001B[0m\n\u001B[0;32m    450\u001B[0m     \u001B[0mcriterion\u001B[0m \u001B[1;33m=\u001B[0m \u001B[0mnn\u001B[0m\u001B[1;33m.\u001B[0m\u001B[0mCrossEntropyLoss\u001B[0m\u001B[1;33m(\u001B[0m\u001B[1;33m)\u001B[0m\u001B[1;33m\u001B[0m\u001B[1;33m\u001B[0m\u001B[0m\n\u001B[1;32m--> 451\u001B[1;33m     model, hist, state = train_model(model,\n\u001B[0m\u001B[0;32m    452\u001B[0m                                      \u001B[0mget_dataloaders\u001B[0m\u001B[1;33m(\u001B[0m\u001B[1;33m)\u001B[0m\u001B[1;33m,\u001B[0m\u001B[1;33m\u001B[0m\u001B[1;33m\u001B[0m\u001B[0m\n\u001B[0;32m    453\u001B[0m                                      \u001B[0mcriterion\u001B[0m\u001B[1;33m,\u001B[0m\u001B[1;33m\u001B[0m\u001B[1;33m\u001B[0m\u001B[0m\n",
      "\u001B[1;32m~\\PycharmProjects\\REDI-utwente\\src\\awesome_GNN\\finetune.py\u001B[0m in \u001B[0;36mtrain_model\u001B[1;34m(model, dataloaders, criterion, optimizer, checkpoint_save, num_epochs, is_inception, is_retrain)\u001B[0m\n\u001B[0;32m    327\u001B[0m                     \u001B[1;31m# backward + optimize only if in training phase\u001B[0m\u001B[1;33m\u001B[0m\u001B[1;33m\u001B[0m\u001B[1;33m\u001B[0m\u001B[0m\n\u001B[0;32m    328\u001B[0m                     \u001B[1;32mif\u001B[0m \u001B[0mphase\u001B[0m \u001B[1;33m==\u001B[0m \u001B[1;34m'train'\u001B[0m\u001B[1;33m:\u001B[0m\u001B[1;33m\u001B[0m\u001B[1;33m\u001B[0m\u001B[0m\n\u001B[1;32m--> 329\u001B[1;33m                         \u001B[0mloss\u001B[0m\u001B[1;33m.\u001B[0m\u001B[0mbackward\u001B[0m\u001B[1;33m(\u001B[0m\u001B[1;33m)\u001B[0m\u001B[1;33m\u001B[0m\u001B[1;33m\u001B[0m\u001B[0m\n\u001B[0m\u001B[0;32m    330\u001B[0m                         \u001B[0moptimizer\u001B[0m\u001B[1;33m.\u001B[0m\u001B[0mstep\u001B[0m\u001B[1;33m(\u001B[0m\u001B[1;33m)\u001B[0m\u001B[1;33m\u001B[0m\u001B[1;33m\u001B[0m\u001B[0m\n\u001B[0;32m    331\u001B[0m \u001B[1;33m\u001B[0m\u001B[0m\n",
      "\u001B[1;32m~\\AppData\\Roaming\\Python\\Python38\\site-packages\\torch\\tensor.py\u001B[0m in \u001B[0;36mbackward\u001B[1;34m(self, gradient, retain_graph, create_graph)\u001B[0m\n\u001B[0;32m    219\u001B[0m                 \u001B[0mretain_graph\u001B[0m\u001B[1;33m=\u001B[0m\u001B[0mretain_graph\u001B[0m\u001B[1;33m,\u001B[0m\u001B[1;33m\u001B[0m\u001B[1;33m\u001B[0m\u001B[0m\n\u001B[0;32m    220\u001B[0m                 create_graph=create_graph)\n\u001B[1;32m--> 221\u001B[1;33m         \u001B[0mtorch\u001B[0m\u001B[1;33m.\u001B[0m\u001B[0mautograd\u001B[0m\u001B[1;33m.\u001B[0m\u001B[0mbackward\u001B[0m\u001B[1;33m(\u001B[0m\u001B[0mself\u001B[0m\u001B[1;33m,\u001B[0m \u001B[0mgradient\u001B[0m\u001B[1;33m,\u001B[0m \u001B[0mretain_graph\u001B[0m\u001B[1;33m,\u001B[0m \u001B[0mcreate_graph\u001B[0m\u001B[1;33m)\u001B[0m\u001B[1;33m\u001B[0m\u001B[1;33m\u001B[0m\u001B[0m\n\u001B[0m\u001B[0;32m    222\u001B[0m \u001B[1;33m\u001B[0m\u001B[0m\n\u001B[0;32m    223\u001B[0m     \u001B[1;32mdef\u001B[0m \u001B[0mregister_hook\u001B[0m\u001B[1;33m(\u001B[0m\u001B[0mself\u001B[0m\u001B[1;33m,\u001B[0m \u001B[0mhook\u001B[0m\u001B[1;33m)\u001B[0m\u001B[1;33m:\u001B[0m\u001B[1;33m\u001B[0m\u001B[1;33m\u001B[0m\u001B[0m\n",
      "\u001B[1;32m~\\AppData\\Roaming\\Python\\Python38\\site-packages\\torch\\autograd\\__init__.py\u001B[0m in \u001B[0;36mbackward\u001B[1;34m(tensors, grad_tensors, retain_graph, create_graph, grad_variables)\u001B[0m\n\u001B[0;32m    128\u001B[0m         \u001B[0mretain_graph\u001B[0m \u001B[1;33m=\u001B[0m \u001B[0mcreate_graph\u001B[0m\u001B[1;33m\u001B[0m\u001B[1;33m\u001B[0m\u001B[0m\n\u001B[0;32m    129\u001B[0m \u001B[1;33m\u001B[0m\u001B[0m\n\u001B[1;32m--> 130\u001B[1;33m     Variable._execution_engine.run_backward(\n\u001B[0m\u001B[0;32m    131\u001B[0m         \u001B[0mtensors\u001B[0m\u001B[1;33m,\u001B[0m \u001B[0mgrad_tensors_\u001B[0m\u001B[1;33m,\u001B[0m \u001B[0mretain_graph\u001B[0m\u001B[1;33m,\u001B[0m \u001B[0mcreate_graph\u001B[0m\u001B[1;33m,\u001B[0m\u001B[1;33m\u001B[0m\u001B[1;33m\u001B[0m\u001B[0m\n\u001B[0;32m    132\u001B[0m         allow_unreachable=True)  # allow_unreachable flag\n",
      "\u001B[1;31mKeyboardInterrupt\u001B[0m: "
     ]
    }
   ],
   "source": [
    "# inception model doesn't work.\n",
    "# models = ['resnet', 'alexnet', 'densenet', 'squeezenet', 'vgg']\n",
    "#\n",
    "# for name in models:\n",
    "#     print('[TRAINING]:', name)\n",
    "# finetune.CLASSIFIER_NAME = name\n",
    "importlib.reload(finetune)\n",
    "\n",
    "for classifier_name in ['resnet', 'densenet', 'vgg']:\n",
    "    for occlusion_name in ['0', '1', 'GAUSSIAN', 'SOFTMAX']:\n",
    "        for dataset in ['FGVC-Aircraft', 'StanfordCars']:\n",
    "            print('STARTING: model={} | dataset={} | occlusion={}'.format(classifier_name, dataset, occlusion_name))\n",
    "            finetune.CLASSIFIER_NAME = classifier_name\n",
    "            finetune.NUM_EPOCHS = 50  # early stopping\n",
    "            finetune.FEATURE_EXTRACT = False\n",
    "            finetune.DATASET = dataset  # [StanfordCars, FGVC-Aircraft]\n",
    "            finetune.OCCLUSION_NAME = occlusion_name\n",
    "            finetune.OPTIMIZER_NAME = 'adam'\n",
    "            # finetune.print_hypers() # shows params\n",
    "            # occlusion = '0'\n",
    "\n",
    "            # Initialize the model for this run\n",
    "            model_ft = finetune.initialize_model(_verbose=False)\n",
    "\n",
    "            model, hist, state = finetune.finetune_model(model_ft, checkpoint_save=10)\n",
    "\n",
    "            # Save the model after the last epoch\n",
    "            finetune.save_model(state)\n",
    "            del model_ft\n",
    "            del model\n",
    "            del hist\n",
    "            del state\n"
   ],
   "metadata": {
    "collapsed": false,
    "pycharm": {
     "name": "#%%\n"
    }
   }
  },
  {
   "cell_type": "code",
   "execution_count": null,
   "outputs": [],
   "source": [
    "# # Loading certain model\n",
    "# model_props = {\n",
    "#     'name': 'resnet',\n",
    "#     'dataset': 'StanfordCars',\n",
    "#     'epochs': 2\n",
    "# }\n",
    "# model_load_path = finetune.format_model_path(model_props['name'],\n",
    "#                                              model_props['dataset'],\n",
    "#                                              3)\n",
    "# ,\n",
    "# state = torch.load(model_load_path)\n",
    "# new_model = finetune.get_model_architecture(model_props['name'])\n",
    "# new_model.load_state_dict(state['model_state_dict'])\n",
    "# optimizer_state_dict = state['optimizer_state_dict']"
   ],
   "metadata": {
    "collapsed": false,
    "pycharm": {
     "name": "#%%\n"
    }
   }
  },
  {
   "cell_type": "code",
   "execution_count": null,
   "outputs": [],
   "source": [
    "# importlib.reload(finetune)"
   ],
   "metadata": {
    "collapsed": false,
    "pycharm": {
     "name": "#%%\n"
    }
   }
  },
  {
   "cell_type": "code",
   "execution_count": null,
   "outputs": [],
   "source": [
    "finetune.save_model(state)"
   ],
   "metadata": {
    "collapsed": false,
    "pycharm": {
     "name": "#%%\n"
    }
   }
  },
  {
   "cell_type": "code",
   "execution_count": null,
   "outputs": [],
   "source": [],
   "metadata": {
    "collapsed": false,
    "pycharm": {
     "name": "#%%\n"
    }
   }
  },
  {
   "cell_type": "code",
   "execution_count": null,
   "outputs": [],
   "source": [
    "finetune.format_model_path('resnet',\n",
    "                           'FGVC-Aircraft',\n",
    "                           30)\n",
    "\n",
    "checkpoint = finetune.load_checkpoint(model_save_path)\n",
    "\n",
    "train_acc_history, train_loss_history, val_acc_history = finetune.get_information_from_checkpoint(checkpoint, plot=True)"
   ],
   "metadata": {
    "collapsed": false,
    "pycharm": {
     "name": "#%%\n"
    }
   }
  },
  {
   "cell_type": "code",
   "execution_count": null,
   "outputs": [],
   "source": [
    "optimizer_state_dict = checkpoint['optimizer_state_dict']\n",
    "finetune.NUM_EPOCHS = 10\n",
    "checkpoint_model = finetune.get_model_architecture('resnet')\n",
    "checkpoint_model.load_state_dict(checkpoint['model_state_dict'])\n",
    "\n",
    "test_model, hist, state = finetune.finetune_model(checkpoint_model,\n",
    "                                                  'adam',\n",
    "                                                  optimizer_state_dict=optimizer_state_dict,\n",
    "                                                  checkpoint_save=5,\n",
    "                                                  is_retrain=True)\n"
   ],
   "metadata": {
    "collapsed": false,
    "pycharm": {
     "name": "#%%\n"
    }
   }
  },
  {
   "cell_type": "code",
   "execution_count": null,
   "outputs": [],
   "source": [
    "hist"
   ],
   "metadata": {
    "collapsed": false,
    "pycharm": {
     "name": "#%%\n"
    }
   }
  },
  {
   "cell_type": "code",
   "execution_count": null,
   "outputs": [],
   "source": [
    "finetune.save_model(state)"
   ],
   "metadata": {
    "collapsed": false,
    "pycharm": {
     "name": "#%%\n"
    }
   }
  },
  {
   "cell_type": "code",
   "execution_count": null,
   "outputs": [],
   "source": [],
   "metadata": {
    "collapsed": false,
    "pycharm": {
     "name": "#%%\n"
    }
   }
  }
 ],
 "metadata": {
  "kernelspec": {
   "display_name": "Python 3",
   "language": "python",
   "name": "python3"
  },
  "language_info": {
   "codemirror_mode": {
    "name": "ipython",
    "version": 2
   },
   "file_extension": ".py",
   "mimetype": "text/x-python",
   "name": "python",
   "nbconvert_exporter": "python",
   "pygments_lexer": "ipython2",
   "version": "2.7.6"
  }
 },
 "nbformat": 4,
 "nbformat_minor": 0
}