{
 "cells": [
  {
   "cell_type": "code",
   "execution_count": 24,
   "outputs": [
    {
     "name": "stdout",
     "output_type": "stream",
     "text": [
      "torch.Size([2, 3, 574, 700])\n",
      "(574, 700, 3)\n",
      "(2, 574, 700)\n",
      "(574, 700, 3)\n",
      "(574, 700, 3)\n"
     ]
    }
   ],
   "source": [
    "from pytorch_grad_cam import GradCAM, ScoreCAM, GradCAMPlusPlus, AblationCAM, XGradCAM, EigenCAM, FullGrad # todo: actually explore these other types of CAM\n",
    "from pytorch_grad_cam.utils.model_targets import ClassifierOutputTarget\n",
    "from pytorch_grad_cam.utils.image import show_cam_on_image\n",
    "from torchvision.models import resnet18\n",
    "import numpy as np\n",
    "from PIL import Image\n",
    "import torchvision\n",
    "import torch\n",
    "\n",
    "model = resnet18(pretrained=True)\n",
    "target_layers = [model.layer4[-1]]\n",
    "path = '../../data/GradCAM/cat.jpg'\n",
    "image = np.array(Image.open(path))\n",
    "image_float_np = np.float32(image) / 255\n",
    "transform = torchvision.transforms.Compose([\n",
    "    torchvision.transforms.ToTensor(),\n",
    "])\n",
    "image_tensor = torchvision.transforms.ToTensor()(image).unsqueeze(0)\n",
    "input_tensor = torch.cat([image_tensor, image_tensor], dim=0)\n",
    "print(input_tensor.shape)\n",
    "print(image.shape)\n",
    "# input_tensor = input_tensor.unsqueeze(0)\n",
    "with GradCAM(model=model, target_layers=target_layers, use_cuda=False) as cam:\n",
    "    category = 281  # presumably, this is the class cat in imagenet?\n",
    "    targets = [ClassifierOutputTarget(category), ClassifierOutputTarget(category)]\n",
    "    grayscale_cam = cam(input_tensor=input_tensor, targets=targets)\n",
    "    print(grayscale_cam.shape)\n",
    "for i in range(grayscale_cam.shape[0]):\n",
    "    print(image.shape)\n",
    "    visualization = show_cam_on_image(image/255, grayscale_cam[i, :], use_rgb=True)\n",
    "    Image.fromarray(visualization).show()\n",
    "# visualization = show_cam_on_image(image/255, grayscale_cam, use_rgb=True)\n",
    "# Image.fromarray(visualization)\n"
   ],
   "metadata": {
    "collapsed": false,
    "pycharm": {
     "name": "#%%\n"
    }
   }
  },
  {
   "cell_type": "code",
   "execution_count": 1,
   "outputs": [],
   "source": [
    "import distract\n",
    "import finetune\n",
    "import importlib\n",
    "importlib.reload(distract)\n",
    "importlib.reload(finetune)\n",
    "\n",
    "finetune.NUM_CLASSES = 196\n",
    "finetune.CLASSIFIER_NAME = 'resnet'\n",
    "finetune.NUM_EPOCHS = 15\n",
    "finetune.FEATURE_EXTRACT = False\n",
    "classifier = finetune.initialize_model()\n",
    "classifier, hist = finetune.finetune_model(classifier)"
   ],
   "metadata": {
    "collapsed": false,
    "pycharm": {
     "name": "#%%\n"
    }
   }
  },
  {
   "cell_type": "code",
   "execution_count": 2,
   "outputs": [
    {
     "name": "stdout",
     "output_type": "stream",
     "text": [
      "Distractor(\n",
      "  (cnn): Conv2d(1, 1, kernel_size=(3, 3), stride=(1, 1), padding=(1, 1))\n",
      ")\n"
     ]
    }
   ],
   "source": [
    "importlib.reload(distract)\n",
    "distractor = distract.initialize_distractor(classifier)\n",
    "print(distractor)"
   ],
   "metadata": {
    "collapsed": false,
    "pycharm": {
     "name": "#%%\n"
    }
   }
  },
  {
   "cell_type": "code",
   "execution_count": 3,
   "outputs": [
    {
     "name": "stdout",
     "output_type": "stream",
     "text": [
      "(224, 224, 1)\n",
      "(224, 224, 3)\n",
      "(224, 224, 1)\n",
      "(224, 224, 3)\n",
      "(224, 224, 1)\n",
      "(224, 224, 3)\n",
      "(224, 224, 1)\n",
      "(224, 224, 3)\n",
      "(224, 224, 1)\n",
      "(224, 224, 3)\n",
      "(224, 224, 1)\n",
      "(224, 224, 3)\n",
      "(224, 224, 1)\n",
      "(224, 224, 3)\n",
      "(224, 224, 1)\n",
      "(224, 224, 3)\n"
     ]
    }
   ],
   "source": [
    "importlib.reload(distract)\n",
    "\n",
    "distract.train_distractor(distractor, classifier)"
   ],
   "metadata": {
    "collapsed": false,
    "pycharm": {
     "name": "#%%\n"
    }
   }
  },
  {
   "cell_type": "code",
   "execution_count": null,
   "outputs": [],
   "source": [],
   "metadata": {
    "collapsed": false,
    "pycharm": {
     "name": "#%%\n"
    }
   }
  }
 ],
 "metadata": {
  "kernelspec": {
   "display_name": "Python 3",
   "language": "python",
   "name": "python3"
  },
  "language_info": {
   "codemirror_mode": {
    "name": "ipython",
    "version": 2
   },
   "file_extension": ".py",
   "mimetype": "text/x-python",
   "name": "python",
   "nbconvert_exporter": "python",
   "pygments_lexer": "ipython2",
   "version": "2.7.6"
  }
 },
 "nbformat": 4,
 "nbformat_minor": 0
}