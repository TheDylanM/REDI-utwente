{
 "cells": [
  {
   "cell_type": "code",
   "execution_count": 1,
   "metadata": {
    "pycharm": {
     "name": "#%%\n"
    }
   },
   "outputs": [],
   "source": [
    "import torch\n",
    "from torch.utils.data import Dataset\n",
    "from torchvision import datasets\n",
    "from torchvision.transforms import ToTensor\n",
    "import matplotlib.pyplot as plt\n",
    "import scipy.io\n",
    "import numpy as np\n",
    "import os\n",
    "import shutil\n",
    "from tqdm import tqdm\n",
    "import math"
   ]
  },
  {
   "cell_type": "code",
   "execution_count": 2,
   "metadata": {
    "pycharm": {
     "name": "#%%\n"
    }
   },
   "outputs": [],
   "source": [
    "# http://ai.stanford.edu.ezproxy2.utwente.nl/~jkrause/cars/car_dataset.html"
   ]
  },
  {
   "cell_type": "code",
   "execution_count": 3,
   "metadata": {
    "pycharm": {
     "name": "#%%\n"
    }
   },
   "outputs": [],
   "source": [
    "def load_dataset(path, split=None):\n",
    "    training_labels = scipy.io.loadmat(path)\n",
    "    res = [np.array([bbox_x1, bbox_y1, bbox_x2, bbox_y2, label, file_name], dtype='object').reshape(-1) \n",
    "           for bbox_x1, bbox_y1, bbox_x2, bbox_y2, label, file_name in training_labels['annotations'][0]]\n",
    "    return np.asarray(res) # Returns bbox_x1, bbox_y1, bbox_x2, bbox_y2, label, file_name\n",
    "\n",
    "def load_labels(path):\n",
    "    mat = scipy.io.loadmat(path)\n",
    "    class_names = [l[0] for l in mat['class_names'][0,:]]\n",
    "    # How stupid that the class indices start with 1... \n",
    "    # Replace the '/' for when creating structure \n",
    "    label_map = {idx+1: name.replace('/', '_') for idx, name in enumerate(class_names)}\n",
    "    return label_map # {class_index: label}\n",
    "\n",
    "def lookup_class_idx_by_file_name(dataset, file_name):\n",
    "    idx = np.where(dataset[:, 5]==file_name) # Do lookup by file_name\n",
    "    class_idx = dataset[idx, 4]\n",
    "    return class_idx[0,0]\n",
    "\n",
    "def mkdir_if_not_exists(dirpath):\n",
    "    if not os.path.exists(dirpath):\n",
    "        os.mkdir(dirpath)"
   ]
  },
  {
   "cell_type": "markdown",
   "metadata": {
    "pycharm": {
     "name": "#%% md\n"
    }
   },
   "source": [
    "### Paths\n",
    "To use this notebooks correctly adjust the paths below to your corresponding directories:\n",
    "\n",
    "from `http://ai.stanford.edu.ezproxy2.utwente.nl/~jkrause/cars/car_dataset.html` download the:\n",
    "- <b>cars_train</b> (training images)\n",
    "- <b>cars_test</b> (testing images)\n",
    "- <b>annotations</b> (devkit + test annotations, the test annotation can be downloaded from the 'update' paragraph)\n",
    "\n",
    "File structure you need to create must look like: \n",
    "```\n",
    "data\n",
    "│   \n",
    "└───StanfordCars\n",
    "    │\n",
    "    └───cars_train\n",
    "    │    +   [training_images...]\n",
    "    └───cars_test\n",
    "    │    +   [testing_images...]\n",
    "    └───annotations\n",
    "         +  cars_train_annos.mat\n",
    "         +  cars_test_annos_withlabels.mat\n",
    "         +  cars_meta.mat\n",
    "```"
   ]
  },
  {
   "cell_type": "code",
   "execution_count": 4,
   "metadata": {
    "pycharm": {
     "name": "#%%\n"
    }
   },
   "outputs": [],
   "source": [
    "global_path = '../data/StanfordCars'\n",
    "training_imgs_path = global_path+'/cars_train'\n",
    "testing_imgs_path = global_path+'/cars_test'\n",
    "\n",
    "training_dataset = load_dataset(global_path+'/annotations/cars_train_annos.mat')\n",
    "testing_dataset = load_dataset(global_path+'/annotations/cars_test_annos_withlabels.mat')\n",
    "label_map= load_labels(global_path+'/annotations/cars_meta.mat')"
   ]
  },
  {
   "cell_type": "code",
   "execution_count": 5,
   "metadata": {
    "collapsed": false,
    "pycharm": {
     "name": "#%%\n"
    }
   },
   "outputs": [],
   "source": [
    "# Create structure for loading into PyTorch Dataset model\n",
    "folder_name = 'pytorch_structured_dataset'\n",
    "folder_path = os.path.join(global_path, folder_name)\n",
    "\n",
    "\n",
    "mkdir_if_not_exists(folder_path)\n",
    "for subfolder_name in ['train', 'test', 'val']:\n",
    "    subfolder_path = os.path.join(folder_path, subfolder_name)\n",
    "    mkdir_if_not_exists(subfolder_path)\n",
    "    for label in label_map.values():\n",
    "        mkdir_if_not_exists(os.path.join(subfolder_path, label))"
   ]
  },
  {
   "cell_type": "code",
   "execution_count": 6,
   "metadata": {
    "pycharm": {
     "name": "#%%\n"
    }
   },
   "outputs": [],
   "source": [
    "# Testing dataset needs to be split into validation and testing (split in half)\n"
   ]
  },
  {
   "cell_type": "code",
   "execution_count": 8,
   "metadata": {
    "pycharm": {
     "name": "#%%\n"
    }
   },
   "outputs": [
    {
     "name": "stderr",
     "output_type": "stream",
     "text": [
      "100%|██████████| 8144/8144 [00:05<00:00, 1608.69it/s]\n",
      "100%|██████████| 4020/4020 [00:02<00:00, 1464.75it/s]\n",
      "100%|██████████| 4020/4020 [00:02<00:00, 1454.94it/s]\n"
     ]
    }
   ],
   "source": [
    "# Put all the training images into every directory\n",
    "val_imgs_path, test_imgs_path = np.split(np.asarray(os.listdir(testing_imgs_path))[:-1], 2)\n",
    "imgs_path = {\n",
    "    'train': os.listdir(training_imgs_path),\n",
    "    'val': val_imgs_path,\n",
    "    'test': test_imgs_path\n",
    "}\n",
    "\n",
    "dataset = {\n",
    "    'train': training_dataset,\n",
    "    'val': [],\n",
    "    'test': testing_dataset\n",
    "}\n",
    "\n",
    "for subfolder_name, relative_path in [('train', training_imgs_path),\n",
    "                                      ('val', testing_imgs_path),\n",
    "                                      ('test', testing_imgs_path)]:\n",
    "    for img_path in tqdm(imgs_path[subfolder_name]):\n",
    "        # print(training_imgs_path+'/'+img_path)\n",
    "        # Get class by looking up file_name\n",
    "        if subfolder_name in ['val', 'test']:\n",
    "            img_class_idx = lookup_class_idx_by_file_name(dataset['test'], img_path)\n",
    "        else:\n",
    "            img_class_idx = lookup_class_idx_by_file_name(dataset[subfolder_name], img_path)\n",
    "        img_class_label = label_map[img_class_idx]\n",
    "\n",
    "        src = os.path.join(relative_path, img_path)\n",
    "        dst = os.path.join(global_path, folder_name, subfolder_name, img_class_label, img_path)\n",
    "        # dst = global_path+'/'+folder_name+'/train/'+img_class_label+'/'+img_path\n",
    "        shutil.copyfile(src, dst)\n"
   ]
  },
  {
   "cell_type": "code",
   "execution_count": 95,
   "metadata": {
    "pycharm": {
     "name": "#%%\n"
    }
   },
   "outputs": [
    {
     "name": "stderr",
     "output_type": "stream",
     "text": [
      "100%|██████████| 8144/8144 [00:04<00:00, 1637.31it/s]\n",
      "100%|██████████| 8041/8041 [00:05<00:00, 1423.82it/s]\n"
     ]
    }
   ],
   "source": [
    "# Create seperate directory for testing images\n",
    "# folder_name = 'pytorch_structured_dataset'\n",
    "# folder_path = os.path.join(global_path, folder_name, 'test')\n",
    "\n",
    "# mkdir_if_not_exists(folder_path)\n"
   ]
  },
  {
   "cell_type": "code",
   "execution_count": 96,
   "metadata": {
    "pycharm": {
     "name": "#%%\n"
    }
   },
   "outputs": [],
   "source": [
    "def bar_plot_classes(dataset, classes):\n",
    "    print(\"Length:\", len(dataset))\n",
    "    plt.figure(figsize=(16, 7), dpi=90)\n",
    "    plt.xticks(np.arange(0, len(classes)+1, 5), rotation=45, ha=\"right\")\n",
    "    plt.xlabel('classes', fontsize=8, labelpad=4)\n",
    "\n",
    "    plt.bar(np.arange(0, len(classes), 1), counts, width=0.6, align='center')   "
   ]
  },
  {
   "cell_type": "code",
   "execution_count": 97,
   "metadata": {
    "pycharm": {
     "name": "#%%\n"
    },
    "scrolled": false
   },
   "outputs": [
    {
     "name": "stdout",
     "output_type": "stream",
     "text": [
      "Length: 16185\n"
     ]
    },
    {
     "data": {
      "image/png": "[encoded data removed]",
      "text/plain": [
       "<Figure size 1440x630 with 1 Axes>"
      ]
     },
     "metadata": {
      "needs_background": "light"
     },
     "output_type": "display_data"
    }
   ],
   "source": [
    "# Distributions of the classes\n",
    "total_dataset_classes = np.append(testing_dataset[:, 4], training_dataset[:, 4])\n",
    "unique, counts = np.unique(total_dataset_classes, return_counts=True)\n",
    "classes = [label_map.get(class_) for class_ in unique]\n",
    "\n",
    "bar_plot_classes(total_dataset_classes, classes)"
   ]
  },
  {
   "cell_type": "code",
   "execution_count": null,
   "metadata": {
    "pycharm": {
     "name": "#%%\n"
    }
   },
   "outputs": [],
   "source": []
  },
  {
   "cell_type": "code",
   "execution_count": null,
   "metadata": {
    "pycharm": {
     "name": "#%%\n"
    }
   },
   "outputs": [],
   "source": []
  },
  {
   "cell_type": "code",
   "execution_count": 100,
   "metadata": {
    "pycharm": {
     "name": "#%%\n"
    }
   },
   "outputs": [
    {
     "name": "stdout",
     "output_type": "stream",
     "text": [
      "Sample count:\n",
      "training:   8144 \n",
      "testing:    4020 \n",
      "validation: 4021 \n",
      "\n"
     ]
    }
   ],
   "source": [
    "testing_dataset_length = math.floor(testing_dataset.shape[0]/2)\n",
    "validation_dataset_length = math.ceil(testing_dataset.shape[0]/2)\n",
    "\n",
    "print(\"Sample count:\\n\\\n",
    "training:   {} \\n\\\n",
    "testing:    {} \\n\\\n",
    "validation: {} \\n\\\n",
    "\".format(training_dataset.shape[0], testing_dataset_length, validation_dataset_length))"
   ]
  },
  {
   "cell_type": "code",
   "execution_count": null,
   "metadata": {
    "pycharm": {
     "name": "#%%\n"
    }
   },
   "outputs": [],
   "source": []
  },
  {
   "cell_type": "code",
   "execution_count": null,
   "metadata": {
    "pycharm": {
     "name": "#%%\n"
    }
   },
   "outputs": [],
   "source": [
    "len(training_dataset[:,4]), len(testing_dataset[:,4])"
   ]
  },
  {
   "cell_type": "code",
   "execution_count": null,
   "metadata": {
    "pycharm": {
     "name": "#%%\n"
    }
   },
   "outputs": [],
   "source": [
    "np.arange(0, len(classes), 1)"
   ]
  },
  {
   "cell_type": "code",
   "execution_count": 136,
   "metadata": {
    "pycharm": {
     "name": "#%%\n"
    }
   },
   "outputs": [
    {
     "name": "stdout",
     "output_type": "stream",
     "text": [
      "1 ['00076.jpg', '00457.jpg', '00684.jpg', '01117.jpg', '01167.jpg', '01199.jpg', '01226.jpg', '01461.jpg', '01518.jpg', '01538.jpg', '01802.jpg', '01887.jpg', '01918.jpg', '01946.jpg', '02017.jpg', '02205.jpg', '02217.jpg', '02267.jpg', '02547.jpg', '02602.jpg', '02665.jpg', '02835.jpg', '03073.jpg', '03094.jpg', '03193.jpg', '03246.jpg', '03585.jpg', '03640.jpg', '03876.jpg', '03904.jpg', '04088.jpg', '04117.jpg', '04768.jpg', '05023.jpg', '05275.jpg', '05605.jpg', '05888.jpg', '06051.jpg', '07258.jpg', '07393.jpg', '07530.jpg', '07917.jpg', '07948.jpg', '08035.jpg']\n"
     ]
    }
   ],
   "source": [
    "\n",
    "    \n",
    "# for arr in np.split():\n",
    "#     print(len(arr))"
   ]
  },
  {
   "cell_type": "code",
   "execution_count": 137,
   "metadata": {
    "pycharm": {
     "name": "#%%\n"
    }
   },
   "outputs": [
    {
     "data": {
      "text/plain": [
       "{1: array(['03073.jpg', '03094.jpg', '03193.jpg', '03246.jpg', '03585.jpg',\n",
       "        '03640.jpg', '03876.jpg', '03904.jpg', '04088.jpg', '04117.jpg',\n",
       "        '04768.jpg', '05023.jpg', '05275.jpg', '05605.jpg', '05888.jpg',\n",
       "        '06051.jpg', '07258.jpg', '07393.jpg', '07530.jpg', '07917.jpg',\n",
       "        '07948.jpg', '08035.jpg'], dtype='<U9'),\n",
       " 2: [],\n",
       " 3: [],\n",
       " 4: [],\n",
       " 5: [],\n",
       " 6: [],\n",
       " 7: [],\n",
       " 8: [],\n",
       " 9: [],\n",
       " 10: [],\n",
       " 11: [],\n",
       " 12: [],\n",
       " 13: [],\n",
       " 14: [],\n",
       " 15: [],\n",
       " 16: [],\n",
       " 17: [],\n",
       " 18: [],\n",
       " 19: [],\n",
       " 20: [],\n",
       " 21: [],\n",
       " 22: [],\n",
       " 23: [],\n",
       " 24: [],\n",
       " 25: [],\n",
       " 26: [],\n",
       " 27: [],\n",
       " 28: [],\n",
       " 29: [],\n",
       " 30: [],\n",
       " 31: [],\n",
       " 32: [],\n",
       " 33: [],\n",
       " 34: [],\n",
       " 35: [],\n",
       " 36: [],\n",
       " 37: [],\n",
       " 38: [],\n",
       " 39: [],\n",
       " 40: [],\n",
       " 41: [],\n",
       " 42: [],\n",
       " 43: [],\n",
       " 44: [],\n",
       " 45: [],\n",
       " 46: [],\n",
       " 47: [],\n",
       " 48: [],\n",
       " 49: [],\n",
       " 50: [],\n",
       " 51: [],\n",
       " 52: [],\n",
       " 53: [],\n",
       " 54: [],\n",
       " 55: [],\n",
       " 56: [],\n",
       " 57: [],\n",
       " 58: [],\n",
       " 59: [],\n",
       " 60: [],\n",
       " 61: [],\n",
       " 62: [],\n",
       " 63: [],\n",
       " 64: [],\n",
       " 65: [],\n",
       " 66: [],\n",
       " 67: [],\n",
       " 68: [],\n",
       " 69: [],\n",
       " 70: [],\n",
       " 71: [],\n",
       " 72: [],\n",
       " 73: [],\n",
       " 74: [],\n",
       " 75: [],\n",
       " 76: [],\n",
       " 77: [],\n",
       " 78: [],\n",
       " 79: [],\n",
       " 80: [],\n",
       " 81: [],\n",
       " 82: [],\n",
       " 83: [],\n",
       " 84: [],\n",
       " 85: [],\n",
       " 86: [],\n",
       " 87: [],\n",
       " 88: [],\n",
       " 89: [],\n",
       " 90: [],\n",
       " 91: [],\n",
       " 92: [],\n",
       " 93: [],\n",
       " 94: [],\n",
       " 95: [],\n",
       " 96: [],\n",
       " 97: [],\n",
       " 98: [],\n",
       " 99: [],\n",
       " 100: [],\n",
       " 101: [],\n",
       " 102: [],\n",
       " 103: [],\n",
       " 104: [],\n",
       " 105: [],\n",
       " 106: [],\n",
       " 107: [],\n",
       " 108: [],\n",
       " 109: [],\n",
       " 110: [],\n",
       " 111: [],\n",
       " 112: [],\n",
       " 113: [],\n",
       " 114: [],\n",
       " 115: [],\n",
       " 116: [],\n",
       " 117: [],\n",
       " 118: [],\n",
       " 119: [],\n",
       " 120: [],\n",
       " 121: [],\n",
       " 122: [],\n",
       " 123: [],\n",
       " 124: [],\n",
       " 125: [],\n",
       " 126: [],\n",
       " 127: [],\n",
       " 128: [],\n",
       " 129: [],\n",
       " 130: [],\n",
       " 131: [],\n",
       " 132: [],\n",
       " 133: [],\n",
       " 134: [],\n",
       " 135: [],\n",
       " 136: [],\n",
       " 137: [],\n",
       " 138: [],\n",
       " 139: [],\n",
       " 140: [],\n",
       " 141: [],\n",
       " 142: [],\n",
       " 143: [],\n",
       " 144: [],\n",
       " 145: [],\n",
       " 146: [],\n",
       " 147: [],\n",
       " 148: [],\n",
       " 149: [],\n",
       " 150: [],\n",
       " 151: [],\n",
       " 152: [],\n",
       " 153: [],\n",
       " 154: [],\n",
       " 155: [],\n",
       " 156: [],\n",
       " 157: [],\n",
       " 158: [],\n",
       " 159: [],\n",
       " 160: [],\n",
       " 161: [],\n",
       " 162: [],\n",
       " 163: [],\n",
       " 164: [],\n",
       " 165: [],\n",
       " 166: [],\n",
       " 167: [],\n",
       " 168: [],\n",
       " 169: [],\n",
       " 170: [],\n",
       " 171: [],\n",
       " 172: [],\n",
       " 173: [],\n",
       " 174: [],\n",
       " 175: [],\n",
       " 176: [],\n",
       " 177: [],\n",
       " 178: [],\n",
       " 179: [],\n",
       " 180: [],\n",
       " 181: [],\n",
       " 182: [],\n",
       " 183: [],\n",
       " 184: [],\n",
       " 185: [],\n",
       " 186: [],\n",
       " 187: [],\n",
       " 188: [],\n",
       " 189: [],\n",
       " 190: [],\n",
       " 191: [],\n",
       " 192: [],\n",
       " 193: [],\n",
       " 194: [],\n",
       " 195: [],\n",
       " 196: []}"
      ]
     },
     "execution_count": 137,
     "metadata": {},
     "output_type": "execute_result"
    }
   ],
   "source": [
    "val_dataset"
   ]
  },
  {
   "cell_type": "code",
   "execution_count": 167,
   "metadata": {
    "pycharm": {
     "name": "#%%\n"
    }
   },
   "outputs": [
    {
     "data": {
      "text/plain": [
       "array([[30, 52, 246, 147, 181, '00001.jpg'],\n",
       "       [100, 19, 576, 203, 103, '00002.jpg'],\n",
       "       [51, 105, 968, 659, 145, '00003.jpg'],\n",
       "       ...,\n",
       "       [33, 27, 602, 252, 17, '08039.jpg'],\n",
       "       [33, 142, 521, 376, 38, '08040.jpg'],\n",
       "       [77, 73, 506, 380, 32, '08041.jpg']], dtype=object)"
      ]
     },
     "execution_count": 167,
     "metadata": {},
     "output_type": "execute_result"
    }
   ],
   "source": [
    "testing_dataset"
   ]
  },
  {
   "cell_type": "code",
   "execution_count": null,
   "metadata": {
    "pycharm": {
     "name": "#%%\n"
    }
   },
   "outputs": [],
   "source": []
  }
 ],
 "metadata": {
  "interpreter": {
   "hash": "66ab87c5544fc6db13c64f97bfe602acaa7473938449ac42fc291f2a1d10efc6"
  },
  "kernelspec": {
   "display_name": "Python 3",
   "language": "python",
   "name": "python3"
  },
  "language_info": {
   "codemirror_mode": {
    "name": "ipython",
    "version": 3
   },
   "file_extension": ".py",
   "mimetype": "text/x-python",
   "name": "python",
   "nbconvert_exporter": "python",
   "pygments_lexer": "ipython3",
   "version": "3.8.5"
  }
 },
 "nbformat": 4,
 "nbformat_minor": 4
}