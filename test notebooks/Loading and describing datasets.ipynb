{
 "cells": [
  {
   "cell_type": "code",
   "execution_count": 1,
   "metadata": {
    "pycharm": {
     "name": "#%%\n"
    }
   },
   "outputs": [],
   "source": [
    "import torch\n",
    "from torch.utils.data import Dataset\n",
    "from torchvision import datasets\n",
    "from torchvision.transforms import ToTensor\n",
    "import matplotlib.pyplot as plt\n",
    "import scipy.io\n",
    "import numpy as np\n",
    "import os\n",
    "import shutil\n",
    "from tqdm import tqdm"
   ]
  },
  {
   "cell_type": "code",
   "execution_count": 2,
   "metadata": {
    "pycharm": {
     "name": "#%%\n"
    }
   },
   "outputs": [],
   "source": [
    "# http://ai.stanford.edu.ezproxy2.utwente.nl/~jkrause/cars/car_dataset.html"
   ]
  },
  {
   "cell_type": "code",
   "execution_count": 3,
   "metadata": {
    "pycharm": {
     "name": "#%%\n"
    }
   },
   "outputs": [],
   "source": [
    "def load_dataset(path):\n",
    "    training_labels = scipy.io.loadmat(path)\n",
    "    res = [np.array([bbox_x1, bbox_y1, bbox_x2, bbox_y2, label, file_name], dtype='object').reshape(-1) \n",
    "           for bbox_x1, bbox_y1, bbox_x2, bbox_y2, label, file_name in training_labels['annotations'][0]]\n",
    "    return np.asarray(res) # Returns bbox_x1, bbox_y1, bbox_x2, bbox_y2, label, file_name\n",
    "\n",
    "def load_labels(path):\n",
    "    mat = scipy.io.loadmat(path)\n",
    "    class_names = [l[0] for l in mat['class_names'][0,:]]\n",
    "    # How stupid that the class indices start with 1... \n",
    "    # Replace the '/' for when creating structure \n",
    "    label_map = {idx+1: name.replace('/', '_') for idx, name in enumerate(class_names)}\n",
    "    return label_map # {class_index: label}\n",
    "\n",
    "def lookup_class_idx_by_file_name(dataset, file_name):\n",
    "    idx = np.where(dataset[:, 5]==file_name) # Do lookup by file_name\n",
    "    class_idx = dataset[idx, 4]\n",
    "    return class_idx[0,0]"
   ]
  },
  {
   "cell_type": "code",
   "execution_count": 7,
   "metadata": {
    "pycharm": {
     "name": "#%%\n"
    }
   },
   "outputs": [],
   "source": [
    "global_path = '../data/StanfordCars'\n",
    "training_imgs_path = global_path+'/cars_train'\n",
    "testing_imgs_path = global_path+'/cars_test'\n",
    "\n",
    "training_dataset = load_dataset(global_path+'/annotations/cars_train_annos.mat')\n",
    "testing_dataset = load_dataset(global_path+'/annotations/cars_test_annos_withlabels.mat')\n",
    "label_map= load_labels(global_path+'/annotations/cars_meta.mat')"
   ]
  },
  {
   "cell_type": "code",
   "execution_count": 11,
   "metadata": {
    "pycharm": {
     "name": "#%%\n"
    }
   },
   "outputs": [],
   "source": [
    "# Create structure for loading into PyTorch Dataset model\n",
    "folder_name = 'pytorch_structured_dataset'\n",
    "folder_path = os.path.join(global_path, folder_name)\n",
    "def mkdir_if_not_exists(dirpath):\n",
    "    if not os.path.exists(dirpath):\n",
    "        os.mkdir(dirpath)\n",
    "\n",
    "mkdir_if_not_exists(folder_path)\n",
    "for subfolder in ['train', 'val']:\n",
    "    subfolder_path = os.path.join(folder_path, subfolder)\n",
    "    mkdir_if_not_exists(subfolder_path)\n",
    "    for label in label_map.values():\n",
    "        mkdir_if_not_exists(os.path.join(subfolder_path, label))"
   ]
  },
  {
   "cell_type": "code",
   "execution_count": 12,
   "metadata": {
    "pycharm": {
     "name": "#%%\n"
    }
   },
   "outputs": [
    {
     "name": "stderr",
     "output_type": "stream",
     "text": [
      "100%|██████████| 8144/8144 [00:12<00:00, 646.95it/s]\n"
     ]
    }
   ],
   "source": [
    "# Put all the training images into every directory\n",
    "for img_path in tqdm(os.listdir(training_imgs_path)):\n",
    "    # print(training_imgs_path+'/'+img_path)\n",
    "    # Get class by looking up file_name\n",
    "    img_class_idx = lookup_class_idx_by_file_name(training_dataset, img_path)\n",
    "    img_class_label = label_map[img_class_idx]\n",
    "    \n",
    "    src = training_imgs_path+'/'+img_path\n",
    "    dst = global_path+'/'+folder_name+'/train/'+label+'/'+img_path\n",
    "    shutil.copyfile(src, dst)"
   ]
  },
  {
   "cell_type": "code",
   "execution_count": null,
   "metadata": {
    "pycharm": {
     "name": "#%%\n",
     "is_executing": true
    }
   },
   "outputs": [
    {
     "name": "stderr",
     "output_type": "stream",
     "text": [
      " 78%|███████▊  | 6271/8041 [00:09<00:03, 588.27it/s]"
     ]
    }
   ],
   "source": [
    "for img_path in tqdm(os.listdir(testing_imgs_path)):\n",
    "    # print(training_imgs_path+'/'+img_path)\n",
    "    # Get class by looking up file_name\n",
    "    img_class_idx = lookup_class_idx_by_file_name(testing_dataset, img_path)\n",
    "    img_class_label = label_map[img_class_idx]\n",
    "    \n",
    "    src = testing_imgs_path+'/'+img_path\n",
    "    dst = global_path+'/'+folder_name+'/val/'+label+'/'+img_path\n",
    "    shutil.copyfile(src, dst)"
   ]
  },
  {
   "cell_type": "code",
   "execution_count": null,
   "metadata": {
    "pycharm": {
     "name": "#%%\n",
     "is_executing": true
    },
    "scrolled": false
   },
   "outputs": [],
   "source": [
    "# Distributions of the classes\n",
    "unique, counts = np.unique(training_dataset[:, 4], return_counts=True)\n",
    "plt.figure(figsize=(10, 7), dpi=90)\n",
    "plt.bar(range(0, len(counts)), counts)"
   ]
  },
  {
   "cell_type": "code",
   "execution_count": null,
   "metadata": {
    "pycharm": {
     "name": "#%%\n"
    }
   },
   "outputs": [],
   "source": []
  },
  {
   "cell_type": "code",
   "execution_count": null,
   "metadata": {
    "pycharm": {
     "name": "#%%\n"
    }
   },
   "outputs": [],
   "source": []
  },
  {
   "cell_type": "code",
   "execution_count": null,
   "metadata": {
    "pycharm": {
     "name": "#%%\n"
    }
   },
   "outputs": [],
   "source": []
  },
  {
   "cell_type": "code",
   "execution_count": null,
   "metadata": {
    "pycharm": {
     "name": "#%%\n"
    }
   },
   "outputs": [],
   "source": []
  },
  {
   "cell_type": "code",
   "execution_count": null,
   "metadata": {
    "pycharm": {
     "name": "#%%\n"
    }
   },
   "outputs": [],
   "source": []
  }
 ],
 "metadata": {
  "kernelspec": {
   "display_name": "Python 3 (ipykernel)",
   "language": "python",
   "name": "python3"
  },
  "language_info": {
   "codemirror_mode": {
    "name": "ipython",
    "version": 3
   },
   "file_extension": ".py",
   "mimetype": "text/x-python",
   "name": "python",
   "nbconvert_exporter": "python",
   "pygments_lexer": "ipython3",
   "version": "3.9.12"
  }
 },
 "nbformat": 4,
 "nbformat_minor": 4
}