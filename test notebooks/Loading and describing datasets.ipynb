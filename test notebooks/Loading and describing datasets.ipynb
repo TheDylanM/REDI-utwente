{
 "cells": [
  {
   "cell_type": "code",
   "execution_count": 15,
   "metadata": {
    "pycharm": {
     "name": "#%%\n"
    }
   },
   "outputs": [],
   "source": [
    "import torch\n",
    "from torch.utils.data import Dataset\n",
    "from torchvision import datasets\n",
    "from torchvision.transforms import ToTensor\n",
    "import matplotlib.pyplot as plt\n",
    "import scipy.io\n",
    "import numpy as np\n",
    "import os\n",
    "import shutil\n",
    "from tqdm import tqdm"
   ]
  },
  {
   "cell_type": "code",
   "execution_count": 16,
   "metadata": {
    "pycharm": {
     "name": "#%%\n"
    }
   },
   "outputs": [],
   "source": [
    "# http://ai.stanford.edu.ezproxy2.utwente.nl/~jkrause/cars/car_dataset.html"
   ]
  },
  {
   "cell_type": "code",
   "execution_count": 17,
   "metadata": {
    "pycharm": {
     "name": "#%%\n"
    }
   },
   "outputs": [],
   "source": [
    "def load_dataset(path):\n",
    "    training_labels = scipy.io.loadmat(path)\n",
    "    res = [np.array([bbox_x1, bbox_y1, bbox_x2, bbox_y2, label, file_name], dtype='object').reshape(-1) \n",
    "           for bbox_x1, bbox_y1, bbox_x2, bbox_y2, label, file_name in training_labels['annotations'][0]]\n",
    "    return np.asarray(res) # Returns bbox_x1, bbox_y1, bbox_x2, bbox_y2, label, file_name\n",
    "\n",
    "def load_labels(path):\n",
    "    mat = scipy.io.loadmat(path)\n",
    "    class_names = [l[0] for l in mat['class_names'][0,:]]\n",
    "    # How stupid that the class indices start with 1... \n",
    "    # Replace the '/' for when creating structure \n",
    "    label_map = {idx+1: name.replace('/', '_') for idx, name in enumerate(class_names)}\n",
    "    return label_map # {class_index: label}\n",
    "\n",
    "def lookup_class_idx_by_file_name(dataset, file_name):\n",
    "    idx = np.where(dataset[:, 5]==file_name) # Do lookup by file_name\n",
    "    class_idx = dataset[idx, 4]\n",
    "    return class_idx[0,0]"
   ]
  },
  {
   "cell_type": "markdown",
   "source": [
    "### Paths\n",
    "To use this notebooks correctly adjust the paths below to your corresponding directories:\n",
    "\n",
    "from `http://ai.stanford.edu.ezproxy2.utwente.nl/~jkrause/cars/car_dataset.html` download the:\n",
    "- <b>cars_train</b> (training images)\n",
    "- <b>cars_test</b> (testing images)\n",
    "- <b>annotations</b> (devkit + test annotations, the test annotation can be downloaded from the 'update' paragraph)\n",
    "\n",
    "File structure you need to create must look like: \n",
    "```\n",
    "data\n",
    "│   \n",
    "└───StanfordCars\n",
    "    │\n",
    "    └───cars_train\n",
    "    │    +   [training_images...]\n",
    "    └───cars_test\n",
    "    │    +   [testing_images...]\n",
    "    └───annotations\n",
    "         +  cars_train_annos.mat\n",
    "         +  cars_test_annos_withlabels.mat\n",
    "         +  cars_meta.mat\n",
    "```"
   ],
   "metadata": {
    "collapsed": false,
    "pycharm": {
     "name": "#%% md\n"
    }
   }
  },
  {
   "cell_type": "code",
   "execution_count": null,
   "outputs": [],
   "source": [
    "global_path = '../data/StanfordCars'\n",
    "training_imgs_path = global_path+'/cars_train'\n",
    "testing_imgs_path = global_path+'/cars_test'\n",
    "\n",
    "training_dataset = load_dataset(global_path+'/annotations/cars_train_annos.mat')\n",
    "testing_dataset = load_dataset(global_path+'/annotations/cars_test_annos_withlabels.mat')\n",
    "label_map= load_labels(global_path+'/annotations/cars_meta.mat')"
   ],
   "metadata": {
    "collapsed": false,
    "pycharm": {
     "name": "#%%\n"
    }
   }
  },
  {
   "cell_type": "code",
   "execution_count": null,
   "outputs": [],
   "source": [
    "# Create structure for loading into PyTorch Dataset model\n",
    "folder_name = 'pytorch_structured_dataset'\n",
    "folder_path = os.path.join(global_path, folder_name)\n",
    "def mkdir_if_not_exists(dirpath):\n",
    "    if not os.path.exists(dirpath):\n",
    "        os.mkdir(dirpath)\n",
    "\n",
    "mkdir_if_not_exists(folder_path)\n",
    "for subfolder_name in ['train', 'val']:\n",
    "    subfolder_path = os.path.join(folder_path, subfolder_name)\n",
    "    mkdir_if_not_exists(subfolder_path)\n",
    "    for label in label_map.values():\n",
    "        mkdir_if_not_exists(os.path.join(subfolder_path, label))"
   ],
   "metadata": {
    "collapsed": false,
    "pycharm": {
     "name": "#%%\n"
    }
   }
  },
  {
   "cell_type": "code",
   "execution_count": null,
   "outputs": [],
   "source": [
    "# Put all the training images into every directory\n",
    "imgs_path = {\n",
    "    'train': training_imgs_path,\n",
    "    'val': testing_imgs_path\n",
    "}\n",
    "dataset = {\n",
    "    'train': training_dataset,\n",
    "    'val': testing_dataset\n",
    "}\n",
    "for subfolder_name in ['train', 'val']:\n",
    "\n",
    "    for img_path in tqdm(os.listdir(imgs_path[subfolder_name])):\n",
    "        # print(training_imgs_path+'/'+img_path)\n",
    "        # Get class by looking up file_name\n",
    "        img_class_idx = lookup_class_idx_by_file_name(dataset[subfolder_name], img_path)\n",
    "        img_class_label = label_map[img_class_idx]\n",
    "\n",
    "        src = os.path.join(imgs_path[subfolder_name], img_path)\n",
    "        dst = os.path.join(global_path, folder_name, subfolder_name, img_class_label, img_path)\n",
    "        # dst = global_path+'/'+folder_name+'/train/'+img_class_label+'/'+img_path\n",
    "        shutil.copyfile(src, dst)"
   ],
   "metadata": {
    "collapsed": false,
    "pycharm": {
     "name": "#%%\n"
    }
   }
  },
  {
   "cell_type": "code",
   "execution_count": 25,
   "metadata": {
    "pycharm": {
     "name": "#%%\n"
    }
   },
   "outputs": [
    {
     "name": "stderr",
     "output_type": "stream",
     "text": [
      "100%|██████████| 8144/8144 [00:08<00:00, 931.67it/s] \n",
      "100%|██████████| 8041/8041 [00:09<00:00, 861.17it/s] \n"
     ]
    }
   ],
   "source": [
    "# Put all the training images into every directory\n",
    "imgs_path = {\n",
    "    'train': training_imgs_path,\n",
    "    'val': testing_imgs_path\n",
    "}\n",
    "dataset = {\n",
    "    'train': training_dataset,\n",
    "    'val': testing_dataset\n",
    "}\n",
    "for subfolder_name in ['train', 'val']:\n",
    "\n",
    "    for img_path in tqdm(os.listdir(imgs_path[subfolder_name])):\n",
    "        # print(training_imgs_path+'/'+img_path)\n",
    "        # Get class by looking up file_name\n",
    "        img_class_idx = lookup_class_idx_by_file_name(training_dataset, img_path)\n",
    "        img_class_label = label_map[img_class_idx]\n",
    "\n",
    "        src = os.path.join(imgs_path[subfolder_name], img_path)\n",
    "        dst = os.path.join(global_path, folder_name, subfolder_name, img_class_label, img_path)\n",
    "        # dst = global_path+'/'+folder_name+'/train/'+img_class_label+'/'+img_path\n",
    "        shutil.copyfile(src, dst)"
   ]
  },
  {
   "cell_type": "code",
   "execution_count": 26,
   "metadata": {
    "pycharm": {
     "name": "#%%\n"
    },
    "scrolled": false
   },
   "outputs": [
    {
     "data": {
      "text/plain": [
       "<BarContainer object of 196 artists>"
      ]
     },
     "execution_count": 26,
     "metadata": {},
     "output_type": "execute_result"
    },
    {
     "data": {
      "image/png": "[encoded data removed]",
      "text/plain": [
       "<Figure size 900x630 with 1 Axes>"
      ]
     },
     "metadata": {
      "needs_background": "light"
     },
     "output_type": "display_data"
    }
   ],
   "source": [
    "# Distributions of the classes\n",
    "unique, counts = np.unique(training_dataset[:, 4], return_counts=True)\n",
    "plt.figure(figsize=(10, 7), dpi=90)\n",
    "plt.bar(range(0, len(counts)), counts)"
   ]
  },
  {
   "cell_type": "code",
   "execution_count": null,
   "metadata": {
    "pycharm": {
     "name": "#%%\n"
    }
   },
   "outputs": [],
   "source": []
  },
  {
   "cell_type": "code",
   "execution_count": null,
   "metadata": {
    "pycharm": {
     "name": "#%%\n"
    }
   },
   "outputs": [],
   "source": []
  },
  {
   "cell_type": "code",
   "execution_count": null,
   "metadata": {
    "pycharm": {
     "name": "#%%\n"
    }
   },
   "outputs": [],
   "source": []
  },
  {
   "cell_type": "code",
   "execution_count": null,
   "metadata": {
    "pycharm": {
     "name": "#%%\n"
    }
   },
   "outputs": [],
   "source": []
  },
  {
   "cell_type": "code",
   "execution_count": null,
   "metadata": {
    "pycharm": {
     "name": "#%%\n"
    }
   },
   "outputs": [],
   "source": []
  }
 ],
 "metadata": {
  "kernelspec": {
   "display_name": "Python 3 (ipykernel)",
   "language": "python",
   "name": "python3"
  },
  "language_info": {
   "codemirror_mode": {
    "name": "ipython",
    "version": 3
   },
   "file_extension": ".py",
   "mimetype": "text/x-python",
   "name": "python",
   "nbconvert_exporter": "python",
   "pygments_lexer": "ipython3",
   "version": "3.9.12"
  }
 },
 "nbformat": 4,
 "nbformat_minor": 4
}